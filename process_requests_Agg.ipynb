{
 "cells": [
  {
   "cell_type": "code",
   "execution_count": 0,
   "metadata": {
    "application/vnd.databricks.v1+cell": {
     "cellMetadata": {},
     "inputWidgets": {},
     "nuid": "051529bf-a75e-4648-9eb3-1b977a3b43e2",
     "showTitle": false,
     "title": ""
    }
   },
   "outputs": [
    {
     "output_type": "display_data",
     "data": {
      "text/html": [
       "<style scoped>\n",
       "  .ansiout {\n",
       "    display: block;\n",
       "    unicode-bidi: embed;\n",
       "    white-space: pre-wrap;\n",
       "    word-wrap: break-word;\n",
       "    word-break: break-all;\n",
       "    font-family: \"Source Code Pro\", \"Menlo\", monospace;;\n",
       "    font-size: 13px;\n",
       "    color: #555;\n",
       "    margin-left: 4px;\n",
       "    line-height: 19px;\n",
       "  }\n",
       "</style>\n",
       "<div class=\"ansiout\"></div>"
      ]
     },
     "metadata": {
      "application/vnd.databricks.v1+output": {
       "addedWidgets": {},
       "arguments": {},
       "data": "<div class=\"ansiout\"></div>",
       "datasetInfos": [],
       "metadata": {},
       "removedWidgets": [],
       "type": "html"
      }
     },
     "output_type": "display_data"
    }
   ],
   "source": [
    "dbutils.widgets.text(\"environment_code\", defaultValue=\"\")\n",
    "dbutils.widgets.text(\"str_day\", defaultValue=\"\")\n",
    "#dbutils.widgets.text(\"Data_source\", defaultValue=\"saas-analytics-io.raw.yt1-ingress-requests\")\n",
    "#dbutils.widgets.text(\"BQ_AGG_out\", defaultValue=\"saas-analytics-io.processed.yt1_ingress_requests_agg\")\n",
    "\n",
    "environment_code = dbutils.widgets.get(\"environment_code\")\n",
    "str_day = dbutils.widgets.get(\"str_day\")\n",
    "#Data_source = dbutils.widgets.get(\"Data_source\")\n",
    "#BQ_AGG_out = dbutils.widgets.get(\"Data_source\")"
   ]
  },
  {
   "cell_type": "code",
   "execution_count": 0,
   "metadata": {
    "application/vnd.databricks.v1+cell": {
     "cellMetadata": {},
     "inputWidgets": {},
     "nuid": "ed1bf382-3b6d-4303-b848-e6e664438ab1",
     "showTitle": false,
     "title": ""
    }
   },
   "outputs": [
    {
     "output_type": "display_data",
     "data": {
      "text/html": [
       "<style scoped>\n",
       "  .ansiout {\n",
       "    display: block;\n",
       "    unicode-bidi: embed;\n",
       "    white-space: pre-wrap;\n",
       "    word-wrap: break-word;\n",
       "    word-break: break-all;\n",
       "    font-family: \"Source Code Pro\", \"Menlo\", monospace;;\n",
       "    font-size: 13px;\n",
       "    color: #555;\n",
       "    margin-left: 4px;\n",
       "    line-height: 19px;\n",
       "  }\n",
       "</style>\n",
       "<div class=\"ansiout\">Requirement already satisfied: pandas-gbq in /databricks/python3/lib/python3.8/site-packages (0.15.0)\r\n",
       "Requirement already satisfied: google-auth in /databricks/python3/lib/python3.8/site-packages (from pandas-gbq) (2.14.1)\r\n",
       "Requirement already satisfied: google-cloud-bigquery[bqstorage,pandas]!=2.4.*,&lt;3.0.0dev,&gt;=1.11.1 in /databricks/python3/lib/python3.8/site-packages (from pandas-gbq) (2.34.4)\r\n",
       "Requirement already satisfied: google-auth-oauthlib in /databricks/python3/lib/python3.8/site-packages (from pandas-gbq) (0.7.1)\r\n",
       "Requirement already satisfied: setuptools in /usr/local/lib/python3.8/dist-packages (from pandas-gbq) (52.0.0)\r\n",
       "Requirement already satisfied: pydata-google-auth in /databricks/python3/lib/python3.8/site-packages (from pandas-gbq) (1.4.0)\r\n",
       "Requirement already satisfied: pandas&gt;=0.23.2 in /databricks/python3/lib/python3.8/site-packages (from pandas-gbq) (1.2.4)\r\n",
       "Requirement already satisfied: packaging&lt;22.0dev,&gt;=14.3 in /databricks/python3/lib/python3.8/site-packages (from google-cloud-bigquery[bqstorage,pandas]!=2.4.*,&lt;3.0.0dev,&gt;=1.11.1-&gt;pandas-gbq) (20.9)\r\n",
       "Requirement already satisfied: requests&lt;3.0.0dev,&gt;=2.18.0 in /databricks/python3/lib/python3.8/site-packages (from google-cloud-bigquery[bqstorage,pandas]!=2.4.*,&lt;3.0.0dev,&gt;=1.11.1-&gt;pandas-gbq) (2.25.1)\r\n",
       "Requirement already satisfied: protobuf&lt;4.0.0dev,&gt;=3.12.0 in /databricks/python3/lib/python3.8/site-packages (from google-cloud-bigquery[bqstorage,pandas]!=2.4.*,&lt;3.0.0dev,&gt;=1.11.1-&gt;pandas-gbq) (3.20.3)\r\n",
       "Requirement already satisfied: google-cloud-core&lt;3.0.0dev,&gt;=1.4.1 in /databricks/python3/lib/python3.8/site-packages (from google-cloud-bigquery[bqstorage,pandas]!=2.4.*,&lt;3.0.0dev,&gt;=1.11.1-&gt;pandas-gbq) (2.3.2)\r\n",
       "Requirement already satisfied: grpcio&lt;2.0dev,&gt;=1.38.1 in /databricks/python3/lib/python3.8/site-packages (from google-cloud-bigquery[bqstorage,pandas]!=2.4.*,&lt;3.0.0dev,&gt;=1.11.1-&gt;pandas-gbq) (1.50.0)\r\n",
       "Requirement already satisfied: python-dateutil&lt;3.0dev,&gt;=2.7.2 in /databricks/python3/lib/python3.8/site-packages (from google-cloud-bigquery[bqstorage,pandas]!=2.4.*,&lt;3.0.0dev,&gt;=1.11.1-&gt;pandas-gbq) (2.8.1)\r\n",
       "Requirement already satisfied: proto-plus&lt;2.0.0dev,&gt;=1.15.0 in /databricks/python3/lib/python3.8/site-packages (from google-cloud-bigquery[bqstorage,pandas]!=2.4.*,&lt;3.0.0dev,&gt;=1.11.1-&gt;pandas-gbq) (1.22.1)\r\n",
       "Requirement already satisfied: google-resumable-media&lt;3.0dev,&gt;=0.6.0 in /databricks/python3/lib/python3.8/site-packages (from google-cloud-bigquery[bqstorage,pandas]!=2.4.*,&lt;3.0.0dev,&gt;=1.11.1-&gt;pandas-gbq) (2.4.0)\r\n",
       "Requirement already satisfied: google-api-core[grpc]!=2.0.*,!=2.1.*,!=2.2.*,!=2.3.0,&lt;3.0.0dev,&gt;=1.31.5 in /databricks/python3/lib/python3.8/site-packages (from google-cloud-bigquery[bqstorage,pandas]!=2.4.*,&lt;3.0.0dev,&gt;=1.11.1-&gt;pandas-gbq) (2.10.2)\r\n",
       "Requirement already satisfied: pyarrow&lt;8.0dev,&gt;=3.0.0 in /databricks/python3/lib/python3.8/site-packages (from google-cloud-bigquery[bqstorage,pandas]!=2.4.*,&lt;3.0.0dev,&gt;=1.11.1-&gt;pandas-gbq) (4.0.0)\r\n",
       "Requirement already satisfied: google-cloud-bigquery-storage&lt;3.0.0dev,&gt;=2.0.0 in /databricks/python3/lib/python3.8/site-packages (from google-cloud-bigquery[bqstorage,pandas]!=2.4.*,&lt;3.0.0dev,&gt;=1.11.1-&gt;pandas-gbq) (2.16.2)\r\n",
       "Requirement already satisfied: googleapis-common-protos&lt;2.0dev,&gt;=1.56.2 in /databricks/python3/lib/python3.8/site-packages (from google-api-core[grpc]!=2.0.*,!=2.1.*,!=2.2.*,!=2.3.0,&lt;3.0.0dev,&gt;=1.31.5-&gt;google-cloud-bigquery[bqstorage,pandas]!=2.4.*,&lt;3.0.0dev,&gt;=1.11.1-&gt;pandas-gbq) (1.56.4)\r\n",
       "Requirement already satisfied: grpcio-status&lt;2.0dev,&gt;=1.33.2 in /databricks/python3/lib/python3.8/site-packages (from google-api-core[grpc]!=2.0.*,!=2.1.*,!=2.2.*,!=2.3.0,&lt;3.0.0dev,&gt;=1.31.5-&gt;google-cloud-bigquery[bqstorage,pandas]!=2.4.*,&lt;3.0.0dev,&gt;=1.11.1-&gt;pandas-gbq) (1.48.2)\r\n",
       "Requirement already satisfied: six&gt;=1.9.0 in /databricks/python3/lib/python3.8/site-packages (from google-auth-&gt;pandas-gbq) (1.15.0)\r\n",
       "Requirement already satisfied: rsa&lt;5,&gt;=3.1.4 in /databricks/python3/lib/python3.8/site-packages (from google-auth-&gt;pandas-gbq) (4.9)\r\n",
       "Requirement already satisfied: cachetools&lt;6.0,&gt;=2.0.0 in /databricks/python3/lib/python3.8/site-packages (from google-auth-&gt;pandas-gbq) (5.2.0)\r\n",
       "Requirement already satisfied: pyasn1-modules&gt;=0.2.1 in /databricks/python3/lib/python3.8/site-packages (from google-auth-&gt;pandas-gbq) (0.2.8)\r\n",
       "Requirement already satisfied: google-crc32c&lt;2.0dev,&gt;=1.0 in /databricks/python3/lib/python3.8/site-packages (from google-resumable-media&lt;3.0dev,&gt;=0.6.0-&gt;google-cloud-bigquery[bqstorage,pandas]!=2.4.*,&lt;3.0.0dev,&gt;=1.11.1-&gt;pandas-gbq) (1.5.0)\r\n",
       "Requirement already satisfied: pyparsing&gt;=2.0.2 in /databricks/python3/lib/python3.8/site-packages (from packaging&lt;22.0dev,&gt;=14.3-&gt;google-cloud-bigquery[bqstorage,pandas]!=2.4.*,&lt;3.0.0dev,&gt;=1.11.1-&gt;pandas-gbq) (2.4.7)\r\n",
       "Requirement already satisfied: pytz&gt;=2017.3 in /databricks/python3/lib/python3.8/site-packages (from pandas&gt;=0.23.2-&gt;pandas-gbq) (2020.5)\r\n",
       "Requirement already satisfied: numpy&gt;=1.16.5 in /databricks/python3/lib/python3.8/site-packages (from pandas&gt;=0.23.2-&gt;pandas-gbq) (1.19.2)\r\n",
       "Requirement already satisfied: pyasn1&lt;0.5.0,&gt;=0.4.6 in /databricks/python3/lib/python3.8/site-packages (from pyasn1-modules&gt;=0.2.1-&gt;google-auth-&gt;pandas-gbq) (0.4.8)\r\n",
       "Requirement already satisfied: urllib3&lt;1.27,&gt;=1.21.1 in /databricks/python3/lib/python3.8/site-packages (from requests&lt;3.0.0dev,&gt;=2.18.0-&gt;google-cloud-bigquery[bqstorage,pandas]!=2.4.*,&lt;3.0.0dev,&gt;=1.11.1-&gt;pandas-gbq) (1.25.11)\r\n",
       "Requirement already satisfied: idna&lt;3,&gt;=2.5 in /databricks/python3/lib/python3.8/site-packages (from requests&lt;3.0.0dev,&gt;=2.18.0-&gt;google-cloud-bigquery[bqstorage,pandas]!=2.4.*,&lt;3.0.0dev,&gt;=1.11.1-&gt;pandas-gbq) (2.10)\r\n",
       "Requirement already satisfied: certifi&gt;=2017.4.17 in /databricks/python3/lib/python3.8/site-packages (from requests&lt;3.0.0dev,&gt;=2.18.0-&gt;google-cloud-bigquery[bqstorage,pandas]!=2.4.*,&lt;3.0.0dev,&gt;=1.11.1-&gt;pandas-gbq) (2020.12.5)\r\n",
       "Requirement already satisfied: chardet&lt;5,&gt;=3.0.2 in /databricks/python3/lib/python3.8/site-packages (from requests&lt;3.0.0dev,&gt;=2.18.0-&gt;google-cloud-bigquery[bqstorage,pandas]!=2.4.*,&lt;3.0.0dev,&gt;=1.11.1-&gt;pandas-gbq) (4.0.0)\r\n",
       "Requirement already satisfied: requests-oauthlib&gt;=0.7.0 in /databricks/python3/lib/python3.8/site-packages (from google-auth-oauthlib-&gt;pandas-gbq) (1.3.1)\r\n",
       "Requirement already satisfied: oauthlib&gt;=3.0.0 in /databricks/python3/lib/python3.8/site-packages (from requests-oauthlib&gt;=0.7.0-&gt;google-auth-oauthlib-&gt;pandas-gbq) (3.2.2)\r\n",
       "<span class=\"ansi-yellow-fg\">WARNING: You are using pip version 21.0.1; however, version 22.3.1 is available.\r\n",
       "You should consider upgrading via the &#39;/databricks/python3/bin/python -m pip install --upgrade pip&#39; command.</span>\r\n",
       "Requirement already satisfied: google-cloud in /databricks/python3/lib/python3.8/site-packages (0.34.0)\r\n",
       "<span class=\"ansi-yellow-fg\">WARNING: You are using pip version 21.0.1; however, version 22.3.1 is available.\r\n",
       "You should consider upgrading via the &#39;/databricks/python3/bin/python -m pip install --upgrade pip&#39; command.</span>\r\n",
       "</div>"
      ]
     },
     "metadata": {
      "application/vnd.databricks.v1+output": {
       "addedWidgets": {},
       "arguments": {},
       "data": "<div class=\"ansiout\">Requirement already satisfied: pandas-gbq in /databricks/python3/lib/python3.8/site-packages (0.15.0)\r\nRequirement already satisfied: google-auth in /databricks/python3/lib/python3.8/site-packages (from pandas-gbq) (2.14.1)\r\nRequirement already satisfied: google-cloud-bigquery[bqstorage,pandas]!=2.4.*,&lt;3.0.0dev,&gt;=1.11.1 in /databricks/python3/lib/python3.8/site-packages (from pandas-gbq) (2.34.4)\r\nRequirement already satisfied: google-auth-oauthlib in /databricks/python3/lib/python3.8/site-packages (from pandas-gbq) (0.7.1)\r\nRequirement already satisfied: setuptools in /usr/local/lib/python3.8/dist-packages (from pandas-gbq) (52.0.0)\r\nRequirement already satisfied: pydata-google-auth in /databricks/python3/lib/python3.8/site-packages (from pandas-gbq) (1.4.0)\r\nRequirement already satisfied: pandas&gt;=0.23.2 in /databricks/python3/lib/python3.8/site-packages (from pandas-gbq) (1.2.4)\r\nRequirement already satisfied: packaging&lt;22.0dev,&gt;=14.3 in /databricks/python3/lib/python3.8/site-packages (from google-cloud-bigquery[bqstorage,pandas]!=2.4.*,&lt;3.0.0dev,&gt;=1.11.1-&gt;pandas-gbq) (20.9)\r\nRequirement already satisfied: requests&lt;3.0.0dev,&gt;=2.18.0 in /databricks/python3/lib/python3.8/site-packages (from google-cloud-bigquery[bqstorage,pandas]!=2.4.*,&lt;3.0.0dev,&gt;=1.11.1-&gt;pandas-gbq) (2.25.1)\r\nRequirement already satisfied: protobuf&lt;4.0.0dev,&gt;=3.12.0 in /databricks/python3/lib/python3.8/site-packages (from google-cloud-bigquery[bqstorage,pandas]!=2.4.*,&lt;3.0.0dev,&gt;=1.11.1-&gt;pandas-gbq) (3.20.3)\r\nRequirement already satisfied: google-cloud-core&lt;3.0.0dev,&gt;=1.4.1 in /databricks/python3/lib/python3.8/site-packages (from google-cloud-bigquery[bqstorage,pandas]!=2.4.*,&lt;3.0.0dev,&gt;=1.11.1-&gt;pandas-gbq) (2.3.2)\r\nRequirement already satisfied: grpcio&lt;2.0dev,&gt;=1.38.1 in /databricks/python3/lib/python3.8/site-packages (from google-cloud-bigquery[bqstorage,pandas]!=2.4.*,&lt;3.0.0dev,&gt;=1.11.1-&gt;pandas-gbq) (1.50.0)\r\nRequirement already satisfied: python-dateutil&lt;3.0dev,&gt;=2.7.2 in /databricks/python3/lib/python3.8/site-packages (from google-cloud-bigquery[bqstorage,pandas]!=2.4.*,&lt;3.0.0dev,&gt;=1.11.1-&gt;pandas-gbq) (2.8.1)\r\nRequirement already satisfied: proto-plus&lt;2.0.0dev,&gt;=1.15.0 in /databricks/python3/lib/python3.8/site-packages (from google-cloud-bigquery[bqstorage,pandas]!=2.4.*,&lt;3.0.0dev,&gt;=1.11.1-&gt;pandas-gbq) (1.22.1)\r\nRequirement already satisfied: google-resumable-media&lt;3.0dev,&gt;=0.6.0 in /databricks/python3/lib/python3.8/site-packages (from google-cloud-bigquery[bqstorage,pandas]!=2.4.*,&lt;3.0.0dev,&gt;=1.11.1-&gt;pandas-gbq) (2.4.0)\r\nRequirement already satisfied: google-api-core[grpc]!=2.0.*,!=2.1.*,!=2.2.*,!=2.3.0,&lt;3.0.0dev,&gt;=1.31.5 in /databricks/python3/lib/python3.8/site-packages (from google-cloud-bigquery[bqstorage,pandas]!=2.4.*,&lt;3.0.0dev,&gt;=1.11.1-&gt;pandas-gbq) (2.10.2)\r\nRequirement already satisfied: pyarrow&lt;8.0dev,&gt;=3.0.0 in /databricks/python3/lib/python3.8/site-packages (from google-cloud-bigquery[bqstorage,pandas]!=2.4.*,&lt;3.0.0dev,&gt;=1.11.1-&gt;pandas-gbq) (4.0.0)\r\nRequirement already satisfied: google-cloud-bigquery-storage&lt;3.0.0dev,&gt;=2.0.0 in /databricks/python3/lib/python3.8/site-packages (from google-cloud-bigquery[bqstorage,pandas]!=2.4.*,&lt;3.0.0dev,&gt;=1.11.1-&gt;pandas-gbq) (2.16.2)\r\nRequirement already satisfied: googleapis-common-protos&lt;2.0dev,&gt;=1.56.2 in /databricks/python3/lib/python3.8/site-packages (from google-api-core[grpc]!=2.0.*,!=2.1.*,!=2.2.*,!=2.3.0,&lt;3.0.0dev,&gt;=1.31.5-&gt;google-cloud-bigquery[bqstorage,pandas]!=2.4.*,&lt;3.0.0dev,&gt;=1.11.1-&gt;pandas-gbq) (1.56.4)\r\nRequirement already satisfied: grpcio-status&lt;2.0dev,&gt;=1.33.2 in /databricks/python3/lib/python3.8/site-packages (from google-api-core[grpc]!=2.0.*,!=2.1.*,!=2.2.*,!=2.3.0,&lt;3.0.0dev,&gt;=1.31.5-&gt;google-cloud-bigquery[bqstorage,pandas]!=2.4.*,&lt;3.0.0dev,&gt;=1.11.1-&gt;pandas-gbq) (1.48.2)\r\nRequirement already satisfied: six&gt;=1.9.0 in /databricks/python3/lib/python3.8/site-packages (from google-auth-&gt;pandas-gbq) (1.15.0)\r\nRequirement already satisfied: rsa&lt;5,&gt;=3.1.4 in /databricks/python3/lib/python3.8/site-packages (from google-auth-&gt;pandas-gbq) (4.9)\r\nRequirement already satisfied: cachetools&lt;6.0,&gt;=2.0.0 in /databricks/python3/lib/python3.8/site-packages (from google-auth-&gt;pandas-gbq) (5.2.0)\r\nRequirement already satisfied: pyasn1-modules&gt;=0.2.1 in /databricks/python3/lib/python3.8/site-packages (from google-auth-&gt;pandas-gbq) (0.2.8)\r\nRequirement already satisfied: google-crc32c&lt;2.0dev,&gt;=1.0 in /databricks/python3/lib/python3.8/site-packages (from google-resumable-media&lt;3.0dev,&gt;=0.6.0-&gt;google-cloud-bigquery[bqstorage,pandas]!=2.4.*,&lt;3.0.0dev,&gt;=1.11.1-&gt;pandas-gbq) (1.5.0)\r\nRequirement already satisfied: pyparsing&gt;=2.0.2 in /databricks/python3/lib/python3.8/site-packages (from packaging&lt;22.0dev,&gt;=14.3-&gt;google-cloud-bigquery[bqstorage,pandas]!=2.4.*,&lt;3.0.0dev,&gt;=1.11.1-&gt;pandas-gbq) (2.4.7)\r\nRequirement already satisfied: pytz&gt;=2017.3 in /databricks/python3/lib/python3.8/site-packages (from pandas&gt;=0.23.2-&gt;pandas-gbq) (2020.5)\r\nRequirement already satisfied: numpy&gt;=1.16.5 in /databricks/python3/lib/python3.8/site-packages (from pandas&gt;=0.23.2-&gt;pandas-gbq) (1.19.2)\r\nRequirement already satisfied: pyasn1&lt;0.5.0,&gt;=0.4.6 in /databricks/python3/lib/python3.8/site-packages (from pyasn1-modules&gt;=0.2.1-&gt;google-auth-&gt;pandas-gbq) (0.4.8)\r\nRequirement already satisfied: urllib3&lt;1.27,&gt;=1.21.1 in /databricks/python3/lib/python3.8/site-packages (from requests&lt;3.0.0dev,&gt;=2.18.0-&gt;google-cloud-bigquery[bqstorage,pandas]!=2.4.*,&lt;3.0.0dev,&gt;=1.11.1-&gt;pandas-gbq) (1.25.11)\r\nRequirement already satisfied: idna&lt;3,&gt;=2.5 in /databricks/python3/lib/python3.8/site-packages (from requests&lt;3.0.0dev,&gt;=2.18.0-&gt;google-cloud-bigquery[bqstorage,pandas]!=2.4.*,&lt;3.0.0dev,&gt;=1.11.1-&gt;pandas-gbq) (2.10)\r\nRequirement already satisfied: certifi&gt;=2017.4.17 in /databricks/python3/lib/python3.8/site-packages (from requests&lt;3.0.0dev,&gt;=2.18.0-&gt;google-cloud-bigquery[bqstorage,pandas]!=2.4.*,&lt;3.0.0dev,&gt;=1.11.1-&gt;pandas-gbq) (2020.12.5)\r\nRequirement already satisfied: chardet&lt;5,&gt;=3.0.2 in /databricks/python3/lib/python3.8/site-packages (from requests&lt;3.0.0dev,&gt;=2.18.0-&gt;google-cloud-bigquery[bqstorage,pandas]!=2.4.*,&lt;3.0.0dev,&gt;=1.11.1-&gt;pandas-gbq) (4.0.0)\r\nRequirement already satisfied: requests-oauthlib&gt;=0.7.0 in /databricks/python3/lib/python3.8/site-packages (from google-auth-oauthlib-&gt;pandas-gbq) (1.3.1)\r\nRequirement already satisfied: oauthlib&gt;=3.0.0 in /databricks/python3/lib/python3.8/site-packages (from requests-oauthlib&gt;=0.7.0-&gt;google-auth-oauthlib-&gt;pandas-gbq) (3.2.2)\r\n<span class=\"ansi-yellow-fg\">WARNING: You are using pip version 21.0.1; however, version 22.3.1 is available.\r\nYou should consider upgrading via the &#39;/databricks/python3/bin/python -m pip install --upgrade pip&#39; command.</span>\r\nRequirement already satisfied: google-cloud in /databricks/python3/lib/python3.8/site-packages (0.34.0)\r\n<span class=\"ansi-yellow-fg\">WARNING: You are using pip version 21.0.1; however, version 22.3.1 is available.\r\nYou should consider upgrading via the &#39;/databricks/python3/bin/python -m pip install --upgrade pip&#39; command.</span>\r\n</div>",
       "datasetInfos": [],
       "metadata": {},
       "removedWidgets": [],
       "type": "html"
      }
     },
     "output_type": "display_data"
    }
   ],
   "source": [
    "#!pip install --upgrade pip\n",
    "!pip install pandas-gbq\n",
    "#!pip install google-cloud-bigquery\n",
    "!pip install google-cloud"
   ]
  },
  {
   "cell_type": "code",
   "execution_count": 0,
   "metadata": {
    "application/vnd.databricks.v1+cell": {
     "cellMetadata": {},
     "inputWidgets": {},
     "nuid": "29910646-9623-4b47-a658-f3b338e1484e",
     "showTitle": false,
     "title": ""
    }
   },
   "outputs": [
    {
     "output_type": "display_data",
     "data": {
      "text/html": [
       "<style scoped>\n",
       "  .ansiout {\n",
       "    display: block;\n",
       "    unicode-bidi: embed;\n",
       "    white-space: pre-wrap;\n",
       "    word-wrap: break-word;\n",
       "    word-break: break-all;\n",
       "    font-family: \"Source Code Pro\", \"Menlo\", monospace;;\n",
       "    font-size: 13px;\n",
       "    color: #555;\n",
       "    margin-left: 4px;\n",
       "    line-height: 19px;\n",
       "  }\n",
       "</style>\n",
       "<div class=\"ansiout\"></div>"
      ]
     },
     "metadata": {
      "application/vnd.databricks.v1+output": {
       "addedWidgets": {},
       "arguments": {},
       "data": "<div class=\"ansiout\"></div>",
       "datasetInfos": [],
       "metadata": {},
       "removedWidgets": [],
       "type": "html"
      }
     },
     "output_type": "display_data"
    }
   ],
   "source": [
    "from google.cloud import bigquery\n",
    "import pandas as pd\n",
    "import pandas_gbq\n",
    "import requests\n",
    "import datetime\n",
    "import re\n",
    "import json\n",
    "import plotly.express as px\n",
    "from datetime import date, timedelta\n",
    "#client = bigquery.Client(location=\"us-central1\")\n",
    "#print(\"Client creating using default project: {}\".format(client.project))\n",
    "pd.set_option('display.width', 1000)"
   ]
  },
  {
   "cell_type": "code",
   "execution_count": 0,
   "metadata": {
    "application/vnd.databricks.v1+cell": {
     "cellMetadata": {},
     "inputWidgets": {},
     "nuid": "d4996167-073f-47b7-a09b-66d4141fb145",
     "showTitle": false,
     "title": ""
    }
   },
   "outputs": [
    {
     "output_type": "display_data",
     "data": {
      "text/html": [
       "<style scoped>\n",
       "  .ansiout {\n",
       "    display: block;\n",
       "    unicode-bidi: embed;\n",
       "    white-space: pre-wrap;\n",
       "    word-wrap: break-word;\n",
       "    word-break: break-all;\n",
       "    font-family: \"Source Code Pro\", \"Menlo\", monospace;;\n",
       "    font-size: 13px;\n",
       "    color: #555;\n",
       "    margin-left: 4px;\n",
       "    line-height: 19px;\n",
       "  }\n",
       "</style>\n",
       "<div class=\"ansiout\">2022-12-16\n",
       "</div>"
      ]
     },
     "metadata": {
      "application/vnd.databricks.v1+output": {
       "addedWidgets": {},
       "arguments": {},
       "data": "<div class=\"ansiout\">2022-12-16\n</div>",
       "datasetInfos": [],
       "metadata": {},
       "removedWidgets": [],
       "type": "html"
      }
     },
     "output_type": "display_data"
    }
   ],
   "source": [
    "current_date = datetime.datetime.today()\n",
    "dias_atras = 1\n",
    "str_day = (current_date - timedelta(days = dias_atras)).strftime(\"%Y-%m-%d\")\n",
    "#STR_YEARMONTH = (current_date - timedelta(days = dias_atras)).strftime(\"%Y%m\")\n",
    "#str_day = \"2022-04-16\"\n",
    "#STR_YEARMONTH = \"201908\"\n",
    "print(str_day)"
   ]
  },
  {
   "cell_type": "code",
   "execution_count": 0,
   "metadata": {
    "application/vnd.databricks.v1+cell": {
     "cellMetadata": {},
     "inputWidgets": {},
     "nuid": "0c0a0084-f0cc-4041-a835-28beb08aa198",
     "showTitle": false,
     "title": ""
    }
   },
   "outputs": [
    {
     "output_type": "display_data",
     "data": {
      "text/html": [
       "<style scoped>\n",
       "  .ansiout {\n",
       "    display: block;\n",
       "    unicode-bidi: embed;\n",
       "    white-space: pre-wrap;\n",
       "    word-wrap: break-word;\n",
       "    word-break: break-all;\n",
       "    font-family: \"Source Code Pro\", \"Menlo\", monospace;;\n",
       "    font-size: 13px;\n",
       "    color: #555;\n",
       "    margin-left: 4px;\n",
       "    line-height: 19px;\n",
       "  }\n",
       "</style>\n",
       "<div class=\"ansiout\"></div>"
      ]
     },
     "metadata": {
      "application/vnd.databricks.v1+output": {
       "addedWidgets": {},
       "arguments": {},
       "data": "<div class=\"ansiout\"></div>",
       "datasetInfos": [],
       "metadata": {},
       "removedWidgets": [],
       "type": "html"
      }
     },
     "output_type": "display_data"
    }
   ],
   "source": [
    "#environment_code = 'YT1'"
   ]
  },
  {
   "cell_type": "code",
   "execution_count": 0,
   "metadata": {
    "application/vnd.databricks.v1+cell": {
     "cellMetadata": {},
     "inputWidgets": {},
     "nuid": "82565175-9d6a-4bc4-b5af-1dfd53638f67",
     "showTitle": false,
     "title": ""
    }
   },
   "outputs": [
    {
     "output_type": "display_data",
     "data": {
      "text/html": [
       "<style scoped>\n",
       "  .ansiout {\n",
       "    display: block;\n",
       "    unicode-bidi: embed;\n",
       "    white-space: pre-wrap;\n",
       "    word-wrap: break-word;\n",
       "    word-break: break-all;\n",
       "    font-family: \"Source Code Pro\", \"Menlo\", monospace;;\n",
       "    font-size: 13px;\n",
       "    color: #555;\n",
       "    margin-left: 4px;\n",
       "    line-height: 19px;\n",
       "  }\n",
       "</style>\n",
       "<div class=\"ansiout\">\n",
       "      SELECT time, method, uri, host,status, length, latency\n",
       "      FROM `saas-analytics-io.raw.red-ingress-requests` \n",
       "      WHERE DATE(time) = &#39;2022-12-16&#39;\n",
       "  \n",
       "/databricks/python/lib/python3.8/site-packages/google/cloud/bigquery/table.py:1985: UserWarning: A progress bar was requested, but there was an error loading the tqdm library. Please install tqdm to use the progress bar functionality.\n",
       "  record_batch = self.to_arrow(\n",
       "</div>"
      ]
     },
     "metadata": {
      "application/vnd.databricks.v1+output": {
       "addedWidgets": {},
       "arguments": {},
       "data": "<div class=\"ansiout\">\n      SELECT time, method, uri, host,status, length, latency\n      FROM `saas-analytics-io.raw.red-ingress-requests` \n      WHERE DATE(time) = &#39;2022-12-16&#39;\n  \n/databricks/python/lib/python3.8/site-packages/google/cloud/bigquery/table.py:1985: UserWarning: A progress bar was requested, but there was an error loading the tqdm library. Please install tqdm to use the progress bar functionality.\n  record_batch = self.to_arrow(\n</div>",
       "datasetInfos": [],
       "metadata": {},
       "removedWidgets": [],
       "type": "html"
      }
     },
     "output_type": "display_data"
    }
   ],
   "source": [
    "if (environment_code == 'YT1'):\n",
    "  query = \"\"\"\n",
    "      SELECT time, method, uri, host,status, length, latency\n",
    "      FROM `saas-analytics-io.raw.yt1-ingress-requests` \n",
    "      WHERE DATE(time) = '%s'\n",
    "  \"\"\"%(str_day)\n",
    "  print(query)\n",
    "  df = pandas_gbq.read_gbq(query,project_id ='saas-analytics-io',)\n",
    "if (environment_code == 'YTS1'):\n",
    "  query = \"\"\"\n",
    "      SELECT time, method, uri, host,status, length, latency\n",
    "      FROM `saas-analytics-io.raw.yts1-ingress-requests` \n",
    "      WHERE DATE(time) = '%s'\n",
    "  \"\"\"%(str_day)\n",
    "  print(query)\n",
    "  df = pandas_gbq.read_gbq(query,project_id ='saas-analytics-io',)\n",
    "if (environment_code == 'VT1'):\n",
    "  query = \"\"\"\n",
    "      SELECT time, method, uri, host,status, length, latency\n",
    "      FROM `saas-analytics-io.raw.vt1-ingress-requests` \n",
    "      WHERE DATE(time) = '%s'\n",
    "  \"\"\"%(str_day)\n",
    "  print(query)\n",
    "  df = pandas_gbq.read_gbq(query,project_id ='saas-analytics-io',)\n",
    "if (environment_code == 'VTS1'):\n",
    "  query = \"\"\"\n",
    "      SELECT time, method, uri, host,status, length, latency\n",
    "      FROM `saas-analytics-io.raw.vt1-ingress-requests` \n",
    "      WHERE DATE(time) = '%s'\n",
    "  \"\"\"%(str_day)\n",
    "  print(query)\n",
    "  df = pandas_gbq.read_gbq(query,project_id ='saas-analytics-io',)\n",
    "\n",
    "if (environment_code == 'RED'):\n",
    "  query = \"\"\"\n",
    "      SELECT time, method, uri, host,status, length, latency\n",
    "      FROM `saas-analytics-io.raw.red-ingress-requests` \n",
    "      WHERE DATE(time) = '%s'\n",
    "  \"\"\"%(str_day)\n",
    "  print(query)\n",
    "  df = pandas_gbq.read_gbq(query,project_id ='saas-analytics-io',)\n",
    "if (environment_code == 'STGRED'):\n",
    "  query = \"\"\"\n",
    "      SELECT time, method, uri, host,status, length, latency\n",
    "      FROM `saas-analytics-io.raw.stgred-ingress-requests` \n",
    "      WHERE DATE(time) = '%s'\n",
    "  \"\"\"%(str_day)\n",
    "  print(query)\n",
    "  df = pandas_gbq.read_gbq(query,project_id ='saas-analytics-io',)\n",
    "  \n",
    "\n"
   ]
  },
  {
   "cell_type": "code",
   "execution_count": 0,
   "metadata": {
    "application/vnd.databricks.v1+cell": {
     "cellMetadata": {},
     "inputWidgets": {},
     "nuid": "f6aa5e97-6ef9-45d9-a3c3-eebf0c3b9de6",
     "showTitle": false,
     "title": ""
    }
   },
   "outputs": [
    {
     "output_type": "display_data",
     "data": {
      "text/html": [
       "<style scoped>\n",
       "  .ansiout {\n",
       "    display: block;\n",
       "    unicode-bidi: embed;\n",
       "    white-space: pre-wrap;\n",
       "    word-wrap: break-word;\n",
       "    word-break: break-all;\n",
       "    font-family: \"Source Code Pro\", \"Menlo\", monospace;;\n",
       "    font-size: 13px;\n",
       "    color: #555;\n",
       "    margin-left: 4px;\n",
       "    line-height: 19px;\n",
       "  }\n",
       "</style>\n",
       "<div class=\"ansiout\">Out[81]: </div>"
      ]
     },
     "metadata": {
      "application/vnd.databricks.v1+output": {
       "addedWidgets": {},
       "arguments": {},
       "data": "<div class=\"ansiout\">Out[81]: </div>",
       "datasetInfos": [],
       "metadata": {},
       "removedWidgets": [],
       "type": "html"
      }
     },
     "output_type": "display_data"
    },
    {
     "output_type": "display_data",
     "data": {
      "text/html": [
       "<div>\n",
       "<style scoped>\n",
       "    .dataframe tbody tr th:only-of-type {\n",
       "        vertical-align: middle;\n",
       "    }\n",
       "\n",
       "    .dataframe tbody tr th {\n",
       "        vertical-align: top;\n",
       "    }\n",
       "\n",
       "    .dataframe thead th {\n",
       "        text-align: right;\n",
       "    }\n",
       "</style>\n",
       "<table border=\"1\" class=\"dataframe\">\n",
       "  <thead>\n",
       "    <tr style=\"text-align: right;\">\n",
       "      <th></th>\n",
       "      <th>time</th>\n",
       "      <th>method</th>\n",
       "      <th>uri</th>\n",
       "      <th>host</th>\n",
       "      <th>status</th>\n",
       "      <th>length</th>\n",
       "      <th>latency</th>\n",
       "    </tr>\n",
       "  </thead>\n",
       "  <tbody>\n",
       "    <tr>\n",
       "      <th>0</th>\n",
       "      <td>2022-12-16 22:01:11+00:00</td>\n",
       "      <td>GET</td>\n",
       "      <td>/statemachine-api-configuration/rest/infra/hub...</td>\n",
       "      <td>proxy</td>\n",
       "      <td>200</td>\n",
       "      <td>0.0</td>\n",
       "      <td>0.354</td>\n",
       "    </tr>\n",
       "    <tr>\n",
       "      <th>1</th>\n",
       "      <td>2022-12-16 22:01:51+00:00</td>\n",
       "      <td>GET</td>\n",
       "      <td>/console/scripts/config.js</td>\n",
       "      <td>pr-secure</td>\n",
       "      <td>200</td>\n",
       "      <td>0.0</td>\n",
       "      <td>0.001</td>\n",
       "    </tr>\n",
       "    <tr>\n",
       "      <th>2</th>\n",
       "      <td>2022-12-16 22:02:11+00:00</td>\n",
       "      <td>GET</td>\n",
       "      <td>/statemachine-api-configuration/rest/configura...</td>\n",
       "      <td>proxy</td>\n",
       "      <td>307</td>\n",
       "      <td>0.0</td>\n",
       "      <td>0.015</td>\n",
       "    </tr>\n",
       "    <tr>\n",
       "      <th>3</th>\n",
       "      <td>2022-12-16 22:02:11+00:00</td>\n",
       "      <td>GET</td>\n",
       "      <td>/statemachine-api-configuration/rest/configura...</td>\n",
       "      <td>proxy</td>\n",
       "      <td>200</td>\n",
       "      <td>0.0</td>\n",
       "      <td>0.027</td>\n",
       "    </tr>\n",
       "    <tr>\n",
       "      <th>4</th>\n",
       "      <td>2022-12-16 22:02:11+00:00</td>\n",
       "      <td>GET</td>\n",
       "      <td>/printing-api/rest/printing/status/CHE041/1556...</td>\n",
       "      <td>10.250.0.1</td>\n",
       "      <td>200</td>\n",
       "      <td>0.0</td>\n",
       "      <td>0.025</td>\n",
       "    </tr>\n",
       "  </tbody>\n",
       "</table>\n",
       "</div>"
      ]
     },
     "metadata": {
      "application/vnd.databricks.v1+output": {
       "addedWidgets": {},
       "arguments": {},
       "data": "<div>\n<style scoped>\n    .dataframe tbody tr th:only-of-type {\n        vertical-align: middle;\n    }\n\n    .dataframe tbody tr th {\n        vertical-align: top;\n    }\n\n    .dataframe thead th {\n        text-align: right;\n    }\n</style>\n<table border=\"1\" class=\"dataframe\">\n  <thead>\n    <tr style=\"text-align: right;\">\n      <th></th>\n      <th>time</th>\n      <th>method</th>\n      <th>uri</th>\n      <th>host</th>\n      <th>status</th>\n      <th>length</th>\n      <th>latency</th>\n    </tr>\n  </thead>\n  <tbody>\n    <tr>\n      <th>0</th>\n      <td>2022-12-16 22:01:11+00:00</td>\n      <td>GET</td>\n      <td>/statemachine-api-configuration/rest/infra/hub...</td>\n      <td>proxy</td>\n      <td>200</td>\n      <td>0.0</td>\n      <td>0.354</td>\n    </tr>\n    <tr>\n      <th>1</th>\n      <td>2022-12-16 22:01:51+00:00</td>\n      <td>GET</td>\n      <td>/console/scripts/config.js</td>\n      <td>pr-secure</td>\n      <td>200</td>\n      <td>0.0</td>\n      <td>0.001</td>\n    </tr>\n    <tr>\n      <th>2</th>\n      <td>2022-12-16 22:02:11+00:00</td>\n      <td>GET</td>\n      <td>/statemachine-api-configuration/rest/configura...</td>\n      <td>proxy</td>\n      <td>307</td>\n      <td>0.0</td>\n      <td>0.015</td>\n    </tr>\n    <tr>\n      <th>3</th>\n      <td>2022-12-16 22:02:11+00:00</td>\n      <td>GET</td>\n      <td>/statemachine-api-configuration/rest/configura...</td>\n      <td>proxy</td>\n      <td>200</td>\n      <td>0.0</td>\n      <td>0.027</td>\n    </tr>\n    <tr>\n      <th>4</th>\n      <td>2022-12-16 22:02:11+00:00</td>\n      <td>GET</td>\n      <td>/printing-api/rest/printing/status/CHE041/1556...</td>\n      <td>10.250.0.1</td>\n      <td>200</td>\n      <td>0.0</td>\n      <td>0.025</td>\n    </tr>\n  </tbody>\n</table>\n</div>",
       "datasetInfos": [],
       "metadata": {},
       "removedWidgets": [],
       "textData": null,
       "type": "htmlSandbox"
      }
     },
     "output_type": "display_data"
    }
   ],
   "source": [
    "df.head()"
   ]
  },
  {
   "cell_type": "code",
   "execution_count": 0,
   "metadata": {
    "application/vnd.databricks.v1+cell": {
     "cellMetadata": {},
     "inputWidgets": {},
     "nuid": "93308b5a-5008-428b-8a23-93ff286391ca",
     "showTitle": false,
     "title": ""
    }
   },
   "outputs": [
    {
     "output_type": "display_data",
     "data": {
      "text/html": [
       "<style scoped>\n",
       "  .ansiout {\n",
       "    display: block;\n",
       "    unicode-bidi: embed;\n",
       "    white-space: pre-wrap;\n",
       "    word-wrap: break-word;\n",
       "    word-break: break-all;\n",
       "    font-family: \"Source Code Pro\", \"Menlo\", monospace;;\n",
       "    font-size: 13px;\n",
       "    color: #555;\n",
       "    margin-left: 4px;\n",
       "    line-height: 19px;\n",
       "  }\n",
       "</style>\n",
       "<div class=\"ansiout\"></div>"
      ]
     },
     "metadata": {
      "application/vnd.databricks.v1+output": {
       "addedWidgets": {},
       "arguments": {},
       "data": "<div class=\"ansiout\"></div>",
       "datasetInfos": [],
       "metadata": {},
       "removedWidgets": [],
       "type": "html"
      }
     },
     "output_type": "display_data"
    }
   ],
   "source": [
    "df['date'] = df['time'].astype(str).apply(lambda x: x[:10])\n",
    "df['hour'] = df['time'].astype(str).apply(lambda x: x[11:13])\n",
    "df.loc[:,'uri_lv1'] = df[\"uri\"].str.split('/', expand=True)[1]"
   ]
  },
  {
   "cell_type": "code",
   "execution_count": 0,
   "metadata": {
    "application/vnd.databricks.v1+cell": {
     "cellMetadata": {},
     "inputWidgets": {},
     "nuid": "2aa3347e-6510-4ead-bfad-e1b15148fbc0",
     "showTitle": false,
     "title": ""
    }
   },
   "outputs": [
    {
     "output_type": "display_data",
     "data": {
      "text/html": [
       "<style scoped>\n",
       "  .ansiout {\n",
       "    display: block;\n",
       "    unicode-bidi: embed;\n",
       "    white-space: pre-wrap;\n",
       "    word-wrap: break-word;\n",
       "    word-break: break-all;\n",
       "    font-family: \"Source Code Pro\", \"Menlo\", monospace;;\n",
       "    font-size: 13px;\n",
       "    color: #555;\n",
       "    margin-left: 4px;\n",
       "    line-height: 19px;\n",
       "  }\n",
       "</style>\n",
       "<div class=\"ansiout\"></div>"
      ]
     },
     "metadata": {
      "application/vnd.databricks.v1+output": {
       "addedWidgets": {},
       "arguments": {},
       "data": "<div class=\"ansiout\"></div>",
       "datasetInfos": [],
       "metadata": {},
       "removedWidgets": [],
       "type": "html"
      }
     },
     "output_type": "display_data"
    }
   ],
   "source": [
    "df_agg1 = df.groupby(['date','hour','host','uri_lv1','status','method']).agg(length_sum = (\"length\",\"sum\"),\n",
    "                                                                           latency_mean = (\"latency\",\"mean\"),\n",
    "                                           call_count = (\"date\",\"count\"),).reset_index()"
   ]
  },
  {
   "cell_type": "code",
   "execution_count": 0,
   "metadata": {
    "application/vnd.databricks.v1+cell": {
     "cellMetadata": {},
     "inputWidgets": {},
     "nuid": "66e499da-62a1-4d18-9c2f-996fa126a512",
     "showTitle": false,
     "title": ""
    }
   },
   "outputs": [
    {
     "output_type": "display_data",
     "data": {
      "text/html": [
       "<style scoped>\n",
       "  .ansiout {\n",
       "    display: block;\n",
       "    unicode-bidi: embed;\n",
       "    white-space: pre-wrap;\n",
       "    word-wrap: break-word;\n",
       "    word-break: break-all;\n",
       "    font-family: \"Source Code Pro\", \"Menlo\", monospace;;\n",
       "    font-size: 13px;\n",
       "    color: #555;\n",
       "    margin-left: 4px;\n",
       "    line-height: 19px;\n",
       "  }\n",
       "</style>\n",
       "<div class=\"ansiout\">Out[84]: </div>"
      ]
     },
     "metadata": {
      "application/vnd.databricks.v1+output": {
       "addedWidgets": {},
       "arguments": {},
       "data": "<div class=\"ansiout\">Out[84]: </div>",
       "datasetInfos": [],
       "metadata": {},
       "removedWidgets": [],
       "type": "html"
      }
     },
     "output_type": "display_data"
    },
    {
     "output_type": "display_data",
     "data": {
      "text/html": [
       "<div>\n",
       "<style scoped>\n",
       "    .dataframe tbody tr th:only-of-type {\n",
       "        vertical-align: middle;\n",
       "    }\n",
       "\n",
       "    .dataframe tbody tr th {\n",
       "        vertical-align: top;\n",
       "    }\n",
       "\n",
       "    .dataframe thead th {\n",
       "        text-align: right;\n",
       "    }\n",
       "</style>\n",
       "<table border=\"1\" class=\"dataframe\">\n",
       "  <thead>\n",
       "    <tr style=\"text-align: right;\">\n",
       "      <th></th>\n",
       "      <th>date</th>\n",
       "      <th>hour</th>\n",
       "      <th>host</th>\n",
       "      <th>uri_lv1</th>\n",
       "      <th>status</th>\n",
       "      <th>method</th>\n",
       "      <th>length_sum</th>\n",
       "      <th>latency_mean</th>\n",
       "      <th>call_count</th>\n",
       "    </tr>\n",
       "  </thead>\n",
       "  <tbody>\n",
       "    <tr>\n",
       "      <th>0</th>\n",
       "      <td>2022-12-16</td>\n",
       "      <td>00</td>\n",
       "      <td>10.250.0.1</td>\n",
       "      <td>printing-api</td>\n",
       "      <td>200</td>\n",
       "      <td>GET</td>\n",
       "      <td>0.0</td>\n",
       "      <td>0.030962</td>\n",
       "      <td>21720</td>\n",
       "    </tr>\n",
       "    <tr>\n",
       "      <th>1</th>\n",
       "      <td>2022-12-16</td>\n",
       "      <td>00</td>\n",
       "      <td>10.250.0.1</td>\n",
       "      <td>printing-api</td>\n",
       "      <td>204</td>\n",
       "      <td>POST</td>\n",
       "      <td>2010638.0</td>\n",
       "      <td>0.059336</td>\n",
       "      <td>8648</td>\n",
       "    </tr>\n",
       "    <tr>\n",
       "      <th>2</th>\n",
       "      <td>2022-12-16</td>\n",
       "      <td>00</td>\n",
       "      <td>10.250.0.1</td>\n",
       "      <td>statemachine-api-configuration</td>\n",
       "      <td>200</td>\n",
       "      <td>GET</td>\n",
       "      <td>0.0</td>\n",
       "      <td>0.049403</td>\n",
       "      <td>28360</td>\n",
       "    </tr>\n",
       "    <tr>\n",
       "      <th>3</th>\n",
       "      <td>2022-12-16</td>\n",
       "      <td>00</td>\n",
       "      <td>10.250.0.1</td>\n",
       "      <td>statemachine-api-configuration</td>\n",
       "      <td>204</td>\n",
       "      <td>GET</td>\n",
       "      <td>0.0</td>\n",
       "      <td>0.032668</td>\n",
       "      <td>17260</td>\n",
       "    </tr>\n",
       "    <tr>\n",
       "      <th>4</th>\n",
       "      <td>2022-12-16</td>\n",
       "      <td>00</td>\n",
       "      <td>10.250.0.1</td>\n",
       "      <td>statemachine-api-configuration</td>\n",
       "      <td>404</td>\n",
       "      <td>GET</td>\n",
       "      <td>0.0</td>\n",
       "      <td>0.025094</td>\n",
       "      <td>117</td>\n",
       "    </tr>\n",
       "  </tbody>\n",
       "</table>\n",
       "</div>"
      ]
     },
     "metadata": {
      "application/vnd.databricks.v1+output": {
       "addedWidgets": {},
       "arguments": {},
       "data": "<div>\n<style scoped>\n    .dataframe tbody tr th:only-of-type {\n        vertical-align: middle;\n    }\n\n    .dataframe tbody tr th {\n        vertical-align: top;\n    }\n\n    .dataframe thead th {\n        text-align: right;\n    }\n</style>\n<table border=\"1\" class=\"dataframe\">\n  <thead>\n    <tr style=\"text-align: right;\">\n      <th></th>\n      <th>date</th>\n      <th>hour</th>\n      <th>host</th>\n      <th>uri_lv1</th>\n      <th>status</th>\n      <th>method</th>\n      <th>length_sum</th>\n      <th>latency_mean</th>\n      <th>call_count</th>\n    </tr>\n  </thead>\n  <tbody>\n    <tr>\n      <th>0</th>\n      <td>2022-12-16</td>\n      <td>00</td>\n      <td>10.250.0.1</td>\n      <td>printing-api</td>\n      <td>200</td>\n      <td>GET</td>\n      <td>0.0</td>\n      <td>0.030962</td>\n      <td>21720</td>\n    </tr>\n    <tr>\n      <th>1</th>\n      <td>2022-12-16</td>\n      <td>00</td>\n      <td>10.250.0.1</td>\n      <td>printing-api</td>\n      <td>204</td>\n      <td>POST</td>\n      <td>2010638.0</td>\n      <td>0.059336</td>\n      <td>8648</td>\n    </tr>\n    <tr>\n      <th>2</th>\n      <td>2022-12-16</td>\n      <td>00</td>\n      <td>10.250.0.1</td>\n      <td>statemachine-api-configuration</td>\n      <td>200</td>\n      <td>GET</td>\n      <td>0.0</td>\n      <td>0.049403</td>\n      <td>28360</td>\n    </tr>\n    <tr>\n      <th>3</th>\n      <td>2022-12-16</td>\n      <td>00</td>\n      <td>10.250.0.1</td>\n      <td>statemachine-api-configuration</td>\n      <td>204</td>\n      <td>GET</td>\n      <td>0.0</td>\n      <td>0.032668</td>\n      <td>17260</td>\n    </tr>\n    <tr>\n      <th>4</th>\n      <td>2022-12-16</td>\n      <td>00</td>\n      <td>10.250.0.1</td>\n      <td>statemachine-api-configuration</td>\n      <td>404</td>\n      <td>GET</td>\n      <td>0.0</td>\n      <td>0.025094</td>\n      <td>117</td>\n    </tr>\n  </tbody>\n</table>\n</div>",
       "datasetInfos": [],
       "metadata": {},
       "removedWidgets": [],
       "textData": null,
       "type": "htmlSandbox"
      }
     },
     "output_type": "display_data"
    }
   ],
   "source": [
    "df_agg1.head()"
   ]
  },
  {
   "cell_type": "code",
   "execution_count": 0,
   "metadata": {
    "application/vnd.databricks.v1+cell": {
     "cellMetadata": {},
     "inputWidgets": {},
     "nuid": "b54c5265-a3f8-4bf3-8351-20a358e441ae",
     "showTitle": false,
     "title": ""
    }
   },
   "outputs": [
    {
     "output_type": "display_data",
     "data": {
      "text/html": [
       "<style scoped>\n",
       "  .ansiout {\n",
       "    display: block;\n",
       "    unicode-bidi: embed;\n",
       "    white-space: pre-wrap;\n",
       "    word-wrap: break-word;\n",
       "    word-break: break-all;\n",
       "    font-family: \"Source Code Pro\", \"Menlo\", monospace;;\n",
       "    font-size: 13px;\n",
       "    color: #555;\n",
       "    margin-left: 4px;\n",
       "    line-height: 19px;\n",
       "  }\n",
       "</style>\n",
       "<div class=\"ansiout\"></div>"
      ]
     },
     "metadata": {
      "application/vnd.databricks.v1+output": {
       "addedWidgets": {},
       "arguments": {},
       "data": "<div class=\"ansiout\"></div>",
       "datasetInfos": [],
       "metadata": {},
       "removedWidgets": [],
       "type": "html"
      }
     },
     "output_type": "display_data"
    }
   ],
   "source": [
    "if (environment_code == 'YT1'): \n",
    "  table = \"saas-analytics-io.processed.yt1_ingress_requests_agg\"\n",
    "  df_agg1.to_gbq(table,  if_exists='append')\n",
    "  \n",
    "  #TOP FAilure Endpoints\n",
    "  query = \"\"\"\n",
    "      SELECT DATE(time) as date,uri,host, method, status,latency, length\n",
    "      FROM `saas-analytics-io.raw.yt1-ingress-requests` \n",
    "      WHERE DATE(time) = \"%s\"   \n",
    "  \"\"\"%(str_day)\n",
    "\n",
    "  #query_job = client.query(\n",
    "   #   query,\n",
    "      # Location must match that of the dataset(s) referenced in the query.\n",
    "    #  location=\"us-central1\",\n",
    "  #)  # API request - starts the query\n",
    "\n",
    "  df_failure = pandas_gbq.read_gbq(query,project_id ='saas-analytics-io',)\n",
    "  df_failure['date']=df_failure['date'].astype(str)\n",
    "  df_failure.loc[(df_failure['status']<=404),'STATUS_AGG']='SUCESS'\n",
    "  df_failure.loc[(df_failure['status']>404),'STATUS_AGG']='FAILURE'\n",
    "  df_failure.loc[:,'uri_1_to_3']=df_failure['uri'].str.split('/', expand=True)[1]+\"/\"+df_failure['uri'].str.split('/', expand=True)[2]+\"/\"+df_failure['uri'].str.split('/', expand=True)[3]\n",
    "  df_failure_agg = df_failure[df_failure['STATUS_AGG']=='FAILURE'].groupby(['date','host','method','uri_1_to_3']).agg(length_sum = (\"length\",\"sum\"),\n",
    "                                                                             latency_mean = (\"latency\",\"mean\"),\n",
    "                                             call_count = (\"method\",\"count\"),).sort_values('call_count',ascending=False).reset_index()\n",
    "  table = \"saas-analytics-io.processed.yt1_failure_endpoints\"\n",
    "  df_failure_agg.to_gbq(table,  if_exists='append')\n",
    "  \n",
    "  \n",
    "if (environment_code == 'YTS1'): \n",
    "  table = \"saas-analytics-io.processed.yts1_ingress_requests_agg\"\n",
    "  df_agg1.to_gbq(table,  if_exists='append')\n",
    "if (environment_code == 'VT1'): \n",
    "  table = \"saas-analytics-io.processed.vt1_ingress_requests_agg\"\n",
    "  df_agg1.to_gbq(table,  if_exists='append')\n",
    "if (environment_code == 'VTS1'): \n",
    "  table = \"saas-analytics-io.processed.vts1_ingress_requests_agg\"\n",
    "  df_agg1.to_gbq(table,  if_exists='append')\n",
    "if (environment_code == 'RED'): \n",
    "  table = \"saas-analytics-io.processed.red_ingress_requests_agg\"\n",
    "  df_agg1.to_gbq(table,  if_exists='append')\n",
    "if (environment_code == 'STGRED'): \n",
    "  table = \"saas-analytics-io.processed.stgred_ingress_requests_agg\"\n",
    "  df_agg1.to_gbq(table,  if_exists='append')"
   ]
  },
  {
   "cell_type": "code",
   "execution_count": 0,
   "metadata": {
    "application/vnd.databricks.v1+cell": {
     "cellMetadata": {},
     "inputWidgets": {},
     "nuid": "ad42d38c-a1ee-4f46-8090-7ae8948673ab",
     "showTitle": false,
     "title": ""
    }
   },
   "outputs": [],
   "source": []
  }
 ],
 "metadata": {
  "application/vnd.databricks.v1+notebook": {
   "dashboards": [
    {
     "elements": [],
     "globalVars": {},
     "guid": "b4159fa0-26cb-4ecd-ad18-cefe1184bcc8",
     "layoutOption": {
      "grid": true,
      "stack": true
     },
     "nuid": "65f6517e-fd76-4fa4-aff9-dbcf3fc85722",
     "origId": 1849593547952049,
     "title": "Untitled",
     "version": "DashboardViewV1",
     "width": 1024
    }
   ],
   "language": "python",
   "notebookMetadata": {
    "pythonIndentUnit": 2,
    "widgetLayout": [
     {
      "breakBefore": false,
      "name": "date",
      "width": 173
     },
     {
      "breakBefore": false,
      "name": "environment_code",
      "width": 173
     },
     {
      "breakBefore": false,
      "name": "str_day",
      "width": 173
     }
    ]
   },
   "notebookName": "process_requests_Agg",
   "widgets": {
    "date": {
     "currentValue": "",
     "nuid": "1bf000cf-961f-4bc0-8f4d-1316aa31ee28",
     "widgetInfo": {
      "widgetType": "text",
      "defaultValue": "",
      "label": null,
      "name": "date",
      "options": {
       "widgetType": "text",
       "validationRegex": null
      }
     }
    },
    "environment_code": {
     "currentValue": "RED",
     "nuid": "cd734512-9b3d-487b-8948-3c8bb4048820",
     "widgetInfo": {
      "widgetType": "text",
      "defaultValue": "",
      "label": null,
      "name": "environment_code",
      "options": {
       "widgetType": "text",
       "validationRegex": null
      }
     }
    },
    "str_day": {
     "currentValue": "",
     "nuid": "5aa819fd-094f-48fd-ab1b-49486074d288",
     "widgetInfo": {
      "widgetType": "text",
      "defaultValue": "",
      "label": null,
      "name": "str_day",
      "options": {
       "widgetType": "text",
       "validationRegex": null
      }
     }
    }
   }
  }
 },
 "nbformat": 4,
 "nbformat_minor": 0
}
