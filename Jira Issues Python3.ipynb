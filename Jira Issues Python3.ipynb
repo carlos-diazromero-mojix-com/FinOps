{
 "cells": [
  {
   "cell_type": "markdown",
   "id": "06f1e864-aa14-4489-8894-e316d270b042",
   "metadata": {},
   "source": [
    "## JIRA DATA \n",
    "- PR/IDEAS Trace to subtasks to get KPI to use in a dashboard in Looker\n",
    "- Worklog in each issue to monitor developer hour and SP in a looker dashboard"
   ]
  },
  {
   "cell_type": "code",
   "execution_count": 1,
   "id": "67ccf574-2b0c-4c11-bbf5-6e10579abc5e",
   "metadata": {},
   "outputs": [],
   "source": [
    "from google.cloud import bigquery\n",
    "client = bigquery.Client()\n",
    "import pandas as pd\n",
    "#import pandas_gbq\n",
    "import numpy as np\n",
    "import requests\n",
    "import datetime as dt\n",
    "import re\n",
    "import json\n",
    "from datetime import date, timedelta\n",
    "from datetime import datetime\n",
    "pd.set_option('display.width', 1000)\n",
    "pd.set_option(\"max_colwidth\",10000)\n",
    "pd.set_option(\"max_rows\",1000)\n",
    "pd.set_option(\"max_columns\",100)"
   ]
  },
  {
   "cell_type": "code",
   "execution_count": 2,
   "id": "f4159504-4946-4570-88a7-653c13340a46",
   "metadata": {},
   "outputs": [
    {
     "name": "stdout",
     "output_type": "stream",
     "text": [
      "2023-10-26\n"
     ]
    }
   ],
   "source": [
    "current_date = datetime.today()\n",
    "dias_atras = 0\n",
    "#dias_atras = int(dias_atras)\n",
    "str_day = (current_date - timedelta(days = dias_atras)).strftime(\"%Y-%m-%d\")\n",
    "print(str_day)"
   ]
  },
  {
   "cell_type": "code",
   "execution_count": 3,
   "id": "fc954ba9-ce0c-4876-9000-2889feff00ac",
   "metadata": {},
   "outputs": [],
   "source": [
    "df_logtable = pd.DataFrame()\n",
    "sourceN = 0"
   ]
  },
  {
   "cell_type": "markdown",
   "id": "8c0e8476",
   "metadata": {},
   "source": [
    "## Read Jira Sources"
   ]
  },
  {
   "cell_type": "code",
   "execution_count": 4,
   "id": "e49aeb02-7e09-4176-ae13-720e06a2fca9",
   "metadata": {},
   "outputs": [],
   "source": [
    "table_name ='Worklogs'\n",
    "query = \"\"\"\n",
    " SELECT *\n",
    " FROM `saas-analytics-io.jira_cdrt_test.%s`\n",
    " WHERE date(UPDATED) between '2022-01-01' and '%s'\n",
    "       \"\"\"%(table_name,str_day)\n",
    "\n",
    "query_job = client.query(\n",
    "  query,\n",
    "    # Location must match that of the dataset(s) referenced in the query.\n",
    "  location = \"US\",\n",
    ")  # API request - starts the query\n",
    "#print(query)\n",
    "\n",
    "try:\n",
    "    df_worklog = query_job.to_dataframe()\n",
    "    #print(df_worklog.info())\n",
    "    #print(df_worklog.shape)\n",
    "\n",
    "    df_logtable.loc[sourceN,'date'] = str_day\n",
    "    df_logtable.loc[sourceN,'tableName'] = table_name\n",
    "    df_logtable.loc[sourceN,'tableRows'] = len(df_worklog.index)\n",
    "    df_logtable.loc[sourceN,'tableColumns'] = len(df_worklog.columns)\n",
    "    df_logtable.loc[sourceN,'status'] = 'ok'\n",
    "    sourceN = sourceN+1\n",
    "except Exception as e:\n",
    "    df_worklog = query_job.to_dataframe()\n",
    "    df_logtable.loc[sourceN,'date'] = str_day\n",
    "    df_logtable.loc[sourceN,'tableName'] = table_name\n",
    "    df_logtable.loc[sourceN,'tableRows'] = 0\n",
    "    df_logtable.loc[sourceN,'tableColumns'] = 0\n",
    "    df_logtable.loc[sourceN,'status'] = e"
   ]
  },
  {
   "cell_type": "code",
   "execution_count": 5,
   "id": "6557d85b-305f-499d-962f-845b6db0659a",
   "metadata": {},
   "outputs": [],
   "source": [
    "table_name ='Issues'\n",
    "query = \"\"\"\n",
    " SELECT *\n",
    " FROM `saas-analytics-io.jira_cdrt_test.%s` \n",
    " WHERE date(CREATED) between '2020-01-01' and '%s' \"\"\"%(table_name,str_day)\n",
    "\n",
    "query_job = client.query(\n",
    "  query,\n",
    "    # Location must match that of the dataset(s) referenced in the query.\n",
    "  location = \"US\",\n",
    ")  # API request - starts the query\n",
    "\n",
    "try:\n",
    "   # print(query)\n",
    "    df_issues = query_job.to_dataframe()\n",
    "    #print(df_issues.info())\n",
    "    df_logtable.loc[sourceN,'date'] = str_day\n",
    "    df_logtable.loc[sourceN,'tableName'] = table_name\n",
    "    df_logtable.loc[sourceN,'tableRows'] = len(df_issues.index)\n",
    "    df_logtable.loc[sourceN,'tableColumns'] = len(df_issues.columns)\n",
    "    df_logtable.loc[sourceN,'status'] = 'ok'\n",
    "    sourceN = sourceN+1\n",
    "except Exception as e:\n",
    "    df_issues = query_job.to_dataframe()\n",
    "    df_logtable.loc[sourceN,'date'] = str_day\n",
    "    df_logtable.loc[sourceN,'tableName'] = table_name\n",
    "    df_logtable.loc[sourceN,'tableRows'] = 0\n",
    "    df_logtable.loc[sourceN,'tableColumns'] = 0\n",
    "    df_logtable.loc[sourceN,'status'] = e   \n",
    "\n",
    "#df_issues.head()"
   ]
  },
  {
   "cell_type": "code",
   "execution_count": 6,
   "id": "b88528ad",
   "metadata": {},
   "outputs": [],
   "source": [
    "table_name ='IssueSprints'\n",
    "\n",
    "query = \"\"\"\n",
    " SELECT *\n",
    " FROM `saas-analytics-io.jira_cdrt_test.%s` \n",
    "\"\"\"%(table_name)\n",
    "query_job = client.query(\n",
    "  query,\n",
    "    # Location must match that of the dataset(s) referenced in the query.\n",
    "  location = \"US\",\n",
    ")  # API request - starts the query\n",
    "#print(query)\n",
    "\n",
    "try:\n",
    "    df_issueSprints = query_job.to_dataframe()\n",
    "    #print(df_worklog.info())\n",
    "    #print(df_worklog.shape)\n",
    "\n",
    "    df_logtable.loc[sourceN,'date'] = str_day\n",
    "    df_logtable.loc[sourceN,'tableName'] = table_name\n",
    "    df_logtable.loc[sourceN,'tableRows'] = len(df_issueSprints.index)\n",
    "    df_logtable.loc[sourceN,'tableColumns'] = len(df_issueSprints.columns)\n",
    "    df_logtable.loc[sourceN,'status'] = 'ok'\n",
    "    sourceN = sourceN+1\n",
    "except Exception as e:\n",
    "    df_issueSprints = query_job.to_dataframe()\n",
    "    df_logtable.loc[sourceN,'date'] = str_day\n",
    "    df_logtable.loc[sourceN,'tableName'] = table_name\n",
    "    df_logtable.loc[sourceN,'tableRows'] = 0\n",
    "    df_logtable.loc[sourceN,'tableColumns'] = 0\n",
    "    df_logtable.loc[sourceN,'status'] = e"
   ]
  },
  {
   "cell_type": "code",
   "execution_count": 7,
   "id": "bc1d28ae",
   "metadata": {},
   "outputs": [],
   "source": [
    "table_name ='IssueLinks'\n",
    "\n",
    "query = \"\"\"\n",
    " SELECT *\n",
    " FROM `saas-analytics-io.jira_cdrt_test.%s` \n",
    "\"\"\"%(table_name)\n",
    "query_job = client.query(\n",
    "  query,\n",
    "    # Location must match that of the dataset(s) referenced in the query.\n",
    "  location = \"US\",\n",
    ")  # API request - starts the query\n",
    "#print(query)\n",
    "\n",
    "try:\n",
    "    df_issueLinks = query_job.to_dataframe()\n",
    "    #print(df_worklog.info())\n",
    "    #print(df_worklog.shape)\n",
    "\n",
    "    df_logtable.loc[sourceN,'date'] = str_day\n",
    "    df_logtable.loc[sourceN,'tableName'] = table_name\n",
    "    df_logtable.loc[sourceN,'tableRows'] = len(df_issueLinks.index)\n",
    "    df_logtable.loc[sourceN,'tableColumns'] = len(df_issueLinks.columns)\n",
    "    df_logtable.loc[sourceN,'status'] = 'ok'\n",
    "    sourceN = sourceN+1\n",
    "except Exception as e:\n",
    "    df_issueLinks = query_job.to_dataframe()\n",
    "    df_logtable.loc[sourceN,'date'] = str_day\n",
    "    df_logtable.loc[sourceN,'tableName'] = table_name\n",
    "    df_logtable.loc[sourceN,'tableRows'] = 0\n",
    "    df_logtable.loc[sourceN,'tableColumns'] = 0\n",
    "    df_logtable.loc[sourceN,'status'] = e"
   ]
  },
  {
   "cell_type": "code",
   "execution_count": 8,
   "id": "1145fc99",
   "metadata": {},
   "outputs": [],
   "source": [
    "table_name ='IssueFixVersions'\n",
    "\n",
    "query = \"\"\"\n",
    " SELECT *\n",
    " FROM `saas-analytics-io.jira_cdrt_test.%s` \n",
    "\"\"\"%(table_name)\n",
    "query_job = client.query(\n",
    "  query,\n",
    "    # Location must match that of the dataset(s) referenced in the query.\n",
    "  location = \"US\",\n",
    ")  # API request - starts the query\n",
    "#print(query)\n",
    "\n",
    "try:\n",
    "    df_IssueFixVersions = query_job.to_dataframe()\n",
    "    #print(df_worklog.info())\n",
    "    #print(df_worklog.shape)\n",
    "\n",
    "    df_logtable.loc[sourceN,'date'] = str_day\n",
    "    df_logtable.loc[sourceN,'tableName'] = table_name\n",
    "    df_logtable.loc[sourceN,'tableRows'] = len(df_IssueFixVersions.index)\n",
    "    df_logtable.loc[sourceN,'tableColumns'] = len(df_IssueFixVersions.columns)\n",
    "    df_logtable.loc[sourceN,'status'] = 'ok'\n",
    "    sourceN = sourceN+1\n",
    "except Exception as e:\n",
    "    df_IssueFixVersions = query_job.to_dataframe()\n",
    "    df_logtable.loc[sourceN,'date'] = str_day\n",
    "    df_logtable.loc[sourceN,'tableName'] = table_name\n",
    "    df_logtable.loc[sourceN,'tableRows'] = 0\n",
    "    df_logtable.loc[sourceN,'tableColumns'] = 0\n",
    "    df_logtable.loc[sourceN,'status'] = e"
   ]
  },
  {
   "cell_type": "code",
   "execution_count": 9,
   "id": "36833e01",
   "metadata": {},
   "outputs": [],
   "source": [
    "table_name ='Versions'\n",
    "\n",
    "query = \"\"\"\n",
    " SELECT *\n",
    " FROM `saas-analytics-io.jira_cdrt_test.%s` \n",
    " WHERE VERSION_NAME like 'v%%' \"\"\"%(table_name)\n",
    "\n",
    "query_job = client.query(\n",
    "  query,\n",
    "    # Location must match that of the dataset(s) referenced in the query.\n",
    "  location = \"US\",\n",
    ")  # API request - starts the query\n",
    "#print(query)\n",
    "\n",
    "try:\n",
    "    df_versions = query_job.to_dataframe()\n",
    "    #print(df_worklog.info())\n",
    "    #print(df_worklog.shape)\n",
    "    df_logtable.loc[sourceN,'date'] = str_day\n",
    "    df_logtable.loc[sourceN,'tableName'] = table_name\n",
    "    df_logtable.loc[sourceN,'tableRows'] = len(df_versions.index)\n",
    "    df_logtable.loc[sourceN,'tableColumns'] = len(df_versions.columns)\n",
    "    df_logtable.loc[sourceN,'status'] = 'ok'\n",
    "    sourceN = sourceN+1\n",
    "except Exception as e:\n",
    "    df_versions = query_job.to_dataframe()\n",
    "    df_logtable.loc[sourceN,'date'] = str_day\n",
    "    df_logtable.loc[sourceN,'tableName'] = table_name\n",
    "    df_logtable.loc[sourceN,'tableRows'] = 0\n",
    "    df_logtable.loc[sourceN,'tableColumns'] = 0\n",
    "    df_logtable.loc[sourceN,'status'] = e"
   ]
  },
  {
   "cell_type": "code",
   "execution_count": 10,
   "id": "d670c237",
   "metadata": {},
   "outputs": [],
   "source": [
    "table_name ='Business_Unit_12031'\n",
    "\n",
    "query = \"\"\"\n",
    " SELECT *\n",
    " FROM `saas-analytics-io.jira_cdrt_test.%s` \n",
    "\"\"\"%(table_name)\n",
    "query_job = client.query(\n",
    "  query,\n",
    "    # Location must match that of the dataset(s) referenced in the query.\n",
    "  location = \"US\",\n",
    ")  # API request - starts the query\n",
    "#print(query)\n",
    "\n",
    "try:\n",
    "    df_businessUnit = query_job.to_dataframe()\n",
    "    #print(df_worklog.info())\n",
    "    #print(df_worklog.shape)\n",
    "\n",
    "    df_logtable.loc[sourceN,'date'] = str_day\n",
    "    df_logtable.loc[sourceN,'tableName'] = table_name\n",
    "    df_logtable.loc[sourceN,'tableRows'] = len(df_businessUnit.index)\n",
    "    df_logtable.loc[sourceN,'tableColumns'] = len(df_businessUnit.columns)\n",
    "    df_logtable.loc[sourceN,'status'] = 'ok'\n",
    "    sourceN = sourceN+1\n",
    "except Exception as e:\n",
    "    df_businessUnit = query_job.to_dataframe()\n",
    "    df_logtable.loc[sourceN,'date'] = str_day\n",
    "    df_logtable.loc[sourceN,'tableName'] = table_name\n",
    "    df_logtable.loc[sourceN,'tableRows'] = 0\n",
    "    df_logtable.loc[sourceN,'tableColumns'] = 0\n",
    "    df_logtable.loc[sourceN,'status'] = e"
   ]
  },
  {
   "cell_type": "code",
   "execution_count": 11,
   "id": "d35bc46b",
   "metadata": {},
   "outputs": [],
   "source": [
    "table_name ='Customers_12132'\n",
    "\n",
    "query = \"\"\"\n",
    " SELECT *\n",
    " FROM `saas-analytics-io.jira_cdrt_test.%s` \n",
    "\"\"\"%(table_name)\n",
    "query_job = client.query(\n",
    "  query,\n",
    "    # Location must match that of the dataset(s) referenced in the query.\n",
    "  location = \"US\",\n",
    ")  # API request - starts the query\n",
    "#print(query)\n",
    "\n",
    "try:\n",
    "    df_customers = query_job.to_dataframe()\n",
    "    #print(df_worklog.info())\n",
    "    #print(df_worklog.shape)\n",
    "\n",
    "    df_logtable.loc[sourceN,'date'] = str_day\n",
    "    df_logtable.loc[sourceN,'tableName'] = table_name\n",
    "    df_logtable.loc[sourceN,'tableRows'] = len(df_customers.index)\n",
    "    df_logtable.loc[sourceN,'tableColumns'] = len(df_customers.columns)\n",
    "    df_logtable.loc[sourceN,'status'] = 'ok'\n",
    "    sourceN = sourceN+1\n",
    "except Exception as e:\n",
    "    df_customers = query_job.to_dataframe()\n",
    "    df_logtable.loc[sourceN,'date'] = str_day\n",
    "    df_logtable.loc[sourceN,'tableName'] = table_name\n",
    "    df_logtable.loc[sourceN,'tableRows'] = 0\n",
    "    df_logtable.loc[sourceN,'tableColumns'] = 0\n",
    "    df_logtable.loc[sourceN,'status'] = e"
   ]
  },
  {
   "cell_type": "code",
   "execution_count": 12,
   "id": "7e0b954e",
   "metadata": {},
   "outputs": [],
   "source": [
    "table_name ='OKR_Category_12032'\n",
    "\n",
    "query = \"\"\"\n",
    " SELECT *\n",
    " FROM `saas-analytics-io.jira_cdrt_test.%s` \n",
    "\"\"\"%(table_name)\n",
    "query_job = client.query(\n",
    "  query,\n",
    "    # Location must match that of the dataset(s) referenced in the query.\n",
    "  location = \"US\",\n",
    ")  # API request - starts the query\n",
    "#print(query)\n",
    "\n",
    "try:\n",
    "    df_category = query_job.to_dataframe()\n",
    "    #print(df_worklog.info())\n",
    "    #print(df_worklog.shape)\n",
    "\n",
    "    df_logtable.loc[sourceN,'date'] = str_day\n",
    "    df_logtable.loc[sourceN,'tableName'] = table_name\n",
    "    df_logtable.loc[sourceN,'tableRows'] = len(df_category.index)\n",
    "    df_logtable.loc[sourceN,'tableColumns'] = len(df_category.columns)\n",
    "    df_logtable.loc[sourceN,'status'] = 'ok'\n",
    "    sourceN = sourceN+1\n",
    "except Exception as e:\n",
    "    df_category = query_job.to_dataframe()\n",
    "    df_logtable.loc[sourceN,'date'] = str_day\n",
    "    df_logtable.loc[sourceN,'tableName'] = table_name\n",
    "    df_logtable.loc[sourceN,'tableRows'] = 0\n",
    "    df_logtable.loc[sourceN,'tableColumns'] = 0\n",
    "    df_logtable.loc[sourceN,'status'] = e"
   ]
  },
  {
   "cell_type": "code",
   "execution_count": 13,
   "id": "9dc05822",
   "metadata": {},
   "outputs": [],
   "source": [
    "table_name ='Sprints'\n",
    "\n",
    "query = \"\"\"\n",
    " SELECT *\n",
    " FROM `saas-analytics-io.jira_cdrt_test.%s` \n",
    "\"\"\"%(table_name)\n",
    "query_job = client.query(\n",
    "  query,\n",
    "    # Location must match that of the dataset(s) referenced in the query.\n",
    "  location = \"US\",\n",
    ")  # API request - starts the query\n",
    "#print(query)\n",
    "\n",
    "try:\n",
    "    df_Sprints = query_job.to_dataframe()\n",
    "    #print(df_worklog.info())\n",
    "    #print(df_worklog.shape)\n",
    "\n",
    "    df_logtable.loc[sourceN,'date'] = str_day\n",
    "    df_logtable.loc[sourceN,'tableName'] = table_name\n",
    "    df_logtable.loc[sourceN,'tableRows'] = len(df_Sprints.index)\n",
    "    df_logtable.loc[sourceN,'tableColumns'] = len(df_Sprints.columns)\n",
    "    df_logtable.loc[sourceN,'status'] = 'ok'\n",
    "    sourceN = sourceN+1\n",
    "except Exception as e:\n",
    "    df_Sprints = query_job.to_dataframe()\n",
    "    df_logtable.loc[sourceN,'date'] = str_day\n",
    "    df_logtable.loc[sourceN,'tableName'] = table_name\n",
    "    df_logtable.loc[sourceN,'tableRows'] = 0\n",
    "    df_logtable.loc[sourceN,'tableColumns'] = 0\n",
    "    df_logtable.loc[sourceN,'status'] = e"
   ]
  },
  {
   "cell_type": "code",
   "execution_count": 14,
   "id": "8db92bef",
   "metadata": {},
   "outputs": [],
   "source": [
    "table_name ='Theme_12033'\n",
    "\n",
    "query = \"\"\"\n",
    " SELECT *\n",
    " FROM `saas-analytics-io.saas_analytics_io_jira.%s` \n",
    "\"\"\"%(table_name)\n",
    "query_job = client.query(\n",
    "  query,\n",
    "    # Location must match that of the dataset(s) referenced in the query.\n",
    "  location = \"US\",\n",
    ")  # API request - starts the query\n",
    "#print(query)\n",
    "\n",
    "try:\n",
    "    df_theme = query_job.to_dataframe()\n",
    "    #print(df_worklog.info())\n",
    "    #print(df_worklog.shape)\n",
    "\n",
    "    df_logtable.loc[sourceN,'date'] = str_day\n",
    "    df_logtable.loc[sourceN,'tableName'] = table_name\n",
    "    df_logtable.loc[sourceN,'tableRows'] = len(df_theme.index)\n",
    "    df_logtable.loc[sourceN,'tableColumns'] = len(df_theme.columns)\n",
    "    df_logtable.loc[sourceN,'status'] = 'ok'\n",
    "    sourceN = sourceN+1\n",
    "except Exception as e:\n",
    "    df_theme = query_job.to_dataframe()\n",
    "    df_logtable.loc[sourceN,'date'] = str_day\n",
    "    df_logtable.loc[sourceN,'tableName'] = table_name\n",
    "    df_logtable.loc[sourceN,'tableRows'] = 0\n",
    "    df_logtable.loc[sourceN,'tableColumns'] = 0\n",
    "    df_logtable.loc[sourceN,'status'] = e"
   ]
  },
  {
   "cell_type": "code",
   "execution_count": 15,
   "id": "40d04bb5-fb80-4a95-83b4-25a43dfe3c4f",
   "metadata": {},
   "outputs": [],
   "source": [
    "table_name ='Feature_Set_12139'\n",
    "\n",
    "query = \"\"\"\n",
    " SELECT *\n",
    " FROM `saas-analytics-io.jira_cdrt_test.%s` \n",
    "\"\"\"%(table_name)\n",
    "query_job = client.query(\n",
    "  query,\n",
    "    # Location must match that of the dataset(s) referenced in the query.\n",
    "  location = \"US\",\n",
    ")  # API request - starts the query\n",
    "#print(query)\n",
    "\n",
    "try:\n",
    "    df_feature_set_idea = query_job.to_dataframe()\n",
    "    #print(df_worklog.info())\n",
    "    #print(df_worklog.shape)\n",
    "\n",
    "    df_logtable.loc[sourceN,'date'] = str_day\n",
    "    df_logtable.loc[sourceN,'tableName'] = table_name\n",
    "    df_logtable.loc[sourceN,'tableRows'] = len(df_feature_set_idea.index)\n",
    "    df_logtable.loc[sourceN,'tableColumns'] = len(df_feature_set_idea.columns)\n",
    "    df_logtable.loc[sourceN,'status'] = 'ok'\n",
    "    sourceN = sourceN+1\n",
    "except Exception as e:\n",
    "    df_feature_set_idea = query_job.to_dataframe()\n",
    "    df_logtable.loc[sourceN,'date'] = str_day\n",
    "    df_logtable.loc[sourceN,'tableName'] = table_name\n",
    "    df_logtable.loc[sourceN,'tableRows'] = 0\n",
    "    df_logtable.loc[sourceN,'tableColumns'] = 0\n",
    "    df_logtable.loc[sourceN,'status'] = e"
   ]
  },
  {
   "cell_type": "code",
   "execution_count": 16,
   "id": "63e490e9-cb41-4c1a-9962-6da415807fe1",
   "metadata": {},
   "outputs": [],
   "source": [
    "table_name ='Key_Customers_11800'\n",
    "\n",
    "query = \"\"\"\n",
    " SELECT *\n",
    " FROM `saas-analytics-io.jira_cdrt_test.%s` \n",
    "\"\"\"%(table_name)\n",
    "query_job = client.query(\n",
    "  query,\n",
    "    # Location must match that of the dataset(s) referenced in the query.\n",
    "  location = \"US\",\n",
    ")  # API request - starts the query\n",
    "#print(query)\n",
    "\n",
    "try:\n",
    "    df_key_customer_idea = query_job.to_dataframe()\n",
    "    #print(df_worklog.info())\n",
    "    #print(df_worklog.shape)\n",
    "\n",
    "    df_logtable.loc[sourceN,'date'] = str_day\n",
    "    df_logtable.loc[sourceN,'tableName'] = table_name\n",
    "    df_logtable.loc[sourceN,'tableRows'] = len(df_key_customer_idea.index)\n",
    "    df_logtable.loc[sourceN,'tableColumns'] = len(df_key_customer_idea.columns)\n",
    "    df_logtable.loc[sourceN,'status'] = 'ok'\n",
    "    #sourceN = sourceN+1\n",
    "except Exception as e:\n",
    "    df_key_customer_idea = query_job.to_dataframe()\n",
    "    df_logtable.loc[sourceN,'date'] = str_day\n",
    "    df_logtable.loc[sourceN,'tableName'] = table_name\n",
    "    df_logtable.loc[sourceN,'tableRows'] = 0\n",
    "    df_logtable.loc[sourceN,'tableColumns'] = 0\n",
    "    df_logtable.loc[sourceN,'status'] = e"
   ]
  },
  {
   "cell_type": "code",
   "execution_count": 17,
   "id": "b898c96a-d065-4884-88c3-3d973682cc4b",
   "metadata": {},
   "outputs": [
    {
     "data": {
      "text/html": [
       "<div>\n",
       "<style scoped>\n",
       "    .dataframe tbody tr th:only-of-type {\n",
       "        vertical-align: middle;\n",
       "    }\n",
       "\n",
       "    .dataframe tbody tr th {\n",
       "        vertical-align: top;\n",
       "    }\n",
       "\n",
       "    .dataframe thead th {\n",
       "        text-align: right;\n",
       "    }\n",
       "</style>\n",
       "<table border=\"1\" class=\"dataframe\">\n",
       "  <thead>\n",
       "    <tr style=\"text-align: right;\">\n",
       "      <th></th>\n",
       "      <th>date</th>\n",
       "      <th>tableName</th>\n",
       "      <th>tableRows</th>\n",
       "      <th>tableColumns</th>\n",
       "      <th>status</th>\n",
       "    </tr>\n",
       "  </thead>\n",
       "  <tbody>\n",
       "    <tr>\n",
       "      <th>0</th>\n",
       "      <td>2023-10-26</td>\n",
       "      <td>Worklogs</td>\n",
       "      <td>10096.0</td>\n",
       "      <td>13.0</td>\n",
       "      <td>ok</td>\n",
       "    </tr>\n",
       "    <tr>\n",
       "      <th>1</th>\n",
       "      <td>2023-10-26</td>\n",
       "      <td>Issues</td>\n",
       "      <td>32135.0</td>\n",
       "      <td>42.0</td>\n",
       "      <td>ok</td>\n",
       "    </tr>\n",
       "    <tr>\n",
       "      <th>2</th>\n",
       "      <td>2023-10-26</td>\n",
       "      <td>IssueSprints</td>\n",
       "      <td>22230.0</td>\n",
       "      <td>4.0</td>\n",
       "      <td>ok</td>\n",
       "    </tr>\n",
       "    <tr>\n",
       "      <th>3</th>\n",
       "      <td>2023-10-26</td>\n",
       "      <td>IssueLinks</td>\n",
       "      <td>28358.0</td>\n",
       "      <td>6.0</td>\n",
       "      <td>ok</td>\n",
       "    </tr>\n",
       "    <tr>\n",
       "      <th>4</th>\n",
       "      <td>2023-10-26</td>\n",
       "      <td>IssueFixVersions</td>\n",
       "      <td>34456.0</td>\n",
       "      <td>4.0</td>\n",
       "      <td>ok</td>\n",
       "    </tr>\n",
       "    <tr>\n",
       "      <th>5</th>\n",
       "      <td>2023-10-26</td>\n",
       "      <td>Versions</td>\n",
       "      <td>77.0</td>\n",
       "      <td>10.0</td>\n",
       "      <td>ok</td>\n",
       "    </tr>\n",
       "    <tr>\n",
       "      <th>6</th>\n",
       "      <td>2023-10-26</td>\n",
       "      <td>Business_Unit_12031</td>\n",
       "      <td>870.0</td>\n",
       "      <td>3.0</td>\n",
       "      <td>ok</td>\n",
       "    </tr>\n",
       "    <tr>\n",
       "      <th>7</th>\n",
       "      <td>2023-10-26</td>\n",
       "      <td>Customers_12132</td>\n",
       "      <td>342.0</td>\n",
       "      <td>3.0</td>\n",
       "      <td>ok</td>\n",
       "    </tr>\n",
       "    <tr>\n",
       "      <th>8</th>\n",
       "      <td>2023-10-26</td>\n",
       "      <td>OKR_Category_12032</td>\n",
       "      <td>942.0</td>\n",
       "      <td>3.0</td>\n",
       "      <td>ok</td>\n",
       "    </tr>\n",
       "    <tr>\n",
       "      <th>9</th>\n",
       "      <td>2023-10-26</td>\n",
       "      <td>Sprints</td>\n",
       "      <td>346.0</td>\n",
       "      <td>8.0</td>\n",
       "      <td>ok</td>\n",
       "    </tr>\n",
       "    <tr>\n",
       "      <th>10</th>\n",
       "      <td>2023-10-26</td>\n",
       "      <td>Theme_12033</td>\n",
       "      <td>906.0</td>\n",
       "      <td>3.0</td>\n",
       "      <td>ok</td>\n",
       "    </tr>\n",
       "    <tr>\n",
       "      <th>11</th>\n",
       "      <td>2023-10-26</td>\n",
       "      <td>Feature_Set_12139</td>\n",
       "      <td>188.0</td>\n",
       "      <td>3.0</td>\n",
       "      <td>ok</td>\n",
       "    </tr>\n",
       "    <tr>\n",
       "      <th>12</th>\n",
       "      <td>2023-10-26</td>\n",
       "      <td>Key_Customers_11800</td>\n",
       "      <td>786.0</td>\n",
       "      <td>3.0</td>\n",
       "      <td>ok</td>\n",
       "    </tr>\n",
       "  </tbody>\n",
       "</table>\n",
       "</div>"
      ],
      "text/plain": [
       "          date            tableName  tableRows  tableColumns status\n",
       "0   2023-10-26             Worklogs    10096.0          13.0     ok\n",
       "1   2023-10-26               Issues    32135.0          42.0     ok\n",
       "2   2023-10-26         IssueSprints    22230.0           4.0     ok\n",
       "3   2023-10-26           IssueLinks    28358.0           6.0     ok\n",
       "4   2023-10-26     IssueFixVersions    34456.0           4.0     ok\n",
       "5   2023-10-26             Versions       77.0          10.0     ok\n",
       "6   2023-10-26  Business_Unit_12031      870.0           3.0     ok\n",
       "7   2023-10-26      Customers_12132      342.0           3.0     ok\n",
       "8   2023-10-26   OKR_Category_12032      942.0           3.0     ok\n",
       "9   2023-10-26              Sprints      346.0           8.0     ok\n",
       "10  2023-10-26          Theme_12033      906.0           3.0     ok\n",
       "11  2023-10-26    Feature_Set_12139      188.0           3.0     ok\n",
       "12  2023-10-26  Key_Customers_11800      786.0           3.0     ok"
      ]
     },
     "execution_count": 17,
     "metadata": {},
     "output_type": "execute_result"
    }
   ],
   "source": [
    "df_logtable"
   ]
  },
  {
   "cell_type": "markdown",
   "id": "2ccdc9bc-c21c-4268-9be0-8b3dbd172a09",
   "metadata": {},
   "source": [
    "## Data Preparation"
   ]
  },
  {
   "cell_type": "markdown",
   "id": "7aa536da-373d-4110-8b19-ace29c3caaca",
   "metadata": {},
   "source": [
    "#### Worklog"
   ]
  },
  {
   "cell_type": "code",
   "execution_count": 25,
   "id": "3b29074e-3e62-4fb5-99ec-ac7b365c1d66",
   "metadata": {},
   "outputs": [],
   "source": [
    "df_worklog_1 = pd.merge(df_worklog,df_issues[['ISSUE_KEY','ISSUE_TYPE_NAME','Progress___11891','Story_Points_10400']],on = 'ISSUE_KEY', how= 'left')\n",
    "df_worklog_1 = df_worklog_1.rename(columns={'ISSUE_TYPE_NAME':'ISSUE_TYPE_NAME_LOGGED',\n",
    "                            'ISSUE_KEY':'ISSUE_KEY_LOGGED',\n",
    "                            'Progress___11891':'PROGRESS_LOGGED',\n",
    "                            'Story_Points_10400':'STORYPOINTS_LOGGED',\n",
    "                            })"
   ]
  },
  {
   "cell_type": "code",
   "execution_count": 26,
   "id": "ce9eaee3-c9ca-45d6-b516-69245337d134",
   "metadata": {},
   "outputs": [],
   "source": [
    "#df_worklog_1.tail()"
   ]
  },
  {
   "cell_type": "code",
   "execution_count": 27,
   "id": "bdd63672-f5ec-4e02-b0e4-7a62236c3abb",
   "metadata": {},
   "outputs": [],
   "source": [
    "#df_worklog_1.fillna(0).groupby('ISSUE_TYPE_NAME_LOGGED').count()"
   ]
  },
  {
   "cell_type": "markdown",
   "id": "eda7f156-83c5-4871-b084-c5fb437856df",
   "metadata": {},
   "source": [
    "#### Versions (Select only releases)"
   ]
  },
  {
   "cell_type": "code",
   "execution_count": 80,
   "id": "adad1ac1",
   "metadata": {},
   "outputs": [],
   "source": [
    "df_versions = df_versions[df_versions['VERSION_NAME'].str.contains('^v[1-9]')].sort_values('START_DATE')\n",
    "df_versions = df_versions.sort_values('START_DATE')"
   ]
  },
  {
   "cell_type": "code",
   "execution_count": 29,
   "id": "54cf1e89",
   "metadata": {},
   "outputs": [],
   "source": [
    "#df_versions"
   ]
  },
  {
   "cell_type": "markdown",
   "id": "f1bfa41f-a56f-44a9-9431-70259c00392c",
   "metadata": {},
   "source": [
    "#### Category (Concat in one Field)"
   ]
  },
  {
   "cell_type": "code",
   "execution_count": 30,
   "id": "876493e5",
   "metadata": {},
   "outputs": [],
   "source": [
    "df_category_1 = df_category.pivot_table(index ='ISSUE_KEY',columns ='OKR_Category', aggfunc=any, fill_value =0)['ISSUE_ID'].reset_index()\n",
    "df_category_1.loc[df_category_1['ARR']== 1,'CATEGORY_1'] = 'ARR'\n",
    "df_category_1.loc[df_category_1['CYBER']== 1,'CATEGORY_2'] = 'CYBER'\n",
    "df_category_1.loc[df_category_1['MIGRATE']== 1,'CATEGORY_3'] = 'MIGRATE'\n",
    "df_category_1.loc[df_category_1['PARTNER']== 1,'CATEGORY_4'] = 'PARTNER'\n",
    "df_category_1.loc[df_category_1['PROD']== 1,'CATEGORY_5'] = 'PROD'\n",
    "df_category_1.loc[df_category_1['SOURCE']== 1,'CATEGORY_6'] = 'SOURCE'\n",
    "df_category_1.loc[df_category_1['SP']== 1,'CATEGORY_7'] = 'SP'\n",
    "df_category_1.loc[df_category_1['STRATEGIC']== 1,'CATEGORY_8'] = 'STRATEGIC'\n",
    "df_category_1.loc[df_category_1['TECH']== 1,'CATEGORY_9'] = 'TECH'\n",
    "df_category_1 = df_category_1.fillna('')\n",
    "df_category_1.loc[:,'CATEGORY'] = df_category_1[['CATEGORY_1', 'CATEGORY_2','CATEGORY_3','CATEGORY_4','CATEGORY_5','CATEGORY_6','CATEGORY_7','CATEGORY_8','CATEGORY_9']].apply(\":\".join, axis=1)\n",
    "df_category_1 = df_category_1.drop(columns=['CATEGORY_1','CATEGORY_2','CATEGORY_3','CATEGORY_4','CATEGORY_5',\n",
    "                          'CATEGORY_6','CATEGORY_7','CATEGORY_8','CATEGORY_9','ARR'\n",
    "                         ,'CYBER','MIGRATE','PARTNER','PROD','SOURCE'\n",
    "                         ,'SP','STRATEGIC','TECH'])\n",
    "\n",
    "df_category_1['CATEGORY'] = df_category_1['CATEGORY'].str.replace(\"::\",\":\").str.replace(\"::\",\":\").str.replace(\"::\",\":\").str.replace(\"::\",\":\").str.replace(\"::\",\":\").str.replace(\"::\",\":\").str.replace(\"::\",\":\")\n",
    "df_category_1.loc[df_category_1['CATEGORY'].str.startswith(\":\"),'CATEGORY']=df_category_1['CATEGORY'].str[1:]\n",
    "df_category_1.loc[df_category_1['CATEGORY'].str.endswith(\":\"),'CATEGORY']=df_category_1['CATEGORY'].str[:-1]"
   ]
  },
  {
   "cell_type": "markdown",
   "id": "a237b61d-b618-430d-a903-b9b4b8c53597",
   "metadata": {},
   "source": [
    "#### Customers (Concat in one Field)"
   ]
  },
  {
   "cell_type": "code",
   "execution_count": 31,
   "id": "bd968053",
   "metadata": {},
   "outputs": [],
   "source": [
    "df_customers['Customers_2']=df_customers['Customers'] \n",
    "df_customers_1 = df_customers.pivot_table(index ='ISSUE_KEY',columns ='Customers',values= 'Customers_2', aggfunc=sum, fill_value ='').reset_index()\n",
    "list1 = []\n",
    "for i in range (1,df_customers['Customers'].nunique()+1,1):\n",
    "    list1.append((i))\n",
    "df_customers_1.loc[:,'CUSTOMERS'] = df_customers_1.iloc[:,list1].apply(\":\".join, axis=1)\n",
    "df_customers_1 = df_customers_1[['ISSUE_KEY','CUSTOMERS']]\n",
    "df_customers_1['CUSTOMERS'] = df_customers_1['CUSTOMERS'].str.replace(\"::\",\":\").str.replace(\"::\",\":\").str.replace(\"::\",\":\").str.replace(\"::\",\":\").str.replace(\"::\",\":\").str.replace(\"::\",\":\").str.replace(\"::\",\":\")\n",
    "df_customers_1.loc[df_customers_1['CUSTOMERS'].str.startswith(\":\"),'CUSTOMERS']=df_customers_1['CUSTOMERS'].str[1:]\n",
    "df_customers_1.loc[df_customers_1['CUSTOMERS'].str.endswith(\":\"),'CUSTOMERS']=df_customers_1['CUSTOMERS'].str[:-1]\n"
   ]
  },
  {
   "cell_type": "markdown",
   "id": "2b6a09be-adb3-404d-96ec-e69a43eff9d3",
   "metadata": {},
   "source": [
    "#### Business Unit (Concat in one Field)"
   ]
  },
  {
   "cell_type": "code",
   "execution_count": 32,
   "id": "0a526042",
   "metadata": {},
   "outputs": [],
   "source": [
    "df_businessUnit['Business_Unit_2']=df_businessUnit['Business_Unit'] \n",
    "df_businessUnit_1 = df_businessUnit.pivot_table(index ='ISSUE_KEY',columns ='Business_Unit',values= 'Business_Unit_2', aggfunc=sum, fill_value ='').reset_index()\n",
    "df_businessUnit_1.loc[:,'BU'] = df_businessUnit_1.iloc[:,[1,2,3]].apply(\":\".join, axis=1)\n",
    "df_businessUnit_1 = df_businessUnit_1[['ISSUE_KEY','BU']]\n",
    "df_businessUnit_1['BU'] = df_businessUnit_1['BU'].str.replace(\"::\",\":\").str.replace(\"::\",\":\").str.replace(\"::\",\":\").str.replace(\"::\",\":\").str.replace(\"::\",\":\").str.replace(\"::\",\":\").str.replace(\"::\",\":\").str.replace(\"::\",\":\")\n",
    "df_businessUnit_1.loc[df_businessUnit_1['BU'].str.startswith(\":\"),'BU']=df_businessUnit_1['BU'].str[1:]\n",
    "df_businessUnit_1.loc[df_businessUnit_1['BU'].str.endswith(\":\"),'BU']=df_businessUnit_1['BU'].str[:-1]\n"
   ]
  },
  {
   "cell_type": "markdown",
   "id": "a20f4a36-dd02-4fdb-870d-5a2fb6ca4465",
   "metadata": {},
   "source": [
    "#### Fix Version (Concat in one Field)"
   ]
  },
  {
   "cell_type": "code",
   "execution_count": 36,
   "id": "52a99cc0",
   "metadata": {},
   "outputs": [],
   "source": [
    "df_IssueFixVersions\n",
    "\n",
    "df_IssueFixVersions['VERSION_NAME_2']=df_IssueFixVersions['VERSION_NAME'] \n",
    "df_IssueFixVersions_1 = df_IssueFixVersions.pivot_table(index ='ISSUE_KEY',columns ='VERSION_NAME',values= 'VERSION_NAME_2', aggfunc=sum, fill_value ='').reset_index()\n",
    "list1 = []\n",
    "for i in range (1,df_IssueFixVersions['VERSION_NAME'].nunique()+1,1):\n",
    "    list1.append((i))\n",
    "df_IssueFixVersions_1.loc[:,'VERSION_NAME'] = df_IssueFixVersions_1.iloc[:,list1].apply(\":\".join, axis=1)\n",
    "df_IssueFixVersions_1 = df_IssueFixVersions_1[['ISSUE_KEY','VERSION_NAME']]\n",
    "df_IssueFixVersions_1['VERSION_NAME'] = df_IssueFixVersions_1['VERSION_NAME'].str.replace(\"::\",\":\").str.replace(\"::\",\":\").str.replace(\"::\",\":\").str.replace(\"::\",\":\").str.replace(\"::\",\":\").str.replace(\"::\",\":\").str.replace(\"::\",\":\").str.replace(\"::\",\":\").str.replace(\"::\",\":\").str.replace(\"::\",\":\")\n",
    "df_IssueFixVersions_1.loc[df_IssueFixVersions_1['VERSION_NAME'].str.startswith(\":\"),'VERSION_NAME']=df_IssueFixVersions_1['VERSION_NAME'].str[1:]\n",
    "df_IssueFixVersions_1.loc[df_IssueFixVersions_1['VERSION_NAME'].str.endswith(\":\"),'VERSION_NAME']=df_IssueFixVersions_1['VERSION_NAME'].str[:-1]\n",
    "\n"
   ]
  },
  {
   "cell_type": "code",
   "execution_count": 37,
   "id": "5fbd1c2c-1281-4d76-bfe8-e6ac158c2a45",
   "metadata": {},
   "outputs": [],
   "source": [
    "#df_IssueFixVersions"
   ]
  },
  {
   "cell_type": "code",
   "execution_count": 38,
   "id": "4ce567e4-4d36-4df3-ad5d-447d1cca18a1",
   "metadata": {},
   "outputs": [],
   "source": [
    "#df_IssueFixVersions[df_IssueFixVersions['ISSUE_KEY']=='RPLAT-33566']"
   ]
  },
  {
   "cell_type": "markdown",
   "id": "e8f0e486-9b65-4d0b-b1f5-bc66500a4231",
   "metadata": {},
   "source": [
    "#### Clean Issue Sprints (delete duplicated)"
   ]
  },
  {
   "cell_type": "code",
   "execution_count": 39,
   "id": "c8ac7d1f",
   "metadata": {},
   "outputs": [],
   "source": [
    "df_issueSprints = df_issueSprints.sort_values('SPRINT_ID')\n",
    "df_issueSprints.drop_duplicates(subset=\"ISSUE_KEY\",keep='last', inplace=True)"
   ]
  },
  {
   "cell_type": "code",
   "execution_count": 40,
   "id": "86f681c8",
   "metadata": {},
   "outputs": [],
   "source": [
    "#df_issueSprints[df_issueSprints['ISSUE_KEY']=='RPLAT-15710']"
   ]
  },
  {
   "cell_type": "markdown",
   "id": "eebc74c7-e8de-49b0-ad05-44fff7be49bb",
   "metadata": {
    "tags": []
   },
   "source": [
    "#### THEME (Concat in one field)"
   ]
  },
  {
   "cell_type": "code",
   "execution_count": 41,
   "id": "1ab3463a",
   "metadata": {},
   "outputs": [],
   "source": [
    "df_theme['THEME']=df_theme['Theme'] \n",
    "df_theme_1 = df_theme.pivot_table(index ='ISSUE_KEY',columns ='Theme',values= 'THEME', aggfunc=sum, fill_value ='').reset_index()\n",
    "list1 = []\n",
    "for i in range (1,df_theme['Theme'].nunique()+1,1):\n",
    "    list1.append((i))\n",
    "df_theme_1.loc[:,'THEME'] = df_theme_1.iloc[:,list1].apply(\":\".join, axis=1)\n",
    "df_theme_1 = df_theme_1[['ISSUE_KEY','THEME']]\n",
    "df_theme_1['THEME'] = df_theme_1['THEME'].str.replace(\"::\",\":\").str.replace(\"::\",\":\").str.replace(\"::\",\":\").str.replace(\"::\",\":\").str.replace(\"::\",\":\").str.replace(\"::\",\":\").str.replace(\"::\",\":\").str.replace(\"::\",\":\").str.replace(\"::\",\":\").str.replace(\"::\",\":\")\n",
    "df_theme_1.loc[df_theme_1['THEME'].str.startswith(\":\"),'THEME']=df_theme_1['THEME'].str[1:]\n",
    "df_theme_1.loc[df_theme_1['THEME'].str.endswith(\":\"),'THEME']=df_theme_1['THEME'].str[:-1]\n",
    "df_theme_1.loc[df_theme_1['THEME']=='Chain:Supply','THEME']='SuppplyChain'\n",
    "df_theme_1.loc[df_theme_1['THEME']=='Product:Single','THEME']='SingleProduct'\n"
   ]
  },
  {
   "cell_type": "code",
   "execution_count": 42,
   "id": "8eb123dd",
   "metadata": {},
   "outputs": [],
   "source": [
    "#df_theme_1.head()"
   ]
  },
  {
   "cell_type": "markdown",
   "id": "5992a834-0224-49cd-8d08-05d08234f371",
   "metadata": {},
   "source": [
    "#### category for IDEAS (Concat in one field)"
   ]
  },
  {
   "cell_type": "code",
   "execution_count": 43,
   "id": "43c78ff8-682e-441d-b098-ff8df722dcd3",
   "metadata": {},
   "outputs": [],
   "source": [
    "#df_category_idea['IDEA_CATEGORY']=df_category_idea['Category'] \n",
    "#df_category_idea_1 = df_category_idea.pivot_table(index ='ISSUE_KEY',columns ='Category',values= 'IDEA_CATEGORY', aggfunc=sum, fill_value ='').reset_index()\n",
    "#list1 = []\n",
    "#for i in range (1,df_category_idea['Category'].nunique()+1,1):\n",
    "#    list1.append((i))\n",
    "#df_category_idea_1.loc[:,'IDEA_CATEGORY'] = df_category_idea_1.iloc[:,list1].apply(\":\".join, axis=1)\n",
    "#df_category_idea_1 = df_category_idea_1[['ISSUE_KEY','IDEA_CATEGORY']]\n",
    "#df_category_idea_1['IDEA_CATEGORY'] = df_category_idea_1['IDEA_CATEGORY'].str.replace(\"::\",\":\").str.replace(\"::\",\":\").str.replace(\"::\",\":\").str.replace(\"::\",\":\").str.replace(\"::\",\":\").str.replace(\"::\",\":\").str.replace(\"::\",\":\").str.replace(\"::\",\":\").str.replace(\"::\",\":\").str.replace(\"::\",\":\")\n",
    "#df_category_idea_1.loc[df_category_idea_1['IDEA_CATEGORY'].str.startswith(\":\"),'IDEA_CATEGORY']=df_category_idea_1['IDEA_CATEGORY'].str[1:]\n",
    "#df_category_idea_1.loc[df_category_idea_1['IDEA_CATEGORY'].str.endswith(\":\"),'IDEA_CATEGORY']=df_category_idea_1['IDEA_CATEGORY'].str[:-1]"
   ]
  },
  {
   "cell_type": "code",
   "execution_count": 44,
   "id": "976befae-a1d6-4ad1-9965-055fabc4007a",
   "metadata": {},
   "outputs": [],
   "source": [
    "#df_category_idea.head()\n",
    "#df_category_idea_1.head()"
   ]
  },
  {
   "cell_type": "markdown",
   "id": "246472cf-f349-4045-8616-92070cd56644",
   "metadata": {},
   "source": [
    "#### FeatureSet for IDEAS (Concat in one field)"
   ]
  },
  {
   "cell_type": "code",
   "execution_count": 46,
   "id": "e7698ee5-60b0-440f-8fe4-76aa042e4a74",
   "metadata": {},
   "outputs": [],
   "source": [
    "df_feature_set_idea['IDEA_FEATURE_SET']=df_feature_set_idea['Feature_Set'] \n",
    "df_feature_set_idea_1 = df_feature_set_idea.pivot_table(index ='ISSUE_KEY',columns ='Feature_Set',values= 'IDEA_FEATURE_SET', aggfunc=sum, fill_value ='').reset_index()\n",
    "list1 = []\n",
    "for i in range (1,df_feature_set_idea['Feature_Set'].nunique()+1,1):\n",
    "    list1.append((i))\n",
    "df_feature_set_idea_1.loc[:,'IDEA_FEATURE_SET'] = df_feature_set_idea_1.iloc[:,list1].apply(\":\".join, axis=1)\n",
    "df_feature_set_idea_1 = df_feature_set_idea_1[['ISSUE_KEY','IDEA_FEATURE_SET']]\n",
    "df_feature_set_idea_1['IDEA_FEATURE_SET'] = df_feature_set_idea_1['IDEA_FEATURE_SET'].str.replace(\"::\",\":\").str.replace(\"::\",\":\").str.replace(\"::\",\":\").str.replace(\"::\",\":\").str.replace(\"::\",\":\").str.replace(\"::\",\":\").str.replace(\"::\",\":\").str.replace(\"::\",\":\").str.replace(\"::\",\":\").str.replace(\"::\",\":\")\n",
    "df_feature_set_idea_1.loc[df_feature_set_idea_1['IDEA_FEATURE_SET'].str.startswith(\":\"),'IDEA_FEATURE_SET']=df_feature_set_idea_1['IDEA_FEATURE_SET'].str[1:]\n",
    "df_feature_set_idea_1.loc[df_feature_set_idea_1['IDEA_FEATURE_SET'].str.endswith(\":\"),'IDEA_FEATURE_SET']=df_feature_set_idea_1['IDEA_FEATURE_SET'].str[:-1]"
   ]
  },
  {
   "cell_type": "code",
   "execution_count": 47,
   "id": "be8c1082-cdd0-4969-b27d-780f4eb9236d",
   "metadata": {},
   "outputs": [],
   "source": [
    "#df_feature_set_idea.head()\n",
    "#df_feature_set_idea_1.head()"
   ]
  },
  {
   "cell_type": "markdown",
   "id": "f7f6602c-4646-4285-80f1-ba3335f364a4",
   "metadata": {},
   "source": [
    "#### Key Customer for IDEAS (Concat in one field)"
   ]
  },
  {
   "cell_type": "code",
   "execution_count": 96,
   "id": "afa2c853-ac02-4a94-a932-8f08a3e559bf",
   "metadata": {},
   "outputs": [],
   "source": [
    "df_key_customer_idea['IDEA_KEY_CUSTOMERS']=df_key_customer_idea['Key_Customers'] \n",
    "df_key_customer_idea_1 = df_key_customer_idea.pivot_table(index ='ISSUE_KEY',columns ='Key_Customers',values= 'IDEA_KEY_CUSTOMERS', aggfunc=sum, fill_value ='').reset_index()\n",
    "list1 = []\n",
    "for i in range (1,df_key_customer_idea['Key_Customers'].nunique()+1,1):\n",
    "    list1.append((i))\n",
    "df_key_customer_idea_1.loc[:,'IDEA_KEY_CUSTOMERS'] = df_key_customer_idea_1.iloc[:,list1].apply(\":\".join, axis=1)\n",
    "df_key_customer_idea_1 = df_key_customer_idea_1[['ISSUE_KEY','IDEA_KEY_CUSTOMERS']]\n",
    "df_key_customer_idea_1['IDEA_KEY_CUSTOMERS'] = df_key_customer_idea_1['IDEA_KEY_CUSTOMERS'].str.replace(\"::\",\":\").str.replace(\"::\",\":\").str.replace(\"::\",\":\").str.replace(\"::\",\":\").str.replace(\"::\",\":\").str.replace(\"::\",\":\").str.replace(\"::\",\":\").str.replace(\"::\",\":\").str.replace(\"::\",\":\").str.replace(\"::\",\":\")\n",
    "df_key_customer_idea_1.loc[df_key_customer_idea_1['IDEA_KEY_CUSTOMERS'].str.startswith(\":\"),'IDEA_KEY_CUSTOMERS']=df_key_customer_idea_1['IDEA_KEY_CUSTOMERS'].str[1:]\n",
    "df_key_customer_idea_1.loc[df_key_customer_idea_1['IDEA_KEY_CUSTOMERS'].str.endswith(\":\"),'IDEA_KEY_CUSTOMERS']=df_key_customer_idea_1['IDEA_KEY_CUSTOMERS'].str[:-1]"
   ]
  },
  {
   "cell_type": "code",
   "execution_count": 48,
   "id": "a84e9b4e-0d02-4817-a51f-188f78465efd",
   "metadata": {},
   "outputs": [],
   "source": [
    "#df_key_customer_idea_1.head()"
   ]
  },
  {
   "cell_type": "markdown",
   "id": "c5f324b9-3eca-4488-b526-0e915c82883e",
   "metadata": {},
   "source": [
    "### Join datasources and Consolidate one table complete"
   ]
  },
  {
   "cell_type": "code",
   "execution_count": 60,
   "id": "26960c65",
   "metadata": {},
   "outputs": [],
   "source": [
    "df_full = pd.merge(df_issues, df_issueSprints, on =['ISSUE_ID','ISSUE_KEY'],how = 'left')\n",
    "df_full = pd.merge(df_full, df_IssueFixVersions_1, on =['ISSUE_KEY'],how = 'left')\n",
    "df_full = pd.merge(df_full, df_businessUnit_1, on =['ISSUE_KEY'],how = 'left')\n",
    "df_full = pd.merge(df_full, df_customers_1, on =['ISSUE_KEY'],how = 'left')\n",
    "df_full = pd.merge(df_full, df_category_1, on =['ISSUE_KEY'],how = 'left')\n",
    "df_full = pd.merge(df_full, df_theme_1, on =['ISSUE_KEY'],how = 'left')\n",
    "df_full = pd.merge(df_full, df_Sprints, on =['SPRINT_ID','SPRINT_NAME'],how = 'left')"
   ]
  },
  {
   "cell_type": "code",
   "execution_count": 61,
   "id": "a0392ceb",
   "metadata": {},
   "outputs": [],
   "source": [
    "#df_full.head()"
   ]
  },
  {
   "cell_type": "markdown",
   "id": "83187aa7-8e38-4ebe-b55d-950328995cc3",
   "metadata": {},
   "source": [
    "#### Create Dataframe for IDEAS/PR"
   ]
  },
  {
   "cell_type": "code",
   "execution_count": 62,
   "id": "ef0f8547",
   "metadata": {},
   "outputs": [],
   "source": [
    "df_issues_s = df_full[['CREATED','ISSUE_ID','ISSUE_KEY','SUMMARY','ISSUE_TYPE_NAME','ISSUE_STATUS_NAME',\n",
    "                         'SPRINT_ID','SPRINT_NAME','STATE','START_DATE','END_DATE','COMPLETE_DATE',\n",
    "                         'VERSION_NAME',\n",
    "                         'PRIORITY','CURRENT_ASSIGNEE_NAME','REPORTER_NAME','RESOLUTION_DATE','STATUS_CATEGORY_CHANGE_DATE',\n",
    "                         #'TIME_SPENT','TIME_SPENT_WITH_SUBTASKS',\n",
    "                       'PARENT_ISSUE_KEY','CATEGORY','BU','CUSTOMERS',\n",
    "                       'THEME',\n",
    "                       'Story_Points_10400','Progress___11891'\n",
    "                       #,'__Effort_12125','Layout_12166'\n",
    "                      ]]\n",
    "df_issues_s = df_issues_s.rename(columns={\"Story_Points_10400\":\"STORYPOINTS\",\n",
    "                              \"Progress___11891\":\"PROGRESS\"\n",
    "                             })\n",
    "\n",
    "\n"
   ]
  },
  {
   "cell_type": "markdown",
   "id": "3bb9986a-6db6-4d5b-af00-493416003c4e",
   "metadata": {},
   "source": [
    "#### Create Dataframe for linked issues (Epics)"
   ]
  },
  {
   "cell_type": "code",
   "execution_count": 63,
   "id": "fdf5add5",
   "metadata": {},
   "outputs": [],
   "source": [
    "df_issues_s_2 = df_issues_s[['ISSUE_ID','ISSUE_KEY','SUMMARY','ISSUE_TYPE_NAME','ISSUE_STATUS_NAME','CURRENT_ASSIGNEE_NAME'\n",
    "                             ,'SPRINT_NAME','START_DATE','END_DATE','VERSION_NAME','CATEGORY','BU','CUSTOMERS',\n",
    "                            'THEME',\n",
    "                             'STORYPOINTS','PROGRESS']]\n",
    "df_issues_s_2 = df_issues_s_2.rename(columns={\"ISSUE_ID\": \"LINKED_1_ISSUE_ID\", \n",
    "                              \"ISSUE_KEY\": \"LINKED_1_ISSUE_KEY\",\n",
    "                              \"SUMMARY\": \"LINKED_1_SUMMARY\",                \n",
    "                              \"ISSUE_TYPE_NAME\":\"LINKED_1_ISSUE_TYPE_NAME\",\n",
    "                              \"ISSUE_STATUS_NAME\":\"LINKED_1_ISSUE_STATUS_NAME\",\n",
    "                              'CURRENT_ASSIGNEE_NAME':\"LINKED_1_ASSIGNEE_NAME\",\n",
    "                              \"SPRINT_NAME\":\"LINKED_1_SPRINT_NAME\",\n",
    "                              \"START_DATE\":\"LINKED_1_SPRINT_START_DATE\",\n",
    "                              \"END_DATE\":\"LINKED_1_SPRINT_END_DATE\", \n",
    "                              \"VERSION_NAME\":\"LINKED_1_VERSION_NAME\",\n",
    "                              \"CATEGORY\":\"LINKED_1_CATEGORY\",\n",
    "                              \"BU\":\"LINKED_1_BU\",\n",
    "                              \"CUSTOMERS\":\"LINKED_1_CUSTOMERS\",\n",
    "                              \"THEME\":\"LINKED_1_THEME\",                \n",
    "                              \"STORYPOINTS\":\"LINKED_1_STORYPOINTS\",\n",
    "                              \"PROGRESS\":\"LINKED_1_PROGRESS\"\n",
    "                             })\n"
   ]
  },
  {
   "cell_type": "markdown",
   "id": "7146bb24-bbb8-41fb-80de-f1a02eb9b706",
   "metadata": {},
   "source": [
    "#### Join ISSUES WITH issueLinks"
   ]
  },
  {
   "cell_type": "code",
   "execution_count": 64,
   "id": "2d3891c7",
   "metadata": {},
   "outputs": [],
   "source": [
    "df_issues_1 = pd.merge(df_issues_s,df_issueLinks,on =['ISSUE_ID','ISSUE_KEY'],how=\"left\")"
   ]
  },
  {
   "cell_type": "code",
   "execution_count": 65,
   "id": "9bee4a34",
   "metadata": {},
   "outputs": [],
   "source": [
    "df_issues_1 = df_issues_1.rename(columns={\"LINKED_ISSUE_ID\":\"LINKED_1_ISSUE_ID\", \n",
    "                            \"LINKED_ISSUE_KEY\":\"LINKED_1_ISSUE_KEY\",\n",
    "                            \"DIRECTION\":\"DIRECTION_1\",\n",
    "                            \"TYPE\":\"TYPE_1\"\n",
    "                             })"
   ]
  },
  {
   "cell_type": "markdown",
   "id": "3681a701-4516-42dc-a0a6-32d446156170",
   "metadata": {},
   "source": [
    "#### Enrichment ISSUES WITH Epics Dataframe"
   ]
  },
  {
   "cell_type": "code",
   "execution_count": 66,
   "id": "d628a26d",
   "metadata": {},
   "outputs": [],
   "source": [
    "df_issues_2 = pd.merge(df_issues_1, df_issues_s_2,on=['LINKED_1_ISSUE_KEY','LINKED_1_ISSUE_ID'],how=\"left\")"
   ]
  },
  {
   "cell_type": "code",
   "execution_count": 67,
   "id": "a636d7ba",
   "metadata": {},
   "outputs": [],
   "source": [
    "#df_issues_2.head()"
   ]
  },
  {
   "cell_type": "markdown",
   "id": "0e84ae39",
   "metadata": {},
   "source": [
    "### Product Requests (PR) - Data Preparation"
   ]
  },
  {
   "cell_type": "code",
   "execution_count": 68,
   "id": "bda5ba30",
   "metadata": {},
   "outputs": [],
   "source": [
    "df_PR = df_issues_2[df_issues_2['ISSUE_TYPE_NAME'].str.startswith('Product Request')][['CREATED','ISSUE_KEY','SUMMARY',\n",
    "                                                                       'ISSUE_TYPE_NAME','ISSUE_STATUS_NAME',\n",
    "                                                                        'CURRENT_ASSIGNEE_NAME',\n",
    "        'SPRINT_ID','SPRINT_NAME','STATE','START_DATE','END_DATE','COMPLETE_DATE',\n",
    "        #'VERSION_ID',\n",
    "        'VERSION_NAME','PRIORITY',\n",
    "        'REPORTER_NAME','RESOLUTION_DATE','STATUS_CATEGORY_CHANGE_DATE',\n",
    "        #'TIME_SPENT','TIME_SPENT_WITH_SUBTASKS',\n",
    "         'CATEGORY','BU','CUSTOMERS','STORYPOINTS','PROGRESS' ,'TYPE_1','DIRECTION_1',                                                              \n",
    "        'LINKED_1_ISSUE_KEY','LINKED_1_SUMMARY','LINKED_1_ISSUE_TYPE_NAME','LINKED_1_ISSUE_STATUS_NAME','LINKED_1_ASSIGNEE_NAME',\n",
    "        'LINKED_1_SPRINT_NAME','LINKED_1_SPRINT_START_DATE','LINKED_1_SPRINT_END_DATE','LINKED_1_VERSION_NAME',\n",
    "        'LINKED_1_CATEGORY','LINKED_1_BU','LINKED_1_CUSTOMERS',\n",
    "        'LINKED_1_THEME',\n",
    "        'LINKED_1_STORYPOINTS','LINKED_1_PROGRESS'\n",
    "         ]]"
   ]
  },
  {
   "cell_type": "code",
   "execution_count": 69,
   "id": "74cbbd87-29da-46a7-b0bb-33cfd595aaa1",
   "metadata": {},
   "outputs": [],
   "source": [
    "df_PR = df_PR[(df_PR['TYPE_1']=='Depends')&(df_PR['DIRECTION_1']=='Outward')]"
   ]
  },
  {
   "cell_type": "code",
   "execution_count": 70,
   "id": "c04d6a62",
   "metadata": {},
   "outputs": [],
   "source": [
    "df_issues_PR_1 = df_issues_2[(df_issues_2['ISSUE_TYPE_NAME']!='Product Request')\n",
    "                             &(df_issues_2['PARENT_ISSUE_KEY'].notnull())][['CREATED','ISSUE_KEY','SUMMARY',\n",
    "                                                                              'ISSUE_TYPE_NAME','ISSUE_STATUS_NAME',\n",
    "                                                                              'STATUS_CATEGORY_CHANGE_DATE',\n",
    "                                                                              'SPRINT_NAME','STATE','START_DATE',\n",
    "                                                                              'END_DATE','COMPLETE_DATE',\n",
    "                                                                              'VERSION_NAME','CURRENT_ASSIGNEE_NAME',\n",
    "                                                                              'REPORTER_NAME',\n",
    "                                                                              #'TIME_SPENT','TIME_SPENT_WITH_SUBTASKS',\n",
    "                                                                              'CATEGORY','BU','CUSTOMERS',\n",
    "                                                                            'THEME',\n",
    "                                                                            'STORYPOINTS','PROGRESS','PARENT_ISSUE_KEY'\n",
    "                                                                             ]]\n",
    "\n",
    "\n",
    "df_issues_PR_1 = df_issues_PR_1.rename(columns={\"CREATED\": \"CHILD_CREATED\", \n",
    "                              \"ISSUE_KEY\": \"CHILD_ISSUE_KEY\",\n",
    "                              \"SUMMARY\": \"CHILD_SUMMARY\",                                            \n",
    "                              \"ISSUE_TYPE_NAME\":\"CHILD_ISSUE_TYPE_NAME\",\n",
    "                              \"STATUS_CATEGORY_CHANGE_DATE\":\"CHILD_STATUS_CATEGORY_CHANGE_DATE\",\n",
    "                              \"ISSUE_STATUS_NAME\":\"CHILD_ISSUE_STATUS_NAME\",\n",
    "                              \"SPRINT_NAME\":\"CHILD_SPRINT_NAME\",\n",
    "                              \"STATE\":\"CHILD_SPRINT_STATE\",                  \n",
    "                              \"START_DATE\":\"CHILD_SPRINT_START_DATE\",\n",
    "                              \"END_DATE\":\"CHILD_SPRINT_END_DATE\",\n",
    "                              \"COMPLETE_DATE\":\"CHILD_SPRINT_COMPLETE_DATE\",\n",
    "                              \"VERSION_NAME\":\"CHILD_VERSION_NAME\",\n",
    "                              \"CURRENT_ASSIGNEE_NAME\":\"CHILD_ASSIGNEE_NAME\",\n",
    "                              'REPORTER_NAME':'CHILD_REPORTER_NAME',\n",
    "                              #'TIME_SPENT':'CHILD_TIME_SPENT',\n",
    "                              #'TIME_SPENT_WITH_SUBTASKS':'CHILD_TIME_SPENT_WITH_SUBTASKS',\n",
    "                              'CATEGORY':'CHILD_CATEGORY',\n",
    "                              'BU':'CHILD_BU',\n",
    "                              'CUSTOMERS':'CHILD_CUSTOMERS',\n",
    "                              'THEME':'CHILD_THEME',                  \n",
    "                              'STORYPOINTS':'CHILD_STORYPOINTS',\n",
    "                              'PROGRESS':'CHILD_PROGRESS',\n",
    "                              'PARENT_ISSUE_KEY':'LINKED_1_ISSUE_KEY'                  \n",
    "                             })"
   ]
  },
  {
   "cell_type": "code",
   "execution_count": 71,
   "id": "8e2d14b2",
   "metadata": {},
   "outputs": [],
   "source": [
    "df_PR_1 = pd.merge(df_PR, df_issues_PR_1,how='left', on='LINKED_1_ISSUE_KEY')"
   ]
  },
  {
   "cell_type": "code",
   "execution_count": 72,
   "id": "18995814",
   "metadata": {},
   "outputs": [],
   "source": [
    "df_sub_PR_1 = df_issues_2[(df_issues_2['ISSUE_TYPE_NAME']!='Product Request')\n",
    "                             &(df_issues_2['PARENT_ISSUE_KEY'].notnull())][['CREATED','ISSUE_KEY','SUMMARY',\n",
    "                                                                              'ISSUE_TYPE_NAME','ISSUE_STATUS_NAME',\n",
    "                                                                              'STATUS_CATEGORY_CHANGE_DATE',\n",
    "                                                                              'SPRINT_NAME','STATE','START_DATE',\n",
    "                                                                              'END_DATE','COMPLETE_DATE',\n",
    "                                                                              'VERSION_NAME','CURRENT_ASSIGNEE_NAME',\n",
    "                                                                              'REPORTER_NAME',\n",
    "                                                                              #'TIME_SPENT','TIME_SPENT_WITH_SUBTASKS',\n",
    "                                                                              'CATEGORY','BU','CUSTOMERS',\n",
    "                                                                            'THEME',\n",
    "                                                                            'STORYPOINTS','PROGRESS','PARENT_ISSUE_KEY'\n",
    "                                                                             ]]\n",
    "\n",
    "\n",
    "df_sub_PR_1 = df_sub_PR_1.rename(columns={\"CREATED\": \"SUB_CREATED\", \n",
    "                              \"ISSUE_KEY\": \"SUB_ISSUE_KEY\",\n",
    "                              \"SUMMARY\": \"SUB_SUMMARY\", \n",
    "                              \"ISSUE_TYPE_NAME\":\"SUB_ISSUE_TYPE_NAME\",\n",
    "                              \"STATUS_CATEGORY_CHANGE_DATE\":\"SUB_STATUS_CATEGORY_CHANGE_DATE\",\n",
    "                              \"ISSUE_STATUS_NAME\":\"SUB_ISSUE_STATUS_NAME\",\n",
    "                              \"SPRINT_NAME\":\"SUB_SPRINT_NAME\",\n",
    "                              \"STATE\":\"SUB_SPRINT_STATE\",                  \n",
    "                              \"START_DATE\":\"SUB_SPRINT_START_DATE\",\n",
    "                              \"END_DATE\":\"SUB_SPRINT_END_DATE\",\n",
    "                              \"COMPLETE_DATE\":\"SUB_SPRINT_COMPLETE_DATE\",\n",
    "                              \"VERSION_NAME\":\"SUB_VERSION_NAME\",\n",
    "                              \"CURRENT_ASSIGNEE_NAME\":\"SUB_ASSIGNEE_NAME\",\n",
    "                              'REPORTER_NAME':'SUB_REPORTER_NAME',\n",
    "                              #'TIME_SPENT':'SUB_TIME_SPENT',\n",
    "                              #'TIME_SPENT_WITH_SUBTASKS':'SUB_TIME_SPENT_WITH_SUBTASKS',\n",
    "                              'CATEGORY':'SUB_CATEGORY',\n",
    "                              'BU':'SUB_BU',\n",
    "                              'CUSTOMERS':'SUB_CUSTOMERS',\n",
    "                              'THEME':'SUB_THEME',  \n",
    "                              'STORYPOINTS':'SUB_STORYPOINTS',\n",
    "                              'PROGRESS':'SUB_PROGRESS',\n",
    "                              'PARENT_ISSUE_KEY':'CHILD_ISSUE_KEY'                  \n",
    "                             })"
   ]
  },
  {
   "cell_type": "code",
   "execution_count": 73,
   "id": "4b372da5",
   "metadata": {},
   "outputs": [],
   "source": [
    "df_PR_f = pd.merge(df_PR_1, df_sub_PR_1,how='left', on='CHILD_ISSUE_KEY')"
   ]
  },
  {
   "cell_type": "code",
   "execution_count": 74,
   "id": "81c05211",
   "metadata": {},
   "outputs": [],
   "source": [
    "df_PR_f.loc[df_PR_f['SUB_ISSUE_KEY'].notnull(),'TOTAL_STORYPOINTS']= df_PR_f['SUB_STORYPOINTS']\n",
    "df_PR_f.loc[(df_PR_f['TOTAL_STORYPOINTS'].isnull())&\n",
    "            (df_PR_f['SUB_ISSUE_KEY'].isnull())&\n",
    "            (df_PR_f['CHILD_ISSUE_KEY'].notnull()),'TOTAL_STORYPOINTS']= df_PR_f['CHILD_STORYPOINTS']\n",
    "df_PR_f.loc[(df_PR_f['TOTAL_STORYPOINTS'].isnull())&\n",
    "            (df_PR_f['SUB_ISSUE_KEY'].isnull())&\n",
    "            (df_PR_f['CHILD_ISSUE_KEY'].isnull())&\n",
    "            (df_PR_f['LINKED_1_ISSUE_KEY'].notnull()),'TOTAL_STORYPOINTS']= df_PR_f['LINKED_1_STORYPOINTS']"
   ]
  },
  {
   "cell_type": "code",
   "execution_count": 75,
   "id": "0b011fba",
   "metadata": {},
   "outputs": [],
   "source": [
    "#df_PR_f.tail(30)[['LINKED_1_STORYPOINTS','CHILD_STORYPOINTS','SUB_STORYPOINTS','TOTAL_STORYPOINTS']]"
   ]
  },
  {
   "cell_type": "code",
   "execution_count": 76,
   "id": "8f75ad0f",
   "metadata": {},
   "outputs": [],
   "source": [
    "#df_PR_f[df_PR_f['SUB_ISSUE_KEY']=='RPLAT-38379'][['SUB_ISSUE_KEY','SUB_ISSUE_TYPE_NAME','SUB_SPRINT_NAME','CHILD_ISSUE_KEY','CHILD_SPRINT_NAME','CHILD_ISSUE_TYPE_NAME']]"
   ]
  },
  {
   "cell_type": "code",
   "execution_count": 77,
   "id": "be700128",
   "metadata": {},
   "outputs": [],
   "source": [
    "#df_issues[df_issues['ISSUE_KEY']=='PR-732']\n",
    "#df_PR_f[df_PR_f['ISSUE_KEY']=='PR-732'].head()"
   ]
  },
  {
   "cell_type": "code",
   "execution_count": 78,
   "id": "bb1b02de",
   "metadata": {},
   "outputs": [],
   "source": [
    "##df_PR_sub_not_Null = df_PR_f[(df_PR_f['SUB_ISSUE_KEY'].notnull())]"
   ]
  },
  {
   "cell_type": "code",
   "execution_count": 81,
   "id": "098e5ce6",
   "metadata": {},
   "outputs": [],
   "source": [
    "#df_versions['VERSION_ID'].count()"
   ]
  },
  {
   "cell_type": "code",
   "execution_count": 82,
   "id": "52d44303-9aa9-46f6-95e4-37b04279777b",
   "metadata": {},
   "outputs": [],
   "source": [
    "#df_versions = df_versions.sort_values('START_DATE')"
   ]
  },
  {
   "cell_type": "code",
   "execution_count": 83,
   "id": "ce6a0bce-69f7-4a77-8a6a-208927743b0b",
   "metadata": {},
   "outputs": [],
   "source": [
    "#df_versions.head()"
   ]
  },
  {
   "cell_type": "code",
   "execution_count": 84,
   "id": "e7b9e810-22e7-4ea3-b862-800f3eeacbf2",
   "metadata": {},
   "outputs": [],
   "source": [
    "df_versions['START_DATE_m'] = df_versions['RELEASE_DATE']+pd.Timedelta(days=1)\n",
    "df_versions['START_DATE_2_m'] = df_versions['RELEASE_DATE']+pd.Timedelta(seconds=86399)"
   ]
  },
  {
   "cell_type": "code",
   "execution_count": 85,
   "id": "9e1324f8",
   "metadata": {},
   "outputs": [
    {
     "name": "stdout",
     "output_type": "stream",
     "text": [
      "2021-09-27 00:00:00+00:00 2021-10-22 23:59:59+00:00 00 v8.4 Chihuahua\n",
      "2021-10-23 00:00:00+00:00 2022-01-14 23:59:59+00:00 01 v8.6 Arctic Fox\n",
      "2022-01-15 00:00:00+00:00 2022-02-11 23:59:59+00:00 02 v8.7 Cheetah\n",
      "2022-02-12 00:00:00+00:00 2022-03-18 23:59:59+00:00 03 v8.8 Panda\n",
      "2022-03-19 00:00:00+00:00 2022-04-15 23:59:59+00:00 04 v8.9 Elephant\n",
      "2022-04-16 00:00:00+00:00 2022-05-13 23:59:59+00:00 05 v8.10 Monkey\n",
      "2022-05-14 00:00:00+00:00 2022-06-10 23:59:59+00:00 06 v8.11 Quokka\n",
      "2022-06-11 00:00:00+00:00 2022-07-08 23:59:59+00:00 07 v8.12 Butterfly\n",
      "2022-07-09 00:00:00+00:00 2022-08-05 23:59:59+00:00 08 v8.13 Quetzal\n",
      "2022-08-06 00:00:00+00:00 2022-09-02 23:59:59+00:00 09 v8.14 Alligator\n",
      "2022-09-03 00:00:00+00:00 2022-09-30 23:59:59+00:00 10 v8.15 Alpaca\n",
      "2022-10-01 00:00:00+00:00 2022-10-28 23:59:59+00:00 11 v8.16 Beaver\n",
      "2022-10-29 00:00:00+00:00 2022-11-30 23:59:59+00:00 12 v8.17 Deer\n",
      "2022-12-01 00:00:00+00:00 2023-01-13 23:59:59+00:00 13 v9.0 Kraken\n",
      "2023-01-14 00:00:00+00:00 2023-02-10 23:59:59+00:00 14 v9.1 Pegasus\n",
      "2023-02-11 00:00:00+00:00 2023-03-10 23:59:59+00:00 15 v9.2 Phoenix\n",
      "2023-03-11 00:00:00+00:00 2023-04-07 23:59:59+00:00 16 v9.3 Dragon\n",
      "2023-04-08 00:00:00+00:00 2023-05-05 23:59:59+00:00 17 v9.4 Minotaur\n",
      "2023-05-06 00:00:00+00:00 2023-06-02 23:59:59+00:00 18 v9.5 Cyclops\n",
      "2023-06-03 00:00:00+00:00 2023-06-30 23:59:59+00:00 19 v9.6 Hydra\n",
      "2023-07-01 00:00:00+00:00 2023-07-28 23:59:59+00:00 20 v9.7 Werewolf\n",
      "2023-07-29 00:00:00+00:00 2023-09-01 23:59:59+00:00 21 v9.8 Leviathan\n",
      "2023-09-02 00:00:00+00:00 2023-09-22 23:59:59+00:00 22 v9.9 Antman\n",
      "2023-09-23 00:00:00+00:00 2023-10-20 23:59:59+00:00 23 v9.10 Batman\n",
      "2023-10-21 00:00:00+00:00 2023-11-17 23:59:59+00:00 24 v9.11 Constantine\n",
      "2023-11-18 00:00:00+00:00 2023-12-08 23:59:59+00:00 25 v9.12 D***\n"
     ]
    }
   ],
   "source": [
    "for i in range(0,df_versions['VERSION_ID'].count()):\n",
    "    START_DATE = df_versions.iloc[i-1,10] \n",
    "    END_DATE = df_versions.iloc[i,11] \n",
    "    if i < 10:\n",
    "        i_m = \"0\"+str(i)\n",
    "    if i >=10:\n",
    "        i_m = str(i)\n",
    "    VERSION = i_m+\" \"+df_versions.iloc[i,1]\n",
    "    if VERSION == '00 v8.4 Chihuahua':\n",
    "        START_DATE='2021-09-27 00:00:00+00:00'\n",
    "    \n",
    "    #START_DATE = START_DATE.replace(\"00:00:00+00:00\",\"23:59:59+00:00\")\n",
    "    #END_DATE = END_DATE\n",
    "    \n",
    "    df_PR_f.loc[(df_PR_f['CHILD_SPRINT_START_DATE']>=START_DATE)\n",
    "                &(df_PR_f['CHILD_SPRINT_START_DATE']<=END_DATE),'CHILD_SPRINT_DATE_VERSION']= VERSION\n",
    "    df_PR_f.loc[(df_PR_f['CHILD_SPRINT_END_DATE']>=START_DATE)\n",
    "                &(df_PR_f['CHILD_SPRINT_END_DATE']<=END_DATE),'CHILD_SPRINT_END_DATE_VERSION']= VERSION\n",
    "    #df_PR_f.loc[(df_PR_f['STATUS_DATE_VERSION'].isnull())&(df_PR_f['CHILD_STATUS_CATEGORY_CHANGE_DATE']>START_DATE)&(df_PR_f['CHILD_STATUS_CATEGORY_CHANGE_DATE']>END_DATE),'STATUS_DATE_VERSION']= VERSION\n",
    "    print(START_DATE,END_DATE,VERSION)\n",
    "    \n",
    "\n",
    "#df_PR_f.loc[((df_PR_f['SUB_STATUS_CATEGORY_CHANGE_DATE']>df_versions['START_DATE'])(df_PR_f['SUB_STATUS_CATEGORY_CHANGE_DATE']>df_versions['START_DATE'])]"
   ]
  },
  {
   "cell_type": "code",
   "execution_count": 86,
   "id": "a9e9afe1-bb92-4dc8-adf3-b0e211573f6b",
   "metadata": {},
   "outputs": [],
   "source": [
    "#df_PR_f[df_PR_f['CHILD_ISSUE_KEY']=='RPLAT-38379']"
   ]
  },
  {
   "cell_type": "code",
   "execution_count": 87,
   "id": "3bfe75ad-2b9f-4b5d-9676-4d06a4eee39a",
   "metadata": {},
   "outputs": [],
   "source": [
    "#df_PR_f['CHILD_SPRINT_START_DATE'].count()"
   ]
  },
  {
   "cell_type": "code",
   "execution_count": 88,
   "id": "434b7d20",
   "metadata": {},
   "outputs": [],
   "source": [
    "#print(df_PR_f[df_PR_f['CHILD_SPRINT_DATE_VERSION'].isnull()].count()['CREATED'])\n",
    "#print(df_PR_f[df_PR_f['CHILD_SPRINT_DATE_VERSION'].notnull()].count()['CREATED'])"
   ]
  },
  {
   "cell_type": "code",
   "execution_count": 89,
   "id": "752e3f94",
   "metadata": {},
   "outputs": [],
   "source": [
    "#df_PR_f.tail()\n",
    "            "
   ]
  },
  {
   "cell_type": "code",
   "execution_count": 539,
   "id": "530fe9ea",
   "metadata": {},
   "outputs": [
    {
     "name": "stderr",
     "output_type": "stream",
     "text": [
      "100%|██████████| 1/1 [00:00<00:00, 8848.74it/s]\n"
     ]
    }
   ],
   "source": [
    "table = \"saas-analytics-io.processed.jira_processed_PR\"\n",
    "df_PR_f.to_gbq(table, if_exists='replace')"
   ]
  },
  {
   "cell_type": "markdown",
   "id": "7232999e-757f-4c99-a0e4-d73e42446bef",
   "metadata": {},
   "source": [
    "### IDEA Tickets - Data Preparation"
   ]
  },
  {
   "cell_type": "code",
   "execution_count": 92,
   "id": "534ffce9-5f6b-4d24-9e54-a31fcd895835",
   "metadata": {},
   "outputs": [],
   "source": [
    "#df_issues_2[df_issues_2['ISSUE_KEY'].str.startswith('IDEA')].fillna(0).groupby(['TYPE_1','DIRECTION_1']).count()"
   ]
  },
  {
   "cell_type": "code",
   "execution_count": 93,
   "id": "df670564-020b-4d9b-a389-07669accda13",
   "metadata": {},
   "outputs": [],
   "source": [
    "#df_issues_2[(df_issues_2['ISSUE_KEY'].str.startswith('IDEA'))&\n",
    "#            (df_issues_2['TYPE_1'].str.startswith('Polaris issue link'))&\n",
    "#           (df_issues_2['ISSUE_KEY']=='IDEA-8')]"
   ]
  },
  {
   "cell_type": "code",
   "execution_count": 94,
   "id": "e68e8d7b-ba0e-4c4b-9d47-df00e794a49e",
   "metadata": {},
   "outputs": [],
   "source": [
    "df_IDEA = df_issues_2[(df_issues_2['ISSUE_TYPE_NAME'].str.startswith('Idea'))&(df_issues_2['TYPE_1'].str.startswith('Polaris issue'))][['CREATED','ISSUE_KEY','SUMMARY',\n",
    "                                                                       'ISSUE_TYPE_NAME','ISSUE_STATUS_NAME',\n",
    "                                                                        'CURRENT_ASSIGNEE_NAME',\n",
    "        'SPRINT_ID','SPRINT_NAME','STATE','START_DATE','END_DATE','COMPLETE_DATE',\n",
    "        #'VERSION_ID',\n",
    "        'VERSION_NAME','PRIORITY',\n",
    "        'REPORTER_NAME','RESOLUTION_DATE','STATUS_CATEGORY_CHANGE_DATE',\n",
    "        #'TIME_SPENT','TIME_SPENT_WITH_SUBTASKS',\n",
    "         'CATEGORY','BU','CUSTOMERS','STORYPOINTS','PROGRESS' ,'TYPE_1','DIRECTION_1',                                                              \n",
    "        'LINKED_1_ISSUE_KEY','LINKED_1_SUMMARY','LINKED_1_ISSUE_TYPE_NAME','LINKED_1_ISSUE_STATUS_NAME','LINKED_1_ASSIGNEE_NAME',\n",
    "        'LINKED_1_SPRINT_NAME','LINKED_1_SPRINT_START_DATE','LINKED_1_SPRINT_END_DATE','LINKED_1_VERSION_NAME',\n",
    "        'LINKED_1_CATEGORY','LINKED_1_BU','LINKED_1_CUSTOMERS',\n",
    "        'LINKED_1_THEME',\n",
    "        'LINKED_1_STORYPOINTS','LINKED_1_PROGRESS'\n",
    "        #,'__Effort_12125','Layout_12166'\n",
    "         ]]\n",
    "#df_IDEA = df_IDEA.rename(columns={'__Effort_12125':'EFFORT','Layout_12166':'LAYOUT'})"
   ]
  },
  {
   "cell_type": "code",
   "execution_count": 97,
   "id": "1406a225-f48e-4358-8531-6ade0ed5326e",
   "metadata": {},
   "outputs": [],
   "source": [
    "#df_IDEA = pd.merge(df_IDEA, df_category_idea_1, on =['ISSUE_KEY'],how = 'left')\n",
    "df_IDEA = pd.merge(df_IDEA, df_feature_set_idea_1, on =['ISSUE_KEY'],how = 'left')\n",
    "df_IDEA = pd.merge(df_IDEA, df_key_customer_idea_1, on =['ISSUE_KEY'],how = 'left')"
   ]
  },
  {
   "cell_type": "code",
   "execution_count": 98,
   "id": "42085db6-99df-4fc8-b3e0-8f92a3a0596d",
   "metadata": {},
   "outputs": [],
   "source": [
    "df_issues_IDEA_1 = df_issues_2[(df_issues_2['ISSUE_TYPE_NAME']!='Idea')\n",
    "                             &(df_issues_2['PARENT_ISSUE_KEY'].notnull())][['CREATED','ISSUE_KEY','SUMMARY',\n",
    "                                                                              'ISSUE_TYPE_NAME','ISSUE_STATUS_NAME',\n",
    "                                                                              'STATUS_CATEGORY_CHANGE_DATE',\n",
    "                                                                              'SPRINT_NAME','STATE','START_DATE',\n",
    "                                                                              'END_DATE','COMPLETE_DATE',\n",
    "                                                                              'VERSION_NAME','CURRENT_ASSIGNEE_NAME',\n",
    "                                                                              'REPORTER_NAME',\n",
    "                                                                              #'TIME_SPENT','TIME_SPENT_WITH_SUBTASKS',\n",
    "                                                                              'BU','CUSTOMERS',\n",
    "                                                                             'THEME',\n",
    "                                                                              'STORYPOINTS','PROGRESS','PARENT_ISSUE_KEY'\n",
    "                                                                              ,'CATEGORY'\n",
    "                                                                             ]]\n",
    "\n",
    "\n",
    "df_issues_IDEA_1 = df_issues_IDEA_1.rename(columns={\"CREATED\": \"CHILD_CREATED\", \n",
    "                              \"ISSUE_KEY\": \"CHILD_ISSUE_KEY\",\n",
    "                              \"SUMMARY\": \"CHILD_SUMMARY\",                                            \n",
    "                              \"ISSUE_TYPE_NAME\":\"CHILD_ISSUE_TYPE_NAME\",\n",
    "                              \"STATUS_CATEGORY_CHANGE_DATE\":\"CHILD_STATUS_CATEGORY_CHANGE_DATE\",\n",
    "                              \"ISSUE_STATUS_NAME\":\"CHILD_ISSUE_STATUS_NAME\",\n",
    "                              \"SPRINT_NAME\":\"CHILD_SPRINT_NAME\",\n",
    "                              \"STATE\":\"CHILD_SPRINT_STATE\",                  \n",
    "                              \"START_DATE\":\"CHILD_SPRINT_START_DATE\",\n",
    "                              \"END_DATE\":\"CHILD_SPRINT_END_DATE\",\n",
    "                              \"COMPLETE_DATE\":\"CHILD_SPRINT_COMPLETE_DATE\",\n",
    "                              \"VERSION_NAME\":\"CHILD_VERSION_NAME\",\n",
    "                              \"CURRENT_ASSIGNEE_NAME\":\"CHILD_ASSIGNEE_NAME\",\n",
    "                              'REPORTER_NAME':'CHILD_REPORTER_NAME',\n",
    "                              'TIME_SPENT':'CHILD_TIME_SPENT',\n",
    "                              'TIME_SPENT_WITH_SUBTASKS':'CHILD_TIME_SPENT_WITH_SUBTASKS',\n",
    "                              'CATEGORY':'CHILD_CATEGORY',\n",
    "                              'BU':'CHILD_BU',\n",
    "                              'CUSTOMERS':'CHILD_CUSTOMERS',\n",
    "                              'THEME':'CHILD_THEME',                  \n",
    "                              'STORYPOINTS':'CHILD_STORYPOINTS',\n",
    "                              'PROGRESS':'CHILD_PROGRESS',\n",
    "                              'PARENT_ISSUE_KEY':'LINKED_1_ISSUE_KEY'                   \n",
    "                             })"
   ]
  },
  {
   "cell_type": "code",
   "execution_count": 99,
   "id": "c8510d9b-cf98-4482-967f-1bc9dff5cc50",
   "metadata": {},
   "outputs": [],
   "source": [
    "df_YTEM_1 = pd.merge(df_IDEA, df_issues_IDEA_1,how='left', on='LINKED_1_ISSUE_KEY')"
   ]
  },
  {
   "cell_type": "code",
   "execution_count": 100,
   "id": "fd1462dd-83e2-4a72-ba2f-147344cf8ba1",
   "metadata": {},
   "outputs": [],
   "source": [
    "df_sub_YTEM_1 = df_issues_2[(df_issues_2['ISSUE_TYPE_NAME']!='Idea')\n",
    "                             &(df_issues_2['PARENT_ISSUE_KEY'].notnull())][['CREATED','ISSUE_KEY','SUMMARY',\n",
    "                                                                              'ISSUE_TYPE_NAME','ISSUE_STATUS_NAME',\n",
    "                                                                              'STATUS_CATEGORY_CHANGE_DATE',\n",
    "                                                                              'SPRINT_NAME','STATE','START_DATE',\n",
    "                                                                              'END_DATE','COMPLETE_DATE',\n",
    "                                                                              'VERSION_NAME','CURRENT_ASSIGNEE_NAME',\n",
    "                                                                              'REPORTER_NAME',\n",
    "                                                                              #'TIME_SPENT','TIME_SPENT_WITH_SUBTASKS',\n",
    "                                                                              'CATEGORY','BU','CUSTOMERS',\n",
    "                                                                            #'THEME',\n",
    "                                                                            'STORYPOINTS','PROGRESS','PARENT_ISSUE_KEY'\n",
    "                                                                             ]]\n",
    "\n",
    "\n",
    "df_sub_YTEM_1 = df_sub_YTEM_1.rename(columns={\"CREATED\": \"SUB_CREATED\", \n",
    "                              \"ISSUE_KEY\": \"SUB_ISSUE_KEY\",\n",
    "                              \"SUMMARY\": \"SUB_SUMMARY\", \n",
    "                              \"ISSUE_TYPE_NAME\":\"SUB_ISSUE_TYPE_NAME\",\n",
    "                              \"STATUS_CATEGORY_CHANGE_DATE\":\"SUB_STATUS_CATEGORY_CHANGE_DATE\",\n",
    "                              \"ISSUE_STATUS_NAME\":\"SUB_ISSUE_STATUS_NAME\",\n",
    "                              \"SPRINT_NAME\":\"SUB_SPRINT_NAME\",\n",
    "                              \"STATE\":\"SUB_SPRINT_STATE\",                  \n",
    "                              \"START_DATE\":\"SUB_SPRINT_START_DATE\",\n",
    "                              \"END_DATE\":\"SUB_SPRINT_END_DATE\",\n",
    "                              \"COMPLETE_DATE\":\"SUB_SPRINT_COMPLETE_DATE\",\n",
    "                              \"VERSION_NAME\":\"SUB_VERSION_NAME\",\n",
    "                              \"CURRENT_ASSIGNEE_NAME\":\"SUB_ASSIGNEE_NAME\",\n",
    "                              'REPORTER_NAME':'SUB_REPORTER_NAME',\n",
    "                              'TIME_SPENT':'SUB_TIME_SPENT',\n",
    "                              'TIME_SPENT_WITH_SUBTASKS':'SUB_TIME_SPENT_WITH_SUBTASKS',\n",
    "                              'CATEGORY':'SUB_CATEGORY',\n",
    "                              'BU':'SUB_BU',\n",
    "                              'CUSTOMERS':'SUB_CUSTOMERS',\n",
    "                              'THEME':'SUB_THEME',  \n",
    "                              'STORYPOINTS':'SUB_STORYPOINTS',\n",
    "                              'PROGRESS':'SUB_PROGRESS',\n",
    "                              'PARENT_ISSUE_KEY':'CHILD_ISSUE_KEY'                  \n",
    "                             })"
   ]
  },
  {
   "cell_type": "code",
   "execution_count": 101,
   "id": "14531c99-62f3-4a39-a508-a843b0bb33ff",
   "metadata": {},
   "outputs": [],
   "source": [
    "df_YTEM_1 = pd.merge(df_YTEM_1, df_sub_YTEM_1,how='left', on='CHILD_ISSUE_KEY')"
   ]
  },
  {
   "cell_type": "code",
   "execution_count": 102,
   "id": "3e6ea56d-03aa-4c92-bff2-9fe6b52cd410",
   "metadata": {},
   "outputs": [],
   "source": [
    "df_YTEM_1.loc[df_YTEM_1['SUB_ISSUE_KEY'].notnull(),'TOTAL_STORYPOINTS']= df_YTEM_1['SUB_STORYPOINTS']\n",
    "df_YTEM_1.loc[(df_YTEM_1['TOTAL_STORYPOINTS'].isnull())&\n",
    "            (df_YTEM_1['SUB_ISSUE_KEY'].isnull())&\n",
    "            (df_YTEM_1['CHILD_ISSUE_KEY'].notnull()),'TOTAL_STORYPOINTS']= df_YTEM_1['CHILD_STORYPOINTS']\n",
    "df_YTEM_1.loc[(df_YTEM_1['TOTAL_STORYPOINTS'].isnull())&\n",
    "            (df_YTEM_1['SUB_ISSUE_KEY'].isnull())&\n",
    "            (df_YTEM_1['CHILD_ISSUE_KEY'].isnull())&\n",
    "            (df_YTEM_1['LINKED_1_ISSUE_KEY'].notnull()),'TOTAL_STORYPOINTS']= df_YTEM_1['LINKED_1_STORYPOINTS']"
   ]
  },
  {
   "cell_type": "code",
   "execution_count": 103,
   "id": "f6449299-6019-4b23-a259-c6eb4fc104a3",
   "metadata": {},
   "outputs": [
    {
     "name": "stdout",
     "output_type": "stream",
     "text": [
      "2021-09-27 00:00:00+00:00 2021-10-22 23:59:59+00:00 00 v8.4 Chihuahua\n",
      "2021-10-23 00:00:00+00:00 2022-01-14 23:59:59+00:00 01 v8.6 Arctic Fox\n",
      "2022-01-15 00:00:00+00:00 2022-02-11 23:59:59+00:00 02 v8.7 Cheetah\n",
      "2022-02-12 00:00:00+00:00 2022-03-18 23:59:59+00:00 03 v8.8 Panda\n",
      "2022-03-19 00:00:00+00:00 2022-04-15 23:59:59+00:00 04 v8.9 Elephant\n",
      "2022-04-16 00:00:00+00:00 2022-05-13 23:59:59+00:00 05 v8.10 Monkey\n",
      "2022-05-14 00:00:00+00:00 2022-06-10 23:59:59+00:00 06 v8.11 Quokka\n",
      "2022-06-11 00:00:00+00:00 2022-07-08 23:59:59+00:00 07 v8.12 Butterfly\n",
      "2022-07-09 00:00:00+00:00 2022-08-05 23:59:59+00:00 08 v8.13 Quetzal\n",
      "2022-08-06 00:00:00+00:00 2022-09-02 23:59:59+00:00 09 v8.14 Alligator\n",
      "2022-09-03 00:00:00+00:00 2022-09-30 23:59:59+00:00 10 v8.15 Alpaca\n",
      "2022-10-01 00:00:00+00:00 2022-10-28 23:59:59+00:00 11 v8.16 Beaver\n",
      "2022-10-29 00:00:00+00:00 2022-11-30 23:59:59+00:00 12 v8.17 Deer\n",
      "2022-12-01 00:00:00+00:00 2023-01-13 23:59:59+00:00 13 v9.0 Kraken\n",
      "2023-01-14 00:00:00+00:00 2023-02-10 23:59:59+00:00 14 v9.1 Pegasus\n",
      "2023-02-11 00:00:00+00:00 2023-03-10 23:59:59+00:00 15 v9.2 Phoenix\n",
      "2023-03-11 00:00:00+00:00 2023-04-07 23:59:59+00:00 16 v9.3 Dragon\n",
      "2023-04-08 00:00:00+00:00 2023-05-05 23:59:59+00:00 17 v9.4 Minotaur\n",
      "2023-05-06 00:00:00+00:00 2023-06-02 23:59:59+00:00 18 v9.5 Cyclops\n",
      "2023-06-03 00:00:00+00:00 2023-06-30 23:59:59+00:00 19 v9.6 Hydra\n",
      "2023-07-01 00:00:00+00:00 2023-07-28 23:59:59+00:00 20 v9.7 Werewolf\n",
      "2023-07-29 00:00:00+00:00 2023-09-01 23:59:59+00:00 21 v9.8 Leviathan\n",
      "2023-09-02 00:00:00+00:00 2023-09-22 23:59:59+00:00 22 v9.9 Antman\n",
      "2023-09-23 00:00:00+00:00 2023-10-20 23:59:59+00:00 23 v9.10 Batman\n",
      "2023-10-21 00:00:00+00:00 2023-11-17 23:59:59+00:00 24 v9.11 Constantine\n",
      "2023-11-18 00:00:00+00:00 2023-12-08 23:59:59+00:00 25 v9.12 D***\n"
     ]
    }
   ],
   "source": [
    "for i in range(0,df_versions['VERSION_ID'].count()):\n",
    "    START_DATE = df_versions.iloc[i-1,10] \n",
    "    END_DATE = df_versions.iloc[i,11] \n",
    "    if i < 10:\n",
    "        i_m = \"0\"+str(i)\n",
    "    if i >=10:\n",
    "        i_m = str(i)\n",
    "    VERSION = i_m+\" \"+df_versions.iloc[i,1]\n",
    "    if VERSION == '00 v8.4 Chihuahua':\n",
    "        START_DATE='2021-09-27 00:00:00+00:00'\n",
    "    \n",
    "    #START_DATE = START_DATE.replace(\"00:00:00+00:00\",\"23:59:59+00:00\")\n",
    "    #END_DATE = END_DATE\n",
    "    \n",
    "    df_YTEM_1.loc[(df_YTEM_1['CHILD_SPRINT_START_DATE']>=START_DATE)\n",
    "                &(df_YTEM_1['CHILD_SPRINT_START_DATE']<=END_DATE),'CHILD_SPRINT_DATE_VERSION']= VERSION\n",
    "    df_YTEM_1.loc[(df_YTEM_1['CHILD_SPRINT_END_DATE']>=START_DATE)\n",
    "                &(df_YTEM_1['CHILD_SPRINT_END_DATE']<=END_DATE),'CHILD_SPRINT_END_DATE_VERSION']= VERSION\n",
    "    #df_PR_f.loc[(df_PR_f['STATUS_DATE_VERSION'].isnull())&(df_PR_f['CHILD_STATUS_CATEGORY_CHANGE_DATE']>START_DATE)&(df_PR_f['CHILD_STATUS_CATEGORY_CHANGE_DATE']>END_DATE),'STATUS_DATE_VERSION']= VERSION\n",
    "    print(START_DATE,END_DATE,VERSION)"
   ]
  },
  {
   "cell_type": "markdown",
   "id": "31cbced5-0f57-42dd-8eb0-22d20319b209",
   "metadata": {},
   "source": [
    "#### Upload Data to BigQuery table\n",
    "- saas-analytics-io.processed.jira_processed_IDEAS"
   ]
  },
  {
   "cell_type": "code",
   "execution_count": 105,
   "id": "6cf864a7-ec45-4b4a-845c-9f4dd4a9ec71",
   "metadata": {},
   "outputs": [
    {
     "name": "stderr",
     "output_type": "stream",
     "text": [
      "100%|██████████| 1/1 [00:00<00:00, 15141.89it/s]\n"
     ]
    }
   ],
   "source": [
    "table = \"saas-analytics-io.processed.jira_processed_IDEAS\"\n",
    "df_YTEM_1.to_gbq(table, if_exists='replace')"
   ]
  },
  {
   "cell_type": "code",
   "execution_count": 106,
   "id": "133dde02-17c8-416a-bae6-de30a7071673",
   "metadata": {},
   "outputs": [],
   "source": [
    "#df_YTEM_1[df_YTEM_1['CHILD_ISSUE_KEY']=='RPLAT-38379']"
   ]
  },
  {
   "cell_type": "markdown",
   "id": "a482385e-b045-4632-ac7f-a34ba8e0383f",
   "metadata": {},
   "source": [
    "### Customer Aggregation for PR"
   ]
  },
  {
   "cell_type": "code",
   "execution_count": 110,
   "id": "cbbe6e52",
   "metadata": {},
   "outputs": [],
   "source": [
    "df_customers_agg = pd.merge(df_customers,df_PR_f[['LINKED_1_ISSUE_KEY','LINKED_1_ISSUE_STATUS_NAME','LINKED_1_BU','LINKED_1_VERSION_NAME',\n",
    "                                                  'CHILD_SPRINT_DATE_VERSION','CHILD_SPRINT_END_DATE_VERSION',\n",
    "                                                  'SUB_ISSUE_KEY','SUB_STATUS_CATEGORY_CHANGE_DATE','SUB_STORYPOINTS']],how='inner',left_on = 'ISSUE_KEY',right_on='LINKED_1_ISSUE_KEY')\n",
    "df_customers_agg = df_customers_agg.drop(['ISSUE_ID','ISSUE_KEY','Customers_2'], axis =1)\n",
    "df_customers_agg = df_customers_agg.rename( columns={'Customers' : 'CUSTOMERS'})\n",
    "\n",
    "df_customers_adj = df_customers.groupby('ISSUE_KEY').count()[['Customers']].reset_index()\n",
    "df_customers_adj = df_customers_adj.rename(columns={'Customers':'CUSTOMERS_COUNT','ISSUE_KEY':'LINKED_1_ISSUE_KEY'})\n",
    "df_customers_agg = pd.merge(df_customers_agg,df_customers_adj,how='left', on='LINKED_1_ISSUE_KEY')\n",
    "df_customers_agg.loc[:,'ADJ_STORYPOINTS']= df_customers_agg['SUB_STORYPOINTS']/df_customers_agg['CUSTOMERS_COUNT']\n"
   ]
  },
  {
   "cell_type": "markdown",
   "id": "c04dd447-5905-40d0-afd6-052b22792696",
   "metadata": {},
   "source": [
    "### Category Aggregation for PR"
   ]
  },
  {
   "cell_type": "code",
   "execution_count": 111,
   "id": "ecb461bb-6199-406e-af94-0c6ff4fd0cb6",
   "metadata": {},
   "outputs": [],
   "source": [
    "df_category_agg = pd.merge(df_category[['ISSUE_KEY','OKR_Category']],df_PR_f[['LINKED_1_ISSUE_KEY','LINKED_1_ISSUE_STATUS_NAME','LINKED_1_BU','LINKED_1_VERSION_NAME',\n",
    "                                                  'CHILD_SPRINT_DATE_VERSION','CHILD_SPRINT_END_DATE_VERSION',\n",
    "                                                  'SUB_ISSUE_KEY','SUB_STATUS_CATEGORY_CHANGE_DATE','SUB_STORYPOINTS']],how='inner',left_on = 'ISSUE_KEY',right_on='LINKED_1_ISSUE_KEY')\n",
    "df_category_agg = df_category_agg.drop(['ISSUE_KEY'], axis =1)\n",
    "df_category_agg = df_category_agg.rename( columns={'OKR_Category' : 'CATEGORY'})\n",
    "\n",
    "df_category_adj = df_category.groupby('ISSUE_KEY').count()[['OKR_Category']].reset_index()\n",
    "df_category_adj = df_category_adj.rename(columns={'OKR_Category':'CATEGORY_COUNT','ISSUE_KEY':'LINKED_1_ISSUE_KEY'})\n",
    "df_category_agg = pd.merge(df_category_agg,df_category_adj,how='left', on='LINKED_1_ISSUE_KEY')\n",
    "df_category_agg.loc[:,'ADJ_STORYPOINTS']= df_category_agg['SUB_STORYPOINTS']/df_category_agg['CATEGORY_COUNT']"
   ]
  },
  {
   "cell_type": "code",
   "execution_count": 112,
   "id": "327c91d4-0b01-4500-8dc0-ac6085bdc660",
   "metadata": {},
   "outputs": [],
   "source": [
    "#df_customers_agg.sample(10)"
   ]
  },
  {
   "cell_type": "markdown",
   "id": "585a4e99-a310-4d7f-9253-73ecb1071738",
   "metadata": {},
   "source": [
    "#### Upload Customer and Category aggregation to BigQuery\n",
    "- saas-analytics-io.processed.jira_processed_PR_customers\n",
    "- saas-analytics-io.processed.jira_processed_PR_category"
   ]
  },
  {
   "cell_type": "code",
   "execution_count": 113,
   "id": "9b853f27",
   "metadata": {},
   "outputs": [
    {
     "name": "stderr",
     "output_type": "stream",
     "text": [
      "100%|██████████| 1/1 [00:00<00:00, 9619.96it/s]\n"
     ]
    }
   ],
   "source": [
    "table = \"saas-analytics-io.processed.jira_processed_PR_customers\"\n",
    "df_customers_agg.to_gbq(table, if_exists='replace')\n",
    "table = \"saas-analytics-io.processed.jira_processed_PR_category\"\n",
    "df_category_agg.to_gbq(table, if_exists='replace')"
   ]
  },
  {
   "cell_type": "code",
   "execution_count": 114,
   "id": "b39843a2-9748-4365-a074-7b81f72977e3",
   "metadata": {},
   "outputs": [],
   "source": [
    "#df_customers_agg[df_customers_agg['CHILD_SPRINT_DATE_VERSION']=='12 v8.17 Deer']\n",
    "#df_customers_agg.groupby('CUSTOMERS').count()"
   ]
  },
  {
   "cell_type": "code",
   "execution_count": 115,
   "id": "8cb5b92c",
   "metadata": {},
   "outputs": [],
   "source": [
    "#df_category_agg[df_category_agg['SUB_ISSUE_KEY'].duplicated()]"
   ]
  },
  {
   "cell_type": "code",
   "execution_count": 116,
   "id": "ca426a96",
   "metadata": {},
   "outputs": [],
   "source": [
    "#df_customers[df_customers['ISSUE_KEY']=='RPLAT-21308']"
   ]
  },
  {
   "cell_type": "markdown",
   "id": "47bbf17f-c29b-40db-b062-6c2740bcd569",
   "metadata": {},
   "source": [
    "### Customer Aggregation for IDEA"
   ]
  },
  {
   "cell_type": "code",
   "execution_count": 117,
   "id": "a8b3dab6-edb3-4900-9f8b-b9b343141c72",
   "metadata": {},
   "outputs": [],
   "source": [
    "df_customers_ideas_agg = pd.merge(df_customers,df_YTEM_1[['LINKED_1_ISSUE_KEY','LINKED_1_ISSUE_STATUS_NAME','LINKED_1_BU','LINKED_1_VERSION_NAME',\n",
    "                                                  'CHILD_SPRINT_DATE_VERSION','CHILD_SPRINT_END_DATE_VERSION',\n",
    "                                                  'SUB_ISSUE_KEY','SUB_STATUS_CATEGORY_CHANGE_DATE','SUB_STORYPOINTS']],how='inner',left_on = 'ISSUE_KEY',right_on='LINKED_1_ISSUE_KEY')\n",
    "df_customers_ideas_agg = df_customers_ideas_agg.drop(['ISSUE_ID','ISSUE_KEY','Customers_2'], axis =1)\n",
    "df_customers_ideas_agg = df_customers_ideas_agg.rename( columns={'Customers' : 'CUSTOMERS'})\n",
    "\n",
    "df_customers_ideas_adj = df_customers.groupby('ISSUE_KEY').count()[['Customers']].reset_index()\n",
    "df_customers_ideas_adj = df_customers_ideas_adj.rename(columns={'Customers':'CUSTOMERS_COUNT','ISSUE_KEY':'LINKED_1_ISSUE_KEY'})\n",
    "df_customers_ideas_agg = pd.merge(df_customers_ideas_agg,df_customers_ideas_adj,how='left', on='LINKED_1_ISSUE_KEY')\n",
    "df_customers_ideas_agg.loc[:,'ADJ_STORYPOINTS']= df_customers_ideas_agg['SUB_STORYPOINTS']/df_customers_ideas_agg['CUSTOMERS_COUNT']"
   ]
  },
  {
   "cell_type": "markdown",
   "id": "a602854a-47a4-432c-ae96-7bbe6a7ba287",
   "metadata": {},
   "source": [
    "### Category Aggregation for IDEA"
   ]
  },
  {
   "cell_type": "code",
   "execution_count": 118,
   "id": "6cc33ffd-aac1-4a37-9e2d-19bf0431983c",
   "metadata": {},
   "outputs": [],
   "source": [
    "df_category_ideas_agg = pd.merge(df_category[['ISSUE_KEY','OKR_Category']],df_YTEM_1[['LINKED_1_ISSUE_KEY','LINKED_1_ISSUE_STATUS_NAME','LINKED_1_BU','LINKED_1_VERSION_NAME',\n",
    "                                                  'CHILD_SPRINT_DATE_VERSION','CHILD_SPRINT_END_DATE_VERSION',\n",
    "                                                  'SUB_ISSUE_KEY','SUB_STATUS_CATEGORY_CHANGE_DATE','SUB_STORYPOINTS']],how='inner',left_on = 'ISSUE_KEY',right_on='LINKED_1_ISSUE_KEY')\n",
    "df_category_ideas_agg = df_category_ideas_agg.drop(['ISSUE_KEY'], axis =1)\n",
    "df_category_ideas_agg = df_category_ideas_agg.rename( columns={'OKR_Category' : 'CATEGORY'})\n",
    "\n",
    "df_category_ideas_adj = df_category.groupby('ISSUE_KEY').count()[['OKR_Category']].reset_index()\n",
    "df_category_ideas_adj = df_category_ideas_adj.rename(columns={'OKR_Category':'CATEGORY_COUNT','ISSUE_KEY':'LINKED_1_ISSUE_KEY'})\n",
    "df_category_ideas_agg = pd.merge(df_category_ideas_agg,df_category_ideas_adj,how='left', on='LINKED_1_ISSUE_KEY')\n",
    "df_category_ideas_agg.loc[:,'ADJ_STORYPOINTS']= df_category_ideas_agg['SUB_STORYPOINTS']/df_category_ideas_agg['CATEGORY_COUNT']"
   ]
  },
  {
   "cell_type": "markdown",
   "id": "6db1e8fc-b15a-47ec-831c-286e6c2f558b",
   "metadata": {},
   "source": [
    "#### Upload Customer and Category aggregation to BigQuery\n",
    "- saas-analytics-io.processed.jira_processed_IDEAS_customers\n",
    "- saas-analytics-io.processed.jira_processed_IDEAS_category"
   ]
  },
  {
   "cell_type": "code",
   "execution_count": 119,
   "id": "5fb08097-04cc-42b4-8da4-fc52f6d47dc7",
   "metadata": {},
   "outputs": [
    {
     "name": "stderr",
     "output_type": "stream",
     "text": [
      "100%|██████████| 1/1 [00:00<00:00, 9098.27it/s]\n"
     ]
    }
   ],
   "source": [
    "table = \"saas-analytics-io.processed.jira_processed_IDEAS_customers\"\n",
    "df_customers_ideas_agg.to_gbq(table, if_exists='replace')\n",
    "table = \"saas-analytics-io.processed.jira_processed_IDEAS_category\"\n",
    "df_category_ideas_agg.to_gbq(table, if_exists='replace')"
   ]
  },
  {
   "cell_type": "code",
   "execution_count": null,
   "id": "88195bbe-884b-4145-91f4-a1790626d17a",
   "metadata": {},
   "outputs": [],
   "source": []
  },
  {
   "cell_type": "code",
   "execution_count": null,
   "id": "ddb62a4e-09af-41b8-874f-fe0dd02b0e4b",
   "metadata": {},
   "outputs": [],
   "source": []
  },
  {
   "cell_type": "markdown",
   "id": "ec3dbf62-f411-420b-9df5-b7ccb85f175f",
   "metadata": {},
   "source": [
    "# Worklogs DataPreparation and Enhancement\n",
    "### Join PR AND IDEAS tickets with subtasks, childs, linked"
   ]
  },
  {
   "cell_type": "code",
   "execution_count": 128,
   "id": "86c89557-01c4-4150-bca2-0a9030f8e801",
   "metadata": {},
   "outputs": [],
   "source": [
    "#df_worklog_1.head()"
   ]
  },
  {
   "cell_type": "code",
   "execution_count": 129,
   "id": "f6ad558a-c73d-4b1d-98c0-7c7b46c93a5e",
   "metadata": {},
   "outputs": [],
   "source": [
    "\n",
    "df_PR_worklogs_sub = df_PR_f[['ISSUE_KEY'\n",
    "                          ,'LINKED_1_ISSUE_KEY','LINKED_1_ISSUE_TYPE_NAME','LINKED_1_ISSUE_STATUS_NAME','LINKED_1_VERSION_NAME'\n",
    "                          ,'CHILD_ISSUE_KEY','CHILD_ISSUE_TYPE_NAME','CHILD_ISSUE_STATUS_NAME','CHILD_SPRINT_DATE_VERSION','CHILD_SPRINT_END_DATE_VERSION'\n",
    "                          ,'SUB_ISSUE_KEY','SUB_ISSUE_TYPE_NAME','SUB_ISSUE_STATUS_NAME','SUB_STATUS_CATEGORY_CHANGE_DATE','SUB_PROGRESS'\n",
    "                          ,'TOTAL_STORYPOINTS']].drop_duplicates()\n",
    "\n",
    "df_PR_worklogs_child = df_PR_f[(df_PR_f['CHILD_ISSUE_KEY'].notnull())&(df_PR_f['SUB_ISSUE_KEY'].isnull())][['ISSUE_KEY'\n",
    "                          ,'LINKED_1_ISSUE_KEY','LINKED_1_ISSUE_TYPE_NAME','LINKED_1_ISSUE_STATUS_NAME'\n",
    "                          ,'CHILD_ISSUE_KEY','CHILD_ISSUE_TYPE_NAME','CHILD_ISSUE_STATUS_NAME','CHILD_SPRINT_DATE_VERSION','CHILD_SPRINT_END_DATE_VERSION'\n",
    "                          #,'SUB_ISSUE_KEY','SUB_ISSUE_TYPE_NAME','SUB_ISSUE_STATUS_NAME','SUB_STATUS_CATEGORY_CHANGE_DATE'\n",
    "                          ,'TOTAL_STORYPOINTS','SUB_PROGRESS']].drop_duplicates()\n",
    "\n",
    "df_IDEAS_worklogs_sub = df_YTEM_1[['ISSUE_KEY'\n",
    "                          ,'LINKED_1_ISSUE_KEY','LINKED_1_ISSUE_TYPE_NAME','LINKED_1_ISSUE_STATUS_NAME','LINKED_1_VERSION_NAME'\n",
    "                          ,'CHILD_ISSUE_KEY','CHILD_ISSUE_TYPE_NAME','CHILD_ISSUE_STATUS_NAME','CHILD_SPRINT_DATE_VERSION','CHILD_SPRINT_END_DATE_VERSION'\n",
    "                          ,'SUB_ISSUE_KEY','SUB_ISSUE_TYPE_NAME','SUB_ISSUE_STATUS_NAME','SUB_STATUS_CATEGORY_CHANGE_DATE','SUB_PROGRESS'\n",
    "                          ,'TOTAL_STORYPOINTS']].drop_duplicates()\n",
    "\n",
    "df_IDEAS_worklogs_child = df_YTEM_1[(df_YTEM_1['CHILD_ISSUE_KEY'].notnull())&(df_YTEM_1['SUB_ISSUE_KEY'].isnull())][['ISSUE_KEY'\n",
    "                          ,'LINKED_1_ISSUE_KEY','LINKED_1_ISSUE_TYPE_NAME','LINKED_1_ISSUE_STATUS_NAME'\n",
    "                          ,'CHILD_ISSUE_KEY','CHILD_ISSUE_TYPE_NAME','CHILD_ISSUE_STATUS_NAME','CHILD_SPRINT_DATE_VERSION','CHILD_SPRINT_END_DATE_VERSION'\n",
    "                          #,'SUB_ISSUE_KEY','SUB_ISSUE_TYPE_NAME','SUB_ISSUE_STATUS_NAME','SUB_STATUS_CATEGORY_CHANGE_DATE'\n",
    "                          ,'TOTAL_STORYPOINTS','SUB_PROGRESS']].drop_duplicates()\n"
   ]
  },
  {
   "cell_type": "code",
   "execution_count": 130,
   "id": "296b409e-4087-47d0-a622-d6a5e16ec07b",
   "metadata": {},
   "outputs": [],
   "source": [
    "df_worklog_U = df_worklog_1[['ISSUE_KEY_LOGGED','ISSUE_TYPE_NAME_LOGGED','AUTHOR_NAME','UPDATE_NAME','START_DATE','LOGGED_TIME','CREATED','UPDATED','PROGRESS_LOGGED','STORYPOINTS_LOGGED']]"
   ]
  },
  {
   "cell_type": "code",
   "execution_count": 131,
   "id": "b012e29b-9e22-418a-a8dd-124f49182781",
   "metadata": {},
   "outputs": [],
   "source": [
    "df_worklog_enh = pd.merge(df_worklog_U,df_PR_worklogs_sub, left_on = 'ISSUE_KEY_LOGGED', right_on = 'SUB_ISSUE_KEY',how = 'left')"
   ]
  },
  {
   "cell_type": "code",
   "execution_count": 132,
   "id": "96d1168c-c56e-4c44-9db7-5d924d6da35a",
   "metadata": {},
   "outputs": [
    {
     "name": "stderr",
     "output_type": "stream",
     "text": [
      "/opt/conda/lib/python3.7/site-packages/pandas/core/indexing.py:1817: SettingWithCopyWarning: \n",
      "A value is trying to be set on a copy of a slice from a DataFrame.\n",
      "Try using .loc[row_indexer,col_indexer] = value instead\n",
      "\n",
      "See the caveats in the documentation: https://pandas.pydata.org/pandas-docs/stable/user_guide/indexing.html#returning-a-view-versus-a-copy\n",
      "  self._setitem_single_column(loc, value, pi)\n",
      "/opt/conda/lib/python3.7/site-packages/pandas/core/indexing.py:1817: SettingWithCopyWarning: \n",
      "A value is trying to be set on a copy of a slice from a DataFrame.\n",
      "Try using .loc[row_indexer,col_indexer] = value instead\n",
      "\n",
      "See the caveats in the documentation: https://pandas.pydata.org/pandas-docs/stable/user_guide/indexing.html#returning-a-view-versus-a-copy\n",
      "  self._setitem_single_column(loc, value, pi)\n"
     ]
    }
   ],
   "source": [
    "## Worklog enrich with CHILD ISSUES \n",
    "\n",
    "df_worklog_child = pd.DataFrame()\n",
    "df_worklog_enh_2 = df_worklog_enh[~(df_worklog_enh['ISSUE_KEY_LOGGED'].isin(df_PR_worklogs_child['CHILD_ISSUE_KEY']))]\n",
    "for index,row in df_PR_worklogs_child.iterrows():\n",
    "    df_worklog_row = df_worklog_enh[(df_worklog_enh['ISSUE_KEY_LOGGED']==row['CHILD_ISSUE_KEY'])]\n",
    "    df_worklog_row.loc[:,'ISSUE_KEY']= row['ISSUE_KEY']\n",
    "    df_worklog_row.loc[:,'LINKED_1_ISSUE_KEY']= row['LINKED_1_ISSUE_KEY']\n",
    "    df_worklog_row.loc[:,'LINKED_1_ISSUE_TYPE_NAME']= row['LINKED_1_ISSUE_TYPE_NAME']\n",
    "    df_worklog_row.loc[:,'LINKED_1_ISSUE_STATUS_NAME']= row['LINKED_1_ISSUE_STATUS_NAME'] \n",
    "    df_worklog_row.loc[:,'CHILD_ISSUE_KEY'] = row['LINKED_1_ISSUE_KEY']\n",
    "    df_worklog_row.loc[:,'CHILD_ISSUE_TYPE_NAME'] = row['CHILD_ISSUE_TYPE_NAME']\n",
    "    df_worklog_row.loc[:,'CHILD_ISSUE_STATUS_NAME'] = row['CHILD_ISSUE_STATUS_NAME']\n",
    "    df_worklog_row.loc[:,'CHILD_SPRINT_DATE_VERSION'] = row['CHILD_SPRINT_DATE_VERSION']\n",
    "    df_worklog_row.loc[:,'CHILD_SPRINT_END_DATE_VERSION'] = row['CHILD_SPRINT_END_DATE_VERSION']\n",
    "    df_worklog_row.loc[:,'TOTAL_STORYPOINTS'] = row['TOTAL_STORYPOINTS']\n",
    "    df_worklog_child = df_worklog_child.append(df_worklog_row)\n",
    "\n",
    "df_worklog_enh_2 = df_worklog_enh_2.append(df_worklog_child)\n",
    "\n",
    "\n",
    "## Worklog enrich with IDEAS SUB ISSUES \n",
    "\n",
    "df_worklog_sub_idea = pd.DataFrame()\n",
    "df_worklog_enh_3 = df_worklog_enh_2[~(df_worklog_enh_2['ISSUE_KEY_LOGGED'].isin(df_IDEAS_worklogs_sub['SUB_ISSUE_KEY']))]\n",
    "for index,row in df_IDEAS_worklogs_sub.iterrows():\n",
    "    df_worklog_row = df_worklog_enh_2[(df_worklog_enh_2['ISSUE_KEY_LOGGED']==row['SUB_ISSUE_KEY'])]\n",
    "    df_worklog_row.loc[:,'ISSUE_KEY']= row['ISSUE_KEY']\n",
    "    df_worklog_row.loc[:,'LINKED_1_ISSUE_KEY']= row['LINKED_1_ISSUE_KEY']\n",
    "    df_worklog_row.loc[:,'LINKED_1_ISSUE_TYPE_NAME']= row['LINKED_1_ISSUE_TYPE_NAME']\n",
    "    df_worklog_row.loc[:,'LINKED_1_ISSUE_STATUS_NAME']= row['LINKED_1_ISSUE_STATUS_NAME'] \n",
    "    df_worklog_row.loc[:,'CHILD_ISSUE_KEY'] = row['CHILD_ISSUE_KEY']\n",
    "    df_worklog_row.loc[:,'CHILD_ISSUE_TYPE_NAME'] = row['CHILD_ISSUE_TYPE_NAME']\n",
    "    df_worklog_row.loc[:,'CHILD_ISSUE_STATUS_NAME'] = row['CHILD_ISSUE_STATUS_NAME']\n",
    "    df_worklog_row.loc[:,'CHILD_SPRINT_DATE_VERSION'] = row['CHILD_SPRINT_DATE_VERSION']\n",
    "    df_worklog_row.loc[:,'CHILD_SPRINT_END_DATE_VERSION'] = row['CHILD_SPRINT_END_DATE_VERSION']\n",
    "    df_worklog_row.loc[:,'SUB_ISSUE_KEY'] = row['SUB_ISSUE_KEY']\n",
    "    df_worklog_row.loc[:,'SUB_ISSUE_TYPE_NAME'] = row['SUB_ISSUE_TYPE_NAME']\n",
    "    df_worklog_row.loc[:,'SUB_ISSUE_STATUS_NAME'] = row['SUB_ISSUE_STATUS_NAME']\n",
    "    df_worklog_row.loc[:,'SUB_STATUS_CATEGORY_CHANGE_DATE'] = row['SUB_STATUS_CATEGORY_CHANGE_DATE']\n",
    "    \n",
    "    df_worklog_row.loc[:,'TOTAL_STORYPOINTS'] = row['TOTAL_STORYPOINTS']\n",
    "    df_worklog_sub_idea = df_worklog_sub_idea.append(df_worklog_row)\n",
    "\n",
    "df_worklog_enh_3 = df_worklog_enh_3.append(df_worklog_sub_idea)\n",
    "\n",
    "## Worklog enrich with IDEAS SUB ISSUES \n",
    "\n",
    "df_worklog_child_idea = pd.DataFrame()\n",
    "df_worklog_enh_4 = df_worklog_enh_3[~(df_worklog_enh_3['ISSUE_KEY_LOGGED'].isin(df_IDEAS_worklogs_child['CHILD_ISSUE_KEY']))]\n",
    "for index,row in df_IDEAS_worklogs_child.iterrows():\n",
    "    df_worklog_row = df_worklog_enh_3[(df_worklog_enh_3['ISSUE_KEY_LOGGED']==row['CHILD_ISSUE_KEY'])]\n",
    "    df_worklog_row.loc[:,'ISSUE_KEY']= row['ISSUE_KEY']\n",
    "    df_worklog_row.loc[:,'LINKED_1_ISSUE_KEY']= row['LINKED_1_ISSUE_KEY']\n",
    "    df_worklog_row.loc[:,'LINKED_1_ISSUE_TYPE_NAME']= row['LINKED_1_ISSUE_TYPE_NAME']\n",
    "    df_worklog_row.loc[:,'LINKED_1_ISSUE_STATUS_NAME']= row['LINKED_1_ISSUE_STATUS_NAME'] \n",
    "    df_worklog_row.loc[:,'CHILD_ISSUE_KEY'] = row['CHILD_ISSUE_KEY']\n",
    "    df_worklog_row.loc[:,'CHILD_ISSUE_TYPE_NAME'] = row['CHILD_ISSUE_TYPE_NAME']\n",
    "    df_worklog_row.loc[:,'CHILD_ISSUE_STATUS_NAME'] = row['CHILD_ISSUE_STATUS_NAME']\n",
    "    df_worklog_row.loc[:,'CHILD_SPRINT_DATE_VERSION'] = row['CHILD_SPRINT_DATE_VERSION']\n",
    "    df_worklog_row.loc[:,'CHILD_SPRINT_END_DATE_VERSION'] = row['CHILD_SPRINT_END_DATE_VERSION']\n",
    "    #df_worklog_row.loc[:,'SUB_ISSUE_KEY'] = row['SUB_ISSUE_KEY']\n",
    "    #df_worklog_row.loc[:,'SUB_ISSUE_TYPE_NAME'] = row['SUB_ISSUE_TYPE_NAME']\n",
    "    #df_worklog_row.loc[:,'SUB_ISSUE_STATUS_NAME'] = row['SUB_ISSUE_STATUS_NAME']\n",
    "    #df_worklog_row.loc[:,'SUB_STATUS_CATEGORY_CHANGE_DATE'] = row['SUB_STATUS_CATEGORY_CHANGE_DATE']\n",
    "    df_worklog_row.loc[:,'TOTAL_STORYPOINTS'] = row['TOTAL_STORYPOINTS']\n",
    "    df_worklog_child_idea = df_worklog_child_idea.append(df_worklog_row)\n",
    "\n",
    "df_worklog_enh_4 = df_worklog_enh_4.append(df_worklog_child_idea)"
   ]
  },
  {
   "cell_type": "code",
   "execution_count": 133,
   "id": "9515820d-013d-4532-b017-418c0e377fc0",
   "metadata": {},
   "outputs": [],
   "source": [
    "#df_worklog_enh_4.tail()"
   ]
  },
  {
   "cell_type": "code",
   "execution_count": 134,
   "id": "1939dc91-244f-4e28-a42c-309ea7883d6d",
   "metadata": {},
   "outputs": [
    {
     "name": "stderr",
     "output_type": "stream",
     "text": [
      "100%|██████████| 1/1 [00:00<00:00, 15363.75it/s]\n"
     ]
    }
   ],
   "source": [
    "table = \"saas-analytics-io.processed.jira_processed_IDEAS_worklog\"\n",
    "df_worklog_enh_4.to_gbq(table, if_exists='replace')"
   ]
  },
  {
   "cell_type": "code",
   "execution_count": null,
   "id": "f0cceb27-2957-4b99-923d-0f9acc974bda",
   "metadata": {},
   "outputs": [],
   "source": []
  },
  {
   "cell_type": "code",
   "execution_count": null,
   "id": "5fce7038-b60c-4c24-9b26-abee4e519ca7",
   "metadata": {},
   "outputs": [],
   "source": []
  },
  {
   "cell_type": "code",
   "execution_count": 135,
   "id": "c1159dd1-0477-4ea9-abf3-d100115c73d6",
   "metadata": {},
   "outputs": [],
   "source": [
    "#df_worklog_enh[(df_worklog_enh['ISSUE_KEY_LOGGED']=='RPLAT-26730')]\n",
    "#df_worklog_enh_2[(df_worklog_enh_2['ISSUE_KEY_LOGGED']=='RPLAT-26730')]\n",
    "#df_worklog_enh_2[(df_worklog_enh_2['LINKED_1_ISSUE_KEY'].isnull())]\n",
    "#df_worklog_enh_2[(df_worklog_enh_2['LINKED_1_ISSUE_KEY']=='RPLAT-38562')]"
   ]
  },
  {
   "cell_type": "code",
   "execution_count": 136,
   "id": "fcb57428",
   "metadata": {},
   "outputs": [],
   "source": [
    "#table = \"saas-analytics-io.processed.jira_processed_PR_worklog\"\n",
    "#df_worklog_enh.to_gbq(table, if_exists='replace')"
   ]
  },
  {
   "cell_type": "code",
   "execution_count": null,
   "id": "f1e3e6f4-4a5b-4794-9834-1b8c59312794",
   "metadata": {},
   "outputs": [],
   "source": []
  },
  {
   "cell_type": "code",
   "execution_count": 137,
   "id": "00b56b27-db07-4da9-bf11-59847d003a68",
   "metadata": {},
   "outputs": [],
   "source": [
    "#df_YTEM_1.tail(8).T"
   ]
  },
  {
   "cell_type": "code",
   "execution_count": 138,
   "id": "35ea1ffc-9f9a-4e4f-9a12-15d72dddbf24",
   "metadata": {},
   "outputs": [],
   "source": [
    "#df_IDEAS_worklogs = df_YTEM_1[['ISSUE_KEY'\n",
    "#                          ,'LINKED_1_ISSUE_KEY','LINKED_1_ISSUE_TYPE_NAME','LINKED_1_ISSUE_STATUS_NAME','LINKED_1_VERSION_NAME'\n",
    "#                          ,'CHILD_ISSUE_KEY','CHILD_ISSUE_TYPE_NAME','CHILD_ISSUE_STATUS_NAME','CHILD_SPRINT_DATE_VERSION','CHILD_SPRINT_END_DATE_VERSION'\n",
    "#                          ,'SUB_ISSUE_KEY','SUB_ISSUE_TYPE_NAME','SUB_ISSUE_STATUS_NAME','SUB_STATUS_CATEGORY_CHANGE_DATE','SUB_PROGRESS'\n",
    "#                          ,'TOTAL_STORYPOINTS']].drop_duplicates()\n",
    "#\n",
    "#df_IDEAS_worklogs_child = df_YTEM_1[(df_YTEM_1['CHILD_ISSUE_KEY'].notnull())&(df_YTEM_1['SUB_ISSUE_KEY'].isnull())][['ISSUE_KEY'\n",
    "#                          ,'LINKED_1_ISSUE_KEY','LINKED_1_ISSUE_TYPE_NAME','LINKED_1_ISSUE_STATUS_NAME'\n",
    "#                          ,'CHILD_ISSUE_KEY','CHILD_ISSUE_TYPE_NAME','CHILD_ISSUE_STATUS_NAME','CHILD_SPRINT_DATE_VERSION','CHILD_SPRINT_END_DATE_VERSION'\n",
    "#                          #,'SUB_ISSUE_KEY','SUB_ISSUE_TYPE_NAME','SUB_ISSUE_STATUS_NAME','SUB_STATUS_CATEGORY_CHANGE_DATE'\n",
    "#                          ,'TOTAL_STORYPOINTS','SUB_PROGRESS']].drop_duplicates()"
   ]
  },
  {
   "cell_type": "code",
   "execution_count": 139,
   "id": "e7d661b5-2058-40c8-8fce-3d3b71682fdd",
   "metadata": {},
   "outputs": [],
   "source": [
    "#df_worklog_enh_ideas = pd.merge(df_worklog_U,df_IDEAS_worklogs, left_on = 'ISSUE_KEY_LOGGED', right_on = 'SUB_ISSUE_KEY',how = 'left')"
   ]
  },
  {
   "cell_type": "code",
   "execution_count": 140,
   "id": "c15acc85-6fed-41ac-abbc-c79987a5f80c",
   "metadata": {},
   "outputs": [],
   "source": [
    "#df_worklog_ideas_child = pd.DataFrame()\n",
    "#df_worklog_enh_ideas_2 = df_worklog_enh_ideas[~(df_worklog_enh_ideas['ISSUE_KEY_LOGGED'].isin(df_IDEAS_worklogs_child['CHILD_ISSUE_KEY']))]\n",
    "#for index,row in df_IDEAS_worklogs_child.iterrows():\n",
    "#    df_worklog_row = df_worklog_enh_ideas[(df_worklog_enh_ideas['ISSUE_KEY_LOGGED']==row['CHILD_ISSUE_KEY'])]\n",
    "#    df_worklog_row.loc[:,'ISSUE_KEY']= row['ISSUE_KEY']\n",
    "#    df_worklog_row.loc[:,'LINKED_1_ISSUE_KEY']= row['LINKED_1_ISSUE_KEY']\n",
    "#    df_worklog_row.loc[:,'LINKED_1_ISSUE_TYPE_NAME']= row['LINKED_1_ISSUE_TYPE_NAME']\n",
    "#    df_worklog_row.loc[:,'LINKED_1_ISSUE_STATUS_NAME']= row['LINKED_1_ISSUE_STATUS_NAME'] \n",
    "#    df_worklog_row.loc[:,'CHILD_ISSUE_KEY'] = row['LINKED_1_ISSUE_KEY']\n",
    "#    df_worklog_row.loc[:,'CHILD_ISSUE_TYPE_NAME'] = row['CHILD_ISSUE_TYPE_NAME']\n",
    "#    df_worklog_row.loc[:,'CHILD_ISSUE_STATUS_NAME'] = row['CHILD_ISSUE_STATUS_NAME']\n",
    "#    df_worklog_row.loc[:,'CHILD_SPRINT_DATE_VERSION'] = row['CHILD_SPRINT_DATE_VERSION']\n",
    "#    df_worklog_row.loc[:,'CHILD_SPRINT_END_DATE_VERSION'] = row['CHILD_SPRINT_END_DATE_VERSION']\n",
    "#    df_worklog_row.loc[:,'TOTAL_STORYPOINTS'] = row['TOTAL_STORYPOINTS']\n",
    "#    df_worklog_ideas_child = df_worklog_ideas_child.append(df_worklog_row)\n",
    "#\n",
    "#df_worklog_enh_ideas_2 = df_worklog_enh_ideas_2.append(df_worklog_ideas_child)"
   ]
  },
  {
   "cell_type": "code",
   "execution_count": 141,
   "id": "56c8caa3-e8f9-427d-9844-4b4f9c0e502e",
   "metadata": {},
   "outputs": [],
   "source": [
    "#df_worklog_enh_ideas[df_worklog_enh_ideas['ISSUE_KEY_LOGGED']=='RPLAT-38211']\n",
    "#df_YTEM_1[df_YTEM_1['CHILD_ISSUE_KEY']=='RPLAT-38211']"
   ]
  },
  {
   "cell_type": "code",
   "execution_count": 142,
   "id": "ad192781-1fff-4eef-bc88-68c55790010a",
   "metadata": {},
   "outputs": [],
   "source": [
    "#df_YTEM_1[df_YTEM_1['CHILD_ISSUE_KEY']=='RPLAT-38070']"
   ]
  },
  {
   "cell_type": "code",
   "execution_count": 143,
   "id": "00d11ff2-98dd-4c01-bd98-dd5fc342c217",
   "metadata": {},
   "outputs": [],
   "source": [
    "#df_worklog_ideas_enh_2[df_worklog_ideas_enh_2['ISSUE_KEY_LOGGED']=='RPLAT-38211']"
   ]
  },
  {
   "cell_type": "code",
   "execution_count": 144,
   "id": "5f30aebc-d77e-4885-9aa2-901b391039e9",
   "metadata": {},
   "outputs": [],
   "source": [
    "#df_worklog_ideas_enh_2.tail()"
   ]
  },
  {
   "cell_type": "code",
   "execution_count": 145,
   "id": "0c89634c-8f70-4b66-b8c2-8ac6ce917a5b",
   "metadata": {},
   "outputs": [],
   "source": [
    "#df_worklog_U_2 = df_worklog_ideas_enh_2[df_worklog_ideas_enh_2['ISSUE_KEY'].isnull()][['SUB_ISSUE_KEY','ISSUE_TYPE_NAME','AUTHOR_NAME','UPDATE_NAME','START_DATE','LOGGED_TIME','CREATED','UPDATED']]"
   ]
  },
  {
   "cell_type": "code",
   "execution_count": 146,
   "id": "b2d2ec88-adb3-4ef2-ad0b-e05824318c5c",
   "metadata": {},
   "outputs": [],
   "source": [
    "#df_worklog_enh_ideas_pr = pd.merge(df_worklog_U_2,df_PR_worklogs, on = 'SUB_ISSUE_KEY',how = 'left')"
   ]
  },
  {
   "cell_type": "code",
   "execution_count": 147,
   "id": "5c15f7f6-1b90-4f82-917f-8ce3e9b17ca6",
   "metadata": {},
   "outputs": [],
   "source": [
    "#df_worklog_enh_only_ideas = df_worklog_enh_ideas[df_worklog_enh_ideas['ISSUE_KEY'].notnull()]"
   ]
  },
  {
   "cell_type": "code",
   "execution_count": 148,
   "id": "7426900b-060a-482c-8136-00753509f03c",
   "metadata": {},
   "outputs": [],
   "source": [
    "#df_worklog_enh_ideas_pr = df_worklog_enh_only_ideas.append(df_worklog_enh_ideas_pr)"
   ]
  },
  {
   "cell_type": "code",
   "execution_count": 149,
   "id": "a49a8f83-f346-4e46-9300-70124d054c68",
   "metadata": {},
   "outputs": [],
   "source": [
    "#df_worklog_enh_ideas_pr[df_worklog_enh_ideas_pr['SUB_ISSUE_KEY']=='RPLAT-24808']"
   ]
  },
  {
   "cell_type": "code",
   "execution_count": 150,
   "id": "c477254c-5051-4103-a440-2cbc11208094",
   "metadata": {},
   "outputs": [],
   "source": [
    "#table = \"saas-analytics-io.processed.jira_processed_IDEAS_worklog\"\n",
    "#df_worklog_enh_ideas.to_gbq(table, if_exists='replace')"
   ]
  },
  {
   "cell_type": "code",
   "execution_count": 151,
   "id": "0cf403ce-b9dd-4ef9-adf7-c0a8fcbb5a40",
   "metadata": {},
   "outputs": [],
   "source": [
    "#table = \"saas-analytics-io.processed.jira_processed_IDEAS_worklog\"\n",
    "#df_worklog_enh_ideas_pr.to_gbq(table, if_exists='replace')"
   ]
  },
  {
   "cell_type": "code",
   "execution_count": 152,
   "id": "b37e993a-6a23-4c62-adb7-9e3685d93a53",
   "metadata": {},
   "outputs": [],
   "source": [
    "#df_worklog_enh[df_worklog_enh['SUB_ISSUE_KEY']=='RPLAT-26453']"
   ]
  },
  {
   "cell_type": "code",
   "execution_count": 153,
   "id": "ab10980b-9664-4a88-87bd-bc5c23683492",
   "metadata": {},
   "outputs": [
    {
     "ename": "NameError",
     "evalue": "name 'df_PR_worklogs' is not defined",
     "output_type": "error",
     "traceback": [
      "\u001b[0;31m---------------------------------------------------------------------------\u001b[0m",
      "\u001b[0;31mNameError\u001b[0m                                 Traceback (most recent call last)",
      "\u001b[0;32m/var/tmp/ipykernel_28206/330097133.py\u001b[0m in \u001b[0;36m<module>\u001b[0;34m\u001b[0m\n\u001b[0;32m----> 1\u001b[0;31m \u001b[0mdf_PR_worklogs\u001b[0m\u001b[0;34m[\u001b[0m\u001b[0mdf_PR_worklogs\u001b[0m\u001b[0;34m[\u001b[0m\u001b[0;34m'SUB_ISSUE_KEY'\u001b[0m\u001b[0;34m]\u001b[0m\u001b[0;34m==\u001b[0m\u001b[0;34m'RPLAT-26453'\u001b[0m\u001b[0;34m]\u001b[0m\u001b[0;34m\u001b[0m\u001b[0;34m\u001b[0m\u001b[0m\n\u001b[0m",
      "\u001b[0;31mNameError\u001b[0m: name 'df_PR_worklogs' is not defined"
     ]
    }
   ],
   "source": [
    "#df_PR_worklogs[df_PR_worklogs['SUB_ISSUE_KEY']=='RPLAT-26453']"
   ]
  },
  {
   "cell_type": "code",
   "execution_count": null,
   "id": "e4b7f9ee-e30d-4ce7-abc3-63da6701a775",
   "metadata": {},
   "outputs": [],
   "source": [
    "#df_worklog_enh_ideas_pr[df_worklog_enh_ideas_pr['SUB_ISSUE_KEY']=='RPLAT-26453'].head()"
   ]
  },
  {
   "cell_type": "code",
   "execution_count": null,
   "id": "294187e3-9394-4699-b219-2495c5a27a84",
   "metadata": {},
   "outputs": [],
   "source": [
    "#df_worklog_1[df_worklog_1['ISSUE_KEY']=='RPLAT-26453']"
   ]
  },
  {
   "cell_type": "code",
   "execution_count": null,
   "id": "15db5ac9-8c36-4d9d-8b2b-0554ea0d567d",
   "metadata": {},
   "outputs": [],
   "source": [
    "#df_YTEM_1[df_YTEM_1['SUB_ISSUE_KEY']=='RPLAT-26453'].drop_duplicates()"
   ]
  },
  {
   "cell_type": "code",
   "execution_count": null,
   "id": "18c2c1cf-0fd7-4a75-8aa9-503624eb5afd",
   "metadata": {},
   "outputs": [],
   "source": []
  },
  {
   "cell_type": "code",
   "execution_count": null,
   "id": "cb9d8aad-dadd-4f7b-acd5-9e3e1f54d218",
   "metadata": {},
   "outputs": [],
   "source": []
  }
 ],
 "metadata": {
  "environment": {
   "kernel": "python3",
   "name": "common-cpu.m104",
   "type": "gcloud",
   "uri": "gcr.io/deeplearning-platform-release/base-cpu:m104"
  },
  "kernelspec": {
   "display_name": "Python 3",
   "language": "python",
   "name": "python3"
  },
  "language_info": {
   "codemirror_mode": {
    "name": "ipython",
    "version": 3
   },
   "file_extension": ".py",
   "mimetype": "text/x-python",
   "name": "python",
   "nbconvert_exporter": "python",
   "pygments_lexer": "ipython3",
   "version": "3.7.12"
  },
  "toc-showtags": true
 },
 "nbformat": 4,
 "nbformat_minor": 5
}
