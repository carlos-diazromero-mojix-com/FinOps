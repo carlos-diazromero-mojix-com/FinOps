{
 "cells": [
  {
   "cell_type": "code",
   "execution_count": 0,
   "metadata": {
    "application/vnd.databricks.v1+cell": {
     "cellMetadata": {
      "byteLimit": 2048000,
      "rowLimit": 10000
     },
     "inputWidgets": {},
     "nuid": "3ee10704-149d-4412-96ba-e87efc8c54d5",
     "showTitle": false,
     "title": ""
    }
   },
   "outputs": [
    {
     "output_type": "display_data",
     "data": {
      "text/html": [
       "<style scoped>\n",
       "  .ansiout {\n",
       "    display: block;\n",
       "    unicode-bidi: embed;\n",
       "    white-space: pre-wrap;\n",
       "    word-wrap: break-word;\n",
       "    word-break: break-all;\n",
       "    font-family: \"Source Code Pro\", \"Menlo\", monospace;;\n",
       "    font-size: 13px;\n",
       "    color: #555;\n",
       "    margin-left: 4px;\n",
       "    line-height: 19px;\n",
       "  }\n",
       "</style>\n",
       "<div class=\"ansiout\">Python interpreter will be restarted.\n",
       "Requirement already satisfied: pandas-gbq in /databricks/python3/lib/python3.8/site-packages (0.15.0)\n",
       "Requirement already satisfied: google-auth in /databricks/python3/lib/python3.8/site-packages (from pandas-gbq) (2.15.0)\n",
       "Requirement already satisfied: google-cloud-bigquery[bqstorage,pandas]!=2.4.*,&lt;3.0.0dev,&gt;=1.11.1 in /databricks/python3/lib/python3.8/site-packages (from pandas-gbq) (2.34.4)\n",
       "Requirement already satisfied: google-auth-oauthlib in /databricks/python3/lib/python3.8/site-packages (from pandas-gbq) (0.8.0)\n",
       "Requirement already satisfied: setuptools in /usr/local/lib/python3.8/dist-packages (from pandas-gbq) (52.0.0)\n",
       "Requirement already satisfied: pydata-google-auth in /databricks/python3/lib/python3.8/site-packages (from pandas-gbq) (1.4.0)\n",
       "Requirement already satisfied: pandas&gt;=0.23.2 in /databricks/python3/lib/python3.8/site-packages (from pandas-gbq) (1.2.4)\n",
       "Requirement already satisfied: packaging&lt;22.0dev,&gt;=14.3 in /databricks/python3/lib/python3.8/site-packages (from google-cloud-bigquery[bqstorage,pandas]!=2.4.*,&lt;3.0.0dev,&gt;=1.11.1-&gt;pandas-gbq) (20.9)\n",
       "Requirement already satisfied: requests&lt;3.0.0dev,&gt;=2.18.0 in /databricks/python3/lib/python3.8/site-packages (from google-cloud-bigquery[bqstorage,pandas]!=2.4.*,&lt;3.0.0dev,&gt;=1.11.1-&gt;pandas-gbq) (2.25.1)\n",
       "Requirement already satisfied: protobuf&lt;4.0.0dev,&gt;=3.12.0 in /databricks/python3/lib/python3.8/site-packages (from google-cloud-bigquery[bqstorage,pandas]!=2.4.*,&lt;3.0.0dev,&gt;=1.11.1-&gt;pandas-gbq) (3.20.3)\n",
       "Requirement already satisfied: google-cloud-core&lt;3.0.0dev,&gt;=1.4.1 in /databricks/python3/lib/python3.8/site-packages (from google-cloud-bigquery[bqstorage,pandas]!=2.4.*,&lt;3.0.0dev,&gt;=1.11.1-&gt;pandas-gbq) (2.3.2)\n",
       "Requirement already satisfied: grpcio&lt;2.0dev,&gt;=1.38.1 in /databricks/python3/lib/python3.8/site-packages (from google-cloud-bigquery[bqstorage,pandas]!=2.4.*,&lt;3.0.0dev,&gt;=1.11.1-&gt;pandas-gbq) (1.51.1)\n",
       "Requirement already satisfied: python-dateutil&lt;3.0dev,&gt;=2.7.2 in /databricks/python3/lib/python3.8/site-packages (from google-cloud-bigquery[bqstorage,pandas]!=2.4.*,&lt;3.0.0dev,&gt;=1.11.1-&gt;pandas-gbq) (2.8.1)\n",
       "Requirement already satisfied: proto-plus&lt;2.0.0dev,&gt;=1.15.0 in /databricks/python3/lib/python3.8/site-packages (from google-cloud-bigquery[bqstorage,pandas]!=2.4.*,&lt;3.0.0dev,&gt;=1.11.1-&gt;pandas-gbq) (1.22.1)\n",
       "Requirement already satisfied: google-resumable-media&lt;3.0dev,&gt;=0.6.0 in /databricks/python3/lib/python3.8/site-packages (from google-cloud-bigquery[bqstorage,pandas]!=2.4.*,&lt;3.0.0dev,&gt;=1.11.1-&gt;pandas-gbq) (2.4.0)\n",
       "Requirement already satisfied: google-api-core[grpc]!=2.0.*,!=2.1.*,!=2.2.*,!=2.3.0,&lt;3.0.0dev,&gt;=1.31.5 in /databricks/python3/lib/python3.8/site-packages (from google-cloud-bigquery[bqstorage,pandas]!=2.4.*,&lt;3.0.0dev,&gt;=1.11.1-&gt;pandas-gbq) (2.11.0)\n",
       "Requirement already satisfied: pyarrow&lt;8.0dev,&gt;=3.0.0 in /databricks/python3/lib/python3.8/site-packages (from google-cloud-bigquery[bqstorage,pandas]!=2.4.*,&lt;3.0.0dev,&gt;=1.11.1-&gt;pandas-gbq) (4.0.0)\n",
       "Requirement already satisfied: google-cloud-bigquery-storage&lt;3.0.0dev,&gt;=2.0.0 in /databricks/python3/lib/python3.8/site-packages (from google-cloud-bigquery[bqstorage,pandas]!=2.4.*,&lt;3.0.0dev,&gt;=1.11.1-&gt;pandas-gbq) (2.17.0)\n",
       "Requirement already satisfied: googleapis-common-protos&lt;2.0dev,&gt;=1.56.2 in /databricks/python3/lib/python3.8/site-packages (from google-api-core[grpc]!=2.0.*,!=2.1.*,!=2.2.*,!=2.3.0,&lt;3.0.0dev,&gt;=1.31.5-&gt;google-cloud-bigquery[bqstorage,pandas]!=2.4.*,&lt;3.0.0dev,&gt;=1.11.1-&gt;pandas-gbq) (1.57.0)\n",
       "Requirement already satisfied: grpcio-status&lt;2.0dev,&gt;=1.33.2 in /databricks/python3/lib/python3.8/site-packages (from google-api-core[grpc]!=2.0.*,!=2.1.*,!=2.2.*,!=2.3.0,&lt;3.0.0dev,&gt;=1.31.5-&gt;google-cloud-bigquery[bqstorage,pandas]!=2.4.*,&lt;3.0.0dev,&gt;=1.11.1-&gt;pandas-gbq) (1.48.2)\n",
       "Requirement already satisfied: six&gt;=1.9.0 in /databricks/python3/lib/python3.8/site-packages (from google-auth-&gt;pandas-gbq) (1.15.0)\n",
       "Requirement already satisfied: rsa&lt;5,&gt;=3.1.4 in /databricks/python3/lib/python3.8/site-packages (from google-auth-&gt;pandas-gbq) (4.9)\n",
       "Requirement already satisfied: cachetools&lt;6.0,&gt;=2.0.0 in /databricks/python3/lib/python3.8/site-packages (from google-auth-&gt;pandas-gbq) (5.2.0)\n",
       "Requirement already satisfied: pyasn1-modules&gt;=0.2.1 in /databricks/python3/lib/python3.8/site-packages (from google-auth-&gt;pandas-gbq) (0.2.8)\n",
       "Requirement already satisfied: google-crc32c&lt;2.0dev,&gt;=1.0 in /databricks/python3/lib/python3.8/site-packages (from google-resumable-media&lt;3.0dev,&gt;=0.6.0-&gt;google-cloud-bigquery[bqstorage,pandas]!=2.4.*,&lt;3.0.0dev,&gt;=1.11.1-&gt;pandas-gbq) (1.5.0)\n",
       "Requirement already satisfied: pyparsing&gt;=2.0.2 in /databricks/python3/lib/python3.8/site-packages (from packaging&lt;22.0dev,&gt;=14.3-&gt;google-cloud-bigquery[bqstorage,pandas]!=2.4.*,&lt;3.0.0dev,&gt;=1.11.1-&gt;pandas-gbq) (2.4.7)\n",
       "Requirement already satisfied: pytz&gt;=2017.3 in /databricks/python3/lib/python3.8/site-packages (from pandas&gt;=0.23.2-&gt;pandas-gbq) (2020.5)\n",
       "Requirement already satisfied: numpy&gt;=1.16.5 in /databricks/python3/lib/python3.8/site-packages (from pandas&gt;=0.23.2-&gt;pandas-gbq) (1.19.2)\n",
       "Requirement already satisfied: pyasn1&lt;0.5.0,&gt;=0.4.6 in /databricks/python3/lib/python3.8/site-packages (from pyasn1-modules&gt;=0.2.1-&gt;google-auth-&gt;pandas-gbq) (0.4.8)\n",
       "Requirement already satisfied: urllib3&lt;1.27,&gt;=1.21.1 in /databricks/python3/lib/python3.8/site-packages (from requests&lt;3.0.0dev,&gt;=2.18.0-&gt;google-cloud-bigquery[bqstorage,pandas]!=2.4.*,&lt;3.0.0dev,&gt;=1.11.1-&gt;pandas-gbq) (1.25.11)\n",
       "Requirement already satisfied: idna&lt;3,&gt;=2.5 in /databricks/python3/lib/python3.8/site-packages (from requests&lt;3.0.0dev,&gt;=2.18.0-&gt;google-cloud-bigquery[bqstorage,pandas]!=2.4.*,&lt;3.0.0dev,&gt;=1.11.1-&gt;pandas-gbq) (2.10)\n",
       "Requirement already satisfied: certifi&gt;=2017.4.17 in /databricks/python3/lib/python3.8/site-packages (from requests&lt;3.0.0dev,&gt;=2.18.0-&gt;google-cloud-bigquery[bqstorage,pandas]!=2.4.*,&lt;3.0.0dev,&gt;=1.11.1-&gt;pandas-gbq) (2020.12.5)\n",
       "Requirement already satisfied: chardet&lt;5,&gt;=3.0.2 in /databricks/python3/lib/python3.8/site-packages (from requests&lt;3.0.0dev,&gt;=2.18.0-&gt;google-cloud-bigquery[bqstorage,pandas]!=2.4.*,&lt;3.0.0dev,&gt;=1.11.1-&gt;pandas-gbq) (4.0.0)\n",
       "Requirement already satisfied: requests-oauthlib&gt;=0.7.0 in /databricks/python3/lib/python3.8/site-packages (from google-auth-oauthlib-&gt;pandas-gbq) (1.3.1)\n",
       "Requirement already satisfied: oauthlib&gt;=3.0.0 in /databricks/python3/lib/python3.8/site-packages (from requests-oauthlib&gt;=0.7.0-&gt;google-auth-oauthlib-&gt;pandas-gbq) (3.2.2)\n",
       "WARNING: You are using pip version 21.0.1; however, version 23.1.2 is available.\n",
       "You should consider upgrading via the &#39;/local_disk0/.ephemeral_nfs/envs/pythonEnv-65fa792c-1725-4dea-9480-6d3b69136d6f/bin/python -m pip install --upgrade pip&#39; command.\n",
       "Python interpreter will be restarted.\n",
       "</div>"
      ]
     },
     "metadata": {
      "application/vnd.databricks.v1+output": {
       "addedWidgets": {},
       "arguments": {},
       "data": "<div class=\"ansiout\">Python interpreter will be restarted.\nRequirement already satisfied: pandas-gbq in /databricks/python3/lib/python3.8/site-packages (0.15.0)\nRequirement already satisfied: google-auth in /databricks/python3/lib/python3.8/site-packages (from pandas-gbq) (2.15.0)\nRequirement already satisfied: google-cloud-bigquery[bqstorage,pandas]!=2.4.*,&lt;3.0.0dev,&gt;=1.11.1 in /databricks/python3/lib/python3.8/site-packages (from pandas-gbq) (2.34.4)\nRequirement already satisfied: google-auth-oauthlib in /databricks/python3/lib/python3.8/site-packages (from pandas-gbq) (0.8.0)\nRequirement already satisfied: setuptools in /usr/local/lib/python3.8/dist-packages (from pandas-gbq) (52.0.0)\nRequirement already satisfied: pydata-google-auth in /databricks/python3/lib/python3.8/site-packages (from pandas-gbq) (1.4.0)\nRequirement already satisfied: pandas&gt;=0.23.2 in /databricks/python3/lib/python3.8/site-packages (from pandas-gbq) (1.2.4)\nRequirement already satisfied: packaging&lt;22.0dev,&gt;=14.3 in /databricks/python3/lib/python3.8/site-packages (from google-cloud-bigquery[bqstorage,pandas]!=2.4.*,&lt;3.0.0dev,&gt;=1.11.1-&gt;pandas-gbq) (20.9)\nRequirement already satisfied: requests&lt;3.0.0dev,&gt;=2.18.0 in /databricks/python3/lib/python3.8/site-packages (from google-cloud-bigquery[bqstorage,pandas]!=2.4.*,&lt;3.0.0dev,&gt;=1.11.1-&gt;pandas-gbq) (2.25.1)\nRequirement already satisfied: protobuf&lt;4.0.0dev,&gt;=3.12.0 in /databricks/python3/lib/python3.8/site-packages (from google-cloud-bigquery[bqstorage,pandas]!=2.4.*,&lt;3.0.0dev,&gt;=1.11.1-&gt;pandas-gbq) (3.20.3)\nRequirement already satisfied: google-cloud-core&lt;3.0.0dev,&gt;=1.4.1 in /databricks/python3/lib/python3.8/site-packages (from google-cloud-bigquery[bqstorage,pandas]!=2.4.*,&lt;3.0.0dev,&gt;=1.11.1-&gt;pandas-gbq) (2.3.2)\nRequirement already satisfied: grpcio&lt;2.0dev,&gt;=1.38.1 in /databricks/python3/lib/python3.8/site-packages (from google-cloud-bigquery[bqstorage,pandas]!=2.4.*,&lt;3.0.0dev,&gt;=1.11.1-&gt;pandas-gbq) (1.51.1)\nRequirement already satisfied: python-dateutil&lt;3.0dev,&gt;=2.7.2 in /databricks/python3/lib/python3.8/site-packages (from google-cloud-bigquery[bqstorage,pandas]!=2.4.*,&lt;3.0.0dev,&gt;=1.11.1-&gt;pandas-gbq) (2.8.1)\nRequirement already satisfied: proto-plus&lt;2.0.0dev,&gt;=1.15.0 in /databricks/python3/lib/python3.8/site-packages (from google-cloud-bigquery[bqstorage,pandas]!=2.4.*,&lt;3.0.0dev,&gt;=1.11.1-&gt;pandas-gbq) (1.22.1)\nRequirement already satisfied: google-resumable-media&lt;3.0dev,&gt;=0.6.0 in /databricks/python3/lib/python3.8/site-packages (from google-cloud-bigquery[bqstorage,pandas]!=2.4.*,&lt;3.0.0dev,&gt;=1.11.1-&gt;pandas-gbq) (2.4.0)\nRequirement already satisfied: google-api-core[grpc]!=2.0.*,!=2.1.*,!=2.2.*,!=2.3.0,&lt;3.0.0dev,&gt;=1.31.5 in /databricks/python3/lib/python3.8/site-packages (from google-cloud-bigquery[bqstorage,pandas]!=2.4.*,&lt;3.0.0dev,&gt;=1.11.1-&gt;pandas-gbq) (2.11.0)\nRequirement already satisfied: pyarrow&lt;8.0dev,&gt;=3.0.0 in /databricks/python3/lib/python3.8/site-packages (from google-cloud-bigquery[bqstorage,pandas]!=2.4.*,&lt;3.0.0dev,&gt;=1.11.1-&gt;pandas-gbq) (4.0.0)\nRequirement already satisfied: google-cloud-bigquery-storage&lt;3.0.0dev,&gt;=2.0.0 in /databricks/python3/lib/python3.8/site-packages (from google-cloud-bigquery[bqstorage,pandas]!=2.4.*,&lt;3.0.0dev,&gt;=1.11.1-&gt;pandas-gbq) (2.17.0)\nRequirement already satisfied: googleapis-common-protos&lt;2.0dev,&gt;=1.56.2 in /databricks/python3/lib/python3.8/site-packages (from google-api-core[grpc]!=2.0.*,!=2.1.*,!=2.2.*,!=2.3.0,&lt;3.0.0dev,&gt;=1.31.5-&gt;google-cloud-bigquery[bqstorage,pandas]!=2.4.*,&lt;3.0.0dev,&gt;=1.11.1-&gt;pandas-gbq) (1.57.0)\nRequirement already satisfied: grpcio-status&lt;2.0dev,&gt;=1.33.2 in /databricks/python3/lib/python3.8/site-packages (from google-api-core[grpc]!=2.0.*,!=2.1.*,!=2.2.*,!=2.3.0,&lt;3.0.0dev,&gt;=1.31.5-&gt;google-cloud-bigquery[bqstorage,pandas]!=2.4.*,&lt;3.0.0dev,&gt;=1.11.1-&gt;pandas-gbq) (1.48.2)\nRequirement already satisfied: six&gt;=1.9.0 in /databricks/python3/lib/python3.8/site-packages (from google-auth-&gt;pandas-gbq) (1.15.0)\nRequirement already satisfied: rsa&lt;5,&gt;=3.1.4 in /databricks/python3/lib/python3.8/site-packages (from google-auth-&gt;pandas-gbq) (4.9)\nRequirement already satisfied: cachetools&lt;6.0,&gt;=2.0.0 in /databricks/python3/lib/python3.8/site-packages (from google-auth-&gt;pandas-gbq) (5.2.0)\nRequirement already satisfied: pyasn1-modules&gt;=0.2.1 in /databricks/python3/lib/python3.8/site-packages (from google-auth-&gt;pandas-gbq) (0.2.8)\nRequirement already satisfied: google-crc32c&lt;2.0dev,&gt;=1.0 in /databricks/python3/lib/python3.8/site-packages (from google-resumable-media&lt;3.0dev,&gt;=0.6.0-&gt;google-cloud-bigquery[bqstorage,pandas]!=2.4.*,&lt;3.0.0dev,&gt;=1.11.1-&gt;pandas-gbq) (1.5.0)\nRequirement already satisfied: pyparsing&gt;=2.0.2 in /databricks/python3/lib/python3.8/site-packages (from packaging&lt;22.0dev,&gt;=14.3-&gt;google-cloud-bigquery[bqstorage,pandas]!=2.4.*,&lt;3.0.0dev,&gt;=1.11.1-&gt;pandas-gbq) (2.4.7)\nRequirement already satisfied: pytz&gt;=2017.3 in /databricks/python3/lib/python3.8/site-packages (from pandas&gt;=0.23.2-&gt;pandas-gbq) (2020.5)\nRequirement already satisfied: numpy&gt;=1.16.5 in /databricks/python3/lib/python3.8/site-packages (from pandas&gt;=0.23.2-&gt;pandas-gbq) (1.19.2)\nRequirement already satisfied: pyasn1&lt;0.5.0,&gt;=0.4.6 in /databricks/python3/lib/python3.8/site-packages (from pyasn1-modules&gt;=0.2.1-&gt;google-auth-&gt;pandas-gbq) (0.4.8)\nRequirement already satisfied: urllib3&lt;1.27,&gt;=1.21.1 in /databricks/python3/lib/python3.8/site-packages (from requests&lt;3.0.0dev,&gt;=2.18.0-&gt;google-cloud-bigquery[bqstorage,pandas]!=2.4.*,&lt;3.0.0dev,&gt;=1.11.1-&gt;pandas-gbq) (1.25.11)\nRequirement already satisfied: idna&lt;3,&gt;=2.5 in /databricks/python3/lib/python3.8/site-packages (from requests&lt;3.0.0dev,&gt;=2.18.0-&gt;google-cloud-bigquery[bqstorage,pandas]!=2.4.*,&lt;3.0.0dev,&gt;=1.11.1-&gt;pandas-gbq) (2.10)\nRequirement already satisfied: certifi&gt;=2017.4.17 in /databricks/python3/lib/python3.8/site-packages (from requests&lt;3.0.0dev,&gt;=2.18.0-&gt;google-cloud-bigquery[bqstorage,pandas]!=2.4.*,&lt;3.0.0dev,&gt;=1.11.1-&gt;pandas-gbq) (2020.12.5)\nRequirement already satisfied: chardet&lt;5,&gt;=3.0.2 in /databricks/python3/lib/python3.8/site-packages (from requests&lt;3.0.0dev,&gt;=2.18.0-&gt;google-cloud-bigquery[bqstorage,pandas]!=2.4.*,&lt;3.0.0dev,&gt;=1.11.1-&gt;pandas-gbq) (4.0.0)\nRequirement already satisfied: requests-oauthlib&gt;=0.7.0 in /databricks/python3/lib/python3.8/site-packages (from google-auth-oauthlib-&gt;pandas-gbq) (1.3.1)\nRequirement already satisfied: oauthlib&gt;=3.0.0 in /databricks/python3/lib/python3.8/site-packages (from requests-oauthlib&gt;=0.7.0-&gt;google-auth-oauthlib-&gt;pandas-gbq) (3.2.2)\nWARNING: You are using pip version 21.0.1; however, version 23.1.2 is available.\nYou should consider upgrading via the &#39;/local_disk0/.ephemeral_nfs/envs/pythonEnv-65fa792c-1725-4dea-9480-6d3b69136d6f/bin/python -m pip install --upgrade pip&#39; command.\nPython interpreter will be restarted.\n</div>",
       "datasetInfos": [],
       "metadata": {},
       "removedWidgets": [],
       "type": "html"
      }
     },
     "output_type": "display_data"
    }
   ],
   "source": [
    "pip install pandas-gbq"
   ]
  },
  {
   "cell_type": "code",
   "execution_count": 0,
   "metadata": {
    "application/vnd.databricks.v1+cell": {
     "cellMetadata": {
      "byteLimit": 2048000,
      "rowLimit": 10000
     },
     "inputWidgets": {},
     "nuid": "bae7543d-8c4e-4a29-bf98-08644eb085d6",
     "showTitle": false,
     "title": ""
    }
   },
   "outputs": [
    {
     "output_type": "display_data",
     "data": {
      "text/html": [
       "<style scoped>\n",
       "  .ansiout {\n",
       "    display: block;\n",
       "    unicode-bidi: embed;\n",
       "    white-space: pre-wrap;\n",
       "    word-wrap: break-word;\n",
       "    word-break: break-all;\n",
       "    font-family: \"Source Code Pro\", \"Menlo\", monospace;;\n",
       "    font-size: 13px;\n",
       "    color: #555;\n",
       "    margin-left: 4px;\n",
       "    line-height: 19px;\n",
       "  }\n",
       "</style>\n",
       "<div class=\"ansiout\">Client creating using default project: eng-vizix-cloud\n",
       "</div>"
      ]
     },
     "metadata": {
      "application/vnd.databricks.v1+output": {
       "addedWidgets": {},
       "arguments": {},
       "data": "<div class=\"ansiout\">Client creating using default project: eng-vizix-cloud\n</div>",
       "datasetInfos": [],
       "metadata": {},
       "removedWidgets": [],
       "type": "html"
      }
     },
     "output_type": "display_data"
    }
   ],
   "source": [
    "from google.cloud import bigquery\n",
    "import pandas as pd\n",
    "#import pandas_gbq\n",
    "import requests\n",
    "import re\n",
    "import json\n",
    "import datetime\n",
    "from datetime import datetime\n",
    "import plotly.express as px\n",
    "client = bigquery.Client(location=\"US\")\n",
    "print(\"Client creating using default project: {}\".format(client.project))\n",
    "def get_body(body_field):\n",
    "    try:\n",
    "        parsed = body_field.item().replace(\"\\\\\",\"\")\n",
    "    except Exception as error:\n",
    "        print(error)\n",
    "    return json.loads(parsed)\n",
    "pd.set_option('display.width', 1000)\n",
    "pd.set_option(\"max_colwidth\",10000)\n",
    "pd.set_option('display.max_rows', 10000)\n",
    "from pandas.io.json import json_normalize"
   ]
  },
  {
   "cell_type": "code",
   "execution_count": 0,
   "metadata": {
    "application/vnd.databricks.v1+cell": {
     "cellMetadata": {
      "byteLimit": 2048000,
      "rowLimit": 10000
     },
     "inputWidgets": {},
     "nuid": "541f509b-7e9b-4cf2-a522-f4cd79ec58e6",
     "showTitle": false,
     "title": ""
    }
   },
   "outputs": [
    {
     "output_type": "display_data",
     "data": {
      "text/html": [
       "<style scoped>\n",
       "  .ansiout {\n",
       "    display: block;\n",
       "    unicode-bidi: embed;\n",
       "    white-space: pre-wrap;\n",
       "    word-wrap: break-word;\n",
       "    word-break: break-all;\n",
       "    font-family: \"Source Code Pro\", \"Menlo\", monospace;;\n",
       "    font-size: 13px;\n",
       "    color: #555;\n",
       "    margin-left: 4px;\n",
       "    line-height: 19px;\n",
       "  }\n",
       "</style>\n",
       "<div class=\"ansiout\"></div>"
      ]
     },
     "metadata": {
      "application/vnd.databricks.v1+output": {
       "addedWidgets": {},
       "arguments": {},
       "data": "<div class=\"ansiout\"></div>",
       "datasetInfos": [],
       "metadata": {},
       "removedWidgets": [],
       "type": "html"
      }
     },
     "output_type": "display_data"
    }
   ],
   "source": [
    "year_month = '2023-04'"
   ]
  },
  {
   "cell_type": "markdown",
   "metadata": {
    "application/vnd.databricks.v1+cell": {
     "cellMetadata": {},
     "inputWidgets": {},
     "nuid": "b3e9c05e-d9fd-4b44-98b0-a1658ca259c0",
     "showTitle": false,
     "title": ""
    }
   },
   "source": [
    "### Cost allocation per API Calls"
   ]
  },
  {
   "cell_type": "code",
   "execution_count": 0,
   "metadata": {
    "application/vnd.databricks.v1+cell": {
     "cellMetadata": {
      "byteLimit": 2048000,
      "rowLimit": 10000
     },
     "inputWidgets": {},
     "nuid": "f0bd78b8-2c33-4518-9a1e-4b4377da7520",
     "showTitle": false,
     "title": ""
    }
   },
   "outputs": [
    {
     "output_type": "display_data",
     "data": {
      "text/html": [
       "<style scoped>\n",
       "  .ansiout {\n",
       "    display: block;\n",
       "    unicode-bidi: embed;\n",
       "    white-space: pre-wrap;\n",
       "    word-wrap: break-word;\n",
       "    word-break: break-all;\n",
       "    font-family: \"Source Code Pro\", \"Menlo\", monospace;;\n",
       "    font-size: 13px;\n",
       "    color: #555;\n",
       "    margin-left: 4px;\n",
       "    line-height: 19px;\n",
       "  }\n",
       "</style>\n",
       "<div class=\"ansiout\"></div>"
      ]
     },
     "metadata": {
      "application/vnd.databricks.v1+output": {
       "addedWidgets": {},
       "arguments": {},
       "data": "<div class=\"ansiout\"></div>",
       "datasetInfos": [],
       "metadata": {},
       "removedWidgets": [],
       "type": "html"
      }
     },
     "output_type": "display_data"
    }
   ],
   "source": [
    "### GCP Cost Extraction\n",
    "query = \"\"\"\n",
    "    SELECT service,sku,usage_start_time, cost, usage,credits\n",
    "    FROM `saas-analytics-io.finance.gcp_billing_export_v1_01FE23_B1D2D8_10D34D` \n",
    "    WHERE JSON_VALUE(project.number) = '260718309650' \n",
    "    and usage_start_time between '2023-04-01 00:00:00' and '2023-05-01 23:59:59'  \"\"\"\n",
    "\n",
    "query_job = client.query(\n",
    "    query,\n",
    "# Location must match that of the dataset(s) referenced in the query.\n",
    "    location = \"US\",\n",
    ")  # API request - starts the query\n",
    "\n",
    "df_GCP_prcs_t = query_job.to_dataframe()\n",
    "\n",
    "sku = df_GCP_prcs_t['sku'].values.tolist()\n",
    "service = df_GCP_prcs_t['service'].values.tolist()\n",
    "\n",
    "json_cols = ['service', 'sku','usage']\n",
    "for column in json_cols:\n",
    "    #c_load = test[column].apply(json.loads)\n",
    "    \n",
    "    if(column == 'project'):  \n",
    "        pr = pd.json_normalize(df_GCP_prcs_t['project'])\n",
    "        pr.rename(columns = {'labels':'labels_%s'%(column)},inplace =True)\n",
    "        df_GCP_prcs_t = df_GCP_prcs_t.join(pr)\n",
    "        df_GCP_prcs_t.rename(columns = {'id':'id_%s'%(column)},inplace =True)\n",
    "        df_GCP_prcs_t.rename(columns = {'labels':'description_%s'%(column)},inplace =True)\n",
    "        df_GCP_prcs_t = df_GCP_prcs_t.drop(column , axis=1)\n",
    "    if(column != 'project'):\n",
    "        c_list = list(df_GCP_prcs_t[column])\n",
    "        c_dat = json.dumps(c_list)    \n",
    "        df_GCP_prcs_t = df_GCP_prcs_t.join(pd.read_json(c_dat))\n",
    "        df_GCP_prcs_t.rename(columns = {'id':'id_%s'%(column)},inplace =True)\n",
    "        df_GCP_prcs_t.rename(columns = {'description':'description_%s'%(column)},inplace =True)\n",
    "        df_GCP_prcs_t = df_GCP_prcs_t.drop(column , axis=1)\n",
    "        \n",
    "df_GCP_prcs_t = df_GCP_prcs_t[(~(df_GCP_prcs_t['description_sku'].str.contains('SSD')))]\n",
    "df_GCP_prcs_t.loc[:,'date_GMT_0'] = df_GCP_prcs_t['usage_start_time'].astype(str).apply(lambda x:x[:10])\n",
    "df_GCP_prcs_t.loc[:,'hour_GMT_0'] = df_GCP_prcs_t['usage_start_time'].astype(str).apply(lambda x:x[11:13])\n",
    "df_GCP_prcs_agg_t = df_GCP_prcs_t.groupby(['date_GMT_0','hour_GMT_0']).agg(cost_h = (\"cost\",\"sum\"),).reset_index()\n",
    "df_GCP_prcs_t.loc[df_GCP_prcs_t['unit']=='byte-seconds','byte_seconds'] = df_GCP_prcs_t['amount']\n",
    "df_GCP_prcs_t.loc[df_GCP_prcs_t['unit']=='bytes','bytes'] = df_GCP_prcs_t['amount']\n",
    "df_GCP_prcs_t.loc[df_GCP_prcs_t['unit']=='requests','requests'] = df_GCP_prcs_t['amount']\n",
    "df_GCP_prcs_t.loc[df_GCP_prcs_t['unit']=='seconds','seconds'] = df_GCP_prcs_t['amount']\n",
    "df_GCP_prcs_agg_t = df_GCP_prcs_t.groupby(['date_GMT_0','hour_GMT_0']).agg(cost_h = (\"cost\",\"sum\"),\n",
    "                                                                          bytes_h = (\"bytes\",\"sum\"),\n",
    "                                                                          requests_h = (\"requests\",\"sum\"),\n",
    "                                                                          seconds_h = (\"seconds\",\"sum\"),\n",
    "                                                                          bytes_seconds_h = (\"byte_seconds\",\"sum\"),).reset_index()"
   ]
  },
  {
   "cell_type": "code",
   "execution_count": 0,
   "metadata": {
    "application/vnd.databricks.v1+cell": {
     "cellMetadata": {
      "byteLimit": 2048000,
      "rowLimit": 10000
     },
     "inputWidgets": {},
     "nuid": "78502ecf-e357-4d79-8f36-37a0bff54d36",
     "showTitle": false,
     "title": ""
    }
   },
   "outputs": [
    {
     "output_type": "display_data",
     "data": {
      "text/html": [
       "<style scoped>\n",
       "  .ansiout {\n",
       "    display: block;\n",
       "    unicode-bidi: embed;\n",
       "    white-space: pre-wrap;\n",
       "    word-wrap: break-word;\n",
       "    word-break: break-all;\n",
       "    font-family: \"Source Code Pro\", \"Menlo\", monospace;;\n",
       "    font-size: 13px;\n",
       "    color: #555;\n",
       "    margin-left: 4px;\n",
       "    line-height: 19px;\n",
       "  }\n",
       "</style>\n",
       "<div class=\"ansiout\">Out[4]: </div>"
      ]
     },
     "metadata": {
      "application/vnd.databricks.v1+output": {
       "addedWidgets": {},
       "arguments": {},
       "data": "<div class=\"ansiout\">Out[4]: </div>",
       "datasetInfos": [],
       "metadata": {},
       "removedWidgets": [],
       "type": "html"
      }
     },
     "output_type": "display_data"
    },
    {
     "output_type": "display_data",
     "data": {
      "text/html": [
       "<div>\n",
       "<style scoped>\n",
       "    .dataframe tbody tr th:only-of-type {\n",
       "        vertical-align: middle;\n",
       "    }\n",
       "\n",
       "    .dataframe tbody tr th {\n",
       "        vertical-align: top;\n",
       "    }\n",
       "\n",
       "    .dataframe thead th {\n",
       "        text-align: right;\n",
       "    }\n",
       "</style>\n",
       "<table border=\"1\" class=\"dataframe\">\n",
       "  <thead>\n",
       "    <tr style=\"text-align: right;\">\n",
       "      <th></th>\n",
       "      <th>usage_start_time</th>\n",
       "      <th>cost</th>\n",
       "      <th>credits</th>\n",
       "      <th>id_service</th>\n",
       "      <th>description_service</th>\n",
       "      <th>id_sku</th>\n",
       "      <th>description_sku</th>\n",
       "      <th>amount</th>\n",
       "      <th>amount_in_pricing_units</th>\n",
       "      <th>pricing_unit</th>\n",
       "      <th>date_GMT_0</th>\n",
       "      <th>hour_GMT_0</th>\n",
       "      <th>byte_seconds</th>\n",
       "      <th>bytes</th>\n",
       "      <th>requests</th>\n",
       "      <th>seconds</th>\n",
       "    </tr>\n",
       "    <tr>\n",
       "      <th>unit</th>\n",
       "      <th></th>\n",
       "      <th></th>\n",
       "      <th></th>\n",
       "      <th></th>\n",
       "      <th></th>\n",
       "      <th></th>\n",
       "      <th></th>\n",
       "      <th></th>\n",
       "      <th></th>\n",
       "      <th></th>\n",
       "      <th></th>\n",
       "      <th></th>\n",
       "      <th></th>\n",
       "      <th></th>\n",
       "      <th></th>\n",
       "      <th></th>\n",
       "    </tr>\n",
       "  </thead>\n",
       "  <tbody>\n",
       "    <tr>\n",
       "      <th>byte-seconds</th>\n",
       "      <td>141226</td>\n",
       "      <td>141226</td>\n",
       "      <td>141226</td>\n",
       "      <td>141226</td>\n",
       "      <td>141226</td>\n",
       "      <td>141226</td>\n",
       "      <td>141226</td>\n",
       "      <td>141226</td>\n",
       "      <td>141226</td>\n",
       "      <td>141226</td>\n",
       "      <td>141226</td>\n",
       "      <td>141226</td>\n",
       "      <td>141226</td>\n",
       "      <td>0</td>\n",
       "      <td>0</td>\n",
       "      <td>0</td>\n",
       "    </tr>\n",
       "    <tr>\n",
       "      <th>bytes</th>\n",
       "      <td>103816</td>\n",
       "      <td>103816</td>\n",
       "      <td>103816</td>\n",
       "      <td>103816</td>\n",
       "      <td>103816</td>\n",
       "      <td>103816</td>\n",
       "      <td>103816</td>\n",
       "      <td>103816</td>\n",
       "      <td>103816</td>\n",
       "      <td>103816</td>\n",
       "      <td>103816</td>\n",
       "      <td>103816</td>\n",
       "      <td>0</td>\n",
       "      <td>103816</td>\n",
       "      <td>0</td>\n",
       "      <td>0</td>\n",
       "    </tr>\n",
       "    <tr>\n",
       "      <th>requests</th>\n",
       "      <td>5025</td>\n",
       "      <td>5025</td>\n",
       "      <td>5025</td>\n",
       "      <td>5025</td>\n",
       "      <td>5025</td>\n",
       "      <td>5025</td>\n",
       "      <td>5025</td>\n",
       "      <td>5025</td>\n",
       "      <td>5025</td>\n",
       "      <td>5025</td>\n",
       "      <td>5025</td>\n",
       "      <td>5025</td>\n",
       "      <td>0</td>\n",
       "      <td>0</td>\n",
       "      <td>5025</td>\n",
       "      <td>0</td>\n",
       "    </tr>\n",
       "    <tr>\n",
       "      <th>seconds</th>\n",
       "      <td>196524</td>\n",
       "      <td>196524</td>\n",
       "      <td>196524</td>\n",
       "      <td>196524</td>\n",
       "      <td>196524</td>\n",
       "      <td>196524</td>\n",
       "      <td>196524</td>\n",
       "      <td>196524</td>\n",
       "      <td>196524</td>\n",
       "      <td>196524</td>\n",
       "      <td>196524</td>\n",
       "      <td>196524</td>\n",
       "      <td>0</td>\n",
       "      <td>0</td>\n",
       "      <td>0</td>\n",
       "      <td>196524</td>\n",
       "    </tr>\n",
       "  </tbody>\n",
       "</table>\n",
       "</div>"
      ]
     },
     "metadata": {
      "application/vnd.databricks.v1+output": {
       "addedWidgets": {},
       "arguments": {},
       "data": "<div>\n<style scoped>\n    .dataframe tbody tr th:only-of-type {\n        vertical-align: middle;\n    }\n\n    .dataframe tbody tr th {\n        vertical-align: top;\n    }\n\n    .dataframe thead th {\n        text-align: right;\n    }\n</style>\n<table border=\"1\" class=\"dataframe\">\n  <thead>\n    <tr style=\"text-align: right;\">\n      <th></th>\n      <th>usage_start_time</th>\n      <th>cost</th>\n      <th>credits</th>\n      <th>id_service</th>\n      <th>description_service</th>\n      <th>id_sku</th>\n      <th>description_sku</th>\n      <th>amount</th>\n      <th>amount_in_pricing_units</th>\n      <th>pricing_unit</th>\n      <th>date_GMT_0</th>\n      <th>hour_GMT_0</th>\n      <th>byte_seconds</th>\n      <th>bytes</th>\n      <th>requests</th>\n      <th>seconds</th>\n    </tr>\n    <tr>\n      <th>unit</th>\n      <th></th>\n      <th></th>\n      <th></th>\n      <th></th>\n      <th></th>\n      <th></th>\n      <th></th>\n      <th></th>\n      <th></th>\n      <th></th>\n      <th></th>\n      <th></th>\n      <th></th>\n      <th></th>\n      <th></th>\n      <th></th>\n    </tr>\n  </thead>\n  <tbody>\n    <tr>\n      <th>byte-seconds</th>\n      <td>141226</td>\n      <td>141226</td>\n      <td>141226</td>\n      <td>141226</td>\n      <td>141226</td>\n      <td>141226</td>\n      <td>141226</td>\n      <td>141226</td>\n      <td>141226</td>\n      <td>141226</td>\n      <td>141226</td>\n      <td>141226</td>\n      <td>141226</td>\n      <td>0</td>\n      <td>0</td>\n      <td>0</td>\n    </tr>\n    <tr>\n      <th>bytes</th>\n      <td>103816</td>\n      <td>103816</td>\n      <td>103816</td>\n      <td>103816</td>\n      <td>103816</td>\n      <td>103816</td>\n      <td>103816</td>\n      <td>103816</td>\n      <td>103816</td>\n      <td>103816</td>\n      <td>103816</td>\n      <td>103816</td>\n      <td>0</td>\n      <td>103816</td>\n      <td>0</td>\n      <td>0</td>\n    </tr>\n    <tr>\n      <th>requests</th>\n      <td>5025</td>\n      <td>5025</td>\n      <td>5025</td>\n      <td>5025</td>\n      <td>5025</td>\n      <td>5025</td>\n      <td>5025</td>\n      <td>5025</td>\n      <td>5025</td>\n      <td>5025</td>\n      <td>5025</td>\n      <td>5025</td>\n      <td>0</td>\n      <td>0</td>\n      <td>5025</td>\n      <td>0</td>\n    </tr>\n    <tr>\n      <th>seconds</th>\n      <td>196524</td>\n      <td>196524</td>\n      <td>196524</td>\n      <td>196524</td>\n      <td>196524</td>\n      <td>196524</td>\n      <td>196524</td>\n      <td>196524</td>\n      <td>196524</td>\n      <td>196524</td>\n      <td>196524</td>\n      <td>196524</td>\n      <td>0</td>\n      <td>0</td>\n      <td>0</td>\n      <td>196524</td>\n    </tr>\n  </tbody>\n</table>\n</div>",
       "datasetInfos": [],
       "metadata": {},
       "removedWidgets": [],
       "textData": null,
       "type": "htmlSandbox"
      }
     },
     "output_type": "display_data"
    }
   ],
   "source": [
    "df_GCP_prcs_t.groupby('unit').count()"
   ]
  },
  {
   "cell_type": "code",
   "execution_count": 0,
   "metadata": {
    "application/vnd.databricks.v1+cell": {
     "cellMetadata": {
      "byteLimit": 2048000,
      "rowLimit": 10000
     },
     "inputWidgets": {},
     "nuid": "3ef7456e-5f90-4d5d-99a3-2e97259de86c",
     "showTitle": false,
     "title": ""
    }
   },
   "outputs": [
    {
     "output_type": "display_data",
     "data": {
      "text/html": [
       "<style scoped>\n",
       "  .ansiout {\n",
       "    display: block;\n",
       "    unicode-bidi: embed;\n",
       "    white-space: pre-wrap;\n",
       "    word-wrap: break-word;\n",
       "    word-break: break-all;\n",
       "    font-family: \"Source Code Pro\", \"Menlo\", monospace;;\n",
       "    font-size: 13px;\n",
       "    color: #555;\n",
       "    margin-left: 4px;\n",
       "    line-height: 19px;\n",
       "  }\n",
       "</style>\n",
       "<div class=\"ansiout\"></div>"
      ]
     },
     "metadata": {
      "application/vnd.databricks.v1+output": {
       "addedWidgets": {},
       "arguments": {},
       "data": "<div class=\"ansiout\"></div>",
       "datasetInfos": [],
       "metadata": {},
       "removedWidgets": [],
       "type": "html"
      }
     },
     "output_type": "display_data"
    }
   ],
   "source": [
    "### API Calls Extraction"
   ]
  },
  {
   "cell_type": "code",
   "execution_count": 0,
   "metadata": {
    "application/vnd.databricks.v1+cell": {
     "cellMetadata": {
      "byteLimit": 2048000,
      "rowLimit": 10000
     },
     "inputWidgets": {},
     "nuid": "62a6d4bb-dd1f-4f70-b5f4-8c45915ff1d2",
     "showTitle": false,
     "title": ""
    }
   },
   "outputs": [
    {
     "output_type": "display_data",
     "data": {
      "text/html": [
       "<style scoped>\n",
       "  .ansiout {\n",
       "    display: block;\n",
       "    unicode-bidi: embed;\n",
       "    white-space: pre-wrap;\n",
       "    word-wrap: break-word;\n",
       "    word-break: break-all;\n",
       "    font-family: \"Source Code Pro\", \"Menlo\", monospace;;\n",
       "    font-size: 13px;\n",
       "    color: #555;\n",
       "    margin-left: 4px;\n",
       "    line-height: 19px;\n",
       "  }\n",
       "</style>\n",
       "<div class=\"ansiout\">\n",
       " SELECT * FROM `saas-analytics-io.processed.yt1_ingress_requests_agg` WHERE date like &#39;2023-04%&#39;  \n",
       "Out[6]: </div>"
      ]
     },
     "metadata": {
      "application/vnd.databricks.v1+output": {
       "addedWidgets": {},
       "arguments": {},
       "data": "<div class=\"ansiout\">\n SELECT * FROM `saas-analytics-io.processed.yt1_ingress_requests_agg` WHERE date like &#39;2023-04%&#39;  \nOut[6]: </div>",
       "datasetInfos": [],
       "metadata": {},
       "removedWidgets": [],
       "type": "html"
      }
     },
     "output_type": "display_data"
    },
    {
     "output_type": "display_data",
     "data": {
      "text/html": [
       "<div>\n",
       "<style scoped>\n",
       "    .dataframe tbody tr th:only-of-type {\n",
       "        vertical-align: middle;\n",
       "    }\n",
       "\n",
       "    .dataframe tbody tr th {\n",
       "        vertical-align: top;\n",
       "    }\n",
       "\n",
       "    .dataframe thead th {\n",
       "        text-align: right;\n",
       "    }\n",
       "</style>\n",
       "<table border=\"1\" class=\"dataframe\">\n",
       "  <thead>\n",
       "    <tr style=\"text-align: right;\">\n",
       "      <th></th>\n",
       "      <th>date</th>\n",
       "      <th>hour</th>\n",
       "      <th>host</th>\n",
       "      <th>uri_lv1</th>\n",
       "      <th>status</th>\n",
       "      <th>method</th>\n",
       "      <th>length_sum</th>\n",
       "      <th>latency_mean</th>\n",
       "      <th>call_count</th>\n",
       "    </tr>\n",
       "  </thead>\n",
       "  <tbody>\n",
       "    <tr>\n",
       "      <th>0</th>\n",
       "      <td>2023-04-23</td>\n",
       "      <td>00</td>\n",
       "      <td>falabella.ytem.io</td>\n",
       "      <td>None</td>\n",
       "      <td>302</td>\n",
       "      <td>GET</td>\n",
       "      <td>0.0</td>\n",
       "      <td>0.0</td>\n",
       "      <td>1</td>\n",
       "    </tr>\n",
       "    <tr>\n",
       "      <th>1</th>\n",
       "      <td>2023-04-23</td>\n",
       "      <td>00</td>\n",
       "      <td>pern.mojixretail.io</td>\n",
       "      <td>None</td>\n",
       "      <td>302</td>\n",
       "      <td>GET</td>\n",
       "      <td>0.0</td>\n",
       "      <td>0.0</td>\n",
       "      <td>4</td>\n",
       "    </tr>\n",
       "    <tr>\n",
       "      <th>2</th>\n",
       "      <td>2023-04-23</td>\n",
       "      <td>00</td>\n",
       "      <td>restoque.ytem.io</td>\n",
       "      <td>None</td>\n",
       "      <td>302</td>\n",
       "      <td>GET</td>\n",
       "      <td>0.0</td>\n",
       "      <td>0.0</td>\n",
       "      <td>1</td>\n",
       "    </tr>\n",
       "    <tr>\n",
       "      <th>3</th>\n",
       "      <td>2023-04-23</td>\n",
       "      <td>00</td>\n",
       "      <td>www.mojixretail.io</td>\n",
       "      <td>None</td>\n",
       "      <td>302</td>\n",
       "      <td>GET</td>\n",
       "      <td>0.0</td>\n",
       "      <td>0.0</td>\n",
       "      <td>240</td>\n",
       "    </tr>\n",
       "    <tr>\n",
       "      <th>4</th>\n",
       "      <td>2023-04-23</td>\n",
       "      <td>01</td>\n",
       "      <td>pern.mojixretail.io</td>\n",
       "      <td>None</td>\n",
       "      <td>302</td>\n",
       "      <td>GET</td>\n",
       "      <td>0.0</td>\n",
       "      <td>0.0</td>\n",
       "      <td>4</td>\n",
       "    </tr>\n",
       "  </tbody>\n",
       "</table>\n",
       "</div>"
      ]
     },
     "metadata": {
      "application/vnd.databricks.v1+output": {
       "addedWidgets": {},
       "arguments": {},
       "data": "<div>\n<style scoped>\n    .dataframe tbody tr th:only-of-type {\n        vertical-align: middle;\n    }\n\n    .dataframe tbody tr th {\n        vertical-align: top;\n    }\n\n    .dataframe thead th {\n        text-align: right;\n    }\n</style>\n<table border=\"1\" class=\"dataframe\">\n  <thead>\n    <tr style=\"text-align: right;\">\n      <th></th>\n      <th>date</th>\n      <th>hour</th>\n      <th>host</th>\n      <th>uri_lv1</th>\n      <th>status</th>\n      <th>method</th>\n      <th>length_sum</th>\n      <th>latency_mean</th>\n      <th>call_count</th>\n    </tr>\n  </thead>\n  <tbody>\n    <tr>\n      <th>0</th>\n      <td>2023-04-23</td>\n      <td>00</td>\n      <td>falabella.ytem.io</td>\n      <td>None</td>\n      <td>302</td>\n      <td>GET</td>\n      <td>0.0</td>\n      <td>0.0</td>\n      <td>1</td>\n    </tr>\n    <tr>\n      <th>1</th>\n      <td>2023-04-23</td>\n      <td>00</td>\n      <td>pern.mojixretail.io</td>\n      <td>None</td>\n      <td>302</td>\n      <td>GET</td>\n      <td>0.0</td>\n      <td>0.0</td>\n      <td>4</td>\n    </tr>\n    <tr>\n      <th>2</th>\n      <td>2023-04-23</td>\n      <td>00</td>\n      <td>restoque.ytem.io</td>\n      <td>None</td>\n      <td>302</td>\n      <td>GET</td>\n      <td>0.0</td>\n      <td>0.0</td>\n      <td>1</td>\n    </tr>\n    <tr>\n      <th>3</th>\n      <td>2023-04-23</td>\n      <td>00</td>\n      <td>www.mojixretail.io</td>\n      <td>None</td>\n      <td>302</td>\n      <td>GET</td>\n      <td>0.0</td>\n      <td>0.0</td>\n      <td>240</td>\n    </tr>\n    <tr>\n      <th>4</th>\n      <td>2023-04-23</td>\n      <td>01</td>\n      <td>pern.mojixretail.io</td>\n      <td>None</td>\n      <td>302</td>\n      <td>GET</td>\n      <td>0.0</td>\n      <td>0.0</td>\n      <td>4</td>\n    </tr>\n  </tbody>\n</table>\n</div>",
       "datasetInfos": [],
       "metadata": {},
       "removedWidgets": [],
       "textData": null,
       "type": "htmlSandbox"
      }
     },
     "output_type": "display_data"
    }
   ],
   "source": [
    "query = \"\"\"\n",
    " SELECT * FROM `saas-analytics-io.processed.yt1_ingress_requests_agg` WHERE date like '%s%%'  \"\"\"%(year_month)\n",
    "print(query)\n",
    "query_job = client.query(\n",
    "    query,\n",
    "    # Location must match that of the dataset(s) referenced in the query.\n",
    "    location=\"us\",\n",
    ")  # API request - starts the query\n",
    "\n",
    "df_req = query_job.to_dataframe()\n",
    "df_req.head()\n",
    " "
   ]
  },
  {
   "cell_type": "code",
   "execution_count": 0,
   "metadata": {
    "application/vnd.databricks.v1+cell": {
     "cellMetadata": {
      "byteLimit": 2048000,
      "rowLimit": 10000
     },
     "inputWidgets": {},
     "nuid": "46091e66-aec7-42aa-983a-3fe954afc74b",
     "showTitle": false,
     "title": ""
    }
   },
   "outputs": [
    {
     "output_type": "display_data",
     "data": {
      "text/html": [
       "<style scoped>\n",
       "  .ansiout {\n",
       "    display: block;\n",
       "    unicode-bidi: embed;\n",
       "    white-space: pre-wrap;\n",
       "    word-wrap: break-word;\n",
       "    word-break: break-all;\n",
       "    font-family: \"Source Code Pro\", \"Menlo\", monospace;;\n",
       "    font-size: 13px;\n",
       "    color: #555;\n",
       "    margin-left: 4px;\n",
       "    line-height: 19px;\n",
       "  }\n",
       "</style>\n",
       "<div class=\"ansiout\"></div>"
      ]
     },
     "metadata": {
      "application/vnd.databricks.v1+output": {
       "addedWidgets": {},
       "arguments": {},
       "data": "<div class=\"ansiout\"></div>",
       "datasetInfos": [],
       "metadata": {},
       "removedWidgets": [],
       "type": "html"
      }
     },
     "output_type": "display_data"
    }
   ],
   "source": [
    "df_req = df_req.rename(columns={'date':'date_GMT_0','hour':'hour_GMT_0'})"
   ]
  },
  {
   "cell_type": "code",
   "execution_count": 0,
   "metadata": {
    "application/vnd.databricks.v1+cell": {
     "cellMetadata": {
      "byteLimit": 2048000,
      "rowLimit": 10000
     },
     "inputWidgets": {},
     "nuid": "2f79cbd1-a13a-46ff-a71d-9de70c41a444",
     "showTitle": false,
     "title": ""
    }
   },
   "outputs": [
    {
     "output_type": "display_data",
     "data": {
      "text/html": [
       "<style scoped>\n",
       "  .ansiout {\n",
       "    display: block;\n",
       "    unicode-bidi: embed;\n",
       "    white-space: pre-wrap;\n",
       "    word-wrap: break-word;\n",
       "    word-break: break-all;\n",
       "    font-family: \"Source Code Pro\", \"Menlo\", monospace;;\n",
       "    font-size: 13px;\n",
       "    color: #555;\n",
       "    margin-left: 4px;\n",
       "    line-height: 19px;\n",
       "  }\n",
       "</style>\n",
       "<div class=\"ansiout\"></div>"
      ]
     },
     "metadata": {
      "application/vnd.databricks.v1+output": {
       "addedWidgets": {},
       "arguments": {},
       "data": "<div class=\"ansiout\"></div>",
       "datasetInfos": [],
       "metadata": {},
       "removedWidgets": [],
       "type": "html"
      }
     },
     "output_type": "display_data"
    }
   ],
   "source": [
    "df_req_2 = df_req.groupby(['date_GMT_0','hour_GMT_0']).agg(length_sum_h = (\"length_sum\",\"sum\"),\n",
    "                                                                             latency_mean_h = (\"latency_mean\",\"mean\"),\n",
    "                                           call_count_h = (\"call_count\",\"sum\"),).reset_index()"
   ]
  },
  {
   "cell_type": "code",
   "execution_count": 0,
   "metadata": {
    "application/vnd.databricks.v1+cell": {
     "cellMetadata": {
      "byteLimit": 2048000,
      "rowLimit": 10000
     },
     "inputWidgets": {},
     "nuid": "2f6ac270-8a47-4cdf-8548-b2ab9ea99bc0",
     "showTitle": false,
     "title": ""
    }
   },
   "outputs": [
    {
     "output_type": "display_data",
     "data": {
      "text/html": [
       "<style scoped>\n",
       "  .ansiout {\n",
       "    display: block;\n",
       "    unicode-bidi: embed;\n",
       "    white-space: pre-wrap;\n",
       "    word-wrap: break-word;\n",
       "    word-break: break-all;\n",
       "    font-family: \"Source Code Pro\", \"Menlo\", monospace;;\n",
       "    font-size: 13px;\n",
       "    color: #555;\n",
       "    margin-left: 4px;\n",
       "    line-height: 19px;\n",
       "  }\n",
       "</style>\n",
       "<div class=\"ansiout\"></div>"
      ]
     },
     "metadata": {
      "application/vnd.databricks.v1+output": {
       "addedWidgets": {},
       "arguments": {},
       "data": "<div class=\"ansiout\"></div>",
       "datasetInfos": [],
       "metadata": {},
       "removedWidgets": [],
       "type": "html"
      }
     },
     "output_type": "display_data"
    }
   ],
   "source": [
    "#### Join GCP Cost with API Calls"
   ]
  },
  {
   "cell_type": "code",
   "execution_count": 0,
   "metadata": {
    "application/vnd.databricks.v1+cell": {
     "cellMetadata": {
      "byteLimit": 2048000,
      "rowLimit": 10000
     },
     "inputWidgets": {},
     "nuid": "1da6c1b9-7903-44ee-a011-3094bd19af29",
     "showTitle": false,
     "title": ""
    }
   },
   "outputs": [
    {
     "output_type": "display_data",
     "data": {
      "text/html": [
       "<style scoped>\n",
       "  .ansiout {\n",
       "    display: block;\n",
       "    unicode-bidi: embed;\n",
       "    white-space: pre-wrap;\n",
       "    word-wrap: break-word;\n",
       "    word-break: break-all;\n",
       "    font-family: \"Source Code Pro\", \"Menlo\", monospace;;\n",
       "    font-size: 13px;\n",
       "    color: #555;\n",
       "    margin-left: 4px;\n",
       "    line-height: 19px;\n",
       "  }\n",
       "</style>\n",
       "<div class=\"ansiout\"></div>"
      ]
     },
     "metadata": {
      "application/vnd.databricks.v1+output": {
       "addedWidgets": {},
       "arguments": {},
       "data": "<div class=\"ansiout\"></div>",
       "datasetInfos": [],
       "metadata": {},
       "removedWidgets": [],
       "type": "html"
      }
     },
     "output_type": "display_data"
    }
   ],
   "source": [
    "df_join_1 = pd.merge(df_req_2, df_GCP_prcs_agg_t, how= 'left', on =['date_GMT_0','hour_GMT_0'])"
   ]
  },
  {
   "cell_type": "code",
   "execution_count": 0,
   "metadata": {
    "application/vnd.databricks.v1+cell": {
     "cellMetadata": {
      "byteLimit": 2048000,
      "rowLimit": 10000
     },
     "inputWidgets": {},
     "nuid": "a6852059-afcf-4017-82c4-69cec1a83a08",
     "showTitle": false,
     "title": ""
    }
   },
   "outputs": [
    {
     "output_type": "display_data",
     "data": {
      "text/html": [
       "<style scoped>\n",
       "  .ansiout {\n",
       "    display: block;\n",
       "    unicode-bidi: embed;\n",
       "    white-space: pre-wrap;\n",
       "    word-wrap: break-word;\n",
       "    word-break: break-all;\n",
       "    font-family: \"Source Code Pro\", \"Menlo\", monospace;;\n",
       "    font-size: 13px;\n",
       "    color: #555;\n",
       "    margin-left: 4px;\n",
       "    line-height: 19px;\n",
       "  }\n",
       "</style>\n",
       "<div class=\"ansiout\"></div>"
      ]
     },
     "metadata": {
      "application/vnd.databricks.v1+output": {
       "addedWidgets": {},
       "arguments": {},
       "data": "<div class=\"ansiout\"></div>",
       "datasetInfos": [],
       "metadata": {},
       "removedWidgets": [],
       "type": "html"
      }
     },
     "output_type": "display_data"
    }
   ],
   "source": [
    "df_results_prcs_tot_call = pd.merge(df_req, df_join_1, how= 'left', on =['date_GMT_0','hour_GMT_0'])"
   ]
  },
  {
   "cell_type": "code",
   "execution_count": 0,
   "metadata": {
    "application/vnd.databricks.v1+cell": {
     "cellMetadata": {
      "byteLimit": 2048000,
      "rowLimit": 10000
     },
     "inputWidgets": {},
     "nuid": "0adecb44-e79f-4126-87e8-e47f42ac409d",
     "showTitle": false,
     "title": ""
    }
   },
   "outputs": [
    {
     "output_type": "display_data",
     "data": {
      "text/html": [
       "<style scoped>\n",
       "  .ansiout {\n",
       "    display: block;\n",
       "    unicode-bidi: embed;\n",
       "    white-space: pre-wrap;\n",
       "    word-wrap: break-word;\n",
       "    word-break: break-all;\n",
       "    font-family: \"Source Code Pro\", \"Menlo\", monospace;;\n",
       "    font-size: 13px;\n",
       "    color: #555;\n",
       "    margin-left: 4px;\n",
       "    line-height: 19px;\n",
       "  }\n",
       "</style>\n",
       "<div class=\"ansiout\"></div>"
      ]
     },
     "metadata": {
      "application/vnd.databricks.v1+output": {
       "addedWidgets": {},
       "arguments": {},
       "data": "<div class=\"ansiout\"></div>",
       "datasetInfos": [],
       "metadata": {},
       "removedWidgets": [],
       "type": "html"
      }
     },
     "output_type": "display_data"
    }
   ],
   "source": [
    "df_results_prcs_tot_call.loc[:,'cost_assigned_length'] = (df_results_prcs_tot_call['length_sum']/df_results_prcs_tot_call['length_sum_h'])*df_results_prcs_tot_call['cost_h']\n",
    "df_results_prcs_tot_call.loc[:,'cost_assigned_call_count'] = (df_results_prcs_tot_call['call_count']/df_results_prcs_tot_call['call_count_h'])*df_results_prcs_tot_call['cost_h']\n",
    "df_results_prcs_tot_call.loc[:,'average_length'] = (df_results_prcs_tot_call['length_sum']/df_results_prcs_tot_call['length_sum_h'])"
   ]
  },
  {
   "cell_type": "code",
   "execution_count": 0,
   "metadata": {
    "application/vnd.databricks.v1+cell": {
     "cellMetadata": {
      "byteLimit": 2048000,
      "rowLimit": 10000
     },
     "inputWidgets": {},
     "nuid": "6f048969-a15f-408e-83d1-65f22f047e00",
     "showTitle": false,
     "title": ""
    }
   },
   "outputs": [
    {
     "output_type": "display_data",
     "data": {
      "text/html": [
       "<style scoped>\n",
       "  .ansiout {\n",
       "    display: block;\n",
       "    unicode-bidi: embed;\n",
       "    white-space: pre-wrap;\n",
       "    word-wrap: break-word;\n",
       "    word-break: break-all;\n",
       "    font-family: \"Source Code Pro\", \"Menlo\", monospace;;\n",
       "    font-size: 13px;\n",
       "    color: #555;\n",
       "    margin-left: 4px;\n",
       "    line-height: 19px;\n",
       "  }\n",
       "</style>\n",
       "<div class=\"ansiout\">Out[13]: </div>"
      ]
     },
     "metadata": {
      "application/vnd.databricks.v1+output": {
       "addedWidgets": {},
       "arguments": {},
       "data": "<div class=\"ansiout\">Out[13]: </div>",
       "datasetInfos": [],
       "metadata": {},
       "removedWidgets": [],
       "type": "html"
      }
     },
     "output_type": "display_data"
    },
    {
     "output_type": "display_data",
     "data": {
      "text/html": [
       "<div>\n",
       "<style scoped>\n",
       "    .dataframe tbody tr th:only-of-type {\n",
       "        vertical-align: middle;\n",
       "    }\n",
       "\n",
       "    .dataframe tbody tr th {\n",
       "        vertical-align: top;\n",
       "    }\n",
       "\n",
       "    .dataframe thead th {\n",
       "        text-align: right;\n",
       "    }\n",
       "</style>\n",
       "<table border=\"1\" class=\"dataframe\">\n",
       "  <thead>\n",
       "    <tr style=\"text-align: right;\">\n",
       "      <th></th>\n",
       "      <th>date_GMT_0</th>\n",
       "      <th>hour_GMT_0</th>\n",
       "      <th>host</th>\n",
       "      <th>uri_lv1</th>\n",
       "      <th>status</th>\n",
       "      <th>method</th>\n",
       "      <th>length_sum</th>\n",
       "      <th>latency_mean</th>\n",
       "      <th>call_count</th>\n",
       "      <th>length_sum_h</th>\n",
       "      <th>latency_mean_h</th>\n",
       "      <th>call_count_h</th>\n",
       "      <th>cost_h</th>\n",
       "      <th>bytes_h</th>\n",
       "      <th>requests_h</th>\n",
       "      <th>seconds_h</th>\n",
       "      <th>bytes_seconds_h</th>\n",
       "      <th>cost_assigned_length</th>\n",
       "      <th>cost_assigned_call_count</th>\n",
       "      <th>average_length</th>\n",
       "    </tr>\n",
       "  </thead>\n",
       "  <tbody>\n",
       "    <tr>\n",
       "      <th>0</th>\n",
       "      <td>2023-04-23</td>\n",
       "      <td>00</td>\n",
       "      <td>falabella.ytem.io</td>\n",
       "      <td>None</td>\n",
       "      <td>302</td>\n",
       "      <td>GET</td>\n",
       "      <td>0.0</td>\n",
       "      <td>0.0</td>\n",
       "      <td>1</td>\n",
       "      <td>19358680.0</td>\n",
       "      <td>5.151225</td>\n",
       "      <td>35438</td>\n",
       "      <td>37.136341</td>\n",
       "      <td>1.608876e+12</td>\n",
       "      <td>410.0</td>\n",
       "      <td>9.745900e+06</td>\n",
       "      <td>3.807013e+17</td>\n",
       "      <td>0.0</td>\n",
       "      <td>0.001048</td>\n",
       "      <td>0.0</td>\n",
       "    </tr>\n",
       "    <tr>\n",
       "      <th>1</th>\n",
       "      <td>2023-04-23</td>\n",
       "      <td>00</td>\n",
       "      <td>pern.mojixretail.io</td>\n",
       "      <td>None</td>\n",
       "      <td>302</td>\n",
       "      <td>GET</td>\n",
       "      <td>0.0</td>\n",
       "      <td>0.0</td>\n",
       "      <td>4</td>\n",
       "      <td>19358680.0</td>\n",
       "      <td>5.151225</td>\n",
       "      <td>35438</td>\n",
       "      <td>37.136341</td>\n",
       "      <td>1.608876e+12</td>\n",
       "      <td>410.0</td>\n",
       "      <td>9.745900e+06</td>\n",
       "      <td>3.807013e+17</td>\n",
       "      <td>0.0</td>\n",
       "      <td>0.004192</td>\n",
       "      <td>0.0</td>\n",
       "    </tr>\n",
       "    <tr>\n",
       "      <th>2</th>\n",
       "      <td>2023-04-23</td>\n",
       "      <td>00</td>\n",
       "      <td>restoque.ytem.io</td>\n",
       "      <td>None</td>\n",
       "      <td>302</td>\n",
       "      <td>GET</td>\n",
       "      <td>0.0</td>\n",
       "      <td>0.0</td>\n",
       "      <td>1</td>\n",
       "      <td>19358680.0</td>\n",
       "      <td>5.151225</td>\n",
       "      <td>35438</td>\n",
       "      <td>37.136341</td>\n",
       "      <td>1.608876e+12</td>\n",
       "      <td>410.0</td>\n",
       "      <td>9.745900e+06</td>\n",
       "      <td>3.807013e+17</td>\n",
       "      <td>0.0</td>\n",
       "      <td>0.001048</td>\n",
       "      <td>0.0</td>\n",
       "    </tr>\n",
       "    <tr>\n",
       "      <th>3</th>\n",
       "      <td>2023-04-23</td>\n",
       "      <td>00</td>\n",
       "      <td>www.mojixretail.io</td>\n",
       "      <td>None</td>\n",
       "      <td>302</td>\n",
       "      <td>GET</td>\n",
       "      <td>0.0</td>\n",
       "      <td>0.0</td>\n",
       "      <td>240</td>\n",
       "      <td>19358680.0</td>\n",
       "      <td>5.151225</td>\n",
       "      <td>35438</td>\n",
       "      <td>37.136341</td>\n",
       "      <td>1.608876e+12</td>\n",
       "      <td>410.0</td>\n",
       "      <td>9.745900e+06</td>\n",
       "      <td>3.807013e+17</td>\n",
       "      <td>0.0</td>\n",
       "      <td>0.251502</td>\n",
       "      <td>0.0</td>\n",
       "    </tr>\n",
       "    <tr>\n",
       "      <th>4</th>\n",
       "      <td>2023-04-23</td>\n",
       "      <td>01</td>\n",
       "      <td>pern.mojixretail.io</td>\n",
       "      <td>None</td>\n",
       "      <td>302</td>\n",
       "      <td>GET</td>\n",
       "      <td>0.0</td>\n",
       "      <td>0.0</td>\n",
       "      <td>4</td>\n",
       "      <td>15542731.0</td>\n",
       "      <td>8.672229</td>\n",
       "      <td>20462</td>\n",
       "      <td>36.994866</td>\n",
       "      <td>1.184082e+12</td>\n",
       "      <td>408.0</td>\n",
       "      <td>9.738955e+06</td>\n",
       "      <td>3.813707e+17</td>\n",
       "      <td>0.0</td>\n",
       "      <td>0.007232</td>\n",
       "      <td>0.0</td>\n",
       "    </tr>\n",
       "  </tbody>\n",
       "</table>\n",
       "</div>"
      ]
     },
     "metadata": {
      "application/vnd.databricks.v1+output": {
       "addedWidgets": {},
       "arguments": {},
       "data": "<div>\n<style scoped>\n    .dataframe tbody tr th:only-of-type {\n        vertical-align: middle;\n    }\n\n    .dataframe tbody tr th {\n        vertical-align: top;\n    }\n\n    .dataframe thead th {\n        text-align: right;\n    }\n</style>\n<table border=\"1\" class=\"dataframe\">\n  <thead>\n    <tr style=\"text-align: right;\">\n      <th></th>\n      <th>date_GMT_0</th>\n      <th>hour_GMT_0</th>\n      <th>host</th>\n      <th>uri_lv1</th>\n      <th>status</th>\n      <th>method</th>\n      <th>length_sum</th>\n      <th>latency_mean</th>\n      <th>call_count</th>\n      <th>length_sum_h</th>\n      <th>latency_mean_h</th>\n      <th>call_count_h</th>\n      <th>cost_h</th>\n      <th>bytes_h</th>\n      <th>requests_h</th>\n      <th>seconds_h</th>\n      <th>bytes_seconds_h</th>\n      <th>cost_assigned_length</th>\n      <th>cost_assigned_call_count</th>\n      <th>average_length</th>\n    </tr>\n  </thead>\n  <tbody>\n    <tr>\n      <th>0</th>\n      <td>2023-04-23</td>\n      <td>00</td>\n      <td>falabella.ytem.io</td>\n      <td>None</td>\n      <td>302</td>\n      <td>GET</td>\n      <td>0.0</td>\n      <td>0.0</td>\n      <td>1</td>\n      <td>19358680.0</td>\n      <td>5.151225</td>\n      <td>35438</td>\n      <td>37.136341</td>\n      <td>1.608876e+12</td>\n      <td>410.0</td>\n      <td>9.745900e+06</td>\n      <td>3.807013e+17</td>\n      <td>0.0</td>\n      <td>0.001048</td>\n      <td>0.0</td>\n    </tr>\n    <tr>\n      <th>1</th>\n      <td>2023-04-23</td>\n      <td>00</td>\n      <td>pern.mojixretail.io</td>\n      <td>None</td>\n      <td>302</td>\n      <td>GET</td>\n      <td>0.0</td>\n      <td>0.0</td>\n      <td>4</td>\n      <td>19358680.0</td>\n      <td>5.151225</td>\n      <td>35438</td>\n      <td>37.136341</td>\n      <td>1.608876e+12</td>\n      <td>410.0</td>\n      <td>9.745900e+06</td>\n      <td>3.807013e+17</td>\n      <td>0.0</td>\n      <td>0.004192</td>\n      <td>0.0</td>\n    </tr>\n    <tr>\n      <th>2</th>\n      <td>2023-04-23</td>\n      <td>00</td>\n      <td>restoque.ytem.io</td>\n      <td>None</td>\n      <td>302</td>\n      <td>GET</td>\n      <td>0.0</td>\n      <td>0.0</td>\n      <td>1</td>\n      <td>19358680.0</td>\n      <td>5.151225</td>\n      <td>35438</td>\n      <td>37.136341</td>\n      <td>1.608876e+12</td>\n      <td>410.0</td>\n      <td>9.745900e+06</td>\n      <td>3.807013e+17</td>\n      <td>0.0</td>\n      <td>0.001048</td>\n      <td>0.0</td>\n    </tr>\n    <tr>\n      <th>3</th>\n      <td>2023-04-23</td>\n      <td>00</td>\n      <td>www.mojixretail.io</td>\n      <td>None</td>\n      <td>302</td>\n      <td>GET</td>\n      <td>0.0</td>\n      <td>0.0</td>\n      <td>240</td>\n      <td>19358680.0</td>\n      <td>5.151225</td>\n      <td>35438</td>\n      <td>37.136341</td>\n      <td>1.608876e+12</td>\n      <td>410.0</td>\n      <td>9.745900e+06</td>\n      <td>3.807013e+17</td>\n      <td>0.0</td>\n      <td>0.251502</td>\n      <td>0.0</td>\n    </tr>\n    <tr>\n      <th>4</th>\n      <td>2023-04-23</td>\n      <td>01</td>\n      <td>pern.mojixretail.io</td>\n      <td>None</td>\n      <td>302</td>\n      <td>GET</td>\n      <td>0.0</td>\n      <td>0.0</td>\n      <td>4</td>\n      <td>15542731.0</td>\n      <td>8.672229</td>\n      <td>20462</td>\n      <td>36.994866</td>\n      <td>1.184082e+12</td>\n      <td>408.0</td>\n      <td>9.738955e+06</td>\n      <td>3.813707e+17</td>\n      <td>0.0</td>\n      <td>0.007232</td>\n      <td>0.0</td>\n    </tr>\n  </tbody>\n</table>\n</div>",
       "datasetInfos": [],
       "metadata": {},
       "removedWidgets": [],
       "textData": null,
       "type": "htmlSandbox"
      }
     },
     "output_type": "display_data"
    }
   ],
   "source": [
    "df_results_prcs_tot_call.head()"
   ]
  },
  {
   "cell_type": "code",
   "execution_count": 0,
   "metadata": {
    "application/vnd.databricks.v1+cell": {
     "cellMetadata": {
      "byteLimit": 2048000,
      "rowLimit": 10000
     },
     "inputWidgets": {},
     "nuid": "464aade7-f312-407b-8716-f40dfcf49d89",
     "showTitle": false,
     "title": ""
    }
   },
   "outputs": [
    {
     "output_type": "display_data",
     "data": {
      "text/html": [
       "<style scoped>\n",
       "  .ansiout {\n",
       "    display: block;\n",
       "    unicode-bidi: embed;\n",
       "    white-space: pre-wrap;\n",
       "    word-wrap: break-word;\n",
       "    word-break: break-all;\n",
       "    font-family: \"Source Code Pro\", \"Menlo\", monospace;;\n",
       "    font-size: 13px;\n",
       "    color: #555;\n",
       "    margin-left: 4px;\n",
       "    line-height: 19px;\n",
       "  }\n",
       "</style>\n",
       "<div class=\"ansiout\"></div>"
      ]
     },
     "metadata": {
      "application/vnd.databricks.v1+output": {
       "addedWidgets": {},
       "arguments": {},
       "data": "<div class=\"ansiout\"></div>",
       "datasetInfos": [],
       "metadata": {},
       "removedWidgets": [],
       "type": "html"
      }
     },
     "output_type": "display_data"
    }
   ],
   "source": [
    "table = \"saas-analytics-io.processed.process_cost_assign\"\n",
    "df_results_prcs_tot_call.to_gbq(table,  if_exists='append')"
   ]
  },
  {
   "cell_type": "code",
   "execution_count": 0,
   "metadata": {
    "application/vnd.databricks.v1+cell": {
     "cellMetadata": {},
     "inputWidgets": {},
     "nuid": "022a2b9b-7ad5-467e-aa31-8852cb367f59",
     "showTitle": false,
     "title": ""
    }
   },
   "outputs": [],
   "source": [
    "#-------------------------------------------------------------------------------------------------------------------------"
   ]
  },
  {
   "cell_type": "markdown",
   "metadata": {
    "application/vnd.databricks.v1+cell": {
     "cellMetadata": {},
     "inputWidgets": {},
     "nuid": "0fcd62cc-2b78-4993-9762-8a1f37e0516f",
     "showTitle": false,
     "title": ""
    }
   },
   "source": [
    "## Cost allocation per System Events (kafka)"
   ]
  },
  {
   "cell_type": "code",
   "execution_count": 0,
   "metadata": {
    "application/vnd.databricks.v1+cell": {
     "cellMetadata": {
      "byteLimit": 2048000,
      "rowLimit": 10000
     },
     "inputWidgets": {},
     "nuid": "c435aa09-956d-4e31-85dc-d824ae31f34d",
     "showTitle": false,
     "title": ""
    }
   },
   "outputs": [
    {
     "output_type": "display_data",
     "data": {
      "text/html": [
       "<style scoped>\n",
       "  .ansiout {\n",
       "    display: block;\n",
       "    unicode-bidi: embed;\n",
       "    white-space: pre-wrap;\n",
       "    word-wrap: break-word;\n",
       "    word-break: break-all;\n",
       "    font-family: \"Source Code Pro\", \"Menlo\", monospace;;\n",
       "    font-size: 13px;\n",
       "    color: #555;\n",
       "    margin-left: 4px;\n",
       "    line-height: 19px;\n",
       "  }\n",
       "</style>\n",
       "<div class=\"ansiout\"></div>"
      ]
     },
     "metadata": {
      "application/vnd.databricks.v1+output": {
       "addedWidgets": {},
       "arguments": {},
       "data": "<div class=\"ansiout\"></div>",
       "datasetInfos": [],
       "metadata": {},
       "removedWidgets": [],
       "type": "html"
      }
     },
     "output_type": "display_data"
    }
   ],
   "source": [
    "query = \"\"\"\n",
    "    SELECT service,sku,usage_start_time, cost, usage, credits\n",
    "    FROM `saas-analytics-io.finance.gcp_billing_export_v1_01FE23_B1D2D8_10D34D` \n",
    "    WHERE JSON_VALUE(project.number) = '260718309650' \n",
    "    and usage_start_time between '2023-04-01 00:00:00' and '2023-05-01 23:59:59' \"\"\"\n",
    "\n",
    "query_job = client.query(\n",
    "    query,\n",
    "# Location must match that of the dataset(s) referenced in the query.\n",
    "    location = \"US\",\n",
    ")  # API request - starts the query\n",
    "\n",
    "df_GCP_test = query_job.to_dataframe()"
   ]
  },
  {
   "cell_type": "code",
   "execution_count": 0,
   "metadata": {
    "application/vnd.databricks.v1+cell": {
     "cellMetadata": {
      "byteLimit": 2048000,
      "rowLimit": 10000
     },
     "inputWidgets": {},
     "nuid": "a8e3d211-d392-4a0a-a392-ad1543c347d2",
     "showTitle": false,
     "title": ""
    }
   },
   "outputs": [
    {
     "output_type": "display_data",
     "data": {
      "text/html": [
       "<style scoped>\n",
       "  .ansiout {\n",
       "    display: block;\n",
       "    unicode-bidi: embed;\n",
       "    white-space: pre-wrap;\n",
       "    word-wrap: break-word;\n",
       "    word-break: break-all;\n",
       "    font-family: \"Source Code Pro\", \"Menlo\", monospace;;\n",
       "    font-size: 13px;\n",
       "    color: #555;\n",
       "    margin-left: 4px;\n",
       "    line-height: 19px;\n",
       "  }\n",
       "</style>\n",
       "<div class=\"ansiout\">&lt;class &#39;pandas.core.frame.DataFrame&#39;&gt;\n",
       "RangeIndex: 454100 entries, 0 to 454099\n",
       "Data columns (total 6 columns):\n",
       " #   Column            Non-Null Count   Dtype              \n",
       "---  ------            --------------   -----              \n",
       " 0   service           454100 non-null  object             \n",
       " 1   sku               454100 non-null  object             \n",
       " 2   usage_start_time  454100 non-null  datetime64[ns, UTC]\n",
       " 3   cost              454100 non-null  float64            \n",
       " 4   usage             454100 non-null  object             \n",
       " 5   credits           454100 non-null  object             \n",
       "dtypes: datetime64[ns, UTC](1), float64(1), object(4)\n",
       "memory usage: 20.8+ MB\n",
       "</div>"
      ]
     },
     "metadata": {
      "application/vnd.databricks.v1+output": {
       "addedWidgets": {},
       "arguments": {},
       "data": "<div class=\"ansiout\">&lt;class &#39;pandas.core.frame.DataFrame&#39;&gt;\nRangeIndex: 454100 entries, 0 to 454099\nData columns (total 6 columns):\n #   Column            Non-Null Count   Dtype              \n---  ------            --------------   -----              \n 0   service           454100 non-null  object             \n 1   sku               454100 non-null  object             \n 2   usage_start_time  454100 non-null  datetime64[ns, UTC]\n 3   cost              454100 non-null  float64            \n 4   usage             454100 non-null  object             \n 5   credits           454100 non-null  object             \ndtypes: datetime64[ns, UTC](1), float64(1), object(4)\nmemory usage: 20.8+ MB\n</div>",
       "datasetInfos": [],
       "metadata": {},
       "removedWidgets": [],
       "type": "html"
      }
     },
     "output_type": "display_data"
    }
   ],
   "source": [
    "df_GCP_test.info()"
   ]
  },
  {
   "cell_type": "code",
   "execution_count": 0,
   "metadata": {
    "application/vnd.databricks.v1+cell": {
     "cellMetadata": {
      "byteLimit": 2048000,
      "rowLimit": 10000
     },
     "inputWidgets": {},
     "nuid": "6aa06a22-4fac-4bb4-8619-856e197b4514",
     "showTitle": false,
     "title": ""
    }
   },
   "outputs": [
    {
     "output_type": "display_data",
     "data": {
      "text/html": [
       "<style scoped>\n",
       "  .ansiout {\n",
       "    display: block;\n",
       "    unicode-bidi: embed;\n",
       "    white-space: pre-wrap;\n",
       "    word-wrap: break-word;\n",
       "    word-break: break-all;\n",
       "    font-family: \"Source Code Pro\", \"Menlo\", monospace;;\n",
       "    font-size: 13px;\n",
       "    color: #555;\n",
       "    margin-left: 4px;\n",
       "    line-height: 19px;\n",
       "  }\n",
       "</style>\n",
       "<div class=\"ansiout\">&lt;command-1485209541813895&gt;:1: FutureWarning: The default value of regex will change from True to False in a future version. In addition, single character regular expressions will*not* be treated as literal strings when regex=True.\n",
       "  df_GCP_test[&#39;credits&#39;] = df_GCP_test[&#39;credits&#39;].astype(str).str.replace(&#34;[&#34;,&#34;&#34;)\n",
       "&lt;command-1485209541813895&gt;:2: FutureWarning: The default value of regex will change from True to False in a future version. In addition, single character regular expressions will*not* be treated as literal strings when regex=True.\n",
       "  df_GCP_test[&#39;credits&#39;] = df_GCP_test[&#39;credits&#39;].astype(str).str.replace(&#34;]&#34;,&#34;&#34;)\n",
       "2\n",
       "</div>"
      ]
     },
     "metadata": {
      "application/vnd.databricks.v1+output": {
       "addedWidgets": {},
       "arguments": {},
       "data": "<div class=\"ansiout\">&lt;command-1485209541813895&gt;:1: FutureWarning: The default value of regex will change from True to False in a future version. In addition, single character regular expressions will*not* be treated as literal strings when regex=True.\n  df_GCP_test[&#39;credits&#39;] = df_GCP_test[&#39;credits&#39;].astype(str).str.replace(&#34;[&#34;,&#34;&#34;)\n&lt;command-1485209541813895&gt;:2: FutureWarning: The default value of regex will change from True to False in a future version. In addition, single character regular expressions will*not* be treated as literal strings when regex=True.\n  df_GCP_test[&#39;credits&#39;] = df_GCP_test[&#39;credits&#39;].astype(str).str.replace(&#34;]&#34;,&#34;&#34;)\n2\n</div>",
       "datasetInfos": [],
       "metadata": {},
       "removedWidgets": [],
       "type": "html"
      }
     },
     "output_type": "display_data"
    }
   ],
   "source": [
    "df_GCP_test['credits'] = df_GCP_test['credits'].astype(str).str.replace(\"[\",\"\")\n",
    "df_GCP_test['credits'] = df_GCP_test['credits'].astype(str).str.replace(\"]\",\"\")\n",
    "df_GCP_test['credits'] = df_GCP_test['credits'].astype(str).str.replace(\"\",\"\")\n",
    "try:\n",
    "    df_GCP_test.loc[df_GCP_test['credits'].str.contains('1|2|3|4|5|6|7|8|9|0'),'credits_1'] = df_GCP_test['credits'].str.split('\\n', expand=True)[0]\n",
    "    df_GCP_test.loc[df_GCP_test['credits_1'].isnull(),'credits_1']=''\n",
    "    json_cols = ['service', 'sku','usage','credits_1']\n",
    "    try:\n",
    "        df_GCP_test.loc[df_GCP_test['credits'].str.contains('1|2|3|4|5|6|7|8|9|0'),'credits_2'] = df_GCP_test['credits'].str.split('\\n', expand=True)[1]\n",
    "        df_GCP_test.loc[df_GCP_test['credits_2'].isnull(),'credits_2']=''\n",
    "        json_cols = ['service', 'sku','usage','credits_1','credits_2']\n",
    "    except:\n",
    "        print ('2')\n",
    "        json_cols = ['service', 'sku','usage','credits_1']\n",
    "except:\n",
    "    df_GCP_test.loc[df_GCP_test['credits'].str.contains('1|2|3|4|5|6|7|8|9|0'),'credits_1'] = df_GCP_test['credits'][0]\n",
    "    df_GCP_test.loc[df_GCP_test['credits_1'].isnull(),'credits_1']=''\n",
    "    json_cols = ['service', 'sku','usage','project','credits_1']\n",
    "\n",
    "\n",
    "sku = df_GCP_test['sku'].values.tolist()\n",
    "service = df_GCP_test['service'].values.tolist()\n",
    "\n",
    "for column in json_cols:\n",
    "    #c_load = test[column].apply(json.loads)\n",
    "    \n",
    "    if(column == 'project'):  \n",
    "        pr = pd.json_normalize(df_GCP_test['project'])\n",
    "        pr.rename(columns = {'labels':'labels_%s'%(column)},inplace =True)\n",
    "        df_GCP_test = df_GCP_test.join(pr)\n",
    "        df_GCP_test.rename(columns = {'id':'id_%s'%(column)},inplace =True)\n",
    "        df_GCP_test.rename(columns = {'labels':'description_%s'%(column)},inplace =True)\n",
    "        df_GCP_test = df_GCP_test.drop(column , axis=1)\n",
    "    if((column=='credits_1')|(column== 'credits_2')):\n",
    "        #df_GCP_test['credits'] = df_GCP_test['credits'].astype(str).str.replace(\"[\",\"\")\n",
    "        #df_GCP_test['credits'] = df_GCP_test['credits'].astype(str).str.replace(\"]\",\"\")\n",
    "        #df_GCP_test['credits'] = df_GCP_test['credits'].astype(str).str.replace(\"\",\"\")\n",
    "        df_GCP_test.loc[~(df_GCP_test[column].str.contains('1|2|3|4|5|6|7|8|9|0')),column] = \"{'name':'','amount':0,'full_name':'','id':'', 'type':''}\"\n",
    "        t_er = list(df_GCP_test[column])\n",
    "        t_er2 = json.dumps(t_er)\n",
    "        t_er2 = t_er2.replace('\"',\"\").replace(\"'\",'\"')\n",
    "        if column == 'credits_1':\n",
    "            df_credits = pd.DataFrame.from_records(list(eval(t_er2)), columns=['name', 'amount','full_name','id','type'])\n",
    "            df_credits.rename(columns ={'amount':'amount_credits_1','id':'id_credits_1','name':'name_credits_1'\n",
    "                                   ,'full_name':'full_name_credits_1', 'type':'type_credits_1'},inplace = True)\n",
    "            df_GCP_test = df_GCP_test.join(df_credits)\n",
    "            df_GCP_test.loc[df_GCP_test['type_credits_1']=='PROMOTION','promotion_credits_1'] = df_GCP_test['amount_credits_1']\n",
    "            df_GCP_test.loc[df_GCP_test['type_credits_1']=='PROMOTION','amount_credits_1'] = 0\n",
    "        if column == 'credits_2':\n",
    "            df_credits_2 = pd.DataFrame.from_records(list(eval(t_er2)), columns=['name', 'amount','full_name','id','type'])\n",
    "            df_credits_2.rename(columns ={'amount':'amount_credits_2','id':'id_credits_2','name':'name_credits_2'\n",
    "                                   ,'full_name':'full_name_credits_2', 'type':'type_credits_2'},inplace = True)\n",
    "            df_GCP_test = df_GCP_test.join(df_credits_2)\n",
    "            df_GCP_test.loc[df_GCP_test['type_credits_2']=='PROMOTION','promotion_credits_2'] = df_GCP_test['amount_credits_2']\n",
    "            df_GCP_test.loc[df_GCP_test['type_credits_2']=='PROMOTION','amount_credits_2'] = 0\n",
    "        \n",
    "        df_GCP_test = df_GCP_test.drop(column , axis=1)\n",
    "        \n",
    "\n",
    "    if((column != 'project')&(column != 'credits_1')&(column != 'credits_2')):\n",
    "        c_list = list(df_GCP_test[column])\n",
    "        c_dat = json.dumps(c_list)    \n",
    "        df_GCP_test = df_GCP_test.join(pd.read_json(c_dat))\n",
    "        df_GCP_test.rename(columns = {'id':'id_%s'%(column)},inplace =True)\n",
    "        df_GCP_test.rename(columns = {'description':'description_%s'%(column)},inplace =True)\n",
    "        df_GCP_test = df_GCP_test.drop(column , axis=1)\n",
    "        \n",
    "try:        \n",
    "    df_GCP_test.loc[:,'total_after_discounts']=  df_GCP_test['cost'] + df_GCP_test['amount_credits_1']+ df_GCP_test['amount_credits_2']\n",
    "    df_GCP_test.loc[:,'amount_credits']= df_GCP_test['amount_credits_1']+ df_GCP_test['amount_credits_2']\n",
    "    df_GCP_test.loc[(~(df_GCP_test['description_sku'].str.contains('SSD'))),'processing_discount']= df_GCP_test['amount_credits_1']+df_GCP_test['amount_credits_2']\n",
    "    df_GCP_test.loc[(df_GCP_test['description_sku'].str.contains('SSD')),'storage_discount']= df_GCP_test['amount_credits_1']+df_GCP_test['amount_credits_2']\n",
    "    df_GCP_test.loc[(~(df_GCP_test['description_sku'].str.contains('SSD'))),'total_processing_after_discount']=  df_GCP_test['cost']+df_GCP_test['amount_credits_1']+ df_GCP_test['amount_credits_2']\n",
    "    df_GCP_test.loc[((df_GCP_test['description_sku'].str.contains('SSD'))),'total_storage_after_discount']=  df_GCP_test['cost']+df_GCP_test['amount_credits_1']+ df_GCP_test['amount_credits_2']\n",
    "    df_GCP_test.loc[:,'promotion_credits'] = df_GCP_test['promotion_credits_1'].fillna(0) + df_GCP_test['promotion_credits_2'].fillna(0)\n",
    "except:\n",
    "    df_GCP_test.loc[:,'total_after_discounts']=  df_GCP_test['cost'] + df_GCP_test['amount_credits_1']\n",
    "    df_GCP_test.loc[:,'amount_credits']= df_GCP_test['amount_credits_1']\n",
    "    df_GCP_test.loc[(~(df_GCP_test['description_sku'].str.contains('SSD'))),'processing_discount']= df_GCP_test['amount_credits_1']\n",
    "    df_GCP_test.loc[(df_GCP_test['description_sku'].str.contains('SSD')),'storage_discount']= df_GCP_test['amount_credits_1']\n",
    "    df_GCP_test.loc[(~(df_GCP_test['description_sku'].str.contains('SSD'))),'total_processing_after_discount']=  df_GCP_test['cost']+df_GCP_test['amount_credits_1']\n",
    "    df_GCP_test.loc[((df_GCP_test['description_sku'].str.contains('SSD'))),'total_storage_after_discount']=  df_GCP_test['cost']+df_GCP_test['amount_credits_1']\n",
    "    df_GCP_test.loc[:,'promotion_credits'] = df_GCP_test['promotion_credits_1'].fillna(0)\n",
    "  \n",
    "df_GCP_test.loc[(~(df_GCP_test['description_sku'].str.contains('SSD'))),'processing_cost'] = df_GCP_test['cost']\n",
    "df_GCP_test.loc[(df_GCP_test['description_sku'].str.contains('SSD')),'storage_cost']=  df_GCP_test['cost']\n"
   ]
  },
  {
   "cell_type": "code",
   "execution_count": 0,
   "metadata": {
    "application/vnd.databricks.v1+cell": {
     "cellMetadata": {
      "byteLimit": 2048000,
      "rowLimit": 10000
     },
     "inputWidgets": {},
     "nuid": "67f3baf0-e582-4091-8177-6cc26ce9a511",
     "showTitle": false,
     "title": ""
    }
   },
   "outputs": [
    {
     "output_type": "display_data",
     "data": {
      "text/html": [
       "<style scoped>\n",
       "  .ansiout {\n",
       "    display: block;\n",
       "    unicode-bidi: embed;\n",
       "    white-space: pre-wrap;\n",
       "    word-wrap: break-word;\n",
       "    word-break: break-all;\n",
       "    font-family: \"Source Code Pro\", \"Menlo\", monospace;;\n",
       "    font-size: 13px;\n",
       "    color: #555;\n",
       "    margin-left: 4px;\n",
       "    line-height: 19px;\n",
       "  }\n",
       "</style>\n",
       "<div class=\"ansiout\"></div>"
      ]
     },
     "metadata": {
      "application/vnd.databricks.v1+output": {
       "addedWidgets": {},
       "arguments": {},
       "data": "<div class=\"ansiout\"></div>",
       "datasetInfos": [],
       "metadata": {},
       "removedWidgets": [],
       "type": "html"
      }
     },
     "output_type": "display_data"
    }
   ],
   "source": [
    "df_GCP_test.loc[:,'usage_start_time_LosAngeles']=df_GCP_test['usage_start_time'].dt.tz_convert('America/Los_Angeles') "
   ]
  },
  {
   "cell_type": "code",
   "execution_count": 0,
   "metadata": {
    "application/vnd.databricks.v1+cell": {
     "cellMetadata": {
      "byteLimit": 2048000,
      "rowLimit": 10000
     },
     "inputWidgets": {},
     "nuid": "c0b37463-8509-48b2-bf81-4b04004a5069",
     "showTitle": false,
     "title": ""
    }
   },
   "outputs": [
    {
     "output_type": "display_data",
     "data": {
      "text/html": [
       "<style scoped>\n",
       "  .ansiout {\n",
       "    display: block;\n",
       "    unicode-bidi: embed;\n",
       "    white-space: pre-wrap;\n",
       "    word-wrap: break-word;\n",
       "    word-break: break-all;\n",
       "    font-family: \"Source Code Pro\", \"Menlo\", monospace;;\n",
       "    font-size: 13px;\n",
       "    color: #555;\n",
       "    margin-left: 4px;\n",
       "    line-height: 19px;\n",
       "  }\n",
       "</style>\n",
       "<div class=\"ansiout\">Out[19]: 23779.39439200001</div>"
      ]
     },
     "metadata": {
      "application/vnd.databricks.v1+output": {
       "addedWidgets": {},
       "arguments": {},
       "data": "<div class=\"ansiout\">Out[19]: 23779.39439200001</div>",
       "datasetInfos": [],
       "metadata": {},
       "removedWidgets": [],
       "type": "html"
      }
     },
     "output_type": "display_data"
    }
   ],
   "source": [
    "df_GCP_test[df_GCP_test['usage_start_time_LosAngeles'].astype(str).str.startswith(year_month)]['total_processing_after_discount'].sum()"
   ]
  },
  {
   "cell_type": "code",
   "execution_count": 0,
   "metadata": {
    "application/vnd.databricks.v1+cell": {
     "cellMetadata": {
      "byteLimit": 2048000,
      "rowLimit": 10000
     },
     "inputWidgets": {},
     "nuid": "cc314666-5f0c-4204-a144-aec56523cd56",
     "showTitle": false,
     "title": ""
    }
   },
   "outputs": [
    {
     "output_type": "display_data",
     "data": {
      "text/html": [
       "<style scoped>\n",
       "  .ansiout {\n",
       "    display: block;\n",
       "    unicode-bidi: embed;\n",
       "    white-space: pre-wrap;\n",
       "    word-wrap: break-word;\n",
       "    word-break: break-all;\n",
       "    font-family: \"Source Code Pro\", \"Menlo\", monospace;;\n",
       "    font-size: 13px;\n",
       "    color: #555;\n",
       "    margin-left: 4px;\n",
       "    line-height: 19px;\n",
       "  }\n",
       "</style>\n",
       "<div class=\"ansiout\"></div>"
      ]
     },
     "metadata": {
      "application/vnd.databricks.v1+output": {
       "addedWidgets": {},
       "arguments": {},
       "data": "<div class=\"ansiout\"></div>",
       "datasetInfos": [],
       "metadata": {},
       "removedWidgets": [],
       "type": "html"
      }
     },
     "output_type": "display_data"
    }
   ],
   "source": [
    "df_GCP_test = df_GCP_test[df_GCP_test['usage_start_time_LosAngeles'].astype(str).str.startswith(year_month)]"
   ]
  },
  {
   "cell_type": "code",
   "execution_count": 0,
   "metadata": {
    "application/vnd.databricks.v1+cell": {
     "cellMetadata": {
      "byteLimit": 2048000,
      "rowLimit": 10000
     },
     "inputWidgets": {},
     "nuid": "077eb759-33d7-4e98-beb2-8dc7ca7da563",
     "showTitle": false,
     "title": ""
    }
   },
   "outputs": [
    {
     "output_type": "display_data",
     "data": {
      "text/html": [
       "<style scoped>\n",
       "  .ansiout {\n",
       "    display: block;\n",
       "    unicode-bidi: embed;\n",
       "    white-space: pre-wrap;\n",
       "    word-wrap: break-word;\n",
       "    word-break: break-all;\n",
       "    font-family: \"Source Code Pro\", \"Menlo\", monospace;;\n",
       "    font-size: 13px;\n",
       "    color: #555;\n",
       "    margin-left: 4px;\n",
       "    line-height: 19px;\n",
       "  }\n",
       "</style>\n",
       "<div class=\"ansiout\"></div>"
      ]
     },
     "metadata": {
      "application/vnd.databricks.v1+output": {
       "addedWidgets": {},
       "arguments": {},
       "data": "<div class=\"ansiout\"></div>",
       "datasetInfos": [],
       "metadata": {},
       "removedWidgets": [],
       "type": "html"
      }
     },
     "output_type": "display_data"
    },
    {
     "output_type": "display_data",
     "data": {
      "text/html": [
       "<style scoped>\n",
       "  .ansiout {\n",
       "    display: block;\n",
       "    unicode-bidi: embed;\n",
       "    white-space: pre-wrap;\n",
       "    word-wrap: break-word;\n",
       "    word-break: break-all;\n",
       "    font-family: \"Source Code Pro\", \"Menlo\", monospace;;\n",
       "    font-size: 13px;\n",
       "    color: #555;\n",
       "    margin-left: 4px;\n",
       "    line-height: 19px;\n",
       "  }\n",
       "</style>\n",
       "<div class=\"ansiout\"><span class=\"ansi-red-fg\">---------------------------------------------------------------------------</span>\n",
       "<span class=\"ansi-red-fg\">KeyError</span>                                  Traceback (most recent call last)\n",
       "<span class=\"ansi-green-fg\">/databricks/python/lib/python3.8/site-packages/pandas/core/indexes/base.py</span> in <span class=\"ansi-cyan-fg\">get_loc</span><span class=\"ansi-blue-fg\">(self, key, method, tolerance)</span>\n",
       "<span class=\"ansi-green-intense-fg ansi-bold\">   3079</span>             <span class=\"ansi-green-fg\">try</span><span class=\"ansi-blue-fg\">:</span>\n",
       "<span class=\"ansi-green-fg\">-&gt; 3080</span><span class=\"ansi-red-fg\">                 </span><span class=\"ansi-green-fg\">return</span> self<span class=\"ansi-blue-fg\">.</span>_engine<span class=\"ansi-blue-fg\">.</span>get_loc<span class=\"ansi-blue-fg\">(</span>casted_key<span class=\"ansi-blue-fg\">)</span>\n",
       "<span class=\"ansi-green-intense-fg ansi-bold\">   3081</span>             <span class=\"ansi-green-fg\">except</span> KeyError <span class=\"ansi-green-fg\">as</span> err<span class=\"ansi-blue-fg\">:</span>\n",
       "\n",
       "<span class=\"ansi-green-fg\">pandas/_libs/index.pyx</span> in <span class=\"ansi-cyan-fg\">pandas._libs.index.IndexEngine.get_loc</span><span class=\"ansi-blue-fg\">()</span>\n",
       "\n",
       "<span class=\"ansi-green-fg\">pandas/_libs/index.pyx</span> in <span class=\"ansi-cyan-fg\">pandas._libs.index.IndexEngine.get_loc</span><span class=\"ansi-blue-fg\">()</span>\n",
       "\n",
       "<span class=\"ansi-green-fg\">pandas/_libs/hashtable_class_helper.pxi</span> in <span class=\"ansi-cyan-fg\">pandas._libs.hashtable.PyObjectHashTable.get_item</span><span class=\"ansi-blue-fg\">()</span>\n",
       "\n",
       "<span class=\"ansi-green-fg\">pandas/_libs/hashtable_class_helper.pxi</span> in <span class=\"ansi-cyan-fg\">pandas._libs.hashtable.PyObjectHashTable.get_item</span><span class=\"ansi-blue-fg\">()</span>\n",
       "\n",
       "<span class=\"ansi-red-fg\">KeyError</span>: &#39;anual_credits&#39;\n",
       "\n",
       "The above exception was the direct cause of the following exception:\n",
       "\n",
       "<span class=\"ansi-red-fg\">KeyError</span>                                  Traceback (most recent call last)\n",
       "<span class=\"ansi-green-fg\">&lt;command-48418222403955&gt;</span> in <span class=\"ansi-cyan-fg\">&lt;module&gt;</span>\n",
       "<span class=\"ansi-green-fg\">----&gt; 1</span><span class=\"ansi-red-fg\"> </span>df_GCP_test<span class=\"ansi-blue-fg\">.</span>loc<span class=\"ansi-blue-fg\">[</span>df_GCP_test<span class=\"ansi-blue-fg\">[</span><span class=\"ansi-blue-fg\">&#39;anual_credits&#39;</span><span class=\"ansi-blue-fg\">]</span><span class=\"ansi-blue-fg\">]</span>\n",
       "\n",
       "<span class=\"ansi-green-fg\">/databricks/python/lib/python3.8/site-packages/pandas/core/frame.py</span> in <span class=\"ansi-cyan-fg\">__getitem__</span><span class=\"ansi-blue-fg\">(self, key)</span>\n",
       "<span class=\"ansi-green-intense-fg ansi-bold\">   3022</span>             <span class=\"ansi-green-fg\">if</span> self<span class=\"ansi-blue-fg\">.</span>columns<span class=\"ansi-blue-fg\">.</span>nlevels <span class=\"ansi-blue-fg\">&gt;</span> <span class=\"ansi-cyan-fg\">1</span><span class=\"ansi-blue-fg\">:</span>\n",
       "<span class=\"ansi-green-intense-fg ansi-bold\">   3023</span>                 <span class=\"ansi-green-fg\">return</span> self<span class=\"ansi-blue-fg\">.</span>_getitem_multilevel<span class=\"ansi-blue-fg\">(</span>key<span class=\"ansi-blue-fg\">)</span>\n",
       "<span class=\"ansi-green-fg\">-&gt; 3024</span><span class=\"ansi-red-fg\">             </span>indexer <span class=\"ansi-blue-fg\">=</span> self<span class=\"ansi-blue-fg\">.</span>columns<span class=\"ansi-blue-fg\">.</span>get_loc<span class=\"ansi-blue-fg\">(</span>key<span class=\"ansi-blue-fg\">)</span>\n",
       "<span class=\"ansi-green-intense-fg ansi-bold\">   3025</span>             <span class=\"ansi-green-fg\">if</span> is_integer<span class=\"ansi-blue-fg\">(</span>indexer<span class=\"ansi-blue-fg\">)</span><span class=\"ansi-blue-fg\">:</span>\n",
       "<span class=\"ansi-green-intense-fg ansi-bold\">   3026</span>                 indexer <span class=\"ansi-blue-fg\">=</span> <span class=\"ansi-blue-fg\">[</span>indexer<span class=\"ansi-blue-fg\">]</span>\n",
       "\n",
       "<span class=\"ansi-green-fg\">/databricks/python/lib/python3.8/site-packages/pandas/core/indexes/base.py</span> in <span class=\"ansi-cyan-fg\">get_loc</span><span class=\"ansi-blue-fg\">(self, key, method, tolerance)</span>\n",
       "<span class=\"ansi-green-intense-fg ansi-bold\">   3080</span>                 <span class=\"ansi-green-fg\">return</span> self<span class=\"ansi-blue-fg\">.</span>_engine<span class=\"ansi-blue-fg\">.</span>get_loc<span class=\"ansi-blue-fg\">(</span>casted_key<span class=\"ansi-blue-fg\">)</span>\n",
       "<span class=\"ansi-green-intense-fg ansi-bold\">   3081</span>             <span class=\"ansi-green-fg\">except</span> KeyError <span class=\"ansi-green-fg\">as</span> err<span class=\"ansi-blue-fg\">:</span>\n",
       "<span class=\"ansi-green-fg\">-&gt; 3082</span><span class=\"ansi-red-fg\">                 </span><span class=\"ansi-green-fg\">raise</span> KeyError<span class=\"ansi-blue-fg\">(</span>key<span class=\"ansi-blue-fg\">)</span> <span class=\"ansi-green-fg\">from</span> err\n",
       "<span class=\"ansi-green-intense-fg ansi-bold\">   3083</span> \n",
       "<span class=\"ansi-green-intense-fg ansi-bold\">   3084</span>         <span class=\"ansi-green-fg\">if</span> tolerance <span class=\"ansi-green-fg\">is</span> <span class=\"ansi-green-fg\">not</span> <span class=\"ansi-green-fg\">None</span><span class=\"ansi-blue-fg\">:</span>\n",
       "\n",
       "<span class=\"ansi-red-fg\">KeyError</span>: &#39;anual_credits&#39;</div>"
      ]
     },
     "metadata": {
      "application/vnd.databricks.v1+output": {
       "arguments": {},
       "data": "<div class=\"ansiout\"><span class=\"ansi-red-fg\">---------------------------------------------------------------------------</span>\n<span class=\"ansi-red-fg\">KeyError</span>                                  Traceback (most recent call last)\n<span class=\"ansi-green-fg\">/databricks/python/lib/python3.8/site-packages/pandas/core/indexes/base.py</span> in <span class=\"ansi-cyan-fg\">get_loc</span><span class=\"ansi-blue-fg\">(self, key, method, tolerance)</span>\n<span class=\"ansi-green-intense-fg ansi-bold\">   3079</span>             <span class=\"ansi-green-fg\">try</span><span class=\"ansi-blue-fg\">:</span>\n<span class=\"ansi-green-fg\">-&gt; 3080</span><span class=\"ansi-red-fg\">                 </span><span class=\"ansi-green-fg\">return</span> self<span class=\"ansi-blue-fg\">.</span>_engine<span class=\"ansi-blue-fg\">.</span>get_loc<span class=\"ansi-blue-fg\">(</span>casted_key<span class=\"ansi-blue-fg\">)</span>\n<span class=\"ansi-green-intense-fg ansi-bold\">   3081</span>             <span class=\"ansi-green-fg\">except</span> KeyError <span class=\"ansi-green-fg\">as</span> err<span class=\"ansi-blue-fg\">:</span>\n\n<span class=\"ansi-green-fg\">pandas/_libs/index.pyx</span> in <span class=\"ansi-cyan-fg\">pandas._libs.index.IndexEngine.get_loc</span><span class=\"ansi-blue-fg\">()</span>\n\n<span class=\"ansi-green-fg\">pandas/_libs/index.pyx</span> in <span class=\"ansi-cyan-fg\">pandas._libs.index.IndexEngine.get_loc</span><span class=\"ansi-blue-fg\">()</span>\n\n<span class=\"ansi-green-fg\">pandas/_libs/hashtable_class_helper.pxi</span> in <span class=\"ansi-cyan-fg\">pandas._libs.hashtable.PyObjectHashTable.get_item</span><span class=\"ansi-blue-fg\">()</span>\n\n<span class=\"ansi-green-fg\">pandas/_libs/hashtable_class_helper.pxi</span> in <span class=\"ansi-cyan-fg\">pandas._libs.hashtable.PyObjectHashTable.get_item</span><span class=\"ansi-blue-fg\">()</span>\n\n<span class=\"ansi-red-fg\">KeyError</span>: &#39;anual_credits&#39;\n\nThe above exception was the direct cause of the following exception:\n\n<span class=\"ansi-red-fg\">KeyError</span>                                  Traceback (most recent call last)\n<span class=\"ansi-green-fg\">&lt;command-48418222403955&gt;</span> in <span class=\"ansi-cyan-fg\">&lt;module&gt;</span>\n<span class=\"ansi-green-fg\">----&gt; 1</span><span class=\"ansi-red-fg\"> </span>df_GCP_test<span class=\"ansi-blue-fg\">.</span>loc<span class=\"ansi-blue-fg\">[</span>df_GCP_test<span class=\"ansi-blue-fg\">[</span><span class=\"ansi-blue-fg\">&#39;anual_credits&#39;</span><span class=\"ansi-blue-fg\">]</span><span class=\"ansi-blue-fg\">]</span>\n\n<span class=\"ansi-green-fg\">/databricks/python/lib/python3.8/site-packages/pandas/core/frame.py</span> in <span class=\"ansi-cyan-fg\">__getitem__</span><span class=\"ansi-blue-fg\">(self, key)</span>\n<span class=\"ansi-green-intense-fg ansi-bold\">   3022</span>             <span class=\"ansi-green-fg\">if</span> self<span class=\"ansi-blue-fg\">.</span>columns<span class=\"ansi-blue-fg\">.</span>nlevels <span class=\"ansi-blue-fg\">&gt;</span> <span class=\"ansi-cyan-fg\">1</span><span class=\"ansi-blue-fg\">:</span>\n<span class=\"ansi-green-intense-fg ansi-bold\">   3023</span>                 <span class=\"ansi-green-fg\">return</span> self<span class=\"ansi-blue-fg\">.</span>_getitem_multilevel<span class=\"ansi-blue-fg\">(</span>key<span class=\"ansi-blue-fg\">)</span>\n<span class=\"ansi-green-fg\">-&gt; 3024</span><span class=\"ansi-red-fg\">             </span>indexer <span class=\"ansi-blue-fg\">=</span> self<span class=\"ansi-blue-fg\">.</span>columns<span class=\"ansi-blue-fg\">.</span>get_loc<span class=\"ansi-blue-fg\">(</span>key<span class=\"ansi-blue-fg\">)</span>\n<span class=\"ansi-green-intense-fg ansi-bold\">   3025</span>             <span class=\"ansi-green-fg\">if</span> is_integer<span class=\"ansi-blue-fg\">(</span>indexer<span class=\"ansi-blue-fg\">)</span><span class=\"ansi-blue-fg\">:</span>\n<span class=\"ansi-green-intense-fg ansi-bold\">   3026</span>                 indexer <span class=\"ansi-blue-fg\">=</span> <span class=\"ansi-blue-fg\">[</span>indexer<span class=\"ansi-blue-fg\">]</span>\n\n<span class=\"ansi-green-fg\">/databricks/python/lib/python3.8/site-packages/pandas/core/indexes/base.py</span> in <span class=\"ansi-cyan-fg\">get_loc</span><span class=\"ansi-blue-fg\">(self, key, method, tolerance)</span>\n<span class=\"ansi-green-intense-fg ansi-bold\">   3080</span>                 <span class=\"ansi-green-fg\">return</span> self<span class=\"ansi-blue-fg\">.</span>_engine<span class=\"ansi-blue-fg\">.</span>get_loc<span class=\"ansi-blue-fg\">(</span>casted_key<span class=\"ansi-blue-fg\">)</span>\n<span class=\"ansi-green-intense-fg ansi-bold\">   3081</span>             <span class=\"ansi-green-fg\">except</span> KeyError <span class=\"ansi-green-fg\">as</span> err<span class=\"ansi-blue-fg\">:</span>\n<span class=\"ansi-green-fg\">-&gt; 3082</span><span class=\"ansi-red-fg\">                 </span><span class=\"ansi-green-fg\">raise</span> KeyError<span class=\"ansi-blue-fg\">(</span>key<span class=\"ansi-blue-fg\">)</span> <span class=\"ansi-green-fg\">from</span> err\n<span class=\"ansi-green-intense-fg ansi-bold\">   3083</span> \n<span class=\"ansi-green-intense-fg ansi-bold\">   3084</span>         <span class=\"ansi-green-fg\">if</span> tolerance <span class=\"ansi-green-fg\">is</span> <span class=\"ansi-green-fg\">not</span> <span class=\"ansi-green-fg\">None</span><span class=\"ansi-blue-fg\">:</span>\n\n<span class=\"ansi-red-fg\">KeyError</span>: &#39;anual_credits&#39;</div>",
       "errorSummary": "<span class=\"ansi-red-fg\">KeyError</span>: &#39;anual_credits&#39;",
       "errorTraceType": "html",
       "metadata": {},
       "type": "ipynbError"
      }
     },
     "output_type": "display_data"
    }
   ],
   "source": [
    "df_GCP_test.loc[df_GCP_test['anual_credits']]"
   ]
  },
  {
   "cell_type": "code",
   "execution_count": 0,
   "metadata": {
    "application/vnd.databricks.v1+cell": {
     "cellMetadata": {
      "byteLimit": 2048000,
      "rowLimit": 10000
     },
     "inputWidgets": {},
     "nuid": "1926facc-7ad5-47b5-a6d2-934c4bb541b9",
     "showTitle": false,
     "title": ""
    }
   },
   "outputs": [
    {
     "output_type": "display_data",
     "data": {
      "text/html": [
       "<style scoped>\n",
       "  .ansiout {\n",
       "    display: block;\n",
       "    unicode-bidi: embed;\n",
       "    white-space: pre-wrap;\n",
       "    word-wrap: break-word;\n",
       "    word-break: break-all;\n",
       "    font-family: \"Source Code Pro\", \"Menlo\", monospace;;\n",
       "    font-size: 13px;\n",
       "    color: #555;\n",
       "    margin-left: 4px;\n",
       "    line-height: 19px;\n",
       "  }\n",
       "</style>\n",
       "<div class=\"ansiout\">Out[22]: </div>"
      ]
     },
     "metadata": {
      "application/vnd.databricks.v1+output": {
       "addedWidgets": {},
       "arguments": {},
       "data": "<div class=\"ansiout\">Out[22]: </div>",
       "datasetInfos": [],
       "metadata": {},
       "removedWidgets": [],
       "type": "html"
      }
     },
     "output_type": "display_data"
    },
    {
     "output_type": "display_data",
     "data": {
      "text/html": [
       "<div>\n",
       "<style scoped>\n",
       "    .dataframe tbody tr th:only-of-type {\n",
       "        vertical-align: middle;\n",
       "    }\n",
       "\n",
       "    .dataframe tbody tr th {\n",
       "        vertical-align: top;\n",
       "    }\n",
       "\n",
       "    .dataframe thead th {\n",
       "        text-align: right;\n",
       "    }\n",
       "</style>\n",
       "<table border=\"1\" class=\"dataframe\">\n",
       "  <thead>\n",
       "    <tr style=\"text-align: right;\">\n",
       "      <th></th>\n",
       "      <th>usage_start_time</th>\n",
       "      <th>cost</th>\n",
       "      <th>credits</th>\n",
       "      <th>id_service</th>\n",
       "      <th>description_service</th>\n",
       "      <th>id_sku</th>\n",
       "      <th>description_sku</th>\n",
       "      <th>amount</th>\n",
       "      <th>unit</th>\n",
       "      <th>amount_in_pricing_units</th>\n",
       "      <th>pricing_unit</th>\n",
       "      <th>name_credits_1</th>\n",
       "      <th>amount_credits_1</th>\n",
       "      <th>full_name_credits_1</th>\n",
       "      <th>id_credits_1</th>\n",
       "      <th>type_credits_1</th>\n",
       "      <th>promotion_credits_1</th>\n",
       "      <th>total_after_discounts</th>\n",
       "      <th>amount_credits</th>\n",
       "      <th>processing_discount</th>\n",
       "      <th>storage_discount</th>\n",
       "      <th>total_processing_after_discount</th>\n",
       "      <th>total_storage_after_discount</th>\n",
       "      <th>promotion_credits</th>\n",
       "      <th>processing_cost</th>\n",
       "      <th>storage_cost</th>\n",
       "      <th>usage_start_time_LosAngeles</th>\n",
       "    </tr>\n",
       "  </thead>\n",
       "  <tbody>\n",
       "    <tr>\n",
       "      <th>448647</th>\n",
       "      <td>2023-04-23 01:00:00+00:00</td>\n",
       "      <td>0.509051</td>\n",
       "      <td></td>\n",
       "      <td>6F81-5844-456A</td>\n",
       "      <td>Compute Engine</td>\n",
       "      <td>B188-61DD-52E4</td>\n",
       "      <td>SSD backed PD Capacity</td>\n",
       "      <td>8.333953e+15</td>\n",
       "      <td>byte-seconds</td>\n",
       "      <td>2.994444</td>\n",
       "      <td>gibibyte month</td>\n",
       "      <td></td>\n",
       "      <td>0.0</td>\n",
       "      <td></td>\n",
       "      <td></td>\n",
       "      <td></td>\n",
       "      <td>NaN</td>\n",
       "      <td>0.509051</td>\n",
       "      <td>0.0</td>\n",
       "      <td>NaN</td>\n",
       "      <td>0.0</td>\n",
       "      <td>NaN</td>\n",
       "      <td>0.509051</td>\n",
       "      <td>0.0</td>\n",
       "      <td>NaN</td>\n",
       "      <td>0.509051</td>\n",
       "      <td>2023-04-22 18:00:00-07:00</td>\n",
       "    </tr>\n",
       "    <tr>\n",
       "      <th>448652</th>\n",
       "      <td>2023-04-23 06:00:00+00:00</td>\n",
       "      <td>17.070362</td>\n",
       "      <td></td>\n",
       "      <td>6F81-5844-456A</td>\n",
       "      <td>Compute Engine</td>\n",
       "      <td>B188-61DD-52E4</td>\n",
       "      <td>SSD backed PD Capacity</td>\n",
       "      <td>2.794658e+17</td>\n",
       "      <td>byte-seconds</td>\n",
       "      <td>100.413897</td>\n",
       "      <td>gibibyte month</td>\n",
       "      <td></td>\n",
       "      <td>0.0</td>\n",
       "      <td></td>\n",
       "      <td></td>\n",
       "      <td></td>\n",
       "      <td>NaN</td>\n",
       "      <td>17.070362</td>\n",
       "      <td>0.0</td>\n",
       "      <td>NaN</td>\n",
       "      <td>0.0</td>\n",
       "      <td>NaN</td>\n",
       "      <td>17.070362</td>\n",
       "      <td>0.0</td>\n",
       "      <td>NaN</td>\n",
       "      <td>17.070362</td>\n",
       "      <td>2023-04-22 23:00:00-07:00</td>\n",
       "    </tr>\n",
       "    <tr>\n",
       "      <th>448655</th>\n",
       "      <td>2023-04-22 16:00:00+00:00</td>\n",
       "      <td>0.258793</td>\n",
       "      <td></td>\n",
       "      <td>6F81-5844-456A</td>\n",
       "      <td>Compute Engine</td>\n",
       "      <td>B188-61DD-52E4</td>\n",
       "      <td>SSD backed PD Capacity</td>\n",
       "      <td>4.236788e+15</td>\n",
       "      <td>byte-seconds</td>\n",
       "      <td>1.522306</td>\n",
       "      <td>gibibyte month</td>\n",
       "      <td></td>\n",
       "      <td>0.0</td>\n",
       "      <td></td>\n",
       "      <td></td>\n",
       "      <td></td>\n",
       "      <td>NaN</td>\n",
       "      <td>0.258793</td>\n",
       "      <td>0.0</td>\n",
       "      <td>NaN</td>\n",
       "      <td>0.0</td>\n",
       "      <td>NaN</td>\n",
       "      <td>0.258793</td>\n",
       "      <td>0.0</td>\n",
       "      <td>NaN</td>\n",
       "      <td>0.258793</td>\n",
       "      <td>2023-04-22 09:00:00-07:00</td>\n",
       "    </tr>\n",
       "    <tr>\n",
       "      <th>448659</th>\n",
       "      <td>2023-04-22 21:00:00+00:00</td>\n",
       "      <td>0.044307</td>\n",
       "      <td></td>\n",
       "      <td>6F81-5844-456A</td>\n",
       "      <td>Compute Engine</td>\n",
       "      <td>B188-61DD-52E4</td>\n",
       "      <td>SSD backed PD Capacity</td>\n",
       "      <td>7.254759e+14</td>\n",
       "      <td>byte-seconds</td>\n",
       "      <td>0.260668</td>\n",
       "      <td>gibibyte month</td>\n",
       "      <td></td>\n",
       "      <td>0.0</td>\n",
       "      <td></td>\n",
       "      <td></td>\n",
       "      <td></td>\n",
       "      <td>NaN</td>\n",
       "      <td>0.044307</td>\n",
       "      <td>0.0</td>\n",
       "      <td>NaN</td>\n",
       "      <td>0.0</td>\n",
       "      <td>NaN</td>\n",
       "      <td>0.044307</td>\n",
       "      <td>0.0</td>\n",
       "      <td>NaN</td>\n",
       "      <td>0.044307</td>\n",
       "      <td>2023-04-22 14:00:00-07:00</td>\n",
       "    </tr>\n",
       "    <tr>\n",
       "      <th>448660</th>\n",
       "      <td>2023-04-22 18:00:00+00:00</td>\n",
       "      <td>17.070364</td>\n",
       "      <td></td>\n",
       "      <td>6F81-5844-456A</td>\n",
       "      <td>Compute Engine</td>\n",
       "      <td>B188-61DD-52E4</td>\n",
       "      <td>SSD backed PD Capacity</td>\n",
       "      <td>2.794658e+17</td>\n",
       "      <td>byte-seconds</td>\n",
       "      <td>100.413890</td>\n",
       "      <td>gibibyte month</td>\n",
       "      <td></td>\n",
       "      <td>0.0</td>\n",
       "      <td></td>\n",
       "      <td></td>\n",
       "      <td></td>\n",
       "      <td>NaN</td>\n",
       "      <td>17.070364</td>\n",
       "      <td>0.0</td>\n",
       "      <td>NaN</td>\n",
       "      <td>0.0</td>\n",
       "      <td>NaN</td>\n",
       "      <td>17.070364</td>\n",
       "      <td>0.0</td>\n",
       "      <td>NaN</td>\n",
       "      <td>17.070364</td>\n",
       "      <td>2023-04-22 11:00:00-07:00</td>\n",
       "    </tr>\n",
       "  </tbody>\n",
       "</table>\n",
       "</div>"
      ]
     },
     "metadata": {
      "application/vnd.databricks.v1+output": {
       "addedWidgets": {},
       "arguments": {},
       "data": "<div>\n<style scoped>\n    .dataframe tbody tr th:only-of-type {\n        vertical-align: middle;\n    }\n\n    .dataframe tbody tr th {\n        vertical-align: top;\n    }\n\n    .dataframe thead th {\n        text-align: right;\n    }\n</style>\n<table border=\"1\" class=\"dataframe\">\n  <thead>\n    <tr style=\"text-align: right;\">\n      <th></th>\n      <th>usage_start_time</th>\n      <th>cost</th>\n      <th>credits</th>\n      <th>id_service</th>\n      <th>description_service</th>\n      <th>id_sku</th>\n      <th>description_sku</th>\n      <th>amount</th>\n      <th>unit</th>\n      <th>amount_in_pricing_units</th>\n      <th>pricing_unit</th>\n      <th>name_credits_1</th>\n      <th>amount_credits_1</th>\n      <th>full_name_credits_1</th>\n      <th>id_credits_1</th>\n      <th>type_credits_1</th>\n      <th>promotion_credits_1</th>\n      <th>total_after_discounts</th>\n      <th>amount_credits</th>\n      <th>processing_discount</th>\n      <th>storage_discount</th>\n      <th>total_processing_after_discount</th>\n      <th>total_storage_after_discount</th>\n      <th>promotion_credits</th>\n      <th>processing_cost</th>\n      <th>storage_cost</th>\n      <th>usage_start_time_LosAngeles</th>\n    </tr>\n  </thead>\n  <tbody>\n    <tr>\n      <th>448647</th>\n      <td>2023-04-23 01:00:00+00:00</td>\n      <td>0.509051</td>\n      <td></td>\n      <td>6F81-5844-456A</td>\n      <td>Compute Engine</td>\n      <td>B188-61DD-52E4</td>\n      <td>SSD backed PD Capacity</td>\n      <td>8.333953e+15</td>\n      <td>byte-seconds</td>\n      <td>2.994444</td>\n      <td>gibibyte month</td>\n      <td></td>\n      <td>0.0</td>\n      <td></td>\n      <td></td>\n      <td></td>\n      <td>NaN</td>\n      <td>0.509051</td>\n      <td>0.0</td>\n      <td>NaN</td>\n      <td>0.0</td>\n      <td>NaN</td>\n      <td>0.509051</td>\n      <td>0.0</td>\n      <td>NaN</td>\n      <td>0.509051</td>\n      <td>2023-04-22 18:00:00-07:00</td>\n    </tr>\n    <tr>\n      <th>448652</th>\n      <td>2023-04-23 06:00:00+00:00</td>\n      <td>17.070362</td>\n      <td></td>\n      <td>6F81-5844-456A</td>\n      <td>Compute Engine</td>\n      <td>B188-61DD-52E4</td>\n      <td>SSD backed PD Capacity</td>\n      <td>2.794658e+17</td>\n      <td>byte-seconds</td>\n      <td>100.413897</td>\n      <td>gibibyte month</td>\n      <td></td>\n      <td>0.0</td>\n      <td></td>\n      <td></td>\n      <td></td>\n      <td>NaN</td>\n      <td>17.070362</td>\n      <td>0.0</td>\n      <td>NaN</td>\n      <td>0.0</td>\n      <td>NaN</td>\n      <td>17.070362</td>\n      <td>0.0</td>\n      <td>NaN</td>\n      <td>17.070362</td>\n      <td>2023-04-22 23:00:00-07:00</td>\n    </tr>\n    <tr>\n      <th>448655</th>\n      <td>2023-04-22 16:00:00+00:00</td>\n      <td>0.258793</td>\n      <td></td>\n      <td>6F81-5844-456A</td>\n      <td>Compute Engine</td>\n      <td>B188-61DD-52E4</td>\n      <td>SSD backed PD Capacity</td>\n      <td>4.236788e+15</td>\n      <td>byte-seconds</td>\n      <td>1.522306</td>\n      <td>gibibyte month</td>\n      <td></td>\n      <td>0.0</td>\n      <td></td>\n      <td></td>\n      <td></td>\n      <td>NaN</td>\n      <td>0.258793</td>\n      <td>0.0</td>\n      <td>NaN</td>\n      <td>0.0</td>\n      <td>NaN</td>\n      <td>0.258793</td>\n      <td>0.0</td>\n      <td>NaN</td>\n      <td>0.258793</td>\n      <td>2023-04-22 09:00:00-07:00</td>\n    </tr>\n    <tr>\n      <th>448659</th>\n      <td>2023-04-22 21:00:00+00:00</td>\n      <td>0.044307</td>\n      <td></td>\n      <td>6F81-5844-456A</td>\n      <td>Compute Engine</td>\n      <td>B188-61DD-52E4</td>\n      <td>SSD backed PD Capacity</td>\n      <td>7.254759e+14</td>\n      <td>byte-seconds</td>\n      <td>0.260668</td>\n      <td>gibibyte month</td>\n      <td></td>\n      <td>0.0</td>\n      <td></td>\n      <td></td>\n      <td></td>\n      <td>NaN</td>\n      <td>0.044307</td>\n      <td>0.0</td>\n      <td>NaN</td>\n      <td>0.0</td>\n      <td>NaN</td>\n      <td>0.044307</td>\n      <td>0.0</td>\n      <td>NaN</td>\n      <td>0.044307</td>\n      <td>2023-04-22 14:00:00-07:00</td>\n    </tr>\n    <tr>\n      <th>448660</th>\n      <td>2023-04-22 18:00:00+00:00</td>\n      <td>17.070364</td>\n      <td></td>\n      <td>6F81-5844-456A</td>\n      <td>Compute Engine</td>\n      <td>B188-61DD-52E4</td>\n      <td>SSD backed PD Capacity</td>\n      <td>2.794658e+17</td>\n      <td>byte-seconds</td>\n      <td>100.413890</td>\n      <td>gibibyte month</td>\n      <td></td>\n      <td>0.0</td>\n      <td></td>\n      <td></td>\n      <td></td>\n      <td>NaN</td>\n      <td>17.070364</td>\n      <td>0.0</td>\n      <td>NaN</td>\n      <td>0.0</td>\n      <td>NaN</td>\n      <td>17.070364</td>\n      <td>0.0</td>\n      <td>NaN</td>\n      <td>17.070364</td>\n      <td>2023-04-22 11:00:00-07:00</td>\n    </tr>\n  </tbody>\n</table>\n</div>",
       "datasetInfos": [],
       "metadata": {},
       "removedWidgets": [],
       "textData": null,
       "type": "htmlSandbox"
      }
     },
     "output_type": "display_data"
    }
   ],
   "source": [
    "df_GCP_test[df_GCP_test['total_storage_after_discount']>0].tail()"
   ]
  },
  {
   "cell_type": "code",
   "execution_count": 0,
   "metadata": {
    "application/vnd.databricks.v1+cell": {
     "cellMetadata": {
      "byteLimit": 2048000,
      "rowLimit": 10000
     },
     "inputWidgets": {},
     "nuid": "540f334d-7c7b-4d52-98a6-7a5e099eca4c",
     "showTitle": false,
     "title": ""
    }
   },
   "outputs": [
    {
     "output_type": "display_data",
     "data": {
      "text/html": [
       "<style scoped>\n",
       "  .ansiout {\n",
       "    display: block;\n",
       "    unicode-bidi: embed;\n",
       "    white-space: pre-wrap;\n",
       "    word-wrap: break-word;\n",
       "    word-break: break-all;\n",
       "    font-family: \"Source Code Pro\", \"Menlo\", monospace;;\n",
       "    font-size: 13px;\n",
       "    color: #555;\n",
       "    margin-left: 4px;\n",
       "    line-height: 19px;\n",
       "  }\n",
       "</style>\n",
       "<div class=\"ansiout\"></div>"
      ]
     },
     "metadata": {
      "application/vnd.databricks.v1+output": {
       "addedWidgets": {},
       "arguments": {},
       "data": "<div class=\"ansiout\"></div>",
       "datasetInfos": [],
       "metadata": {},
       "removedWidgets": [],
       "type": "html"
      }
     },
     "output_type": "display_data"
    }
   ],
   "source": [
    "df_GCP_test_agg = df_GCP_test.groupby(['usage_start_time_LosAngeles']).agg(total_GCP_cost = ('cost','sum')\n",
    "                                                                ,total_processing_cost =('processing_cost','sum')\n",
    "                                                                ,total_storage_cost =('storage_cost','sum')\n",
    "                                                                ,total_GCP_discount = ('amount_credits','sum')\n",
    "                                                                ,total_processing_discount =('processing_discount','sum')\n",
    "                                                                ,total_storage_discount =('storage_discount','sum')\n",
    "                                                                ,total_after_discounts =('total_after_discounts','sum')\n",
    "                                                                ,total_processing_after_discounts =('total_processing_after_discount','sum') ).reset_index()"
   ]
  },
  {
   "cell_type": "code",
   "execution_count": 0,
   "metadata": {
    "application/vnd.databricks.v1+cell": {
     "cellMetadata": {
      "byteLimit": 2048000,
      "rowLimit": 10000
     },
     "inputWidgets": {},
     "nuid": "dd1969be-1a7d-491b-bf42-400e928ee2b2",
     "showTitle": false,
     "title": ""
    }
   },
   "outputs": [
    {
     "output_type": "display_data",
     "data": {
      "text/html": [
       "<style scoped>\n",
       "  .ansiout {\n",
       "    display: block;\n",
       "    unicode-bidi: embed;\n",
       "    white-space: pre-wrap;\n",
       "    word-wrap: break-word;\n",
       "    word-break: break-all;\n",
       "    font-family: \"Source Code Pro\", \"Menlo\", monospace;;\n",
       "    font-size: 13px;\n",
       "    color: #555;\n",
       "    margin-left: 4px;\n",
       "    line-height: 19px;\n",
       "  }\n",
       "</style>\n",
       "<div class=\"ansiout\"></div>"
      ]
     },
     "metadata": {
      "application/vnd.databricks.v1+output": {
       "addedWidgets": {},
       "arguments": {},
       "data": "<div class=\"ansiout\"></div>",
       "datasetInfos": [],
       "metadata": {},
       "removedWidgets": [],
       "type": "html"
      }
     },
     "output_type": "display_data"
    }
   ],
   "source": [
    "df_GCP_test_agg.loc[:,'total_processing_after_discounts_taxes_credits']= df_GCP_test_agg['total_processing_after_discounts']-(3750/df_GCP_test_agg['total_processing_after_discounts'].count())-(df_GCP_test_agg['total_after_discounts']*0.05)"
   ]
  },
  {
   "cell_type": "code",
   "execution_count": 0,
   "metadata": {
    "application/vnd.databricks.v1+cell": {
     "cellMetadata": {
      "byteLimit": 2048000,
      "rowLimit": 10000
     },
     "inputWidgets": {},
     "nuid": "2225807d-543d-4585-b738-c80d028e1595",
     "showTitle": false,
     "title": ""
    }
   },
   "outputs": [
    {
     "output_type": "display_data",
     "data": {
      "text/html": [
       "<style scoped>\n",
       "  .ansiout {\n",
       "    display: block;\n",
       "    unicode-bidi: embed;\n",
       "    white-space: pre-wrap;\n",
       "    word-wrap: break-word;\n",
       "    word-break: break-all;\n",
       "    font-family: \"Source Code Pro\", \"Menlo\", monospace;;\n",
       "    font-size: 13px;\n",
       "    color: #555;\n",
       "    margin-left: 4px;\n",
       "    line-height: 19px;\n",
       "  }\n",
       "</style>\n",
       "<div class=\"ansiout\">Out[25]: total_GCP_cost                                    40261.275753\n",
       "total_processing_cost                             27556.016508\n",
       "total_storage_cost                                12705.259245\n",
       "total_GCP_discount                                -3776.622116\n",
       "total_processing_discount                         -3776.622116\n",
       "total_storage_discount                                0.000000\n",
       "total_after_discounts                             36484.653637\n",
       "total_processing_after_discounts                  23779.394392\n",
       "total_processing_after_discounts_taxes_credits    18205.161710\n",
       "dtype: float64</div>"
      ]
     },
     "metadata": {
      "application/vnd.databricks.v1+output": {
       "addedWidgets": {},
       "arguments": {},
       "data": "<div class=\"ansiout\">Out[25]: total_GCP_cost                                    40261.275753\ntotal_processing_cost                             27556.016508\ntotal_storage_cost                                12705.259245\ntotal_GCP_discount                                -3776.622116\ntotal_processing_discount                         -3776.622116\ntotal_storage_discount                                0.000000\ntotal_after_discounts                             36484.653637\ntotal_processing_after_discounts                  23779.394392\ntotal_processing_after_discounts_taxes_credits    18205.161710\ndtype: float64</div>",
       "datasetInfos": [],
       "metadata": {},
       "removedWidgets": [],
       "type": "html"
      }
     },
     "output_type": "display_data"
    }
   ],
   "source": [
    "df_GCP_test_agg.sum()"
   ]
  },
  {
   "cell_type": "markdown",
   "metadata": {
    "application/vnd.databricks.v1+cell": {
     "cellMetadata": {},
     "inputWidgets": {},
     "nuid": "beee2a01-c3e8-45a9-b21c-5e84ab97c72a",
     "showTitle": false,
     "title": ""
    }
   },
   "source": [
    "### System Events extraction"
   ]
  },
  {
   "cell_type": "code",
   "execution_count": 0,
   "metadata": {
    "application/vnd.databricks.v1+cell": {
     "cellMetadata": {
      "byteLimit": 2048000,
      "rowLimit": 10000
     },
     "inputWidgets": {},
     "nuid": "ea28b272-f169-4f9c-8732-6f131c7c841d",
     "showTitle": false,
     "title": ""
    }
   },
   "outputs": [
    {
     "output_type": "display_data",
     "data": {
      "text/html": [
       "<style scoped>\n",
       "  .ansiout {\n",
       "    display: block;\n",
       "    unicode-bidi: embed;\n",
       "    white-space: pre-wrap;\n",
       "    word-wrap: break-word;\n",
       "    word-break: break-all;\n",
       "    font-family: \"Source Code Pro\", \"Menlo\", monospace;;\n",
       "    font-size: 13px;\n",
       "    color: #555;\n",
       "    margin-left: 4px;\n",
       "    line-height: 19px;\n",
       "  }\n",
       "</style>\n",
       "<div class=\"ansiout\"></div>"
      ]
     },
     "metadata": {
      "application/vnd.databricks.v1+output": {
       "addedWidgets": {},
       "arguments": {},
       "data": "<div class=\"ansiout\"></div>",
       "datasetInfos": [],
       "metadata": {},
       "removedWidgets": [],
       "type": "html"
      }
     },
     "output_type": "display_data"
    }
   ],
   "source": [
    "df_metadata_yt1_full = pd.DataFrame()\n",
    "df_agg_metadata_full_yt1 = pd.DataFrame()\n",
    "STR_YEARMONTH ='2023-04'"
   ]
  },
  {
   "cell_type": "code",
   "execution_count": 0,
   "metadata": {
    "application/vnd.databricks.v1+cell": {
     "cellMetadata": {
      "byteLimit": 2048000,
      "rowLimit": 10000
     },
     "inputWidgets": {},
     "nuid": "b320f5ef-022a-41c5-8422-c15efd964dd2",
     "showTitle": false,
     "title": ""
    }
   },
   "outputs": [
    {
     "output_type": "display_data",
     "data": {
      "text/html": [
       "<style scoped>\n",
       "  .ansiout {\n",
       "    display: block;\n",
       "    unicode-bidi: embed;\n",
       "    white-space: pre-wrap;\n",
       "    word-wrap: break-word;\n",
       "    word-break: break-all;\n",
       "    font-family: \"Source Code Pro\", \"Menlo\", monospace;;\n",
       "    font-size: 13px;\n",
       "    color: #555;\n",
       "    margin-left: 4px;\n",
       "    line-height: 19px;\n",
       "  }\n",
       "</style>\n",
       "<div class=\"ansiout\"></div>"
      ]
     },
     "metadata": {
      "application/vnd.databricks.v1+output": {
       "addedWidgets": {},
       "arguments": {},
       "data": "<div class=\"ansiout\"></div>",
       "datasetInfos": [],
       "metadata": {},
       "removedWidgets": [],
       "type": "html"
      }
     },
     "output_type": "display_data"
    }
   ],
   "source": [
    "query = \"\"\"\n",
    "        SELECT datetime_h,datetime_h_LA, tenantCode, thingType, mojix_blink_count FROM saas-analytics-io.processed.yt1_event_classify_GCP_cost_assignment WHERE \n",
    "        datetime_h_LA between '2023-04-01 00:00:00' and '2023-04-30 23:59:59'\n",
    "    \"\"\"\n",
    "query_job = client.query(\n",
    "    query,\n",
    "    # Location must match that of the dataset(s) referenced in the query.\n",
    "    location=\"us\",\n",
    ")  # API request - starts the query\n",
    "df_metadata_yt1 = query_job.to_dataframe()\n",
    "#df_metadata_yt1.loc[:,'datetime_h'] = df_metadata_yt1['time'].dt.strftime(\"%d/%m/%y %H\")\n",
    "#df_metadata_yt1['datetime_h'] = df_metadata_yt1['datetime_h'].apply(lambda x: datetime.strptime(x, '%d/%m/%y %H'))\n",
    "#df_metadata_yt1['datetime_h'] = pd.to_datetime(df_metadata_yt1['datetime_h'], utc=True)\n",
    "df_agg_metadata_yt1 = df_metadata_yt1.groupby(['datetime_h','datetime_h_LA','tenantCode','thingType']).agg(event_count_h = (\"mojix_blink_count\",\"sum\")).reset_index()\n",
    "df_agg_metadata_full_yt1 = df_agg_metadata_full_yt1.append(df_agg_metadata_yt1)"
   ]
  },
  {
   "cell_type": "code",
   "execution_count": 0,
   "metadata": {
    "application/vnd.databricks.v1+cell": {
     "cellMetadata": {
      "byteLimit": 2048000,
      "rowLimit": 10000
     },
     "inputWidgets": {},
     "nuid": "5870561e-1c1f-438d-aa5d-0bf087eb317a",
     "showTitle": false,
     "title": ""
    }
   },
   "outputs": [
    {
     "output_type": "display_data",
     "data": {
      "text/html": [
       "<style scoped>\n",
       "  .ansiout {\n",
       "    display: block;\n",
       "    unicode-bidi: embed;\n",
       "    white-space: pre-wrap;\n",
       "    word-wrap: break-word;\n",
       "    word-break: break-all;\n",
       "    font-family: \"Source Code Pro\", \"Menlo\", monospace;;\n",
       "    font-size: 13px;\n",
       "    color: #555;\n",
       "    margin-left: 4px;\n",
       "    line-height: 19px;\n",
       "  }\n",
       "</style>\n",
       "<div class=\"ansiout\">Out[28]: 1131135179</div>"
      ]
     },
     "metadata": {
      "application/vnd.databricks.v1+output": {
       "addedWidgets": {},
       "arguments": {},
       "data": "<div class=\"ansiout\">Out[28]: 1131135179</div>",
       "datasetInfos": [],
       "metadata": {},
       "removedWidgets": [],
       "type": "html"
      }
     },
     "output_type": "display_data"
    }
   ],
   "source": [
    "df_agg_metadata_full_yt1['event_count_h'].sum()"
   ]
  },
  {
   "cell_type": "code",
   "execution_count": 0,
   "metadata": {
    "application/vnd.databricks.v1+cell": {
     "cellMetadata": {
      "byteLimit": 2048000,
      "rowLimit": 10000
     },
     "inputWidgets": {},
     "nuid": "89ec02b0-511b-41ab-adbf-271932792aba",
     "showTitle": false,
     "title": ""
    }
   },
   "outputs": [
    {
     "output_type": "display_data",
     "data": {
      "text/html": [
       "<style scoped>\n",
       "  .ansiout {\n",
       "    display: block;\n",
       "    unicode-bidi: embed;\n",
       "    white-space: pre-wrap;\n",
       "    word-wrap: break-word;\n",
       "    word-break: break-all;\n",
       "    font-family: \"Source Code Pro\", \"Menlo\", monospace;;\n",
       "    font-size: 13px;\n",
       "    color: #555;\n",
       "    margin-left: 4px;\n",
       "    line-height: 19px;\n",
       "  }\n",
       "</style>\n",
       "<div class=\"ansiout\"></div>"
      ]
     },
     "metadata": {
      "application/vnd.databricks.v1+output": {
       "addedWidgets": {},
       "arguments": {},
       "data": "<div class=\"ansiout\"></div>",
       "datasetInfos": [],
       "metadata": {},
       "removedWidgets": [],
       "type": "html"
      }
     },
     "output_type": "display_data"
    }
   ],
   "source": [
    "df_agg_metadata_full_yt1.loc[:,'datetime_LosAngeles']=df_agg_metadata_full_yt1['datetime_h'].dt.tz_convert('America/Los_Angeles') "
   ]
  },
  {
   "cell_type": "code",
   "execution_count": 0,
   "metadata": {
    "application/vnd.databricks.v1+cell": {
     "cellMetadata": {
      "byteLimit": 2048000,
      "rowLimit": 10000
     },
     "inputWidgets": {},
     "nuid": "56f1b379-9279-4b26-8ac2-72cf2f086acb",
     "showTitle": false,
     "title": ""
    }
   },
   "outputs": [
    {
     "output_type": "display_data",
     "data": {
      "text/html": [
       "<style scoped>\n",
       "  .ansiout {\n",
       "    display: block;\n",
       "    unicode-bidi: embed;\n",
       "    white-space: pre-wrap;\n",
       "    word-wrap: break-word;\n",
       "    word-break: break-all;\n",
       "    font-family: \"Source Code Pro\", \"Menlo\", monospace;;\n",
       "    font-size: 13px;\n",
       "    color: #555;\n",
       "    margin-left: 4px;\n",
       "    line-height: 19px;\n",
       "  }\n",
       "</style>\n",
       "<div class=\"ansiout\">23779.394392\n",
       "23779.39439200001\n",
       "</div>"
      ]
     },
     "metadata": {
      "application/vnd.databricks.v1+output": {
       "addedWidgets": {},
       "arguments": {},
       "data": "<div class=\"ansiout\">23779.394392\n23779.39439200001\n</div>",
       "datasetInfos": [],
       "metadata": {},
       "removedWidgets": [],
       "type": "html"
      }
     },
     "output_type": "display_data"
    },
    {
     "output_type": "display_data",
     "data": {
      "text/html": [
       "<style scoped>\n",
       "  .ansiout {\n",
       "    display: block;\n",
       "    unicode-bidi: embed;\n",
       "    white-space: pre-wrap;\n",
       "    word-wrap: break-word;\n",
       "    word-break: break-all;\n",
       "    font-family: \"Source Code Pro\", \"Menlo\", monospace;;\n",
       "    font-size: 13px;\n",
       "    color: #555;\n",
       "    margin-left: 4px;\n",
       "    line-height: 19px;\n",
       "  }\n",
       "</style>\n",
       "<div class=\"ansiout\"><span class=\"ansi-red-fg\">---------------------------------------------------------------------------</span>\n",
       "<span class=\"ansi-red-fg\">KeyError</span>                                  Traceback (most recent call last)\n",
       "<span class=\"ansi-green-fg\">/databricks/python/lib/python3.8/site-packages/pandas/core/indexes/base.py</span> in <span class=\"ansi-cyan-fg\">get_loc</span><span class=\"ansi-blue-fg\">(self, key, method, tolerance)</span>\n",
       "<span class=\"ansi-green-intense-fg ansi-bold\">   3079</span>             <span class=\"ansi-green-fg\">try</span><span class=\"ansi-blue-fg\">:</span>\n",
       "<span class=\"ansi-green-fg\">-&gt; 3080</span><span class=\"ansi-red-fg\">                 </span><span class=\"ansi-green-fg\">return</span> self<span class=\"ansi-blue-fg\">.</span>_engine<span class=\"ansi-blue-fg\">.</span>get_loc<span class=\"ansi-blue-fg\">(</span>casted_key<span class=\"ansi-blue-fg\">)</span>\n",
       "<span class=\"ansi-green-intense-fg ansi-bold\">   3081</span>             <span class=\"ansi-green-fg\">except</span> KeyError <span class=\"ansi-green-fg\">as</span> err<span class=\"ansi-blue-fg\">:</span>\n",
       "\n",
       "<span class=\"ansi-green-fg\">pandas/_libs/index.pyx</span> in <span class=\"ansi-cyan-fg\">pandas._libs.index.IndexEngine.get_loc</span><span class=\"ansi-blue-fg\">()</span>\n",
       "\n",
       "<span class=\"ansi-green-fg\">pandas/_libs/index.pyx</span> in <span class=\"ansi-cyan-fg\">pandas._libs.index.IndexEngine.get_loc</span><span class=\"ansi-blue-fg\">()</span>\n",
       "\n",
       "<span class=\"ansi-green-fg\">pandas/_libs/hashtable_class_helper.pxi</span> in <span class=\"ansi-cyan-fg\">pandas._libs.hashtable.PyObjectHashTable.get_item</span><span class=\"ansi-blue-fg\">()</span>\n",
       "\n",
       "<span class=\"ansi-green-fg\">pandas/_libs/hashtable_class_helper.pxi</span> in <span class=\"ansi-cyan-fg\">pandas._libs.hashtable.PyObjectHashTable.get_item</span><span class=\"ansi-blue-fg\">()</span>\n",
       "\n",
       "<span class=\"ansi-red-fg\">KeyError</span>: &#39;total_after_discounts_taxes_credits&#39;\n",
       "\n",
       "The above exception was the direct cause of the following exception:\n",
       "\n",
       "<span class=\"ansi-red-fg\">KeyError</span>                                  Traceback (most recent call last)\n",
       "<span class=\"ansi-green-fg\">&lt;command-3772867996911835&gt;</span> in <span class=\"ansi-cyan-fg\">&lt;module&gt;</span>\n",
       "<span class=\"ansi-green-intense-fg ansi-bold\">      1</span> print<span class=\"ansi-blue-fg\">(</span>df_GCP_test_agg<span class=\"ansi-blue-fg\">[</span>df_GCP_test_agg<span class=\"ansi-blue-fg\">[</span><span class=\"ansi-blue-fg\">&#39;usage_start_time_LosAngeles&#39;</span><span class=\"ansi-blue-fg\">]</span><span class=\"ansi-blue-fg\">.</span>astype<span class=\"ansi-blue-fg\">(</span>str<span class=\"ansi-blue-fg\">)</span><span class=\"ansi-blue-fg\">.</span>str<span class=\"ansi-blue-fg\">.</span>startswith<span class=\"ansi-blue-fg\">(</span>STR_YEARMONTH<span class=\"ansi-blue-fg\">)</span><span class=\"ansi-blue-fg\">]</span><span class=\"ansi-blue-fg\">[</span><span class=\"ansi-blue-fg\">&#39;total_processing_after_discounts&#39;</span><span class=\"ansi-blue-fg\">]</span><span class=\"ansi-blue-fg\">.</span>sum<span class=\"ansi-blue-fg\">(</span><span class=\"ansi-blue-fg\">)</span><span class=\"ansi-blue-fg\">)</span>\n",
       "<span class=\"ansi-green-intense-fg ansi-bold\">      2</span> print<span class=\"ansi-blue-fg\">(</span>df_GCP_test<span class=\"ansi-blue-fg\">[</span>df_GCP_test<span class=\"ansi-blue-fg\">[</span><span class=\"ansi-blue-fg\">&#39;usage_start_time_LosAngeles&#39;</span><span class=\"ansi-blue-fg\">]</span><span class=\"ansi-blue-fg\">.</span>astype<span class=\"ansi-blue-fg\">(</span>str<span class=\"ansi-blue-fg\">)</span><span class=\"ansi-blue-fg\">.</span>str<span class=\"ansi-blue-fg\">.</span>startswith<span class=\"ansi-blue-fg\">(</span>STR_YEARMONTH<span class=\"ansi-blue-fg\">)</span><span class=\"ansi-blue-fg\">]</span><span class=\"ansi-blue-fg\">[</span><span class=\"ansi-blue-fg\">&#39;total_processing_after_discount&#39;</span><span class=\"ansi-blue-fg\">]</span><span class=\"ansi-blue-fg\">.</span>sum<span class=\"ansi-blue-fg\">(</span><span class=\"ansi-blue-fg\">)</span><span class=\"ansi-blue-fg\">)</span>\n",
       "<span class=\"ansi-green-fg\">----&gt; 3</span><span class=\"ansi-red-fg\"> </span>print<span class=\"ansi-blue-fg\">(</span>df_GCP_test_agg<span class=\"ansi-blue-fg\">[</span>df_GCP_test_agg<span class=\"ansi-blue-fg\">[</span><span class=\"ansi-blue-fg\">&#39;usage_start_time_LosAngeles&#39;</span><span class=\"ansi-blue-fg\">]</span><span class=\"ansi-blue-fg\">.</span>astype<span class=\"ansi-blue-fg\">(</span>str<span class=\"ansi-blue-fg\">)</span><span class=\"ansi-blue-fg\">.</span>str<span class=\"ansi-blue-fg\">.</span>startswith<span class=\"ansi-blue-fg\">(</span>STR_YEARMONTH<span class=\"ansi-blue-fg\">)</span><span class=\"ansi-blue-fg\">]</span><span class=\"ansi-blue-fg\">[</span><span class=\"ansi-blue-fg\">&#39;total_after_discounts_taxes_credits&#39;</span><span class=\"ansi-blue-fg\">]</span><span class=\"ansi-blue-fg\">.</span>sum<span class=\"ansi-blue-fg\">(</span><span class=\"ansi-blue-fg\">)</span><span class=\"ansi-blue-fg\">)</span>\n",
       "\n",
       "<span class=\"ansi-green-fg\">/databricks/python/lib/python3.8/site-packages/pandas/core/frame.py</span> in <span class=\"ansi-cyan-fg\">__getitem__</span><span class=\"ansi-blue-fg\">(self, key)</span>\n",
       "<span class=\"ansi-green-intense-fg ansi-bold\">   3022</span>             <span class=\"ansi-green-fg\">if</span> self<span class=\"ansi-blue-fg\">.</span>columns<span class=\"ansi-blue-fg\">.</span>nlevels <span class=\"ansi-blue-fg\">&gt;</span> <span class=\"ansi-cyan-fg\">1</span><span class=\"ansi-blue-fg\">:</span>\n",
       "<span class=\"ansi-green-intense-fg ansi-bold\">   3023</span>                 <span class=\"ansi-green-fg\">return</span> self<span class=\"ansi-blue-fg\">.</span>_getitem_multilevel<span class=\"ansi-blue-fg\">(</span>key<span class=\"ansi-blue-fg\">)</span>\n",
       "<span class=\"ansi-green-fg\">-&gt; 3024</span><span class=\"ansi-red-fg\">             </span>indexer <span class=\"ansi-blue-fg\">=</span> self<span class=\"ansi-blue-fg\">.</span>columns<span class=\"ansi-blue-fg\">.</span>get_loc<span class=\"ansi-blue-fg\">(</span>key<span class=\"ansi-blue-fg\">)</span>\n",
       "<span class=\"ansi-green-intense-fg ansi-bold\">   3025</span>             <span class=\"ansi-green-fg\">if</span> is_integer<span class=\"ansi-blue-fg\">(</span>indexer<span class=\"ansi-blue-fg\">)</span><span class=\"ansi-blue-fg\">:</span>\n",
       "<span class=\"ansi-green-intense-fg ansi-bold\">   3026</span>                 indexer <span class=\"ansi-blue-fg\">=</span> <span class=\"ansi-blue-fg\">[</span>indexer<span class=\"ansi-blue-fg\">]</span>\n",
       "\n",
       "<span class=\"ansi-green-fg\">/databricks/python/lib/python3.8/site-packages/pandas/core/indexes/base.py</span> in <span class=\"ansi-cyan-fg\">get_loc</span><span class=\"ansi-blue-fg\">(self, key, method, tolerance)</span>\n",
       "<span class=\"ansi-green-intense-fg ansi-bold\">   3080</span>                 <span class=\"ansi-green-fg\">return</span> self<span class=\"ansi-blue-fg\">.</span>_engine<span class=\"ansi-blue-fg\">.</span>get_loc<span class=\"ansi-blue-fg\">(</span>casted_key<span class=\"ansi-blue-fg\">)</span>\n",
       "<span class=\"ansi-green-intense-fg ansi-bold\">   3081</span>             <span class=\"ansi-green-fg\">except</span> KeyError <span class=\"ansi-green-fg\">as</span> err<span class=\"ansi-blue-fg\">:</span>\n",
       "<span class=\"ansi-green-fg\">-&gt; 3082</span><span class=\"ansi-red-fg\">                 </span><span class=\"ansi-green-fg\">raise</span> KeyError<span class=\"ansi-blue-fg\">(</span>key<span class=\"ansi-blue-fg\">)</span> <span class=\"ansi-green-fg\">from</span> err\n",
       "<span class=\"ansi-green-intense-fg ansi-bold\">   3083</span> \n",
       "<span class=\"ansi-green-intense-fg ansi-bold\">   3084</span>         <span class=\"ansi-green-fg\">if</span> tolerance <span class=\"ansi-green-fg\">is</span> <span class=\"ansi-green-fg\">not</span> <span class=\"ansi-green-fg\">None</span><span class=\"ansi-blue-fg\">:</span>\n",
       "\n",
       "<span class=\"ansi-red-fg\">KeyError</span>: &#39;total_after_discounts_taxes_credits&#39;</div>"
      ]
     },
     "metadata": {
      "application/vnd.databricks.v1+output": {
       "arguments": {},
       "data": "<div class=\"ansiout\"><span class=\"ansi-red-fg\">---------------------------------------------------------------------------</span>\n<span class=\"ansi-red-fg\">KeyError</span>                                  Traceback (most recent call last)\n<span class=\"ansi-green-fg\">/databricks/python/lib/python3.8/site-packages/pandas/core/indexes/base.py</span> in <span class=\"ansi-cyan-fg\">get_loc</span><span class=\"ansi-blue-fg\">(self, key, method, tolerance)</span>\n<span class=\"ansi-green-intense-fg ansi-bold\">   3079</span>             <span class=\"ansi-green-fg\">try</span><span class=\"ansi-blue-fg\">:</span>\n<span class=\"ansi-green-fg\">-&gt; 3080</span><span class=\"ansi-red-fg\">                 </span><span class=\"ansi-green-fg\">return</span> self<span class=\"ansi-blue-fg\">.</span>_engine<span class=\"ansi-blue-fg\">.</span>get_loc<span class=\"ansi-blue-fg\">(</span>casted_key<span class=\"ansi-blue-fg\">)</span>\n<span class=\"ansi-green-intense-fg ansi-bold\">   3081</span>             <span class=\"ansi-green-fg\">except</span> KeyError <span class=\"ansi-green-fg\">as</span> err<span class=\"ansi-blue-fg\">:</span>\n\n<span class=\"ansi-green-fg\">pandas/_libs/index.pyx</span> in <span class=\"ansi-cyan-fg\">pandas._libs.index.IndexEngine.get_loc</span><span class=\"ansi-blue-fg\">()</span>\n\n<span class=\"ansi-green-fg\">pandas/_libs/index.pyx</span> in <span class=\"ansi-cyan-fg\">pandas._libs.index.IndexEngine.get_loc</span><span class=\"ansi-blue-fg\">()</span>\n\n<span class=\"ansi-green-fg\">pandas/_libs/hashtable_class_helper.pxi</span> in <span class=\"ansi-cyan-fg\">pandas._libs.hashtable.PyObjectHashTable.get_item</span><span class=\"ansi-blue-fg\">()</span>\n\n<span class=\"ansi-green-fg\">pandas/_libs/hashtable_class_helper.pxi</span> in <span class=\"ansi-cyan-fg\">pandas._libs.hashtable.PyObjectHashTable.get_item</span><span class=\"ansi-blue-fg\">()</span>\n\n<span class=\"ansi-red-fg\">KeyError</span>: &#39;total_after_discounts_taxes_credits&#39;\n\nThe above exception was the direct cause of the following exception:\n\n<span class=\"ansi-red-fg\">KeyError</span>                                  Traceback (most recent call last)\n<span class=\"ansi-green-fg\">&lt;command-3772867996911835&gt;</span> in <span class=\"ansi-cyan-fg\">&lt;module&gt;</span>\n<span class=\"ansi-green-intense-fg ansi-bold\">      1</span> print<span class=\"ansi-blue-fg\">(</span>df_GCP_test_agg<span class=\"ansi-blue-fg\">[</span>df_GCP_test_agg<span class=\"ansi-blue-fg\">[</span><span class=\"ansi-blue-fg\">&#39;usage_start_time_LosAngeles&#39;</span><span class=\"ansi-blue-fg\">]</span><span class=\"ansi-blue-fg\">.</span>astype<span class=\"ansi-blue-fg\">(</span>str<span class=\"ansi-blue-fg\">)</span><span class=\"ansi-blue-fg\">.</span>str<span class=\"ansi-blue-fg\">.</span>startswith<span class=\"ansi-blue-fg\">(</span>STR_YEARMONTH<span class=\"ansi-blue-fg\">)</span><span class=\"ansi-blue-fg\">]</span><span class=\"ansi-blue-fg\">[</span><span class=\"ansi-blue-fg\">&#39;total_processing_after_discounts&#39;</span><span class=\"ansi-blue-fg\">]</span><span class=\"ansi-blue-fg\">.</span>sum<span class=\"ansi-blue-fg\">(</span><span class=\"ansi-blue-fg\">)</span><span class=\"ansi-blue-fg\">)</span>\n<span class=\"ansi-green-intense-fg ansi-bold\">      2</span> print<span class=\"ansi-blue-fg\">(</span>df_GCP_test<span class=\"ansi-blue-fg\">[</span>df_GCP_test<span class=\"ansi-blue-fg\">[</span><span class=\"ansi-blue-fg\">&#39;usage_start_time_LosAngeles&#39;</span><span class=\"ansi-blue-fg\">]</span><span class=\"ansi-blue-fg\">.</span>astype<span class=\"ansi-blue-fg\">(</span>str<span class=\"ansi-blue-fg\">)</span><span class=\"ansi-blue-fg\">.</span>str<span class=\"ansi-blue-fg\">.</span>startswith<span class=\"ansi-blue-fg\">(</span>STR_YEARMONTH<span class=\"ansi-blue-fg\">)</span><span class=\"ansi-blue-fg\">]</span><span class=\"ansi-blue-fg\">[</span><span class=\"ansi-blue-fg\">&#39;total_processing_after_discount&#39;</span><span class=\"ansi-blue-fg\">]</span><span class=\"ansi-blue-fg\">.</span>sum<span class=\"ansi-blue-fg\">(</span><span class=\"ansi-blue-fg\">)</span><span class=\"ansi-blue-fg\">)</span>\n<span class=\"ansi-green-fg\">----&gt; 3</span><span class=\"ansi-red-fg\"> </span>print<span class=\"ansi-blue-fg\">(</span>df_GCP_test_agg<span class=\"ansi-blue-fg\">[</span>df_GCP_test_agg<span class=\"ansi-blue-fg\">[</span><span class=\"ansi-blue-fg\">&#39;usage_start_time_LosAngeles&#39;</span><span class=\"ansi-blue-fg\">]</span><span class=\"ansi-blue-fg\">.</span>astype<span class=\"ansi-blue-fg\">(</span>str<span class=\"ansi-blue-fg\">)</span><span class=\"ansi-blue-fg\">.</span>str<span class=\"ansi-blue-fg\">.</span>startswith<span class=\"ansi-blue-fg\">(</span>STR_YEARMONTH<span class=\"ansi-blue-fg\">)</span><span class=\"ansi-blue-fg\">]</span><span class=\"ansi-blue-fg\">[</span><span class=\"ansi-blue-fg\">&#39;total_after_discounts_taxes_credits&#39;</span><span class=\"ansi-blue-fg\">]</span><span class=\"ansi-blue-fg\">.</span>sum<span class=\"ansi-blue-fg\">(</span><span class=\"ansi-blue-fg\">)</span><span class=\"ansi-blue-fg\">)</span>\n\n<span class=\"ansi-green-fg\">/databricks/python/lib/python3.8/site-packages/pandas/core/frame.py</span> in <span class=\"ansi-cyan-fg\">__getitem__</span><span class=\"ansi-blue-fg\">(self, key)</span>\n<span class=\"ansi-green-intense-fg ansi-bold\">   3022</span>             <span class=\"ansi-green-fg\">if</span> self<span class=\"ansi-blue-fg\">.</span>columns<span class=\"ansi-blue-fg\">.</span>nlevels <span class=\"ansi-blue-fg\">&gt;</span> <span class=\"ansi-cyan-fg\">1</span><span class=\"ansi-blue-fg\">:</span>\n<span class=\"ansi-green-intense-fg ansi-bold\">   3023</span>                 <span class=\"ansi-green-fg\">return</span> self<span class=\"ansi-blue-fg\">.</span>_getitem_multilevel<span class=\"ansi-blue-fg\">(</span>key<span class=\"ansi-blue-fg\">)</span>\n<span class=\"ansi-green-fg\">-&gt; 3024</span><span class=\"ansi-red-fg\">             </span>indexer <span class=\"ansi-blue-fg\">=</span> self<span class=\"ansi-blue-fg\">.</span>columns<span class=\"ansi-blue-fg\">.</span>get_loc<span class=\"ansi-blue-fg\">(</span>key<span class=\"ansi-blue-fg\">)</span>\n<span class=\"ansi-green-intense-fg ansi-bold\">   3025</span>             <span class=\"ansi-green-fg\">if</span> is_integer<span class=\"ansi-blue-fg\">(</span>indexer<span class=\"ansi-blue-fg\">)</span><span class=\"ansi-blue-fg\">:</span>\n<span class=\"ansi-green-intense-fg ansi-bold\">   3026</span>                 indexer <span class=\"ansi-blue-fg\">=</span> <span class=\"ansi-blue-fg\">[</span>indexer<span class=\"ansi-blue-fg\">]</span>\n\n<span class=\"ansi-green-fg\">/databricks/python/lib/python3.8/site-packages/pandas/core/indexes/base.py</span> in <span class=\"ansi-cyan-fg\">get_loc</span><span class=\"ansi-blue-fg\">(self, key, method, tolerance)</span>\n<span class=\"ansi-green-intense-fg ansi-bold\">   3080</span>                 <span class=\"ansi-green-fg\">return</span> self<span class=\"ansi-blue-fg\">.</span>_engine<span class=\"ansi-blue-fg\">.</span>get_loc<span class=\"ansi-blue-fg\">(</span>casted_key<span class=\"ansi-blue-fg\">)</span>\n<span class=\"ansi-green-intense-fg ansi-bold\">   3081</span>             <span class=\"ansi-green-fg\">except</span> KeyError <span class=\"ansi-green-fg\">as</span> err<span class=\"ansi-blue-fg\">:</span>\n<span class=\"ansi-green-fg\">-&gt; 3082</span><span class=\"ansi-red-fg\">                 </span><span class=\"ansi-green-fg\">raise</span> KeyError<span class=\"ansi-blue-fg\">(</span>key<span class=\"ansi-blue-fg\">)</span> <span class=\"ansi-green-fg\">from</span> err\n<span class=\"ansi-green-intense-fg ansi-bold\">   3083</span> \n<span class=\"ansi-green-intense-fg ansi-bold\">   3084</span>         <span class=\"ansi-green-fg\">if</span> tolerance <span class=\"ansi-green-fg\">is</span> <span class=\"ansi-green-fg\">not</span> <span class=\"ansi-green-fg\">None</span><span class=\"ansi-blue-fg\">:</span>\n\n<span class=\"ansi-red-fg\">KeyError</span>: &#39;total_after_discounts_taxes_credits&#39;</div>",
       "errorSummary": "<span class=\"ansi-red-fg\">KeyError</span>: &#39;total_after_discounts_taxes_credits&#39;",
       "errorTraceType": "html",
       "metadata": {},
       "type": "ipynbError"
      }
     },
     "output_type": "display_data"
    }
   ],
   "source": [
    "print(df_GCP_test_agg[df_GCP_test_agg['usage_start_time_LosAngeles'].astype(str).str.startswith(STR_YEARMONTH)]['total_processing_after_discounts'].sum())\n",
    "print(df_GCP_test[df_GCP_test['usage_start_time_LosAngeles'].astype(str).str.startswith(STR_YEARMONTH)]['total_processing_after_discount'].sum())\n",
    "print(df_GCP_test_agg[df_GCP_test_agg['usage_start_time_LosAngeles'].astype(str).str.startswith(STR_YEARMONTH)]['total_after_discounts_taxes_credits'].sum())"
   ]
  },
  {
   "cell_type": "code",
   "execution_count": 0,
   "metadata": {
    "application/vnd.databricks.v1+cell": {
     "cellMetadata": {
      "byteLimit": 2048000,
      "rowLimit": 10000
     },
     "inputWidgets": {},
     "nuid": "63e9bc31-23cc-436b-98ed-ae78a278773b",
     "showTitle": false,
     "title": ""
    }
   },
   "outputs": [
    {
     "output_type": "display_data",
     "data": {
      "text/html": [
       "<style scoped>\n",
       "  .ansiout {\n",
       "    display: block;\n",
       "    unicode-bidi: embed;\n",
       "    white-space: pre-wrap;\n",
       "    word-wrap: break-word;\n",
       "    word-break: break-all;\n",
       "    font-family: \"Source Code Pro\", \"Menlo\", monospace;;\n",
       "    font-size: 13px;\n",
       "    color: #555;\n",
       "    margin-left: 4px;\n",
       "    line-height: 19px;\n",
       "  }\n",
       "</style>\n",
       "<div class=\"ansiout\"></div>"
      ]
     },
     "metadata": {
      "application/vnd.databricks.v1+output": {
       "addedWidgets": {},
       "arguments": {},
       "data": "<div class=\"ansiout\"></div>",
       "datasetInfos": [],
       "metadata": {},
       "removedWidgets": [],
       "type": "html"
      }
     },
     "output_type": "display_data"
    }
   ],
   "source": [
    "Month_cost_assign = df_GCP_test_agg[df_GCP_test_agg['usage_start_time_LosAngeles'].astype(str).str.startswith(STR_YEARMONTH)]['total_processing_cost'].sum()/df_agg_metadata_full_yt1[df_agg_metadata_full_yt1['datetime_LosAngeles'].astype(str).str.startswith(STR_YEARMONTH)]['event_count_h'].sum()\n",
    "Month_cost_after_discount_assign = df_GCP_test_agg[df_GCP_test_agg['usage_start_time_LosAngeles'].astype(str).str.startswith(STR_YEARMONTH)]['total_processing_after_discounts'].sum()/df_agg_metadata_full_yt1[df_agg_metadata_full_yt1['datetime_LosAngeles'].astype(str).str.startswith(STR_YEARMONTH)]['event_count_h'].sum()"
   ]
  },
  {
   "cell_type": "code",
   "execution_count": 0,
   "metadata": {
    "application/vnd.databricks.v1+cell": {
     "cellMetadata": {
      "byteLimit": 2048000,
      "rowLimit": 10000
     },
     "inputWidgets": {},
     "nuid": "13173566-682f-4dfe-a870-089c9d04c43b",
     "showTitle": false,
     "title": ""
    }
   },
   "outputs": [
    {
     "output_type": "display_data",
     "data": {
      "text/html": [
       "<style scoped>\n",
       "  .ansiout {\n",
       "    display: block;\n",
       "    unicode-bidi: embed;\n",
       "    white-space: pre-wrap;\n",
       "    word-wrap: break-word;\n",
       "    word-break: break-all;\n",
       "    font-family: \"Source Code Pro\", \"Menlo\", monospace;;\n",
       "    font-size: 13px;\n",
       "    color: #555;\n",
       "    margin-left: 4px;\n",
       "    line-height: 19px;\n",
       "  }\n",
       "</style>\n",
       "<div class=\"ansiout\">2.1022592907969313e-05\n",
       "</div>"
      ]
     },
     "metadata": {
      "application/vnd.databricks.v1+output": {
       "addedWidgets": {},
       "arguments": {},
       "data": "<div class=\"ansiout\">2.1022592907969313e-05\n</div>",
       "datasetInfos": [],
       "metadata": {},
       "removedWidgets": [],
       "type": "html"
      }
     },
     "output_type": "display_data"
    }
   ],
   "source": [
    "print(Month_cost_after_discount_assign)"
   ]
  },
  {
   "cell_type": "code",
   "execution_count": 0,
   "metadata": {
    "application/vnd.databricks.v1+cell": {
     "cellMetadata": {
      "byteLimit": 2048000,
      "rowLimit": 10000
     },
     "inputWidgets": {},
     "nuid": "3a99bff6-09b3-4aea-ac90-dcdc76f3f5e9",
     "showTitle": false,
     "title": ""
    }
   },
   "outputs": [
    {
     "output_type": "display_data",
     "data": {
      "text/html": [
       "<style scoped>\n",
       "  .ansiout {\n",
       "    display: block;\n",
       "    unicode-bidi: embed;\n",
       "    white-space: pre-wrap;\n",
       "    word-wrap: break-word;\n",
       "    word-break: break-all;\n",
       "    font-family: \"Source Code Pro\", \"Menlo\", monospace;;\n",
       "    font-size: 13px;\n",
       "    color: #555;\n",
       "    margin-left: 4px;\n",
       "    line-height: 19px;\n",
       "  }\n",
       "</style>\n",
       "<div class=\"ansiout\"></div>"
      ]
     },
     "metadata": {
      "application/vnd.databricks.v1+output": {
       "addedWidgets": {},
       "arguments": {},
       "data": "<div class=\"ansiout\"></div>",
       "datasetInfos": [],
       "metadata": {},
       "removedWidgets": [],
       "type": "html"
      }
     },
     "output_type": "display_data"
    }
   ],
   "source": [
    "df_agg_metadata_full_yt1.loc[df_agg_metadata_full_yt1['datetime_LosAngeles'].astype(str).str.startswith(STR_YEARMONTH),'Cost_assign'] = df_agg_metadata_full_yt1[df_agg_metadata_full_yt1['datetime_LosAngeles'].astype(str).str.startswith(STR_YEARMONTH)]['event_count_h']*Month_cost_assign\n",
    "df_agg_metadata_full_yt1.loc[df_agg_metadata_full_yt1['datetime_LosAngeles'].astype(str).str.startswith(STR_YEARMONTH),'Cost_assign_after_discount'] = df_agg_metadata_full_yt1[df_agg_metadata_full_yt1['datetime_LosAngeles'].astype(str).str.startswith(STR_YEARMONTH)]['event_count_h']*Month_cost_after_discount_assign"
   ]
  },
  {
   "cell_type": "code",
   "execution_count": 0,
   "metadata": {
    "application/vnd.databricks.v1+cell": {
     "cellMetadata": {
      "byteLimit": 2048000,
      "rowLimit": 10000
     },
     "inputWidgets": {},
     "nuid": "9a2fe28f-f548-4012-ba81-16b5d0882462",
     "showTitle": false,
     "title": ""
    }
   },
   "outputs": [
    {
     "output_type": "display_data",
     "data": {
      "text/html": [
       "<style scoped>\n",
       "  .ansiout {\n",
       "    display: block;\n",
       "    unicode-bidi: embed;\n",
       "    white-space: pre-wrap;\n",
       "    word-wrap: break-word;\n",
       "    word-break: break-all;\n",
       "    font-family: \"Source Code Pro\", \"Menlo\", monospace;;\n",
       "    font-size: 13px;\n",
       "    color: #555;\n",
       "    margin-left: 4px;\n",
       "    line-height: 19px;\n",
       "  }\n",
       "</style>\n",
       "<div class=\"ansiout\"></div>"
      ]
     },
     "metadata": {
      "application/vnd.databricks.v1+output": {
       "addedWidgets": {},
       "arguments": {},
       "data": "<div class=\"ansiout\"></div>",
       "datasetInfos": [],
       "metadata": {},
       "removedWidgets": [],
       "type": "html"
      }
     },
     "output_type": "display_data"
    }
   ],
   "source": [
    "df_agg_metadata_full_yt1.loc[:,'environment']='YT1'"
   ]
  },
  {
   "cell_type": "code",
   "execution_count": 0,
   "metadata": {
    "application/vnd.databricks.v1+cell": {
     "cellMetadata": {
      "byteLimit": 2048000,
      "rowLimit": 10000
     },
     "inputWidgets": {},
     "nuid": "32f5a65f-0278-4421-a4da-6e25c58baf2f",
     "showTitle": false,
     "title": ""
    }
   },
   "outputs": [
    {
     "output_type": "display_data",
     "data": {
      "text/html": [
       "<style scoped>\n",
       "  .ansiout {\n",
       "    display: block;\n",
       "    unicode-bidi: embed;\n",
       "    white-space: pre-wrap;\n",
       "    word-wrap: break-word;\n",
       "    word-break: break-all;\n",
       "    font-family: \"Source Code Pro\", \"Menlo\", monospace;;\n",
       "    font-size: 13px;\n",
       "    color: #555;\n",
       "    margin-left: 4px;\n",
       "    line-height: 19px;\n",
       "  }\n",
       "</style>\n",
       "<div class=\"ansiout\"></div>"
      ]
     },
     "metadata": {
      "application/vnd.databricks.v1+output": {
       "addedWidgets": {},
       "arguments": {},
       "data": "<div class=\"ansiout\"></div>",
       "datasetInfos": [],
       "metadata": {},
       "removedWidgets": [],
       "type": "html"
      }
     },
     "output_type": "display_data"
    }
   ],
   "source": [
    "df_agg_metadata_full_yt1_v2 = df_agg_metadata_full_yt1[df_agg_metadata_full_yt1['Cost_assign'].notnull()]"
   ]
  },
  {
   "cell_type": "code",
   "execution_count": 0,
   "metadata": {
    "application/vnd.databricks.v1+cell": {
     "cellMetadata": {
      "byteLimit": 2048000,
      "rowLimit": 10000
     },
     "inputWidgets": {},
     "nuid": "a932104d-717b-48bd-83af-524ed20e2913",
     "showTitle": false,
     "title": ""
    }
   },
   "outputs": [
    {
     "output_type": "display_data",
     "data": {
      "text/html": [
       "<style scoped>\n",
       "  .ansiout {\n",
       "    display: block;\n",
       "    unicode-bidi: embed;\n",
       "    white-space: pre-wrap;\n",
       "    word-wrap: break-word;\n",
       "    word-break: break-all;\n",
       "    font-family: \"Source Code Pro\", \"Menlo\", monospace;;\n",
       "    font-size: 13px;\n",
       "    color: #555;\n",
       "    margin-left: 4px;\n",
       "    line-height: 19px;\n",
       "  }\n",
       "</style>\n",
       "<div class=\"ansiout\">Out[36]: 27556.016508</div>"
      ]
     },
     "metadata": {
      "application/vnd.databricks.v1+output": {
       "addedWidgets": {},
       "arguments": {},
       "data": "<div class=\"ansiout\">Out[36]: 27556.016508</div>",
       "datasetInfos": [],
       "metadata": {},
       "removedWidgets": [],
       "type": "html"
      }
     },
     "output_type": "display_data"
    }
   ],
   "source": [
    "df_agg_metadata_full_yt1_v2['Cost_assign'].sum()"
   ]
  },
  {
   "cell_type": "code",
   "execution_count": 0,
   "metadata": {
    "application/vnd.databricks.v1+cell": {
     "cellMetadata": {
      "byteLimit": 2048000,
      "rowLimit": 10000
     },
     "inputWidgets": {},
     "nuid": "bdb74a0f-35dd-4631-8f11-fa7fedb4c94b",
     "showTitle": false,
     "title": ""
    }
   },
   "outputs": [
    {
     "output_type": "display_data",
     "data": {
      "text/html": [
       "<style scoped>\n",
       "  .ansiout {\n",
       "    display: block;\n",
       "    unicode-bidi: embed;\n",
       "    white-space: pre-wrap;\n",
       "    word-wrap: break-word;\n",
       "    word-break: break-all;\n",
       "    font-family: \"Source Code Pro\", \"Menlo\", monospace;;\n",
       "    font-size: 13px;\n",
       "    color: #555;\n",
       "    margin-left: 4px;\n",
       "    line-height: 19px;\n",
       "  }\n",
       "</style>\n",
       "<div class=\"ansiout\">Out[37]: 23779.394392</div>"
      ]
     },
     "metadata": {
      "application/vnd.databricks.v1+output": {
       "addedWidgets": {},
       "arguments": {},
       "data": "<div class=\"ansiout\">Out[37]: 23779.394392</div>",
       "datasetInfos": [],
       "metadata": {},
       "removedWidgets": [],
       "type": "html"
      }
     },
     "output_type": "display_data"
    }
   ],
   "source": [
    "df_agg_metadata_full_yt1_v2['Cost_assign_after_discount'].sum()"
   ]
  },
  {
   "cell_type": "code",
   "execution_count": 0,
   "metadata": {
    "application/vnd.databricks.v1+cell": {
     "cellMetadata": {
      "byteLimit": 2048000,
      "rowLimit": 10000
     },
     "inputWidgets": {},
     "nuid": "5ef1b14d-289e-4d63-bd42-95693535e02c",
     "showTitle": false,
     "title": ""
    }
   },
   "outputs": [
    {
     "output_type": "display_data",
     "data": {
      "text/html": [
       "<style scoped>\n",
       "  .ansiout {\n",
       "    display: block;\n",
       "    unicode-bidi: embed;\n",
       "    white-space: pre-wrap;\n",
       "    word-wrap: break-word;\n",
       "    word-break: break-all;\n",
       "    font-family: \"Source Code Pro\", \"Menlo\", monospace;;\n",
       "    font-size: 13px;\n",
       "    color: #555;\n",
       "    margin-left: 4px;\n",
       "    line-height: 19px;\n",
       "  }\n",
       "</style>\n",
       "<div class=\"ansiout\"></div>"
      ]
     },
     "metadata": {
      "application/vnd.databricks.v1+output": {
       "addedWidgets": {},
       "arguments": {},
       "data": "<div class=\"ansiout\"></div>",
       "datasetInfos": [],
       "metadata": {},
       "removedWidgets": [],
       "type": "html"
      }
     },
     "output_type": "display_data"
    }
   ],
   "source": [
    "table = \"saas-analytics-io.processed.process_cost_assign_v2\"\n",
    "df_agg_metadata_full_yt1_v2[['datetime_h','tenantCode','thingType'\n",
    "                             ,'event_count_h','Cost_assign',\n",
    "                             'Cost_assign_after_discount','environment','datetime_h_LA']].to_gbq(table, table_schema=[\n",
    "                               {'name': 'datetime_h','type': 'TIMESTAMP'},\n",
    "                               {'name': 'tenantCode','type': 'STRING'},\n",
    "                               {'name': 'thingType','type': 'STRING'},\n",
    "                               {'name': 'event_count_h','type': 'INTEGER'},\n",
    "                               {'name': 'Cost_assign','type': 'FLOAT'},\n",
    "                               {'name': 'Cost_assign_after_discount','type': 'FLOAT'},\n",
    "                               {'name': 'environment','type': 'STRING'},\n",
    "                               {'name': 'datetime_h_LA','type': 'DATETIME'},\n",
    "                               ]\n",
    "                    , if_exists='append')\n"
   ]
  },
  {
   "cell_type": "code",
   "execution_count": 0,
   "metadata": {
    "application/vnd.databricks.v1+cell": {
     "cellMetadata": {},
     "inputWidgets": {},
     "nuid": "3dfd7d53-3060-49c9-bc27-f3c2d0623fa9",
     "showTitle": false,
     "title": ""
    }
   },
   "outputs": [],
   "source": []
  },
  {
   "cell_type": "code",
   "execution_count": 0,
   "metadata": {
    "application/vnd.databricks.v1+cell": {
     "cellMetadata": {},
     "inputWidgets": {},
     "nuid": "74a96d17-f673-48c3-873f-6c2e8c8005af",
     "showTitle": false,
     "title": ""
    }
   },
   "outputs": [],
   "source": []
  }
 ],
 "metadata": {
  "application/vnd.databricks.v1+notebook": {
   "dashboards": [],
   "language": "python",
   "notebookMetadata": {
    "pythonIndentUnit": 2
   },
   "notebookName": "Monthly Cost Allocation",
   "widgets": {}
  }
 },
 "nbformat": 4,
 "nbformat_minor": 0
}
