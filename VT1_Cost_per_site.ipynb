{
 "cells": [
  {
   "cell_type": "code",
   "execution_count": 0,
   "metadata": {
    "application/vnd.databricks.v1+cell": {
     "cellMetadata": {
      "byteLimit": 2048000,
      "rowLimit": 10000
     },
     "inputWidgets": {},
     "nuid": "521c5955-dc3d-45a8-80f0-bd293af440b1",
     "showTitle": false,
     "title": ""
    }
   },
   "outputs": [
    {
     "output_type": "display_data",
     "data": {
      "text/html": [
       "<style scoped>\n",
       "  .ansiout {\n",
       "    display: block;\n",
       "    unicode-bidi: embed;\n",
       "    white-space: pre-wrap;\n",
       "    word-wrap: break-word;\n",
       "    word-break: break-all;\n",
       "    font-family: \"Source Code Pro\", \"Menlo\", monospace;;\n",
       "    font-size: 13px;\n",
       "    color: #555;\n",
       "    margin-left: 4px;\n",
       "    line-height: 19px;\n",
       "  }\n",
       "</style>\n",
       "<div class=\"ansiout\">Requirement already satisfied: pandas-gbq in /databricks/python3/lib/python3.8/site-packages (0.15.0)\r\n",
       "Requirement already satisfied: google-auth in /databricks/python3/lib/python3.8/site-packages (from pandas-gbq) (2.15.0)\r\n",
       "Requirement already satisfied: google-cloud-bigquery[bqstorage,pandas]!=2.4.*,&lt;3.0.0dev,&gt;=1.11.1 in /databricks/python3/lib/python3.8/site-packages (from pandas-gbq) (2.34.4)\r\n",
       "Requirement already satisfied: google-auth-oauthlib in /databricks/python3/lib/python3.8/site-packages (from pandas-gbq) (0.8.0)\r\n",
       "Requirement already satisfied: setuptools in /usr/local/lib/python3.8/dist-packages (from pandas-gbq) (52.0.0)\r\n",
       "Requirement already satisfied: pydata-google-auth in /databricks/python3/lib/python3.8/site-packages (from pandas-gbq) (1.4.0)\r\n",
       "Requirement already satisfied: pandas&gt;=0.23.2 in /databricks/python3/lib/python3.8/site-packages (from pandas-gbq) (1.2.4)\r\n",
       "Requirement already satisfied: packaging&lt;22.0dev,&gt;=14.3 in /databricks/python3/lib/python3.8/site-packages (from google-cloud-bigquery[bqstorage,pandas]!=2.4.*,&lt;3.0.0dev,&gt;=1.11.1-&gt;pandas-gbq) (20.9)\r\n",
       "Requirement already satisfied: requests&lt;3.0.0dev,&gt;=2.18.0 in /databricks/python3/lib/python3.8/site-packages (from google-cloud-bigquery[bqstorage,pandas]!=2.4.*,&lt;3.0.0dev,&gt;=1.11.1-&gt;pandas-gbq) (2.25.1)\r\n",
       "Requirement already satisfied: protobuf&lt;4.0.0dev,&gt;=3.12.0 in /databricks/python3/lib/python3.8/site-packages (from google-cloud-bigquery[bqstorage,pandas]!=2.4.*,&lt;3.0.0dev,&gt;=1.11.1-&gt;pandas-gbq) (3.20.3)\r\n",
       "Requirement already satisfied: google-cloud-core&lt;3.0.0dev,&gt;=1.4.1 in /databricks/python3/lib/python3.8/site-packages (from google-cloud-bigquery[bqstorage,pandas]!=2.4.*,&lt;3.0.0dev,&gt;=1.11.1-&gt;pandas-gbq) (2.3.2)\r\n",
       "Requirement already satisfied: grpcio&lt;2.0dev,&gt;=1.38.1 in /databricks/python3/lib/python3.8/site-packages (from google-cloud-bigquery[bqstorage,pandas]!=2.4.*,&lt;3.0.0dev,&gt;=1.11.1-&gt;pandas-gbq) (1.51.1)\r\n",
       "Requirement already satisfied: python-dateutil&lt;3.0dev,&gt;=2.7.2 in /databricks/python3/lib/python3.8/site-packages (from google-cloud-bigquery[bqstorage,pandas]!=2.4.*,&lt;3.0.0dev,&gt;=1.11.1-&gt;pandas-gbq) (2.8.1)\r\n",
       "Requirement already satisfied: proto-plus&lt;2.0.0dev,&gt;=1.15.0 in /databricks/python3/lib/python3.8/site-packages (from google-cloud-bigquery[bqstorage,pandas]!=2.4.*,&lt;3.0.0dev,&gt;=1.11.1-&gt;pandas-gbq) (1.22.1)\r\n",
       "Requirement already satisfied: google-resumable-media&lt;3.0dev,&gt;=0.6.0 in /databricks/python3/lib/python3.8/site-packages (from google-cloud-bigquery[bqstorage,pandas]!=2.4.*,&lt;3.0.0dev,&gt;=1.11.1-&gt;pandas-gbq) (2.4.0)\r\n",
       "Requirement already satisfied: google-api-core[grpc]!=2.0.*,!=2.1.*,!=2.2.*,!=2.3.0,&lt;3.0.0dev,&gt;=1.31.5 in /databricks/python3/lib/python3.8/site-packages (from google-cloud-bigquery[bqstorage,pandas]!=2.4.*,&lt;3.0.0dev,&gt;=1.11.1-&gt;pandas-gbq) (2.11.0)\r\n",
       "Requirement already satisfied: pyarrow&lt;8.0dev,&gt;=3.0.0 in /databricks/python3/lib/python3.8/site-packages (from google-cloud-bigquery[bqstorage,pandas]!=2.4.*,&lt;3.0.0dev,&gt;=1.11.1-&gt;pandas-gbq) (4.0.0)\r\n",
       "Requirement already satisfied: google-cloud-bigquery-storage&lt;3.0.0dev,&gt;=2.0.0 in /databricks/python3/lib/python3.8/site-packages (from google-cloud-bigquery[bqstorage,pandas]!=2.4.*,&lt;3.0.0dev,&gt;=1.11.1-&gt;pandas-gbq) (2.17.0)\r\n",
       "Requirement already satisfied: googleapis-common-protos&lt;2.0dev,&gt;=1.56.2 in /databricks/python3/lib/python3.8/site-packages (from google-api-core[grpc]!=2.0.*,!=2.1.*,!=2.2.*,!=2.3.0,&lt;3.0.0dev,&gt;=1.31.5-&gt;google-cloud-bigquery[bqstorage,pandas]!=2.4.*,&lt;3.0.0dev,&gt;=1.11.1-&gt;pandas-gbq) (1.57.0)\r\n",
       "Requirement already satisfied: grpcio-status&lt;2.0dev,&gt;=1.33.2 in /databricks/python3/lib/python3.8/site-packages (from google-api-core[grpc]!=2.0.*,!=2.1.*,!=2.2.*,!=2.3.0,&lt;3.0.0dev,&gt;=1.31.5-&gt;google-cloud-bigquery[bqstorage,pandas]!=2.4.*,&lt;3.0.0dev,&gt;=1.11.1-&gt;pandas-gbq) (1.48.2)\r\n",
       "Requirement already satisfied: six&gt;=1.9.0 in /databricks/python3/lib/python3.8/site-packages (from google-auth-&gt;pandas-gbq) (1.15.0)\r\n",
       "Requirement already satisfied: rsa&lt;5,&gt;=3.1.4 in /databricks/python3/lib/python3.8/site-packages (from google-auth-&gt;pandas-gbq) (4.9)\r\n",
       "Requirement already satisfied: cachetools&lt;6.0,&gt;=2.0.0 in /databricks/python3/lib/python3.8/site-packages (from google-auth-&gt;pandas-gbq) (5.2.0)\r\n",
       "Requirement already satisfied: pyasn1-modules&gt;=0.2.1 in /databricks/python3/lib/python3.8/site-packages (from google-auth-&gt;pandas-gbq) (0.2.8)\r\n",
       "Requirement already satisfied: google-crc32c&lt;2.0dev,&gt;=1.0 in /databricks/python3/lib/python3.8/site-packages (from google-resumable-media&lt;3.0dev,&gt;=0.6.0-&gt;google-cloud-bigquery[bqstorage,pandas]!=2.4.*,&lt;3.0.0dev,&gt;=1.11.1-&gt;pandas-gbq) (1.5.0)\r\n",
       "Requirement already satisfied: pyparsing&gt;=2.0.2 in /databricks/python3/lib/python3.8/site-packages (from packaging&lt;22.0dev,&gt;=14.3-&gt;google-cloud-bigquery[bqstorage,pandas]!=2.4.*,&lt;3.0.0dev,&gt;=1.11.1-&gt;pandas-gbq) (2.4.7)\r\n",
       "Requirement already satisfied: pytz&gt;=2017.3 in /databricks/python3/lib/python3.8/site-packages (from pandas&gt;=0.23.2-&gt;pandas-gbq) (2020.5)\r\n",
       "Requirement already satisfied: numpy&gt;=1.16.5 in /databricks/python3/lib/python3.8/site-packages (from pandas&gt;=0.23.2-&gt;pandas-gbq) (1.19.2)\r\n",
       "Requirement already satisfied: pyasn1&lt;0.5.0,&gt;=0.4.6 in /databricks/python3/lib/python3.8/site-packages (from pyasn1-modules&gt;=0.2.1-&gt;google-auth-&gt;pandas-gbq) (0.4.8)\r\n",
       "Requirement already satisfied: urllib3&lt;1.27,&gt;=1.21.1 in /databricks/python3/lib/python3.8/site-packages (from requests&lt;3.0.0dev,&gt;=2.18.0-&gt;google-cloud-bigquery[bqstorage,pandas]!=2.4.*,&lt;3.0.0dev,&gt;=1.11.1-&gt;pandas-gbq) (1.25.11)\r\n",
       "Requirement already satisfied: idna&lt;3,&gt;=2.5 in /databricks/python3/lib/python3.8/site-packages (from requests&lt;3.0.0dev,&gt;=2.18.0-&gt;google-cloud-bigquery[bqstorage,pandas]!=2.4.*,&lt;3.0.0dev,&gt;=1.11.1-&gt;pandas-gbq) (2.10)\r\n",
       "Requirement already satisfied: certifi&gt;=2017.4.17 in /databricks/python3/lib/python3.8/site-packages (from requests&lt;3.0.0dev,&gt;=2.18.0-&gt;google-cloud-bigquery[bqstorage,pandas]!=2.4.*,&lt;3.0.0dev,&gt;=1.11.1-&gt;pandas-gbq) (2020.12.5)\r\n",
       "Requirement already satisfied: chardet&lt;5,&gt;=3.0.2 in /databricks/python3/lib/python3.8/site-packages (from requests&lt;3.0.0dev,&gt;=2.18.0-&gt;google-cloud-bigquery[bqstorage,pandas]!=2.4.*,&lt;3.0.0dev,&gt;=1.11.1-&gt;pandas-gbq) (4.0.0)\r\n",
       "Requirement already satisfied: requests-oauthlib&gt;=0.7.0 in /databricks/python3/lib/python3.8/site-packages (from google-auth-oauthlib-&gt;pandas-gbq) (1.3.1)\r\n",
       "Requirement already satisfied: oauthlib&gt;=3.0.0 in /databricks/python3/lib/python3.8/site-packages (from requests-oauthlib&gt;=0.7.0-&gt;google-auth-oauthlib-&gt;pandas-gbq) (3.2.2)\r\n",
       "<span class=\"ansi-yellow-fg\">WARNING: You are using pip version 21.0.1; however, version 23.1.2 is available.\r\n",
       "You should consider upgrading via the &#39;/databricks/python3/bin/python -m pip install --upgrade pip&#39; command.</span>\r\n",
       "</div>"
      ]
     },
     "metadata": {
      "application/vnd.databricks.v1+output": {
       "addedWidgets": {},
       "arguments": {},
       "data": "<div class=\"ansiout\">Requirement already satisfied: pandas-gbq in /databricks/python3/lib/python3.8/site-packages (0.15.0)\r\nRequirement already satisfied: google-auth in /databricks/python3/lib/python3.8/site-packages (from pandas-gbq) (2.15.0)\r\nRequirement already satisfied: google-cloud-bigquery[bqstorage,pandas]!=2.4.*,&lt;3.0.0dev,&gt;=1.11.1 in /databricks/python3/lib/python3.8/site-packages (from pandas-gbq) (2.34.4)\r\nRequirement already satisfied: google-auth-oauthlib in /databricks/python3/lib/python3.8/site-packages (from pandas-gbq) (0.8.0)\r\nRequirement already satisfied: setuptools in /usr/local/lib/python3.8/dist-packages (from pandas-gbq) (52.0.0)\r\nRequirement already satisfied: pydata-google-auth in /databricks/python3/lib/python3.8/site-packages (from pandas-gbq) (1.4.0)\r\nRequirement already satisfied: pandas&gt;=0.23.2 in /databricks/python3/lib/python3.8/site-packages (from pandas-gbq) (1.2.4)\r\nRequirement already satisfied: packaging&lt;22.0dev,&gt;=14.3 in /databricks/python3/lib/python3.8/site-packages (from google-cloud-bigquery[bqstorage,pandas]!=2.4.*,&lt;3.0.0dev,&gt;=1.11.1-&gt;pandas-gbq) (20.9)\r\nRequirement already satisfied: requests&lt;3.0.0dev,&gt;=2.18.0 in /databricks/python3/lib/python3.8/site-packages (from google-cloud-bigquery[bqstorage,pandas]!=2.4.*,&lt;3.0.0dev,&gt;=1.11.1-&gt;pandas-gbq) (2.25.1)\r\nRequirement already satisfied: protobuf&lt;4.0.0dev,&gt;=3.12.0 in /databricks/python3/lib/python3.8/site-packages (from google-cloud-bigquery[bqstorage,pandas]!=2.4.*,&lt;3.0.0dev,&gt;=1.11.1-&gt;pandas-gbq) (3.20.3)\r\nRequirement already satisfied: google-cloud-core&lt;3.0.0dev,&gt;=1.4.1 in /databricks/python3/lib/python3.8/site-packages (from google-cloud-bigquery[bqstorage,pandas]!=2.4.*,&lt;3.0.0dev,&gt;=1.11.1-&gt;pandas-gbq) (2.3.2)\r\nRequirement already satisfied: grpcio&lt;2.0dev,&gt;=1.38.1 in /databricks/python3/lib/python3.8/site-packages (from google-cloud-bigquery[bqstorage,pandas]!=2.4.*,&lt;3.0.0dev,&gt;=1.11.1-&gt;pandas-gbq) (1.51.1)\r\nRequirement already satisfied: python-dateutil&lt;3.0dev,&gt;=2.7.2 in /databricks/python3/lib/python3.8/site-packages (from google-cloud-bigquery[bqstorage,pandas]!=2.4.*,&lt;3.0.0dev,&gt;=1.11.1-&gt;pandas-gbq) (2.8.1)\r\nRequirement already satisfied: proto-plus&lt;2.0.0dev,&gt;=1.15.0 in /databricks/python3/lib/python3.8/site-packages (from google-cloud-bigquery[bqstorage,pandas]!=2.4.*,&lt;3.0.0dev,&gt;=1.11.1-&gt;pandas-gbq) (1.22.1)\r\nRequirement already satisfied: google-resumable-media&lt;3.0dev,&gt;=0.6.0 in /databricks/python3/lib/python3.8/site-packages (from google-cloud-bigquery[bqstorage,pandas]!=2.4.*,&lt;3.0.0dev,&gt;=1.11.1-&gt;pandas-gbq) (2.4.0)\r\nRequirement already satisfied: google-api-core[grpc]!=2.0.*,!=2.1.*,!=2.2.*,!=2.3.0,&lt;3.0.0dev,&gt;=1.31.5 in /databricks/python3/lib/python3.8/site-packages (from google-cloud-bigquery[bqstorage,pandas]!=2.4.*,&lt;3.0.0dev,&gt;=1.11.1-&gt;pandas-gbq) (2.11.0)\r\nRequirement already satisfied: pyarrow&lt;8.0dev,&gt;=3.0.0 in /databricks/python3/lib/python3.8/site-packages (from google-cloud-bigquery[bqstorage,pandas]!=2.4.*,&lt;3.0.0dev,&gt;=1.11.1-&gt;pandas-gbq) (4.0.0)\r\nRequirement already satisfied: google-cloud-bigquery-storage&lt;3.0.0dev,&gt;=2.0.0 in /databricks/python3/lib/python3.8/site-packages (from google-cloud-bigquery[bqstorage,pandas]!=2.4.*,&lt;3.0.0dev,&gt;=1.11.1-&gt;pandas-gbq) (2.17.0)\r\nRequirement already satisfied: googleapis-common-protos&lt;2.0dev,&gt;=1.56.2 in /databricks/python3/lib/python3.8/site-packages (from google-api-core[grpc]!=2.0.*,!=2.1.*,!=2.2.*,!=2.3.0,&lt;3.0.0dev,&gt;=1.31.5-&gt;google-cloud-bigquery[bqstorage,pandas]!=2.4.*,&lt;3.0.0dev,&gt;=1.11.1-&gt;pandas-gbq) (1.57.0)\r\nRequirement already satisfied: grpcio-status&lt;2.0dev,&gt;=1.33.2 in /databricks/python3/lib/python3.8/site-packages (from google-api-core[grpc]!=2.0.*,!=2.1.*,!=2.2.*,!=2.3.0,&lt;3.0.0dev,&gt;=1.31.5-&gt;google-cloud-bigquery[bqstorage,pandas]!=2.4.*,&lt;3.0.0dev,&gt;=1.11.1-&gt;pandas-gbq) (1.48.2)\r\nRequirement already satisfied: six&gt;=1.9.0 in /databricks/python3/lib/python3.8/site-packages (from google-auth-&gt;pandas-gbq) (1.15.0)\r\nRequirement already satisfied: rsa&lt;5,&gt;=3.1.4 in /databricks/python3/lib/python3.8/site-packages (from google-auth-&gt;pandas-gbq) (4.9)\r\nRequirement already satisfied: cachetools&lt;6.0,&gt;=2.0.0 in /databricks/python3/lib/python3.8/site-packages (from google-auth-&gt;pandas-gbq) (5.2.0)\r\nRequirement already satisfied: pyasn1-modules&gt;=0.2.1 in /databricks/python3/lib/python3.8/site-packages (from google-auth-&gt;pandas-gbq) (0.2.8)\r\nRequirement already satisfied: google-crc32c&lt;2.0dev,&gt;=1.0 in /databricks/python3/lib/python3.8/site-packages (from google-resumable-media&lt;3.0dev,&gt;=0.6.0-&gt;google-cloud-bigquery[bqstorage,pandas]!=2.4.*,&lt;3.0.0dev,&gt;=1.11.1-&gt;pandas-gbq) (1.5.0)\r\nRequirement already satisfied: pyparsing&gt;=2.0.2 in /databricks/python3/lib/python3.8/site-packages (from packaging&lt;22.0dev,&gt;=14.3-&gt;google-cloud-bigquery[bqstorage,pandas]!=2.4.*,&lt;3.0.0dev,&gt;=1.11.1-&gt;pandas-gbq) (2.4.7)\r\nRequirement already satisfied: pytz&gt;=2017.3 in /databricks/python3/lib/python3.8/site-packages (from pandas&gt;=0.23.2-&gt;pandas-gbq) (2020.5)\r\nRequirement already satisfied: numpy&gt;=1.16.5 in /databricks/python3/lib/python3.8/site-packages (from pandas&gt;=0.23.2-&gt;pandas-gbq) (1.19.2)\r\nRequirement already satisfied: pyasn1&lt;0.5.0,&gt;=0.4.6 in /databricks/python3/lib/python3.8/site-packages (from pyasn1-modules&gt;=0.2.1-&gt;google-auth-&gt;pandas-gbq) (0.4.8)\r\nRequirement already satisfied: urllib3&lt;1.27,&gt;=1.21.1 in /databricks/python3/lib/python3.8/site-packages (from requests&lt;3.0.0dev,&gt;=2.18.0-&gt;google-cloud-bigquery[bqstorage,pandas]!=2.4.*,&lt;3.0.0dev,&gt;=1.11.1-&gt;pandas-gbq) (1.25.11)\r\nRequirement already satisfied: idna&lt;3,&gt;=2.5 in /databricks/python3/lib/python3.8/site-packages (from requests&lt;3.0.0dev,&gt;=2.18.0-&gt;google-cloud-bigquery[bqstorage,pandas]!=2.4.*,&lt;3.0.0dev,&gt;=1.11.1-&gt;pandas-gbq) (2.10)\r\nRequirement already satisfied: certifi&gt;=2017.4.17 in /databricks/python3/lib/python3.8/site-packages (from requests&lt;3.0.0dev,&gt;=2.18.0-&gt;google-cloud-bigquery[bqstorage,pandas]!=2.4.*,&lt;3.0.0dev,&gt;=1.11.1-&gt;pandas-gbq) (2020.12.5)\r\nRequirement already satisfied: chardet&lt;5,&gt;=3.0.2 in /databricks/python3/lib/python3.8/site-packages (from requests&lt;3.0.0dev,&gt;=2.18.0-&gt;google-cloud-bigquery[bqstorage,pandas]!=2.4.*,&lt;3.0.0dev,&gt;=1.11.1-&gt;pandas-gbq) (4.0.0)\r\nRequirement already satisfied: requests-oauthlib&gt;=0.7.0 in /databricks/python3/lib/python3.8/site-packages (from google-auth-oauthlib-&gt;pandas-gbq) (1.3.1)\r\nRequirement already satisfied: oauthlib&gt;=3.0.0 in /databricks/python3/lib/python3.8/site-packages (from requests-oauthlib&gt;=0.7.0-&gt;google-auth-oauthlib-&gt;pandas-gbq) (3.2.2)\r\n<span class=\"ansi-yellow-fg\">WARNING: You are using pip version 21.0.1; however, version 23.1.2 is available.\r\nYou should consider upgrading via the &#39;/databricks/python3/bin/python -m pip install --upgrade pip&#39; command.</span>\r\n</div>",
       "datasetInfos": [],
       "metadata": {},
       "removedWidgets": [],
       "type": "html"
      }
     },
     "output_type": "display_data"
    }
   ],
   "source": [
    "!pip install pandas-gbq"
   ]
  },
  {
   "cell_type": "code",
   "execution_count": 0,
   "metadata": {
    "application/vnd.databricks.v1+cell": {
     "cellMetadata": {
      "byteLimit": 2048000,
      "rowLimit": 10000
     },
     "inputWidgets": {},
     "nuid": "85e37f53-21b2-4aeb-a860-5fe64713a290",
     "showTitle": false,
     "title": ""
    }
   },
   "outputs": [
    {
     "output_type": "display_data",
     "data": {
      "text/html": [
       "<style scoped>\n",
       "  .ansiout {\n",
       "    display: block;\n",
       "    unicode-bidi: embed;\n",
       "    white-space: pre-wrap;\n",
       "    word-wrap: break-word;\n",
       "    word-break: break-all;\n",
       "    font-family: \"Source Code Pro\", \"Menlo\", monospace;;\n",
       "    font-size: 13px;\n",
       "    color: #555;\n",
       "    margin-left: 4px;\n",
       "    line-height: 19px;\n",
       "  }\n",
       "</style>\n",
       "<div class=\"ansiout\"></div>"
      ]
     },
     "metadata": {
      "application/vnd.databricks.v1+output": {
       "addedWidgets": {},
       "arguments": {},
       "data": "<div class=\"ansiout\"></div>",
       "datasetInfos": [],
       "metadata": {},
       "removedWidgets": [],
       "type": "html"
      }
     },
     "output_type": "display_data"
    }
   ],
   "source": [
    "import pandas_gbq\n",
    "import numpy as np\n",
    "import requests\n",
    "import datetime\n",
    "import pandas as pd\n",
    "import re\n",
    "import json\n",
    "import plotly.express as px\n",
    "from datetime import date, timedelta\n",
    "from datetime import datetime\n",
    "import pyspark as ps\n",
    "from pyspark.sql import SparkSession\n",
    "from pyspark.sql.functions import min, max, avg, sum, count\n",
    "from pyspark.sql.functions import expr,first, last,when, split, col,lit, concat,count,countDistinct,date_format,to_utc_timestamp,from_utc_timestamp,to_timestamp, regexp_replace,concat_ws\n",
    "\n",
    "#client = bigquery.Client(location=\"us-central1\")\n",
    "#print(\"Client creating using default project: {}\".format(client.project))\n",
    "pd.set_option('display.width', 1000)\n",
    "pd.set_option(\"max_colwidth\",10000)\n",
    "pd.set_option(\"max_rows\",1000)\n",
    "pd.set_option(\"max_columns\",100)"
   ]
  },
  {
   "cell_type": "code",
   "execution_count": 0,
   "metadata": {
    "application/vnd.databricks.v1+cell": {
     "cellMetadata": {
      "byteLimit": 2048000,
      "rowLimit": 10000
     },
     "inputWidgets": {},
     "nuid": "9761693e-e5e6-4124-b1e1-779b07c202c8",
     "showTitle": false,
     "title": ""
    }
   },
   "outputs": [
    {
     "output_type": "display_data",
     "data": {
      "text/html": [
       "<style scoped>\n",
       "  .ansiout {\n",
       "    display: block;\n",
       "    unicode-bidi: embed;\n",
       "    white-space: pre-wrap;\n",
       "    word-wrap: break-word;\n",
       "    word-break: break-all;\n",
       "    font-family: \"Source Code Pro\", \"Menlo\", monospace;;\n",
       "    font-size: 13px;\n",
       "    color: #555;\n",
       "    margin-left: 4px;\n",
       "    line-height: 19px;\n",
       "  }\n",
       "</style>\n",
       "<div class=\"ansiout\"></div>"
      ]
     },
     "metadata": {
      "application/vnd.databricks.v1+output": {
       "addedWidgets": {},
       "arguments": {},
       "data": "<div class=\"ansiout\"></div>",
       "datasetInfos": [],
       "metadata": {},
       "removedWidgets": [],
       "type": "html"
      }
     },
     "output_type": "display_data"
    }
   ],
   "source": [
    "df_total = spark.read.format('bigquery').option('project','saas-analytics-io').option('table','processed.vt1_total_cost_table').option(\"filter\", \"\"\"date_LA_2 between '2023-04-01' and '2023-05-01' \"\"\").load()"
   ]
  },
  {
   "cell_type": "code",
   "execution_count": 0,
   "metadata": {
    "application/vnd.databricks.v1+cell": {
     "cellMetadata": {
      "byteLimit": 2048000,
      "rowLimit": 10000
     },
     "inputWidgets": {},
     "nuid": "1b57eefa-760c-4b81-a8db-3913f7f101b4",
     "showTitle": false,
     "title": ""
    }
   },
   "outputs": [
    {
     "output_type": "display_data",
     "data": {
      "text/html": [
       "<style scoped>\n",
       "  .ansiout {\n",
       "    display: block;\n",
       "    unicode-bidi: embed;\n",
       "    white-space: pre-wrap;\n",
       "    word-wrap: break-word;\n",
       "    word-break: break-all;\n",
       "    font-family: \"Source Code Pro\", \"Menlo\", monospace;;\n",
       "    font-size: 13px;\n",
       "    color: #555;\n",
       "    margin-left: 4px;\n",
       "    line-height: 19px;\n",
       "  }\n",
       "</style>\n",
       "<div class=\"ansiout\"></div>"
      ]
     },
     "metadata": {
      "application/vnd.databricks.v1+output": {
       "addedWidgets": {},
       "arguments": {},
       "data": "<div class=\"ansiout\"></div>",
       "datasetInfos": [],
       "metadata": {},
       "removedWidgets": [],
       "type": "html"
      }
     },
     "output_type": "display_data"
    }
   ],
   "source": [
    "df_sites = spark.read.format('bigquery').option('project','saas-analytics-io').option('table','databricks.saas-sites').option(\"filter\", \"\"\"date(timestamp) between '2023-04-01' and '2023-04-30' and environment = 'vt1' \"\"\").load()"
   ]
  },
  {
   "cell_type": "code",
   "execution_count": 0,
   "metadata": {
    "application/vnd.databricks.v1+cell": {
     "cellMetadata": {
      "byteLimit": 2048000,
      "rowLimit": 10000
     },
     "inputWidgets": {},
     "nuid": "5ecf1518-02f2-4c9c-b32a-c56c9f8f17ca",
     "showTitle": false,
     "title": ""
    }
   },
   "outputs": [
    {
     "output_type": "display_data",
     "data": {
      "text/html": [
       "<style scoped>\n",
       "  .table-result-container {\n",
       "    max-height: 300px;\n",
       "    overflow: auto;\n",
       "  }\n",
       "  table, th, td {\n",
       "    border: 1px solid black;\n",
       "    border-collapse: collapse;\n",
       "  }\n",
       "  th, td {\n",
       "    padding: 5px;\n",
       "  }\n",
       "  th {\n",
       "    text-align: left;\n",
       "  }\n",
       "</style><div class='table-result-container'><table class='table-result'><thead style='background-color: white'><tr><th>archived</th><th>code</th><th>treeLevel</th><th>creationTime</th><th>createdBy</th><th>hierarchyCode</th><th>name</th><th>fqnBase</th><th>description</th><th>id</th><th>tenant_parent_code</th><th>creation_time</th><th>tenant_name</th><th>tenant_id</th><th>environment</th><th>timestamp</th></tr></thead><tbody><tr><td>false</td><td>MEM</td><td>3.0</td><td>1.6327459271E12</td><td>FEDEXroot</td><td>>FEDEX>MEM</td><td>Memphis</td><td>>FEDEX</td><td></td><td>62.0</td><td>FEDEX</td><td>2021-09-24T14:38:09.290+0000</td><td>FEDEX</td><td>53</td><td>vt1</td><td>2023-04-01T09:00:36.014+0000</td></tr><tr><td>false</td><td>EWR</td><td>3.0</td><td>1.632745923922E12</td><td>FEDEXroot</td><td>>FEDEX>EWR</td><td>Newark</td><td>>FEDEX</td><td></td><td>54.0</td><td>FEDEX</td><td>2021-09-24T14:38:09.290+0000</td><td>FEDEX</td><td>53</td><td>vt1</td><td>2023-04-01T09:00:36.014+0000</td></tr><tr><td>false</td><td>OAK</td><td>3.0</td><td>1.632745927912E12</td><td>FEDEXroot</td><td>>FEDEX>OAK</td><td>Oakland</td><td>>FEDEX</td><td></td><td>67.0</td><td>FEDEX</td><td>2021-09-24T14:38:09.290+0000</td><td>FEDEX</td><td>53</td><td>vt1</td><td>2023-04-01T09:00:36.014+0000</td></tr><tr><td>false</td><td>ATL</td><td>3.0</td><td>1.679407601585E12</td><td>FEDEXroot</td><td>>FEDEX>ATL</td><td>Atlanta</td><td>>FEDEX</td><td>None</td><td>76.0</td><td>FEDEX</td><td>2021-09-24T14:38:09.290+0000</td><td>FEDEX</td><td>53</td><td>vt1</td><td>2023-04-01T09:00:36.014+0000</td></tr><tr><td>false</td><td>IND</td><td>3.0</td><td>1.632745925509E12</td><td>FEDEXroot</td><td>>FEDEX>IND</td><td>Indianapolis</td><td>>FEDEX</td><td></td><td>56.0</td><td>FEDEX</td><td>2021-09-24T14:38:09.290+0000</td><td>FEDEX</td><td>53</td><td>vt1</td><td>2023-04-01T09:00:36.014+0000</td></tr><tr><td>false</td><td>LAX</td><td>3.0</td><td>1.632745926279E12</td><td>FEDEXroot</td><td>>FEDEX>LAX</td><td>Los Angeles</td><td>>FEDEX</td><td></td><td>60.0</td><td>FEDEX</td><td>2021-09-24T14:38:09.290+0000</td><td>FEDEX</td><td>53</td><td>vt1</td><td>2023-04-01T09:00:36.014+0000</td></tr><tr><td>false</td><td>SAUDIARABIA</td><td>3.0</td><td>1.565624059545E12</td><td>LUERroot</td><td>>LUER>SAUDIARABIA</td><td>SaudiArabia</td><td>>LUER</td><td>nan</td><td>12.0</td><td>LUER</td><td>2019-07-30T12:56:00.478+0000</td><td>Luerssen</td><td>8</td><td>vt1</td><td>2023-04-01T09:00:36.014+0000</td></tr><tr><td>false</td><td>BRUNEI</td><td>3.0</td><td>1.565624065632E12</td><td>LUERroot</td><td>>LUER>BRUNEI</td><td>Brunei</td><td>>LUER</td><td>nan</td><td>13.0</td><td>LUER</td><td>2019-07-30T12:56:00.478+0000</td><td>Luerssen</td><td>8</td><td>vt1</td><td>2023-04-01T09:00:36.014+0000</td></tr><tr><td>false</td><td>GERMANY</td><td>3.0</td><td>1.565623788828E12</td><td>LUERroot</td><td>>LUER>GERMANY</td><td>Germany</td><td>>LUER</td><td>nan</td><td>10.0</td><td>LUER</td><td>2019-07-30T12:56:00.478+0000</td><td>Luerssen</td><td>8</td><td>vt1</td><td>2023-04-01T09:00:36.014+0000</td></tr><tr><td>false</td><td>MARYSVILLE</td><td>3.0</td><td>1.65106397124E12</td><td>HONDAroot</td><td>>HONDA>MARYSVILLE</td><td>Marysville</td><td>>HONDA</td><td>nan</td><td>75.0</td><td>HONDA</td><td>2022-04-26T20:27:37.287+0000</td><td>HONDA</td><td>73</td><td>vt1</td><td>2023-04-01T09:00:36.014+0000</td></tr><tr><td>false</td><td>INDIANA</td><td>3.0</td><td>1.65106395835E12</td><td>HONDAroot</td><td>>HONDA>INDIANA</td><td>Indiana</td><td>>HONDA</td><td>nan</td><td>74.0</td><td>HONDA</td><td>2022-04-26T20:27:37.287+0000</td><td>HONDA</td><td>73</td><td>vt1</td><td>2023-04-01T09:00:36.014+0000</td></tr><tr><td>false</td><td>SAUDIARABIA</td><td>3.0</td><td>1.590422479021E12</td><td>LUERSAroot</td><td>>LUERSA>SAUDIARABIA</td><td>SaudiArabia</td><td>>LUERSA</td><td>nan</td><td>47.0</td><td>LUERSA</td><td>2020-05-21T13:56:13.904+0000</td><td>LuerssenSaudiArabia</td><td>46</td><td>vt1</td><td>2023-04-01T09:00:36.014+0000</td></tr><tr><td>false</td><td>DEFAULTSTORE</td><td>3.0</td><td>1.577822362874E12</td><td>sysconfig</td><td>>MOJIX>DEFAULTSTORE</td><td>Default Store</td><td>>MOJIX</td><td>nan</td><td>31.0</td><td>MOJIX</td><td>2019-12-31T19:59:22.874+0000</td><td>MOJIX</td><td>30</td><td>vt1</td><td>2023-04-01T09:00:36.014+0000</td></tr><tr><td>false</td><td>MENDEL</td><td>3.0</td><td>1.584629483206E12</td><td>CTVAroot</td><td>>CTVA>MENDEL</td><td>Mendel</td><td>>CTVA</td><td>nan</td><td>45.0</td><td>CTVA</td><td>2020-03-10T18:05:38.350+0000</td><td>Corteva Agriscience</td><td>42</td><td>vt1</td><td>2023-04-01T09:00:36.014+0000</td></tr><tr><td>false</td><td>AUSTRIA</td><td>3.0</td><td>1.571757508733E12</td><td>IKEAroot</td><td>>IKEA>AUSTRIA</td><td>Austria</td><td>>IKEA</td><td>nan</td><td>26.0</td><td>IKEA</td><td>2019-07-30T14:20:48.248+0000</td><td>IKEA</td><td>9</td><td>vt1</td><td>2023-04-01T09:00:36.014+0000</td></tr><tr><td>false</td><td>GERMANY</td><td>3.0</td><td>1.571757526796E12</td><td>IKEAroot</td><td>>IKEA>GERMANY</td><td>Germany</td><td>>IKEA</td><td>nan</td><td>27.0</td><td>IKEA</td><td>2019-07-30T14:20:48.248+0000</td><td>IKEA</td><td>9</td><td>vt1</td><td>2023-04-01T09:00:36.014+0000</td></tr><tr><td>false</td><td>MEM</td><td>3.0</td><td>1.6327459271E12</td><td>FEDEXroot</td><td>>FEDEX>MEM</td><td>Memphis</td><td>>FEDEX</td><td></td><td>62.0</td><td>FEDEX</td><td>2021-09-24T14:38:09.290+0000</td><td>FEDEX</td><td>53</td><td>vt1</td><td>2023-04-30T09:00:29.658+0000</td></tr><tr><td>false</td><td>EWR</td><td>3.0</td><td>1.632745923922E12</td><td>FEDEXroot</td><td>>FEDEX>EWR</td><td>Newark</td><td>>FEDEX</td><td></td><td>54.0</td><td>FEDEX</td><td>2021-09-24T14:38:09.290+0000</td><td>FEDEX</td><td>53</td><td>vt1</td><td>2023-04-30T09:00:29.658+0000</td></tr><tr><td>false</td><td>OAK</td><td>3.0</td><td>1.632745927912E12</td><td>FEDEXroot</td><td>>FEDEX>OAK</td><td>Oakland</td><td>>FEDEX</td><td></td><td>67.0</td><td>FEDEX</td><td>2021-09-24T14:38:09.290+0000</td><td>FEDEX</td><td>53</td><td>vt1</td><td>2023-04-30T09:00:29.658+0000</td></tr><tr><td>false</td><td>TX</td><td>3.0</td><td>1.682544767293E12</td><td>FEDEXroot</td><td>>FEDEX>TX</td><td>Texas</td><td>>FEDEX</td><td>None</td><td>78.0</td><td>FEDEX</td><td>2021-09-24T14:38:09.290+0000</td><td>FEDEX</td><td>53</td><td>vt1</td><td>2023-04-30T09:00:29.658+0000</td></tr><tr><td>false</td><td>ATL</td><td>3.0</td><td>1.679407601585E12</td><td>FEDEXroot</td><td>>FEDEX>ATL</td><td>Atlanta</td><td>>FEDEX</td><td>None</td><td>76.0</td><td>FEDEX</td><td>2021-09-24T14:38:09.290+0000</td><td>FEDEX</td><td>53</td><td>vt1</td><td>2023-04-30T09:00:29.658+0000</td></tr><tr><td>false</td><td>IND</td><td>3.0</td><td>1.632745925509E12</td><td>FEDEXroot</td><td>>FEDEX>IND</td><td>Indianapolis</td><td>>FEDEX</td><td></td><td>56.0</td><td>FEDEX</td><td>2021-09-24T14:38:09.290+0000</td><td>FEDEX</td><td>53</td><td>vt1</td><td>2023-04-30T09:00:29.658+0000</td></tr><tr><td>false</td><td>LAX</td><td>3.0</td><td>1.632745926279E12</td><td>FEDEXroot</td><td>>FEDEX>LAX</td><td>Los Angeles</td><td>>FEDEX</td><td></td><td>60.0</td><td>FEDEX</td><td>2021-09-24T14:38:09.290+0000</td><td>FEDEX</td><td>53</td><td>vt1</td><td>2023-04-30T09:00:29.658+0000</td></tr><tr><td>false</td><td>SAUDIARABIA</td><td>3.0</td><td>1.565624059545E12</td><td>LUERroot</td><td>>LUER>SAUDIARABIA</td><td>SaudiArabia</td><td>>LUER</td><td>nan</td><td>12.0</td><td>LUER</td><td>2019-07-30T12:56:00.478+0000</td><td>Luerssen</td><td>8</td><td>vt1</td><td>2023-04-30T09:00:29.658+0000</td></tr><tr><td>false</td><td>BRUNEI</td><td>3.0</td><td>1.565624065632E12</td><td>LUERroot</td><td>>LUER>BRUNEI</td><td>Brunei</td><td>>LUER</td><td>nan</td><td>13.0</td><td>LUER</td><td>2019-07-30T12:56:00.478+0000</td><td>Luerssen</td><td>8</td><td>vt1</td><td>2023-04-30T09:00:29.658+0000</td></tr><tr><td>false</td><td>GERMANY</td><td>3.0</td><td>1.565623788828E12</td><td>LUERroot</td><td>>LUER>GERMANY</td><td>Germany</td><td>>LUER</td><td>nan</td><td>10.0</td><td>LUER</td><td>2019-07-30T12:56:00.478+0000</td><td>Luerssen</td><td>8</td><td>vt1</td><td>2023-04-30T09:00:29.658+0000</td></tr><tr><td>false</td><td>INDIANA</td><td>3.0</td><td>1.65106395835E12</td><td>HONDAroot</td><td>>HONDA>INDIANA</td><td>Indiana</td><td>>HONDA</td><td>nan</td><td>74.0</td><td>HONDA</td><td>2022-04-26T20:27:37.287+0000</td><td>HONDA</td><td>73</td><td>vt1</td><td>2023-04-30T09:00:29.658+0000</td></tr><tr><td>false</td><td>MARYSVILLE</td><td>3.0</td><td>1.65106397124E12</td><td>HONDAroot</td><td>>HONDA>MARYSVILLE</td><td>Marysville</td><td>>HONDA</td><td>nan</td><td>75.0</td><td>HONDA</td><td>2022-04-26T20:27:37.287+0000</td><td>HONDA</td><td>73</td><td>vt1</td><td>2023-04-30T09:00:29.658+0000</td></tr><tr><td>false</td><td>SAUDIARABIA</td><td>3.0</td><td>1.590422479021E12</td><td>LUERSAroot</td><td>>LUERSA>SAUDIARABIA</td><td>SaudiArabia</td><td>>LUERSA</td><td>nan</td><td>47.0</td><td>LUERSA</td><td>2020-05-21T13:56:13.904+0000</td><td>LuerssenSaudiArabia</td><td>46</td><td>vt1</td><td>2023-04-30T09:00:29.658+0000</td></tr><tr><td>false</td><td>DEFAULTSTORE</td><td>3.0</td><td>1.577822362874E12</td><td>sysconfig</td><td>>MOJIX>DEFAULTSTORE</td><td>Default Store</td><td>>MOJIX</td><td>nan</td><td>31.0</td><td>MOJIX</td><td>2019-12-31T19:59:22.874+0000</td><td>MOJIX</td><td>30</td><td>vt1</td><td>2023-04-30T09:00:29.658+0000</td></tr><tr><td>false</td><td>MENDEL</td><td>3.0</td><td>1.584629483206E12</td><td>CTVAroot</td><td>>CTVA>MENDEL</td><td>Mendel</td><td>>CTVA</td><td>nan</td><td>45.0</td><td>CTVA</td><td>2020-03-10T18:05:38.350+0000</td><td>Corteva Agriscience</td><td>42</td><td>vt1</td><td>2023-04-30T09:00:29.658+0000</td></tr><tr><td>false</td><td>AUSTRIA</td><td>3.0</td><td>1.571757508733E12</td><td>IKEAroot</td><td>>IKEA>AUSTRIA</td><td>Austria</td><td>>IKEA</td><td>nan</td><td>26.0</td><td>IKEA</td><td>2019-07-30T14:20:48.248+0000</td><td>IKEA</td><td>9</td><td>vt1</td><td>2023-04-30T09:00:29.658+0000</td></tr><tr><td>false</td><td>GERMANY</td><td>3.0</td><td>1.571757526796E12</td><td>IKEAroot</td><td>>IKEA>GERMANY</td><td>Germany</td><td>>IKEA</td><td>nan</td><td>27.0</td><td>IKEA</td><td>2019-07-30T14:20:48.248+0000</td><td>IKEA</td><td>9</td><td>vt1</td><td>2023-04-30T09:00:29.658+0000</td></tr><tr><td>false</td><td>MEM</td><td>3.0</td><td>1.6327459271E12</td><td>FEDEXroot</td><td>>FEDEX>MEM</td><td>Memphis</td><td>>FEDEX</td><td></td><td>62.0</td><td>FEDEX</td><td>2021-09-24T14:38:09.290+0000</td><td>FEDEX</td><td>53</td><td>vt1</td><td>2023-04-23T09:00:31.893+0000</td></tr><tr><td>false</td><td>EWR</td><td>3.0</td><td>1.632745923922E12</td><td>FEDEXroot</td><td>>FEDEX>EWR</td><td>Newark</td><td>>FEDEX</td><td></td><td>54.0</td><td>FEDEX</td><td>2021-09-24T14:38:09.290+0000</td><td>FEDEX</td><td>53</td><td>vt1</td><td>2023-04-23T09:00:31.893+0000</td></tr><tr><td>false</td><td>OAK</td><td>3.0</td><td>1.632745927912E12</td><td>FEDEXroot</td><td>>FEDEX>OAK</td><td>Oakland</td><td>>FEDEX</td><td></td><td>67.0</td><td>FEDEX</td><td>2021-09-24T14:38:09.290+0000</td><td>FEDEX</td><td>53</td><td>vt1</td><td>2023-04-23T09:00:31.893+0000</td></tr><tr><td>false</td><td>ATL</td><td>3.0</td><td>1.679407601585E12</td><td>FEDEXroot</td><td>>FEDEX>ATL</td><td>Atlanta</td><td>>FEDEX</td><td>None</td><td>76.0</td><td>FEDEX</td><td>2021-09-24T14:38:09.290+0000</td><td>FEDEX</td><td>53</td><td>vt1</td><td>2023-04-23T09:00:31.893+0000</td></tr><tr><td>false</td><td>IND</td><td>3.0</td><td>1.632745925509E12</td><td>FEDEXroot</td><td>>FEDEX>IND</td><td>Indianapolis</td><td>>FEDEX</td><td></td><td>56.0</td><td>FEDEX</td><td>2021-09-24T14:38:09.290+0000</td><td>FEDEX</td><td>53</td><td>vt1</td><td>2023-04-23T09:00:31.893+0000</td></tr><tr><td>false</td><td>LAX</td><td>3.0</td><td>1.632745926279E12</td><td>FEDEXroot</td><td>>FEDEX>LAX</td><td>Los Angeles</td><td>>FEDEX</td><td></td><td>60.0</td><td>FEDEX</td><td>2021-09-24T14:38:09.290+0000</td><td>FEDEX</td><td>53</td><td>vt1</td><td>2023-04-23T09:00:31.893+0000</td></tr><tr><td>false</td><td>SAUDIARABIA</td><td>3.0</td><td>1.565624059545E12</td><td>LUERroot</td><td>>LUER>SAUDIARABIA</td><td>SaudiArabia</td><td>>LUER</td><td>nan</td><td>12.0</td><td>LUER</td><td>2019-07-30T12:56:00.478+0000</td><td>Luerssen</td><td>8</td><td>vt1</td><td>2023-04-23T09:00:31.893+0000</td></tr><tr><td>false</td><td>BRUNEI</td><td>3.0</td><td>1.565624065632E12</td><td>LUERroot</td><td>>LUER>BRUNEI</td><td>Brunei</td><td>>LUER</td><td>nan</td><td>13.0</td><td>LUER</td><td>2019-07-30T12:56:00.478+0000</td><td>Luerssen</td><td>8</td><td>vt1</td><td>2023-04-23T09:00:31.893+0000</td></tr><tr><td>false</td><td>GERMANY</td><td>3.0</td><td>1.565623788828E12</td><td>LUERroot</td><td>>LUER>GERMANY</td><td>Germany</td><td>>LUER</td><td>nan</td><td>10.0</td><td>LUER</td><td>2019-07-30T12:56:00.478+0000</td><td>Luerssen</td><td>8</td><td>vt1</td><td>2023-04-23T09:00:31.893+0000</td></tr><tr><td>false</td><td>INDIANA</td><td>3.0</td><td>1.65106395835E12</td><td>HONDAroot</td><td>>HONDA>INDIANA</td><td>Indiana</td><td>>HONDA</td><td>nan</td><td>74.0</td><td>HONDA</td><td>2022-04-26T20:27:37.287+0000</td><td>HONDA</td><td>73</td><td>vt1</td><td>2023-04-23T09:00:31.893+0000</td></tr><tr><td>false</td><td>MARYSVILLE</td><td>3.0</td><td>1.65106397124E12</td><td>HONDAroot</td><td>>HONDA>MARYSVILLE</td><td>Marysville</td><td>>HONDA</td><td>nan</td><td>75.0</td><td>HONDA</td><td>2022-04-26T20:27:37.287+0000</td><td>HONDA</td><td>73</td><td>vt1</td><td>2023-04-23T09:00:31.893+0000</td></tr><tr><td>false</td><td>SAUDIARABIA</td><td>3.0</td><td>1.590422479021E12</td><td>LUERSAroot</td><td>>LUERSA>SAUDIARABIA</td><td>SaudiArabia</td><td>>LUERSA</td><td>nan</td><td>47.0</td><td>LUERSA</td><td>2020-05-21T13:56:13.904+0000</td><td>LuerssenSaudiArabia</td><td>46</td><td>vt1</td><td>2023-04-23T09:00:31.893+0000</td></tr><tr><td>false</td><td>DEFAULTSTORE</td><td>3.0</td><td>1.577822362874E12</td><td>sysconfig</td><td>>MOJIX>DEFAULTSTORE</td><td>Default Store</td><td>>MOJIX</td><td>nan</td><td>31.0</td><td>MOJIX</td><td>2019-12-31T19:59:22.874+0000</td><td>MOJIX</td><td>30</td><td>vt1</td><td>2023-04-23T09:00:31.893+0000</td></tr><tr><td>false</td><td>MENDEL</td><td>3.0</td><td>1.584629483206E12</td><td>CTVAroot</td><td>>CTVA>MENDEL</td><td>Mendel</td><td>>CTVA</td><td>nan</td><td>45.0</td><td>CTVA</td><td>2020-03-10T18:05:38.350+0000</td><td>Corteva Agriscience</td><td>42</td><td>vt1</td><td>2023-04-23T09:00:31.893+0000</td></tr><tr><td>false</td><td>AUSTRIA</td><td>3.0</td><td>1.571757508733E12</td><td>IKEAroot</td><td>>IKEA>AUSTRIA</td><td>Austria</td><td>>IKEA</td><td>nan</td><td>26.0</td><td>IKEA</td><td>2019-07-30T14:20:48.248+0000</td><td>IKEA</td><td>9</td><td>vt1</td><td>2023-04-23T09:00:31.893+0000</td></tr><tr><td>false</td><td>GERMANY</td><td>3.0</td><td>1.571757526796E12</td><td>IKEAroot</td><td>>IKEA>GERMANY</td><td>Germany</td><td>>IKEA</td><td>nan</td><td>27.0</td><td>IKEA</td><td>2019-07-30T14:20:48.248+0000</td><td>IKEA</td><td>9</td><td>vt1</td><td>2023-04-23T09:00:31.893+0000</td></tr><tr><td>false</td><td>ATL</td><td>3.0</td><td>1.679407601585E12</td><td>FEDEXroot</td><td>>FEDEX>ATL</td><td>Atlanta</td><td>>FEDEX</td><td>None</td><td>76.0</td><td>FEDEX</td><td>2021-09-24T14:38:09.290+0000</td><td>FEDEX</td><td>53</td><td>vt1</td><td>2023-04-24T09:00:32.742+0000</td></tr><tr><td>false</td><td>IND</td><td>3.0</td><td>1.632745925509E12</td><td>FEDEXroot</td><td>>FEDEX>IND</td><td>Indianapolis</td><td>>FEDEX</td><td></td><td>56.0</td><td>FEDEX</td><td>2021-09-24T14:38:09.290+0000</td><td>FEDEX</td><td>53</td><td>vt1</td><td>2023-04-24T09:00:32.742+0000</td></tr><tr><td>false</td><td>LAX</td><td>3.0</td><td>1.632745926279E12</td><td>FEDEXroot</td><td>>FEDEX>LAX</td><td>Los Angeles</td><td>>FEDEX</td><td></td><td>60.0</td><td>FEDEX</td><td>2021-09-24T14:38:09.290+0000</td><td>FEDEX</td><td>53</td><td>vt1</td><td>2023-04-24T09:00:32.742+0000</td></tr><tr><td>false</td><td>MEM</td><td>3.0</td><td>1.6327459271E12</td><td>FEDEXroot</td><td>>FEDEX>MEM</td><td>Memphis</td><td>>FEDEX</td><td></td><td>62.0</td><td>FEDEX</td><td>2021-09-24T14:38:09.290+0000</td><td>FEDEX</td><td>53</td><td>vt1</td><td>2023-04-24T09:00:32.742+0000</td></tr><tr><td>false</td><td>EWR</td><td>3.0</td><td>1.632745923922E12</td><td>FEDEXroot</td><td>>FEDEX>EWR</td><td>Newark</td><td>>FEDEX</td><td></td><td>54.0</td><td>FEDEX</td><td>2021-09-24T14:38:09.290+0000</td><td>FEDEX</td><td>53</td><td>vt1</td><td>2023-04-24T09:00:32.742+0000</td></tr><tr><td>false</td><td>OAK</td><td>3.0</td><td>1.632745927912E12</td><td>FEDEXroot</td><td>>FEDEX>OAK</td><td>Oakland</td><td>>FEDEX</td><td></td><td>67.0</td><td>FEDEX</td><td>2021-09-24T14:38:09.290+0000</td><td>FEDEX</td><td>53</td><td>vt1</td><td>2023-04-24T09:00:32.742+0000</td></tr><tr><td>false</td><td>SAUDIARABIA</td><td>3.0</td><td>1.565624059545E12</td><td>LUERroot</td><td>>LUER>SAUDIARABIA</td><td>SaudiArabia</td><td>>LUER</td><td>nan</td><td>12.0</td><td>LUER</td><td>2019-07-30T12:56:00.478+0000</td><td>Luerssen</td><td>8</td><td>vt1</td><td>2023-04-24T09:00:32.742+0000</td></tr><tr><td>false</td><td>BRUNEI</td><td>3.0</td><td>1.565624065632E12</td><td>LUERroot</td><td>>LUER>BRUNEI</td><td>Brunei</td><td>>LUER</td><td>nan</td><td>13.0</td><td>LUER</td><td>2019-07-30T12:56:00.478+0000</td><td>Luerssen</td><td>8</td><td>vt1</td><td>2023-04-24T09:00:32.742+0000</td></tr><tr><td>false</td><td>GERMANY</td><td>3.0</td><td>1.565623788828E12</td><td>LUERroot</td><td>>LUER>GERMANY</td><td>Germany</td><td>>LUER</td><td>nan</td><td>10.0</td><td>LUER</td><td>2019-07-30T12:56:00.478+0000</td><td>Luerssen</td><td>8</td><td>vt1</td><td>2023-04-24T09:00:32.742+0000</td></tr><tr><td>false</td><td>MARYSVILLE</td><td>3.0</td><td>1.65106397124E12</td><td>HONDAroot</td><td>>HONDA>MARYSVILLE</td><td>Marysville</td><td>>HONDA</td><td>nan</td><td>75.0</td><td>HONDA</td><td>2022-04-26T20:27:37.287+0000</td><td>HONDA</td><td>73</td><td>vt1</td><td>2023-04-24T09:00:32.742+0000</td></tr><tr><td>false</td><td>INDIANA</td><td>3.0</td><td>1.65106395835E12</td><td>HONDAroot</td><td>>HONDA>INDIANA</td><td>Indiana</td><td>>HONDA</td><td>nan</td><td>74.0</td><td>HONDA</td><td>2022-04-26T20:27:37.287+0000</td><td>HONDA</td><td>73</td><td>vt1</td><td>2023-04-24T09:00:32.742+0000</td></tr><tr><td>false</td><td>SAUDIARABIA</td><td>3.0</td><td>1.590422479021E12</td><td>LUERSAroot</td><td>>LUERSA>SAUDIARABIA</td><td>SaudiArabia</td><td>>LUERSA</td><td>nan</td><td>47.0</td><td>LUERSA</td><td>2020-05-21T13:56:13.904+0000</td><td>LuerssenSaudiArabia</td><td>46</td><td>vt1</td><td>2023-04-24T09:00:32.742+0000</td></tr><tr><td>false</td><td>DEFAULTSTORE</td><td>3.0</td><td>1.577822362874E12</td><td>sysconfig</td><td>>MOJIX>DEFAULTSTORE</td><td>Default Store</td><td>>MOJIX</td><td>nan</td><td>31.0</td><td>MOJIX</td><td>2019-12-31T19:59:22.874+0000</td><td>MOJIX</td><td>30</td><td>vt1</td><td>2023-04-24T09:00:32.742+0000</td></tr><tr><td>false</td><td>MENDEL</td><td>3.0</td><td>1.584629483206E12</td><td>CTVAroot</td><td>>CTVA>MENDEL</td><td>Mendel</td><td>>CTVA</td><td>nan</td><td>45.0</td><td>CTVA</td><td>2020-03-10T18:05:38.350+0000</td><td>Corteva Agriscience</td><td>42</td><td>vt1</td><td>2023-04-24T09:00:32.742+0000</td></tr><tr><td>false</td><td>AUSTRIA</td><td>3.0</td><td>1.571757508733E12</td><td>IKEAroot</td><td>>IKEA>AUSTRIA</td><td>Austria</td><td>>IKEA</td><td>nan</td><td>26.0</td><td>IKEA</td><td>2019-07-30T14:20:48.248+0000</td><td>IKEA</td><td>9</td><td>vt1</td><td>2023-04-24T09:00:32.742+0000</td></tr><tr><td>false</td><td>GERMANY</td><td>3.0</td><td>1.571757526796E12</td><td>IKEAroot</td><td>>IKEA>GERMANY</td><td>Germany</td><td>>IKEA</td><td>nan</td><td>27.0</td><td>IKEA</td><td>2019-07-30T14:20:48.248+0000</td><td>IKEA</td><td>9</td><td>vt1</td><td>2023-04-24T09:00:32.742+0000</td></tr><tr><td>false</td><td>ATL</td><td>3.0</td><td>1.679407601585E12</td><td>FEDEXroot</td><td>>FEDEX>ATL</td><td>Atlanta</td><td>>FEDEX</td><td>None</td><td>76.0</td><td>FEDEX</td><td>2021-09-24T14:38:09.290+0000</td><td>FEDEX</td><td>53</td><td>vt1</td><td>2023-04-25T09:00:33.644+0000</td></tr><tr><td>false</td><td>IND</td><td>3.0</td><td>1.632745925509E12</td><td>FEDEXroot</td><td>>FEDEX>IND</td><td>Indianapolis</td><td>>FEDEX</td><td></td><td>56.0</td><td>FEDEX</td><td>2021-09-24T14:38:09.290+0000</td><td>FEDEX</td><td>53</td><td>vt1</td><td>2023-04-25T09:00:33.644+0000</td></tr><tr><td>false</td><td>LAX</td><td>3.0</td><td>1.632745926279E12</td><td>FEDEXroot</td><td>>FEDEX>LAX</td><td>Los Angeles</td><td>>FEDEX</td><td></td><td>60.0</td><td>FEDEX</td><td>2021-09-24T14:38:09.290+0000</td><td>FEDEX</td><td>53</td><td>vt1</td><td>2023-04-25T09:00:33.644+0000</td></tr><tr><td>false</td><td>MEM</td><td>3.0</td><td>1.6327459271E12</td><td>FEDEXroot</td><td>>FEDEX>MEM</td><td>Memphis</td><td>>FEDEX</td><td></td><td>62.0</td><td>FEDEX</td><td>2021-09-24T14:38:09.290+0000</td><td>FEDEX</td><td>53</td><td>vt1</td><td>2023-04-25T09:00:33.644+0000</td></tr><tr><td>false</td><td>EWR</td><td>3.0</td><td>1.632745923922E12</td><td>FEDEXroot</td><td>>FEDEX>EWR</td><td>Newark</td><td>>FEDEX</td><td></td><td>54.0</td><td>FEDEX</td><td>2021-09-24T14:38:09.290+0000</td><td>FEDEX</td><td>53</td><td>vt1</td><td>2023-04-25T09:00:33.644+0000</td></tr><tr><td>false</td><td>OAK</td><td>3.0</td><td>1.632745927912E12</td><td>FEDEXroot</td><td>>FEDEX>OAK</td><td>Oakland</td><td>>FEDEX</td><td></td><td>67.0</td><td>FEDEX</td><td>2021-09-24T14:38:09.290+0000</td><td>FEDEX</td><td>53</td><td>vt1</td><td>2023-04-25T09:00:33.644+0000</td></tr><tr><td>false</td><td>SAUDIARABIA</td><td>3.0</td><td>1.565624059545E12</td><td>LUERroot</td><td>>LUER>SAUDIARABIA</td><td>SaudiArabia</td><td>>LUER</td><td>nan</td><td>12.0</td><td>LUER</td><td>2019-07-30T12:56:00.478+0000</td><td>Luerssen</td><td>8</td><td>vt1</td><td>2023-04-25T09:00:33.644+0000</td></tr><tr><td>false</td><td>BRUNEI</td><td>3.0</td><td>1.565624065632E12</td><td>LUERroot</td><td>>LUER>BRUNEI</td><td>Brunei</td><td>>LUER</td><td>nan</td><td>13.0</td><td>LUER</td><td>2019-07-30T12:56:00.478+0000</td><td>Luerssen</td><td>8</td><td>vt1</td><td>2023-04-25T09:00:33.644+0000</td></tr><tr><td>false</td><td>GERMANY</td><td>3.0</td><td>1.565623788828E12</td><td>LUERroot</td><td>>LUER>GERMANY</td><td>Germany</td><td>>LUER</td><td>nan</td><td>10.0</td><td>LUER</td><td>2019-07-30T12:56:00.478+0000</td><td>Luerssen</td><td>8</td><td>vt1</td><td>2023-04-25T09:00:33.644+0000</td></tr><tr><td>false</td><td>MARYSVILLE</td><td>3.0</td><td>1.65106397124E12</td><td>HONDAroot</td><td>>HONDA>MARYSVILLE</td><td>Marysville</td><td>>HONDA</td><td>nan</td><td>75.0</td><td>HONDA</td><td>2022-04-26T20:27:37.287+0000</td><td>HONDA</td><td>73</td><td>vt1</td><td>2023-04-25T09:00:33.644+0000</td></tr><tr><td>false</td><td>INDIANA</td><td>3.0</td><td>1.65106395835E12</td><td>HONDAroot</td><td>>HONDA>INDIANA</td><td>Indiana</td><td>>HONDA</td><td>nan</td><td>74.0</td><td>HONDA</td><td>2022-04-26T20:27:37.287+0000</td><td>HONDA</td><td>73</td><td>vt1</td><td>2023-04-25T09:00:33.644+0000</td></tr><tr><td>false</td><td>SAUDIARABIA</td><td>3.0</td><td>1.590422479021E12</td><td>LUERSAroot</td><td>>LUERSA>SAUDIARABIA</td><td>SaudiArabia</td><td>>LUERSA</td><td>nan</td><td>47.0</td><td>LUERSA</td><td>2020-05-21T13:56:13.904+0000</td><td>LuerssenSaudiArabia</td><td>46</td><td>vt1</td><td>2023-04-25T09:00:33.644+0000</td></tr><tr><td>false</td><td>DEFAULTSTORE</td><td>3.0</td><td>1.577822362874E12</td><td>sysconfig</td><td>>MOJIX>DEFAULTSTORE</td><td>Default Store</td><td>>MOJIX</td><td>nan</td><td>31.0</td><td>MOJIX</td><td>2019-12-31T19:59:22.874+0000</td><td>MOJIX</td><td>30</td><td>vt1</td><td>2023-04-25T09:00:33.644+0000</td></tr><tr><td>false</td><td>MENDEL</td><td>3.0</td><td>1.584629483206E12</td><td>CTVAroot</td><td>>CTVA>MENDEL</td><td>Mendel</td><td>>CTVA</td><td>nan</td><td>45.0</td><td>CTVA</td><td>2020-03-10T18:05:38.350+0000</td><td>Corteva Agriscience</td><td>42</td><td>vt1</td><td>2023-04-25T09:00:33.644+0000</td></tr><tr><td>false</td><td>AUSTRIA</td><td>3.0</td><td>1.571757508733E12</td><td>IKEAroot</td><td>>IKEA>AUSTRIA</td><td>Austria</td><td>>IKEA</td><td>nan</td><td>26.0</td><td>IKEA</td><td>2019-07-30T14:20:48.248+0000</td><td>IKEA</td><td>9</td><td>vt1</td><td>2023-04-25T09:00:33.644+0000</td></tr><tr><td>false</td><td>GERMANY</td><td>3.0</td><td>1.571757526796E12</td><td>IKEAroot</td><td>>IKEA>GERMANY</td><td>Germany</td><td>>IKEA</td><td>nan</td><td>27.0</td><td>IKEA</td><td>2019-07-30T14:20:48.248+0000</td><td>IKEA</td><td>9</td><td>vt1</td><td>2023-04-25T09:00:33.644+0000</td></tr><tr><td>false</td><td>ATL</td><td>3.0</td><td>1.679407601585E12</td><td>FEDEXroot</td><td>>FEDEX>ATL</td><td>Atlanta</td><td>>FEDEX</td><td>None</td><td>76.0</td><td>FEDEX</td><td>2021-09-24T14:38:09.290+0000</td><td>FEDEX</td><td>53</td><td>vt1</td><td>2023-04-26T09:00:30.110+0000</td></tr><tr><td>false</td><td>IND</td><td>3.0</td><td>1.632745925509E12</td><td>FEDEXroot</td><td>>FEDEX>IND</td><td>Indianapolis</td><td>>FEDEX</td><td></td><td>56.0</td><td>FEDEX</td><td>2021-09-24T14:38:09.290+0000</td><td>FEDEX</td><td>53</td><td>vt1</td><td>2023-04-26T09:00:30.110+0000</td></tr><tr><td>false</td><td>LAX</td><td>3.0</td><td>1.632745926279E12</td><td>FEDEXroot</td><td>>FEDEX>LAX</td><td>Los Angeles</td><td>>FEDEX</td><td></td><td>60.0</td><td>FEDEX</td><td>2021-09-24T14:38:09.290+0000</td><td>FEDEX</td><td>53</td><td>vt1</td><td>2023-04-26T09:00:30.110+0000</td></tr><tr><td>false</td><td>MEM</td><td>3.0</td><td>1.6327459271E12</td><td>FEDEXroot</td><td>>FEDEX>MEM</td><td>Memphis</td><td>>FEDEX</td><td></td><td>62.0</td><td>FEDEX</td><td>2021-09-24T14:38:09.290+0000</td><td>FEDEX</td><td>53</td><td>vt1</td><td>2023-04-26T09:00:30.110+0000</td></tr><tr><td>false</td><td>EWR</td><td>3.0</td><td>1.632745923922E12</td><td>FEDEXroot</td><td>>FEDEX>EWR</td><td>Newark</td><td>>FEDEX</td><td></td><td>54.0</td><td>FEDEX</td><td>2021-09-24T14:38:09.290+0000</td><td>FEDEX</td><td>53</td><td>vt1</td><td>2023-04-26T09:00:30.110+0000</td></tr><tr><td>false</td><td>OAK</td><td>3.0</td><td>1.632745927912E12</td><td>FEDEXroot</td><td>>FEDEX>OAK</td><td>Oakland</td><td>>FEDEX</td><td></td><td>67.0</td><td>FEDEX</td><td>2021-09-24T14:38:09.290+0000</td><td>FEDEX</td><td>53</td><td>vt1</td><td>2023-04-26T09:00:30.110+0000</td></tr><tr><td>false</td><td>SAUDIARABIA</td><td>3.0</td><td>1.565624059545E12</td><td>LUERroot</td><td>>LUER>SAUDIARABIA</td><td>SaudiArabia</td><td>>LUER</td><td>nan</td><td>12.0</td><td>LUER</td><td>2019-07-30T12:56:00.478+0000</td><td>Luerssen</td><td>8</td><td>vt1</td><td>2023-04-26T09:00:30.110+0000</td></tr><tr><td>false</td><td>BRUNEI</td><td>3.0</td><td>1.565624065632E12</td><td>LUERroot</td><td>>LUER>BRUNEI</td><td>Brunei</td><td>>LUER</td><td>nan</td><td>13.0</td><td>LUER</td><td>2019-07-30T12:56:00.478+0000</td><td>Luerssen</td><td>8</td><td>vt1</td><td>2023-04-26T09:00:30.110+0000</td></tr><tr><td>false</td><td>GERMANY</td><td>3.0</td><td>1.565623788828E12</td><td>LUERroot</td><td>>LUER>GERMANY</td><td>Germany</td><td>>LUER</td><td>nan</td><td>10.0</td><td>LUER</td><td>2019-07-30T12:56:00.478+0000</td><td>Luerssen</td><td>8</td><td>vt1</td><td>2023-04-26T09:00:30.110+0000</td></tr><tr><td>false</td><td>INDIANA</td><td>3.0</td><td>1.65106395835E12</td><td>HONDAroot</td><td>>HONDA>INDIANA</td><td>Indiana</td><td>>HONDA</td><td>nan</td><td>74.0</td><td>HONDA</td><td>2022-04-26T20:27:37.287+0000</td><td>HONDA</td><td>73</td><td>vt1</td><td>2023-04-26T09:00:30.110+0000</td></tr><tr><td>false</td><td>MARYSVILLE</td><td>3.0</td><td>1.65106397124E12</td><td>HONDAroot</td><td>>HONDA>MARYSVILLE</td><td>Marysville</td><td>>HONDA</td><td>nan</td><td>75.0</td><td>HONDA</td><td>2022-04-26T20:27:37.287+0000</td><td>HONDA</td><td>73</td><td>vt1</td><td>2023-04-26T09:00:30.110+0000</td></tr><tr><td>false</td><td>SAUDIARABIA</td><td>3.0</td><td>1.590422479021E12</td><td>LUERSAroot</td><td>>LUERSA>SAUDIARABIA</td><td>SaudiArabia</td><td>>LUERSA</td><td>nan</td><td>47.0</td><td>LUERSA</td><td>2020-05-21T13:56:13.904+0000</td><td>LuerssenSaudiArabia</td><td>46</td><td>vt1</td><td>2023-04-26T09:00:30.110+0000</td></tr><tr><td>false</td><td>DEFAULTSTORE</td><td>3.0</td><td>1.577822362874E12</td><td>sysconfig</td><td>>MOJIX>DEFAULTSTORE</td><td>Default Store</td><td>>MOJIX</td><td>nan</td><td>31.0</td><td>MOJIX</td><td>2019-12-31T19:59:22.874+0000</td><td>MOJIX</td><td>30</td><td>vt1</td><td>2023-04-26T09:00:30.110+0000</td></tr><tr><td>false</td><td>MENDEL</td><td>3.0</td><td>1.584629483206E12</td><td>CTVAroot</td><td>>CTVA>MENDEL</td><td>Mendel</td><td>>CTVA</td><td>nan</td><td>45.0</td><td>CTVA</td><td>2020-03-10T18:05:38.350+0000</td><td>Corteva Agriscience</td><td>42</td><td>vt1</td><td>2023-04-26T09:00:30.110+0000</td></tr><tr><td>false</td><td>AUSTRIA</td><td>3.0</td><td>1.571757508733E12</td><td>IKEAroot</td><td>>IKEA>AUSTRIA</td><td>Austria</td><td>>IKEA</td><td>nan</td><td>26.0</td><td>IKEA</td><td>2019-07-30T14:20:48.248+0000</td><td>IKEA</td><td>9</td><td>vt1</td><td>2023-04-26T09:00:30.110+0000</td></tr><tr><td>false</td><td>GERMANY</td><td>3.0</td><td>1.571757526796E12</td><td>IKEAroot</td><td>>IKEA>GERMANY</td><td>Germany</td><td>>IKEA</td><td>nan</td><td>27.0</td><td>IKEA</td><td>2019-07-30T14:20:48.248+0000</td><td>IKEA</td><td>9</td><td>vt1</td><td>2023-04-26T09:00:30.110+0000</td></tr><tr><td>false</td><td>ATL</td><td>3.0</td><td>1.679407601585E12</td><td>FEDEXroot</td><td>>FEDEX>ATL</td><td>Atlanta</td><td>>FEDEX</td><td>None</td><td>76.0</td><td>FEDEX</td><td>2021-09-24T14:38:09.290+0000</td><td>FEDEX</td><td>53</td><td>vt1</td><td>2023-04-27T09:00:31.519+0000</td></tr><tr><td>false</td><td>IND</td><td>3.0</td><td>1.632745925509E12</td><td>FEDEXroot</td><td>>FEDEX>IND</td><td>Indianapolis</td><td>>FEDEX</td><td></td><td>56.0</td><td>FEDEX</td><td>2021-09-24T14:38:09.290+0000</td><td>FEDEX</td><td>53</td><td>vt1</td><td>2023-04-27T09:00:31.519+0000</td></tr><tr><td>false</td><td>LAX</td><td>3.0</td><td>1.632745926279E12</td><td>FEDEXroot</td><td>>FEDEX>LAX</td><td>Los Angeles</td><td>>FEDEX</td><td></td><td>60.0</td><td>FEDEX</td><td>2021-09-24T14:38:09.290+0000</td><td>FEDEX</td><td>53</td><td>vt1</td><td>2023-04-27T09:00:31.519+0000</td></tr><tr><td>false</td><td>MEM</td><td>3.0</td><td>1.6327459271E12</td><td>FEDEXroot</td><td>>FEDEX>MEM</td><td>Memphis</td><td>>FEDEX</td><td></td><td>62.0</td><td>FEDEX</td><td>2021-09-24T14:38:09.290+0000</td><td>FEDEX</td><td>53</td><td>vt1</td><td>2023-04-27T09:00:31.519+0000</td></tr><tr><td>false</td><td>EWR</td><td>3.0</td><td>1.632745923922E12</td><td>FEDEXroot</td><td>>FEDEX>EWR</td><td>Newark</td><td>>FEDEX</td><td></td><td>54.0</td><td>FEDEX</td><td>2021-09-24T14:38:09.290+0000</td><td>FEDEX</td><td>53</td><td>vt1</td><td>2023-04-27T09:00:31.519+0000</td></tr><tr><td>false</td><td>OAK</td><td>3.0</td><td>1.632745927912E12</td><td>FEDEXroot</td><td>>FEDEX>OAK</td><td>Oakland</td><td>>FEDEX</td><td></td><td>67.0</td><td>FEDEX</td><td>2021-09-24T14:38:09.290+0000</td><td>FEDEX</td><td>53</td><td>vt1</td><td>2023-04-27T09:00:31.519+0000</td></tr><tr><td>false</td><td>TX</td><td>3.0</td><td>1.682544767293E12</td><td>FEDEXroot</td><td>>FEDEX>TX</td><td>Texas</td><td>>FEDEX</td><td>None</td><td>78.0</td><td>FEDEX</td><td>2021-09-24T14:38:09.290+0000</td><td>FEDEX</td><td>53</td><td>vt1</td><td>2023-04-27T09:00:31.519+0000</td></tr><tr><td>false</td><td>SAUDIARABIA</td><td>3.0</td><td>1.565624059545E12</td><td>LUERroot</td><td>>LUER>SAUDIARABIA</td><td>SaudiArabia</td><td>>LUER</td><td>nan</td><td>12.0</td><td>LUER</td><td>2019-07-30T12:56:00.478+0000</td><td>Luerssen</td><td>8</td><td>vt1</td><td>2023-04-27T09:00:31.519+0000</td></tr><tr><td>false</td><td>BRUNEI</td><td>3.0</td><td>1.565624065632E12</td><td>LUERroot</td><td>>LUER>BRUNEI</td><td>Brunei</td><td>>LUER</td><td>nan</td><td>13.0</td><td>LUER</td><td>2019-07-30T12:56:00.478+0000</td><td>Luerssen</td><td>8</td><td>vt1</td><td>2023-04-27T09:00:31.519+0000</td></tr><tr><td>false</td><td>GERMANY</td><td>3.0</td><td>1.565623788828E12</td><td>LUERroot</td><td>>LUER>GERMANY</td><td>Germany</td><td>>LUER</td><td>nan</td><td>10.0</td><td>LUER</td><td>2019-07-30T12:56:00.478+0000</td><td>Luerssen</td><td>8</td><td>vt1</td><td>2023-04-27T09:00:31.519+0000</td></tr><tr><td>false</td><td>MARYSVILLE</td><td>3.0</td><td>1.65106397124E12</td><td>HONDAroot</td><td>>HONDA>MARYSVILLE</td><td>Marysville</td><td>>HONDA</td><td>nan</td><td>75.0</td><td>HONDA</td><td>2022-04-26T20:27:37.287+0000</td><td>HONDA</td><td>73</td><td>vt1</td><td>2023-04-27T09:00:31.519+0000</td></tr><tr><td>false</td><td>INDIANA</td><td>3.0</td><td>1.65106395835E12</td><td>HONDAroot</td><td>>HONDA>INDIANA</td><td>Indiana</td><td>>HONDA</td><td>nan</td><td>74.0</td><td>HONDA</td><td>2022-04-26T20:27:37.287+0000</td><td>HONDA</td><td>73</td><td>vt1</td><td>2023-04-27T09:00:31.519+0000</td></tr><tr><td>false</td><td>SAUDIARABIA</td><td>3.0</td><td>1.590422479021E12</td><td>LUERSAroot</td><td>>LUERSA>SAUDIARABIA</td><td>SaudiArabia</td><td>>LUERSA</td><td>nan</td><td>47.0</td><td>LUERSA</td><td>2020-05-21T13:56:13.904+0000</td><td>LuerssenSaudiArabia</td><td>46</td><td>vt1</td><td>2023-04-27T09:00:31.519+0000</td></tr><tr><td>false</td><td>DEFAULTSTORE</td><td>3.0</td><td>1.577822362874E12</td><td>sysconfig</td><td>>MOJIX>DEFAULTSTORE</td><td>Default Store</td><td>>MOJIX</td><td>nan</td><td>31.0</td><td>MOJIX</td><td>2019-12-31T19:59:22.874+0000</td><td>MOJIX</td><td>30</td><td>vt1</td><td>2023-04-27T09:00:31.519+0000</td></tr><tr><td>false</td><td>MENDEL</td><td>3.0</td><td>1.584629483206E12</td><td>CTVAroot</td><td>>CTVA>MENDEL</td><td>Mendel</td><td>>CTVA</td><td>nan</td><td>45.0</td><td>CTVA</td><td>2020-03-10T18:05:38.350+0000</td><td>Corteva Agriscience</td><td>42</td><td>vt1</td><td>2023-04-27T09:00:31.519+0000</td></tr><tr><td>false</td><td>AUSTRIA</td><td>3.0</td><td>1.571757508733E12</td><td>IKEAroot</td><td>>IKEA>AUSTRIA</td><td>Austria</td><td>>IKEA</td><td>nan</td><td>26.0</td><td>IKEA</td><td>2019-07-30T14:20:48.248+0000</td><td>IKEA</td><td>9</td><td>vt1</td><td>2023-04-27T09:00:31.519+0000</td></tr><tr><td>false</td><td>GERMANY</td><td>3.0</td><td>1.571757526796E12</td><td>IKEAroot</td><td>>IKEA>GERMANY</td><td>Germany</td><td>>IKEA</td><td>nan</td><td>27.0</td><td>IKEA</td><td>2019-07-30T14:20:48.248+0000</td><td>IKEA</td><td>9</td><td>vt1</td><td>2023-04-27T09:00:31.519+0000</td></tr><tr><td>false</td><td>MEM</td><td>3.0</td><td>1.6327459271E12</td><td>FEDEXroot</td><td>>FEDEX>MEM</td><td>Memphis</td><td>>FEDEX</td><td></td><td>62.0</td><td>FEDEX</td><td>2021-09-24T14:38:09.290+0000</td><td>FEDEX</td><td>53</td><td>vt1</td><td>2023-04-28T09:00:29.917+0000</td></tr><tr><td>false</td><td>EWR</td><td>3.0</td><td>1.632745923922E12</td><td>FEDEXroot</td><td>>FEDEX>EWR</td><td>Newark</td><td>>FEDEX</td><td></td><td>54.0</td><td>FEDEX</td><td>2021-09-24T14:38:09.290+0000</td><td>FEDEX</td><td>53</td><td>vt1</td><td>2023-04-28T09:00:29.917+0000</td></tr><tr><td>false</td><td>OAK</td><td>3.0</td><td>1.632745927912E12</td><td>FEDEXroot</td><td>>FEDEX>OAK</td><td>Oakland</td><td>>FEDEX</td><td></td><td>67.0</td><td>FEDEX</td><td>2021-09-24T14:38:09.290+0000</td><td>FEDEX</td><td>53</td><td>vt1</td><td>2023-04-28T09:00:29.917+0000</td></tr><tr><td>false</td><td>TX</td><td>3.0</td><td>1.682544767293E12</td><td>FEDEXroot</td><td>>FEDEX>TX</td><td>Texas</td><td>>FEDEX</td><td>None</td><td>78.0</td><td>FEDEX</td><td>2021-09-24T14:38:09.290+0000</td><td>FEDEX</td><td>53</td><td>vt1</td><td>2023-04-28T09:00:29.917+0000</td></tr><tr><td>false</td><td>ATL</td><td>3.0</td><td>1.679407601585E12</td><td>FEDEXroot</td><td>>FEDEX>ATL</td><td>Atlanta</td><td>>FEDEX</td><td>None</td><td>76.0</td><td>FEDEX</td><td>2021-09-24T14:38:09.290+0000</td><td>FEDEX</td><td>53</td><td>vt1</td><td>2023-04-28T09:00:29.917+0000</td></tr><tr><td>false</td><td>IND</td><td>3.0</td><td>1.632745925509E12</td><td>FEDEXroot</td><td>>FEDEX>IND</td><td>Indianapolis</td><td>>FEDEX</td><td></td><td>56.0</td><td>FEDEX</td><td>2021-09-24T14:38:09.290+0000</td><td>FEDEX</td><td>53</td><td>vt1</td><td>2023-04-28T09:00:29.917+0000</td></tr><tr><td>false</td><td>LAX</td><td>3.0</td><td>1.632745926279E12</td><td>FEDEXroot</td><td>>FEDEX>LAX</td><td>Los Angeles</td><td>>FEDEX</td><td></td><td>60.0</td><td>FEDEX</td><td>2021-09-24T14:38:09.290+0000</td><td>FEDEX</td><td>53</td><td>vt1</td><td>2023-04-28T09:00:29.917+0000</td></tr><tr><td>false</td><td>SAUDIARABIA</td><td>3.0</td><td>1.565624059545E12</td><td>LUERroot</td><td>>LUER>SAUDIARABIA</td><td>SaudiArabia</td><td>>LUER</td><td>nan</td><td>12.0</td><td>LUER</td><td>2019-07-30T12:56:00.478+0000</td><td>Luerssen</td><td>8</td><td>vt1</td><td>2023-04-28T09:00:29.917+0000</td></tr><tr><td>false</td><td>BRUNEI</td><td>3.0</td><td>1.565624065632E12</td><td>LUERroot</td><td>>LUER>BRUNEI</td><td>Brunei</td><td>>LUER</td><td>nan</td><td>13.0</td><td>LUER</td><td>2019-07-30T12:56:00.478+0000</td><td>Luerssen</td><td>8</td><td>vt1</td><td>2023-04-28T09:00:29.917+0000</td></tr><tr><td>false</td><td>GERMANY</td><td>3.0</td><td>1.565623788828E12</td><td>LUERroot</td><td>>LUER>GERMANY</td><td>Germany</td><td>>LUER</td><td>nan</td><td>10.0</td><td>LUER</td><td>2019-07-30T12:56:00.478+0000</td><td>Luerssen</td><td>8</td><td>vt1</td><td>2023-04-28T09:00:29.917+0000</td></tr><tr><td>false</td><td>INDIANA</td><td>3.0</td><td>1.65106395835E12</td><td>HONDAroot</td><td>>HONDA>INDIANA</td><td>Indiana</td><td>>HONDA</td><td>nan</td><td>74.0</td><td>HONDA</td><td>2022-04-26T20:27:37.287+0000</td><td>HONDA</td><td>73</td><td>vt1</td><td>2023-04-28T09:00:29.917+0000</td></tr><tr><td>false</td><td>MARYSVILLE</td><td>3.0</td><td>1.65106397124E12</td><td>HONDAroot</td><td>>HONDA>MARYSVILLE</td><td>Marysville</td><td>>HONDA</td><td>nan</td><td>75.0</td><td>HONDA</td><td>2022-04-26T20:27:37.287+0000</td><td>HONDA</td><td>73</td><td>vt1</td><td>2023-04-28T09:00:29.917+0000</td></tr><tr><td>false</td><td>SAUDIARABIA</td><td>3.0</td><td>1.590422479021E12</td><td>LUERSAroot</td><td>>LUERSA>SAUDIARABIA</td><td>SaudiArabia</td><td>>LUERSA</td><td>nan</td><td>47.0</td><td>LUERSA</td><td>2020-05-21T13:56:13.904+0000</td><td>LuerssenSaudiArabia</td><td>46</td><td>vt1</td><td>2023-04-28T09:00:29.917+0000</td></tr><tr><td>false</td><td>DEFAULTSTORE</td><td>3.0</td><td>1.577822362874E12</td><td>sysconfig</td><td>>MOJIX>DEFAULTSTORE</td><td>Default Store</td><td>>MOJIX</td><td>nan</td><td>31.0</td><td>MOJIX</td><td>2019-12-31T19:59:22.874+0000</td><td>MOJIX</td><td>30</td><td>vt1</td><td>2023-04-28T09:00:29.917+0000</td></tr><tr><td>false</td><td>MENDEL</td><td>3.0</td><td>1.584629483206E12</td><td>CTVAroot</td><td>>CTVA>MENDEL</td><td>Mendel</td><td>>CTVA</td><td>nan</td><td>45.0</td><td>CTVA</td><td>2020-03-10T18:05:38.350+0000</td><td>Corteva Agriscience</td><td>42</td><td>vt1</td><td>2023-04-28T09:00:29.917+0000</td></tr><tr><td>false</td><td>AUSTRIA</td><td>3.0</td><td>1.571757508733E12</td><td>IKEAroot</td><td>>IKEA>AUSTRIA</td><td>Austria</td><td>>IKEA</td><td>nan</td><td>26.0</td><td>IKEA</td><td>2019-07-30T14:20:48.248+0000</td><td>IKEA</td><td>9</td><td>vt1</td><td>2023-04-28T09:00:29.917+0000</td></tr><tr><td>false</td><td>GERMANY</td><td>3.0</td><td>1.571757526796E12</td><td>IKEAroot</td><td>>IKEA>GERMANY</td><td>Germany</td><td>>IKEA</td><td>nan</td><td>27.0</td><td>IKEA</td><td>2019-07-30T14:20:48.248+0000</td><td>IKEA</td><td>9</td><td>vt1</td><td>2023-04-28T09:00:29.917+0000</td></tr><tr><td>false</td><td>MEM</td><td>3.0</td><td>1.6327459271E12</td><td>FEDEXroot</td><td>>FEDEX>MEM</td><td>Memphis</td><td>>FEDEX</td><td></td><td>62.0</td><td>FEDEX</td><td>2021-09-24T14:38:09.290+0000</td><td>FEDEX</td><td>53</td><td>vt1</td><td>2023-04-29T09:00:30.372+0000</td></tr><tr><td>false</td><td>EWR</td><td>3.0</td><td>1.632745923922E12</td><td>FEDEXroot</td><td>>FEDEX>EWR</td><td>Newark</td><td>>FEDEX</td><td></td><td>54.0</td><td>FEDEX</td><td>2021-09-24T14:38:09.290+0000</td><td>FEDEX</td><td>53</td><td>vt1</td><td>2023-04-29T09:00:30.372+0000</td></tr><tr><td>false</td><td>OAK</td><td>3.0</td><td>1.632745927912E12</td><td>FEDEXroot</td><td>>FEDEX>OAK</td><td>Oakland</td><td>>FEDEX</td><td></td><td>67.0</td><td>FEDEX</td><td>2021-09-24T14:38:09.290+0000</td><td>FEDEX</td><td>53</td><td>vt1</td><td>2023-04-29T09:00:30.372+0000</td></tr><tr><td>false</td><td>TX</td><td>3.0</td><td>1.682544767293E12</td><td>FEDEXroot</td><td>>FEDEX>TX</td><td>Texas</td><td>>FEDEX</td><td>None</td><td>78.0</td><td>FEDEX</td><td>2021-09-24T14:38:09.290+0000</td><td>FEDEX</td><td>53</td><td>vt1</td><td>2023-04-29T09:00:30.372+0000</td></tr><tr><td>false</td><td>ATL</td><td>3.0</td><td>1.679407601585E12</td><td>FEDEXroot</td><td>>FEDEX>ATL</td><td>Atlanta</td><td>>FEDEX</td><td>None</td><td>76.0</td><td>FEDEX</td><td>2021-09-24T14:38:09.290+0000</td><td>FEDEX</td><td>53</td><td>vt1</td><td>2023-04-29T09:00:30.372+0000</td></tr><tr><td>false</td><td>IND</td><td>3.0</td><td>1.632745925509E12</td><td>FEDEXroot</td><td>>FEDEX>IND</td><td>Indianapolis</td><td>>FEDEX</td><td></td><td>56.0</td><td>FEDEX</td><td>2021-09-24T14:38:09.290+0000</td><td>FEDEX</td><td>53</td><td>vt1</td><td>2023-04-29T09:00:30.372+0000</td></tr><tr><td>false</td><td>LAX</td><td>3.0</td><td>1.632745926279E12</td><td>FEDEXroot</td><td>>FEDEX>LAX</td><td>Los Angeles</td><td>>FEDEX</td><td></td><td>60.0</td><td>FEDEX</td><td>2021-09-24T14:38:09.290+0000</td><td>FEDEX</td><td>53</td><td>vt1</td><td>2023-04-29T09:00:30.372+0000</td></tr><tr><td>false</td><td>SAUDIARABIA</td><td>3.0</td><td>1.565624059545E12</td><td>LUERroot</td><td>>LUER>SAUDIARABIA</td><td>SaudiArabia</td><td>>LUER</td><td>nan</td><td>12.0</td><td>LUER</td><td>2019-07-30T12:56:00.478+0000</td><td>Luerssen</td><td>8</td><td>vt1</td><td>2023-04-29T09:00:30.372+0000</td></tr><tr><td>false</td><td>BRUNEI</td><td>3.0</td><td>1.565624065632E12</td><td>LUERroot</td><td>>LUER>BRUNEI</td><td>Brunei</td><td>>LUER</td><td>nan</td><td>13.0</td><td>LUER</td><td>2019-07-30T12:56:00.478+0000</td><td>Luerssen</td><td>8</td><td>vt1</td><td>2023-04-29T09:00:30.372+0000</td></tr><tr><td>false</td><td>GERMANY</td><td>3.0</td><td>1.565623788828E12</td><td>LUERroot</td><td>>LUER>GERMANY</td><td>Germany</td><td>>LUER</td><td>nan</td><td>10.0</td><td>LUER</td><td>2019-07-30T12:56:00.478+0000</td><td>Luerssen</td><td>8</td><td>vt1</td><td>2023-04-29T09:00:30.372+0000</td></tr><tr><td>false</td><td>INDIANA</td><td>3.0</td><td>1.65106395835E12</td><td>HONDAroot</td><td>>HONDA>INDIANA</td><td>Indiana</td><td>>HONDA</td><td>nan</td><td>74.0</td><td>HONDA</td><td>2022-04-26T20:27:37.287+0000</td><td>HONDA</td><td>73</td><td>vt1</td><td>2023-04-29T09:00:30.372+0000</td></tr><tr><td>false</td><td>MARYSVILLE</td><td>3.0</td><td>1.65106397124E12</td><td>HONDAroot</td><td>>HONDA>MARYSVILLE</td><td>Marysville</td><td>>HONDA</td><td>nan</td><td>75.0</td><td>HONDA</td><td>2022-04-26T20:27:37.287+0000</td><td>HONDA</td><td>73</td><td>vt1</td><td>2023-04-29T09:00:30.372+0000</td></tr><tr><td>false</td><td>SAUDIARABIA</td><td>3.0</td><td>1.590422479021E12</td><td>LUERSAroot</td><td>>LUERSA>SAUDIARABIA</td><td>SaudiArabia</td><td>>LUERSA</td><td>nan</td><td>47.0</td><td>LUERSA</td><td>2020-05-21T13:56:13.904+0000</td><td>LuerssenSaudiArabia</td><td>46</td><td>vt1</td><td>2023-04-29T09:00:30.372+0000</td></tr><tr><td>false</td><td>DEFAULTSTORE</td><td>3.0</td><td>1.577822362874E12</td><td>sysconfig</td><td>>MOJIX>DEFAULTSTORE</td><td>Default Store</td><td>>MOJIX</td><td>nan</td><td>31.0</td><td>MOJIX</td><td>2019-12-31T19:59:22.874+0000</td><td>MOJIX</td><td>30</td><td>vt1</td><td>2023-04-29T09:00:30.372+0000</td></tr><tr><td>false</td><td>MENDEL</td><td>3.0</td><td>1.584629483206E12</td><td>CTVAroot</td><td>>CTVA>MENDEL</td><td>Mendel</td><td>>CTVA</td><td>nan</td><td>45.0</td><td>CTVA</td><td>2020-03-10T18:05:38.350+0000</td><td>Corteva Agriscience</td><td>42</td><td>vt1</td><td>2023-04-29T09:00:30.372+0000</td></tr><tr><td>false</td><td>AUSTRIA</td><td>3.0</td><td>1.571757508733E12</td><td>IKEAroot</td><td>>IKEA>AUSTRIA</td><td>Austria</td><td>>IKEA</td><td>nan</td><td>26.0</td><td>IKEA</td><td>2019-07-30T14:20:48.248+0000</td><td>IKEA</td><td>9</td><td>vt1</td><td>2023-04-29T09:00:30.372+0000</td></tr><tr><td>false</td><td>GERMANY</td><td>3.0</td><td>1.571757526796E12</td><td>IKEAroot</td><td>>IKEA>GERMANY</td><td>Germany</td><td>>IKEA</td><td>nan</td><td>27.0</td><td>IKEA</td><td>2019-07-30T14:20:48.248+0000</td><td>IKEA</td><td>9</td><td>vt1</td><td>2023-04-29T09:00:30.372+0000</td></tr><tr><td>false</td><td>MEM</td><td>3.0</td><td>1.6327459271E12</td><td>FEDEXroot</td><td>>FEDEX>MEM</td><td>Memphis</td><td>>FEDEX</td><td></td><td>62.0</td><td>FEDEX</td><td>2021-09-24T14:38:09.290+0000</td><td>FEDEX</td><td>53</td><td>vt1</td><td>2023-04-16T09:00:28.581+0000</td></tr><tr><td>false</td><td>EWR</td><td>3.0</td><td>1.632745923922E12</td><td>FEDEXroot</td><td>>FEDEX>EWR</td><td>Newark</td><td>>FEDEX</td><td></td><td>54.0</td><td>FEDEX</td><td>2021-09-24T14:38:09.290+0000</td><td>FEDEX</td><td>53</td><td>vt1</td><td>2023-04-16T09:00:28.581+0000</td></tr><tr><td>false</td><td>OAK</td><td>3.0</td><td>1.632745927912E12</td><td>FEDEXroot</td><td>>FEDEX>OAK</td><td>Oakland</td><td>>FEDEX</td><td></td><td>67.0</td><td>FEDEX</td><td>2021-09-24T14:38:09.290+0000</td><td>FEDEX</td><td>53</td><td>vt1</td><td>2023-04-16T09:00:28.581+0000</td></tr><tr><td>false</td><td>ATL</td><td>3.0</td><td>1.679407601585E12</td><td>FEDEXroot</td><td>>FEDEX>ATL</td><td>Atlanta</td><td>>FEDEX</td><td>None</td><td>76.0</td><td>FEDEX</td><td>2021-09-24T14:38:09.290+0000</td><td>FEDEX</td><td>53</td><td>vt1</td><td>2023-04-16T09:00:28.581+0000</td></tr><tr><td>false</td><td>IND</td><td>3.0</td><td>1.632745925509E12</td><td>FEDEXroot</td><td>>FEDEX>IND</td><td>Indianapolis</td><td>>FEDEX</td><td></td><td>56.0</td><td>FEDEX</td><td>2021-09-24T14:38:09.290+0000</td><td>FEDEX</td><td>53</td><td>vt1</td><td>2023-04-16T09:00:28.581+0000</td></tr><tr><td>false</td><td>LAX</td><td>3.0</td><td>1.632745926279E12</td><td>FEDEXroot</td><td>>FEDEX>LAX</td><td>Los Angeles</td><td>>FEDEX</td><td></td><td>60.0</td><td>FEDEX</td><td>2021-09-24T14:38:09.290+0000</td><td>FEDEX</td><td>53</td><td>vt1</td><td>2023-04-16T09:00:28.581+0000</td></tr><tr><td>false</td><td>SAUDIARABIA</td><td>3.0</td><td>1.565624059545E12</td><td>LUERroot</td><td>>LUER>SAUDIARABIA</td><td>SaudiArabia</td><td>>LUER</td><td>nan</td><td>12.0</td><td>LUER</td><td>2019-07-30T12:56:00.478+0000</td><td>Luerssen</td><td>8</td><td>vt1</td><td>2023-04-16T09:00:28.581+0000</td></tr><tr><td>false</td><td>BRUNEI</td><td>3.0</td><td>1.565624065632E12</td><td>LUERroot</td><td>>LUER>BRUNEI</td><td>Brunei</td><td>>LUER</td><td>nan</td><td>13.0</td><td>LUER</td><td>2019-07-30T12:56:00.478+0000</td><td>Luerssen</td><td>8</td><td>vt1</td><td>2023-04-16T09:00:28.581+0000</td></tr><tr><td>false</td><td>GERMANY</td><td>3.0</td><td>1.565623788828E12</td><td>LUERroot</td><td>>LUER>GERMANY</td><td>Germany</td><td>>LUER</td><td>nan</td><td>10.0</td><td>LUER</td><td>2019-07-30T12:56:00.478+0000</td><td>Luerssen</td><td>8</td><td>vt1</td><td>2023-04-16T09:00:28.581+0000</td></tr><tr><td>false</td><td>INDIANA</td><td>3.0</td><td>1.65106395835E12</td><td>HONDAroot</td><td>>HONDA>INDIANA</td><td>Indiana</td><td>>HONDA</td><td>nan</td><td>74.0</td><td>HONDA</td><td>2022-04-26T20:27:37.287+0000</td><td>HONDA</td><td>73</td><td>vt1</td><td>2023-04-16T09:00:28.581+0000</td></tr><tr><td>false</td><td>MARYSVILLE</td><td>3.0</td><td>1.65106397124E12</td><td>HONDAroot</td><td>>HONDA>MARYSVILLE</td><td>Marysville</td><td>>HONDA</td><td>nan</td><td>75.0</td><td>HONDA</td><td>2022-04-26T20:27:37.287+0000</td><td>HONDA</td><td>73</td><td>vt1</td><td>2023-04-16T09:00:28.581+0000</td></tr><tr><td>false</td><td>SAUDIARABIA</td><td>3.0</td><td>1.590422479021E12</td><td>LUERSAroot</td><td>>LUERSA>SAUDIARABIA</td><td>SaudiArabia</td><td>>LUERSA</td><td>nan</td><td>47.0</td><td>LUERSA</td><td>2020-05-21T13:56:13.904+0000</td><td>LuerssenSaudiArabia</td><td>46</td><td>vt1</td><td>2023-04-16T09:00:28.581+0000</td></tr><tr><td>false</td><td>DEFAULTSTORE</td><td>3.0</td><td>1.577822362874E12</td><td>sysconfig</td><td>>MOJIX>DEFAULTSTORE</td><td>Default Store</td><td>>MOJIX</td><td>nan</td><td>31.0</td><td>MOJIX</td><td>2019-12-31T19:59:22.874+0000</td><td>MOJIX</td><td>30</td><td>vt1</td><td>2023-04-16T09:00:28.581+0000</td></tr><tr><td>false</td><td>MENDEL</td><td>3.0</td><td>1.584629483206E12</td><td>CTVAroot</td><td>>CTVA>MENDEL</td><td>Mendel</td><td>>CTVA</td><td>nan</td><td>45.0</td><td>CTVA</td><td>2020-03-10T18:05:38.350+0000</td><td>Corteva Agriscience</td><td>42</td><td>vt1</td><td>2023-04-16T09:00:28.581+0000</td></tr><tr><td>false</td><td>AUSTRIA</td><td>3.0</td><td>1.571757508733E12</td><td>IKEAroot</td><td>>IKEA>AUSTRIA</td><td>Austria</td><td>>IKEA</td><td>nan</td><td>26.0</td><td>IKEA</td><td>2019-07-30T14:20:48.248+0000</td><td>IKEA</td><td>9</td><td>vt1</td><td>2023-04-16T09:00:28.581+0000</td></tr><tr><td>false</td><td>GERMANY</td><td>3.0</td><td>1.571757526796E12</td><td>IKEAroot</td><td>>IKEA>GERMANY</td><td>Germany</td><td>>IKEA</td><td>nan</td><td>27.0</td><td>IKEA</td><td>2019-07-30T14:20:48.248+0000</td><td>IKEA</td><td>9</td><td>vt1</td><td>2023-04-16T09:00:28.581+0000</td></tr><tr><td>false</td><td>ATL</td><td>3.0</td><td>1.679407601585E12</td><td>FEDEXroot</td><td>>FEDEX>ATL</td><td>Atlanta</td><td>>FEDEX</td><td>None</td><td>76.0</td><td>FEDEX</td><td>2021-09-24T14:38:09.290+0000</td><td>FEDEX</td><td>53</td><td>vt1</td><td>2023-04-17T09:00:29.873+0000</td></tr><tr><td>false</td><td>IND</td><td>3.0</td><td>1.632745925509E12</td><td>FEDEXroot</td><td>>FEDEX>IND</td><td>Indianapolis</td><td>>FEDEX</td><td></td><td>56.0</td><td>FEDEX</td><td>2021-09-24T14:38:09.290+0000</td><td>FEDEX</td><td>53</td><td>vt1</td><td>2023-04-17T09:00:29.873+0000</td></tr><tr><td>false</td><td>LAX</td><td>3.0</td><td>1.632745926279E12</td><td>FEDEXroot</td><td>>FEDEX>LAX</td><td>Los Angeles</td><td>>FEDEX</td><td></td><td>60.0</td><td>FEDEX</td><td>2021-09-24T14:38:09.290+0000</td><td>FEDEX</td><td>53</td><td>vt1</td><td>2023-04-17T09:00:29.873+0000</td></tr><tr><td>false</td><td>MEM</td><td>3.0</td><td>1.6327459271E12</td><td>FEDEXroot</td><td>>FEDEX>MEM</td><td>Memphis</td><td>>FEDEX</td><td></td><td>62.0</td><td>FEDEX</td><td>2021-09-24T14:38:09.290+0000</td><td>FEDEX</td><td>53</td><td>vt1</td><td>2023-04-17T09:00:29.873+0000</td></tr><tr><td>false</td><td>EWR</td><td>3.0</td><td>1.632745923922E12</td><td>FEDEXroot</td><td>>FEDEX>EWR</td><td>Newark</td><td>>FEDEX</td><td></td><td>54.0</td><td>FEDEX</td><td>2021-09-24T14:38:09.290+0000</td><td>FEDEX</td><td>53</td><td>vt1</td><td>2023-04-17T09:00:29.873+0000</td></tr><tr><td>false</td><td>OAK</td><td>3.0</td><td>1.632745927912E12</td><td>FEDEXroot</td><td>>FEDEX>OAK</td><td>Oakland</td><td>>FEDEX</td><td></td><td>67.0</td><td>FEDEX</td><td>2021-09-24T14:38:09.290+0000</td><td>FEDEX</td><td>53</td><td>vt1</td><td>2023-04-17T09:00:29.873+0000</td></tr><tr><td>false</td><td>BRUNEI</td><td>3.0</td><td>1.565624065632E12</td><td>LUERroot</td><td>>LUER>BRUNEI</td><td>Brunei</td><td>>LUER</td><td>nan</td><td>13.0</td><td>LUER</td><td>2019-07-30T12:56:00.478+0000</td><td>Luerssen</td><td>8</td><td>vt1</td><td>2023-04-17T09:00:29.873+0000</td></tr><tr><td>false</td><td>GERMANY</td><td>3.0</td><td>1.565623788828E12</td><td>LUERroot</td><td>>LUER>GERMANY</td><td>Germany</td><td>>LUER</td><td>nan</td><td>10.0</td><td>LUER</td><td>2019-07-30T12:56:00.478+0000</td><td>Luerssen</td><td>8</td><td>vt1</td><td>2023-04-17T09:00:29.873+0000</td></tr><tr><td>false</td><td>SAUDIARABIA</td><td>3.0</td><td>1.565624059545E12</td><td>LUERroot</td><td>>LUER>SAUDIARABIA</td><td>SaudiArabia</td><td>>LUER</td><td>nan</td><td>12.0</td><td>LUER</td><td>2019-07-30T12:56:00.478+0000</td><td>Luerssen</td><td>8</td><td>vt1</td><td>2023-04-17T09:00:29.873+0000</td></tr><tr><td>false</td><td>MARYSVILLE</td><td>3.0</td><td>1.65106397124E12</td><td>HONDAroot</td><td>>HONDA>MARYSVILLE</td><td>Marysville</td><td>>HONDA</td><td>nan</td><td>75.0</td><td>HONDA</td><td>2022-04-26T20:27:37.287+0000</td><td>HONDA</td><td>73</td><td>vt1</td><td>2023-04-17T09:00:29.873+0000</td></tr><tr><td>false</td><td>INDIANA</td><td>3.0</td><td>1.65106395835E12</td><td>HONDAroot</td><td>>HONDA>INDIANA</td><td>Indiana</td><td>>HONDA</td><td>nan</td><td>74.0</td><td>HONDA</td><td>2022-04-26T20:27:37.287+0000</td><td>HONDA</td><td>73</td><td>vt1</td><td>2023-04-17T09:00:29.873+0000</td></tr><tr><td>false</td><td>SAUDIARABIA</td><td>3.0</td><td>1.590422479021E12</td><td>LUERSAroot</td><td>>LUERSA>SAUDIARABIA</td><td>SaudiArabia</td><td>>LUERSA</td><td>nan</td><td>47.0</td><td>LUERSA</td><td>2020-05-21T13:56:13.904+0000</td><td>LuerssenSaudiArabia</td><td>46</td><td>vt1</td><td>2023-04-17T09:00:29.873+0000</td></tr><tr><td>false</td><td>DEFAULTSTORE</td><td>3.0</td><td>1.577822362874E12</td><td>sysconfig</td><td>>MOJIX>DEFAULTSTORE</td><td>Default Store</td><td>>MOJIX</td><td>nan</td><td>31.0</td><td>MOJIX</td><td>2019-12-31T19:59:22.874+0000</td><td>MOJIX</td><td>30</td><td>vt1</td><td>2023-04-17T09:00:29.873+0000</td></tr><tr><td>false</td><td>MENDEL</td><td>3.0</td><td>1.584629483206E12</td><td>CTVAroot</td><td>>CTVA>MENDEL</td><td>Mendel</td><td>>CTVA</td><td>nan</td><td>45.0</td><td>CTVA</td><td>2020-03-10T18:05:38.350+0000</td><td>Corteva Agriscience</td><td>42</td><td>vt1</td><td>2023-04-17T09:00:29.873+0000</td></tr><tr><td>false</td><td>AUSTRIA</td><td>3.0</td><td>1.571757508733E12</td><td>IKEAroot</td><td>>IKEA>AUSTRIA</td><td>Austria</td><td>>IKEA</td><td>nan</td><td>26.0</td><td>IKEA</td><td>2019-07-30T14:20:48.248+0000</td><td>IKEA</td><td>9</td><td>vt1</td><td>2023-04-17T09:00:29.873+0000</td></tr><tr><td>false</td><td>GERMANY</td><td>3.0</td><td>1.571757526796E12</td><td>IKEAroot</td><td>>IKEA>GERMANY</td><td>Germany</td><td>>IKEA</td><td>nan</td><td>27.0</td><td>IKEA</td><td>2019-07-30T14:20:48.248+0000</td><td>IKEA</td><td>9</td><td>vt1</td><td>2023-04-17T09:00:29.873+0000</td></tr><tr><td>false</td><td>MEM</td><td>3.0</td><td>1.6327459271E12</td><td>FEDEXroot</td><td>>FEDEX>MEM</td><td>Memphis</td><td>>FEDEX</td><td></td><td>62.0</td><td>FEDEX</td><td>2021-09-24T14:38:09.290+0000</td><td>FEDEX</td><td>53</td><td>vt1</td><td>2023-04-18T09:00:32.066+0000</td></tr><tr><td>false</td><td>EWR</td><td>3.0</td><td>1.632745923922E12</td><td>FEDEXroot</td><td>>FEDEX>EWR</td><td>Newark</td><td>>FEDEX</td><td></td><td>54.0</td><td>FEDEX</td><td>2021-09-24T14:38:09.290+0000</td><td>FEDEX</td><td>53</td><td>vt1</td><td>2023-04-18T09:00:32.066+0000</td></tr><tr><td>false</td><td>OAK</td><td>3.0</td><td>1.632745927912E12</td><td>FEDEXroot</td><td>>FEDEX>OAK</td><td>Oakland</td><td>>FEDEX</td><td></td><td>67.0</td><td>FEDEX</td><td>2021-09-24T14:38:09.290+0000</td><td>FEDEX</td><td>53</td><td>vt1</td><td>2023-04-18T09:00:32.066+0000</td></tr><tr><td>false</td><td>ATL</td><td>3.0</td><td>1.679407601585E12</td><td>FEDEXroot</td><td>>FEDEX>ATL</td><td>Atlanta</td><td>>FEDEX</td><td>None</td><td>76.0</td><td>FEDEX</td><td>2021-09-24T14:38:09.290+0000</td><td>FEDEX</td><td>53</td><td>vt1</td><td>2023-04-18T09:00:32.066+0000</td></tr><tr><td>false</td><td>IND</td><td>3.0</td><td>1.632745925509E12</td><td>FEDEXroot</td><td>>FEDEX>IND</td><td>Indianapolis</td><td>>FEDEX</td><td></td><td>56.0</td><td>FEDEX</td><td>2021-09-24T14:38:09.290+0000</td><td>FEDEX</td><td>53</td><td>vt1</td><td>2023-04-18T09:00:32.066+0000</td></tr><tr><td>false</td><td>LAX</td><td>3.0</td><td>1.632745926279E12</td><td>FEDEXroot</td><td>>FEDEX>LAX</td><td>Los Angeles</td><td>>FEDEX</td><td></td><td>60.0</td><td>FEDEX</td><td>2021-09-24T14:38:09.290+0000</td><td>FEDEX</td><td>53</td><td>vt1</td><td>2023-04-18T09:00:32.066+0000</td></tr><tr><td>false</td><td>SAUDIARABIA</td><td>3.0</td><td>1.565624059545E12</td><td>LUERroot</td><td>>LUER>SAUDIARABIA</td><td>SaudiArabia</td><td>>LUER</td><td>nan</td><td>12.0</td><td>LUER</td><td>2019-07-30T12:56:00.478+0000</td><td>Luerssen</td><td>8</td><td>vt1</td><td>2023-04-18T09:00:32.066+0000</td></tr><tr><td>false</td><td>BRUNEI</td><td>3.0</td><td>1.565624065632E12</td><td>LUERroot</td><td>>LUER>BRUNEI</td><td>Brunei</td><td>>LUER</td><td>nan</td><td>13.0</td><td>LUER</td><td>2019-07-30T12:56:00.478+0000</td><td>Luerssen</td><td>8</td><td>vt1</td><td>2023-04-18T09:00:32.066+0000</td></tr><tr><td>false</td><td>GERMANY</td><td>3.0</td><td>1.565623788828E12</td><td>LUERroot</td><td>>LUER>GERMANY</td><td>Germany</td><td>>LUER</td><td>nan</td><td>10.0</td><td>LUER</td><td>2019-07-30T12:56:00.478+0000</td><td>Luerssen</td><td>8</td><td>vt1</td><td>2023-04-18T09:00:32.066+0000</td></tr><tr><td>false</td><td>MARYSVILLE</td><td>3.0</td><td>1.65106397124E12</td><td>HONDAroot</td><td>>HONDA>MARYSVILLE</td><td>Marysville</td><td>>HONDA</td><td>nan</td><td>75.0</td><td>HONDA</td><td>2022-04-26T20:27:37.287+0000</td><td>HONDA</td><td>73</td><td>vt1</td><td>2023-04-18T09:00:32.066+0000</td></tr><tr><td>false</td><td>INDIANA</td><td>3.0</td><td>1.65106395835E12</td><td>HONDAroot</td><td>>HONDA>INDIANA</td><td>Indiana</td><td>>HONDA</td><td>nan</td><td>74.0</td><td>HONDA</td><td>2022-04-26T20:27:37.287+0000</td><td>HONDA</td><td>73</td><td>vt1</td><td>2023-04-18T09:00:32.066+0000</td></tr><tr><td>false</td><td>SAUDIARABIA</td><td>3.0</td><td>1.590422479021E12</td><td>LUERSAroot</td><td>>LUERSA>SAUDIARABIA</td><td>SaudiArabia</td><td>>LUERSA</td><td>nan</td><td>47.0</td><td>LUERSA</td><td>2020-05-21T13:56:13.904+0000</td><td>LuerssenSaudiArabia</td><td>46</td><td>vt1</td><td>2023-04-18T09:00:32.066+0000</td></tr><tr><td>false</td><td>DEFAULTSTORE</td><td>3.0</td><td>1.577822362874E12</td><td>sysconfig</td><td>>MOJIX>DEFAULTSTORE</td><td>Default Store</td><td>>MOJIX</td><td>nan</td><td>31.0</td><td>MOJIX</td><td>2019-12-31T19:59:22.874+0000</td><td>MOJIX</td><td>30</td><td>vt1</td><td>2023-04-18T09:00:32.066+0000</td></tr><tr><td>false</td><td>MENDEL</td><td>3.0</td><td>1.584629483206E12</td><td>CTVAroot</td><td>>CTVA>MENDEL</td><td>Mendel</td><td>>CTVA</td><td>nan</td><td>45.0</td><td>CTVA</td><td>2020-03-10T18:05:38.350+0000</td><td>Corteva Agriscience</td><td>42</td><td>vt1</td><td>2023-04-18T09:00:32.066+0000</td></tr><tr><td>false</td><td>AUSTRIA</td><td>3.0</td><td>1.571757508733E12</td><td>IKEAroot</td><td>>IKEA>AUSTRIA</td><td>Austria</td><td>>IKEA</td><td>nan</td><td>26.0</td><td>IKEA</td><td>2019-07-30T14:20:48.248+0000</td><td>IKEA</td><td>9</td><td>vt1</td><td>2023-04-18T09:00:32.066+0000</td></tr><tr><td>false</td><td>GERMANY</td><td>3.0</td><td>1.571757526796E12</td><td>IKEAroot</td><td>>IKEA>GERMANY</td><td>Germany</td><td>>IKEA</td><td>nan</td><td>27.0</td><td>IKEA</td><td>2019-07-30T14:20:48.248+0000</td><td>IKEA</td><td>9</td><td>vt1</td><td>2023-04-18T09:00:32.066+0000</td></tr><tr><td>false</td><td>ATL</td><td>3.0</td><td>1.679407601585E12</td><td>FEDEXroot</td><td>>FEDEX>ATL</td><td>Atlanta</td><td>>FEDEX</td><td>None</td><td>76.0</td><td>FEDEX</td><td>2021-09-24T14:38:09.290+0000</td><td>FEDEX</td><td>53</td><td>vt1</td><td>2023-04-19T09:00:29.167+0000</td></tr><tr><td>false</td><td>IND</td><td>3.0</td><td>1.632745925509E12</td><td>FEDEXroot</td><td>>FEDEX>IND</td><td>Indianapolis</td><td>>FEDEX</td><td></td><td>56.0</td><td>FEDEX</td><td>2021-09-24T14:38:09.290+0000</td><td>FEDEX</td><td>53</td><td>vt1</td><td>2023-04-19T09:00:29.167+0000</td></tr><tr><td>false</td><td>LAX</td><td>3.0</td><td>1.632745926279E12</td><td>FEDEXroot</td><td>>FEDEX>LAX</td><td>Los Angeles</td><td>>FEDEX</td><td></td><td>60.0</td><td>FEDEX</td><td>2021-09-24T14:38:09.290+0000</td><td>FEDEX</td><td>53</td><td>vt1</td><td>2023-04-19T09:00:29.167+0000</td></tr><tr><td>false</td><td>MEM</td><td>3.0</td><td>1.6327459271E12</td><td>FEDEXroot</td><td>>FEDEX>MEM</td><td>Memphis</td><td>>FEDEX</td><td></td><td>62.0</td><td>FEDEX</td><td>2021-09-24T14:38:09.290+0000</td><td>FEDEX</td><td>53</td><td>vt1</td><td>2023-04-19T09:00:29.167+0000</td></tr><tr><td>false</td><td>EWR</td><td>3.0</td><td>1.632745923922E12</td><td>FEDEXroot</td><td>>FEDEX>EWR</td><td>Newark</td><td>>FEDEX</td><td></td><td>54.0</td><td>FEDEX</td><td>2021-09-24T14:38:09.290+0000</td><td>FEDEX</td><td>53</td><td>vt1</td><td>2023-04-19T09:00:29.167+0000</td></tr><tr><td>false</td><td>OAK</td><td>3.0</td><td>1.632745927912E12</td><td>FEDEXroot</td><td>>FEDEX>OAK</td><td>Oakland</td><td>>FEDEX</td><td></td><td>67.0</td><td>FEDEX</td><td>2021-09-24T14:38:09.290+0000</td><td>FEDEX</td><td>53</td><td>vt1</td><td>2023-04-19T09:00:29.167+0000</td></tr><tr><td>false</td><td>SAUDIARABIA</td><td>3.0</td><td>1.565624059545E12</td><td>LUERroot</td><td>>LUER>SAUDIARABIA</td><td>SaudiArabia</td><td>>LUER</td><td>nan</td><td>12.0</td><td>LUER</td><td>2019-07-30T12:56:00.478+0000</td><td>Luerssen</td><td>8</td><td>vt1</td><td>2023-04-19T09:00:29.167+0000</td></tr><tr><td>false</td><td>BRUNEI</td><td>3.0</td><td>1.565624065632E12</td><td>LUERroot</td><td>>LUER>BRUNEI</td><td>Brunei</td><td>>LUER</td><td>nan</td><td>13.0</td><td>LUER</td><td>2019-07-30T12:56:00.478+0000</td><td>Luerssen</td><td>8</td><td>vt1</td><td>2023-04-19T09:00:29.167+0000</td></tr><tr><td>false</td><td>GERMANY</td><td>3.0</td><td>1.565623788828E12</td><td>LUERroot</td><td>>LUER>GERMANY</td><td>Germany</td><td>>LUER</td><td>nan</td><td>10.0</td><td>LUER</td><td>2019-07-30T12:56:00.478+0000</td><td>Luerssen</td><td>8</td><td>vt1</td><td>2023-04-19T09:00:29.167+0000</td></tr><tr><td>false</td><td>INDIANA</td><td>3.0</td><td>1.65106395835E12</td><td>HONDAroot</td><td>>HONDA>INDIANA</td><td>Indiana</td><td>>HONDA</td><td>nan</td><td>74.0</td><td>HONDA</td><td>2022-04-26T20:27:37.287+0000</td><td>HONDA</td><td>73</td><td>vt1</td><td>2023-04-19T09:00:29.167+0000</td></tr><tr><td>false</td><td>MARYSVILLE</td><td>3.0</td><td>1.65106397124E12</td><td>HONDAroot</td><td>>HONDA>MARYSVILLE</td><td>Marysville</td><td>>HONDA</td><td>nan</td><td>75.0</td><td>HONDA</td><td>2022-04-26T20:27:37.287+0000</td><td>HONDA</td><td>73</td><td>vt1</td><td>2023-04-19T09:00:29.167+0000</td></tr><tr><td>false</td><td>SAUDIARABIA</td><td>3.0</td><td>1.590422479021E12</td><td>LUERSAroot</td><td>>LUERSA>SAUDIARABIA</td><td>SaudiArabia</td><td>>LUERSA</td><td>nan</td><td>47.0</td><td>LUERSA</td><td>2020-05-21T13:56:13.904+0000</td><td>LuerssenSaudiArabia</td><td>46</td><td>vt1</td><td>2023-04-19T09:00:29.167+0000</td></tr><tr><td>false</td><td>DEFAULTSTORE</td><td>3.0</td><td>1.577822362874E12</td><td>sysconfig</td><td>>MOJIX>DEFAULTSTORE</td><td>Default Store</td><td>>MOJIX</td><td>nan</td><td>31.0</td><td>MOJIX</td><td>2019-12-31T19:59:22.874+0000</td><td>MOJIX</td><td>30</td><td>vt1</td><td>2023-04-19T09:00:29.167+0000</td></tr><tr><td>false</td><td>MENDEL</td><td>3.0</td><td>1.584629483206E12</td><td>CTVAroot</td><td>>CTVA>MENDEL</td><td>Mendel</td><td>>CTVA</td><td>nan</td><td>45.0</td><td>CTVA</td><td>2020-03-10T18:05:38.350+0000</td><td>Corteva Agriscience</td><td>42</td><td>vt1</td><td>2023-04-19T09:00:29.167+0000</td></tr><tr><td>false</td><td>AUSTRIA</td><td>3.0</td><td>1.571757508733E12</td><td>IKEAroot</td><td>>IKEA>AUSTRIA</td><td>Austria</td><td>>IKEA</td><td>nan</td><td>26.0</td><td>IKEA</td><td>2019-07-30T14:20:48.248+0000</td><td>IKEA</td><td>9</td><td>vt1</td><td>2023-04-19T09:00:29.167+0000</td></tr><tr><td>false</td><td>GERMANY</td><td>3.0</td><td>1.571757526796E12</td><td>IKEAroot</td><td>>IKEA>GERMANY</td><td>Germany</td><td>>IKEA</td><td>nan</td><td>27.0</td><td>IKEA</td><td>2019-07-30T14:20:48.248+0000</td><td>IKEA</td><td>9</td><td>vt1</td><td>2023-04-19T09:00:29.167+0000</td></tr><tr><td>false</td><td>MEM</td><td>3.0</td><td>1.6327459271E12</td><td>FEDEXroot</td><td>>FEDEX>MEM</td><td>Memphis</td><td>>FEDEX</td><td></td><td>62.0</td><td>FEDEX</td><td>2021-09-24T14:38:09.290+0000</td><td>FEDEX</td><td>53</td><td>vt1</td><td>2023-04-20T09:00:33.420+0000</td></tr><tr><td>false</td><td>EWR</td><td>3.0</td><td>1.632745923922E12</td><td>FEDEXroot</td><td>>FEDEX>EWR</td><td>Newark</td><td>>FEDEX</td><td></td><td>54.0</td><td>FEDEX</td><td>2021-09-24T14:38:09.290+0000</td><td>FEDEX</td><td>53</td><td>vt1</td><td>2023-04-20T09:00:33.420+0000</td></tr><tr><td>false</td><td>OAK</td><td>3.0</td><td>1.632745927912E12</td><td>FEDEXroot</td><td>>FEDEX>OAK</td><td>Oakland</td><td>>FEDEX</td><td></td><td>67.0</td><td>FEDEX</td><td>2021-09-24T14:38:09.290+0000</td><td>FEDEX</td><td>53</td><td>vt1</td><td>2023-04-20T09:00:33.420+0000</td></tr><tr><td>false</td><td>ATL</td><td>3.0</td><td>1.679407601585E12</td><td>FEDEXroot</td><td>>FEDEX>ATL</td><td>Atlanta</td><td>>FEDEX</td><td>None</td><td>76.0</td><td>FEDEX</td><td>2021-09-24T14:38:09.290+0000</td><td>FEDEX</td><td>53</td><td>vt1</td><td>2023-04-20T09:00:33.420+0000</td></tr><tr><td>false</td><td>IND</td><td>3.0</td><td>1.632745925509E12</td><td>FEDEXroot</td><td>>FEDEX>IND</td><td>Indianapolis</td><td>>FEDEX</td><td></td><td>56.0</td><td>FEDEX</td><td>2021-09-24T14:38:09.290+0000</td><td>FEDEX</td><td>53</td><td>vt1</td><td>2023-04-20T09:00:33.420+0000</td></tr><tr><td>false</td><td>LAX</td><td>3.0</td><td>1.632745926279E12</td><td>FEDEXroot</td><td>>FEDEX>LAX</td><td>Los Angeles</td><td>>FEDEX</td><td></td><td>60.0</td><td>FEDEX</td><td>2021-09-24T14:38:09.290+0000</td><td>FEDEX</td><td>53</td><td>vt1</td><td>2023-04-20T09:00:33.420+0000</td></tr><tr><td>false</td><td>BRUNEI</td><td>3.0</td><td>1.565624065632E12</td><td>LUERroot</td><td>>LUER>BRUNEI</td><td>Brunei</td><td>>LUER</td><td>nan</td><td>13.0</td><td>LUER</td><td>2019-07-30T12:56:00.478+0000</td><td>Luerssen</td><td>8</td><td>vt1</td><td>2023-04-20T09:00:33.420+0000</td></tr><tr><td>false</td><td>GERMANY</td><td>3.0</td><td>1.565623788828E12</td><td>LUERroot</td><td>>LUER>GERMANY</td><td>Germany</td><td>>LUER</td><td>nan</td><td>10.0</td><td>LUER</td><td>2019-07-30T12:56:00.478+0000</td><td>Luerssen</td><td>8</td><td>vt1</td><td>2023-04-20T09:00:33.420+0000</td></tr><tr><td>false</td><td>SAUDIARABIA</td><td>3.0</td><td>1.565624059545E12</td><td>LUERroot</td><td>>LUER>SAUDIARABIA</td><td>SaudiArabia</td><td>>LUER</td><td>nan</td><td>12.0</td><td>LUER</td><td>2019-07-30T12:56:00.478+0000</td><td>Luerssen</td><td>8</td><td>vt1</td><td>2023-04-20T09:00:33.420+0000</td></tr><tr><td>false</td><td>INDIANA</td><td>3.0</td><td>1.65106395835E12</td><td>HONDAroot</td><td>>HONDA>INDIANA</td><td>Indiana</td><td>>HONDA</td><td>nan</td><td>74.0</td><td>HONDA</td><td>2022-04-26T20:27:37.287+0000</td><td>HONDA</td><td>73</td><td>vt1</td><td>2023-04-20T09:00:33.420+0000</td></tr><tr><td>false</td><td>MARYSVILLE</td><td>3.0</td><td>1.65106397124E12</td><td>HONDAroot</td><td>>HONDA>MARYSVILLE</td><td>Marysville</td><td>>HONDA</td><td>nan</td><td>75.0</td><td>HONDA</td><td>2022-04-26T20:27:37.287+0000</td><td>HONDA</td><td>73</td><td>vt1</td><td>2023-04-20T09:00:33.420+0000</td></tr><tr><td>false</td><td>SAUDIARABIA</td><td>3.0</td><td>1.590422479021E12</td><td>LUERSAroot</td><td>>LUERSA>SAUDIARABIA</td><td>SaudiArabia</td><td>>LUERSA</td><td>nan</td><td>47.0</td><td>LUERSA</td><td>2020-05-21T13:56:13.904+0000</td><td>LuerssenSaudiArabia</td><td>46</td><td>vt1</td><td>2023-04-20T09:00:33.420+0000</td></tr><tr><td>false</td><td>DEFAULTSTORE</td><td>3.0</td><td>1.577822362874E12</td><td>sysconfig</td><td>>MOJIX>DEFAULTSTORE</td><td>Default Store</td><td>>MOJIX</td><td>nan</td><td>31.0</td><td>MOJIX</td><td>2019-12-31T19:59:22.874+0000</td><td>MOJIX</td><td>30</td><td>vt1</td><td>2023-04-20T09:00:33.420+0000</td></tr><tr><td>false</td><td>MENDEL</td><td>3.0</td><td>1.584629483206E12</td><td>CTVAroot</td><td>>CTVA>MENDEL</td><td>Mendel</td><td>>CTVA</td><td>nan</td><td>45.0</td><td>CTVA</td><td>2020-03-10T18:05:38.350+0000</td><td>Corteva Agriscience</td><td>42</td><td>vt1</td><td>2023-04-20T09:00:33.420+0000</td></tr><tr><td>false</td><td>AUSTRIA</td><td>3.0</td><td>1.571757508733E12</td><td>IKEAroot</td><td>>IKEA>AUSTRIA</td><td>Austria</td><td>>IKEA</td><td>nan</td><td>26.0</td><td>IKEA</td><td>2019-07-30T14:20:48.248+0000</td><td>IKEA</td><td>9</td><td>vt1</td><td>2023-04-20T09:00:33.420+0000</td></tr><tr><td>false</td><td>GERMANY</td><td>3.0</td><td>1.571757526796E12</td><td>IKEAroot</td><td>>IKEA>GERMANY</td><td>Germany</td><td>>IKEA</td><td>nan</td><td>27.0</td><td>IKEA</td><td>2019-07-30T14:20:48.248+0000</td><td>IKEA</td><td>9</td><td>vt1</td><td>2023-04-20T09:00:33.420+0000</td></tr><tr><td>false</td><td>MEM</td><td>3.0</td><td>1.6327459271E12</td><td>FEDEXroot</td><td>>FEDEX>MEM</td><td>Memphis</td><td>>FEDEX</td><td></td><td>62.0</td><td>FEDEX</td><td>2021-09-24T14:38:09.290+0000</td><td>FEDEX</td><td>53</td><td>vt1</td><td>2023-04-21T09:00:33.146+0000</td></tr><tr><td>false</td><td>EWR</td><td>3.0</td><td>1.632745923922E12</td><td>FEDEXroot</td><td>>FEDEX>EWR</td><td>Newark</td><td>>FEDEX</td><td></td><td>54.0</td><td>FEDEX</td><td>2021-09-24T14:38:09.290+0000</td><td>FEDEX</td><td>53</td><td>vt1</td><td>2023-04-21T09:00:33.146+0000</td></tr><tr><td>false</td><td>OAK</td><td>3.0</td><td>1.632745927912E12</td><td>FEDEXroot</td><td>>FEDEX>OAK</td><td>Oakland</td><td>>FEDEX</td><td></td><td>67.0</td><td>FEDEX</td><td>2021-09-24T14:38:09.290+0000</td><td>FEDEX</td><td>53</td><td>vt1</td><td>2023-04-21T09:00:33.146+0000</td></tr><tr><td>false</td><td>ATL</td><td>3.0</td><td>1.679407601585E12</td><td>FEDEXroot</td><td>>FEDEX>ATL</td><td>Atlanta</td><td>>FEDEX</td><td>None</td><td>76.0</td><td>FEDEX</td><td>2021-09-24T14:38:09.290+0000</td><td>FEDEX</td><td>53</td><td>vt1</td><td>2023-04-21T09:00:33.146+0000</td></tr><tr><td>false</td><td>IND</td><td>3.0</td><td>1.632745925509E12</td><td>FEDEXroot</td><td>>FEDEX>IND</td><td>Indianapolis</td><td>>FEDEX</td><td></td><td>56.0</td><td>FEDEX</td><td>2021-09-24T14:38:09.290+0000</td><td>FEDEX</td><td>53</td><td>vt1</td><td>2023-04-21T09:00:33.146+0000</td></tr><tr><td>false</td><td>LAX</td><td>3.0</td><td>1.632745926279E12</td><td>FEDEXroot</td><td>>FEDEX>LAX</td><td>Los Angeles</td><td>>FEDEX</td><td></td><td>60.0</td><td>FEDEX</td><td>2021-09-24T14:38:09.290+0000</td><td>FEDEX</td><td>53</td><td>vt1</td><td>2023-04-21T09:00:33.146+0000</td></tr><tr><td>false</td><td>BRUNEI</td><td>3.0</td><td>1.565624065632E12</td><td>LUERroot</td><td>>LUER>BRUNEI</td><td>Brunei</td><td>>LUER</td><td>nan</td><td>13.0</td><td>LUER</td><td>2019-07-30T12:56:00.478+0000</td><td>Luerssen</td><td>8</td><td>vt1</td><td>2023-04-21T09:00:33.146+0000</td></tr><tr><td>false</td><td>GERMANY</td><td>3.0</td><td>1.565623788828E12</td><td>LUERroot</td><td>>LUER>GERMANY</td><td>Germany</td><td>>LUER</td><td>nan</td><td>10.0</td><td>LUER</td><td>2019-07-30T12:56:00.478+0000</td><td>Luerssen</td><td>8</td><td>vt1</td><td>2023-04-21T09:00:33.146+0000</td></tr><tr><td>false</td><td>SAUDIARABIA</td><td>3.0</td><td>1.565624059545E12</td><td>LUERroot</td><td>>LUER>SAUDIARABIA</td><td>SaudiArabia</td><td>>LUER</td><td>nan</td><td>12.0</td><td>LUER</td><td>2019-07-30T12:56:00.478+0000</td><td>Luerssen</td><td>8</td><td>vt1</td><td>2023-04-21T09:00:33.146+0000</td></tr><tr><td>false</td><td>MARYSVILLE</td><td>3.0</td><td>1.65106397124E12</td><td>HONDAroot</td><td>>HONDA>MARYSVILLE</td><td>Marysville</td><td>>HONDA</td><td>nan</td><td>75.0</td><td>HONDA</td><td>2022-04-26T20:27:37.287+0000</td><td>HONDA</td><td>73</td><td>vt1</td><td>2023-04-21T09:00:33.146+0000</td></tr><tr><td>false</td><td>INDIANA</td><td>3.0</td><td>1.65106395835E12</td><td>HONDAroot</td><td>>HONDA>INDIANA</td><td>Indiana</td><td>>HONDA</td><td>nan</td><td>74.0</td><td>HONDA</td><td>2022-04-26T20:27:37.287+0000</td><td>HONDA</td><td>73</td><td>vt1</td><td>2023-04-21T09:00:33.146+0000</td></tr><tr><td>false</td><td>SAUDIARABIA</td><td>3.0</td><td>1.590422479021E12</td><td>LUERSAroot</td><td>>LUERSA>SAUDIARABIA</td><td>SaudiArabia</td><td>>LUERSA</td><td>nan</td><td>47.0</td><td>LUERSA</td><td>2020-05-21T13:56:13.904+0000</td><td>LuerssenSaudiArabia</td><td>46</td><td>vt1</td><td>2023-04-21T09:00:33.146+0000</td></tr><tr><td>false</td><td>DEFAULTSTORE</td><td>3.0</td><td>1.577822362874E12</td><td>sysconfig</td><td>>MOJIX>DEFAULTSTORE</td><td>Default Store</td><td>>MOJIX</td><td>nan</td><td>31.0</td><td>MOJIX</td><td>2019-12-31T19:59:22.874+0000</td><td>MOJIX</td><td>30</td><td>vt1</td><td>2023-04-21T09:00:33.146+0000</td></tr><tr><td>false</td><td>MENDEL</td><td>3.0</td><td>1.584629483206E12</td><td>CTVAroot</td><td>>CTVA>MENDEL</td><td>Mendel</td><td>>CTVA</td><td>nan</td><td>45.0</td><td>CTVA</td><td>2020-03-10T18:05:38.350+0000</td><td>Corteva Agriscience</td><td>42</td><td>vt1</td><td>2023-04-21T09:00:33.146+0000</td></tr><tr><td>false</td><td>AUSTRIA</td><td>3.0</td><td>1.571757508733E12</td><td>IKEAroot</td><td>>IKEA>AUSTRIA</td><td>Austria</td><td>>IKEA</td><td>nan</td><td>26.0</td><td>IKEA</td><td>2019-07-30T14:20:48.248+0000</td><td>IKEA</td><td>9</td><td>vt1</td><td>2023-04-21T09:00:33.146+0000</td></tr><tr><td>false</td><td>GERMANY</td><td>3.0</td><td>1.571757526796E12</td><td>IKEAroot</td><td>>IKEA>GERMANY</td><td>Germany</td><td>>IKEA</td><td>nan</td><td>27.0</td><td>IKEA</td><td>2019-07-30T14:20:48.248+0000</td><td>IKEA</td><td>9</td><td>vt1</td><td>2023-04-21T09:00:33.146+0000</td></tr><tr><td>false</td><td>MEM</td><td>3.0</td><td>1.6327459271E12</td><td>FEDEXroot</td><td>>FEDEX>MEM</td><td>Memphis</td><td>>FEDEX</td><td></td><td>62.0</td><td>FEDEX</td><td>2021-09-24T14:38:09.290+0000</td><td>FEDEX</td><td>53</td><td>vt1</td><td>2023-04-22T09:00:31.733+0000</td></tr><tr><td>false</td><td>EWR</td><td>3.0</td><td>1.632745923922E12</td><td>FEDEXroot</td><td>>FEDEX>EWR</td><td>Newark</td><td>>FEDEX</td><td></td><td>54.0</td><td>FEDEX</td><td>2021-09-24T14:38:09.290+0000</td><td>FEDEX</td><td>53</td><td>vt1</td><td>2023-04-22T09:00:31.733+0000</td></tr><tr><td>false</td><td>OAK</td><td>3.0</td><td>1.632745927912E12</td><td>FEDEXroot</td><td>>FEDEX>OAK</td><td>Oakland</td><td>>FEDEX</td><td></td><td>67.0</td><td>FEDEX</td><td>2021-09-24T14:38:09.290+0000</td><td>FEDEX</td><td>53</td><td>vt1</td><td>2023-04-22T09:00:31.733+0000</td></tr><tr><td>false</td><td>ATL</td><td>3.0</td><td>1.679407601585E12</td><td>FEDEXroot</td><td>>FEDEX>ATL</td><td>Atlanta</td><td>>FEDEX</td><td>None</td><td>76.0</td><td>FEDEX</td><td>2021-09-24T14:38:09.290+0000</td><td>FEDEX</td><td>53</td><td>vt1</td><td>2023-04-22T09:00:31.733+0000</td></tr><tr><td>false</td><td>IND</td><td>3.0</td><td>1.632745925509E12</td><td>FEDEXroot</td><td>>FEDEX>IND</td><td>Indianapolis</td><td>>FEDEX</td><td></td><td>56.0</td><td>FEDEX</td><td>2021-09-24T14:38:09.290+0000</td><td>FEDEX</td><td>53</td><td>vt1</td><td>2023-04-22T09:00:31.733+0000</td></tr><tr><td>false</td><td>LAX</td><td>3.0</td><td>1.632745926279E12</td><td>FEDEXroot</td><td>>FEDEX>LAX</td><td>Los Angeles</td><td>>FEDEX</td><td></td><td>60.0</td><td>FEDEX</td><td>2021-09-24T14:38:09.290+0000</td><td>FEDEX</td><td>53</td><td>vt1</td><td>2023-04-22T09:00:31.733+0000</td></tr><tr><td>false</td><td>SAUDIARABIA</td><td>3.0</td><td>1.565624059545E12</td><td>LUERroot</td><td>>LUER>SAUDIARABIA</td><td>SaudiArabia</td><td>>LUER</td><td>nan</td><td>12.0</td><td>LUER</td><td>2019-07-30T12:56:00.478+0000</td><td>Luerssen</td><td>8</td><td>vt1</td><td>2023-04-22T09:00:31.733+0000</td></tr><tr><td>false</td><td>BRUNEI</td><td>3.0</td><td>1.565624065632E12</td><td>LUERroot</td><td>>LUER>BRUNEI</td><td>Brunei</td><td>>LUER</td><td>nan</td><td>13.0</td><td>LUER</td><td>2019-07-30T12:56:00.478+0000</td><td>Luerssen</td><td>8</td><td>vt1</td><td>2023-04-22T09:00:31.733+0000</td></tr><tr><td>false</td><td>GERMANY</td><td>3.0</td><td>1.565623788828E12</td><td>LUERroot</td><td>>LUER>GERMANY</td><td>Germany</td><td>>LUER</td><td>nan</td><td>10.0</td><td>LUER</td><td>2019-07-30T12:56:00.478+0000</td><td>Luerssen</td><td>8</td><td>vt1</td><td>2023-04-22T09:00:31.733+0000</td></tr><tr><td>false</td><td>INDIANA</td><td>3.0</td><td>1.65106395835E12</td><td>HONDAroot</td><td>>HONDA>INDIANA</td><td>Indiana</td><td>>HONDA</td><td>nan</td><td>74.0</td><td>HONDA</td><td>2022-04-26T20:27:37.287+0000</td><td>HONDA</td><td>73</td><td>vt1</td><td>2023-04-22T09:00:31.733+0000</td></tr><tr><td>false</td><td>MARYSVILLE</td><td>3.0</td><td>1.65106397124E12</td><td>HONDAroot</td><td>>HONDA>MARYSVILLE</td><td>Marysville</td><td>>HONDA</td><td>nan</td><td>75.0</td><td>HONDA</td><td>2022-04-26T20:27:37.287+0000</td><td>HONDA</td><td>73</td><td>vt1</td><td>2023-04-22T09:00:31.733+0000</td></tr><tr><td>false</td><td>SAUDIARABIA</td><td>3.0</td><td>1.590422479021E12</td><td>LUERSAroot</td><td>>LUERSA>SAUDIARABIA</td><td>SaudiArabia</td><td>>LUERSA</td><td>nan</td><td>47.0</td><td>LUERSA</td><td>2020-05-21T13:56:13.904+0000</td><td>LuerssenSaudiArabia</td><td>46</td><td>vt1</td><td>2023-04-22T09:00:31.733+0000</td></tr><tr><td>false</td><td>DEFAULTSTORE</td><td>3.0</td><td>1.577822362874E12</td><td>sysconfig</td><td>>MOJIX>DEFAULTSTORE</td><td>Default Store</td><td>>MOJIX</td><td>nan</td><td>31.0</td><td>MOJIX</td><td>2019-12-31T19:59:22.874+0000</td><td>MOJIX</td><td>30</td><td>vt1</td><td>2023-04-22T09:00:31.733+0000</td></tr><tr><td>false</td><td>MENDEL</td><td>3.0</td><td>1.584629483206E12</td><td>CTVAroot</td><td>>CTVA>MENDEL</td><td>Mendel</td><td>>CTVA</td><td>nan</td><td>45.0</td><td>CTVA</td><td>2020-03-10T18:05:38.350+0000</td><td>Corteva Agriscience</td><td>42</td><td>vt1</td><td>2023-04-22T09:00:31.733+0000</td></tr><tr><td>false</td><td>AUSTRIA</td><td>3.0</td><td>1.571757508733E12</td><td>IKEAroot</td><td>>IKEA>AUSTRIA</td><td>Austria</td><td>>IKEA</td><td>nan</td><td>26.0</td><td>IKEA</td><td>2019-07-30T14:20:48.248+0000</td><td>IKEA</td><td>9</td><td>vt1</td><td>2023-04-22T09:00:31.733+0000</td></tr><tr><td>false</td><td>GERMANY</td><td>3.0</td><td>1.571757526796E12</td><td>IKEAroot</td><td>>IKEA>GERMANY</td><td>Germany</td><td>>IKEA</td><td>nan</td><td>27.0</td><td>IKEA</td><td>2019-07-30T14:20:48.248+0000</td><td>IKEA</td><td>9</td><td>vt1</td><td>2023-04-22T09:00:31.733+0000</td></tr><tr><td>false</td><td>MEM</td><td>3.0</td><td>1.6327459271E12</td><td>FEDEXroot</td><td>>FEDEX>MEM</td><td>Memphis</td><td>>FEDEX</td><td></td><td>62.0</td><td>FEDEX</td><td>2021-09-24T14:38:09.290+0000</td><td>FEDEX</td><td>53</td><td>vt1</td><td>2023-04-02T09:01:10.108+0000</td></tr><tr><td>false</td><td>EWR</td><td>3.0</td><td>1.632745923922E12</td><td>FEDEXroot</td><td>>FEDEX>EWR</td><td>Newark</td><td>>FEDEX</td><td></td><td>54.0</td><td>FEDEX</td><td>2021-09-24T14:38:09.290+0000</td><td>FEDEX</td><td>53</td><td>vt1</td><td>2023-04-02T09:01:10.108+0000</td></tr><tr><td>false</td><td>OAK</td><td>3.0</td><td>1.632745927912E12</td><td>FEDEXroot</td><td>>FEDEX>OAK</td><td>Oakland</td><td>>FEDEX</td><td></td><td>67.0</td><td>FEDEX</td><td>2021-09-24T14:38:09.290+0000</td><td>FEDEX</td><td>53</td><td>vt1</td><td>2023-04-02T09:01:10.108+0000</td></tr><tr><td>false</td><td>ATL</td><td>3.0</td><td>1.679407601585E12</td><td>FEDEXroot</td><td>>FEDEX>ATL</td><td>Atlanta</td><td>>FEDEX</td><td>None</td><td>76.0</td><td>FEDEX</td><td>2021-09-24T14:38:09.290+0000</td><td>FEDEX</td><td>53</td><td>vt1</td><td>2023-04-02T09:01:10.108+0000</td></tr><tr><td>false</td><td>IND</td><td>3.0</td><td>1.632745925509E12</td><td>FEDEXroot</td><td>>FEDEX>IND</td><td>Indianapolis</td><td>>FEDEX</td><td></td><td>56.0</td><td>FEDEX</td><td>2021-09-24T14:38:09.290+0000</td><td>FEDEX</td><td>53</td><td>vt1</td><td>2023-04-02T09:01:10.108+0000</td></tr><tr><td>false</td><td>LAX</td><td>3.0</td><td>1.632745926279E12</td><td>FEDEXroot</td><td>>FEDEX>LAX</td><td>Los Angeles</td><td>>FEDEX</td><td></td><td>60.0</td><td>FEDEX</td><td>2021-09-24T14:38:09.290+0000</td><td>FEDEX</td><td>53</td><td>vt1</td><td>2023-04-02T09:01:10.108+0000</td></tr><tr><td>false</td><td>SAUDIARABIA</td><td>3.0</td><td>1.565624059545E12</td><td>LUERroot</td><td>>LUER>SAUDIARABIA</td><td>SaudiArabia</td><td>>LUER</td><td>nan</td><td>12.0</td><td>LUER</td><td>2019-07-30T12:56:00.478+0000</td><td>Luerssen</td><td>8</td><td>vt1</td><td>2023-04-02T09:01:10.108+0000</td></tr><tr><td>false</td><td>BRUNEI</td><td>3.0</td><td>1.565624065632E12</td><td>LUERroot</td><td>>LUER>BRUNEI</td><td>Brunei</td><td>>LUER</td><td>nan</td><td>13.0</td><td>LUER</td><td>2019-07-30T12:56:00.478+0000</td><td>Luerssen</td><td>8</td><td>vt1</td><td>2023-04-02T09:01:10.108+0000</td></tr><tr><td>false</td><td>GERMANY</td><td>3.0</td><td>1.565623788828E12</td><td>LUERroot</td><td>>LUER>GERMANY</td><td>Germany</td><td>>LUER</td><td>nan</td><td>10.0</td><td>LUER</td><td>2019-07-30T12:56:00.478+0000</td><td>Luerssen</td><td>8</td><td>vt1</td><td>2023-04-02T09:01:10.108+0000</td></tr><tr><td>false</td><td>INDIANA</td><td>3.0</td><td>1.65106395835E12</td><td>HONDAroot</td><td>>HONDA>INDIANA</td><td>Indiana</td><td>>HONDA</td><td>nan</td><td>74.0</td><td>HONDA</td><td>2022-04-26T20:27:37.287+0000</td><td>HONDA</td><td>73</td><td>vt1</td><td>2023-04-02T09:01:10.108+0000</td></tr><tr><td>false</td><td>MARYSVILLE</td><td>3.0</td><td>1.65106397124E12</td><td>HONDAroot</td><td>>HONDA>MARYSVILLE</td><td>Marysville</td><td>>HONDA</td><td>nan</td><td>75.0</td><td>HONDA</td><td>2022-04-26T20:27:37.287+0000</td><td>HONDA</td><td>73</td><td>vt1</td><td>2023-04-02T09:01:10.108+0000</td></tr><tr><td>false</td><td>SAUDIARABIA</td><td>3.0</td><td>1.590422479021E12</td><td>LUERSAroot</td><td>>LUERSA>SAUDIARABIA</td><td>SaudiArabia</td><td>>LUERSA</td><td>nan</td><td>47.0</td><td>LUERSA</td><td>2020-05-21T13:56:13.904+0000</td><td>LuerssenSaudiArabia</td><td>46</td><td>vt1</td><td>2023-04-02T09:01:10.108+0000</td></tr><tr><td>false</td><td>DEFAULTSTORE</td><td>3.0</td><td>1.577822362874E12</td><td>sysconfig</td><td>>MOJIX>DEFAULTSTORE</td><td>Default Store</td><td>>MOJIX</td><td>nan</td><td>31.0</td><td>MOJIX</td><td>2019-12-31T19:59:22.874+0000</td><td>MOJIX</td><td>30</td><td>vt1</td><td>2023-04-02T09:01:10.108+0000</td></tr><tr><td>false</td><td>MENDEL</td><td>3.0</td><td>1.584629483206E12</td><td>CTVAroot</td><td>>CTVA>MENDEL</td><td>Mendel</td><td>>CTVA</td><td>nan</td><td>45.0</td><td>CTVA</td><td>2020-03-10T18:05:38.350+0000</td><td>Corteva Agriscience</td><td>42</td><td>vt1</td><td>2023-04-02T09:01:10.108+0000</td></tr><tr><td>false</td><td>AUSTRIA</td><td>3.0</td><td>1.571757508733E12</td><td>IKEAroot</td><td>>IKEA>AUSTRIA</td><td>Austria</td><td>>IKEA</td><td>nan</td><td>26.0</td><td>IKEA</td><td>2019-07-30T14:20:48.248+0000</td><td>IKEA</td><td>9</td><td>vt1</td><td>2023-04-02T09:01:10.108+0000</td></tr><tr><td>false</td><td>GERMANY</td><td>3.0</td><td>1.571757526796E12</td><td>IKEAroot</td><td>>IKEA>GERMANY</td><td>Germany</td><td>>IKEA</td><td>nan</td><td>27.0</td><td>IKEA</td><td>2019-07-30T14:20:48.248+0000</td><td>IKEA</td><td>9</td><td>vt1</td><td>2023-04-02T09:01:10.108+0000</td></tr><tr><td>false</td><td>MEM</td><td>3.0</td><td>1.6327459271E12</td><td>FEDEXroot</td><td>>FEDEX>MEM</td><td>Memphis</td><td>>FEDEX</td><td></td><td>62.0</td><td>FEDEX</td><td>2021-09-24T14:38:09.290+0000</td><td>FEDEX</td><td>53</td><td>vt1</td><td>2023-04-03T09:00:34.767+0000</td></tr><tr><td>false</td><td>EWR</td><td>3.0</td><td>1.632745923922E12</td><td>FEDEXroot</td><td>>FEDEX>EWR</td><td>Newark</td><td>>FEDEX</td><td></td><td>54.0</td><td>FEDEX</td><td>2021-09-24T14:38:09.290+0000</td><td>FEDEX</td><td>53</td><td>vt1</td><td>2023-04-03T09:00:34.767+0000</td></tr><tr><td>false</td><td>OAK</td><td>3.0</td><td>1.632745927912E12</td><td>FEDEXroot</td><td>>FEDEX>OAK</td><td>Oakland</td><td>>FEDEX</td><td></td><td>67.0</td><td>FEDEX</td><td>2021-09-24T14:38:09.290+0000</td><td>FEDEX</td><td>53</td><td>vt1</td><td>2023-04-03T09:00:34.767+0000</td></tr><tr><td>false</td><td>ATL</td><td>3.0</td><td>1.679407601585E12</td><td>FEDEXroot</td><td>>FEDEX>ATL</td><td>Atlanta</td><td>>FEDEX</td><td>None</td><td>76.0</td><td>FEDEX</td><td>2021-09-24T14:38:09.290+0000</td><td>FEDEX</td><td>53</td><td>vt1</td><td>2023-04-03T09:00:34.767+0000</td></tr><tr><td>false</td><td>IND</td><td>3.0</td><td>1.632745925509E12</td><td>FEDEXroot</td><td>>FEDEX>IND</td><td>Indianapolis</td><td>>FEDEX</td><td></td><td>56.0</td><td>FEDEX</td><td>2021-09-24T14:38:09.290+0000</td><td>FEDEX</td><td>53</td><td>vt1</td><td>2023-04-03T09:00:34.767+0000</td></tr><tr><td>false</td><td>LAX</td><td>3.0</td><td>1.632745926279E12</td><td>FEDEXroot</td><td>>FEDEX>LAX</td><td>Los Angeles</td><td>>FEDEX</td><td></td><td>60.0</td><td>FEDEX</td><td>2021-09-24T14:38:09.290+0000</td><td>FEDEX</td><td>53</td><td>vt1</td><td>2023-04-03T09:00:34.767+0000</td></tr><tr><td>false</td><td>SAUDIARABIA</td><td>3.0</td><td>1.565624059545E12</td><td>LUERroot</td><td>>LUER>SAUDIARABIA</td><td>SaudiArabia</td><td>>LUER</td><td>nan</td><td>12.0</td><td>LUER</td><td>2019-07-30T12:56:00.478+0000</td><td>Luerssen</td><td>8</td><td>vt1</td><td>2023-04-03T09:00:34.767+0000</td></tr><tr><td>false</td><td>BRUNEI</td><td>3.0</td><td>1.565624065632E12</td><td>LUERroot</td><td>>LUER>BRUNEI</td><td>Brunei</td><td>>LUER</td><td>nan</td><td>13.0</td><td>LUER</td><td>2019-07-30T12:56:00.478+0000</td><td>Luerssen</td><td>8</td><td>vt1</td><td>2023-04-03T09:00:34.767+0000</td></tr><tr><td>false</td><td>GERMANY</td><td>3.0</td><td>1.565623788828E12</td><td>LUERroot</td><td>>LUER>GERMANY</td><td>Germany</td><td>>LUER</td><td>nan</td><td>10.0</td><td>LUER</td><td>2019-07-30T12:56:00.478+0000</td><td>Luerssen</td><td>8</td><td>vt1</td><td>2023-04-03T09:00:34.767+0000</td></tr><tr><td>false</td><td>INDIANA</td><td>3.0</td><td>1.65106395835E12</td><td>HONDAroot</td><td>>HONDA>INDIANA</td><td>Indiana</td><td>>HONDA</td><td>nan</td><td>74.0</td><td>HONDA</td><td>2022-04-26T20:27:37.287+0000</td><td>HONDA</td><td>73</td><td>vt1</td><td>2023-04-03T09:00:34.767+0000</td></tr><tr><td>false</td><td>MARYSVILLE</td><td>3.0</td><td>1.65106397124E12</td><td>HONDAroot</td><td>>HONDA>MARYSVILLE</td><td>Marysville</td><td>>HONDA</td><td>nan</td><td>75.0</td><td>HONDA</td><td>2022-04-26T20:27:37.287+0000</td><td>HONDA</td><td>73</td><td>vt1</td><td>2023-04-03T09:00:34.767+0000</td></tr><tr><td>false</td><td>SAUDIARABIA</td><td>3.0</td><td>1.590422479021E12</td><td>LUERSAroot</td><td>>LUERSA>SAUDIARABIA</td><td>SaudiArabia</td><td>>LUERSA</td><td>nan</td><td>47.0</td><td>LUERSA</td><td>2020-05-21T13:56:13.904+0000</td><td>LuerssenSaudiArabia</td><td>46</td><td>vt1</td><td>2023-04-03T09:00:34.767+0000</td></tr><tr><td>false</td><td>DEFAULTSTORE</td><td>3.0</td><td>1.577822362874E12</td><td>sysconfig</td><td>>MOJIX>DEFAULTSTORE</td><td>Default Store</td><td>>MOJIX</td><td>nan</td><td>31.0</td><td>MOJIX</td><td>2019-12-31T19:59:22.874+0000</td><td>MOJIX</td><td>30</td><td>vt1</td><td>2023-04-03T09:00:34.767+0000</td></tr><tr><td>false</td><td>MENDEL</td><td>3.0</td><td>1.584629483206E12</td><td>CTVAroot</td><td>>CTVA>MENDEL</td><td>Mendel</td><td>>CTVA</td><td>nan</td><td>45.0</td><td>CTVA</td><td>2020-03-10T18:05:38.350+0000</td><td>Corteva Agriscience</td><td>42</td><td>vt1</td><td>2023-04-03T09:00:34.767+0000</td></tr><tr><td>false</td><td>AUSTRIA</td><td>3.0</td><td>1.571757508733E12</td><td>IKEAroot</td><td>>IKEA>AUSTRIA</td><td>Austria</td><td>>IKEA</td><td>nan</td><td>26.0</td><td>IKEA</td><td>2019-07-30T14:20:48.248+0000</td><td>IKEA</td><td>9</td><td>vt1</td><td>2023-04-03T09:00:34.767+0000</td></tr><tr><td>false</td><td>GERMANY</td><td>3.0</td><td>1.571757526796E12</td><td>IKEAroot</td><td>>IKEA>GERMANY</td><td>Germany</td><td>>IKEA</td><td>nan</td><td>27.0</td><td>IKEA</td><td>2019-07-30T14:20:48.248+0000</td><td>IKEA</td><td>9</td><td>vt1</td><td>2023-04-03T09:00:34.767+0000</td></tr><tr><td>false</td><td>MEM</td><td>3.0</td><td>1.6327459271E12</td><td>FEDEXroot</td><td>>FEDEX>MEM</td><td>Memphis</td><td>>FEDEX</td><td></td><td>62.0</td><td>FEDEX</td><td>2021-09-24T14:38:09.290+0000</td><td>FEDEX</td><td>53</td><td>vt1</td><td>2023-04-04T09:00:42.624+0000</td></tr><tr><td>false</td><td>EWR</td><td>3.0</td><td>1.632745923922E12</td><td>FEDEXroot</td><td>>FEDEX>EWR</td><td>Newark</td><td>>FEDEX</td><td></td><td>54.0</td><td>FEDEX</td><td>2021-09-24T14:38:09.290+0000</td><td>FEDEX</td><td>53</td><td>vt1</td><td>2023-04-04T09:00:42.624+0000</td></tr><tr><td>false</td><td>OAK</td><td>3.0</td><td>1.632745927912E12</td><td>FEDEXroot</td><td>>FEDEX>OAK</td><td>Oakland</td><td>>FEDEX</td><td></td><td>67.0</td><td>FEDEX</td><td>2021-09-24T14:38:09.290+0000</td><td>FEDEX</td><td>53</td><td>vt1</td><td>2023-04-04T09:00:42.624+0000</td></tr><tr><td>false</td><td>ATL</td><td>3.0</td><td>1.679407601585E12</td><td>FEDEXroot</td><td>>FEDEX>ATL</td><td>Atlanta</td><td>>FEDEX</td><td>None</td><td>76.0</td><td>FEDEX</td><td>2021-09-24T14:38:09.290+0000</td><td>FEDEX</td><td>53</td><td>vt1</td><td>2023-04-04T09:00:42.624+0000</td></tr><tr><td>false</td><td>IND</td><td>3.0</td><td>1.632745925509E12</td><td>FEDEXroot</td><td>>FEDEX>IND</td><td>Indianapolis</td><td>>FEDEX</td><td></td><td>56.0</td><td>FEDEX</td><td>2021-09-24T14:38:09.290+0000</td><td>FEDEX</td><td>53</td><td>vt1</td><td>2023-04-04T09:00:42.624+0000</td></tr><tr><td>false</td><td>LAX</td><td>3.0</td><td>1.632745926279E12</td><td>FEDEXroot</td><td>>FEDEX>LAX</td><td>Los Angeles</td><td>>FEDEX</td><td></td><td>60.0</td><td>FEDEX</td><td>2021-09-24T14:38:09.290+0000</td><td>FEDEX</td><td>53</td><td>vt1</td><td>2023-04-04T09:00:42.624+0000</td></tr><tr><td>false</td><td>SAUDIARABIA</td><td>3.0</td><td>1.565624059545E12</td><td>LUERroot</td><td>>LUER>SAUDIARABIA</td><td>SaudiArabia</td><td>>LUER</td><td>nan</td><td>12.0</td><td>LUER</td><td>2019-07-30T12:56:00.478+0000</td><td>Luerssen</td><td>8</td><td>vt1</td><td>2023-04-04T09:00:42.624+0000</td></tr><tr><td>false</td><td>BRUNEI</td><td>3.0</td><td>1.565624065632E12</td><td>LUERroot</td><td>>LUER>BRUNEI</td><td>Brunei</td><td>>LUER</td><td>nan</td><td>13.0</td><td>LUER</td><td>2019-07-30T12:56:00.478+0000</td><td>Luerssen</td><td>8</td><td>vt1</td><td>2023-04-04T09:00:42.624+0000</td></tr><tr><td>false</td><td>GERMANY</td><td>3.0</td><td>1.565623788828E12</td><td>LUERroot</td><td>>LUER>GERMANY</td><td>Germany</td><td>>LUER</td><td>nan</td><td>10.0</td><td>LUER</td><td>2019-07-30T12:56:00.478+0000</td><td>Luerssen</td><td>8</td><td>vt1</td><td>2023-04-04T09:00:42.624+0000</td></tr><tr><td>false</td><td>MARYSVILLE</td><td>3.0</td><td>1.65106397124E12</td><td>HONDAroot</td><td>>HONDA>MARYSVILLE</td><td>Marysville</td><td>>HONDA</td><td>nan</td><td>75.0</td><td>HONDA</td><td>2022-04-26T20:27:37.287+0000</td><td>HONDA</td><td>73</td><td>vt1</td><td>2023-04-04T09:00:42.624+0000</td></tr><tr><td>false</td><td>INDIANA</td><td>3.0</td><td>1.65106395835E12</td><td>HONDAroot</td><td>>HONDA>INDIANA</td><td>Indiana</td><td>>HONDA</td><td>nan</td><td>74.0</td><td>HONDA</td><td>2022-04-26T20:27:37.287+0000</td><td>HONDA</td><td>73</td><td>vt1</td><td>2023-04-04T09:00:42.624+0000</td></tr><tr><td>false</td><td>SAUDIARABIA</td><td>3.0</td><td>1.590422479021E12</td><td>LUERSAroot</td><td>>LUERSA>SAUDIARABIA</td><td>SaudiArabia</td><td>>LUERSA</td><td>nan</td><td>47.0</td><td>LUERSA</td><td>2020-05-21T13:56:13.904+0000</td><td>LuerssenSaudiArabia</td><td>46</td><td>vt1</td><td>2023-04-04T09:00:42.624+0000</td></tr><tr><td>false</td><td>DEFAULTSTORE</td><td>3.0</td><td>1.577822362874E12</td><td>sysconfig</td><td>>MOJIX>DEFAULTSTORE</td><td>Default Store</td><td>>MOJIX</td><td>nan</td><td>31.0</td><td>MOJIX</td><td>2019-12-31T19:59:22.874+0000</td><td>MOJIX</td><td>30</td><td>vt1</td><td>2023-04-04T09:00:42.624+0000</td></tr><tr><td>false</td><td>MENDEL</td><td>3.0</td><td>1.584629483206E12</td><td>CTVAroot</td><td>>CTVA>MENDEL</td><td>Mendel</td><td>>CTVA</td><td>nan</td><td>45.0</td><td>CTVA</td><td>2020-03-10T18:05:38.350+0000</td><td>Corteva Agriscience</td><td>42</td><td>vt1</td><td>2023-04-04T09:00:42.624+0000</td></tr><tr><td>false</td><td>AUSTRIA</td><td>3.0</td><td>1.571757508733E12</td><td>IKEAroot</td><td>>IKEA>AUSTRIA</td><td>Austria</td><td>>IKEA</td><td>nan</td><td>26.0</td><td>IKEA</td><td>2019-07-30T14:20:48.248+0000</td><td>IKEA</td><td>9</td><td>vt1</td><td>2023-04-04T09:00:42.624+0000</td></tr><tr><td>false</td><td>GERMANY</td><td>3.0</td><td>1.571757526796E12</td><td>IKEAroot</td><td>>IKEA>GERMANY</td><td>Germany</td><td>>IKEA</td><td>nan</td><td>27.0</td><td>IKEA</td><td>2019-07-30T14:20:48.248+0000</td><td>IKEA</td><td>9</td><td>vt1</td><td>2023-04-04T09:00:42.624+0000</td></tr><tr><td>false</td><td>ATL</td><td>3.0</td><td>1.679407601585E12</td><td>FEDEXroot</td><td>>FEDEX>ATL</td><td>Atlanta</td><td>>FEDEX</td><td>None</td><td>76.0</td><td>FEDEX</td><td>2021-09-24T14:38:09.290+0000</td><td>FEDEX</td><td>53</td><td>vt1</td><td>2023-04-05T09:01:10.948+0000</td></tr><tr><td>false</td><td>IND</td><td>3.0</td><td>1.632745925509E12</td><td>FEDEXroot</td><td>>FEDEX>IND</td><td>Indianapolis</td><td>>FEDEX</td><td></td><td>56.0</td><td>FEDEX</td><td>2021-09-24T14:38:09.290+0000</td><td>FEDEX</td><td>53</td><td>vt1</td><td>2023-04-05T09:01:10.948+0000</td></tr><tr><td>false</td><td>LAX</td><td>3.0</td><td>1.632745926279E12</td><td>FEDEXroot</td><td>>FEDEX>LAX</td><td>Los Angeles</td><td>>FEDEX</td><td></td><td>60.0</td><td>FEDEX</td><td>2021-09-24T14:38:09.290+0000</td><td>FEDEX</td><td>53</td><td>vt1</td><td>2023-04-05T09:01:10.948+0000</td></tr><tr><td>false</td><td>MEM</td><td>3.0</td><td>1.6327459271E12</td><td>FEDEXroot</td><td>>FEDEX>MEM</td><td>Memphis</td><td>>FEDEX</td><td></td><td>62.0</td><td>FEDEX</td><td>2021-09-24T14:38:09.290+0000</td><td>FEDEX</td><td>53</td><td>vt1</td><td>2023-04-05T09:01:10.948+0000</td></tr><tr><td>false</td><td>EWR</td><td>3.0</td><td>1.632745923922E12</td><td>FEDEXroot</td><td>>FEDEX>EWR</td><td>Newark</td><td>>FEDEX</td><td></td><td>54.0</td><td>FEDEX</td><td>2021-09-24T14:38:09.290+0000</td><td>FEDEX</td><td>53</td><td>vt1</td><td>2023-04-05T09:01:10.948+0000</td></tr><tr><td>false</td><td>OAK</td><td>3.0</td><td>1.632745927912E12</td><td>FEDEXroot</td><td>>FEDEX>OAK</td><td>Oakland</td><td>>FEDEX</td><td></td><td>67.0</td><td>FEDEX</td><td>2021-09-24T14:38:09.290+0000</td><td>FEDEX</td><td>53</td><td>vt1</td><td>2023-04-05T09:01:10.948+0000</td></tr><tr><td>false</td><td>BRUNEI</td><td>3.0</td><td>1.565624065632E12</td><td>LUERroot</td><td>>LUER>BRUNEI</td><td>Brunei</td><td>>LUER</td><td>nan</td><td>13.0</td><td>LUER</td><td>2019-07-30T12:56:00.478+0000</td><td>Luerssen</td><td>8</td><td>vt1</td><td>2023-04-05T09:01:10.948+0000</td></tr><tr><td>false</td><td>GERMANY</td><td>3.0</td><td>1.565623788828E12</td><td>LUERroot</td><td>>LUER>GERMANY</td><td>Germany</td><td>>LUER</td><td>nan</td><td>10.0</td><td>LUER</td><td>2019-07-30T12:56:00.478+0000</td><td>Luerssen</td><td>8</td><td>vt1</td><td>2023-04-05T09:01:10.948+0000</td></tr><tr><td>false</td><td>SAUDIARABIA</td><td>3.0</td><td>1.565624059545E12</td><td>LUERroot</td><td>>LUER>SAUDIARABIA</td><td>SaudiArabia</td><td>>LUER</td><td>nan</td><td>12.0</td><td>LUER</td><td>2019-07-30T12:56:00.478+0000</td><td>Luerssen</td><td>8</td><td>vt1</td><td>2023-04-05T09:01:10.948+0000</td></tr><tr><td>false</td><td>MARYSVILLE</td><td>3.0</td><td>1.65106397124E12</td><td>HONDAroot</td><td>>HONDA>MARYSVILLE</td><td>Marysville</td><td>>HONDA</td><td>nan</td><td>75.0</td><td>HONDA</td><td>2022-04-26T20:27:37.287+0000</td><td>HONDA</td><td>73</td><td>vt1</td><td>2023-04-05T09:01:10.948+0000</td></tr><tr><td>false</td><td>INDIANA</td><td>3.0</td><td>1.65106395835E12</td><td>HONDAroot</td><td>>HONDA>INDIANA</td><td>Indiana</td><td>>HONDA</td><td>nan</td><td>74.0</td><td>HONDA</td><td>2022-04-26T20:27:37.287+0000</td><td>HONDA</td><td>73</td><td>vt1</td><td>2023-04-05T09:01:10.948+0000</td></tr><tr><td>false</td><td>SAUDIARABIA</td><td>3.0</td><td>1.590422479021E12</td><td>LUERSAroot</td><td>>LUERSA>SAUDIARABIA</td><td>SaudiArabia</td><td>>LUERSA</td><td>nan</td><td>47.0</td><td>LUERSA</td><td>2020-05-21T13:56:13.904+0000</td><td>LuerssenSaudiArabia</td><td>46</td><td>vt1</td><td>2023-04-05T09:01:10.948+0000</td></tr><tr><td>false</td><td>DEFAULTSTORE</td><td>3.0</td><td>1.577822362874E12</td><td>sysconfig</td><td>>MOJIX>DEFAULTSTORE</td><td>Default Store</td><td>>MOJIX</td><td>nan</td><td>31.0</td><td>MOJIX</td><td>2019-12-31T19:59:22.874+0000</td><td>MOJIX</td><td>30</td><td>vt1</td><td>2023-04-05T09:01:10.948+0000</td></tr><tr><td>false</td><td>MENDEL</td><td>3.0</td><td>1.584629483206E12</td><td>CTVAroot</td><td>>CTVA>MENDEL</td><td>Mendel</td><td>>CTVA</td><td>nan</td><td>45.0</td><td>CTVA</td><td>2020-03-10T18:05:38.350+0000</td><td>Corteva Agriscience</td><td>42</td><td>vt1</td><td>2023-04-05T09:01:10.948+0000</td></tr><tr><td>false</td><td>AUSTRIA</td><td>3.0</td><td>1.571757508733E12</td><td>IKEAroot</td><td>>IKEA>AUSTRIA</td><td>Austria</td><td>>IKEA</td><td>nan</td><td>26.0</td><td>IKEA</td><td>2019-07-30T14:20:48.248+0000</td><td>IKEA</td><td>9</td><td>vt1</td><td>2023-04-05T09:01:10.948+0000</td></tr><tr><td>false</td><td>GERMANY</td><td>3.0</td><td>1.571757526796E12</td><td>IKEAroot</td><td>>IKEA>GERMANY</td><td>Germany</td><td>>IKEA</td><td>nan</td><td>27.0</td><td>IKEA</td><td>2019-07-30T14:20:48.248+0000</td><td>IKEA</td><td>9</td><td>vt1</td><td>2023-04-05T09:01:10.948+0000</td></tr><tr><td>false</td><td>ATL</td><td>3.0</td><td>1.679407601585E12</td><td>FEDEXroot</td><td>>FEDEX>ATL</td><td>Atlanta</td><td>>FEDEX</td><td>None</td><td>76.0</td><td>FEDEX</td><td>2021-09-24T14:38:09.290+0000</td><td>FEDEX</td><td>53</td><td>vt1</td><td>2023-04-06T09:00:34.249+0000</td></tr><tr><td>false</td><td>IND</td><td>3.0</td><td>1.632745925509E12</td><td>FEDEXroot</td><td>>FEDEX>IND</td><td>Indianapolis</td><td>>FEDEX</td><td></td><td>56.0</td><td>FEDEX</td><td>2021-09-24T14:38:09.290+0000</td><td>FEDEX</td><td>53</td><td>vt1</td><td>2023-04-06T09:00:34.249+0000</td></tr><tr><td>false</td><td>LAX</td><td>3.0</td><td>1.632745926279E12</td><td>FEDEXroot</td><td>>FEDEX>LAX</td><td>Los Angeles</td><td>>FEDEX</td><td></td><td>60.0</td><td>FEDEX</td><td>2021-09-24T14:38:09.290+0000</td><td>FEDEX</td><td>53</td><td>vt1</td><td>2023-04-06T09:00:34.249+0000</td></tr><tr><td>false</td><td>MEM</td><td>3.0</td><td>1.6327459271E12</td><td>FEDEXroot</td><td>>FEDEX>MEM</td><td>Memphis</td><td>>FEDEX</td><td></td><td>62.0</td><td>FEDEX</td><td>2021-09-24T14:38:09.290+0000</td><td>FEDEX</td><td>53</td><td>vt1</td><td>2023-04-06T09:00:34.249+0000</td></tr><tr><td>false</td><td>EWR</td><td>3.0</td><td>1.632745923922E12</td><td>FEDEXroot</td><td>>FEDEX>EWR</td><td>Newark</td><td>>FEDEX</td><td></td><td>54.0</td><td>FEDEX</td><td>2021-09-24T14:38:09.290+0000</td><td>FEDEX</td><td>53</td><td>vt1</td><td>2023-04-06T09:00:34.249+0000</td></tr><tr><td>false</td><td>OAK</td><td>3.0</td><td>1.632745927912E12</td><td>FEDEXroot</td><td>>FEDEX>OAK</td><td>Oakland</td><td>>FEDEX</td><td></td><td>67.0</td><td>FEDEX</td><td>2021-09-24T14:38:09.290+0000</td><td>FEDEX</td><td>53</td><td>vt1</td><td>2023-04-06T09:00:34.249+0000</td></tr><tr><td>false</td><td>SAUDIARABIA</td><td>3.0</td><td>1.565624059545E12</td><td>LUERroot</td><td>>LUER>SAUDIARABIA</td><td>SaudiArabia</td><td>>LUER</td><td>nan</td><td>12.0</td><td>LUER</td><td>2019-07-30T12:56:00.478+0000</td><td>Luerssen</td><td>8</td><td>vt1</td><td>2023-04-06T09:00:34.249+0000</td></tr><tr><td>false</td><td>BRUNEI</td><td>3.0</td><td>1.565624065632E12</td><td>LUERroot</td><td>>LUER>BRUNEI</td><td>Brunei</td><td>>LUER</td><td>nan</td><td>13.0</td><td>LUER</td><td>2019-07-30T12:56:00.478+0000</td><td>Luerssen</td><td>8</td><td>vt1</td><td>2023-04-06T09:00:34.249+0000</td></tr><tr><td>false</td><td>GERMANY</td><td>3.0</td><td>1.565623788828E12</td><td>LUERroot</td><td>>LUER>GERMANY</td><td>Germany</td><td>>LUER</td><td>nan</td><td>10.0</td><td>LUER</td><td>2019-07-30T12:56:00.478+0000</td><td>Luerssen</td><td>8</td><td>vt1</td><td>2023-04-06T09:00:34.249+0000</td></tr><tr><td>false</td><td>INDIANA</td><td>3.0</td><td>1.65106395835E12</td><td>HONDAroot</td><td>>HONDA>INDIANA</td><td>Indiana</td><td>>HONDA</td><td>nan</td><td>74.0</td><td>HONDA</td><td>2022-04-26T20:27:37.287+0000</td><td>HONDA</td><td>73</td><td>vt1</td><td>2023-04-06T09:00:34.249+0000</td></tr><tr><td>false</td><td>MARYSVILLE</td><td>3.0</td><td>1.65106397124E12</td><td>HONDAroot</td><td>>HONDA>MARYSVILLE</td><td>Marysville</td><td>>HONDA</td><td>nan</td><td>75.0</td><td>HONDA</td><td>2022-04-26T20:27:37.287+0000</td><td>HONDA</td><td>73</td><td>vt1</td><td>2023-04-06T09:00:34.249+0000</td></tr><tr><td>false</td><td>SAUDIARABIA</td><td>3.0</td><td>1.590422479021E12</td><td>LUERSAroot</td><td>>LUERSA>SAUDIARABIA</td><td>SaudiArabia</td><td>>LUERSA</td><td>nan</td><td>47.0</td><td>LUERSA</td><td>2020-05-21T13:56:13.904+0000</td><td>LuerssenSaudiArabia</td><td>46</td><td>vt1</td><td>2023-04-06T09:00:34.249+0000</td></tr><tr><td>false</td><td>DEFAULTSTORE</td><td>3.0</td><td>1.577822362874E12</td><td>sysconfig</td><td>>MOJIX>DEFAULTSTORE</td><td>Default Store</td><td>>MOJIX</td><td>nan</td><td>31.0</td><td>MOJIX</td><td>2019-12-31T19:59:22.874+0000</td><td>MOJIX</td><td>30</td><td>vt1</td><td>2023-04-06T09:00:34.249+0000</td></tr><tr><td>false</td><td>MENDEL</td><td>3.0</td><td>1.584629483206E12</td><td>CTVAroot</td><td>>CTVA>MENDEL</td><td>Mendel</td><td>>CTVA</td><td>nan</td><td>45.0</td><td>CTVA</td><td>2020-03-10T18:05:38.350+0000</td><td>Corteva Agriscience</td><td>42</td><td>vt1</td><td>2023-04-06T09:00:34.249+0000</td></tr><tr><td>false</td><td>AUSTRIA</td><td>3.0</td><td>1.571757508733E12</td><td>IKEAroot</td><td>>IKEA>AUSTRIA</td><td>Austria</td><td>>IKEA</td><td>nan</td><td>26.0</td><td>IKEA</td><td>2019-07-30T14:20:48.248+0000</td><td>IKEA</td><td>9</td><td>vt1</td><td>2023-04-06T09:00:34.249+0000</td></tr><tr><td>false</td><td>GERMANY</td><td>3.0</td><td>1.571757526796E12</td><td>IKEAroot</td><td>>IKEA>GERMANY</td><td>Germany</td><td>>IKEA</td><td>nan</td><td>27.0</td><td>IKEA</td><td>2019-07-30T14:20:48.248+0000</td><td>IKEA</td><td>9</td><td>vt1</td><td>2023-04-06T09:00:34.249+0000</td></tr><tr><td>false</td><td>MEM</td><td>3.0</td><td>1.6327459271E12</td><td>FEDEXroot</td><td>>FEDEX>MEM</td><td>Memphis</td><td>>FEDEX</td><td></td><td>62.0</td><td>FEDEX</td><td>2021-09-24T14:38:09.290+0000</td><td>FEDEX</td><td>53</td><td>vt1</td><td>2023-04-07T09:00:32.768+0000</td></tr><tr><td>false</td><td>EWR</td><td>3.0</td><td>1.632745923922E12</td><td>FEDEXroot</td><td>>FEDEX>EWR</td><td>Newark</td><td>>FEDEX</td><td></td><td>54.0</td><td>FEDEX</td><td>2021-09-24T14:38:09.290+0000</td><td>FEDEX</td><td>53</td><td>vt1</td><td>2023-04-07T09:00:32.768+0000</td></tr><tr><td>false</td><td>OAK</td><td>3.0</td><td>1.632745927912E12</td><td>FEDEXroot</td><td>>FEDEX>OAK</td><td>Oakland</td><td>>FEDEX</td><td></td><td>67.0</td><td>FEDEX</td><td>2021-09-24T14:38:09.290+0000</td><td>FEDEX</td><td>53</td><td>vt1</td><td>2023-04-07T09:00:32.768+0000</td></tr><tr><td>false</td><td>ATL</td><td>3.0</td><td>1.679407601585E12</td><td>FEDEXroot</td><td>>FEDEX>ATL</td><td>Atlanta</td><td>>FEDEX</td><td>None</td><td>76.0</td><td>FEDEX</td><td>2021-09-24T14:38:09.290+0000</td><td>FEDEX</td><td>53</td><td>vt1</td><td>2023-04-07T09:00:32.768+0000</td></tr><tr><td>false</td><td>IND</td><td>3.0</td><td>1.632745925509E12</td><td>FEDEXroot</td><td>>FEDEX>IND</td><td>Indianapolis</td><td>>FEDEX</td><td></td><td>56.0</td><td>FEDEX</td><td>2021-09-24T14:38:09.290+0000</td><td>FEDEX</td><td>53</td><td>vt1</td><td>2023-04-07T09:00:32.768+0000</td></tr><tr><td>false</td><td>LAX</td><td>3.0</td><td>1.632745926279E12</td><td>FEDEXroot</td><td>>FEDEX>LAX</td><td>Los Angeles</td><td>>FEDEX</td><td></td><td>60.0</td><td>FEDEX</td><td>2021-09-24T14:38:09.290+0000</td><td>FEDEX</td><td>53</td><td>vt1</td><td>2023-04-07T09:00:32.768+0000</td></tr><tr><td>false</td><td>BRUNEI</td><td>3.0</td><td>1.565624065632E12</td><td>LUERroot</td><td>>LUER>BRUNEI</td><td>Brunei</td><td>>LUER</td><td>nan</td><td>13.0</td><td>LUER</td><td>2019-07-30T12:56:00.478+0000</td><td>Luerssen</td><td>8</td><td>vt1</td><td>2023-04-07T09:00:32.768+0000</td></tr><tr><td>false</td><td>GERMANY</td><td>3.0</td><td>1.565623788828E12</td><td>LUERroot</td><td>>LUER>GERMANY</td><td>Germany</td><td>>LUER</td><td>nan</td><td>10.0</td><td>LUER</td><td>2019-07-30T12:56:00.478+0000</td><td>Luerssen</td><td>8</td><td>vt1</td><td>2023-04-07T09:00:32.768+0000</td></tr><tr><td>false</td><td>SAUDIARABIA</td><td>3.0</td><td>1.565624059545E12</td><td>LUERroot</td><td>>LUER>SAUDIARABIA</td><td>SaudiArabia</td><td>>LUER</td><td>nan</td><td>12.0</td><td>LUER</td><td>2019-07-30T12:56:00.478+0000</td><td>Luerssen</td><td>8</td><td>vt1</td><td>2023-04-07T09:00:32.768+0000</td></tr><tr><td>false</td><td>MARYSVILLE</td><td>3.0</td><td>1.65106397124E12</td><td>HONDAroot</td><td>>HONDA>MARYSVILLE</td><td>Marysville</td><td>>HONDA</td><td>nan</td><td>75.0</td><td>HONDA</td><td>2022-04-26T20:27:37.287+0000</td><td>HONDA</td><td>73</td><td>vt1</td><td>2023-04-07T09:00:32.768+0000</td></tr><tr><td>false</td><td>INDIANA</td><td>3.0</td><td>1.65106395835E12</td><td>HONDAroot</td><td>>HONDA>INDIANA</td><td>Indiana</td><td>>HONDA</td><td>nan</td><td>74.0</td><td>HONDA</td><td>2022-04-26T20:27:37.287+0000</td><td>HONDA</td><td>73</td><td>vt1</td><td>2023-04-07T09:00:32.768+0000</td></tr><tr><td>false</td><td>SAUDIARABIA</td><td>3.0</td><td>1.590422479021E12</td><td>LUERSAroot</td><td>>LUERSA>SAUDIARABIA</td><td>SaudiArabia</td><td>>LUERSA</td><td>nan</td><td>47.0</td><td>LUERSA</td><td>2020-05-21T13:56:13.904+0000</td><td>LuerssenSaudiArabia</td><td>46</td><td>vt1</td><td>2023-04-07T09:00:32.768+0000</td></tr><tr><td>false</td><td>DEFAULTSTORE</td><td>3.0</td><td>1.577822362874E12</td><td>sysconfig</td><td>>MOJIX>DEFAULTSTORE</td><td>Default Store</td><td>>MOJIX</td><td>nan</td><td>31.0</td><td>MOJIX</td><td>2019-12-31T19:59:22.874+0000</td><td>MOJIX</td><td>30</td><td>vt1</td><td>2023-04-07T09:00:32.768+0000</td></tr><tr><td>false</td><td>MENDEL</td><td>3.0</td><td>1.584629483206E12</td><td>CTVAroot</td><td>>CTVA>MENDEL</td><td>Mendel</td><td>>CTVA</td><td>nan</td><td>45.0</td><td>CTVA</td><td>2020-03-10T18:05:38.350+0000</td><td>Corteva Agriscience</td><td>42</td><td>vt1</td><td>2023-04-07T09:00:32.768+0000</td></tr><tr><td>false</td><td>AUSTRIA</td><td>3.0</td><td>1.571757508733E12</td><td>IKEAroot</td><td>>IKEA>AUSTRIA</td><td>Austria</td><td>>IKEA</td><td>nan</td><td>26.0</td><td>IKEA</td><td>2019-07-30T14:20:48.248+0000</td><td>IKEA</td><td>9</td><td>vt1</td><td>2023-04-07T09:00:32.768+0000</td></tr><tr><td>false</td><td>GERMANY</td><td>3.0</td><td>1.571757526796E12</td><td>IKEAroot</td><td>>IKEA>GERMANY</td><td>Germany</td><td>>IKEA</td><td>nan</td><td>27.0</td><td>IKEA</td><td>2019-07-30T14:20:48.248+0000</td><td>IKEA</td><td>9</td><td>vt1</td><td>2023-04-07T09:00:32.768+0000</td></tr><tr><td>false</td><td>MEM</td><td>3.0</td><td>1.6327459271E12</td><td>FEDEXroot</td><td>>FEDEX>MEM</td><td>Memphis</td><td>>FEDEX</td><td></td><td>62.0</td><td>FEDEX</td><td>2021-09-24T14:38:09.290+0000</td><td>FEDEX</td><td>53</td><td>vt1</td><td>2023-04-08T09:00:31.816+0000</td></tr><tr><td>false</td><td>EWR</td><td>3.0</td><td>1.632745923922E12</td><td>FEDEXroot</td><td>>FEDEX>EWR</td><td>Newark</td><td>>FEDEX</td><td></td><td>54.0</td><td>FEDEX</td><td>2021-09-24T14:38:09.290+0000</td><td>FEDEX</td><td>53</td><td>vt1</td><td>2023-04-08T09:00:31.816+0000</td></tr><tr><td>false</td><td>OAK</td><td>3.0</td><td>1.632745927912E12</td><td>FEDEXroot</td><td>>FEDEX>OAK</td><td>Oakland</td><td>>FEDEX</td><td></td><td>67.0</td><td>FEDEX</td><td>2021-09-24T14:38:09.290+0000</td><td>FEDEX</td><td>53</td><td>vt1</td><td>2023-04-08T09:00:31.816+0000</td></tr><tr><td>false</td><td>ATL</td><td>3.0</td><td>1.679407601585E12</td><td>FEDEXroot</td><td>>FEDEX>ATL</td><td>Atlanta</td><td>>FEDEX</td><td>None</td><td>76.0</td><td>FEDEX</td><td>2021-09-24T14:38:09.290+0000</td><td>FEDEX</td><td>53</td><td>vt1</td><td>2023-04-08T09:00:31.816+0000</td></tr><tr><td>false</td><td>IND</td><td>3.0</td><td>1.632745925509E12</td><td>FEDEXroot</td><td>>FEDEX>IND</td><td>Indianapolis</td><td>>FEDEX</td><td></td><td>56.0</td><td>FEDEX</td><td>2021-09-24T14:38:09.290+0000</td><td>FEDEX</td><td>53</td><td>vt1</td><td>2023-04-08T09:00:31.816+0000</td></tr><tr><td>false</td><td>LAX</td><td>3.0</td><td>1.632745926279E12</td><td>FEDEXroot</td><td>>FEDEX>LAX</td><td>Los Angeles</td><td>>FEDEX</td><td></td><td>60.0</td><td>FEDEX</td><td>2021-09-24T14:38:09.290+0000</td><td>FEDEX</td><td>53</td><td>vt1</td><td>2023-04-08T09:00:31.816+0000</td></tr><tr><td>false</td><td>BRUNEI</td><td>3.0</td><td>1.565624065632E12</td><td>LUERroot</td><td>>LUER>BRUNEI</td><td>Brunei</td><td>>LUER</td><td>nan</td><td>13.0</td><td>LUER</td><td>2019-07-30T12:56:00.478+0000</td><td>Luerssen</td><td>8</td><td>vt1</td><td>2023-04-08T09:00:31.816+0000</td></tr><tr><td>false</td><td>GERMANY</td><td>3.0</td><td>1.565623788828E12</td><td>LUERroot</td><td>>LUER>GERMANY</td><td>Germany</td><td>>LUER</td><td>nan</td><td>10.0</td><td>LUER</td><td>2019-07-30T12:56:00.478+0000</td><td>Luerssen</td><td>8</td><td>vt1</td><td>2023-04-08T09:00:31.816+0000</td></tr><tr><td>false</td><td>SAUDIARABIA</td><td>3.0</td><td>1.565624059545E12</td><td>LUERroot</td><td>>LUER>SAUDIARABIA</td><td>SaudiArabia</td><td>>LUER</td><td>nan</td><td>12.0</td><td>LUER</td><td>2019-07-30T12:56:00.478+0000</td><td>Luerssen</td><td>8</td><td>vt1</td><td>2023-04-08T09:00:31.816+0000</td></tr><tr><td>false</td><td>MARYSVILLE</td><td>3.0</td><td>1.65106397124E12</td><td>HONDAroot</td><td>>HONDA>MARYSVILLE</td><td>Marysville</td><td>>HONDA</td><td>nan</td><td>75.0</td><td>HONDA</td><td>2022-04-26T20:27:37.287+0000</td><td>HONDA</td><td>73</td><td>vt1</td><td>2023-04-08T09:00:31.816+0000</td></tr><tr><td>false</td><td>INDIANA</td><td>3.0</td><td>1.65106395835E12</td><td>HONDAroot</td><td>>HONDA>INDIANA</td><td>Indiana</td><td>>HONDA</td><td>nan</td><td>74.0</td><td>HONDA</td><td>2022-04-26T20:27:37.287+0000</td><td>HONDA</td><td>73</td><td>vt1</td><td>2023-04-08T09:00:31.816+0000</td></tr><tr><td>false</td><td>SAUDIARABIA</td><td>3.0</td><td>1.590422479021E12</td><td>LUERSAroot</td><td>>LUERSA>SAUDIARABIA</td><td>SaudiArabia</td><td>>LUERSA</td><td>nan</td><td>47.0</td><td>LUERSA</td><td>2020-05-21T13:56:13.904+0000</td><td>LuerssenSaudiArabia</td><td>46</td><td>vt1</td><td>2023-04-08T09:00:31.816+0000</td></tr><tr><td>false</td><td>DEFAULTSTORE</td><td>3.0</td><td>1.577822362874E12</td><td>sysconfig</td><td>>MOJIX>DEFAULTSTORE</td><td>Default Store</td><td>>MOJIX</td><td>nan</td><td>31.0</td><td>MOJIX</td><td>2019-12-31T19:59:22.874+0000</td><td>MOJIX</td><td>30</td><td>vt1</td><td>2023-04-08T09:00:31.816+0000</td></tr><tr><td>false</td><td>MENDEL</td><td>3.0</td><td>1.584629483206E12</td><td>CTVAroot</td><td>>CTVA>MENDEL</td><td>Mendel</td><td>>CTVA</td><td>nan</td><td>45.0</td><td>CTVA</td><td>2020-03-10T18:05:38.350+0000</td><td>Corteva Agriscience</td><td>42</td><td>vt1</td><td>2023-04-08T09:00:31.816+0000</td></tr><tr><td>false</td><td>AUSTRIA</td><td>3.0</td><td>1.571757508733E12</td><td>IKEAroot</td><td>>IKEA>AUSTRIA</td><td>Austria</td><td>>IKEA</td><td>nan</td><td>26.0</td><td>IKEA</td><td>2019-07-30T14:20:48.248+0000</td><td>IKEA</td><td>9</td><td>vt1</td><td>2023-04-08T09:00:31.816+0000</td></tr><tr><td>false</td><td>GERMANY</td><td>3.0</td><td>1.571757526796E12</td><td>IKEAroot</td><td>>IKEA>GERMANY</td><td>Germany</td><td>>IKEA</td><td>nan</td><td>27.0</td><td>IKEA</td><td>2019-07-30T14:20:48.248+0000</td><td>IKEA</td><td>9</td><td>vt1</td><td>2023-04-08T09:00:31.816+0000</td></tr><tr><td>false</td><td>MEM</td><td>3.0</td><td>1.6327459271E12</td><td>FEDEXroot</td><td>>FEDEX>MEM</td><td>Memphis</td><td>>FEDEX</td><td></td><td>62.0</td><td>FEDEX</td><td>2021-09-24T14:38:09.290+0000</td><td>FEDEX</td><td>53</td><td>vt1</td><td>2023-04-09T09:01:09.652+0000</td></tr><tr><td>false</td><td>EWR</td><td>3.0</td><td>1.632745923922E12</td><td>FEDEXroot</td><td>>FEDEX>EWR</td><td>Newark</td><td>>FEDEX</td><td></td><td>54.0</td><td>FEDEX</td><td>2021-09-24T14:38:09.290+0000</td><td>FEDEX</td><td>53</td><td>vt1</td><td>2023-04-09T09:01:09.652+0000</td></tr><tr><td>false</td><td>OAK</td><td>3.0</td><td>1.632745927912E12</td><td>FEDEXroot</td><td>>FEDEX>OAK</td><td>Oakland</td><td>>FEDEX</td><td></td><td>67.0</td><td>FEDEX</td><td>2021-09-24T14:38:09.290+0000</td><td>FEDEX</td><td>53</td><td>vt1</td><td>2023-04-09T09:01:09.652+0000</td></tr><tr><td>false</td><td>ATL</td><td>3.0</td><td>1.679407601585E12</td><td>FEDEXroot</td><td>>FEDEX>ATL</td><td>Atlanta</td><td>>FEDEX</td><td>None</td><td>76.0</td><td>FEDEX</td><td>2021-09-24T14:38:09.290+0000</td><td>FEDEX</td><td>53</td><td>vt1</td><td>2023-04-09T09:01:09.652+0000</td></tr><tr><td>false</td><td>IND</td><td>3.0</td><td>1.632745925509E12</td><td>FEDEXroot</td><td>>FEDEX>IND</td><td>Indianapolis</td><td>>FEDEX</td><td></td><td>56.0</td><td>FEDEX</td><td>2021-09-24T14:38:09.290+0000</td><td>FEDEX</td><td>53</td><td>vt1</td><td>2023-04-09T09:01:09.652+0000</td></tr><tr><td>false</td><td>LAX</td><td>3.0</td><td>1.632745926279E12</td><td>FEDEXroot</td><td>>FEDEX>LAX</td><td>Los Angeles</td><td>>FEDEX</td><td></td><td>60.0</td><td>FEDEX</td><td>2021-09-24T14:38:09.290+0000</td><td>FEDEX</td><td>53</td><td>vt1</td><td>2023-04-09T09:01:09.652+0000</td></tr><tr><td>false</td><td>BRUNEI</td><td>3.0</td><td>1.565624065632E12</td><td>LUERroot</td><td>>LUER>BRUNEI</td><td>Brunei</td><td>>LUER</td><td>nan</td><td>13.0</td><td>LUER</td><td>2019-07-30T12:56:00.478+0000</td><td>Luerssen</td><td>8</td><td>vt1</td><td>2023-04-09T09:01:09.652+0000</td></tr><tr><td>false</td><td>GERMANY</td><td>3.0</td><td>1.565623788828E12</td><td>LUERroot</td><td>>LUER>GERMANY</td><td>Germany</td><td>>LUER</td><td>nan</td><td>10.0</td><td>LUER</td><td>2019-07-30T12:56:00.478+0000</td><td>Luerssen</td><td>8</td><td>vt1</td><td>2023-04-09T09:01:09.652+0000</td></tr><tr><td>false</td><td>SAUDIARABIA</td><td>3.0</td><td>1.565624059545E12</td><td>LUERroot</td><td>>LUER>SAUDIARABIA</td><td>SaudiArabia</td><td>>LUER</td><td>nan</td><td>12.0</td><td>LUER</td><td>2019-07-30T12:56:00.478+0000</td><td>Luerssen</td><td>8</td><td>vt1</td><td>2023-04-09T09:01:09.652+0000</td></tr><tr><td>false</td><td>INDIANA</td><td>3.0</td><td>1.65106395835E12</td><td>HONDAroot</td><td>>HONDA>INDIANA</td><td>Indiana</td><td>>HONDA</td><td>nan</td><td>74.0</td><td>HONDA</td><td>2022-04-26T20:27:37.287+0000</td><td>HONDA</td><td>73</td><td>vt1</td><td>2023-04-09T09:01:09.652+0000</td></tr><tr><td>false</td><td>MARYSVILLE</td><td>3.0</td><td>1.65106397124E12</td><td>HONDAroot</td><td>>HONDA>MARYSVILLE</td><td>Marysville</td><td>>HONDA</td><td>nan</td><td>75.0</td><td>HONDA</td><td>2022-04-26T20:27:37.287+0000</td><td>HONDA</td><td>73</td><td>vt1</td><td>2023-04-09T09:01:09.652+0000</td></tr><tr><td>false</td><td>SAUDIARABIA</td><td>3.0</td><td>1.590422479021E12</td><td>LUERSAroot</td><td>>LUERSA>SAUDIARABIA</td><td>SaudiArabia</td><td>>LUERSA</td><td>nan</td><td>47.0</td><td>LUERSA</td><td>2020-05-21T13:56:13.904+0000</td><td>LuerssenSaudiArabia</td><td>46</td><td>vt1</td><td>2023-04-09T09:01:09.652+0000</td></tr><tr><td>false</td><td>DEFAULTSTORE</td><td>3.0</td><td>1.577822362874E12</td><td>sysconfig</td><td>>MOJIX>DEFAULTSTORE</td><td>Default Store</td><td>>MOJIX</td><td>nan</td><td>31.0</td><td>MOJIX</td><td>2019-12-31T19:59:22.874+0000</td><td>MOJIX</td><td>30</td><td>vt1</td><td>2023-04-09T09:01:09.652+0000</td></tr><tr><td>false</td><td>MENDEL</td><td>3.0</td><td>1.584629483206E12</td><td>CTVAroot</td><td>>CTVA>MENDEL</td><td>Mendel</td><td>>CTVA</td><td>nan</td><td>45.0</td><td>CTVA</td><td>2020-03-10T18:05:38.350+0000</td><td>Corteva Agriscience</td><td>42</td><td>vt1</td><td>2023-04-09T09:01:09.652+0000</td></tr><tr><td>false</td><td>AUSTRIA</td><td>3.0</td><td>1.571757508733E12</td><td>IKEAroot</td><td>>IKEA>AUSTRIA</td><td>Austria</td><td>>IKEA</td><td>nan</td><td>26.0</td><td>IKEA</td><td>2019-07-30T14:20:48.248+0000</td><td>IKEA</td><td>9</td><td>vt1</td><td>2023-04-09T09:01:09.652+0000</td></tr><tr><td>false</td><td>GERMANY</td><td>3.0</td><td>1.571757526796E12</td><td>IKEAroot</td><td>>IKEA>GERMANY</td><td>Germany</td><td>>IKEA</td><td>nan</td><td>27.0</td><td>IKEA</td><td>2019-07-30T14:20:48.248+0000</td><td>IKEA</td><td>9</td><td>vt1</td><td>2023-04-09T09:01:09.652+0000</td></tr><tr><td>false</td><td>ATL</td><td>3.0</td><td>1.679407601585E12</td><td>FEDEXroot</td><td>>FEDEX>ATL</td><td>Atlanta</td><td>>FEDEX</td><td>None</td><td>76.0</td><td>FEDEX</td><td>2021-09-24T14:38:09.290+0000</td><td>FEDEX</td><td>53</td><td>vt1</td><td>2023-04-10T09:00:51.627+0000</td></tr><tr><td>false</td><td>IND</td><td>3.0</td><td>1.632745925509E12</td><td>FEDEXroot</td><td>>FEDEX>IND</td><td>Indianapolis</td><td>>FEDEX</td><td></td><td>56.0</td><td>FEDEX</td><td>2021-09-24T14:38:09.290+0000</td><td>FEDEX</td><td>53</td><td>vt1</td><td>2023-04-10T09:00:51.627+0000</td></tr><tr><td>false</td><td>LAX</td><td>3.0</td><td>1.632745926279E12</td><td>FEDEXroot</td><td>>FEDEX>LAX</td><td>Los Angeles</td><td>>FEDEX</td><td></td><td>60.0</td><td>FEDEX</td><td>2021-09-24T14:38:09.290+0000</td><td>FEDEX</td><td>53</td><td>vt1</td><td>2023-04-10T09:00:51.627+0000</td></tr><tr><td>false</td><td>MEM</td><td>3.0</td><td>1.6327459271E12</td><td>FEDEXroot</td><td>>FEDEX>MEM</td><td>Memphis</td><td>>FEDEX</td><td></td><td>62.0</td><td>FEDEX</td><td>2021-09-24T14:38:09.290+0000</td><td>FEDEX</td><td>53</td><td>vt1</td><td>2023-04-10T09:00:51.627+0000</td></tr><tr><td>false</td><td>EWR</td><td>3.0</td><td>1.632745923922E12</td><td>FEDEXroot</td><td>>FEDEX>EWR</td><td>Newark</td><td>>FEDEX</td><td></td><td>54.0</td><td>FEDEX</td><td>2021-09-24T14:38:09.290+0000</td><td>FEDEX</td><td>53</td><td>vt1</td><td>2023-04-10T09:00:51.627+0000</td></tr><tr><td>false</td><td>OAK</td><td>3.0</td><td>1.632745927912E12</td><td>FEDEXroot</td><td>>FEDEX>OAK</td><td>Oakland</td><td>>FEDEX</td><td></td><td>67.0</td><td>FEDEX</td><td>2021-09-24T14:38:09.290+0000</td><td>FEDEX</td><td>53</td><td>vt1</td><td>2023-04-10T09:00:51.627+0000</td></tr><tr><td>false</td><td>BRUNEI</td><td>3.0</td><td>1.565624065632E12</td><td>LUERroot</td><td>>LUER>BRUNEI</td><td>Brunei</td><td>>LUER</td><td>nan</td><td>13.0</td><td>LUER</td><td>2019-07-30T12:56:00.478+0000</td><td>Luerssen</td><td>8</td><td>vt1</td><td>2023-04-10T09:00:51.627+0000</td></tr><tr><td>false</td><td>GERMANY</td><td>3.0</td><td>1.565623788828E12</td><td>LUERroot</td><td>>LUER>GERMANY</td><td>Germany</td><td>>LUER</td><td>nan</td><td>10.0</td><td>LUER</td><td>2019-07-30T12:56:00.478+0000</td><td>Luerssen</td><td>8</td><td>vt1</td><td>2023-04-10T09:00:51.627+0000</td></tr><tr><td>false</td><td>SAUDIARABIA</td><td>3.0</td><td>1.565624059545E12</td><td>LUERroot</td><td>>LUER>SAUDIARABIA</td><td>SaudiArabia</td><td>>LUER</td><td>nan</td><td>12.0</td><td>LUER</td><td>2019-07-30T12:56:00.478+0000</td><td>Luerssen</td><td>8</td><td>vt1</td><td>2023-04-10T09:00:51.627+0000</td></tr><tr><td>false</td><td>MARYSVILLE</td><td>3.0</td><td>1.65106397124E12</td><td>HONDAroot</td><td>>HONDA>MARYSVILLE</td><td>Marysville</td><td>>HONDA</td><td>nan</td><td>75.0</td><td>HONDA</td><td>2022-04-26T20:27:37.287+0000</td><td>HONDA</td><td>73</td><td>vt1</td><td>2023-04-10T09:00:51.627+0000</td></tr><tr><td>false</td><td>INDIANA</td><td>3.0</td><td>1.65106395835E12</td><td>HONDAroot</td><td>>HONDA>INDIANA</td><td>Indiana</td><td>>HONDA</td><td>nan</td><td>74.0</td><td>HONDA</td><td>2022-04-26T20:27:37.287+0000</td><td>HONDA</td><td>73</td><td>vt1</td><td>2023-04-10T09:00:51.627+0000</td></tr><tr><td>false</td><td>SAUDIARABIA</td><td>3.0</td><td>1.590422479021E12</td><td>LUERSAroot</td><td>>LUERSA>SAUDIARABIA</td><td>SaudiArabia</td><td>>LUERSA</td><td>nan</td><td>47.0</td><td>LUERSA</td><td>2020-05-21T13:56:13.904+0000</td><td>LuerssenSaudiArabia</td><td>46</td><td>vt1</td><td>2023-04-10T09:00:51.627+0000</td></tr><tr><td>false</td><td>DEFAULTSTORE</td><td>3.0</td><td>1.577822362874E12</td><td>sysconfig</td><td>>MOJIX>DEFAULTSTORE</td><td>Default Store</td><td>>MOJIX</td><td>nan</td><td>31.0</td><td>MOJIX</td><td>2019-12-31T19:59:22.874+0000</td><td>MOJIX</td><td>30</td><td>vt1</td><td>2023-04-10T09:00:51.627+0000</td></tr><tr><td>false</td><td>MENDEL</td><td>3.0</td><td>1.584629483206E12</td><td>CTVAroot</td><td>>CTVA>MENDEL</td><td>Mendel</td><td>>CTVA</td><td>nan</td><td>45.0</td><td>CTVA</td><td>2020-03-10T18:05:38.350+0000</td><td>Corteva Agriscience</td><td>42</td><td>vt1</td><td>2023-04-10T09:00:51.627+0000</td></tr><tr><td>false</td><td>AUSTRIA</td><td>3.0</td><td>1.571757508733E12</td><td>IKEAroot</td><td>>IKEA>AUSTRIA</td><td>Austria</td><td>>IKEA</td><td>nan</td><td>26.0</td><td>IKEA</td><td>2019-07-30T14:20:48.248+0000</td><td>IKEA</td><td>9</td><td>vt1</td><td>2023-04-10T09:00:51.627+0000</td></tr><tr><td>false</td><td>GERMANY</td><td>3.0</td><td>1.571757526796E12</td><td>IKEAroot</td><td>>IKEA>GERMANY</td><td>Germany</td><td>>IKEA</td><td>nan</td><td>27.0</td><td>IKEA</td><td>2019-07-30T14:20:48.248+0000</td><td>IKEA</td><td>9</td><td>vt1</td><td>2023-04-10T09:00:51.627+0000</td></tr><tr><td>false</td><td>ATL</td><td>3.0</td><td>1.679407601585E12</td><td>FEDEXroot</td><td>>FEDEX>ATL</td><td>Atlanta</td><td>>FEDEX</td><td>None</td><td>76.0</td><td>FEDEX</td><td>2021-09-24T14:38:09.290+0000</td><td>FEDEX</td><td>53</td><td>vt1</td><td>2023-04-11T09:01:15.754+0000</td></tr><tr><td>false</td><td>IND</td><td>3.0</td><td>1.632745925509E12</td><td>FEDEXroot</td><td>>FEDEX>IND</td><td>Indianapolis</td><td>>FEDEX</td><td></td><td>56.0</td><td>FEDEX</td><td>2021-09-24T14:38:09.290+0000</td><td>FEDEX</td><td>53</td><td>vt1</td><td>2023-04-11T09:01:15.754+0000</td></tr><tr><td>false</td><td>LAX</td><td>3.0</td><td>1.632745926279E12</td><td>FEDEXroot</td><td>>FEDEX>LAX</td><td>Los Angeles</td><td>>FEDEX</td><td></td><td>60.0</td><td>FEDEX</td><td>2021-09-24T14:38:09.290+0000</td><td>FEDEX</td><td>53</td><td>vt1</td><td>2023-04-11T09:01:15.754+0000</td></tr><tr><td>false</td><td>MEM</td><td>3.0</td><td>1.6327459271E12</td><td>FEDEXroot</td><td>>FEDEX>MEM</td><td>Memphis</td><td>>FEDEX</td><td></td><td>62.0</td><td>FEDEX</td><td>2021-09-24T14:38:09.290+0000</td><td>FEDEX</td><td>53</td><td>vt1</td><td>2023-04-11T09:01:15.754+0000</td></tr><tr><td>false</td><td>EWR</td><td>3.0</td><td>1.632745923922E12</td><td>FEDEXroot</td><td>>FEDEX>EWR</td><td>Newark</td><td>>FEDEX</td><td></td><td>54.0</td><td>FEDEX</td><td>2021-09-24T14:38:09.290+0000</td><td>FEDEX</td><td>53</td><td>vt1</td><td>2023-04-11T09:01:15.754+0000</td></tr><tr><td>false</td><td>OAK</td><td>3.0</td><td>1.632745927912E12</td><td>FEDEXroot</td><td>>FEDEX>OAK</td><td>Oakland</td><td>>FEDEX</td><td></td><td>67.0</td><td>FEDEX</td><td>2021-09-24T14:38:09.290+0000</td><td>FEDEX</td><td>53</td><td>vt1</td><td>2023-04-11T09:01:15.754+0000</td></tr><tr><td>false</td><td>BRUNEI</td><td>3.0</td><td>1.565624065632E12</td><td>LUERroot</td><td>>LUER>BRUNEI</td><td>Brunei</td><td>>LUER</td><td>nan</td><td>13.0</td><td>LUER</td><td>2019-07-30T12:56:00.478+0000</td><td>Luerssen</td><td>8</td><td>vt1</td><td>2023-04-11T09:01:15.754+0000</td></tr><tr><td>false</td><td>GERMANY</td><td>3.0</td><td>1.565623788828E12</td><td>LUERroot</td><td>>LUER>GERMANY</td><td>Germany</td><td>>LUER</td><td>nan</td><td>10.0</td><td>LUER</td><td>2019-07-30T12:56:00.478+0000</td><td>Luerssen</td><td>8</td><td>vt1</td><td>2023-04-11T09:01:15.754+0000</td></tr><tr><td>false</td><td>SAUDIARABIA</td><td>3.0</td><td>1.565624059545E12</td><td>LUERroot</td><td>>LUER>SAUDIARABIA</td><td>SaudiArabia</td><td>>LUER</td><td>nan</td><td>12.0</td><td>LUER</td><td>2019-07-30T12:56:00.478+0000</td><td>Luerssen</td><td>8</td><td>vt1</td><td>2023-04-11T09:01:15.754+0000</td></tr><tr><td>false</td><td>MARYSVILLE</td><td>3.0</td><td>1.65106397124E12</td><td>HONDAroot</td><td>>HONDA>MARYSVILLE</td><td>Marysville</td><td>>HONDA</td><td>nan</td><td>75.0</td><td>HONDA</td><td>2022-04-26T20:27:37.287+0000</td><td>HONDA</td><td>73</td><td>vt1</td><td>2023-04-11T09:01:15.754+0000</td></tr><tr><td>false</td><td>INDIANA</td><td>3.0</td><td>1.65106395835E12</td><td>HONDAroot</td><td>>HONDA>INDIANA</td><td>Indiana</td><td>>HONDA</td><td>nan</td><td>74.0</td><td>HONDA</td><td>2022-04-26T20:27:37.287+0000</td><td>HONDA</td><td>73</td><td>vt1</td><td>2023-04-11T09:01:15.754+0000</td></tr><tr><td>false</td><td>SAUDIARABIA</td><td>3.0</td><td>1.590422479021E12</td><td>LUERSAroot</td><td>>LUERSA>SAUDIARABIA</td><td>SaudiArabia</td><td>>LUERSA</td><td>nan</td><td>47.0</td><td>LUERSA</td><td>2020-05-21T13:56:13.904+0000</td><td>LuerssenSaudiArabia</td><td>46</td><td>vt1</td><td>2023-04-11T09:01:15.754+0000</td></tr><tr><td>false</td><td>DEFAULTSTORE</td><td>3.0</td><td>1.577822362874E12</td><td>sysconfig</td><td>>MOJIX>DEFAULTSTORE</td><td>Default Store</td><td>>MOJIX</td><td>nan</td><td>31.0</td><td>MOJIX</td><td>2019-12-31T19:59:22.874+0000</td><td>MOJIX</td><td>30</td><td>vt1</td><td>2023-04-11T09:01:15.754+0000</td></tr><tr><td>false</td><td>MENDEL</td><td>3.0</td><td>1.584629483206E12</td><td>CTVAroot</td><td>>CTVA>MENDEL</td><td>Mendel</td><td>>CTVA</td><td>nan</td><td>45.0</td><td>CTVA</td><td>2020-03-10T18:05:38.350+0000</td><td>Corteva Agriscience</td><td>42</td><td>vt1</td><td>2023-04-11T09:01:15.754+0000</td></tr><tr><td>false</td><td>AUSTRIA</td><td>3.0</td><td>1.571757508733E12</td><td>IKEAroot</td><td>>IKEA>AUSTRIA</td><td>Austria</td><td>>IKEA</td><td>nan</td><td>26.0</td><td>IKEA</td><td>2019-07-30T14:20:48.248+0000</td><td>IKEA</td><td>9</td><td>vt1</td><td>2023-04-11T09:01:15.754+0000</td></tr><tr><td>false</td><td>GERMANY</td><td>3.0</td><td>1.571757526796E12</td><td>IKEAroot</td><td>>IKEA>GERMANY</td><td>Germany</td><td>>IKEA</td><td>nan</td><td>27.0</td><td>IKEA</td><td>2019-07-30T14:20:48.248+0000</td><td>IKEA</td><td>9</td><td>vt1</td><td>2023-04-11T09:01:15.754+0000</td></tr><tr><td>false</td><td>ATL</td><td>3.0</td><td>1.679407601585E12</td><td>FEDEXroot</td><td>>FEDEX>ATL</td><td>Atlanta</td><td>>FEDEX</td><td>None</td><td>76.0</td><td>FEDEX</td><td>2021-09-24T14:38:09.290+0000</td><td>FEDEX</td><td>53</td><td>vt1</td><td>2023-04-12T09:00:29.906+0000</td></tr><tr><td>false</td><td>IND</td><td>3.0</td><td>1.632745925509E12</td><td>FEDEXroot</td><td>>FEDEX>IND</td><td>Indianapolis</td><td>>FEDEX</td><td></td><td>56.0</td><td>FEDEX</td><td>2021-09-24T14:38:09.290+0000</td><td>FEDEX</td><td>53</td><td>vt1</td><td>2023-04-12T09:00:29.906+0000</td></tr><tr><td>false</td><td>LAX</td><td>3.0</td><td>1.632745926279E12</td><td>FEDEXroot</td><td>>FEDEX>LAX</td><td>Los Angeles</td><td>>FEDEX</td><td></td><td>60.0</td><td>FEDEX</td><td>2021-09-24T14:38:09.290+0000</td><td>FEDEX</td><td>53</td><td>vt1</td><td>2023-04-12T09:00:29.906+0000</td></tr><tr><td>false</td><td>MEM</td><td>3.0</td><td>1.6327459271E12</td><td>FEDEXroot</td><td>>FEDEX>MEM</td><td>Memphis</td><td>>FEDEX</td><td></td><td>62.0</td><td>FEDEX</td><td>2021-09-24T14:38:09.290+0000</td><td>FEDEX</td><td>53</td><td>vt1</td><td>2023-04-12T09:00:29.906+0000</td></tr><tr><td>false</td><td>EWR</td><td>3.0</td><td>1.632745923922E12</td><td>FEDEXroot</td><td>>FEDEX>EWR</td><td>Newark</td><td>>FEDEX</td><td></td><td>54.0</td><td>FEDEX</td><td>2021-09-24T14:38:09.290+0000</td><td>FEDEX</td><td>53</td><td>vt1</td><td>2023-04-12T09:00:29.906+0000</td></tr><tr><td>false</td><td>OAK</td><td>3.0</td><td>1.632745927912E12</td><td>FEDEXroot</td><td>>FEDEX>OAK</td><td>Oakland</td><td>>FEDEX</td><td></td><td>67.0</td><td>FEDEX</td><td>2021-09-24T14:38:09.290+0000</td><td>FEDEX</td><td>53</td><td>vt1</td><td>2023-04-12T09:00:29.906+0000</td></tr><tr><td>false</td><td>BRUNEI</td><td>3.0</td><td>1.565624065632E12</td><td>LUERroot</td><td>>LUER>BRUNEI</td><td>Brunei</td><td>>LUER</td><td>nan</td><td>13.0</td><td>LUER</td><td>2019-07-30T12:56:00.478+0000</td><td>Luerssen</td><td>8</td><td>vt1</td><td>2023-04-12T09:00:29.906+0000</td></tr><tr><td>false</td><td>GERMANY</td><td>3.0</td><td>1.565623788828E12</td><td>LUERroot</td><td>>LUER>GERMANY</td><td>Germany</td><td>>LUER</td><td>nan</td><td>10.0</td><td>LUER</td><td>2019-07-30T12:56:00.478+0000</td><td>Luerssen</td><td>8</td><td>vt1</td><td>2023-04-12T09:00:29.906+0000</td></tr><tr><td>false</td><td>SAUDIARABIA</td><td>3.0</td><td>1.565624059545E12</td><td>LUERroot</td><td>>LUER>SAUDIARABIA</td><td>SaudiArabia</td><td>>LUER</td><td>nan</td><td>12.0</td><td>LUER</td><td>2019-07-30T12:56:00.478+0000</td><td>Luerssen</td><td>8</td><td>vt1</td><td>2023-04-12T09:00:29.906+0000</td></tr><tr><td>false</td><td>MARYSVILLE</td><td>3.0</td><td>1.65106397124E12</td><td>HONDAroot</td><td>>HONDA>MARYSVILLE</td><td>Marysville</td><td>>HONDA</td><td>nan</td><td>75.0</td><td>HONDA</td><td>2022-04-26T20:27:37.287+0000</td><td>HONDA</td><td>73</td><td>vt1</td><td>2023-04-12T09:00:29.906+0000</td></tr><tr><td>false</td><td>INDIANA</td><td>3.0</td><td>1.65106395835E12</td><td>HONDAroot</td><td>>HONDA>INDIANA</td><td>Indiana</td><td>>HONDA</td><td>nan</td><td>74.0</td><td>HONDA</td><td>2022-04-26T20:27:37.287+0000</td><td>HONDA</td><td>73</td><td>vt1</td><td>2023-04-12T09:00:29.906+0000</td></tr><tr><td>false</td><td>SAUDIARABIA</td><td>3.0</td><td>1.590422479021E12</td><td>LUERSAroot</td><td>>LUERSA>SAUDIARABIA</td><td>SaudiArabia</td><td>>LUERSA</td><td>nan</td><td>47.0</td><td>LUERSA</td><td>2020-05-21T13:56:13.904+0000</td><td>LuerssenSaudiArabia</td><td>46</td><td>vt1</td><td>2023-04-12T09:00:29.906+0000</td></tr><tr><td>false</td><td>DEFAULTSTORE</td><td>3.0</td><td>1.577822362874E12</td><td>sysconfig</td><td>>MOJIX>DEFAULTSTORE</td><td>Default Store</td><td>>MOJIX</td><td>nan</td><td>31.0</td><td>MOJIX</td><td>2019-12-31T19:59:22.874+0000</td><td>MOJIX</td><td>30</td><td>vt1</td><td>2023-04-12T09:00:29.906+0000</td></tr><tr><td>false</td><td>MENDEL</td><td>3.0</td><td>1.584629483206E12</td><td>CTVAroot</td><td>>CTVA>MENDEL</td><td>Mendel</td><td>>CTVA</td><td>nan</td><td>45.0</td><td>CTVA</td><td>2020-03-10T18:05:38.350+0000</td><td>Corteva Agriscience</td><td>42</td><td>vt1</td><td>2023-04-12T09:00:29.906+0000</td></tr><tr><td>false</td><td>AUSTRIA</td><td>3.0</td><td>1.571757508733E12</td><td>IKEAroot</td><td>>IKEA>AUSTRIA</td><td>Austria</td><td>>IKEA</td><td>nan</td><td>26.0</td><td>IKEA</td><td>2019-07-30T14:20:48.248+0000</td><td>IKEA</td><td>9</td><td>vt1</td><td>2023-04-12T09:00:29.906+0000</td></tr><tr><td>false</td><td>GERMANY</td><td>3.0</td><td>1.571757526796E12</td><td>IKEAroot</td><td>>IKEA>GERMANY</td><td>Germany</td><td>>IKEA</td><td>nan</td><td>27.0</td><td>IKEA</td><td>2019-07-30T14:20:48.248+0000</td><td>IKEA</td><td>9</td><td>vt1</td><td>2023-04-12T09:00:29.906+0000</td></tr><tr><td>false</td><td>MEM</td><td>3.0</td><td>1.6327459271E12</td><td>FEDEXroot</td><td>>FEDEX>MEM</td><td>Memphis</td><td>>FEDEX</td><td></td><td>62.0</td><td>FEDEX</td><td>2021-09-24T14:38:09.290+0000</td><td>FEDEX</td><td>53</td><td>vt1</td><td>2023-04-13T09:00:33.783+0000</td></tr><tr><td>false</td><td>EWR</td><td>3.0</td><td>1.632745923922E12</td><td>FEDEXroot</td><td>>FEDEX>EWR</td><td>Newark</td><td>>FEDEX</td><td></td><td>54.0</td><td>FEDEX</td><td>2021-09-24T14:38:09.290+0000</td><td>FEDEX</td><td>53</td><td>vt1</td><td>2023-04-13T09:00:33.783+0000</td></tr><tr><td>false</td><td>OAK</td><td>3.0</td><td>1.632745927912E12</td><td>FEDEXroot</td><td>>FEDEX>OAK</td><td>Oakland</td><td>>FEDEX</td><td></td><td>67.0</td><td>FEDEX</td><td>2021-09-24T14:38:09.290+0000</td><td>FEDEX</td><td>53</td><td>vt1</td><td>2023-04-13T09:00:33.783+0000</td></tr><tr><td>false</td><td>ATL</td><td>3.0</td><td>1.679407601585E12</td><td>FEDEXroot</td><td>>FEDEX>ATL</td><td>Atlanta</td><td>>FEDEX</td><td>None</td><td>76.0</td><td>FEDEX</td><td>2021-09-24T14:38:09.290+0000</td><td>FEDEX</td><td>53</td><td>vt1</td><td>2023-04-13T09:00:33.783+0000</td></tr><tr><td>false</td><td>IND</td><td>3.0</td><td>1.632745925509E12</td><td>FEDEXroot</td><td>>FEDEX>IND</td><td>Indianapolis</td><td>>FEDEX</td><td></td><td>56.0</td><td>FEDEX</td><td>2021-09-24T14:38:09.290+0000</td><td>FEDEX</td><td>53</td><td>vt1</td><td>2023-04-13T09:00:33.783+0000</td></tr><tr><td>false</td><td>LAX</td><td>3.0</td><td>1.632745926279E12</td><td>FEDEXroot</td><td>>FEDEX>LAX</td><td>Los Angeles</td><td>>FEDEX</td><td></td><td>60.0</td><td>FEDEX</td><td>2021-09-24T14:38:09.290+0000</td><td>FEDEX</td><td>53</td><td>vt1</td><td>2023-04-13T09:00:33.783+0000</td></tr><tr><td>false</td><td>SAUDIARABIA</td><td>3.0</td><td>1.565624059545E12</td><td>LUERroot</td><td>>LUER>SAUDIARABIA</td><td>SaudiArabia</td><td>>LUER</td><td>nan</td><td>12.0</td><td>LUER</td><td>2019-07-30T12:56:00.478+0000</td><td>Luerssen</td><td>8</td><td>vt1</td><td>2023-04-13T09:00:33.783+0000</td></tr><tr><td>false</td><td>BRUNEI</td><td>3.0</td><td>1.565624065632E12</td><td>LUERroot</td><td>>LUER>BRUNEI</td><td>Brunei</td><td>>LUER</td><td>nan</td><td>13.0</td><td>LUER</td><td>2019-07-30T12:56:00.478+0000</td><td>Luerssen</td><td>8</td><td>vt1</td><td>2023-04-13T09:00:33.783+0000</td></tr><tr><td>false</td><td>GERMANY</td><td>3.0</td><td>1.565623788828E12</td><td>LUERroot</td><td>>LUER>GERMANY</td><td>Germany</td><td>>LUER</td><td>nan</td><td>10.0</td><td>LUER</td><td>2019-07-30T12:56:00.478+0000</td><td>Luerssen</td><td>8</td><td>vt1</td><td>2023-04-13T09:00:33.783+0000</td></tr><tr><td>false</td><td>INDIANA</td><td>3.0</td><td>1.65106395835E12</td><td>HONDAroot</td><td>>HONDA>INDIANA</td><td>Indiana</td><td>>HONDA</td><td>nan</td><td>74.0</td><td>HONDA</td><td>2022-04-26T20:27:37.287+0000</td><td>HONDA</td><td>73</td><td>vt1</td><td>2023-04-13T09:00:33.783+0000</td></tr><tr><td>false</td><td>MARYSVILLE</td><td>3.0</td><td>1.65106397124E12</td><td>HONDAroot</td><td>>HONDA>MARYSVILLE</td><td>Marysville</td><td>>HONDA</td><td>nan</td><td>75.0</td><td>HONDA</td><td>2022-04-26T20:27:37.287+0000</td><td>HONDA</td><td>73</td><td>vt1</td><td>2023-04-13T09:00:33.783+0000</td></tr><tr><td>false</td><td>SAUDIARABIA</td><td>3.0</td><td>1.590422479021E12</td><td>LUERSAroot</td><td>>LUERSA>SAUDIARABIA</td><td>SaudiArabia</td><td>>LUERSA</td><td>nan</td><td>47.0</td><td>LUERSA</td><td>2020-05-21T13:56:13.904+0000</td><td>LuerssenSaudiArabia</td><td>46</td><td>vt1</td><td>2023-04-13T09:00:33.783+0000</td></tr><tr><td>false</td><td>DEFAULTSTORE</td><td>3.0</td><td>1.577822362874E12</td><td>sysconfig</td><td>>MOJIX>DEFAULTSTORE</td><td>Default Store</td><td>>MOJIX</td><td>nan</td><td>31.0</td><td>MOJIX</td><td>2019-12-31T19:59:22.874+0000</td><td>MOJIX</td><td>30</td><td>vt1</td><td>2023-04-13T09:00:33.783+0000</td></tr><tr><td>false</td><td>MENDEL</td><td>3.0</td><td>1.584629483206E12</td><td>CTVAroot</td><td>>CTVA>MENDEL</td><td>Mendel</td><td>>CTVA</td><td>nan</td><td>45.0</td><td>CTVA</td><td>2020-03-10T18:05:38.350+0000</td><td>Corteva Agriscience</td><td>42</td><td>vt1</td><td>2023-04-13T09:00:33.783+0000</td></tr><tr><td>false</td><td>AUSTRIA</td><td>3.0</td><td>1.571757508733E12</td><td>IKEAroot</td><td>>IKEA>AUSTRIA</td><td>Austria</td><td>>IKEA</td><td>nan</td><td>26.0</td><td>IKEA</td><td>2019-07-30T14:20:48.248+0000</td><td>IKEA</td><td>9</td><td>vt1</td><td>2023-04-13T09:00:33.783+0000</td></tr><tr><td>false</td><td>GERMANY</td><td>3.0</td><td>1.571757526796E12</td><td>IKEAroot</td><td>>IKEA>GERMANY</td><td>Germany</td><td>>IKEA</td><td>nan</td><td>27.0</td><td>IKEA</td><td>2019-07-30T14:20:48.248+0000</td><td>IKEA</td><td>9</td><td>vt1</td><td>2023-04-13T09:00:33.783+0000</td></tr><tr><td>false</td><td>MEM</td><td>3.0</td><td>1.6327459271E12</td><td>FEDEXroot</td><td>>FEDEX>MEM</td><td>Memphis</td><td>>FEDEX</td><td></td><td>62.0</td><td>FEDEX</td><td>2021-09-24T14:38:09.290+0000</td><td>FEDEX</td><td>53</td><td>vt1</td><td>2023-04-14T09:00:28.868+0000</td></tr><tr><td>false</td><td>EWR</td><td>3.0</td><td>1.632745923922E12</td><td>FEDEXroot</td><td>>FEDEX>EWR</td><td>Newark</td><td>>FEDEX</td><td></td><td>54.0</td><td>FEDEX</td><td>2021-09-24T14:38:09.290+0000</td><td>FEDEX</td><td>53</td><td>vt1</td><td>2023-04-14T09:00:28.868+0000</td></tr><tr><td>false</td><td>OAK</td><td>3.0</td><td>1.632745927912E12</td><td>FEDEXroot</td><td>>FEDEX>OAK</td><td>Oakland</td><td>>FEDEX</td><td></td><td>67.0</td><td>FEDEX</td><td>2021-09-24T14:38:09.290+0000</td><td>FEDEX</td><td>53</td><td>vt1</td><td>2023-04-14T09:00:28.868+0000</td></tr><tr><td>false</td><td>ATL</td><td>3.0</td><td>1.679407601585E12</td><td>FEDEXroot</td><td>>FEDEX>ATL</td><td>Atlanta</td><td>>FEDEX</td><td>None</td><td>76.0</td><td>FEDEX</td><td>2021-09-24T14:38:09.290+0000</td><td>FEDEX</td><td>53</td><td>vt1</td><td>2023-04-14T09:00:28.868+0000</td></tr><tr><td>false</td><td>IND</td><td>3.0</td><td>1.632745925509E12</td><td>FEDEXroot</td><td>>FEDEX>IND</td><td>Indianapolis</td><td>>FEDEX</td><td></td><td>56.0</td><td>FEDEX</td><td>2021-09-24T14:38:09.290+0000</td><td>FEDEX</td><td>53</td><td>vt1</td><td>2023-04-14T09:00:28.868+0000</td></tr><tr><td>false</td><td>LAX</td><td>3.0</td><td>1.632745926279E12</td><td>FEDEXroot</td><td>>FEDEX>LAX</td><td>Los Angeles</td><td>>FEDEX</td><td></td><td>60.0</td><td>FEDEX</td><td>2021-09-24T14:38:09.290+0000</td><td>FEDEX</td><td>53</td><td>vt1</td><td>2023-04-14T09:00:28.868+0000</td></tr><tr><td>false</td><td>BRUNEI</td><td>3.0</td><td>1.565624065632E12</td><td>LUERroot</td><td>>LUER>BRUNEI</td><td>Brunei</td><td>>LUER</td><td>nan</td><td>13.0</td><td>LUER</td><td>2019-07-30T12:56:00.478+0000</td><td>Luerssen</td><td>8</td><td>vt1</td><td>2023-04-14T09:00:28.868+0000</td></tr><tr><td>false</td><td>GERMANY</td><td>3.0</td><td>1.565623788828E12</td><td>LUERroot</td><td>>LUER>GERMANY</td><td>Germany</td><td>>LUER</td><td>nan</td><td>10.0</td><td>LUER</td><td>2019-07-30T12:56:00.478+0000</td><td>Luerssen</td><td>8</td><td>vt1</td><td>2023-04-14T09:00:28.868+0000</td></tr><tr><td>false</td><td>SAUDIARABIA</td><td>3.0</td><td>1.565624059545E12</td><td>LUERroot</td><td>>LUER>SAUDIARABIA</td><td>SaudiArabia</td><td>>LUER</td><td>nan</td><td>12.0</td><td>LUER</td><td>2019-07-30T12:56:00.478+0000</td><td>Luerssen</td><td>8</td><td>vt1</td><td>2023-04-14T09:00:28.868+0000</td></tr><tr><td>false</td><td>INDIANA</td><td>3.0</td><td>1.65106395835E12</td><td>HONDAroot</td><td>>HONDA>INDIANA</td><td>Indiana</td><td>>HONDA</td><td>nan</td><td>74.0</td><td>HONDA</td><td>2022-04-26T20:27:37.287+0000</td><td>HONDA</td><td>73</td><td>vt1</td><td>2023-04-14T09:00:28.868+0000</td></tr><tr><td>false</td><td>MARYSVILLE</td><td>3.0</td><td>1.65106397124E12</td><td>HONDAroot</td><td>>HONDA>MARYSVILLE</td><td>Marysville</td><td>>HONDA</td><td>nan</td><td>75.0</td><td>HONDA</td><td>2022-04-26T20:27:37.287+0000</td><td>HONDA</td><td>73</td><td>vt1</td><td>2023-04-14T09:00:28.868+0000</td></tr><tr><td>false</td><td>SAUDIARABIA</td><td>3.0</td><td>1.590422479021E12</td><td>LUERSAroot</td><td>>LUERSA>SAUDIARABIA</td><td>SaudiArabia</td><td>>LUERSA</td><td>nan</td><td>47.0</td><td>LUERSA</td><td>2020-05-21T13:56:13.904+0000</td><td>LuerssenSaudiArabia</td><td>46</td><td>vt1</td><td>2023-04-14T09:00:28.868+0000</td></tr><tr><td>false</td><td>DEFAULTSTORE</td><td>3.0</td><td>1.577822362874E12</td><td>sysconfig</td><td>>MOJIX>DEFAULTSTORE</td><td>Default Store</td><td>>MOJIX</td><td>nan</td><td>31.0</td><td>MOJIX</td><td>2019-12-31T19:59:22.874+0000</td><td>MOJIX</td><td>30</td><td>vt1</td><td>2023-04-14T09:00:28.868+0000</td></tr><tr><td>false</td><td>MENDEL</td><td>3.0</td><td>1.584629483206E12</td><td>CTVAroot</td><td>>CTVA>MENDEL</td><td>Mendel</td><td>>CTVA</td><td>nan</td><td>45.0</td><td>CTVA</td><td>2020-03-10T18:05:38.350+0000</td><td>Corteva Agriscience</td><td>42</td><td>vt1</td><td>2023-04-14T09:00:28.868+0000</td></tr><tr><td>false</td><td>AUSTRIA</td><td>3.0</td><td>1.571757508733E12</td><td>IKEAroot</td><td>>IKEA>AUSTRIA</td><td>Austria</td><td>>IKEA</td><td>nan</td><td>26.0</td><td>IKEA</td><td>2019-07-30T14:20:48.248+0000</td><td>IKEA</td><td>9</td><td>vt1</td><td>2023-04-14T09:00:28.868+0000</td></tr><tr><td>false</td><td>GERMANY</td><td>3.0</td><td>1.571757526796E12</td><td>IKEAroot</td><td>>IKEA>GERMANY</td><td>Germany</td><td>>IKEA</td><td>nan</td><td>27.0</td><td>IKEA</td><td>2019-07-30T14:20:48.248+0000</td><td>IKEA</td><td>9</td><td>vt1</td><td>2023-04-14T09:00:28.868+0000</td></tr><tr><td>false</td><td>MEM</td><td>3.0</td><td>1.6327459271E12</td><td>FEDEXroot</td><td>>FEDEX>MEM</td><td>Memphis</td><td>>FEDEX</td><td></td><td>62.0</td><td>FEDEX</td><td>2021-09-24T14:38:09.290+0000</td><td>FEDEX</td><td>53</td><td>vt1</td><td>2023-04-15T09:00:30.951+0000</td></tr><tr><td>false</td><td>EWR</td><td>3.0</td><td>1.632745923922E12</td><td>FEDEXroot</td><td>>FEDEX>EWR</td><td>Newark</td><td>>FEDEX</td><td></td><td>54.0</td><td>FEDEX</td><td>2021-09-24T14:38:09.290+0000</td><td>FEDEX</td><td>53</td><td>vt1</td><td>2023-04-15T09:00:30.951+0000</td></tr><tr><td>false</td><td>OAK</td><td>3.0</td><td>1.632745927912E12</td><td>FEDEXroot</td><td>>FEDEX>OAK</td><td>Oakland</td><td>>FEDEX</td><td></td><td>67.0</td><td>FEDEX</td><td>2021-09-24T14:38:09.290+0000</td><td>FEDEX</td><td>53</td><td>vt1</td><td>2023-04-15T09:00:30.951+0000</td></tr><tr><td>false</td><td>ATL</td><td>3.0</td><td>1.679407601585E12</td><td>FEDEXroot</td><td>>FEDEX>ATL</td><td>Atlanta</td><td>>FEDEX</td><td>None</td><td>76.0</td><td>FEDEX</td><td>2021-09-24T14:38:09.290+0000</td><td>FEDEX</td><td>53</td><td>vt1</td><td>2023-04-15T09:00:30.951+0000</td></tr><tr><td>false</td><td>IND</td><td>3.0</td><td>1.632745925509E12</td><td>FEDEXroot</td><td>>FEDEX>IND</td><td>Indianapolis</td><td>>FEDEX</td><td></td><td>56.0</td><td>FEDEX</td><td>2021-09-24T14:38:09.290+0000</td><td>FEDEX</td><td>53</td><td>vt1</td><td>2023-04-15T09:00:30.951+0000</td></tr><tr><td>false</td><td>LAX</td><td>3.0</td><td>1.632745926279E12</td><td>FEDEXroot</td><td>>FEDEX>LAX</td><td>Los Angeles</td><td>>FEDEX</td><td></td><td>60.0</td><td>FEDEX</td><td>2021-09-24T14:38:09.290+0000</td><td>FEDEX</td><td>53</td><td>vt1</td><td>2023-04-15T09:00:30.951+0000</td></tr><tr><td>false</td><td>SAUDIARABIA</td><td>3.0</td><td>1.565624059545E12</td><td>LUERroot</td><td>>LUER>SAUDIARABIA</td><td>SaudiArabia</td><td>>LUER</td><td>nan</td><td>12.0</td><td>LUER</td><td>2019-07-30T12:56:00.478+0000</td><td>Luerssen</td><td>8</td><td>vt1</td><td>2023-04-15T09:00:30.951+0000</td></tr><tr><td>false</td><td>BRUNEI</td><td>3.0</td><td>1.565624065632E12</td><td>LUERroot</td><td>>LUER>BRUNEI</td><td>Brunei</td><td>>LUER</td><td>nan</td><td>13.0</td><td>LUER</td><td>2019-07-30T12:56:00.478+0000</td><td>Luerssen</td><td>8</td><td>vt1</td><td>2023-04-15T09:00:30.951+0000</td></tr><tr><td>false</td><td>GERMANY</td><td>3.0</td><td>1.565623788828E12</td><td>LUERroot</td><td>>LUER>GERMANY</td><td>Germany</td><td>>LUER</td><td>nan</td><td>10.0</td><td>LUER</td><td>2019-07-30T12:56:00.478+0000</td><td>Luerssen</td><td>8</td><td>vt1</td><td>2023-04-15T09:00:30.951+0000</td></tr><tr><td>false</td><td>INDIANA</td><td>3.0</td><td>1.65106395835E12</td><td>HONDAroot</td><td>>HONDA>INDIANA</td><td>Indiana</td><td>>HONDA</td><td>nan</td><td>74.0</td><td>HONDA</td><td>2022-04-26T20:27:37.287+0000</td><td>HONDA</td><td>73</td><td>vt1</td><td>2023-04-15T09:00:30.951+0000</td></tr><tr><td>false</td><td>MARYSVILLE</td><td>3.0</td><td>1.65106397124E12</td><td>HONDAroot</td><td>>HONDA>MARYSVILLE</td><td>Marysville</td><td>>HONDA</td><td>nan</td><td>75.0</td><td>HONDA</td><td>2022-04-26T20:27:37.287+0000</td><td>HONDA</td><td>73</td><td>vt1</td><td>2023-04-15T09:00:30.951+0000</td></tr><tr><td>false</td><td>SAUDIARABIA</td><td>3.0</td><td>1.590422479021E12</td><td>LUERSAroot</td><td>>LUERSA>SAUDIARABIA</td><td>SaudiArabia</td><td>>LUERSA</td><td>nan</td><td>47.0</td><td>LUERSA</td><td>2020-05-21T13:56:13.904+0000</td><td>LuerssenSaudiArabia</td><td>46</td><td>vt1</td><td>2023-04-15T09:00:30.951+0000</td></tr><tr><td>false</td><td>DEFAULTSTORE</td><td>3.0</td><td>1.577822362874E12</td><td>sysconfig</td><td>>MOJIX>DEFAULTSTORE</td><td>Default Store</td><td>>MOJIX</td><td>nan</td><td>31.0</td><td>MOJIX</td><td>2019-12-31T19:59:22.874+0000</td><td>MOJIX</td><td>30</td><td>vt1</td><td>2023-04-15T09:00:30.951+0000</td></tr><tr><td>false</td><td>MENDEL</td><td>3.0</td><td>1.584629483206E12</td><td>CTVAroot</td><td>>CTVA>MENDEL</td><td>Mendel</td><td>>CTVA</td><td>nan</td><td>45.0</td><td>CTVA</td><td>2020-03-10T18:05:38.350+0000</td><td>Corteva Agriscience</td><td>42</td><td>vt1</td><td>2023-04-15T09:00:30.951+0000</td></tr><tr><td>false</td><td>AUSTRIA</td><td>3.0</td><td>1.571757508733E12</td><td>IKEAroot</td><td>>IKEA>AUSTRIA</td><td>Austria</td><td>>IKEA</td><td>nan</td><td>26.0</td><td>IKEA</td><td>2019-07-30T14:20:48.248+0000</td><td>IKEA</td><td>9</td><td>vt1</td><td>2023-04-15T09:00:30.951+0000</td></tr><tr><td>false</td><td>GERMANY</td><td>3.0</td><td>1.571757526796E12</td><td>IKEAroot</td><td>>IKEA>GERMANY</td><td>Germany</td><td>>IKEA</td><td>nan</td><td>27.0</td><td>IKEA</td><td>2019-07-30T14:20:48.248+0000</td><td>IKEA</td><td>9</td><td>vt1</td><td>2023-04-15T09:00:30.951+0000</td></tr></tbody></table></div>"
      ]
     },
     "metadata": {
      "application/vnd.databricks.v1+output": {
       "addedWidgets": {},
       "aggData": [],
       "aggError": "",
       "aggOverflow": false,
       "aggSchema": [],
       "aggSeriesLimitReached": false,
       "aggType": "",
       "arguments": {},
       "columnCustomDisplayInfos": {},
       "data": [
        [
         false,
         "MEM",
         3.0,
         1.6327459271E12,
         "FEDEXroot",
         ">FEDEX>MEM",
         "Memphis",
         ">FEDEX",
         "",
         62.0,
         "FEDEX",
         "2021-09-24T14:38:09.290+0000",
         "FEDEX",
         "53",
         "vt1",
         "2023-04-01T09:00:36.014+0000"
        ],
        [
         false,
         "EWR",
         3.0,
         1.632745923922E12,
         "FEDEXroot",
         ">FEDEX>EWR",
         "Newark",
         ">FEDEX",
         "",
         54.0,
         "FEDEX",
         "2021-09-24T14:38:09.290+0000",
         "FEDEX",
         "53",
         "vt1",
         "2023-04-01T09:00:36.014+0000"
        ],
        [
         false,
         "OAK",
         3.0,
         1.632745927912E12,
         "FEDEXroot",
         ">FEDEX>OAK",
         "Oakland",
         ">FEDEX",
         "",
         67.0,
         "FEDEX",
         "2021-09-24T14:38:09.290+0000",
         "FEDEX",
         "53",
         "vt1",
         "2023-04-01T09:00:36.014+0000"
        ],
        [
         false,
         "ATL",
         3.0,
         1.679407601585E12,
         "FEDEXroot",
         ">FEDEX>ATL",
         "Atlanta",
         ">FEDEX",
         "None",
         76.0,
         "FEDEX",
         "2021-09-24T14:38:09.290+0000",
         "FEDEX",
         "53",
         "vt1",
         "2023-04-01T09:00:36.014+0000"
        ],
        [
         false,
         "IND",
         3.0,
         1.632745925509E12,
         "FEDEXroot",
         ">FEDEX>IND",
         "Indianapolis",
         ">FEDEX",
         "",
         56.0,
         "FEDEX",
         "2021-09-24T14:38:09.290+0000",
         "FEDEX",
         "53",
         "vt1",
         "2023-04-01T09:00:36.014+0000"
        ],
        [
         false,
         "LAX",
         3.0,
         1.632745926279E12,
         "FEDEXroot",
         ">FEDEX>LAX",
         "Los Angeles",
         ">FEDEX",
         "",
         60.0,
         "FEDEX",
         "2021-09-24T14:38:09.290+0000",
         "FEDEX",
         "53",
         "vt1",
         "2023-04-01T09:00:36.014+0000"
        ],
        [
         false,
         "SAUDIARABIA",
         3.0,
         1.565624059545E12,
         "LUERroot",
         ">LUER>SAUDIARABIA",
         "SaudiArabia",
         ">LUER",
         "nan",
         12.0,
         "LUER",
         "2019-07-30T12:56:00.478+0000",
         "Luerssen",
         "8",
         "vt1",
         "2023-04-01T09:00:36.014+0000"
        ],
        [
         false,
         "BRUNEI",
         3.0,
         1.565624065632E12,
         "LUERroot",
         ">LUER>BRUNEI",
         "Brunei",
         ">LUER",
         "nan",
         13.0,
         "LUER",
         "2019-07-30T12:56:00.478+0000",
         "Luerssen",
         "8",
         "vt1",
         "2023-04-01T09:00:36.014+0000"
        ],
        [
         false,
         "GERMANY",
         3.0,
         1.565623788828E12,
         "LUERroot",
         ">LUER>GERMANY",
         "Germany",
         ">LUER",
         "nan",
         10.0,
         "LUER",
         "2019-07-30T12:56:00.478+0000",
         "Luerssen",
         "8",
         "vt1",
         "2023-04-01T09:00:36.014+0000"
        ],
        [
         false,
         "MARYSVILLE",
         3.0,
         1.65106397124E12,
         "HONDAroot",
         ">HONDA>MARYSVILLE",
         "Marysville",
         ">HONDA",
         "nan",
         75.0,
         "HONDA",
         "2022-04-26T20:27:37.287+0000",
         "HONDA",
         "73",
         "vt1",
         "2023-04-01T09:00:36.014+0000"
        ],
        [
         false,
         "INDIANA",
         3.0,
         1.65106395835E12,
         "HONDAroot",
         ">HONDA>INDIANA",
         "Indiana",
         ">HONDA",
         "nan",
         74.0,
         "HONDA",
         "2022-04-26T20:27:37.287+0000",
         "HONDA",
         "73",
         "vt1",
         "2023-04-01T09:00:36.014+0000"
        ],
        [
         false,
         "SAUDIARABIA",
         3.0,
         1.590422479021E12,
         "LUERSAroot",
         ">LUERSA>SAUDIARABIA",
         "SaudiArabia",
         ">LUERSA",
         "nan",
         47.0,
         "LUERSA",
         "2020-05-21T13:56:13.904+0000",
         "LuerssenSaudiArabia",
         "46",
         "vt1",
         "2023-04-01T09:00:36.014+0000"
        ],
        [
         false,
         "DEFAULTSTORE",
         3.0,
         1.577822362874E12,
         "sysconfig",
         ">MOJIX>DEFAULTSTORE",
         "Default Store",
         ">MOJIX",
         "nan",
         31.0,
         "MOJIX",
         "2019-12-31T19:59:22.874+0000",
         "MOJIX",
         "30",
         "vt1",
         "2023-04-01T09:00:36.014+0000"
        ],
        [
         false,
         "MENDEL",
         3.0,
         1.584629483206E12,
         "CTVAroot",
         ">CTVA>MENDEL",
         "Mendel",
         ">CTVA",
         "nan",
         45.0,
         "CTVA",
         "2020-03-10T18:05:38.350+0000",
         "Corteva Agriscience",
         "42",
         "vt1",
         "2023-04-01T09:00:36.014+0000"
        ],
        [
         false,
         "AUSTRIA",
         3.0,
         1.571757508733E12,
         "IKEAroot",
         ">IKEA>AUSTRIA",
         "Austria",
         ">IKEA",
         "nan",
         26.0,
         "IKEA",
         "2019-07-30T14:20:48.248+0000",
         "IKEA",
         "9",
         "vt1",
         "2023-04-01T09:00:36.014+0000"
        ],
        [
         false,
         "GERMANY",
         3.0,
         1.571757526796E12,
         "IKEAroot",
         ">IKEA>GERMANY",
         "Germany",
         ">IKEA",
         "nan",
         27.0,
         "IKEA",
         "2019-07-30T14:20:48.248+0000",
         "IKEA",
         "9",
         "vt1",
         "2023-04-01T09:00:36.014+0000"
        ],
        [
         false,
         "MEM",
         3.0,
         1.6327459271E12,
         "FEDEXroot",
         ">FEDEX>MEM",
         "Memphis",
         ">FEDEX",
         "",
         62.0,
         "FEDEX",
         "2021-09-24T14:38:09.290+0000",
         "FEDEX",
         "53",
         "vt1",
         "2023-04-30T09:00:29.658+0000"
        ],
        [
         false,
         "EWR",
         3.0,
         1.632745923922E12,
         "FEDEXroot",
         ">FEDEX>EWR",
         "Newark",
         ">FEDEX",
         "",
         54.0,
         "FEDEX",
         "2021-09-24T14:38:09.290+0000",
         "FEDEX",
         "53",
         "vt1",
         "2023-04-30T09:00:29.658+0000"
        ],
        [
         false,
         "OAK",
         3.0,
         1.632745927912E12,
         "FEDEXroot",
         ">FEDEX>OAK",
         "Oakland",
         ">FEDEX",
         "",
         67.0,
         "FEDEX",
         "2021-09-24T14:38:09.290+0000",
         "FEDEX",
         "53",
         "vt1",
         "2023-04-30T09:00:29.658+0000"
        ],
        [
         false,
         "TX",
         3.0,
         1.682544767293E12,
         "FEDEXroot",
         ">FEDEX>TX",
         "Texas",
         ">FEDEX",
         "None",
         78.0,
         "FEDEX",
         "2021-09-24T14:38:09.290+0000",
         "FEDEX",
         "53",
         "vt1",
         "2023-04-30T09:00:29.658+0000"
        ],
        [
         false,
         "ATL",
         3.0,
         1.679407601585E12,
         "FEDEXroot",
         ">FEDEX>ATL",
         "Atlanta",
         ">FEDEX",
         "None",
         76.0,
         "FEDEX",
         "2021-09-24T14:38:09.290+0000",
         "FEDEX",
         "53",
         "vt1",
         "2023-04-30T09:00:29.658+0000"
        ],
        [
         false,
         "IND",
         3.0,
         1.632745925509E12,
         "FEDEXroot",
         ">FEDEX>IND",
         "Indianapolis",
         ">FEDEX",
         "",
         56.0,
         "FEDEX",
         "2021-09-24T14:38:09.290+0000",
         "FEDEX",
         "53",
         "vt1",
         "2023-04-30T09:00:29.658+0000"
        ],
        [
         false,
         "LAX",
         3.0,
         1.632745926279E12,
         "FEDEXroot",
         ">FEDEX>LAX",
         "Los Angeles",
         ">FEDEX",
         "",
         60.0,
         "FEDEX",
         "2021-09-24T14:38:09.290+0000",
         "FEDEX",
         "53",
         "vt1",
         "2023-04-30T09:00:29.658+0000"
        ],
        [
         false,
         "SAUDIARABIA",
         3.0,
         1.565624059545E12,
         "LUERroot",
         ">LUER>SAUDIARABIA",
         "SaudiArabia",
         ">LUER",
         "nan",
         12.0,
         "LUER",
         "2019-07-30T12:56:00.478+0000",
         "Luerssen",
         "8",
         "vt1",
         "2023-04-30T09:00:29.658+0000"
        ],
        [
         false,
         "BRUNEI",
         3.0,
         1.565624065632E12,
         "LUERroot",
         ">LUER>BRUNEI",
         "Brunei",
         ">LUER",
         "nan",
         13.0,
         "LUER",
         "2019-07-30T12:56:00.478+0000",
         "Luerssen",
         "8",
         "vt1",
         "2023-04-30T09:00:29.658+0000"
        ],
        [
         false,
         "GERMANY",
         3.0,
         1.565623788828E12,
         "LUERroot",
         ">LUER>GERMANY",
         "Germany",
         ">LUER",
         "nan",
         10.0,
         "LUER",
         "2019-07-30T12:56:00.478+0000",
         "Luerssen",
         "8",
         "vt1",
         "2023-04-30T09:00:29.658+0000"
        ],
        [
         false,
         "INDIANA",
         3.0,
         1.65106395835E12,
         "HONDAroot",
         ">HONDA>INDIANA",
         "Indiana",
         ">HONDA",
         "nan",
         74.0,
         "HONDA",
         "2022-04-26T20:27:37.287+0000",
         "HONDA",
         "73",
         "vt1",
         "2023-04-30T09:00:29.658+0000"
        ],
        [
         false,
         "MARYSVILLE",
         3.0,
         1.65106397124E12,
         "HONDAroot",
         ">HONDA>MARYSVILLE",
         "Marysville",
         ">HONDA",
         "nan",
         75.0,
         "HONDA",
         "2022-04-26T20:27:37.287+0000",
         "HONDA",
         "73",
         "vt1",
         "2023-04-30T09:00:29.658+0000"
        ],
        [
         false,
         "SAUDIARABIA",
         3.0,
         1.590422479021E12,
         "LUERSAroot",
         ">LUERSA>SAUDIARABIA",
         "SaudiArabia",
         ">LUERSA",
         "nan",
         47.0,
         "LUERSA",
         "2020-05-21T13:56:13.904+0000",
         "LuerssenSaudiArabia",
         "46",
         "vt1",
         "2023-04-30T09:00:29.658+0000"
        ],
        [
         false,
         "DEFAULTSTORE",
         3.0,
         1.577822362874E12,
         "sysconfig",
         ">MOJIX>DEFAULTSTORE",
         "Default Store",
         ">MOJIX",
         "nan",
         31.0,
         "MOJIX",
         "2019-12-31T19:59:22.874+0000",
         "MOJIX",
         "30",
         "vt1",
         "2023-04-30T09:00:29.658+0000"
        ],
        [
         false,
         "MENDEL",
         3.0,
         1.584629483206E12,
         "CTVAroot",
         ">CTVA>MENDEL",
         "Mendel",
         ">CTVA",
         "nan",
         45.0,
         "CTVA",
         "2020-03-10T18:05:38.350+0000",
         "Corteva Agriscience",
         "42",
         "vt1",
         "2023-04-30T09:00:29.658+0000"
        ],
        [
         false,
         "AUSTRIA",
         3.0,
         1.571757508733E12,
         "IKEAroot",
         ">IKEA>AUSTRIA",
         "Austria",
         ">IKEA",
         "nan",
         26.0,
         "IKEA",
         "2019-07-30T14:20:48.248+0000",
         "IKEA",
         "9",
         "vt1",
         "2023-04-30T09:00:29.658+0000"
        ],
        [
         false,
         "GERMANY",
         3.0,
         1.571757526796E12,
         "IKEAroot",
         ">IKEA>GERMANY",
         "Germany",
         ">IKEA",
         "nan",
         27.0,
         "IKEA",
         "2019-07-30T14:20:48.248+0000",
         "IKEA",
         "9",
         "vt1",
         "2023-04-30T09:00:29.658+0000"
        ],
        [
         false,
         "MEM",
         3.0,
         1.6327459271E12,
         "FEDEXroot",
         ">FEDEX>MEM",
         "Memphis",
         ">FEDEX",
         "",
         62.0,
         "FEDEX",
         "2021-09-24T14:38:09.290+0000",
         "FEDEX",
         "53",
         "vt1",
         "2023-04-23T09:00:31.893+0000"
        ],
        [
         false,
         "EWR",
         3.0,
         1.632745923922E12,
         "FEDEXroot",
         ">FEDEX>EWR",
         "Newark",
         ">FEDEX",
         "",
         54.0,
         "FEDEX",
         "2021-09-24T14:38:09.290+0000",
         "FEDEX",
         "53",
         "vt1",
         "2023-04-23T09:00:31.893+0000"
        ],
        [
         false,
         "OAK",
         3.0,
         1.632745927912E12,
         "FEDEXroot",
         ">FEDEX>OAK",
         "Oakland",
         ">FEDEX",
         "",
         67.0,
         "FEDEX",
         "2021-09-24T14:38:09.290+0000",
         "FEDEX",
         "53",
         "vt1",
         "2023-04-23T09:00:31.893+0000"
        ],
        [
         false,
         "ATL",
         3.0,
         1.679407601585E12,
         "FEDEXroot",
         ">FEDEX>ATL",
         "Atlanta",
         ">FEDEX",
         "None",
         76.0,
         "FEDEX",
         "2021-09-24T14:38:09.290+0000",
         "FEDEX",
         "53",
         "vt1",
         "2023-04-23T09:00:31.893+0000"
        ],
        [
         false,
         "IND",
         3.0,
         1.632745925509E12,
         "FEDEXroot",
         ">FEDEX>IND",
         "Indianapolis",
         ">FEDEX",
         "",
         56.0,
         "FEDEX",
         "2021-09-24T14:38:09.290+0000",
         "FEDEX",
         "53",
         "vt1",
         "2023-04-23T09:00:31.893+0000"
        ],
        [
         false,
         "LAX",
         3.0,
         1.632745926279E12,
         "FEDEXroot",
         ">FEDEX>LAX",
         "Los Angeles",
         ">FEDEX",
         "",
         60.0,
         "FEDEX",
         "2021-09-24T14:38:09.290+0000",
         "FEDEX",
         "53",
         "vt1",
         "2023-04-23T09:00:31.893+0000"
        ],
        [
         false,
         "SAUDIARABIA",
         3.0,
         1.565624059545E12,
         "LUERroot",
         ">LUER>SAUDIARABIA",
         "SaudiArabia",
         ">LUER",
         "nan",
         12.0,
         "LUER",
         "2019-07-30T12:56:00.478+0000",
         "Luerssen",
         "8",
         "vt1",
         "2023-04-23T09:00:31.893+0000"
        ],
        [
         false,
         "BRUNEI",
         3.0,
         1.565624065632E12,
         "LUERroot",
         ">LUER>BRUNEI",
         "Brunei",
         ">LUER",
         "nan",
         13.0,
         "LUER",
         "2019-07-30T12:56:00.478+0000",
         "Luerssen",
         "8",
         "vt1",
         "2023-04-23T09:00:31.893+0000"
        ],
        [
         false,
         "GERMANY",
         3.0,
         1.565623788828E12,
         "LUERroot",
         ">LUER>GERMANY",
         "Germany",
         ">LUER",
         "nan",
         10.0,
         "LUER",
         "2019-07-30T12:56:00.478+0000",
         "Luerssen",
         "8",
         "vt1",
         "2023-04-23T09:00:31.893+0000"
        ],
        [
         false,
         "INDIANA",
         3.0,
         1.65106395835E12,
         "HONDAroot",
         ">HONDA>INDIANA",
         "Indiana",
         ">HONDA",
         "nan",
         74.0,
         "HONDA",
         "2022-04-26T20:27:37.287+0000",
         "HONDA",
         "73",
         "vt1",
         "2023-04-23T09:00:31.893+0000"
        ],
        [
         false,
         "MARYSVILLE",
         3.0,
         1.65106397124E12,
         "HONDAroot",
         ">HONDA>MARYSVILLE",
         "Marysville",
         ">HONDA",
         "nan",
         75.0,
         "HONDA",
         "2022-04-26T20:27:37.287+0000",
         "HONDA",
         "73",
         "vt1",
         "2023-04-23T09:00:31.893+0000"
        ],
        [
         false,
         "SAUDIARABIA",
         3.0,
         1.590422479021E12,
         "LUERSAroot",
         ">LUERSA>SAUDIARABIA",
         "SaudiArabia",
         ">LUERSA",
         "nan",
         47.0,
         "LUERSA",
         "2020-05-21T13:56:13.904+0000",
         "LuerssenSaudiArabia",
         "46",
         "vt1",
         "2023-04-23T09:00:31.893+0000"
        ],
        [
         false,
         "DEFAULTSTORE",
         3.0,
         1.577822362874E12,
         "sysconfig",
         ">MOJIX>DEFAULTSTORE",
         "Default Store",
         ">MOJIX",
         "nan",
         31.0,
         "MOJIX",
         "2019-12-31T19:59:22.874+0000",
         "MOJIX",
         "30",
         "vt1",
         "2023-04-23T09:00:31.893+0000"
        ],
        [
         false,
         "MENDEL",
         3.0,
         1.584629483206E12,
         "CTVAroot",
         ">CTVA>MENDEL",
         "Mendel",
         ">CTVA",
         "nan",
         45.0,
         "CTVA",
         "2020-03-10T18:05:38.350+0000",
         "Corteva Agriscience",
         "42",
         "vt1",
         "2023-04-23T09:00:31.893+0000"
        ],
        [
         false,
         "AUSTRIA",
         3.0,
         1.571757508733E12,
         "IKEAroot",
         ">IKEA>AUSTRIA",
         "Austria",
         ">IKEA",
         "nan",
         26.0,
         "IKEA",
         "2019-07-30T14:20:48.248+0000",
         "IKEA",
         "9",
         "vt1",
         "2023-04-23T09:00:31.893+0000"
        ],
        [
         false,
         "GERMANY",
         3.0,
         1.571757526796E12,
         "IKEAroot",
         ">IKEA>GERMANY",
         "Germany",
         ">IKEA",
         "nan",
         27.0,
         "IKEA",
         "2019-07-30T14:20:48.248+0000",
         "IKEA",
         "9",
         "vt1",
         "2023-04-23T09:00:31.893+0000"
        ],
        [
         false,
         "ATL",
         3.0,
         1.679407601585E12,
         "FEDEXroot",
         ">FEDEX>ATL",
         "Atlanta",
         ">FEDEX",
         "None",
         76.0,
         "FEDEX",
         "2021-09-24T14:38:09.290+0000",
         "FEDEX",
         "53",
         "vt1",
         "2023-04-24T09:00:32.742+0000"
        ],
        [
         false,
         "IND",
         3.0,
         1.632745925509E12,
         "FEDEXroot",
         ">FEDEX>IND",
         "Indianapolis",
         ">FEDEX",
         "",
         56.0,
         "FEDEX",
         "2021-09-24T14:38:09.290+0000",
         "FEDEX",
         "53",
         "vt1",
         "2023-04-24T09:00:32.742+0000"
        ],
        [
         false,
         "LAX",
         3.0,
         1.632745926279E12,
         "FEDEXroot",
         ">FEDEX>LAX",
         "Los Angeles",
         ">FEDEX",
         "",
         60.0,
         "FEDEX",
         "2021-09-24T14:38:09.290+0000",
         "FEDEX",
         "53",
         "vt1",
         "2023-04-24T09:00:32.742+0000"
        ],
        [
         false,
         "MEM",
         3.0,
         1.6327459271E12,
         "FEDEXroot",
         ">FEDEX>MEM",
         "Memphis",
         ">FEDEX",
         "",
         62.0,
         "FEDEX",
         "2021-09-24T14:38:09.290+0000",
         "FEDEX",
         "53",
         "vt1",
         "2023-04-24T09:00:32.742+0000"
        ],
        [
         false,
         "EWR",
         3.0,
         1.632745923922E12,
         "FEDEXroot",
         ">FEDEX>EWR",
         "Newark",
         ">FEDEX",
         "",
         54.0,
         "FEDEX",
         "2021-09-24T14:38:09.290+0000",
         "FEDEX",
         "53",
         "vt1",
         "2023-04-24T09:00:32.742+0000"
        ],
        [
         false,
         "OAK",
         3.0,
         1.632745927912E12,
         "FEDEXroot",
         ">FEDEX>OAK",
         "Oakland",
         ">FEDEX",
         "",
         67.0,
         "FEDEX",
         "2021-09-24T14:38:09.290+0000",
         "FEDEX",
         "53",
         "vt1",
         "2023-04-24T09:00:32.742+0000"
        ],
        [
         false,
         "SAUDIARABIA",
         3.0,
         1.565624059545E12,
         "LUERroot",
         ">LUER>SAUDIARABIA",
         "SaudiArabia",
         ">LUER",
         "nan",
         12.0,
         "LUER",
         "2019-07-30T12:56:00.478+0000",
         "Luerssen",
         "8",
         "vt1",
         "2023-04-24T09:00:32.742+0000"
        ],
        [
         false,
         "BRUNEI",
         3.0,
         1.565624065632E12,
         "LUERroot",
         ">LUER>BRUNEI",
         "Brunei",
         ">LUER",
         "nan",
         13.0,
         "LUER",
         "2019-07-30T12:56:00.478+0000",
         "Luerssen",
         "8",
         "vt1",
         "2023-04-24T09:00:32.742+0000"
        ],
        [
         false,
         "GERMANY",
         3.0,
         1.565623788828E12,
         "LUERroot",
         ">LUER>GERMANY",
         "Germany",
         ">LUER",
         "nan",
         10.0,
         "LUER",
         "2019-07-30T12:56:00.478+0000",
         "Luerssen",
         "8",
         "vt1",
         "2023-04-24T09:00:32.742+0000"
        ],
        [
         false,
         "MARYSVILLE",
         3.0,
         1.65106397124E12,
         "HONDAroot",
         ">HONDA>MARYSVILLE",
         "Marysville",
         ">HONDA",
         "nan",
         75.0,
         "HONDA",
         "2022-04-26T20:27:37.287+0000",
         "HONDA",
         "73",
         "vt1",
         "2023-04-24T09:00:32.742+0000"
        ],
        [
         false,
         "INDIANA",
         3.0,
         1.65106395835E12,
         "HONDAroot",
         ">HONDA>INDIANA",
         "Indiana",
         ">HONDA",
         "nan",
         74.0,
         "HONDA",
         "2022-04-26T20:27:37.287+0000",
         "HONDA",
         "73",
         "vt1",
         "2023-04-24T09:00:32.742+0000"
        ],
        [
         false,
         "SAUDIARABIA",
         3.0,
         1.590422479021E12,
         "LUERSAroot",
         ">LUERSA>SAUDIARABIA",
         "SaudiArabia",
         ">LUERSA",
         "nan",
         47.0,
         "LUERSA",
         "2020-05-21T13:56:13.904+0000",
         "LuerssenSaudiArabia",
         "46",
         "vt1",
         "2023-04-24T09:00:32.742+0000"
        ],
        [
         false,
         "DEFAULTSTORE",
         3.0,
         1.577822362874E12,
         "sysconfig",
         ">MOJIX>DEFAULTSTORE",
         "Default Store",
         ">MOJIX",
         "nan",
         31.0,
         "MOJIX",
         "2019-12-31T19:59:22.874+0000",
         "MOJIX",
         "30",
         "vt1",
         "2023-04-24T09:00:32.742+0000"
        ],
        [
         false,
         "MENDEL",
         3.0,
         1.584629483206E12,
         "CTVAroot",
         ">CTVA>MENDEL",
         "Mendel",
         ">CTVA",
         "nan",
         45.0,
         "CTVA",
         "2020-03-10T18:05:38.350+0000",
         "Corteva Agriscience",
         "42",
         "vt1",
         "2023-04-24T09:00:32.742+0000"
        ],
        [
         false,
         "AUSTRIA",
         3.0,
         1.571757508733E12,
         "IKEAroot",
         ">IKEA>AUSTRIA",
         "Austria",
         ">IKEA",
         "nan",
         26.0,
         "IKEA",
         "2019-07-30T14:20:48.248+0000",
         "IKEA",
         "9",
         "vt1",
         "2023-04-24T09:00:32.742+0000"
        ],
        [
         false,
         "GERMANY",
         3.0,
         1.571757526796E12,
         "IKEAroot",
         ">IKEA>GERMANY",
         "Germany",
         ">IKEA",
         "nan",
         27.0,
         "IKEA",
         "2019-07-30T14:20:48.248+0000",
         "IKEA",
         "9",
         "vt1",
         "2023-04-24T09:00:32.742+0000"
        ],
        [
         false,
         "ATL",
         3.0,
         1.679407601585E12,
         "FEDEXroot",
         ">FEDEX>ATL",
         "Atlanta",
         ">FEDEX",
         "None",
         76.0,
         "FEDEX",
         "2021-09-24T14:38:09.290+0000",
         "FEDEX",
         "53",
         "vt1",
         "2023-04-25T09:00:33.644+0000"
        ],
        [
         false,
         "IND",
         3.0,
         1.632745925509E12,
         "FEDEXroot",
         ">FEDEX>IND",
         "Indianapolis",
         ">FEDEX",
         "",
         56.0,
         "FEDEX",
         "2021-09-24T14:38:09.290+0000",
         "FEDEX",
         "53",
         "vt1",
         "2023-04-25T09:00:33.644+0000"
        ],
        [
         false,
         "LAX",
         3.0,
         1.632745926279E12,
         "FEDEXroot",
         ">FEDEX>LAX",
         "Los Angeles",
         ">FEDEX",
         "",
         60.0,
         "FEDEX",
         "2021-09-24T14:38:09.290+0000",
         "FEDEX",
         "53",
         "vt1",
         "2023-04-25T09:00:33.644+0000"
        ],
        [
         false,
         "MEM",
         3.0,
         1.6327459271E12,
         "FEDEXroot",
         ">FEDEX>MEM",
         "Memphis",
         ">FEDEX",
         "",
         62.0,
         "FEDEX",
         "2021-09-24T14:38:09.290+0000",
         "FEDEX",
         "53",
         "vt1",
         "2023-04-25T09:00:33.644+0000"
        ],
        [
         false,
         "EWR",
         3.0,
         1.632745923922E12,
         "FEDEXroot",
         ">FEDEX>EWR",
         "Newark",
         ">FEDEX",
         "",
         54.0,
         "FEDEX",
         "2021-09-24T14:38:09.290+0000",
         "FEDEX",
         "53",
         "vt1",
         "2023-04-25T09:00:33.644+0000"
        ],
        [
         false,
         "OAK",
         3.0,
         1.632745927912E12,
         "FEDEXroot",
         ">FEDEX>OAK",
         "Oakland",
         ">FEDEX",
         "",
         67.0,
         "FEDEX",
         "2021-09-24T14:38:09.290+0000",
         "FEDEX",
         "53",
         "vt1",
         "2023-04-25T09:00:33.644+0000"
        ],
        [
         false,
         "SAUDIARABIA",
         3.0,
         1.565624059545E12,
         "LUERroot",
         ">LUER>SAUDIARABIA",
         "SaudiArabia",
         ">LUER",
         "nan",
         12.0,
         "LUER",
         "2019-07-30T12:56:00.478+0000",
         "Luerssen",
         "8",
         "vt1",
         "2023-04-25T09:00:33.644+0000"
        ],
        [
         false,
         "BRUNEI",
         3.0,
         1.565624065632E12,
         "LUERroot",
         ">LUER>BRUNEI",
         "Brunei",
         ">LUER",
         "nan",
         13.0,
         "LUER",
         "2019-07-30T12:56:00.478+0000",
         "Luerssen",
         "8",
         "vt1",
         "2023-04-25T09:00:33.644+0000"
        ],
        [
         false,
         "GERMANY",
         3.0,
         1.565623788828E12,
         "LUERroot",
         ">LUER>GERMANY",
         "Germany",
         ">LUER",
         "nan",
         10.0,
         "LUER",
         "2019-07-30T12:56:00.478+0000",
         "Luerssen",
         "8",
         "vt1",
         "2023-04-25T09:00:33.644+0000"
        ],
        [
         false,
         "MARYSVILLE",
         3.0,
         1.65106397124E12,
         "HONDAroot",
         ">HONDA>MARYSVILLE",
         "Marysville",
         ">HONDA",
         "nan",
         75.0,
         "HONDA",
         "2022-04-26T20:27:37.287+0000",
         "HONDA",
         "73",
         "vt1",
         "2023-04-25T09:00:33.644+0000"
        ],
        [
         false,
         "INDIANA",
         3.0,
         1.65106395835E12,
         "HONDAroot",
         ">HONDA>INDIANA",
         "Indiana",
         ">HONDA",
         "nan",
         74.0,
         "HONDA",
         "2022-04-26T20:27:37.287+0000",
         "HONDA",
         "73",
         "vt1",
         "2023-04-25T09:00:33.644+0000"
        ],
        [
         false,
         "SAUDIARABIA",
         3.0,
         1.590422479021E12,
         "LUERSAroot",
         ">LUERSA>SAUDIARABIA",
         "SaudiArabia",
         ">LUERSA",
         "nan",
         47.0,
         "LUERSA",
         "2020-05-21T13:56:13.904+0000",
         "LuerssenSaudiArabia",
         "46",
         "vt1",
         "2023-04-25T09:00:33.644+0000"
        ],
        [
         false,
         "DEFAULTSTORE",
         3.0,
         1.577822362874E12,
         "sysconfig",
         ">MOJIX>DEFAULTSTORE",
         "Default Store",
         ">MOJIX",
         "nan",
         31.0,
         "MOJIX",
         "2019-12-31T19:59:22.874+0000",
         "MOJIX",
         "30",
         "vt1",
         "2023-04-25T09:00:33.644+0000"
        ],
        [
         false,
         "MENDEL",
         3.0,
         1.584629483206E12,
         "CTVAroot",
         ">CTVA>MENDEL",
         "Mendel",
         ">CTVA",
         "nan",
         45.0,
         "CTVA",
         "2020-03-10T18:05:38.350+0000",
         "Corteva Agriscience",
         "42",
         "vt1",
         "2023-04-25T09:00:33.644+0000"
        ],
        [
         false,
         "AUSTRIA",
         3.0,
         1.571757508733E12,
         "IKEAroot",
         ">IKEA>AUSTRIA",
         "Austria",
         ">IKEA",
         "nan",
         26.0,
         "IKEA",
         "2019-07-30T14:20:48.248+0000",
         "IKEA",
         "9",
         "vt1",
         "2023-04-25T09:00:33.644+0000"
        ],
        [
         false,
         "GERMANY",
         3.0,
         1.571757526796E12,
         "IKEAroot",
         ">IKEA>GERMANY",
         "Germany",
         ">IKEA",
         "nan",
         27.0,
         "IKEA",
         "2019-07-30T14:20:48.248+0000",
         "IKEA",
         "9",
         "vt1",
         "2023-04-25T09:00:33.644+0000"
        ],
        [
         false,
         "ATL",
         3.0,
         1.679407601585E12,
         "FEDEXroot",
         ">FEDEX>ATL",
         "Atlanta",
         ">FEDEX",
         "None",
         76.0,
         "FEDEX",
         "2021-09-24T14:38:09.290+0000",
         "FEDEX",
         "53",
         "vt1",
         "2023-04-26T09:00:30.110+0000"
        ],
        [
         false,
         "IND",
         3.0,
         1.632745925509E12,
         "FEDEXroot",
         ">FEDEX>IND",
         "Indianapolis",
         ">FEDEX",
         "",
         56.0,
         "FEDEX",
         "2021-09-24T14:38:09.290+0000",
         "FEDEX",
         "53",
         "vt1",
         "2023-04-26T09:00:30.110+0000"
        ],
        [
         false,
         "LAX",
         3.0,
         1.632745926279E12,
         "FEDEXroot",
         ">FEDEX>LAX",
         "Los Angeles",
         ">FEDEX",
         "",
         60.0,
         "FEDEX",
         "2021-09-24T14:38:09.290+0000",
         "FEDEX",
         "53",
         "vt1",
         "2023-04-26T09:00:30.110+0000"
        ],
        [
         false,
         "MEM",
         3.0,
         1.6327459271E12,
         "FEDEXroot",
         ">FEDEX>MEM",
         "Memphis",
         ">FEDEX",
         "",
         62.0,
         "FEDEX",
         "2021-09-24T14:38:09.290+0000",
         "FEDEX",
         "53",
         "vt1",
         "2023-04-26T09:00:30.110+0000"
        ],
        [
         false,
         "EWR",
         3.0,
         1.632745923922E12,
         "FEDEXroot",
         ">FEDEX>EWR",
         "Newark",
         ">FEDEX",
         "",
         54.0,
         "FEDEX",
         "2021-09-24T14:38:09.290+0000",
         "FEDEX",
         "53",
         "vt1",
         "2023-04-26T09:00:30.110+0000"
        ],
        [
         false,
         "OAK",
         3.0,
         1.632745927912E12,
         "FEDEXroot",
         ">FEDEX>OAK",
         "Oakland",
         ">FEDEX",
         "",
         67.0,
         "FEDEX",
         "2021-09-24T14:38:09.290+0000",
         "FEDEX",
         "53",
         "vt1",
         "2023-04-26T09:00:30.110+0000"
        ],
        [
         false,
         "SAUDIARABIA",
         3.0,
         1.565624059545E12,
         "LUERroot",
         ">LUER>SAUDIARABIA",
         "SaudiArabia",
         ">LUER",
         "nan",
         12.0,
         "LUER",
         "2019-07-30T12:56:00.478+0000",
         "Luerssen",
         "8",
         "vt1",
         "2023-04-26T09:00:30.110+0000"
        ],
        [
         false,
         "BRUNEI",
         3.0,
         1.565624065632E12,
         "LUERroot",
         ">LUER>BRUNEI",
         "Brunei",
         ">LUER",
         "nan",
         13.0,
         "LUER",
         "2019-07-30T12:56:00.478+0000",
         "Luerssen",
         "8",
         "vt1",
         "2023-04-26T09:00:30.110+0000"
        ],
        [
         false,
         "GERMANY",
         3.0,
         1.565623788828E12,
         "LUERroot",
         ">LUER>GERMANY",
         "Germany",
         ">LUER",
         "nan",
         10.0,
         "LUER",
         "2019-07-30T12:56:00.478+0000",
         "Luerssen",
         "8",
         "vt1",
         "2023-04-26T09:00:30.110+0000"
        ],
        [
         false,
         "INDIANA",
         3.0,
         1.65106395835E12,
         "HONDAroot",
         ">HONDA>INDIANA",
         "Indiana",
         ">HONDA",
         "nan",
         74.0,
         "HONDA",
         "2022-04-26T20:27:37.287+0000",
         "HONDA",
         "73",
         "vt1",
         "2023-04-26T09:00:30.110+0000"
        ],
        [
         false,
         "MARYSVILLE",
         3.0,
         1.65106397124E12,
         "HONDAroot",
         ">HONDA>MARYSVILLE",
         "Marysville",
         ">HONDA",
         "nan",
         75.0,
         "HONDA",
         "2022-04-26T20:27:37.287+0000",
         "HONDA",
         "73",
         "vt1",
         "2023-04-26T09:00:30.110+0000"
        ],
        [
         false,
         "SAUDIARABIA",
         3.0,
         1.590422479021E12,
         "LUERSAroot",
         ">LUERSA>SAUDIARABIA",
         "SaudiArabia",
         ">LUERSA",
         "nan",
         47.0,
         "LUERSA",
         "2020-05-21T13:56:13.904+0000",
         "LuerssenSaudiArabia",
         "46",
         "vt1",
         "2023-04-26T09:00:30.110+0000"
        ],
        [
         false,
         "DEFAULTSTORE",
         3.0,
         1.577822362874E12,
         "sysconfig",
         ">MOJIX>DEFAULTSTORE",
         "Default Store",
         ">MOJIX",
         "nan",
         31.0,
         "MOJIX",
         "2019-12-31T19:59:22.874+0000",
         "MOJIX",
         "30",
         "vt1",
         "2023-04-26T09:00:30.110+0000"
        ],
        [
         false,
         "MENDEL",
         3.0,
         1.584629483206E12,
         "CTVAroot",
         ">CTVA>MENDEL",
         "Mendel",
         ">CTVA",
         "nan",
         45.0,
         "CTVA",
         "2020-03-10T18:05:38.350+0000",
         "Corteva Agriscience",
         "42",
         "vt1",
         "2023-04-26T09:00:30.110+0000"
        ],
        [
         false,
         "AUSTRIA",
         3.0,
         1.571757508733E12,
         "IKEAroot",
         ">IKEA>AUSTRIA",
         "Austria",
         ">IKEA",
         "nan",
         26.0,
         "IKEA",
         "2019-07-30T14:20:48.248+0000",
         "IKEA",
         "9",
         "vt1",
         "2023-04-26T09:00:30.110+0000"
        ],
        [
         false,
         "GERMANY",
         3.0,
         1.571757526796E12,
         "IKEAroot",
         ">IKEA>GERMANY",
         "Germany",
         ">IKEA",
         "nan",
         27.0,
         "IKEA",
         "2019-07-30T14:20:48.248+0000",
         "IKEA",
         "9",
         "vt1",
         "2023-04-26T09:00:30.110+0000"
        ],
        [
         false,
         "ATL",
         3.0,
         1.679407601585E12,
         "FEDEXroot",
         ">FEDEX>ATL",
         "Atlanta",
         ">FEDEX",
         "None",
         76.0,
         "FEDEX",
         "2021-09-24T14:38:09.290+0000",
         "FEDEX",
         "53",
         "vt1",
         "2023-04-27T09:00:31.519+0000"
        ],
        [
         false,
         "IND",
         3.0,
         1.632745925509E12,
         "FEDEXroot",
         ">FEDEX>IND",
         "Indianapolis",
         ">FEDEX",
         "",
         56.0,
         "FEDEX",
         "2021-09-24T14:38:09.290+0000",
         "FEDEX",
         "53",
         "vt1",
         "2023-04-27T09:00:31.519+0000"
        ],
        [
         false,
         "LAX",
         3.0,
         1.632745926279E12,
         "FEDEXroot",
         ">FEDEX>LAX",
         "Los Angeles",
         ">FEDEX",
         "",
         60.0,
         "FEDEX",
         "2021-09-24T14:38:09.290+0000",
         "FEDEX",
         "53",
         "vt1",
         "2023-04-27T09:00:31.519+0000"
        ],
        [
         false,
         "MEM",
         3.0,
         1.6327459271E12,
         "FEDEXroot",
         ">FEDEX>MEM",
         "Memphis",
         ">FEDEX",
         "",
         62.0,
         "FEDEX",
         "2021-09-24T14:38:09.290+0000",
         "FEDEX",
         "53",
         "vt1",
         "2023-04-27T09:00:31.519+0000"
        ],
        [
         false,
         "EWR",
         3.0,
         1.632745923922E12,
         "FEDEXroot",
         ">FEDEX>EWR",
         "Newark",
         ">FEDEX",
         "",
         54.0,
         "FEDEX",
         "2021-09-24T14:38:09.290+0000",
         "FEDEX",
         "53",
         "vt1",
         "2023-04-27T09:00:31.519+0000"
        ],
        [
         false,
         "OAK",
         3.0,
         1.632745927912E12,
         "FEDEXroot",
         ">FEDEX>OAK",
         "Oakland",
         ">FEDEX",
         "",
         67.0,
         "FEDEX",
         "2021-09-24T14:38:09.290+0000",
         "FEDEX",
         "53",
         "vt1",
         "2023-04-27T09:00:31.519+0000"
        ],
        [
         false,
         "TX",
         3.0,
         1.682544767293E12,
         "FEDEXroot",
         ">FEDEX>TX",
         "Texas",
         ">FEDEX",
         "None",
         78.0,
         "FEDEX",
         "2021-09-24T14:38:09.290+0000",
         "FEDEX",
         "53",
         "vt1",
         "2023-04-27T09:00:31.519+0000"
        ],
        [
         false,
         "SAUDIARABIA",
         3.0,
         1.565624059545E12,
         "LUERroot",
         ">LUER>SAUDIARABIA",
         "SaudiArabia",
         ">LUER",
         "nan",
         12.0,
         "LUER",
         "2019-07-30T12:56:00.478+0000",
         "Luerssen",
         "8",
         "vt1",
         "2023-04-27T09:00:31.519+0000"
        ],
        [
         false,
         "BRUNEI",
         3.0,
         1.565624065632E12,
         "LUERroot",
         ">LUER>BRUNEI",
         "Brunei",
         ">LUER",
         "nan",
         13.0,
         "LUER",
         "2019-07-30T12:56:00.478+0000",
         "Luerssen",
         "8",
         "vt1",
         "2023-04-27T09:00:31.519+0000"
        ],
        [
         false,
         "GERMANY",
         3.0,
         1.565623788828E12,
         "LUERroot",
         ">LUER>GERMANY",
         "Germany",
         ">LUER",
         "nan",
         10.0,
         "LUER",
         "2019-07-30T12:56:00.478+0000",
         "Luerssen",
         "8",
         "vt1",
         "2023-04-27T09:00:31.519+0000"
        ],
        [
         false,
         "MARYSVILLE",
         3.0,
         1.65106397124E12,
         "HONDAroot",
         ">HONDA>MARYSVILLE",
         "Marysville",
         ">HONDA",
         "nan",
         75.0,
         "HONDA",
         "2022-04-26T20:27:37.287+0000",
         "HONDA",
         "73",
         "vt1",
         "2023-04-27T09:00:31.519+0000"
        ],
        [
         false,
         "INDIANA",
         3.0,
         1.65106395835E12,
         "HONDAroot",
         ">HONDA>INDIANA",
         "Indiana",
         ">HONDA",
         "nan",
         74.0,
         "HONDA",
         "2022-04-26T20:27:37.287+0000",
         "HONDA",
         "73",
         "vt1",
         "2023-04-27T09:00:31.519+0000"
        ],
        [
         false,
         "SAUDIARABIA",
         3.0,
         1.590422479021E12,
         "LUERSAroot",
         ">LUERSA>SAUDIARABIA",
         "SaudiArabia",
         ">LUERSA",
         "nan",
         47.0,
         "LUERSA",
         "2020-05-21T13:56:13.904+0000",
         "LuerssenSaudiArabia",
         "46",
         "vt1",
         "2023-04-27T09:00:31.519+0000"
        ],
        [
         false,
         "DEFAULTSTORE",
         3.0,
         1.577822362874E12,
         "sysconfig",
         ">MOJIX>DEFAULTSTORE",
         "Default Store",
         ">MOJIX",
         "nan",
         31.0,
         "MOJIX",
         "2019-12-31T19:59:22.874+0000",
         "MOJIX",
         "30",
         "vt1",
         "2023-04-27T09:00:31.519+0000"
        ],
        [
         false,
         "MENDEL",
         3.0,
         1.584629483206E12,
         "CTVAroot",
         ">CTVA>MENDEL",
         "Mendel",
         ">CTVA",
         "nan",
         45.0,
         "CTVA",
         "2020-03-10T18:05:38.350+0000",
         "Corteva Agriscience",
         "42",
         "vt1",
         "2023-04-27T09:00:31.519+0000"
        ],
        [
         false,
         "AUSTRIA",
         3.0,
         1.571757508733E12,
         "IKEAroot",
         ">IKEA>AUSTRIA",
         "Austria",
         ">IKEA",
         "nan",
         26.0,
         "IKEA",
         "2019-07-30T14:20:48.248+0000",
         "IKEA",
         "9",
         "vt1",
         "2023-04-27T09:00:31.519+0000"
        ],
        [
         false,
         "GERMANY",
         3.0,
         1.571757526796E12,
         "IKEAroot",
         ">IKEA>GERMANY",
         "Germany",
         ">IKEA",
         "nan",
         27.0,
         "IKEA",
         "2019-07-30T14:20:48.248+0000",
         "IKEA",
         "9",
         "vt1",
         "2023-04-27T09:00:31.519+0000"
        ],
        [
         false,
         "MEM",
         3.0,
         1.6327459271E12,
         "FEDEXroot",
         ">FEDEX>MEM",
         "Memphis",
         ">FEDEX",
         "",
         62.0,
         "FEDEX",
         "2021-09-24T14:38:09.290+0000",
         "FEDEX",
         "53",
         "vt1",
         "2023-04-28T09:00:29.917+0000"
        ],
        [
         false,
         "EWR",
         3.0,
         1.632745923922E12,
         "FEDEXroot",
         ">FEDEX>EWR",
         "Newark",
         ">FEDEX",
         "",
         54.0,
         "FEDEX",
         "2021-09-24T14:38:09.290+0000",
         "FEDEX",
         "53",
         "vt1",
         "2023-04-28T09:00:29.917+0000"
        ],
        [
         false,
         "OAK",
         3.0,
         1.632745927912E12,
         "FEDEXroot",
         ">FEDEX>OAK",
         "Oakland",
         ">FEDEX",
         "",
         67.0,
         "FEDEX",
         "2021-09-24T14:38:09.290+0000",
         "FEDEX",
         "53",
         "vt1",
         "2023-04-28T09:00:29.917+0000"
        ],
        [
         false,
         "TX",
         3.0,
         1.682544767293E12,
         "FEDEXroot",
         ">FEDEX>TX",
         "Texas",
         ">FEDEX",
         "None",
         78.0,
         "FEDEX",
         "2021-09-24T14:38:09.290+0000",
         "FEDEX",
         "53",
         "vt1",
         "2023-04-28T09:00:29.917+0000"
        ],
        [
         false,
         "ATL",
         3.0,
         1.679407601585E12,
         "FEDEXroot",
         ">FEDEX>ATL",
         "Atlanta",
         ">FEDEX",
         "None",
         76.0,
         "FEDEX",
         "2021-09-24T14:38:09.290+0000",
         "FEDEX",
         "53",
         "vt1",
         "2023-04-28T09:00:29.917+0000"
        ],
        [
         false,
         "IND",
         3.0,
         1.632745925509E12,
         "FEDEXroot",
         ">FEDEX>IND",
         "Indianapolis",
         ">FEDEX",
         "",
         56.0,
         "FEDEX",
         "2021-09-24T14:38:09.290+0000",
         "FEDEX",
         "53",
         "vt1",
         "2023-04-28T09:00:29.917+0000"
        ],
        [
         false,
         "LAX",
         3.0,
         1.632745926279E12,
         "FEDEXroot",
         ">FEDEX>LAX",
         "Los Angeles",
         ">FEDEX",
         "",
         60.0,
         "FEDEX",
         "2021-09-24T14:38:09.290+0000",
         "FEDEX",
         "53",
         "vt1",
         "2023-04-28T09:00:29.917+0000"
        ],
        [
         false,
         "SAUDIARABIA",
         3.0,
         1.565624059545E12,
         "LUERroot",
         ">LUER>SAUDIARABIA",
         "SaudiArabia",
         ">LUER",
         "nan",
         12.0,
         "LUER",
         "2019-07-30T12:56:00.478+0000",
         "Luerssen",
         "8",
         "vt1",
         "2023-04-28T09:00:29.917+0000"
        ],
        [
         false,
         "BRUNEI",
         3.0,
         1.565624065632E12,
         "LUERroot",
         ">LUER>BRUNEI",
         "Brunei",
         ">LUER",
         "nan",
         13.0,
         "LUER",
         "2019-07-30T12:56:00.478+0000",
         "Luerssen",
         "8",
         "vt1",
         "2023-04-28T09:00:29.917+0000"
        ],
        [
         false,
         "GERMANY",
         3.0,
         1.565623788828E12,
         "LUERroot",
         ">LUER>GERMANY",
         "Germany",
         ">LUER",
         "nan",
         10.0,
         "LUER",
         "2019-07-30T12:56:00.478+0000",
         "Luerssen",
         "8",
         "vt1",
         "2023-04-28T09:00:29.917+0000"
        ],
        [
         false,
         "INDIANA",
         3.0,
         1.65106395835E12,
         "HONDAroot",
         ">HONDA>INDIANA",
         "Indiana",
         ">HONDA",
         "nan",
         74.0,
         "HONDA",
         "2022-04-26T20:27:37.287+0000",
         "HONDA",
         "73",
         "vt1",
         "2023-04-28T09:00:29.917+0000"
        ],
        [
         false,
         "MARYSVILLE",
         3.0,
         1.65106397124E12,
         "HONDAroot",
         ">HONDA>MARYSVILLE",
         "Marysville",
         ">HONDA",
         "nan",
         75.0,
         "HONDA",
         "2022-04-26T20:27:37.287+0000",
         "HONDA",
         "73",
         "vt1",
         "2023-04-28T09:00:29.917+0000"
        ],
        [
         false,
         "SAUDIARABIA",
         3.0,
         1.590422479021E12,
         "LUERSAroot",
         ">LUERSA>SAUDIARABIA",
         "SaudiArabia",
         ">LUERSA",
         "nan",
         47.0,
         "LUERSA",
         "2020-05-21T13:56:13.904+0000",
         "LuerssenSaudiArabia",
         "46",
         "vt1",
         "2023-04-28T09:00:29.917+0000"
        ],
        [
         false,
         "DEFAULTSTORE",
         3.0,
         1.577822362874E12,
         "sysconfig",
         ">MOJIX>DEFAULTSTORE",
         "Default Store",
         ">MOJIX",
         "nan",
         31.0,
         "MOJIX",
         "2019-12-31T19:59:22.874+0000",
         "MOJIX",
         "30",
         "vt1",
         "2023-04-28T09:00:29.917+0000"
        ],
        [
         false,
         "MENDEL",
         3.0,
         1.584629483206E12,
         "CTVAroot",
         ">CTVA>MENDEL",
         "Mendel",
         ">CTVA",
         "nan",
         45.0,
         "CTVA",
         "2020-03-10T18:05:38.350+0000",
         "Corteva Agriscience",
         "42",
         "vt1",
         "2023-04-28T09:00:29.917+0000"
        ],
        [
         false,
         "AUSTRIA",
         3.0,
         1.571757508733E12,
         "IKEAroot",
         ">IKEA>AUSTRIA",
         "Austria",
         ">IKEA",
         "nan",
         26.0,
         "IKEA",
         "2019-07-30T14:20:48.248+0000",
         "IKEA",
         "9",
         "vt1",
         "2023-04-28T09:00:29.917+0000"
        ],
        [
         false,
         "GERMANY",
         3.0,
         1.571757526796E12,
         "IKEAroot",
         ">IKEA>GERMANY",
         "Germany",
         ">IKEA",
         "nan",
         27.0,
         "IKEA",
         "2019-07-30T14:20:48.248+0000",
         "IKEA",
         "9",
         "vt1",
         "2023-04-28T09:00:29.917+0000"
        ],
        [
         false,
         "MEM",
         3.0,
         1.6327459271E12,
         "FEDEXroot",
         ">FEDEX>MEM",
         "Memphis",
         ">FEDEX",
         "",
         62.0,
         "FEDEX",
         "2021-09-24T14:38:09.290+0000",
         "FEDEX",
         "53",
         "vt1",
         "2023-04-29T09:00:30.372+0000"
        ],
        [
         false,
         "EWR",
         3.0,
         1.632745923922E12,
         "FEDEXroot",
         ">FEDEX>EWR",
         "Newark",
         ">FEDEX",
         "",
         54.0,
         "FEDEX",
         "2021-09-24T14:38:09.290+0000",
         "FEDEX",
         "53",
         "vt1",
         "2023-04-29T09:00:30.372+0000"
        ],
        [
         false,
         "OAK",
         3.0,
         1.632745927912E12,
         "FEDEXroot",
         ">FEDEX>OAK",
         "Oakland",
         ">FEDEX",
         "",
         67.0,
         "FEDEX",
         "2021-09-24T14:38:09.290+0000",
         "FEDEX",
         "53",
         "vt1",
         "2023-04-29T09:00:30.372+0000"
        ],
        [
         false,
         "TX",
         3.0,
         1.682544767293E12,
         "FEDEXroot",
         ">FEDEX>TX",
         "Texas",
         ">FEDEX",
         "None",
         78.0,
         "FEDEX",
         "2021-09-24T14:38:09.290+0000",
         "FEDEX",
         "53",
         "vt1",
         "2023-04-29T09:00:30.372+0000"
        ],
        [
         false,
         "ATL",
         3.0,
         1.679407601585E12,
         "FEDEXroot",
         ">FEDEX>ATL",
         "Atlanta",
         ">FEDEX",
         "None",
         76.0,
         "FEDEX",
         "2021-09-24T14:38:09.290+0000",
         "FEDEX",
         "53",
         "vt1",
         "2023-04-29T09:00:30.372+0000"
        ],
        [
         false,
         "IND",
         3.0,
         1.632745925509E12,
         "FEDEXroot",
         ">FEDEX>IND",
         "Indianapolis",
         ">FEDEX",
         "",
         56.0,
         "FEDEX",
         "2021-09-24T14:38:09.290+0000",
         "FEDEX",
         "53",
         "vt1",
         "2023-04-29T09:00:30.372+0000"
        ],
        [
         false,
         "LAX",
         3.0,
         1.632745926279E12,
         "FEDEXroot",
         ">FEDEX>LAX",
         "Los Angeles",
         ">FEDEX",
         "",
         60.0,
         "FEDEX",
         "2021-09-24T14:38:09.290+0000",
         "FEDEX",
         "53",
         "vt1",
         "2023-04-29T09:00:30.372+0000"
        ],
        [
         false,
         "SAUDIARABIA",
         3.0,
         1.565624059545E12,
         "LUERroot",
         ">LUER>SAUDIARABIA",
         "SaudiArabia",
         ">LUER",
         "nan",
         12.0,
         "LUER",
         "2019-07-30T12:56:00.478+0000",
         "Luerssen",
         "8",
         "vt1",
         "2023-04-29T09:00:30.372+0000"
        ],
        [
         false,
         "BRUNEI",
         3.0,
         1.565624065632E12,
         "LUERroot",
         ">LUER>BRUNEI",
         "Brunei",
         ">LUER",
         "nan",
         13.0,
         "LUER",
         "2019-07-30T12:56:00.478+0000",
         "Luerssen",
         "8",
         "vt1",
         "2023-04-29T09:00:30.372+0000"
        ],
        [
         false,
         "GERMANY",
         3.0,
         1.565623788828E12,
         "LUERroot",
         ">LUER>GERMANY",
         "Germany",
         ">LUER",
         "nan",
         10.0,
         "LUER",
         "2019-07-30T12:56:00.478+0000",
         "Luerssen",
         "8",
         "vt1",
         "2023-04-29T09:00:30.372+0000"
        ],
        [
         false,
         "INDIANA",
         3.0,
         1.65106395835E12,
         "HONDAroot",
         ">HONDA>INDIANA",
         "Indiana",
         ">HONDA",
         "nan",
         74.0,
         "HONDA",
         "2022-04-26T20:27:37.287+0000",
         "HONDA",
         "73",
         "vt1",
         "2023-04-29T09:00:30.372+0000"
        ],
        [
         false,
         "MARYSVILLE",
         3.0,
         1.65106397124E12,
         "HONDAroot",
         ">HONDA>MARYSVILLE",
         "Marysville",
         ">HONDA",
         "nan",
         75.0,
         "HONDA",
         "2022-04-26T20:27:37.287+0000",
         "HONDA",
         "73",
         "vt1",
         "2023-04-29T09:00:30.372+0000"
        ],
        [
         false,
         "SAUDIARABIA",
         3.0,
         1.590422479021E12,
         "LUERSAroot",
         ">LUERSA>SAUDIARABIA",
         "SaudiArabia",
         ">LUERSA",
         "nan",
         47.0,
         "LUERSA",
         "2020-05-21T13:56:13.904+0000",
         "LuerssenSaudiArabia",
         "46",
         "vt1",
         "2023-04-29T09:00:30.372+0000"
        ],
        [
         false,
         "DEFAULTSTORE",
         3.0,
         1.577822362874E12,
         "sysconfig",
         ">MOJIX>DEFAULTSTORE",
         "Default Store",
         ">MOJIX",
         "nan",
         31.0,
         "MOJIX",
         "2019-12-31T19:59:22.874+0000",
         "MOJIX",
         "30",
         "vt1",
         "2023-04-29T09:00:30.372+0000"
        ],
        [
         false,
         "MENDEL",
         3.0,
         1.584629483206E12,
         "CTVAroot",
         ">CTVA>MENDEL",
         "Mendel",
         ">CTVA",
         "nan",
         45.0,
         "CTVA",
         "2020-03-10T18:05:38.350+0000",
         "Corteva Agriscience",
         "42",
         "vt1",
         "2023-04-29T09:00:30.372+0000"
        ],
        [
         false,
         "AUSTRIA",
         3.0,
         1.571757508733E12,
         "IKEAroot",
         ">IKEA>AUSTRIA",
         "Austria",
         ">IKEA",
         "nan",
         26.0,
         "IKEA",
         "2019-07-30T14:20:48.248+0000",
         "IKEA",
         "9",
         "vt1",
         "2023-04-29T09:00:30.372+0000"
        ],
        [
         false,
         "GERMANY",
         3.0,
         1.571757526796E12,
         "IKEAroot",
         ">IKEA>GERMANY",
         "Germany",
         ">IKEA",
         "nan",
         27.0,
         "IKEA",
         "2019-07-30T14:20:48.248+0000",
         "IKEA",
         "9",
         "vt1",
         "2023-04-29T09:00:30.372+0000"
        ],
        [
         false,
         "MEM",
         3.0,
         1.6327459271E12,
         "FEDEXroot",
         ">FEDEX>MEM",
         "Memphis",
         ">FEDEX",
         "",
         62.0,
         "FEDEX",
         "2021-09-24T14:38:09.290+0000",
         "FEDEX",
         "53",
         "vt1",
         "2023-04-16T09:00:28.581+0000"
        ],
        [
         false,
         "EWR",
         3.0,
         1.632745923922E12,
         "FEDEXroot",
         ">FEDEX>EWR",
         "Newark",
         ">FEDEX",
         "",
         54.0,
         "FEDEX",
         "2021-09-24T14:38:09.290+0000",
         "FEDEX",
         "53",
         "vt1",
         "2023-04-16T09:00:28.581+0000"
        ],
        [
         false,
         "OAK",
         3.0,
         1.632745927912E12,
         "FEDEXroot",
         ">FEDEX>OAK",
         "Oakland",
         ">FEDEX",
         "",
         67.0,
         "FEDEX",
         "2021-09-24T14:38:09.290+0000",
         "FEDEX",
         "53",
         "vt1",
         "2023-04-16T09:00:28.581+0000"
        ],
        [
         false,
         "ATL",
         3.0,
         1.679407601585E12,
         "FEDEXroot",
         ">FEDEX>ATL",
         "Atlanta",
         ">FEDEX",
         "None",
         76.0,
         "FEDEX",
         "2021-09-24T14:38:09.290+0000",
         "FEDEX",
         "53",
         "vt1",
         "2023-04-16T09:00:28.581+0000"
        ],
        [
         false,
         "IND",
         3.0,
         1.632745925509E12,
         "FEDEXroot",
         ">FEDEX>IND",
         "Indianapolis",
         ">FEDEX",
         "",
         56.0,
         "FEDEX",
         "2021-09-24T14:38:09.290+0000",
         "FEDEX",
         "53",
         "vt1",
         "2023-04-16T09:00:28.581+0000"
        ],
        [
         false,
         "LAX",
         3.0,
         1.632745926279E12,
         "FEDEXroot",
         ">FEDEX>LAX",
         "Los Angeles",
         ">FEDEX",
         "",
         60.0,
         "FEDEX",
         "2021-09-24T14:38:09.290+0000",
         "FEDEX",
         "53",
         "vt1",
         "2023-04-16T09:00:28.581+0000"
        ],
        [
         false,
         "SAUDIARABIA",
         3.0,
         1.565624059545E12,
         "LUERroot",
         ">LUER>SAUDIARABIA",
         "SaudiArabia",
         ">LUER",
         "nan",
         12.0,
         "LUER",
         "2019-07-30T12:56:00.478+0000",
         "Luerssen",
         "8",
         "vt1",
         "2023-04-16T09:00:28.581+0000"
        ],
        [
         false,
         "BRUNEI",
         3.0,
         1.565624065632E12,
         "LUERroot",
         ">LUER>BRUNEI",
         "Brunei",
         ">LUER",
         "nan",
         13.0,
         "LUER",
         "2019-07-30T12:56:00.478+0000",
         "Luerssen",
         "8",
         "vt1",
         "2023-04-16T09:00:28.581+0000"
        ],
        [
         false,
         "GERMANY",
         3.0,
         1.565623788828E12,
         "LUERroot",
         ">LUER>GERMANY",
         "Germany",
         ">LUER",
         "nan",
         10.0,
         "LUER",
         "2019-07-30T12:56:00.478+0000",
         "Luerssen",
         "8",
         "vt1",
         "2023-04-16T09:00:28.581+0000"
        ],
        [
         false,
         "INDIANA",
         3.0,
         1.65106395835E12,
         "HONDAroot",
         ">HONDA>INDIANA",
         "Indiana",
         ">HONDA",
         "nan",
         74.0,
         "HONDA",
         "2022-04-26T20:27:37.287+0000",
         "HONDA",
         "73",
         "vt1",
         "2023-04-16T09:00:28.581+0000"
        ],
        [
         false,
         "MARYSVILLE",
         3.0,
         1.65106397124E12,
         "HONDAroot",
         ">HONDA>MARYSVILLE",
         "Marysville",
         ">HONDA",
         "nan",
         75.0,
         "HONDA",
         "2022-04-26T20:27:37.287+0000",
         "HONDA",
         "73",
         "vt1",
         "2023-04-16T09:00:28.581+0000"
        ],
        [
         false,
         "SAUDIARABIA",
         3.0,
         1.590422479021E12,
         "LUERSAroot",
         ">LUERSA>SAUDIARABIA",
         "SaudiArabia",
         ">LUERSA",
         "nan",
         47.0,
         "LUERSA",
         "2020-05-21T13:56:13.904+0000",
         "LuerssenSaudiArabia",
         "46",
         "vt1",
         "2023-04-16T09:00:28.581+0000"
        ],
        [
         false,
         "DEFAULTSTORE",
         3.0,
         1.577822362874E12,
         "sysconfig",
         ">MOJIX>DEFAULTSTORE",
         "Default Store",
         ">MOJIX",
         "nan",
         31.0,
         "MOJIX",
         "2019-12-31T19:59:22.874+0000",
         "MOJIX",
         "30",
         "vt1",
         "2023-04-16T09:00:28.581+0000"
        ],
        [
         false,
         "MENDEL",
         3.0,
         1.584629483206E12,
         "CTVAroot",
         ">CTVA>MENDEL",
         "Mendel",
         ">CTVA",
         "nan",
         45.0,
         "CTVA",
         "2020-03-10T18:05:38.350+0000",
         "Corteva Agriscience",
         "42",
         "vt1",
         "2023-04-16T09:00:28.581+0000"
        ],
        [
         false,
         "AUSTRIA",
         3.0,
         1.571757508733E12,
         "IKEAroot",
         ">IKEA>AUSTRIA",
         "Austria",
         ">IKEA",
         "nan",
         26.0,
         "IKEA",
         "2019-07-30T14:20:48.248+0000",
         "IKEA",
         "9",
         "vt1",
         "2023-04-16T09:00:28.581+0000"
        ],
        [
         false,
         "GERMANY",
         3.0,
         1.571757526796E12,
         "IKEAroot",
         ">IKEA>GERMANY",
         "Germany",
         ">IKEA",
         "nan",
         27.0,
         "IKEA",
         "2019-07-30T14:20:48.248+0000",
         "IKEA",
         "9",
         "vt1",
         "2023-04-16T09:00:28.581+0000"
        ],
        [
         false,
         "ATL",
         3.0,
         1.679407601585E12,
         "FEDEXroot",
         ">FEDEX>ATL",
         "Atlanta",
         ">FEDEX",
         "None",
         76.0,
         "FEDEX",
         "2021-09-24T14:38:09.290+0000",
         "FEDEX",
         "53",
         "vt1",
         "2023-04-17T09:00:29.873+0000"
        ],
        [
         false,
         "IND",
         3.0,
         1.632745925509E12,
         "FEDEXroot",
         ">FEDEX>IND",
         "Indianapolis",
         ">FEDEX",
         "",
         56.0,
         "FEDEX",
         "2021-09-24T14:38:09.290+0000",
         "FEDEX",
         "53",
         "vt1",
         "2023-04-17T09:00:29.873+0000"
        ],
        [
         false,
         "LAX",
         3.0,
         1.632745926279E12,
         "FEDEXroot",
         ">FEDEX>LAX",
         "Los Angeles",
         ">FEDEX",
         "",
         60.0,
         "FEDEX",
         "2021-09-24T14:38:09.290+0000",
         "FEDEX",
         "53",
         "vt1",
         "2023-04-17T09:00:29.873+0000"
        ],
        [
         false,
         "MEM",
         3.0,
         1.6327459271E12,
         "FEDEXroot",
         ">FEDEX>MEM",
         "Memphis",
         ">FEDEX",
         "",
         62.0,
         "FEDEX",
         "2021-09-24T14:38:09.290+0000",
         "FEDEX",
         "53",
         "vt1",
         "2023-04-17T09:00:29.873+0000"
        ],
        [
         false,
         "EWR",
         3.0,
         1.632745923922E12,
         "FEDEXroot",
         ">FEDEX>EWR",
         "Newark",
         ">FEDEX",
         "",
         54.0,
         "FEDEX",
         "2021-09-24T14:38:09.290+0000",
         "FEDEX",
         "53",
         "vt1",
         "2023-04-17T09:00:29.873+0000"
        ],
        [
         false,
         "OAK",
         3.0,
         1.632745927912E12,
         "FEDEXroot",
         ">FEDEX>OAK",
         "Oakland",
         ">FEDEX",
         "",
         67.0,
         "FEDEX",
         "2021-09-24T14:38:09.290+0000",
         "FEDEX",
         "53",
         "vt1",
         "2023-04-17T09:00:29.873+0000"
        ],
        [
         false,
         "BRUNEI",
         3.0,
         1.565624065632E12,
         "LUERroot",
         ">LUER>BRUNEI",
         "Brunei",
         ">LUER",
         "nan",
         13.0,
         "LUER",
         "2019-07-30T12:56:00.478+0000",
         "Luerssen",
         "8",
         "vt1",
         "2023-04-17T09:00:29.873+0000"
        ],
        [
         false,
         "GERMANY",
         3.0,
         1.565623788828E12,
         "LUERroot",
         ">LUER>GERMANY",
         "Germany",
         ">LUER",
         "nan",
         10.0,
         "LUER",
         "2019-07-30T12:56:00.478+0000",
         "Luerssen",
         "8",
         "vt1",
         "2023-04-17T09:00:29.873+0000"
        ],
        [
         false,
         "SAUDIARABIA",
         3.0,
         1.565624059545E12,
         "LUERroot",
         ">LUER>SAUDIARABIA",
         "SaudiArabia",
         ">LUER",
         "nan",
         12.0,
         "LUER",
         "2019-07-30T12:56:00.478+0000",
         "Luerssen",
         "8",
         "vt1",
         "2023-04-17T09:00:29.873+0000"
        ],
        [
         false,
         "MARYSVILLE",
         3.0,
         1.65106397124E12,
         "HONDAroot",
         ">HONDA>MARYSVILLE",
         "Marysville",
         ">HONDA",
         "nan",
         75.0,
         "HONDA",
         "2022-04-26T20:27:37.287+0000",
         "HONDA",
         "73",
         "vt1",
         "2023-04-17T09:00:29.873+0000"
        ],
        [
         false,
         "INDIANA",
         3.0,
         1.65106395835E12,
         "HONDAroot",
         ">HONDA>INDIANA",
         "Indiana",
         ">HONDA",
         "nan",
         74.0,
         "HONDA",
         "2022-04-26T20:27:37.287+0000",
         "HONDA",
         "73",
         "vt1",
         "2023-04-17T09:00:29.873+0000"
        ],
        [
         false,
         "SAUDIARABIA",
         3.0,
         1.590422479021E12,
         "LUERSAroot",
         ">LUERSA>SAUDIARABIA",
         "SaudiArabia",
         ">LUERSA",
         "nan",
         47.0,
         "LUERSA",
         "2020-05-21T13:56:13.904+0000",
         "LuerssenSaudiArabia",
         "46",
         "vt1",
         "2023-04-17T09:00:29.873+0000"
        ],
        [
         false,
         "DEFAULTSTORE",
         3.0,
         1.577822362874E12,
         "sysconfig",
         ">MOJIX>DEFAULTSTORE",
         "Default Store",
         ">MOJIX",
         "nan",
         31.0,
         "MOJIX",
         "2019-12-31T19:59:22.874+0000",
         "MOJIX",
         "30",
         "vt1",
         "2023-04-17T09:00:29.873+0000"
        ],
        [
         false,
         "MENDEL",
         3.0,
         1.584629483206E12,
         "CTVAroot",
         ">CTVA>MENDEL",
         "Mendel",
         ">CTVA",
         "nan",
         45.0,
         "CTVA",
         "2020-03-10T18:05:38.350+0000",
         "Corteva Agriscience",
         "42",
         "vt1",
         "2023-04-17T09:00:29.873+0000"
        ],
        [
         false,
         "AUSTRIA",
         3.0,
         1.571757508733E12,
         "IKEAroot",
         ">IKEA>AUSTRIA",
         "Austria",
         ">IKEA",
         "nan",
         26.0,
         "IKEA",
         "2019-07-30T14:20:48.248+0000",
         "IKEA",
         "9",
         "vt1",
         "2023-04-17T09:00:29.873+0000"
        ],
        [
         false,
         "GERMANY",
         3.0,
         1.571757526796E12,
         "IKEAroot",
         ">IKEA>GERMANY",
         "Germany",
         ">IKEA",
         "nan",
         27.0,
         "IKEA",
         "2019-07-30T14:20:48.248+0000",
         "IKEA",
         "9",
         "vt1",
         "2023-04-17T09:00:29.873+0000"
        ],
        [
         false,
         "MEM",
         3.0,
         1.6327459271E12,
         "FEDEXroot",
         ">FEDEX>MEM",
         "Memphis",
         ">FEDEX",
         "",
         62.0,
         "FEDEX",
         "2021-09-24T14:38:09.290+0000",
         "FEDEX",
         "53",
         "vt1",
         "2023-04-18T09:00:32.066+0000"
        ],
        [
         false,
         "EWR",
         3.0,
         1.632745923922E12,
         "FEDEXroot",
         ">FEDEX>EWR",
         "Newark",
         ">FEDEX",
         "",
         54.0,
         "FEDEX",
         "2021-09-24T14:38:09.290+0000",
         "FEDEX",
         "53",
         "vt1",
         "2023-04-18T09:00:32.066+0000"
        ],
        [
         false,
         "OAK",
         3.0,
         1.632745927912E12,
         "FEDEXroot",
         ">FEDEX>OAK",
         "Oakland",
         ">FEDEX",
         "",
         67.0,
         "FEDEX",
         "2021-09-24T14:38:09.290+0000",
         "FEDEX",
         "53",
         "vt1",
         "2023-04-18T09:00:32.066+0000"
        ],
        [
         false,
         "ATL",
         3.0,
         1.679407601585E12,
         "FEDEXroot",
         ">FEDEX>ATL",
         "Atlanta",
         ">FEDEX",
         "None",
         76.0,
         "FEDEX",
         "2021-09-24T14:38:09.290+0000",
         "FEDEX",
         "53",
         "vt1",
         "2023-04-18T09:00:32.066+0000"
        ],
        [
         false,
         "IND",
         3.0,
         1.632745925509E12,
         "FEDEXroot",
         ">FEDEX>IND",
         "Indianapolis",
         ">FEDEX",
         "",
         56.0,
         "FEDEX",
         "2021-09-24T14:38:09.290+0000",
         "FEDEX",
         "53",
         "vt1",
         "2023-04-18T09:00:32.066+0000"
        ],
        [
         false,
         "LAX",
         3.0,
         1.632745926279E12,
         "FEDEXroot",
         ">FEDEX>LAX",
         "Los Angeles",
         ">FEDEX",
         "",
         60.0,
         "FEDEX",
         "2021-09-24T14:38:09.290+0000",
         "FEDEX",
         "53",
         "vt1",
         "2023-04-18T09:00:32.066+0000"
        ],
        [
         false,
         "SAUDIARABIA",
         3.0,
         1.565624059545E12,
         "LUERroot",
         ">LUER>SAUDIARABIA",
         "SaudiArabia",
         ">LUER",
         "nan",
         12.0,
         "LUER",
         "2019-07-30T12:56:00.478+0000",
         "Luerssen",
         "8",
         "vt1",
         "2023-04-18T09:00:32.066+0000"
        ],
        [
         false,
         "BRUNEI",
         3.0,
         1.565624065632E12,
         "LUERroot",
         ">LUER>BRUNEI",
         "Brunei",
         ">LUER",
         "nan",
         13.0,
         "LUER",
         "2019-07-30T12:56:00.478+0000",
         "Luerssen",
         "8",
         "vt1",
         "2023-04-18T09:00:32.066+0000"
        ],
        [
         false,
         "GERMANY",
         3.0,
         1.565623788828E12,
         "LUERroot",
         ">LUER>GERMANY",
         "Germany",
         ">LUER",
         "nan",
         10.0,
         "LUER",
         "2019-07-30T12:56:00.478+0000",
         "Luerssen",
         "8",
         "vt1",
         "2023-04-18T09:00:32.066+0000"
        ],
        [
         false,
         "MARYSVILLE",
         3.0,
         1.65106397124E12,
         "HONDAroot",
         ">HONDA>MARYSVILLE",
         "Marysville",
         ">HONDA",
         "nan",
         75.0,
         "HONDA",
         "2022-04-26T20:27:37.287+0000",
         "HONDA",
         "73",
         "vt1",
         "2023-04-18T09:00:32.066+0000"
        ],
        [
         false,
         "INDIANA",
         3.0,
         1.65106395835E12,
         "HONDAroot",
         ">HONDA>INDIANA",
         "Indiana",
         ">HONDA",
         "nan",
         74.0,
         "HONDA",
         "2022-04-26T20:27:37.287+0000",
         "HONDA",
         "73",
         "vt1",
         "2023-04-18T09:00:32.066+0000"
        ],
        [
         false,
         "SAUDIARABIA",
         3.0,
         1.590422479021E12,
         "LUERSAroot",
         ">LUERSA>SAUDIARABIA",
         "SaudiArabia",
         ">LUERSA",
         "nan",
         47.0,
         "LUERSA",
         "2020-05-21T13:56:13.904+0000",
         "LuerssenSaudiArabia",
         "46",
         "vt1",
         "2023-04-18T09:00:32.066+0000"
        ],
        [
         false,
         "DEFAULTSTORE",
         3.0,
         1.577822362874E12,
         "sysconfig",
         ">MOJIX>DEFAULTSTORE",
         "Default Store",
         ">MOJIX",
         "nan",
         31.0,
         "MOJIX",
         "2019-12-31T19:59:22.874+0000",
         "MOJIX",
         "30",
         "vt1",
         "2023-04-18T09:00:32.066+0000"
        ],
        [
         false,
         "MENDEL",
         3.0,
         1.584629483206E12,
         "CTVAroot",
         ">CTVA>MENDEL",
         "Mendel",
         ">CTVA",
         "nan",
         45.0,
         "CTVA",
         "2020-03-10T18:05:38.350+0000",
         "Corteva Agriscience",
         "42",
         "vt1",
         "2023-04-18T09:00:32.066+0000"
        ],
        [
         false,
         "AUSTRIA",
         3.0,
         1.571757508733E12,
         "IKEAroot",
         ">IKEA>AUSTRIA",
         "Austria",
         ">IKEA",
         "nan",
         26.0,
         "IKEA",
         "2019-07-30T14:20:48.248+0000",
         "IKEA",
         "9",
         "vt1",
         "2023-04-18T09:00:32.066+0000"
        ],
        [
         false,
         "GERMANY",
         3.0,
         1.571757526796E12,
         "IKEAroot",
         ">IKEA>GERMANY",
         "Germany",
         ">IKEA",
         "nan",
         27.0,
         "IKEA",
         "2019-07-30T14:20:48.248+0000",
         "IKEA",
         "9",
         "vt1",
         "2023-04-18T09:00:32.066+0000"
        ],
        [
         false,
         "ATL",
         3.0,
         1.679407601585E12,
         "FEDEXroot",
         ">FEDEX>ATL",
         "Atlanta",
         ">FEDEX",
         "None",
         76.0,
         "FEDEX",
         "2021-09-24T14:38:09.290+0000",
         "FEDEX",
         "53",
         "vt1",
         "2023-04-19T09:00:29.167+0000"
        ],
        [
         false,
         "IND",
         3.0,
         1.632745925509E12,
         "FEDEXroot",
         ">FEDEX>IND",
         "Indianapolis",
         ">FEDEX",
         "",
         56.0,
         "FEDEX",
         "2021-09-24T14:38:09.290+0000",
         "FEDEX",
         "53",
         "vt1",
         "2023-04-19T09:00:29.167+0000"
        ],
        [
         false,
         "LAX",
         3.0,
         1.632745926279E12,
         "FEDEXroot",
         ">FEDEX>LAX",
         "Los Angeles",
         ">FEDEX",
         "",
         60.0,
         "FEDEX",
         "2021-09-24T14:38:09.290+0000",
         "FEDEX",
         "53",
         "vt1",
         "2023-04-19T09:00:29.167+0000"
        ],
        [
         false,
         "MEM",
         3.0,
         1.6327459271E12,
         "FEDEXroot",
         ">FEDEX>MEM",
         "Memphis",
         ">FEDEX",
         "",
         62.0,
         "FEDEX",
         "2021-09-24T14:38:09.290+0000",
         "FEDEX",
         "53",
         "vt1",
         "2023-04-19T09:00:29.167+0000"
        ],
        [
         false,
         "EWR",
         3.0,
         1.632745923922E12,
         "FEDEXroot",
         ">FEDEX>EWR",
         "Newark",
         ">FEDEX",
         "",
         54.0,
         "FEDEX",
         "2021-09-24T14:38:09.290+0000",
         "FEDEX",
         "53",
         "vt1",
         "2023-04-19T09:00:29.167+0000"
        ],
        [
         false,
         "OAK",
         3.0,
         1.632745927912E12,
         "FEDEXroot",
         ">FEDEX>OAK",
         "Oakland",
         ">FEDEX",
         "",
         67.0,
         "FEDEX",
         "2021-09-24T14:38:09.290+0000",
         "FEDEX",
         "53",
         "vt1",
         "2023-04-19T09:00:29.167+0000"
        ],
        [
         false,
         "SAUDIARABIA",
         3.0,
         1.565624059545E12,
         "LUERroot",
         ">LUER>SAUDIARABIA",
         "SaudiArabia",
         ">LUER",
         "nan",
         12.0,
         "LUER",
         "2019-07-30T12:56:00.478+0000",
         "Luerssen",
         "8",
         "vt1",
         "2023-04-19T09:00:29.167+0000"
        ],
        [
         false,
         "BRUNEI",
         3.0,
         1.565624065632E12,
         "LUERroot",
         ">LUER>BRUNEI",
         "Brunei",
         ">LUER",
         "nan",
         13.0,
         "LUER",
         "2019-07-30T12:56:00.478+0000",
         "Luerssen",
         "8",
         "vt1",
         "2023-04-19T09:00:29.167+0000"
        ],
        [
         false,
         "GERMANY",
         3.0,
         1.565623788828E12,
         "LUERroot",
         ">LUER>GERMANY",
         "Germany",
         ">LUER",
         "nan",
         10.0,
         "LUER",
         "2019-07-30T12:56:00.478+0000",
         "Luerssen",
         "8",
         "vt1",
         "2023-04-19T09:00:29.167+0000"
        ],
        [
         false,
         "INDIANA",
         3.0,
         1.65106395835E12,
         "HONDAroot",
         ">HONDA>INDIANA",
         "Indiana",
         ">HONDA",
         "nan",
         74.0,
         "HONDA",
         "2022-04-26T20:27:37.287+0000",
         "HONDA",
         "73",
         "vt1",
         "2023-04-19T09:00:29.167+0000"
        ],
        [
         false,
         "MARYSVILLE",
         3.0,
         1.65106397124E12,
         "HONDAroot",
         ">HONDA>MARYSVILLE",
         "Marysville",
         ">HONDA",
         "nan",
         75.0,
         "HONDA",
         "2022-04-26T20:27:37.287+0000",
         "HONDA",
         "73",
         "vt1",
         "2023-04-19T09:00:29.167+0000"
        ],
        [
         false,
         "SAUDIARABIA",
         3.0,
         1.590422479021E12,
         "LUERSAroot",
         ">LUERSA>SAUDIARABIA",
         "SaudiArabia",
         ">LUERSA",
         "nan",
         47.0,
         "LUERSA",
         "2020-05-21T13:56:13.904+0000",
         "LuerssenSaudiArabia",
         "46",
         "vt1",
         "2023-04-19T09:00:29.167+0000"
        ],
        [
         false,
         "DEFAULTSTORE",
         3.0,
         1.577822362874E12,
         "sysconfig",
         ">MOJIX>DEFAULTSTORE",
         "Default Store",
         ">MOJIX",
         "nan",
         31.0,
         "MOJIX",
         "2019-12-31T19:59:22.874+0000",
         "MOJIX",
         "30",
         "vt1",
         "2023-04-19T09:00:29.167+0000"
        ],
        [
         false,
         "MENDEL",
         3.0,
         1.584629483206E12,
         "CTVAroot",
         ">CTVA>MENDEL",
         "Mendel",
         ">CTVA",
         "nan",
         45.0,
         "CTVA",
         "2020-03-10T18:05:38.350+0000",
         "Corteva Agriscience",
         "42",
         "vt1",
         "2023-04-19T09:00:29.167+0000"
        ],
        [
         false,
         "AUSTRIA",
         3.0,
         1.571757508733E12,
         "IKEAroot",
         ">IKEA>AUSTRIA",
         "Austria",
         ">IKEA",
         "nan",
         26.0,
         "IKEA",
         "2019-07-30T14:20:48.248+0000",
         "IKEA",
         "9",
         "vt1",
         "2023-04-19T09:00:29.167+0000"
        ],
        [
         false,
         "GERMANY",
         3.0,
         1.571757526796E12,
         "IKEAroot",
         ">IKEA>GERMANY",
         "Germany",
         ">IKEA",
         "nan",
         27.0,
         "IKEA",
         "2019-07-30T14:20:48.248+0000",
         "IKEA",
         "9",
         "vt1",
         "2023-04-19T09:00:29.167+0000"
        ],
        [
         false,
         "MEM",
         3.0,
         1.6327459271E12,
         "FEDEXroot",
         ">FEDEX>MEM",
         "Memphis",
         ">FEDEX",
         "",
         62.0,
         "FEDEX",
         "2021-09-24T14:38:09.290+0000",
         "FEDEX",
         "53",
         "vt1",
         "2023-04-20T09:00:33.420+0000"
        ],
        [
         false,
         "EWR",
         3.0,
         1.632745923922E12,
         "FEDEXroot",
         ">FEDEX>EWR",
         "Newark",
         ">FEDEX",
         "",
         54.0,
         "FEDEX",
         "2021-09-24T14:38:09.290+0000",
         "FEDEX",
         "53",
         "vt1",
         "2023-04-20T09:00:33.420+0000"
        ],
        [
         false,
         "OAK",
         3.0,
         1.632745927912E12,
         "FEDEXroot",
         ">FEDEX>OAK",
         "Oakland",
         ">FEDEX",
         "",
         67.0,
         "FEDEX",
         "2021-09-24T14:38:09.290+0000",
         "FEDEX",
         "53",
         "vt1",
         "2023-04-20T09:00:33.420+0000"
        ],
        [
         false,
         "ATL",
         3.0,
         1.679407601585E12,
         "FEDEXroot",
         ">FEDEX>ATL",
         "Atlanta",
         ">FEDEX",
         "None",
         76.0,
         "FEDEX",
         "2021-09-24T14:38:09.290+0000",
         "FEDEX",
         "53",
         "vt1",
         "2023-04-20T09:00:33.420+0000"
        ],
        [
         false,
         "IND",
         3.0,
         1.632745925509E12,
         "FEDEXroot",
         ">FEDEX>IND",
         "Indianapolis",
         ">FEDEX",
         "",
         56.0,
         "FEDEX",
         "2021-09-24T14:38:09.290+0000",
         "FEDEX",
         "53",
         "vt1",
         "2023-04-20T09:00:33.420+0000"
        ],
        [
         false,
         "LAX",
         3.0,
         1.632745926279E12,
         "FEDEXroot",
         ">FEDEX>LAX",
         "Los Angeles",
         ">FEDEX",
         "",
         60.0,
         "FEDEX",
         "2021-09-24T14:38:09.290+0000",
         "FEDEX",
         "53",
         "vt1",
         "2023-04-20T09:00:33.420+0000"
        ],
        [
         false,
         "BRUNEI",
         3.0,
         1.565624065632E12,
         "LUERroot",
         ">LUER>BRUNEI",
         "Brunei",
         ">LUER",
         "nan",
         13.0,
         "LUER",
         "2019-07-30T12:56:00.478+0000",
         "Luerssen",
         "8",
         "vt1",
         "2023-04-20T09:00:33.420+0000"
        ],
        [
         false,
         "GERMANY",
         3.0,
         1.565623788828E12,
         "LUERroot",
         ">LUER>GERMANY",
         "Germany",
         ">LUER",
         "nan",
         10.0,
         "LUER",
         "2019-07-30T12:56:00.478+0000",
         "Luerssen",
         "8",
         "vt1",
         "2023-04-20T09:00:33.420+0000"
        ],
        [
         false,
         "SAUDIARABIA",
         3.0,
         1.565624059545E12,
         "LUERroot",
         ">LUER>SAUDIARABIA",
         "SaudiArabia",
         ">LUER",
         "nan",
         12.0,
         "LUER",
         "2019-07-30T12:56:00.478+0000",
         "Luerssen",
         "8",
         "vt1",
         "2023-04-20T09:00:33.420+0000"
        ],
        [
         false,
         "INDIANA",
         3.0,
         1.65106395835E12,
         "HONDAroot",
         ">HONDA>INDIANA",
         "Indiana",
         ">HONDA",
         "nan",
         74.0,
         "HONDA",
         "2022-04-26T20:27:37.287+0000",
         "HONDA",
         "73",
         "vt1",
         "2023-04-20T09:00:33.420+0000"
        ],
        [
         false,
         "MARYSVILLE",
         3.0,
         1.65106397124E12,
         "HONDAroot",
         ">HONDA>MARYSVILLE",
         "Marysville",
         ">HONDA",
         "nan",
         75.0,
         "HONDA",
         "2022-04-26T20:27:37.287+0000",
         "HONDA",
         "73",
         "vt1",
         "2023-04-20T09:00:33.420+0000"
        ],
        [
         false,
         "SAUDIARABIA",
         3.0,
         1.590422479021E12,
         "LUERSAroot",
         ">LUERSA>SAUDIARABIA",
         "SaudiArabia",
         ">LUERSA",
         "nan",
         47.0,
         "LUERSA",
         "2020-05-21T13:56:13.904+0000",
         "LuerssenSaudiArabia",
         "46",
         "vt1",
         "2023-04-20T09:00:33.420+0000"
        ],
        [
         false,
         "DEFAULTSTORE",
         3.0,
         1.577822362874E12,
         "sysconfig",
         ">MOJIX>DEFAULTSTORE",
         "Default Store",
         ">MOJIX",
         "nan",
         31.0,
         "MOJIX",
         "2019-12-31T19:59:22.874+0000",
         "MOJIX",
         "30",
         "vt1",
         "2023-04-20T09:00:33.420+0000"
        ],
        [
         false,
         "MENDEL",
         3.0,
         1.584629483206E12,
         "CTVAroot",
         ">CTVA>MENDEL",
         "Mendel",
         ">CTVA",
         "nan",
         45.0,
         "CTVA",
         "2020-03-10T18:05:38.350+0000",
         "Corteva Agriscience",
         "42",
         "vt1",
         "2023-04-20T09:00:33.420+0000"
        ],
        [
         false,
         "AUSTRIA",
         3.0,
         1.571757508733E12,
         "IKEAroot",
         ">IKEA>AUSTRIA",
         "Austria",
         ">IKEA",
         "nan",
         26.0,
         "IKEA",
         "2019-07-30T14:20:48.248+0000",
         "IKEA",
         "9",
         "vt1",
         "2023-04-20T09:00:33.420+0000"
        ],
        [
         false,
         "GERMANY",
         3.0,
         1.571757526796E12,
         "IKEAroot",
         ">IKEA>GERMANY",
         "Germany",
         ">IKEA",
         "nan",
         27.0,
         "IKEA",
         "2019-07-30T14:20:48.248+0000",
         "IKEA",
         "9",
         "vt1",
         "2023-04-20T09:00:33.420+0000"
        ],
        [
         false,
         "MEM",
         3.0,
         1.6327459271E12,
         "FEDEXroot",
         ">FEDEX>MEM",
         "Memphis",
         ">FEDEX",
         "",
         62.0,
         "FEDEX",
         "2021-09-24T14:38:09.290+0000",
         "FEDEX",
         "53",
         "vt1",
         "2023-04-21T09:00:33.146+0000"
        ],
        [
         false,
         "EWR",
         3.0,
         1.632745923922E12,
         "FEDEXroot",
         ">FEDEX>EWR",
         "Newark",
         ">FEDEX",
         "",
         54.0,
         "FEDEX",
         "2021-09-24T14:38:09.290+0000",
         "FEDEX",
         "53",
         "vt1",
         "2023-04-21T09:00:33.146+0000"
        ],
        [
         false,
         "OAK",
         3.0,
         1.632745927912E12,
         "FEDEXroot",
         ">FEDEX>OAK",
         "Oakland",
         ">FEDEX",
         "",
         67.0,
         "FEDEX",
         "2021-09-24T14:38:09.290+0000",
         "FEDEX",
         "53",
         "vt1",
         "2023-04-21T09:00:33.146+0000"
        ],
        [
         false,
         "ATL",
         3.0,
         1.679407601585E12,
         "FEDEXroot",
         ">FEDEX>ATL",
         "Atlanta",
         ">FEDEX",
         "None",
         76.0,
         "FEDEX",
         "2021-09-24T14:38:09.290+0000",
         "FEDEX",
         "53",
         "vt1",
         "2023-04-21T09:00:33.146+0000"
        ],
        [
         false,
         "IND",
         3.0,
         1.632745925509E12,
         "FEDEXroot",
         ">FEDEX>IND",
         "Indianapolis",
         ">FEDEX",
         "",
         56.0,
         "FEDEX",
         "2021-09-24T14:38:09.290+0000",
         "FEDEX",
         "53",
         "vt1",
         "2023-04-21T09:00:33.146+0000"
        ],
        [
         false,
         "LAX",
         3.0,
         1.632745926279E12,
         "FEDEXroot",
         ">FEDEX>LAX",
         "Los Angeles",
         ">FEDEX",
         "",
         60.0,
         "FEDEX",
         "2021-09-24T14:38:09.290+0000",
         "FEDEX",
         "53",
         "vt1",
         "2023-04-21T09:00:33.146+0000"
        ],
        [
         false,
         "BRUNEI",
         3.0,
         1.565624065632E12,
         "LUERroot",
         ">LUER>BRUNEI",
         "Brunei",
         ">LUER",
         "nan",
         13.0,
         "LUER",
         "2019-07-30T12:56:00.478+0000",
         "Luerssen",
         "8",
         "vt1",
         "2023-04-21T09:00:33.146+0000"
        ],
        [
         false,
         "GERMANY",
         3.0,
         1.565623788828E12,
         "LUERroot",
         ">LUER>GERMANY",
         "Germany",
         ">LUER",
         "nan",
         10.0,
         "LUER",
         "2019-07-30T12:56:00.478+0000",
         "Luerssen",
         "8",
         "vt1",
         "2023-04-21T09:00:33.146+0000"
        ],
        [
         false,
         "SAUDIARABIA",
         3.0,
         1.565624059545E12,
         "LUERroot",
         ">LUER>SAUDIARABIA",
         "SaudiArabia",
         ">LUER",
         "nan",
         12.0,
         "LUER",
         "2019-07-30T12:56:00.478+0000",
         "Luerssen",
         "8",
         "vt1",
         "2023-04-21T09:00:33.146+0000"
        ],
        [
         false,
         "MARYSVILLE",
         3.0,
         1.65106397124E12,
         "HONDAroot",
         ">HONDA>MARYSVILLE",
         "Marysville",
         ">HONDA",
         "nan",
         75.0,
         "HONDA",
         "2022-04-26T20:27:37.287+0000",
         "HONDA",
         "73",
         "vt1",
         "2023-04-21T09:00:33.146+0000"
        ],
        [
         false,
         "INDIANA",
         3.0,
         1.65106395835E12,
         "HONDAroot",
         ">HONDA>INDIANA",
         "Indiana",
         ">HONDA",
         "nan",
         74.0,
         "HONDA",
         "2022-04-26T20:27:37.287+0000",
         "HONDA",
         "73",
         "vt1",
         "2023-04-21T09:00:33.146+0000"
        ],
        [
         false,
         "SAUDIARABIA",
         3.0,
         1.590422479021E12,
         "LUERSAroot",
         ">LUERSA>SAUDIARABIA",
         "SaudiArabia",
         ">LUERSA",
         "nan",
         47.0,
         "LUERSA",
         "2020-05-21T13:56:13.904+0000",
         "LuerssenSaudiArabia",
         "46",
         "vt1",
         "2023-04-21T09:00:33.146+0000"
        ],
        [
         false,
         "DEFAULTSTORE",
         3.0,
         1.577822362874E12,
         "sysconfig",
         ">MOJIX>DEFAULTSTORE",
         "Default Store",
         ">MOJIX",
         "nan",
         31.0,
         "MOJIX",
         "2019-12-31T19:59:22.874+0000",
         "MOJIX",
         "30",
         "vt1",
         "2023-04-21T09:00:33.146+0000"
        ],
        [
         false,
         "MENDEL",
         3.0,
         1.584629483206E12,
         "CTVAroot",
         ">CTVA>MENDEL",
         "Mendel",
         ">CTVA",
         "nan",
         45.0,
         "CTVA",
         "2020-03-10T18:05:38.350+0000",
         "Corteva Agriscience",
         "42",
         "vt1",
         "2023-04-21T09:00:33.146+0000"
        ],
        [
         false,
         "AUSTRIA",
         3.0,
         1.571757508733E12,
         "IKEAroot",
         ">IKEA>AUSTRIA",
         "Austria",
         ">IKEA",
         "nan",
         26.0,
         "IKEA",
         "2019-07-30T14:20:48.248+0000",
         "IKEA",
         "9",
         "vt1",
         "2023-04-21T09:00:33.146+0000"
        ],
        [
         false,
         "GERMANY",
         3.0,
         1.571757526796E12,
         "IKEAroot",
         ">IKEA>GERMANY",
         "Germany",
         ">IKEA",
         "nan",
         27.0,
         "IKEA",
         "2019-07-30T14:20:48.248+0000",
         "IKEA",
         "9",
         "vt1",
         "2023-04-21T09:00:33.146+0000"
        ],
        [
         false,
         "MEM",
         3.0,
         1.6327459271E12,
         "FEDEXroot",
         ">FEDEX>MEM",
         "Memphis",
         ">FEDEX",
         "",
         62.0,
         "FEDEX",
         "2021-09-24T14:38:09.290+0000",
         "FEDEX",
         "53",
         "vt1",
         "2023-04-22T09:00:31.733+0000"
        ],
        [
         false,
         "EWR",
         3.0,
         1.632745923922E12,
         "FEDEXroot",
         ">FEDEX>EWR",
         "Newark",
         ">FEDEX",
         "",
         54.0,
         "FEDEX",
         "2021-09-24T14:38:09.290+0000",
         "FEDEX",
         "53",
         "vt1",
         "2023-04-22T09:00:31.733+0000"
        ],
        [
         false,
         "OAK",
         3.0,
         1.632745927912E12,
         "FEDEXroot",
         ">FEDEX>OAK",
         "Oakland",
         ">FEDEX",
         "",
         67.0,
         "FEDEX",
         "2021-09-24T14:38:09.290+0000",
         "FEDEX",
         "53",
         "vt1",
         "2023-04-22T09:00:31.733+0000"
        ],
        [
         false,
         "ATL",
         3.0,
         1.679407601585E12,
         "FEDEXroot",
         ">FEDEX>ATL",
         "Atlanta",
         ">FEDEX",
         "None",
         76.0,
         "FEDEX",
         "2021-09-24T14:38:09.290+0000",
         "FEDEX",
         "53",
         "vt1",
         "2023-04-22T09:00:31.733+0000"
        ],
        [
         false,
         "IND",
         3.0,
         1.632745925509E12,
         "FEDEXroot",
         ">FEDEX>IND",
         "Indianapolis",
         ">FEDEX",
         "",
         56.0,
         "FEDEX",
         "2021-09-24T14:38:09.290+0000",
         "FEDEX",
         "53",
         "vt1",
         "2023-04-22T09:00:31.733+0000"
        ],
        [
         false,
         "LAX",
         3.0,
         1.632745926279E12,
         "FEDEXroot",
         ">FEDEX>LAX",
         "Los Angeles",
         ">FEDEX",
         "",
         60.0,
         "FEDEX",
         "2021-09-24T14:38:09.290+0000",
         "FEDEX",
         "53",
         "vt1",
         "2023-04-22T09:00:31.733+0000"
        ],
        [
         false,
         "SAUDIARABIA",
         3.0,
         1.565624059545E12,
         "LUERroot",
         ">LUER>SAUDIARABIA",
         "SaudiArabia",
         ">LUER",
         "nan",
         12.0,
         "LUER",
         "2019-07-30T12:56:00.478+0000",
         "Luerssen",
         "8",
         "vt1",
         "2023-04-22T09:00:31.733+0000"
        ],
        [
         false,
         "BRUNEI",
         3.0,
         1.565624065632E12,
         "LUERroot",
         ">LUER>BRUNEI",
         "Brunei",
         ">LUER",
         "nan",
         13.0,
         "LUER",
         "2019-07-30T12:56:00.478+0000",
         "Luerssen",
         "8",
         "vt1",
         "2023-04-22T09:00:31.733+0000"
        ],
        [
         false,
         "GERMANY",
         3.0,
         1.565623788828E12,
         "LUERroot",
         ">LUER>GERMANY",
         "Germany",
         ">LUER",
         "nan",
         10.0,
         "LUER",
         "2019-07-30T12:56:00.478+0000",
         "Luerssen",
         "8",
         "vt1",
         "2023-04-22T09:00:31.733+0000"
        ],
        [
         false,
         "INDIANA",
         3.0,
         1.65106395835E12,
         "HONDAroot",
         ">HONDA>INDIANA",
         "Indiana",
         ">HONDA",
         "nan",
         74.0,
         "HONDA",
         "2022-04-26T20:27:37.287+0000",
         "HONDA",
         "73",
         "vt1",
         "2023-04-22T09:00:31.733+0000"
        ],
        [
         false,
         "MARYSVILLE",
         3.0,
         1.65106397124E12,
         "HONDAroot",
         ">HONDA>MARYSVILLE",
         "Marysville",
         ">HONDA",
         "nan",
         75.0,
         "HONDA",
         "2022-04-26T20:27:37.287+0000",
         "HONDA",
         "73",
         "vt1",
         "2023-04-22T09:00:31.733+0000"
        ],
        [
         false,
         "SAUDIARABIA",
         3.0,
         1.590422479021E12,
         "LUERSAroot",
         ">LUERSA>SAUDIARABIA",
         "SaudiArabia",
         ">LUERSA",
         "nan",
         47.0,
         "LUERSA",
         "2020-05-21T13:56:13.904+0000",
         "LuerssenSaudiArabia",
         "46",
         "vt1",
         "2023-04-22T09:00:31.733+0000"
        ],
        [
         false,
         "DEFAULTSTORE",
         3.0,
         1.577822362874E12,
         "sysconfig",
         ">MOJIX>DEFAULTSTORE",
         "Default Store",
         ">MOJIX",
         "nan",
         31.0,
         "MOJIX",
         "2019-12-31T19:59:22.874+0000",
         "MOJIX",
         "30",
         "vt1",
         "2023-04-22T09:00:31.733+0000"
        ],
        [
         false,
         "MENDEL",
         3.0,
         1.584629483206E12,
         "CTVAroot",
         ">CTVA>MENDEL",
         "Mendel",
         ">CTVA",
         "nan",
         45.0,
         "CTVA",
         "2020-03-10T18:05:38.350+0000",
         "Corteva Agriscience",
         "42",
         "vt1",
         "2023-04-22T09:00:31.733+0000"
        ],
        [
         false,
         "AUSTRIA",
         3.0,
         1.571757508733E12,
         "IKEAroot",
         ">IKEA>AUSTRIA",
         "Austria",
         ">IKEA",
         "nan",
         26.0,
         "IKEA",
         "2019-07-30T14:20:48.248+0000",
         "IKEA",
         "9",
         "vt1",
         "2023-04-22T09:00:31.733+0000"
        ],
        [
         false,
         "GERMANY",
         3.0,
         1.571757526796E12,
         "IKEAroot",
         ">IKEA>GERMANY",
         "Germany",
         ">IKEA",
         "nan",
         27.0,
         "IKEA",
         "2019-07-30T14:20:48.248+0000",
         "IKEA",
         "9",
         "vt1",
         "2023-04-22T09:00:31.733+0000"
        ],
        [
         false,
         "MEM",
         3.0,
         1.6327459271E12,
         "FEDEXroot",
         ">FEDEX>MEM",
         "Memphis",
         ">FEDEX",
         "",
         62.0,
         "FEDEX",
         "2021-09-24T14:38:09.290+0000",
         "FEDEX",
         "53",
         "vt1",
         "2023-04-02T09:01:10.108+0000"
        ],
        [
         false,
         "EWR",
         3.0,
         1.632745923922E12,
         "FEDEXroot",
         ">FEDEX>EWR",
         "Newark",
         ">FEDEX",
         "",
         54.0,
         "FEDEX",
         "2021-09-24T14:38:09.290+0000",
         "FEDEX",
         "53",
         "vt1",
         "2023-04-02T09:01:10.108+0000"
        ],
        [
         false,
         "OAK",
         3.0,
         1.632745927912E12,
         "FEDEXroot",
         ">FEDEX>OAK",
         "Oakland",
         ">FEDEX",
         "",
         67.0,
         "FEDEX",
         "2021-09-24T14:38:09.290+0000",
         "FEDEX",
         "53",
         "vt1",
         "2023-04-02T09:01:10.108+0000"
        ],
        [
         false,
         "ATL",
         3.0,
         1.679407601585E12,
         "FEDEXroot",
         ">FEDEX>ATL",
         "Atlanta",
         ">FEDEX",
         "None",
         76.0,
         "FEDEX",
         "2021-09-24T14:38:09.290+0000",
         "FEDEX",
         "53",
         "vt1",
         "2023-04-02T09:01:10.108+0000"
        ],
        [
         false,
         "IND",
         3.0,
         1.632745925509E12,
         "FEDEXroot",
         ">FEDEX>IND",
         "Indianapolis",
         ">FEDEX",
         "",
         56.0,
         "FEDEX",
         "2021-09-24T14:38:09.290+0000",
         "FEDEX",
         "53",
         "vt1",
         "2023-04-02T09:01:10.108+0000"
        ],
        [
         false,
         "LAX",
         3.0,
         1.632745926279E12,
         "FEDEXroot",
         ">FEDEX>LAX",
         "Los Angeles",
         ">FEDEX",
         "",
         60.0,
         "FEDEX",
         "2021-09-24T14:38:09.290+0000",
         "FEDEX",
         "53",
         "vt1",
         "2023-04-02T09:01:10.108+0000"
        ],
        [
         false,
         "SAUDIARABIA",
         3.0,
         1.565624059545E12,
         "LUERroot",
         ">LUER>SAUDIARABIA",
         "SaudiArabia",
         ">LUER",
         "nan",
         12.0,
         "LUER",
         "2019-07-30T12:56:00.478+0000",
         "Luerssen",
         "8",
         "vt1",
         "2023-04-02T09:01:10.108+0000"
        ],
        [
         false,
         "BRUNEI",
         3.0,
         1.565624065632E12,
         "LUERroot",
         ">LUER>BRUNEI",
         "Brunei",
         ">LUER",
         "nan",
         13.0,
         "LUER",
         "2019-07-30T12:56:00.478+0000",
         "Luerssen",
         "8",
         "vt1",
         "2023-04-02T09:01:10.108+0000"
        ],
        [
         false,
         "GERMANY",
         3.0,
         1.565623788828E12,
         "LUERroot",
         ">LUER>GERMANY",
         "Germany",
         ">LUER",
         "nan",
         10.0,
         "LUER",
         "2019-07-30T12:56:00.478+0000",
         "Luerssen",
         "8",
         "vt1",
         "2023-04-02T09:01:10.108+0000"
        ],
        [
         false,
         "INDIANA",
         3.0,
         1.65106395835E12,
         "HONDAroot",
         ">HONDA>INDIANA",
         "Indiana",
         ">HONDA",
         "nan",
         74.0,
         "HONDA",
         "2022-04-26T20:27:37.287+0000",
         "HONDA",
         "73",
         "vt1",
         "2023-04-02T09:01:10.108+0000"
        ],
        [
         false,
         "MARYSVILLE",
         3.0,
         1.65106397124E12,
         "HONDAroot",
         ">HONDA>MARYSVILLE",
         "Marysville",
         ">HONDA",
         "nan",
         75.0,
         "HONDA",
         "2022-04-26T20:27:37.287+0000",
         "HONDA",
         "73",
         "vt1",
         "2023-04-02T09:01:10.108+0000"
        ],
        [
         false,
         "SAUDIARABIA",
         3.0,
         1.590422479021E12,
         "LUERSAroot",
         ">LUERSA>SAUDIARABIA",
         "SaudiArabia",
         ">LUERSA",
         "nan",
         47.0,
         "LUERSA",
         "2020-05-21T13:56:13.904+0000",
         "LuerssenSaudiArabia",
         "46",
         "vt1",
         "2023-04-02T09:01:10.108+0000"
        ],
        [
         false,
         "DEFAULTSTORE",
         3.0,
         1.577822362874E12,
         "sysconfig",
         ">MOJIX>DEFAULTSTORE",
         "Default Store",
         ">MOJIX",
         "nan",
         31.0,
         "MOJIX",
         "2019-12-31T19:59:22.874+0000",
         "MOJIX",
         "30",
         "vt1",
         "2023-04-02T09:01:10.108+0000"
        ],
        [
         false,
         "MENDEL",
         3.0,
         1.584629483206E12,
         "CTVAroot",
         ">CTVA>MENDEL",
         "Mendel",
         ">CTVA",
         "nan",
         45.0,
         "CTVA",
         "2020-03-10T18:05:38.350+0000",
         "Corteva Agriscience",
         "42",
         "vt1",
         "2023-04-02T09:01:10.108+0000"
        ],
        [
         false,
         "AUSTRIA",
         3.0,
         1.571757508733E12,
         "IKEAroot",
         ">IKEA>AUSTRIA",
         "Austria",
         ">IKEA",
         "nan",
         26.0,
         "IKEA",
         "2019-07-30T14:20:48.248+0000",
         "IKEA",
         "9",
         "vt1",
         "2023-04-02T09:01:10.108+0000"
        ],
        [
         false,
         "GERMANY",
         3.0,
         1.571757526796E12,
         "IKEAroot",
         ">IKEA>GERMANY",
         "Germany",
         ">IKEA",
         "nan",
         27.0,
         "IKEA",
         "2019-07-30T14:20:48.248+0000",
         "IKEA",
         "9",
         "vt1",
         "2023-04-02T09:01:10.108+0000"
        ],
        [
         false,
         "MEM",
         3.0,
         1.6327459271E12,
         "FEDEXroot",
         ">FEDEX>MEM",
         "Memphis",
         ">FEDEX",
         "",
         62.0,
         "FEDEX",
         "2021-09-24T14:38:09.290+0000",
         "FEDEX",
         "53",
         "vt1",
         "2023-04-03T09:00:34.767+0000"
        ],
        [
         false,
         "EWR",
         3.0,
         1.632745923922E12,
         "FEDEXroot",
         ">FEDEX>EWR",
         "Newark",
         ">FEDEX",
         "",
         54.0,
         "FEDEX",
         "2021-09-24T14:38:09.290+0000",
         "FEDEX",
         "53",
         "vt1",
         "2023-04-03T09:00:34.767+0000"
        ],
        [
         false,
         "OAK",
         3.0,
         1.632745927912E12,
         "FEDEXroot",
         ">FEDEX>OAK",
         "Oakland",
         ">FEDEX",
         "",
         67.0,
         "FEDEX",
         "2021-09-24T14:38:09.290+0000",
         "FEDEX",
         "53",
         "vt1",
         "2023-04-03T09:00:34.767+0000"
        ],
        [
         false,
         "ATL",
         3.0,
         1.679407601585E12,
         "FEDEXroot",
         ">FEDEX>ATL",
         "Atlanta",
         ">FEDEX",
         "None",
         76.0,
         "FEDEX",
         "2021-09-24T14:38:09.290+0000",
         "FEDEX",
         "53",
         "vt1",
         "2023-04-03T09:00:34.767+0000"
        ],
        [
         false,
         "IND",
         3.0,
         1.632745925509E12,
         "FEDEXroot",
         ">FEDEX>IND",
         "Indianapolis",
         ">FEDEX",
         "",
         56.0,
         "FEDEX",
         "2021-09-24T14:38:09.290+0000",
         "FEDEX",
         "53",
         "vt1",
         "2023-04-03T09:00:34.767+0000"
        ],
        [
         false,
         "LAX",
         3.0,
         1.632745926279E12,
         "FEDEXroot",
         ">FEDEX>LAX",
         "Los Angeles",
         ">FEDEX",
         "",
         60.0,
         "FEDEX",
         "2021-09-24T14:38:09.290+0000",
         "FEDEX",
         "53",
         "vt1",
         "2023-04-03T09:00:34.767+0000"
        ],
        [
         false,
         "SAUDIARABIA",
         3.0,
         1.565624059545E12,
         "LUERroot",
         ">LUER>SAUDIARABIA",
         "SaudiArabia",
         ">LUER",
         "nan",
         12.0,
         "LUER",
         "2019-07-30T12:56:00.478+0000",
         "Luerssen",
         "8",
         "vt1",
         "2023-04-03T09:00:34.767+0000"
        ],
        [
         false,
         "BRUNEI",
         3.0,
         1.565624065632E12,
         "LUERroot",
         ">LUER>BRUNEI",
         "Brunei",
         ">LUER",
         "nan",
         13.0,
         "LUER",
         "2019-07-30T12:56:00.478+0000",
         "Luerssen",
         "8",
         "vt1",
         "2023-04-03T09:00:34.767+0000"
        ],
        [
         false,
         "GERMANY",
         3.0,
         1.565623788828E12,
         "LUERroot",
         ">LUER>GERMANY",
         "Germany",
         ">LUER",
         "nan",
         10.0,
         "LUER",
         "2019-07-30T12:56:00.478+0000",
         "Luerssen",
         "8",
         "vt1",
         "2023-04-03T09:00:34.767+0000"
        ],
        [
         false,
         "INDIANA",
         3.0,
         1.65106395835E12,
         "HONDAroot",
         ">HONDA>INDIANA",
         "Indiana",
         ">HONDA",
         "nan",
         74.0,
         "HONDA",
         "2022-04-26T20:27:37.287+0000",
         "HONDA",
         "73",
         "vt1",
         "2023-04-03T09:00:34.767+0000"
        ],
        [
         false,
         "MARYSVILLE",
         3.0,
         1.65106397124E12,
         "HONDAroot",
         ">HONDA>MARYSVILLE",
         "Marysville",
         ">HONDA",
         "nan",
         75.0,
         "HONDA",
         "2022-04-26T20:27:37.287+0000",
         "HONDA",
         "73",
         "vt1",
         "2023-04-03T09:00:34.767+0000"
        ],
        [
         false,
         "SAUDIARABIA",
         3.0,
         1.590422479021E12,
         "LUERSAroot",
         ">LUERSA>SAUDIARABIA",
         "SaudiArabia",
         ">LUERSA",
         "nan",
         47.0,
         "LUERSA",
         "2020-05-21T13:56:13.904+0000",
         "LuerssenSaudiArabia",
         "46",
         "vt1",
         "2023-04-03T09:00:34.767+0000"
        ],
        [
         false,
         "DEFAULTSTORE",
         3.0,
         1.577822362874E12,
         "sysconfig",
         ">MOJIX>DEFAULTSTORE",
         "Default Store",
         ">MOJIX",
         "nan",
         31.0,
         "MOJIX",
         "2019-12-31T19:59:22.874+0000",
         "MOJIX",
         "30",
         "vt1",
         "2023-04-03T09:00:34.767+0000"
        ],
        [
         false,
         "MENDEL",
         3.0,
         1.584629483206E12,
         "CTVAroot",
         ">CTVA>MENDEL",
         "Mendel",
         ">CTVA",
         "nan",
         45.0,
         "CTVA",
         "2020-03-10T18:05:38.350+0000",
         "Corteva Agriscience",
         "42",
         "vt1",
         "2023-04-03T09:00:34.767+0000"
        ],
        [
         false,
         "AUSTRIA",
         3.0,
         1.571757508733E12,
         "IKEAroot",
         ">IKEA>AUSTRIA",
         "Austria",
         ">IKEA",
         "nan",
         26.0,
         "IKEA",
         "2019-07-30T14:20:48.248+0000",
         "IKEA",
         "9",
         "vt1",
         "2023-04-03T09:00:34.767+0000"
        ],
        [
         false,
         "GERMANY",
         3.0,
         1.571757526796E12,
         "IKEAroot",
         ">IKEA>GERMANY",
         "Germany",
         ">IKEA",
         "nan",
         27.0,
         "IKEA",
         "2019-07-30T14:20:48.248+0000",
         "IKEA",
         "9",
         "vt1",
         "2023-04-03T09:00:34.767+0000"
        ],
        [
         false,
         "MEM",
         3.0,
         1.6327459271E12,
         "FEDEXroot",
         ">FEDEX>MEM",
         "Memphis",
         ">FEDEX",
         "",
         62.0,
         "FEDEX",
         "2021-09-24T14:38:09.290+0000",
         "FEDEX",
         "53",
         "vt1",
         "2023-04-04T09:00:42.624+0000"
        ],
        [
         false,
         "EWR",
         3.0,
         1.632745923922E12,
         "FEDEXroot",
         ">FEDEX>EWR",
         "Newark",
         ">FEDEX",
         "",
         54.0,
         "FEDEX",
         "2021-09-24T14:38:09.290+0000",
         "FEDEX",
         "53",
         "vt1",
         "2023-04-04T09:00:42.624+0000"
        ],
        [
         false,
         "OAK",
         3.0,
         1.632745927912E12,
         "FEDEXroot",
         ">FEDEX>OAK",
         "Oakland",
         ">FEDEX",
         "",
         67.0,
         "FEDEX",
         "2021-09-24T14:38:09.290+0000",
         "FEDEX",
         "53",
         "vt1",
         "2023-04-04T09:00:42.624+0000"
        ],
        [
         false,
         "ATL",
         3.0,
         1.679407601585E12,
         "FEDEXroot",
         ">FEDEX>ATL",
         "Atlanta",
         ">FEDEX",
         "None",
         76.0,
         "FEDEX",
         "2021-09-24T14:38:09.290+0000",
         "FEDEX",
         "53",
         "vt1",
         "2023-04-04T09:00:42.624+0000"
        ],
        [
         false,
         "IND",
         3.0,
         1.632745925509E12,
         "FEDEXroot",
         ">FEDEX>IND",
         "Indianapolis",
         ">FEDEX",
         "",
         56.0,
         "FEDEX",
         "2021-09-24T14:38:09.290+0000",
         "FEDEX",
         "53",
         "vt1",
         "2023-04-04T09:00:42.624+0000"
        ],
        [
         false,
         "LAX",
         3.0,
         1.632745926279E12,
         "FEDEXroot",
         ">FEDEX>LAX",
         "Los Angeles",
         ">FEDEX",
         "",
         60.0,
         "FEDEX",
         "2021-09-24T14:38:09.290+0000",
         "FEDEX",
         "53",
         "vt1",
         "2023-04-04T09:00:42.624+0000"
        ],
        [
         false,
         "SAUDIARABIA",
         3.0,
         1.565624059545E12,
         "LUERroot",
         ">LUER>SAUDIARABIA",
         "SaudiArabia",
         ">LUER",
         "nan",
         12.0,
         "LUER",
         "2019-07-30T12:56:00.478+0000",
         "Luerssen",
         "8",
         "vt1",
         "2023-04-04T09:00:42.624+0000"
        ],
        [
         false,
         "BRUNEI",
         3.0,
         1.565624065632E12,
         "LUERroot",
         ">LUER>BRUNEI",
         "Brunei",
         ">LUER",
         "nan",
         13.0,
         "LUER",
         "2019-07-30T12:56:00.478+0000",
         "Luerssen",
         "8",
         "vt1",
         "2023-04-04T09:00:42.624+0000"
        ],
        [
         false,
         "GERMANY",
         3.0,
         1.565623788828E12,
         "LUERroot",
         ">LUER>GERMANY",
         "Germany",
         ">LUER",
         "nan",
         10.0,
         "LUER",
         "2019-07-30T12:56:00.478+0000",
         "Luerssen",
         "8",
         "vt1",
         "2023-04-04T09:00:42.624+0000"
        ],
        [
         false,
         "MARYSVILLE",
         3.0,
         1.65106397124E12,
         "HONDAroot",
         ">HONDA>MARYSVILLE",
         "Marysville",
         ">HONDA",
         "nan",
         75.0,
         "HONDA",
         "2022-04-26T20:27:37.287+0000",
         "HONDA",
         "73",
         "vt1",
         "2023-04-04T09:00:42.624+0000"
        ],
        [
         false,
         "INDIANA",
         3.0,
         1.65106395835E12,
         "HONDAroot",
         ">HONDA>INDIANA",
         "Indiana",
         ">HONDA",
         "nan",
         74.0,
         "HONDA",
         "2022-04-26T20:27:37.287+0000",
         "HONDA",
         "73",
         "vt1",
         "2023-04-04T09:00:42.624+0000"
        ],
        [
         false,
         "SAUDIARABIA",
         3.0,
         1.590422479021E12,
         "LUERSAroot",
         ">LUERSA>SAUDIARABIA",
         "SaudiArabia",
         ">LUERSA",
         "nan",
         47.0,
         "LUERSA",
         "2020-05-21T13:56:13.904+0000",
         "LuerssenSaudiArabia",
         "46",
         "vt1",
         "2023-04-04T09:00:42.624+0000"
        ],
        [
         false,
         "DEFAULTSTORE",
         3.0,
         1.577822362874E12,
         "sysconfig",
         ">MOJIX>DEFAULTSTORE",
         "Default Store",
         ">MOJIX",
         "nan",
         31.0,
         "MOJIX",
         "2019-12-31T19:59:22.874+0000",
         "MOJIX",
         "30",
         "vt1",
         "2023-04-04T09:00:42.624+0000"
        ],
        [
         false,
         "MENDEL",
         3.0,
         1.584629483206E12,
         "CTVAroot",
         ">CTVA>MENDEL",
         "Mendel",
         ">CTVA",
         "nan",
         45.0,
         "CTVA",
         "2020-03-10T18:05:38.350+0000",
         "Corteva Agriscience",
         "42",
         "vt1",
         "2023-04-04T09:00:42.624+0000"
        ],
        [
         false,
         "AUSTRIA",
         3.0,
         1.571757508733E12,
         "IKEAroot",
         ">IKEA>AUSTRIA",
         "Austria",
         ">IKEA",
         "nan",
         26.0,
         "IKEA",
         "2019-07-30T14:20:48.248+0000",
         "IKEA",
         "9",
         "vt1",
         "2023-04-04T09:00:42.624+0000"
        ],
        [
         false,
         "GERMANY",
         3.0,
         1.571757526796E12,
         "IKEAroot",
         ">IKEA>GERMANY",
         "Germany",
         ">IKEA",
         "nan",
         27.0,
         "IKEA",
         "2019-07-30T14:20:48.248+0000",
         "IKEA",
         "9",
         "vt1",
         "2023-04-04T09:00:42.624+0000"
        ],
        [
         false,
         "ATL",
         3.0,
         1.679407601585E12,
         "FEDEXroot",
         ">FEDEX>ATL",
         "Atlanta",
         ">FEDEX",
         "None",
         76.0,
         "FEDEX",
         "2021-09-24T14:38:09.290+0000",
         "FEDEX",
         "53",
         "vt1",
         "2023-04-05T09:01:10.948+0000"
        ],
        [
         false,
         "IND",
         3.0,
         1.632745925509E12,
         "FEDEXroot",
         ">FEDEX>IND",
         "Indianapolis",
         ">FEDEX",
         "",
         56.0,
         "FEDEX",
         "2021-09-24T14:38:09.290+0000",
         "FEDEX",
         "53",
         "vt1",
         "2023-04-05T09:01:10.948+0000"
        ],
        [
         false,
         "LAX",
         3.0,
         1.632745926279E12,
         "FEDEXroot",
         ">FEDEX>LAX",
         "Los Angeles",
         ">FEDEX",
         "",
         60.0,
         "FEDEX",
         "2021-09-24T14:38:09.290+0000",
         "FEDEX",
         "53",
         "vt1",
         "2023-04-05T09:01:10.948+0000"
        ],
        [
         false,
         "MEM",
         3.0,
         1.6327459271E12,
         "FEDEXroot",
         ">FEDEX>MEM",
         "Memphis",
         ">FEDEX",
         "",
         62.0,
         "FEDEX",
         "2021-09-24T14:38:09.290+0000",
         "FEDEX",
         "53",
         "vt1",
         "2023-04-05T09:01:10.948+0000"
        ],
        [
         false,
         "EWR",
         3.0,
         1.632745923922E12,
         "FEDEXroot",
         ">FEDEX>EWR",
         "Newark",
         ">FEDEX",
         "",
         54.0,
         "FEDEX",
         "2021-09-24T14:38:09.290+0000",
         "FEDEX",
         "53",
         "vt1",
         "2023-04-05T09:01:10.948+0000"
        ],
        [
         false,
         "OAK",
         3.0,
         1.632745927912E12,
         "FEDEXroot",
         ">FEDEX>OAK",
         "Oakland",
         ">FEDEX",
         "",
         67.0,
         "FEDEX",
         "2021-09-24T14:38:09.290+0000",
         "FEDEX",
         "53",
         "vt1",
         "2023-04-05T09:01:10.948+0000"
        ],
        [
         false,
         "BRUNEI",
         3.0,
         1.565624065632E12,
         "LUERroot",
         ">LUER>BRUNEI",
         "Brunei",
         ">LUER",
         "nan",
         13.0,
         "LUER",
         "2019-07-30T12:56:00.478+0000",
         "Luerssen",
         "8",
         "vt1",
         "2023-04-05T09:01:10.948+0000"
        ],
        [
         false,
         "GERMANY",
         3.0,
         1.565623788828E12,
         "LUERroot",
         ">LUER>GERMANY",
         "Germany",
         ">LUER",
         "nan",
         10.0,
         "LUER",
         "2019-07-30T12:56:00.478+0000",
         "Luerssen",
         "8",
         "vt1",
         "2023-04-05T09:01:10.948+0000"
        ],
        [
         false,
         "SAUDIARABIA",
         3.0,
         1.565624059545E12,
         "LUERroot",
         ">LUER>SAUDIARABIA",
         "SaudiArabia",
         ">LUER",
         "nan",
         12.0,
         "LUER",
         "2019-07-30T12:56:00.478+0000",
         "Luerssen",
         "8",
         "vt1",
         "2023-04-05T09:01:10.948+0000"
        ],
        [
         false,
         "MARYSVILLE",
         3.0,
         1.65106397124E12,
         "HONDAroot",
         ">HONDA>MARYSVILLE",
         "Marysville",
         ">HONDA",
         "nan",
         75.0,
         "HONDA",
         "2022-04-26T20:27:37.287+0000",
         "HONDA",
         "73",
         "vt1",
         "2023-04-05T09:01:10.948+0000"
        ],
        [
         false,
         "INDIANA",
         3.0,
         1.65106395835E12,
         "HONDAroot",
         ">HONDA>INDIANA",
         "Indiana",
         ">HONDA",
         "nan",
         74.0,
         "HONDA",
         "2022-04-26T20:27:37.287+0000",
         "HONDA",
         "73",
         "vt1",
         "2023-04-05T09:01:10.948+0000"
        ],
        [
         false,
         "SAUDIARABIA",
         3.0,
         1.590422479021E12,
         "LUERSAroot",
         ">LUERSA>SAUDIARABIA",
         "SaudiArabia",
         ">LUERSA",
         "nan",
         47.0,
         "LUERSA",
         "2020-05-21T13:56:13.904+0000",
         "LuerssenSaudiArabia",
         "46",
         "vt1",
         "2023-04-05T09:01:10.948+0000"
        ],
        [
         false,
         "DEFAULTSTORE",
         3.0,
         1.577822362874E12,
         "sysconfig",
         ">MOJIX>DEFAULTSTORE",
         "Default Store",
         ">MOJIX",
         "nan",
         31.0,
         "MOJIX",
         "2019-12-31T19:59:22.874+0000",
         "MOJIX",
         "30",
         "vt1",
         "2023-04-05T09:01:10.948+0000"
        ],
        [
         false,
         "MENDEL",
         3.0,
         1.584629483206E12,
         "CTVAroot",
         ">CTVA>MENDEL",
         "Mendel",
         ">CTVA",
         "nan",
         45.0,
         "CTVA",
         "2020-03-10T18:05:38.350+0000",
         "Corteva Agriscience",
         "42",
         "vt1",
         "2023-04-05T09:01:10.948+0000"
        ],
        [
         false,
         "AUSTRIA",
         3.0,
         1.571757508733E12,
         "IKEAroot",
         ">IKEA>AUSTRIA",
         "Austria",
         ">IKEA",
         "nan",
         26.0,
         "IKEA",
         "2019-07-30T14:20:48.248+0000",
         "IKEA",
         "9",
         "vt1",
         "2023-04-05T09:01:10.948+0000"
        ],
        [
         false,
         "GERMANY",
         3.0,
         1.571757526796E12,
         "IKEAroot",
         ">IKEA>GERMANY",
         "Germany",
         ">IKEA",
         "nan",
         27.0,
         "IKEA",
         "2019-07-30T14:20:48.248+0000",
         "IKEA",
         "9",
         "vt1",
         "2023-04-05T09:01:10.948+0000"
        ],
        [
         false,
         "ATL",
         3.0,
         1.679407601585E12,
         "FEDEXroot",
         ">FEDEX>ATL",
         "Atlanta",
         ">FEDEX",
         "None",
         76.0,
         "FEDEX",
         "2021-09-24T14:38:09.290+0000",
         "FEDEX",
         "53",
         "vt1",
         "2023-04-06T09:00:34.249+0000"
        ],
        [
         false,
         "IND",
         3.0,
         1.632745925509E12,
         "FEDEXroot",
         ">FEDEX>IND",
         "Indianapolis",
         ">FEDEX",
         "",
         56.0,
         "FEDEX",
         "2021-09-24T14:38:09.290+0000",
         "FEDEX",
         "53",
         "vt1",
         "2023-04-06T09:00:34.249+0000"
        ],
        [
         false,
         "LAX",
         3.0,
         1.632745926279E12,
         "FEDEXroot",
         ">FEDEX>LAX",
         "Los Angeles",
         ">FEDEX",
         "",
         60.0,
         "FEDEX",
         "2021-09-24T14:38:09.290+0000",
         "FEDEX",
         "53",
         "vt1",
         "2023-04-06T09:00:34.249+0000"
        ],
        [
         false,
         "MEM",
         3.0,
         1.6327459271E12,
         "FEDEXroot",
         ">FEDEX>MEM",
         "Memphis",
         ">FEDEX",
         "",
         62.0,
         "FEDEX",
         "2021-09-24T14:38:09.290+0000",
         "FEDEX",
         "53",
         "vt1",
         "2023-04-06T09:00:34.249+0000"
        ],
        [
         false,
         "EWR",
         3.0,
         1.632745923922E12,
         "FEDEXroot",
         ">FEDEX>EWR",
         "Newark",
         ">FEDEX",
         "",
         54.0,
         "FEDEX",
         "2021-09-24T14:38:09.290+0000",
         "FEDEX",
         "53",
         "vt1",
         "2023-04-06T09:00:34.249+0000"
        ],
        [
         false,
         "OAK",
         3.0,
         1.632745927912E12,
         "FEDEXroot",
         ">FEDEX>OAK",
         "Oakland",
         ">FEDEX",
         "",
         67.0,
         "FEDEX",
         "2021-09-24T14:38:09.290+0000",
         "FEDEX",
         "53",
         "vt1",
         "2023-04-06T09:00:34.249+0000"
        ],
        [
         false,
         "SAUDIARABIA",
         3.0,
         1.565624059545E12,
         "LUERroot",
         ">LUER>SAUDIARABIA",
         "SaudiArabia",
         ">LUER",
         "nan",
         12.0,
         "LUER",
         "2019-07-30T12:56:00.478+0000",
         "Luerssen",
         "8",
         "vt1",
         "2023-04-06T09:00:34.249+0000"
        ],
        [
         false,
         "BRUNEI",
         3.0,
         1.565624065632E12,
         "LUERroot",
         ">LUER>BRUNEI",
         "Brunei",
         ">LUER",
         "nan",
         13.0,
         "LUER",
         "2019-07-30T12:56:00.478+0000",
         "Luerssen",
         "8",
         "vt1",
         "2023-04-06T09:00:34.249+0000"
        ],
        [
         false,
         "GERMANY",
         3.0,
         1.565623788828E12,
         "LUERroot",
         ">LUER>GERMANY",
         "Germany",
         ">LUER",
         "nan",
         10.0,
         "LUER",
         "2019-07-30T12:56:00.478+0000",
         "Luerssen",
         "8",
         "vt1",
         "2023-04-06T09:00:34.249+0000"
        ],
        [
         false,
         "INDIANA",
         3.0,
         1.65106395835E12,
         "HONDAroot",
         ">HONDA>INDIANA",
         "Indiana",
         ">HONDA",
         "nan",
         74.0,
         "HONDA",
         "2022-04-26T20:27:37.287+0000",
         "HONDA",
         "73",
         "vt1",
         "2023-04-06T09:00:34.249+0000"
        ],
        [
         false,
         "MARYSVILLE",
         3.0,
         1.65106397124E12,
         "HONDAroot",
         ">HONDA>MARYSVILLE",
         "Marysville",
         ">HONDA",
         "nan",
         75.0,
         "HONDA",
         "2022-04-26T20:27:37.287+0000",
         "HONDA",
         "73",
         "vt1",
         "2023-04-06T09:00:34.249+0000"
        ],
        [
         false,
         "SAUDIARABIA",
         3.0,
         1.590422479021E12,
         "LUERSAroot",
         ">LUERSA>SAUDIARABIA",
         "SaudiArabia",
         ">LUERSA",
         "nan",
         47.0,
         "LUERSA",
         "2020-05-21T13:56:13.904+0000",
         "LuerssenSaudiArabia",
         "46",
         "vt1",
         "2023-04-06T09:00:34.249+0000"
        ],
        [
         false,
         "DEFAULTSTORE",
         3.0,
         1.577822362874E12,
         "sysconfig",
         ">MOJIX>DEFAULTSTORE",
         "Default Store",
         ">MOJIX",
         "nan",
         31.0,
         "MOJIX",
         "2019-12-31T19:59:22.874+0000",
         "MOJIX",
         "30",
         "vt1",
         "2023-04-06T09:00:34.249+0000"
        ],
        [
         false,
         "MENDEL",
         3.0,
         1.584629483206E12,
         "CTVAroot",
         ">CTVA>MENDEL",
         "Mendel",
         ">CTVA",
         "nan",
         45.0,
         "CTVA",
         "2020-03-10T18:05:38.350+0000",
         "Corteva Agriscience",
         "42",
         "vt1",
         "2023-04-06T09:00:34.249+0000"
        ],
        [
         false,
         "AUSTRIA",
         3.0,
         1.571757508733E12,
         "IKEAroot",
         ">IKEA>AUSTRIA",
         "Austria",
         ">IKEA",
         "nan",
         26.0,
         "IKEA",
         "2019-07-30T14:20:48.248+0000",
         "IKEA",
         "9",
         "vt1",
         "2023-04-06T09:00:34.249+0000"
        ],
        [
         false,
         "GERMANY",
         3.0,
         1.571757526796E12,
         "IKEAroot",
         ">IKEA>GERMANY",
         "Germany",
         ">IKEA",
         "nan",
         27.0,
         "IKEA",
         "2019-07-30T14:20:48.248+0000",
         "IKEA",
         "9",
         "vt1",
         "2023-04-06T09:00:34.249+0000"
        ],
        [
         false,
         "MEM",
         3.0,
         1.6327459271E12,
         "FEDEXroot",
         ">FEDEX>MEM",
         "Memphis",
         ">FEDEX",
         "",
         62.0,
         "FEDEX",
         "2021-09-24T14:38:09.290+0000",
         "FEDEX",
         "53",
         "vt1",
         "2023-04-07T09:00:32.768+0000"
        ],
        [
         false,
         "EWR",
         3.0,
         1.632745923922E12,
         "FEDEXroot",
         ">FEDEX>EWR",
         "Newark",
         ">FEDEX",
         "",
         54.0,
         "FEDEX",
         "2021-09-24T14:38:09.290+0000",
         "FEDEX",
         "53",
         "vt1",
         "2023-04-07T09:00:32.768+0000"
        ],
        [
         false,
         "OAK",
         3.0,
         1.632745927912E12,
         "FEDEXroot",
         ">FEDEX>OAK",
         "Oakland",
         ">FEDEX",
         "",
         67.0,
         "FEDEX",
         "2021-09-24T14:38:09.290+0000",
         "FEDEX",
         "53",
         "vt1",
         "2023-04-07T09:00:32.768+0000"
        ],
        [
         false,
         "ATL",
         3.0,
         1.679407601585E12,
         "FEDEXroot",
         ">FEDEX>ATL",
         "Atlanta",
         ">FEDEX",
         "None",
         76.0,
         "FEDEX",
         "2021-09-24T14:38:09.290+0000",
         "FEDEX",
         "53",
         "vt1",
         "2023-04-07T09:00:32.768+0000"
        ],
        [
         false,
         "IND",
         3.0,
         1.632745925509E12,
         "FEDEXroot",
         ">FEDEX>IND",
         "Indianapolis",
         ">FEDEX",
         "",
         56.0,
         "FEDEX",
         "2021-09-24T14:38:09.290+0000",
         "FEDEX",
         "53",
         "vt1",
         "2023-04-07T09:00:32.768+0000"
        ],
        [
         false,
         "LAX",
         3.0,
         1.632745926279E12,
         "FEDEXroot",
         ">FEDEX>LAX",
         "Los Angeles",
         ">FEDEX",
         "",
         60.0,
         "FEDEX",
         "2021-09-24T14:38:09.290+0000",
         "FEDEX",
         "53",
         "vt1",
         "2023-04-07T09:00:32.768+0000"
        ],
        [
         false,
         "BRUNEI",
         3.0,
         1.565624065632E12,
         "LUERroot",
         ">LUER>BRUNEI",
         "Brunei",
         ">LUER",
         "nan",
         13.0,
         "LUER",
         "2019-07-30T12:56:00.478+0000",
         "Luerssen",
         "8",
         "vt1",
         "2023-04-07T09:00:32.768+0000"
        ],
        [
         false,
         "GERMANY",
         3.0,
         1.565623788828E12,
         "LUERroot",
         ">LUER>GERMANY",
         "Germany",
         ">LUER",
         "nan",
         10.0,
         "LUER",
         "2019-07-30T12:56:00.478+0000",
         "Luerssen",
         "8",
         "vt1",
         "2023-04-07T09:00:32.768+0000"
        ],
        [
         false,
         "SAUDIARABIA",
         3.0,
         1.565624059545E12,
         "LUERroot",
         ">LUER>SAUDIARABIA",
         "SaudiArabia",
         ">LUER",
         "nan",
         12.0,
         "LUER",
         "2019-07-30T12:56:00.478+0000",
         "Luerssen",
         "8",
         "vt1",
         "2023-04-07T09:00:32.768+0000"
        ],
        [
         false,
         "MARYSVILLE",
         3.0,
         1.65106397124E12,
         "HONDAroot",
         ">HONDA>MARYSVILLE",
         "Marysville",
         ">HONDA",
         "nan",
         75.0,
         "HONDA",
         "2022-04-26T20:27:37.287+0000",
         "HONDA",
         "73",
         "vt1",
         "2023-04-07T09:00:32.768+0000"
        ],
        [
         false,
         "INDIANA",
         3.0,
         1.65106395835E12,
         "HONDAroot",
         ">HONDA>INDIANA",
         "Indiana",
         ">HONDA",
         "nan",
         74.0,
         "HONDA",
         "2022-04-26T20:27:37.287+0000",
         "HONDA",
         "73",
         "vt1",
         "2023-04-07T09:00:32.768+0000"
        ],
        [
         false,
         "SAUDIARABIA",
         3.0,
         1.590422479021E12,
         "LUERSAroot",
         ">LUERSA>SAUDIARABIA",
         "SaudiArabia",
         ">LUERSA",
         "nan",
         47.0,
         "LUERSA",
         "2020-05-21T13:56:13.904+0000",
         "LuerssenSaudiArabia",
         "46",
         "vt1",
         "2023-04-07T09:00:32.768+0000"
        ],
        [
         false,
         "DEFAULTSTORE",
         3.0,
         1.577822362874E12,
         "sysconfig",
         ">MOJIX>DEFAULTSTORE",
         "Default Store",
         ">MOJIX",
         "nan",
         31.0,
         "MOJIX",
         "2019-12-31T19:59:22.874+0000",
         "MOJIX",
         "30",
         "vt1",
         "2023-04-07T09:00:32.768+0000"
        ],
        [
         false,
         "MENDEL",
         3.0,
         1.584629483206E12,
         "CTVAroot",
         ">CTVA>MENDEL",
         "Mendel",
         ">CTVA",
         "nan",
         45.0,
         "CTVA",
         "2020-03-10T18:05:38.350+0000",
         "Corteva Agriscience",
         "42",
         "vt1",
         "2023-04-07T09:00:32.768+0000"
        ],
        [
         false,
         "AUSTRIA",
         3.0,
         1.571757508733E12,
         "IKEAroot",
         ">IKEA>AUSTRIA",
         "Austria",
         ">IKEA",
         "nan",
         26.0,
         "IKEA",
         "2019-07-30T14:20:48.248+0000",
         "IKEA",
         "9",
         "vt1",
         "2023-04-07T09:00:32.768+0000"
        ],
        [
         false,
         "GERMANY",
         3.0,
         1.571757526796E12,
         "IKEAroot",
         ">IKEA>GERMANY",
         "Germany",
         ">IKEA",
         "nan",
         27.0,
         "IKEA",
         "2019-07-30T14:20:48.248+0000",
         "IKEA",
         "9",
         "vt1",
         "2023-04-07T09:00:32.768+0000"
        ],
        [
         false,
         "MEM",
         3.0,
         1.6327459271E12,
         "FEDEXroot",
         ">FEDEX>MEM",
         "Memphis",
         ">FEDEX",
         "",
         62.0,
         "FEDEX",
         "2021-09-24T14:38:09.290+0000",
         "FEDEX",
         "53",
         "vt1",
         "2023-04-08T09:00:31.816+0000"
        ],
        [
         false,
         "EWR",
         3.0,
         1.632745923922E12,
         "FEDEXroot",
         ">FEDEX>EWR",
         "Newark",
         ">FEDEX",
         "",
         54.0,
         "FEDEX",
         "2021-09-24T14:38:09.290+0000",
         "FEDEX",
         "53",
         "vt1",
         "2023-04-08T09:00:31.816+0000"
        ],
        [
         false,
         "OAK",
         3.0,
         1.632745927912E12,
         "FEDEXroot",
         ">FEDEX>OAK",
         "Oakland",
         ">FEDEX",
         "",
         67.0,
         "FEDEX",
         "2021-09-24T14:38:09.290+0000",
         "FEDEX",
         "53",
         "vt1",
         "2023-04-08T09:00:31.816+0000"
        ],
        [
         false,
         "ATL",
         3.0,
         1.679407601585E12,
         "FEDEXroot",
         ">FEDEX>ATL",
         "Atlanta",
         ">FEDEX",
         "None",
         76.0,
         "FEDEX",
         "2021-09-24T14:38:09.290+0000",
         "FEDEX",
         "53",
         "vt1",
         "2023-04-08T09:00:31.816+0000"
        ],
        [
         false,
         "IND",
         3.0,
         1.632745925509E12,
         "FEDEXroot",
         ">FEDEX>IND",
         "Indianapolis",
         ">FEDEX",
         "",
         56.0,
         "FEDEX",
         "2021-09-24T14:38:09.290+0000",
         "FEDEX",
         "53",
         "vt1",
         "2023-04-08T09:00:31.816+0000"
        ],
        [
         false,
         "LAX",
         3.0,
         1.632745926279E12,
         "FEDEXroot",
         ">FEDEX>LAX",
         "Los Angeles",
         ">FEDEX",
         "",
         60.0,
         "FEDEX",
         "2021-09-24T14:38:09.290+0000",
         "FEDEX",
         "53",
         "vt1",
         "2023-04-08T09:00:31.816+0000"
        ],
        [
         false,
         "BRUNEI",
         3.0,
         1.565624065632E12,
         "LUERroot",
         ">LUER>BRUNEI",
         "Brunei",
         ">LUER",
         "nan",
         13.0,
         "LUER",
         "2019-07-30T12:56:00.478+0000",
         "Luerssen",
         "8",
         "vt1",
         "2023-04-08T09:00:31.816+0000"
        ],
        [
         false,
         "GERMANY",
         3.0,
         1.565623788828E12,
         "LUERroot",
         ">LUER>GERMANY",
         "Germany",
         ">LUER",
         "nan",
         10.0,
         "LUER",
         "2019-07-30T12:56:00.478+0000",
         "Luerssen",
         "8",
         "vt1",
         "2023-04-08T09:00:31.816+0000"
        ],
        [
         false,
         "SAUDIARABIA",
         3.0,
         1.565624059545E12,
         "LUERroot",
         ">LUER>SAUDIARABIA",
         "SaudiArabia",
         ">LUER",
         "nan",
         12.0,
         "LUER",
         "2019-07-30T12:56:00.478+0000",
         "Luerssen",
         "8",
         "vt1",
         "2023-04-08T09:00:31.816+0000"
        ],
        [
         false,
         "MARYSVILLE",
         3.0,
         1.65106397124E12,
         "HONDAroot",
         ">HONDA>MARYSVILLE",
         "Marysville",
         ">HONDA",
         "nan",
         75.0,
         "HONDA",
         "2022-04-26T20:27:37.287+0000",
         "HONDA",
         "73",
         "vt1",
         "2023-04-08T09:00:31.816+0000"
        ],
        [
         false,
         "INDIANA",
         3.0,
         1.65106395835E12,
         "HONDAroot",
         ">HONDA>INDIANA",
         "Indiana",
         ">HONDA",
         "nan",
         74.0,
         "HONDA",
         "2022-04-26T20:27:37.287+0000",
         "HONDA",
         "73",
         "vt1",
         "2023-04-08T09:00:31.816+0000"
        ],
        [
         false,
         "SAUDIARABIA",
         3.0,
         1.590422479021E12,
         "LUERSAroot",
         ">LUERSA>SAUDIARABIA",
         "SaudiArabia",
         ">LUERSA",
         "nan",
         47.0,
         "LUERSA",
         "2020-05-21T13:56:13.904+0000",
         "LuerssenSaudiArabia",
         "46",
         "vt1",
         "2023-04-08T09:00:31.816+0000"
        ],
        [
         false,
         "DEFAULTSTORE",
         3.0,
         1.577822362874E12,
         "sysconfig",
         ">MOJIX>DEFAULTSTORE",
         "Default Store",
         ">MOJIX",
         "nan",
         31.0,
         "MOJIX",
         "2019-12-31T19:59:22.874+0000",
         "MOJIX",
         "30",
         "vt1",
         "2023-04-08T09:00:31.816+0000"
        ],
        [
         false,
         "MENDEL",
         3.0,
         1.584629483206E12,
         "CTVAroot",
         ">CTVA>MENDEL",
         "Mendel",
         ">CTVA",
         "nan",
         45.0,
         "CTVA",
         "2020-03-10T18:05:38.350+0000",
         "Corteva Agriscience",
         "42",
         "vt1",
         "2023-04-08T09:00:31.816+0000"
        ],
        [
         false,
         "AUSTRIA",
         3.0,
         1.571757508733E12,
         "IKEAroot",
         ">IKEA>AUSTRIA",
         "Austria",
         ">IKEA",
         "nan",
         26.0,
         "IKEA",
         "2019-07-30T14:20:48.248+0000",
         "IKEA",
         "9",
         "vt1",
         "2023-04-08T09:00:31.816+0000"
        ],
        [
         false,
         "GERMANY",
         3.0,
         1.571757526796E12,
         "IKEAroot",
         ">IKEA>GERMANY",
         "Germany",
         ">IKEA",
         "nan",
         27.0,
         "IKEA",
         "2019-07-30T14:20:48.248+0000",
         "IKEA",
         "9",
         "vt1",
         "2023-04-08T09:00:31.816+0000"
        ],
        [
         false,
         "MEM",
         3.0,
         1.6327459271E12,
         "FEDEXroot",
         ">FEDEX>MEM",
         "Memphis",
         ">FEDEX",
         "",
         62.0,
         "FEDEX",
         "2021-09-24T14:38:09.290+0000",
         "FEDEX",
         "53",
         "vt1",
         "2023-04-09T09:01:09.652+0000"
        ],
        [
         false,
         "EWR",
         3.0,
         1.632745923922E12,
         "FEDEXroot",
         ">FEDEX>EWR",
         "Newark",
         ">FEDEX",
         "",
         54.0,
         "FEDEX",
         "2021-09-24T14:38:09.290+0000",
         "FEDEX",
         "53",
         "vt1",
         "2023-04-09T09:01:09.652+0000"
        ],
        [
         false,
         "OAK",
         3.0,
         1.632745927912E12,
         "FEDEXroot",
         ">FEDEX>OAK",
         "Oakland",
         ">FEDEX",
         "",
         67.0,
         "FEDEX",
         "2021-09-24T14:38:09.290+0000",
         "FEDEX",
         "53",
         "vt1",
         "2023-04-09T09:01:09.652+0000"
        ],
        [
         false,
         "ATL",
         3.0,
         1.679407601585E12,
         "FEDEXroot",
         ">FEDEX>ATL",
         "Atlanta",
         ">FEDEX",
         "None",
         76.0,
         "FEDEX",
         "2021-09-24T14:38:09.290+0000",
         "FEDEX",
         "53",
         "vt1",
         "2023-04-09T09:01:09.652+0000"
        ],
        [
         false,
         "IND",
         3.0,
         1.632745925509E12,
         "FEDEXroot",
         ">FEDEX>IND",
         "Indianapolis",
         ">FEDEX",
         "",
         56.0,
         "FEDEX",
         "2021-09-24T14:38:09.290+0000",
         "FEDEX",
         "53",
         "vt1",
         "2023-04-09T09:01:09.652+0000"
        ],
        [
         false,
         "LAX",
         3.0,
         1.632745926279E12,
         "FEDEXroot",
         ">FEDEX>LAX",
         "Los Angeles",
         ">FEDEX",
         "",
         60.0,
         "FEDEX",
         "2021-09-24T14:38:09.290+0000",
         "FEDEX",
         "53",
         "vt1",
         "2023-04-09T09:01:09.652+0000"
        ],
        [
         false,
         "BRUNEI",
         3.0,
         1.565624065632E12,
         "LUERroot",
         ">LUER>BRUNEI",
         "Brunei",
         ">LUER",
         "nan",
         13.0,
         "LUER",
         "2019-07-30T12:56:00.478+0000",
         "Luerssen",
         "8",
         "vt1",
         "2023-04-09T09:01:09.652+0000"
        ],
        [
         false,
         "GERMANY",
         3.0,
         1.565623788828E12,
         "LUERroot",
         ">LUER>GERMANY",
         "Germany",
         ">LUER",
         "nan",
         10.0,
         "LUER",
         "2019-07-30T12:56:00.478+0000",
         "Luerssen",
         "8",
         "vt1",
         "2023-04-09T09:01:09.652+0000"
        ],
        [
         false,
         "SAUDIARABIA",
         3.0,
         1.565624059545E12,
         "LUERroot",
         ">LUER>SAUDIARABIA",
         "SaudiArabia",
         ">LUER",
         "nan",
         12.0,
         "LUER",
         "2019-07-30T12:56:00.478+0000",
         "Luerssen",
         "8",
         "vt1",
         "2023-04-09T09:01:09.652+0000"
        ],
        [
         false,
         "INDIANA",
         3.0,
         1.65106395835E12,
         "HONDAroot",
         ">HONDA>INDIANA",
         "Indiana",
         ">HONDA",
         "nan",
         74.0,
         "HONDA",
         "2022-04-26T20:27:37.287+0000",
         "HONDA",
         "73",
         "vt1",
         "2023-04-09T09:01:09.652+0000"
        ],
        [
         false,
         "MARYSVILLE",
         3.0,
         1.65106397124E12,
         "HONDAroot",
         ">HONDA>MARYSVILLE",
         "Marysville",
         ">HONDA",
         "nan",
         75.0,
         "HONDA",
         "2022-04-26T20:27:37.287+0000",
         "HONDA",
         "73",
         "vt1",
         "2023-04-09T09:01:09.652+0000"
        ],
        [
         false,
         "SAUDIARABIA",
         3.0,
         1.590422479021E12,
         "LUERSAroot",
         ">LUERSA>SAUDIARABIA",
         "SaudiArabia",
         ">LUERSA",
         "nan",
         47.0,
         "LUERSA",
         "2020-05-21T13:56:13.904+0000",
         "LuerssenSaudiArabia",
         "46",
         "vt1",
         "2023-04-09T09:01:09.652+0000"
        ],
        [
         false,
         "DEFAULTSTORE",
         3.0,
         1.577822362874E12,
         "sysconfig",
         ">MOJIX>DEFAULTSTORE",
         "Default Store",
         ">MOJIX",
         "nan",
         31.0,
         "MOJIX",
         "2019-12-31T19:59:22.874+0000",
         "MOJIX",
         "30",
         "vt1",
         "2023-04-09T09:01:09.652+0000"
        ],
        [
         false,
         "MENDEL",
         3.0,
         1.584629483206E12,
         "CTVAroot",
         ">CTVA>MENDEL",
         "Mendel",
         ">CTVA",
         "nan",
         45.0,
         "CTVA",
         "2020-03-10T18:05:38.350+0000",
         "Corteva Agriscience",
         "42",
         "vt1",
         "2023-04-09T09:01:09.652+0000"
        ],
        [
         false,
         "AUSTRIA",
         3.0,
         1.571757508733E12,
         "IKEAroot",
         ">IKEA>AUSTRIA",
         "Austria",
         ">IKEA",
         "nan",
         26.0,
         "IKEA",
         "2019-07-30T14:20:48.248+0000",
         "IKEA",
         "9",
         "vt1",
         "2023-04-09T09:01:09.652+0000"
        ],
        [
         false,
         "GERMANY",
         3.0,
         1.571757526796E12,
         "IKEAroot",
         ">IKEA>GERMANY",
         "Germany",
         ">IKEA",
         "nan",
         27.0,
         "IKEA",
         "2019-07-30T14:20:48.248+0000",
         "IKEA",
         "9",
         "vt1",
         "2023-04-09T09:01:09.652+0000"
        ],
        [
         false,
         "ATL",
         3.0,
         1.679407601585E12,
         "FEDEXroot",
         ">FEDEX>ATL",
         "Atlanta",
         ">FEDEX",
         "None",
         76.0,
         "FEDEX",
         "2021-09-24T14:38:09.290+0000",
         "FEDEX",
         "53",
         "vt1",
         "2023-04-10T09:00:51.627+0000"
        ],
        [
         false,
         "IND",
         3.0,
         1.632745925509E12,
         "FEDEXroot",
         ">FEDEX>IND",
         "Indianapolis",
         ">FEDEX",
         "",
         56.0,
         "FEDEX",
         "2021-09-24T14:38:09.290+0000",
         "FEDEX",
         "53",
         "vt1",
         "2023-04-10T09:00:51.627+0000"
        ],
        [
         false,
         "LAX",
         3.0,
         1.632745926279E12,
         "FEDEXroot",
         ">FEDEX>LAX",
         "Los Angeles",
         ">FEDEX",
         "",
         60.0,
         "FEDEX",
         "2021-09-24T14:38:09.290+0000",
         "FEDEX",
         "53",
         "vt1",
         "2023-04-10T09:00:51.627+0000"
        ],
        [
         false,
         "MEM",
         3.0,
         1.6327459271E12,
         "FEDEXroot",
         ">FEDEX>MEM",
         "Memphis",
         ">FEDEX",
         "",
         62.0,
         "FEDEX",
         "2021-09-24T14:38:09.290+0000",
         "FEDEX",
         "53",
         "vt1",
         "2023-04-10T09:00:51.627+0000"
        ],
        [
         false,
         "EWR",
         3.0,
         1.632745923922E12,
         "FEDEXroot",
         ">FEDEX>EWR",
         "Newark",
         ">FEDEX",
         "",
         54.0,
         "FEDEX",
         "2021-09-24T14:38:09.290+0000",
         "FEDEX",
         "53",
         "vt1",
         "2023-04-10T09:00:51.627+0000"
        ],
        [
         false,
         "OAK",
         3.0,
         1.632745927912E12,
         "FEDEXroot",
         ">FEDEX>OAK",
         "Oakland",
         ">FEDEX",
         "",
         67.0,
         "FEDEX",
         "2021-09-24T14:38:09.290+0000",
         "FEDEX",
         "53",
         "vt1",
         "2023-04-10T09:00:51.627+0000"
        ],
        [
         false,
         "BRUNEI",
         3.0,
         1.565624065632E12,
         "LUERroot",
         ">LUER>BRUNEI",
         "Brunei",
         ">LUER",
         "nan",
         13.0,
         "LUER",
         "2019-07-30T12:56:00.478+0000",
         "Luerssen",
         "8",
         "vt1",
         "2023-04-10T09:00:51.627+0000"
        ],
        [
         false,
         "GERMANY",
         3.0,
         1.565623788828E12,
         "LUERroot",
         ">LUER>GERMANY",
         "Germany",
         ">LUER",
         "nan",
         10.0,
         "LUER",
         "2019-07-30T12:56:00.478+0000",
         "Luerssen",
         "8",
         "vt1",
         "2023-04-10T09:00:51.627+0000"
        ],
        [
         false,
         "SAUDIARABIA",
         3.0,
         1.565624059545E12,
         "LUERroot",
         ">LUER>SAUDIARABIA",
         "SaudiArabia",
         ">LUER",
         "nan",
         12.0,
         "LUER",
         "2019-07-30T12:56:00.478+0000",
         "Luerssen",
         "8",
         "vt1",
         "2023-04-10T09:00:51.627+0000"
        ],
        [
         false,
         "MARYSVILLE",
         3.0,
         1.65106397124E12,
         "HONDAroot",
         ">HONDA>MARYSVILLE",
         "Marysville",
         ">HONDA",
         "nan",
         75.0,
         "HONDA",
         "2022-04-26T20:27:37.287+0000",
         "HONDA",
         "73",
         "vt1",
         "2023-04-10T09:00:51.627+0000"
        ],
        [
         false,
         "INDIANA",
         3.0,
         1.65106395835E12,
         "HONDAroot",
         ">HONDA>INDIANA",
         "Indiana",
         ">HONDA",
         "nan",
         74.0,
         "HONDA",
         "2022-04-26T20:27:37.287+0000",
         "HONDA",
         "73",
         "vt1",
         "2023-04-10T09:00:51.627+0000"
        ],
        [
         false,
         "SAUDIARABIA",
         3.0,
         1.590422479021E12,
         "LUERSAroot",
         ">LUERSA>SAUDIARABIA",
         "SaudiArabia",
         ">LUERSA",
         "nan",
         47.0,
         "LUERSA",
         "2020-05-21T13:56:13.904+0000",
         "LuerssenSaudiArabia",
         "46",
         "vt1",
         "2023-04-10T09:00:51.627+0000"
        ],
        [
         false,
         "DEFAULTSTORE",
         3.0,
         1.577822362874E12,
         "sysconfig",
         ">MOJIX>DEFAULTSTORE",
         "Default Store",
         ">MOJIX",
         "nan",
         31.0,
         "MOJIX",
         "2019-12-31T19:59:22.874+0000",
         "MOJIX",
         "30",
         "vt1",
         "2023-04-10T09:00:51.627+0000"
        ],
        [
         false,
         "MENDEL",
         3.0,
         1.584629483206E12,
         "CTVAroot",
         ">CTVA>MENDEL",
         "Mendel",
         ">CTVA",
         "nan",
         45.0,
         "CTVA",
         "2020-03-10T18:05:38.350+0000",
         "Corteva Agriscience",
         "42",
         "vt1",
         "2023-04-10T09:00:51.627+0000"
        ],
        [
         false,
         "AUSTRIA",
         3.0,
         1.571757508733E12,
         "IKEAroot",
         ">IKEA>AUSTRIA",
         "Austria",
         ">IKEA",
         "nan",
         26.0,
         "IKEA",
         "2019-07-30T14:20:48.248+0000",
         "IKEA",
         "9",
         "vt1",
         "2023-04-10T09:00:51.627+0000"
        ],
        [
         false,
         "GERMANY",
         3.0,
         1.571757526796E12,
         "IKEAroot",
         ">IKEA>GERMANY",
         "Germany",
         ">IKEA",
         "nan",
         27.0,
         "IKEA",
         "2019-07-30T14:20:48.248+0000",
         "IKEA",
         "9",
         "vt1",
         "2023-04-10T09:00:51.627+0000"
        ],
        [
         false,
         "ATL",
         3.0,
         1.679407601585E12,
         "FEDEXroot",
         ">FEDEX>ATL",
         "Atlanta",
         ">FEDEX",
         "None",
         76.0,
         "FEDEX",
         "2021-09-24T14:38:09.290+0000",
         "FEDEX",
         "53",
         "vt1",
         "2023-04-11T09:01:15.754+0000"
        ],
        [
         false,
         "IND",
         3.0,
         1.632745925509E12,
         "FEDEXroot",
         ">FEDEX>IND",
         "Indianapolis",
         ">FEDEX",
         "",
         56.0,
         "FEDEX",
         "2021-09-24T14:38:09.290+0000",
         "FEDEX",
         "53",
         "vt1",
         "2023-04-11T09:01:15.754+0000"
        ],
        [
         false,
         "LAX",
         3.0,
         1.632745926279E12,
         "FEDEXroot",
         ">FEDEX>LAX",
         "Los Angeles",
         ">FEDEX",
         "",
         60.0,
         "FEDEX",
         "2021-09-24T14:38:09.290+0000",
         "FEDEX",
         "53",
         "vt1",
         "2023-04-11T09:01:15.754+0000"
        ],
        [
         false,
         "MEM",
         3.0,
         1.6327459271E12,
         "FEDEXroot",
         ">FEDEX>MEM",
         "Memphis",
         ">FEDEX",
         "",
         62.0,
         "FEDEX",
         "2021-09-24T14:38:09.290+0000",
         "FEDEX",
         "53",
         "vt1",
         "2023-04-11T09:01:15.754+0000"
        ],
        [
         false,
         "EWR",
         3.0,
         1.632745923922E12,
         "FEDEXroot",
         ">FEDEX>EWR",
         "Newark",
         ">FEDEX",
         "",
         54.0,
         "FEDEX",
         "2021-09-24T14:38:09.290+0000",
         "FEDEX",
         "53",
         "vt1",
         "2023-04-11T09:01:15.754+0000"
        ],
        [
         false,
         "OAK",
         3.0,
         1.632745927912E12,
         "FEDEXroot",
         ">FEDEX>OAK",
         "Oakland",
         ">FEDEX",
         "",
         67.0,
         "FEDEX",
         "2021-09-24T14:38:09.290+0000",
         "FEDEX",
         "53",
         "vt1",
         "2023-04-11T09:01:15.754+0000"
        ],
        [
         false,
         "BRUNEI",
         3.0,
         1.565624065632E12,
         "LUERroot",
         ">LUER>BRUNEI",
         "Brunei",
         ">LUER",
         "nan",
         13.0,
         "LUER",
         "2019-07-30T12:56:00.478+0000",
         "Luerssen",
         "8",
         "vt1",
         "2023-04-11T09:01:15.754+0000"
        ],
        [
         false,
         "GERMANY",
         3.0,
         1.565623788828E12,
         "LUERroot",
         ">LUER>GERMANY",
         "Germany",
         ">LUER",
         "nan",
         10.0,
         "LUER",
         "2019-07-30T12:56:00.478+0000",
         "Luerssen",
         "8",
         "vt1",
         "2023-04-11T09:01:15.754+0000"
        ],
        [
         false,
         "SAUDIARABIA",
         3.0,
         1.565624059545E12,
         "LUERroot",
         ">LUER>SAUDIARABIA",
         "SaudiArabia",
         ">LUER",
         "nan",
         12.0,
         "LUER",
         "2019-07-30T12:56:00.478+0000",
         "Luerssen",
         "8",
         "vt1",
         "2023-04-11T09:01:15.754+0000"
        ],
        [
         false,
         "MARYSVILLE",
         3.0,
         1.65106397124E12,
         "HONDAroot",
         ">HONDA>MARYSVILLE",
         "Marysville",
         ">HONDA",
         "nan",
         75.0,
         "HONDA",
         "2022-04-26T20:27:37.287+0000",
         "HONDA",
         "73",
         "vt1",
         "2023-04-11T09:01:15.754+0000"
        ],
        [
         false,
         "INDIANA",
         3.0,
         1.65106395835E12,
         "HONDAroot",
         ">HONDA>INDIANA",
         "Indiana",
         ">HONDA",
         "nan",
         74.0,
         "HONDA",
         "2022-04-26T20:27:37.287+0000",
         "HONDA",
         "73",
         "vt1",
         "2023-04-11T09:01:15.754+0000"
        ],
        [
         false,
         "SAUDIARABIA",
         3.0,
         1.590422479021E12,
         "LUERSAroot",
         ">LUERSA>SAUDIARABIA",
         "SaudiArabia",
         ">LUERSA",
         "nan",
         47.0,
         "LUERSA",
         "2020-05-21T13:56:13.904+0000",
         "LuerssenSaudiArabia",
         "46",
         "vt1",
         "2023-04-11T09:01:15.754+0000"
        ],
        [
         false,
         "DEFAULTSTORE",
         3.0,
         1.577822362874E12,
         "sysconfig",
         ">MOJIX>DEFAULTSTORE",
         "Default Store",
         ">MOJIX",
         "nan",
         31.0,
         "MOJIX",
         "2019-12-31T19:59:22.874+0000",
         "MOJIX",
         "30",
         "vt1",
         "2023-04-11T09:01:15.754+0000"
        ],
        [
         false,
         "MENDEL",
         3.0,
         1.584629483206E12,
         "CTVAroot",
         ">CTVA>MENDEL",
         "Mendel",
         ">CTVA",
         "nan",
         45.0,
         "CTVA",
         "2020-03-10T18:05:38.350+0000",
         "Corteva Agriscience",
         "42",
         "vt1",
         "2023-04-11T09:01:15.754+0000"
        ],
        [
         false,
         "AUSTRIA",
         3.0,
         1.571757508733E12,
         "IKEAroot",
         ">IKEA>AUSTRIA",
         "Austria",
         ">IKEA",
         "nan",
         26.0,
         "IKEA",
         "2019-07-30T14:20:48.248+0000",
         "IKEA",
         "9",
         "vt1",
         "2023-04-11T09:01:15.754+0000"
        ],
        [
         false,
         "GERMANY",
         3.0,
         1.571757526796E12,
         "IKEAroot",
         ">IKEA>GERMANY",
         "Germany",
         ">IKEA",
         "nan",
         27.0,
         "IKEA",
         "2019-07-30T14:20:48.248+0000",
         "IKEA",
         "9",
         "vt1",
         "2023-04-11T09:01:15.754+0000"
        ],
        [
         false,
         "ATL",
         3.0,
         1.679407601585E12,
         "FEDEXroot",
         ">FEDEX>ATL",
         "Atlanta",
         ">FEDEX",
         "None",
         76.0,
         "FEDEX",
         "2021-09-24T14:38:09.290+0000",
         "FEDEX",
         "53",
         "vt1",
         "2023-04-12T09:00:29.906+0000"
        ],
        [
         false,
         "IND",
         3.0,
         1.632745925509E12,
         "FEDEXroot",
         ">FEDEX>IND",
         "Indianapolis",
         ">FEDEX",
         "",
         56.0,
         "FEDEX",
         "2021-09-24T14:38:09.290+0000",
         "FEDEX",
         "53",
         "vt1",
         "2023-04-12T09:00:29.906+0000"
        ],
        [
         false,
         "LAX",
         3.0,
         1.632745926279E12,
         "FEDEXroot",
         ">FEDEX>LAX",
         "Los Angeles",
         ">FEDEX",
         "",
         60.0,
         "FEDEX",
         "2021-09-24T14:38:09.290+0000",
         "FEDEX",
         "53",
         "vt1",
         "2023-04-12T09:00:29.906+0000"
        ],
        [
         false,
         "MEM",
         3.0,
         1.6327459271E12,
         "FEDEXroot",
         ">FEDEX>MEM",
         "Memphis",
         ">FEDEX",
         "",
         62.0,
         "FEDEX",
         "2021-09-24T14:38:09.290+0000",
         "FEDEX",
         "53",
         "vt1",
         "2023-04-12T09:00:29.906+0000"
        ],
        [
         false,
         "EWR",
         3.0,
         1.632745923922E12,
         "FEDEXroot",
         ">FEDEX>EWR",
         "Newark",
         ">FEDEX",
         "",
         54.0,
         "FEDEX",
         "2021-09-24T14:38:09.290+0000",
         "FEDEX",
         "53",
         "vt1",
         "2023-04-12T09:00:29.906+0000"
        ],
        [
         false,
         "OAK",
         3.0,
         1.632745927912E12,
         "FEDEXroot",
         ">FEDEX>OAK",
         "Oakland",
         ">FEDEX",
         "",
         67.0,
         "FEDEX",
         "2021-09-24T14:38:09.290+0000",
         "FEDEX",
         "53",
         "vt1",
         "2023-04-12T09:00:29.906+0000"
        ],
        [
         false,
         "BRUNEI",
         3.0,
         1.565624065632E12,
         "LUERroot",
         ">LUER>BRUNEI",
         "Brunei",
         ">LUER",
         "nan",
         13.0,
         "LUER",
         "2019-07-30T12:56:00.478+0000",
         "Luerssen",
         "8",
         "vt1",
         "2023-04-12T09:00:29.906+0000"
        ],
        [
         false,
         "GERMANY",
         3.0,
         1.565623788828E12,
         "LUERroot",
         ">LUER>GERMANY",
         "Germany",
         ">LUER",
         "nan",
         10.0,
         "LUER",
         "2019-07-30T12:56:00.478+0000",
         "Luerssen",
         "8",
         "vt1",
         "2023-04-12T09:00:29.906+0000"
        ],
        [
         false,
         "SAUDIARABIA",
         3.0,
         1.565624059545E12,
         "LUERroot",
         ">LUER>SAUDIARABIA",
         "SaudiArabia",
         ">LUER",
         "nan",
         12.0,
         "LUER",
         "2019-07-30T12:56:00.478+0000",
         "Luerssen",
         "8",
         "vt1",
         "2023-04-12T09:00:29.906+0000"
        ],
        [
         false,
         "MARYSVILLE",
         3.0,
         1.65106397124E12,
         "HONDAroot",
         ">HONDA>MARYSVILLE",
         "Marysville",
         ">HONDA",
         "nan",
         75.0,
         "HONDA",
         "2022-04-26T20:27:37.287+0000",
         "HONDA",
         "73",
         "vt1",
         "2023-04-12T09:00:29.906+0000"
        ],
        [
         false,
         "INDIANA",
         3.0,
         1.65106395835E12,
         "HONDAroot",
         ">HONDA>INDIANA",
         "Indiana",
         ">HONDA",
         "nan",
         74.0,
         "HONDA",
         "2022-04-26T20:27:37.287+0000",
         "HONDA",
         "73",
         "vt1",
         "2023-04-12T09:00:29.906+0000"
        ],
        [
         false,
         "SAUDIARABIA",
         3.0,
         1.590422479021E12,
         "LUERSAroot",
         ">LUERSA>SAUDIARABIA",
         "SaudiArabia",
         ">LUERSA",
         "nan",
         47.0,
         "LUERSA",
         "2020-05-21T13:56:13.904+0000",
         "LuerssenSaudiArabia",
         "46",
         "vt1",
         "2023-04-12T09:00:29.906+0000"
        ],
        [
         false,
         "DEFAULTSTORE",
         3.0,
         1.577822362874E12,
         "sysconfig",
         ">MOJIX>DEFAULTSTORE",
         "Default Store",
         ">MOJIX",
         "nan",
         31.0,
         "MOJIX",
         "2019-12-31T19:59:22.874+0000",
         "MOJIX",
         "30",
         "vt1",
         "2023-04-12T09:00:29.906+0000"
        ],
        [
         false,
         "MENDEL",
         3.0,
         1.584629483206E12,
         "CTVAroot",
         ">CTVA>MENDEL",
         "Mendel",
         ">CTVA",
         "nan",
         45.0,
         "CTVA",
         "2020-03-10T18:05:38.350+0000",
         "Corteva Agriscience",
         "42",
         "vt1",
         "2023-04-12T09:00:29.906+0000"
        ],
        [
         false,
         "AUSTRIA",
         3.0,
         1.571757508733E12,
         "IKEAroot",
         ">IKEA>AUSTRIA",
         "Austria",
         ">IKEA",
         "nan",
         26.0,
         "IKEA",
         "2019-07-30T14:20:48.248+0000",
         "IKEA",
         "9",
         "vt1",
         "2023-04-12T09:00:29.906+0000"
        ],
        [
         false,
         "GERMANY",
         3.0,
         1.571757526796E12,
         "IKEAroot",
         ">IKEA>GERMANY",
         "Germany",
         ">IKEA",
         "nan",
         27.0,
         "IKEA",
         "2019-07-30T14:20:48.248+0000",
         "IKEA",
         "9",
         "vt1",
         "2023-04-12T09:00:29.906+0000"
        ],
        [
         false,
         "MEM",
         3.0,
         1.6327459271E12,
         "FEDEXroot",
         ">FEDEX>MEM",
         "Memphis",
         ">FEDEX",
         "",
         62.0,
         "FEDEX",
         "2021-09-24T14:38:09.290+0000",
         "FEDEX",
         "53",
         "vt1",
         "2023-04-13T09:00:33.783+0000"
        ],
        [
         false,
         "EWR",
         3.0,
         1.632745923922E12,
         "FEDEXroot",
         ">FEDEX>EWR",
         "Newark",
         ">FEDEX",
         "",
         54.0,
         "FEDEX",
         "2021-09-24T14:38:09.290+0000",
         "FEDEX",
         "53",
         "vt1",
         "2023-04-13T09:00:33.783+0000"
        ],
        [
         false,
         "OAK",
         3.0,
         1.632745927912E12,
         "FEDEXroot",
         ">FEDEX>OAK",
         "Oakland",
         ">FEDEX",
         "",
         67.0,
         "FEDEX",
         "2021-09-24T14:38:09.290+0000",
         "FEDEX",
         "53",
         "vt1",
         "2023-04-13T09:00:33.783+0000"
        ],
        [
         false,
         "ATL",
         3.0,
         1.679407601585E12,
         "FEDEXroot",
         ">FEDEX>ATL",
         "Atlanta",
         ">FEDEX",
         "None",
         76.0,
         "FEDEX",
         "2021-09-24T14:38:09.290+0000",
         "FEDEX",
         "53",
         "vt1",
         "2023-04-13T09:00:33.783+0000"
        ],
        [
         false,
         "IND",
         3.0,
         1.632745925509E12,
         "FEDEXroot",
         ">FEDEX>IND",
         "Indianapolis",
         ">FEDEX",
         "",
         56.0,
         "FEDEX",
         "2021-09-24T14:38:09.290+0000",
         "FEDEX",
         "53",
         "vt1",
         "2023-04-13T09:00:33.783+0000"
        ],
        [
         false,
         "LAX",
         3.0,
         1.632745926279E12,
         "FEDEXroot",
         ">FEDEX>LAX",
         "Los Angeles",
         ">FEDEX",
         "",
         60.0,
         "FEDEX",
         "2021-09-24T14:38:09.290+0000",
         "FEDEX",
         "53",
         "vt1",
         "2023-04-13T09:00:33.783+0000"
        ],
        [
         false,
         "SAUDIARABIA",
         3.0,
         1.565624059545E12,
         "LUERroot",
         ">LUER>SAUDIARABIA",
         "SaudiArabia",
         ">LUER",
         "nan",
         12.0,
         "LUER",
         "2019-07-30T12:56:00.478+0000",
         "Luerssen",
         "8",
         "vt1",
         "2023-04-13T09:00:33.783+0000"
        ],
        [
         false,
         "BRUNEI",
         3.0,
         1.565624065632E12,
         "LUERroot",
         ">LUER>BRUNEI",
         "Brunei",
         ">LUER",
         "nan",
         13.0,
         "LUER",
         "2019-07-30T12:56:00.478+0000",
         "Luerssen",
         "8",
         "vt1",
         "2023-04-13T09:00:33.783+0000"
        ],
        [
         false,
         "GERMANY",
         3.0,
         1.565623788828E12,
         "LUERroot",
         ">LUER>GERMANY",
         "Germany",
         ">LUER",
         "nan",
         10.0,
         "LUER",
         "2019-07-30T12:56:00.478+0000",
         "Luerssen",
         "8",
         "vt1",
         "2023-04-13T09:00:33.783+0000"
        ],
        [
         false,
         "INDIANA",
         3.0,
         1.65106395835E12,
         "HONDAroot",
         ">HONDA>INDIANA",
         "Indiana",
         ">HONDA",
         "nan",
         74.0,
         "HONDA",
         "2022-04-26T20:27:37.287+0000",
         "HONDA",
         "73",
         "vt1",
         "2023-04-13T09:00:33.783+0000"
        ],
        [
         false,
         "MARYSVILLE",
         3.0,
         1.65106397124E12,
         "HONDAroot",
         ">HONDA>MARYSVILLE",
         "Marysville",
         ">HONDA",
         "nan",
         75.0,
         "HONDA",
         "2022-04-26T20:27:37.287+0000",
         "HONDA",
         "73",
         "vt1",
         "2023-04-13T09:00:33.783+0000"
        ],
        [
         false,
         "SAUDIARABIA",
         3.0,
         1.590422479021E12,
         "LUERSAroot",
         ">LUERSA>SAUDIARABIA",
         "SaudiArabia",
         ">LUERSA",
         "nan",
         47.0,
         "LUERSA",
         "2020-05-21T13:56:13.904+0000",
         "LuerssenSaudiArabia",
         "46",
         "vt1",
         "2023-04-13T09:00:33.783+0000"
        ],
        [
         false,
         "DEFAULTSTORE",
         3.0,
         1.577822362874E12,
         "sysconfig",
         ">MOJIX>DEFAULTSTORE",
         "Default Store",
         ">MOJIX",
         "nan",
         31.0,
         "MOJIX",
         "2019-12-31T19:59:22.874+0000",
         "MOJIX",
         "30",
         "vt1",
         "2023-04-13T09:00:33.783+0000"
        ],
        [
         false,
         "MENDEL",
         3.0,
         1.584629483206E12,
         "CTVAroot",
         ">CTVA>MENDEL",
         "Mendel",
         ">CTVA",
         "nan",
         45.0,
         "CTVA",
         "2020-03-10T18:05:38.350+0000",
         "Corteva Agriscience",
         "42",
         "vt1",
         "2023-04-13T09:00:33.783+0000"
        ],
        [
         false,
         "AUSTRIA",
         3.0,
         1.571757508733E12,
         "IKEAroot",
         ">IKEA>AUSTRIA",
         "Austria",
         ">IKEA",
         "nan",
         26.0,
         "IKEA",
         "2019-07-30T14:20:48.248+0000",
         "IKEA",
         "9",
         "vt1",
         "2023-04-13T09:00:33.783+0000"
        ],
        [
         false,
         "GERMANY",
         3.0,
         1.571757526796E12,
         "IKEAroot",
         ">IKEA>GERMANY",
         "Germany",
         ">IKEA",
         "nan",
         27.0,
         "IKEA",
         "2019-07-30T14:20:48.248+0000",
         "IKEA",
         "9",
         "vt1",
         "2023-04-13T09:00:33.783+0000"
        ],
        [
         false,
         "MEM",
         3.0,
         1.6327459271E12,
         "FEDEXroot",
         ">FEDEX>MEM",
         "Memphis",
         ">FEDEX",
         "",
         62.0,
         "FEDEX",
         "2021-09-24T14:38:09.290+0000",
         "FEDEX",
         "53",
         "vt1",
         "2023-04-14T09:00:28.868+0000"
        ],
        [
         false,
         "EWR",
         3.0,
         1.632745923922E12,
         "FEDEXroot",
         ">FEDEX>EWR",
         "Newark",
         ">FEDEX",
         "",
         54.0,
         "FEDEX",
         "2021-09-24T14:38:09.290+0000",
         "FEDEX",
         "53",
         "vt1",
         "2023-04-14T09:00:28.868+0000"
        ],
        [
         false,
         "OAK",
         3.0,
         1.632745927912E12,
         "FEDEXroot",
         ">FEDEX>OAK",
         "Oakland",
         ">FEDEX",
         "",
         67.0,
         "FEDEX",
         "2021-09-24T14:38:09.290+0000",
         "FEDEX",
         "53",
         "vt1",
         "2023-04-14T09:00:28.868+0000"
        ],
        [
         false,
         "ATL",
         3.0,
         1.679407601585E12,
         "FEDEXroot",
         ">FEDEX>ATL",
         "Atlanta",
         ">FEDEX",
         "None",
         76.0,
         "FEDEX",
         "2021-09-24T14:38:09.290+0000",
         "FEDEX",
         "53",
         "vt1",
         "2023-04-14T09:00:28.868+0000"
        ],
        [
         false,
         "IND",
         3.0,
         1.632745925509E12,
         "FEDEXroot",
         ">FEDEX>IND",
         "Indianapolis",
         ">FEDEX",
         "",
         56.0,
         "FEDEX",
         "2021-09-24T14:38:09.290+0000",
         "FEDEX",
         "53",
         "vt1",
         "2023-04-14T09:00:28.868+0000"
        ],
        [
         false,
         "LAX",
         3.0,
         1.632745926279E12,
         "FEDEXroot",
         ">FEDEX>LAX",
         "Los Angeles",
         ">FEDEX",
         "",
         60.0,
         "FEDEX",
         "2021-09-24T14:38:09.290+0000",
         "FEDEX",
         "53",
         "vt1",
         "2023-04-14T09:00:28.868+0000"
        ],
        [
         false,
         "BRUNEI",
         3.0,
         1.565624065632E12,
         "LUERroot",
         ">LUER>BRUNEI",
         "Brunei",
         ">LUER",
         "nan",
         13.0,
         "LUER",
         "2019-07-30T12:56:00.478+0000",
         "Luerssen",
         "8",
         "vt1",
         "2023-04-14T09:00:28.868+0000"
        ],
        [
         false,
         "GERMANY",
         3.0,
         1.565623788828E12,
         "LUERroot",
         ">LUER>GERMANY",
         "Germany",
         ">LUER",
         "nan",
         10.0,
         "LUER",
         "2019-07-30T12:56:00.478+0000",
         "Luerssen",
         "8",
         "vt1",
         "2023-04-14T09:00:28.868+0000"
        ],
        [
         false,
         "SAUDIARABIA",
         3.0,
         1.565624059545E12,
         "LUERroot",
         ">LUER>SAUDIARABIA",
         "SaudiArabia",
         ">LUER",
         "nan",
         12.0,
         "LUER",
         "2019-07-30T12:56:00.478+0000",
         "Luerssen",
         "8",
         "vt1",
         "2023-04-14T09:00:28.868+0000"
        ],
        [
         false,
         "INDIANA",
         3.0,
         1.65106395835E12,
         "HONDAroot",
         ">HONDA>INDIANA",
         "Indiana",
         ">HONDA",
         "nan",
         74.0,
         "HONDA",
         "2022-04-26T20:27:37.287+0000",
         "HONDA",
         "73",
         "vt1",
         "2023-04-14T09:00:28.868+0000"
        ],
        [
         false,
         "MARYSVILLE",
         3.0,
         1.65106397124E12,
         "HONDAroot",
         ">HONDA>MARYSVILLE",
         "Marysville",
         ">HONDA",
         "nan",
         75.0,
         "HONDA",
         "2022-04-26T20:27:37.287+0000",
         "HONDA",
         "73",
         "vt1",
         "2023-04-14T09:00:28.868+0000"
        ],
        [
         false,
         "SAUDIARABIA",
         3.0,
         1.590422479021E12,
         "LUERSAroot",
         ">LUERSA>SAUDIARABIA",
         "SaudiArabia",
         ">LUERSA",
         "nan",
         47.0,
         "LUERSA",
         "2020-05-21T13:56:13.904+0000",
         "LuerssenSaudiArabia",
         "46",
         "vt1",
         "2023-04-14T09:00:28.868+0000"
        ],
        [
         false,
         "DEFAULTSTORE",
         3.0,
         1.577822362874E12,
         "sysconfig",
         ">MOJIX>DEFAULTSTORE",
         "Default Store",
         ">MOJIX",
         "nan",
         31.0,
         "MOJIX",
         "2019-12-31T19:59:22.874+0000",
         "MOJIX",
         "30",
         "vt1",
         "2023-04-14T09:00:28.868+0000"
        ],
        [
         false,
         "MENDEL",
         3.0,
         1.584629483206E12,
         "CTVAroot",
         ">CTVA>MENDEL",
         "Mendel",
         ">CTVA",
         "nan",
         45.0,
         "CTVA",
         "2020-03-10T18:05:38.350+0000",
         "Corteva Agriscience",
         "42",
         "vt1",
         "2023-04-14T09:00:28.868+0000"
        ],
        [
         false,
         "AUSTRIA",
         3.0,
         1.571757508733E12,
         "IKEAroot",
         ">IKEA>AUSTRIA",
         "Austria",
         ">IKEA",
         "nan",
         26.0,
         "IKEA",
         "2019-07-30T14:20:48.248+0000",
         "IKEA",
         "9",
         "vt1",
         "2023-04-14T09:00:28.868+0000"
        ],
        [
         false,
         "GERMANY",
         3.0,
         1.571757526796E12,
         "IKEAroot",
         ">IKEA>GERMANY",
         "Germany",
         ">IKEA",
         "nan",
         27.0,
         "IKEA",
         "2019-07-30T14:20:48.248+0000",
         "IKEA",
         "9",
         "vt1",
         "2023-04-14T09:00:28.868+0000"
        ],
        [
         false,
         "MEM",
         3.0,
         1.6327459271E12,
         "FEDEXroot",
         ">FEDEX>MEM",
         "Memphis",
         ">FEDEX",
         "",
         62.0,
         "FEDEX",
         "2021-09-24T14:38:09.290+0000",
         "FEDEX",
         "53",
         "vt1",
         "2023-04-15T09:00:30.951+0000"
        ],
        [
         false,
         "EWR",
         3.0,
         1.632745923922E12,
         "FEDEXroot",
         ">FEDEX>EWR",
         "Newark",
         ">FEDEX",
         "",
         54.0,
         "FEDEX",
         "2021-09-24T14:38:09.290+0000",
         "FEDEX",
         "53",
         "vt1",
         "2023-04-15T09:00:30.951+0000"
        ],
        [
         false,
         "OAK",
         3.0,
         1.632745927912E12,
         "FEDEXroot",
         ">FEDEX>OAK",
         "Oakland",
         ">FEDEX",
         "",
         67.0,
         "FEDEX",
         "2021-09-24T14:38:09.290+0000",
         "FEDEX",
         "53",
         "vt1",
         "2023-04-15T09:00:30.951+0000"
        ],
        [
         false,
         "ATL",
         3.0,
         1.679407601585E12,
         "FEDEXroot",
         ">FEDEX>ATL",
         "Atlanta",
         ">FEDEX",
         "None",
         76.0,
         "FEDEX",
         "2021-09-24T14:38:09.290+0000",
         "FEDEX",
         "53",
         "vt1",
         "2023-04-15T09:00:30.951+0000"
        ],
        [
         false,
         "IND",
         3.0,
         1.632745925509E12,
         "FEDEXroot",
         ">FEDEX>IND",
         "Indianapolis",
         ">FEDEX",
         "",
         56.0,
         "FEDEX",
         "2021-09-24T14:38:09.290+0000",
         "FEDEX",
         "53",
         "vt1",
         "2023-04-15T09:00:30.951+0000"
        ],
        [
         false,
         "LAX",
         3.0,
         1.632745926279E12,
         "FEDEXroot",
         ">FEDEX>LAX",
         "Los Angeles",
         ">FEDEX",
         "",
         60.0,
         "FEDEX",
         "2021-09-24T14:38:09.290+0000",
         "FEDEX",
         "53",
         "vt1",
         "2023-04-15T09:00:30.951+0000"
        ],
        [
         false,
         "SAUDIARABIA",
         3.0,
         1.565624059545E12,
         "LUERroot",
         ">LUER>SAUDIARABIA",
         "SaudiArabia",
         ">LUER",
         "nan",
         12.0,
         "LUER",
         "2019-07-30T12:56:00.478+0000",
         "Luerssen",
         "8",
         "vt1",
         "2023-04-15T09:00:30.951+0000"
        ],
        [
         false,
         "BRUNEI",
         3.0,
         1.565624065632E12,
         "LUERroot",
         ">LUER>BRUNEI",
         "Brunei",
         ">LUER",
         "nan",
         13.0,
         "LUER",
         "2019-07-30T12:56:00.478+0000",
         "Luerssen",
         "8",
         "vt1",
         "2023-04-15T09:00:30.951+0000"
        ],
        [
         false,
         "GERMANY",
         3.0,
         1.565623788828E12,
         "LUERroot",
         ">LUER>GERMANY",
         "Germany",
         ">LUER",
         "nan",
         10.0,
         "LUER",
         "2019-07-30T12:56:00.478+0000",
         "Luerssen",
         "8",
         "vt1",
         "2023-04-15T09:00:30.951+0000"
        ],
        [
         false,
         "INDIANA",
         3.0,
         1.65106395835E12,
         "HONDAroot",
         ">HONDA>INDIANA",
         "Indiana",
         ">HONDA",
         "nan",
         74.0,
         "HONDA",
         "2022-04-26T20:27:37.287+0000",
         "HONDA",
         "73",
         "vt1",
         "2023-04-15T09:00:30.951+0000"
        ],
        [
         false,
         "MARYSVILLE",
         3.0,
         1.65106397124E12,
         "HONDAroot",
         ">HONDA>MARYSVILLE",
         "Marysville",
         ">HONDA",
         "nan",
         75.0,
         "HONDA",
         "2022-04-26T20:27:37.287+0000",
         "HONDA",
         "73",
         "vt1",
         "2023-04-15T09:00:30.951+0000"
        ],
        [
         false,
         "SAUDIARABIA",
         3.0,
         1.590422479021E12,
         "LUERSAroot",
         ">LUERSA>SAUDIARABIA",
         "SaudiArabia",
         ">LUERSA",
         "nan",
         47.0,
         "LUERSA",
         "2020-05-21T13:56:13.904+0000",
         "LuerssenSaudiArabia",
         "46",
         "vt1",
         "2023-04-15T09:00:30.951+0000"
        ],
        [
         false,
         "DEFAULTSTORE",
         3.0,
         1.577822362874E12,
         "sysconfig",
         ">MOJIX>DEFAULTSTORE",
         "Default Store",
         ">MOJIX",
         "nan",
         31.0,
         "MOJIX",
         "2019-12-31T19:59:22.874+0000",
         "MOJIX",
         "30",
         "vt1",
         "2023-04-15T09:00:30.951+0000"
        ],
        [
         false,
         "MENDEL",
         3.0,
         1.584629483206E12,
         "CTVAroot",
         ">CTVA>MENDEL",
         "Mendel",
         ">CTVA",
         "nan",
         45.0,
         "CTVA",
         "2020-03-10T18:05:38.350+0000",
         "Corteva Agriscience",
         "42",
         "vt1",
         "2023-04-15T09:00:30.951+0000"
        ],
        [
         false,
         "AUSTRIA",
         3.0,
         1.571757508733E12,
         "IKEAroot",
         ">IKEA>AUSTRIA",
         "Austria",
         ">IKEA",
         "nan",
         26.0,
         "IKEA",
         "2019-07-30T14:20:48.248+0000",
         "IKEA",
         "9",
         "vt1",
         "2023-04-15T09:00:30.951+0000"
        ],
        [
         false,
         "GERMANY",
         3.0,
         1.571757526796E12,
         "IKEAroot",
         ">IKEA>GERMANY",
         "Germany",
         ">IKEA",
         "nan",
         27.0,
         "IKEA",
         "2019-07-30T14:20:48.248+0000",
         "IKEA",
         "9",
         "vt1",
         "2023-04-15T09:00:30.951+0000"
        ]
       ],
       "datasetInfos": [],
       "dbfsResultPath": null,
       "isJsonSchema": true,
       "metadata": {},
       "overflow": false,
       "plotOptions": {
        "customPlotOptions": {},
        "displayType": "table",
        "pivotAggregation": null,
        "pivotColumns": null,
        "xColumns": null,
        "yColumns": null
       },
       "removedWidgets": [],
       "schema": [
        {
         "metadata": "{}",
         "name": "archived",
         "type": "\"boolean\""
        },
        {
         "metadata": "{}",
         "name": "code",
         "type": "\"string\""
        },
        {
         "metadata": "{}",
         "name": "treeLevel",
         "type": "\"double\""
        },
        {
         "metadata": "{}",
         "name": "creationTime",
         "type": "\"double\""
        },
        {
         "metadata": "{}",
         "name": "createdBy",
         "type": "\"string\""
        },
        {
         "metadata": "{}",
         "name": "hierarchyCode",
         "type": "\"string\""
        },
        {
         "metadata": "{}",
         "name": "name",
         "type": "\"string\""
        },
        {
         "metadata": "{}",
         "name": "fqnBase",
         "type": "\"string\""
        },
        {
         "metadata": "{}",
         "name": "description",
         "type": "\"string\""
        },
        {
         "metadata": "{}",
         "name": "id",
         "type": "\"double\""
        },
        {
         "metadata": "{}",
         "name": "tenant_parent_code",
         "type": "\"string\""
        },
        {
         "metadata": "{}",
         "name": "creation_time",
         "type": "\"timestamp\""
        },
        {
         "metadata": "{}",
         "name": "tenant_name",
         "type": "\"string\""
        },
        {
         "metadata": "{}",
         "name": "tenant_id",
         "type": "\"string\""
        },
        {
         "metadata": "{}",
         "name": "environment",
         "type": "\"string\""
        },
        {
         "metadata": "{}",
         "name": "timestamp",
         "type": "\"timestamp\""
        }
       ],
       "type": "table"
      }
     },
     "output_type": "display_data"
    }
   ],
   "source": [
    "display(df_sites)"
   ]
  },
  {
   "cell_type": "markdown",
   "metadata": {
    "application/vnd.databricks.v1+cell": {
     "cellMetadata": {},
     "inputWidgets": {},
     "nuid": "5b783fa6-6897-4210-8e96-3e9009a176eb",
     "showTitle": false,
     "title": ""
    }
   },
   "source": [
    "### Data prepairing"
   ]
  },
  {
   "cell_type": "code",
   "execution_count": 0,
   "metadata": {
    "application/vnd.databricks.v1+cell": {
     "cellMetadata": {
      "byteLimit": 2048000,
      "rowLimit": 10000
     },
     "inputWidgets": {},
     "nuid": "c115c353-169f-45d2-b4bb-705f207f4b58",
     "showTitle": false,
     "title": ""
    }
   },
   "outputs": [
    {
     "output_type": "display_data",
     "data": {
      "text/html": [
       "<style scoped>\n",
       "  .ansiout {\n",
       "    display: block;\n",
       "    unicode-bidi: embed;\n",
       "    white-space: pre-wrap;\n",
       "    word-wrap: break-word;\n",
       "    word-break: break-all;\n",
       "    font-family: \"Source Code Pro\", \"Menlo\", monospace;;\n",
       "    font-size: 13px;\n",
       "    color: #555;\n",
       "    margin-left: 4px;\n",
       "    line-height: 19px;\n",
       "  }\n",
       "</style>\n",
       "<div class=\"ansiout\"></div>"
      ]
     },
     "metadata": {
      "application/vnd.databricks.v1+output": {
       "addedWidgets": {},
       "arguments": {},
       "data": "<div class=\"ansiout\"></div>",
       "datasetInfos": [],
       "metadata": {},
       "removedWidgets": [],
       "type": "html"
      }
     },
     "output_type": "display_data"
    }
   ],
   "source": [
    "#df_compute = df_compute.withColumn('datetime_LA',from_utc_timestamp(df_compute['datetime_h'], 'America/Los_Angeles'))\n",
    "#df_compute = df_compute.withColumn('date_LA', date_format(df_compute['datetime_LA'], 'y-MM-dd'))\n",
    "#df_compute = df_compute.withColumn('tenant_cmp',when(df_compute['tenantCode'].isin(['MARYSVILLE','INDIANA']),\"HONDA\").otherwise(df_compute['tenantCode']))\n",
    "df_total = df_total.withColumn('tenant_cmp',when(df_total['tenant_full'].isin(['MARYSVILLE','INDIANA']),\"HONDA\").otherwise(df_total['tenant_full']))"
   ]
  },
  {
   "cell_type": "code",
   "execution_count": 0,
   "metadata": {
    "application/vnd.databricks.v1+cell": {
     "cellMetadata": {
      "byteLimit": 2048000,
      "rowLimit": 10000
     },
     "inputWidgets": {},
     "nuid": "8f1e75c2-2988-473c-87f3-e1c6e96f0d16",
     "showTitle": false,
     "title": ""
    }
   },
   "outputs": [
    {
     "output_type": "display_data",
     "data": {
      "text/html": [
       "<style scoped>\n",
       "  .ansiout {\n",
       "    display: block;\n",
       "    unicode-bidi: embed;\n",
       "    white-space: pre-wrap;\n",
       "    word-wrap: break-word;\n",
       "    word-break: break-all;\n",
       "    font-family: \"Source Code Pro\", \"Menlo\", monospace;;\n",
       "    font-size: 13px;\n",
       "    color: #555;\n",
       "    margin-left: 4px;\n",
       "    line-height: 19px;\n",
       "  }\n",
       "</style>\n",
       "<div class=\"ansiout\"></div>"
      ]
     },
     "metadata": {
      "application/vnd.databricks.v1+output": {
       "addedWidgets": {},
       "arguments": {},
       "data": "<div class=\"ansiout\"></div>",
       "datasetInfos": [],
       "metadata": {},
       "removedWidgets": [],
       "type": "html"
      }
     },
     "output_type": "display_data"
    }
   ],
   "source": [
    "df_sites = df_sites.withColumn('date', date_format(df_sites['timestamp'], 'y-MM-dd'))"
   ]
  },
  {
   "cell_type": "code",
   "execution_count": 0,
   "metadata": {
    "application/vnd.databricks.v1+cell": {
     "cellMetadata": {
      "byteLimit": 2048000,
      "rowLimit": 10000
     },
     "inputWidgets": {},
     "nuid": "c72e6bb7-33fe-4277-b107-24b0680b654e",
     "showTitle": false,
     "title": ""
    }
   },
   "outputs": [
    {
     "output_type": "display_data",
     "data": {
      "text/html": [
       "<style scoped>\n",
       "  .ansiout {\n",
       "    display: block;\n",
       "    unicode-bidi: embed;\n",
       "    white-space: pre-wrap;\n",
       "    word-wrap: break-word;\n",
       "    word-break: break-all;\n",
       "    font-family: \"Source Code Pro\", \"Menlo\", monospace;;\n",
       "    font-size: 13px;\n",
       "    color: #555;\n",
       "    margin-left: 4px;\n",
       "    line-height: 19px;\n",
       "  }\n",
       "</style>\n",
       "<div class=\"ansiout\"></div>"
      ]
     },
     "metadata": {
      "application/vnd.databricks.v1+output": {
       "addedWidgets": {},
       "arguments": {},
       "data": "<div class=\"ansiout\"></div>",
       "datasetInfos": [],
       "metadata": {},
       "removedWidgets": [],
       "type": "html"
      }
     },
     "output_type": "display_data"
    }
   ],
   "source": [
    "df_agg_total = df_total.groupBy(['date_LA_2','tenant_cmp']).sum()\n",
    "df_agg_total = df_agg_total.withColumnRenamed(\"date_LA_2\",\"date_LA\")\n",
    "df_agg_total = df_agg_total.withColumn('date_LA', date_format(df_agg_total['date_LA'], 'y-MM-dd'))"
   ]
  },
  {
   "cell_type": "code",
   "execution_count": 0,
   "metadata": {
    "application/vnd.databricks.v1+cell": {
     "cellMetadata": {
      "byteLimit": 2048000,
      "rowLimit": 10000
     },
     "inputWidgets": {},
     "nuid": "faa16bbf-9a28-4486-a4b2-f006b1ea10ba",
     "showTitle": false,
     "title": ""
    }
   },
   "outputs": [
    {
     "output_type": "display_data",
     "data": {
      "text/html": [
       "<style scoped>\n",
       "  .table-result-container {\n",
       "    max-height: 300px;\n",
       "    overflow: auto;\n",
       "  }\n",
       "  table, th, td {\n",
       "    border: 1px solid black;\n",
       "    border-collapse: collapse;\n",
       "  }\n",
       "  th, td {\n",
       "    padding: 5px;\n",
       "  }\n",
       "  th {\n",
       "    text-align: left;\n",
       "  }\n",
       "</style><div class='table-result-container'><table class='table-result'><thead style='background-color: white'><tr><th>date_LA</th><th>tenant_cmp</th><th>sum(events)</th><th>sum(compute_cost)</th><th>sum(storage_cost)</th><th>sum(total_cost)</th></tr></thead><tbody><tr><td>2023-04-05</td><td>FALA</td><td>null</td><td>null</td><td>0.0</td><td>0.0</td></tr><tr><td>2023-04-10</td><td>ROOT</td><td>null</td><td>null</td><td>0.008458103927673084</td><td>0.008458103927673084</td></tr><tr><td>2023-04-25</td><td>IKEA</td><td>353518</td><td>3.275824047847059</td><td>0.9208346397744178</td><td>4.196658687621476</td></tr><tr><td>2023-04-01</td><td>LUER</td><td>null</td><td>null</td><td>2.78185415274613E-4</td><td>2.78185415274613E-4</td></tr><tr><td>2023-04-25</td><td>LUERSA</td><td>31</td><td>2.872570717283386E-4</td><td>0.0015532802529686332</td><td>0.0018405373246969717</td></tr><tr><td>2023-04-07</td><td>MOJIXTRACK</td><td>null</td><td>null</td><td>8.828623990093789E-5</td><td>8.828623990093789E-5</td></tr><tr><td>2023-04-16</td><td>LUERSA</td><td>31</td><td>2.872570717283386E-4</td><td>0.0015852731285386748</td><td>0.0018725302002670133</td></tr><tr><td>2023-04-21</td><td>MOJIX</td><td>8</td><td>7.413085722021642E-5</td><td>6.068176273362235E-5</td><td>1.3481261995383878E-4</td></tr><tr><td>2023-04-19</td><td>LUER</td><td>null</td><td>null</td><td>2.844187704575195E-4</td><td>2.844187704575195E-4</td></tr><tr><td>2023-04-08</td><td>MOJIXTRACK</td><td>null</td><td>null</td><td>8.808215056642858E-5</td><td>8.808215056642858E-5</td></tr><tr><td>2023-04-28</td><td>FALA</td><td>null</td><td>null</td><td>0.0</td><td>0.0</td></tr><tr><td>2023-04-16</td><td>FALA</td><td>null</td><td>null</td><td>0.0</td><td>0.0</td></tr><tr><td>2023-04-24</td><td>HONDA</td><td>2780095</td><td>25.761353187954697</td><td>5.690022813691739</td><td>31.451376001646434</td></tr><tr><td>2023-04-10</td><td>IKEA</td><td>14558</td><td>0.13489962742648884</td><td>0.938655449045836</td><td>1.0735550764723247</td></tr><tr><td>2023-04-14</td><td>IKEA</td><td>367436</td><td>3.4047932066959303</td><td>0.9440688177243436</td><td>4.348862024420274</td></tr><tr><td>2023-04-03</td><td>LUER</td><td>null</td><td>null</td><td>2.773786776743734E-4</td><td>2.773786776743734E-4</td></tr><tr><td>2023-04-28</td><td>LUER</td><td>null</td><td>null</td><td>2.78779610855469E-4</td><td>2.78779610855469E-4</td></tr><tr><td>2023-04-27</td><td>ROOT</td><td>null</td><td>null</td><td>0.008420292020870789</td><td>0.008420292020870789</td></tr><tr><td>2023-04-28</td><td>ROOT</td><td>null</td><td>null</td><td>0.00840321398435771</td><td>0.00840321398435771</td></tr><tr><td>2023-04-11</td><td>ROOT</td><td>null</td><td>null</td><td>0.008578800167093337</td><td>0.008578800167093337</td></tr><tr><td>2023-04-15</td><td>ROOT</td><td>null</td><td>null</td><td>0.0085387595388155</td><td>0.0085387595388155</td></tr><tr><td>2023-04-17</td><td>ROOT</td><td>null</td><td>null</td><td>0.008509530127527426</td><td>0.008509530127527426</td></tr><tr><td>2023-04-23</td><td>MOJIX</td><td>null</td><td>null</td><td>6.0390912122854856E-5</td><td>6.0390912122854856E-5</td></tr><tr><td>2023-04-18</td><td>IKEA</td><td>347228</td><td>3.2175386613576635</td><td>0.9354584079264869</td><td>4.152997069284151</td></tr><tr><td>2023-04-08</td><td>HONDA</td><td>2861476</td><td>26.515458599384502</td><td>5.189859032807684</td><td>31.705317632192187</td></tr><tr><td>2023-04-15</td><td>MOJIXTRACK</td><td>null</td><td>null</td><td>9.225550522129594E-5</td><td>9.225550522129594E-5</td></tr><tr><td>2023-04-19</td><td>FALA</td><td>null</td><td>null</td><td>0.0</td><td>0.0</td></tr><tr><td>2023-04-03</td><td>FEDEX</td><td>3183583</td><td>29.500217102713535</td><td>10.894027752898324</td><td>40.39424485561186</td></tr><tr><td>2023-04-04</td><td>MOJIXTRACK</td><td>null</td><td>null</td><td>8.894095753352835E-5</td><td>8.894095753352835E-5</td></tr><tr><td>2023-04-15</td><td>FEDEX</td><td>3185378</td><td>29.516850213802318</td><td>11.49655304110378</td><td>41.013403254906095</td></tr><tr><td>2023-04-26</td><td>FALA</td><td>null</td><td>null</td><td>0.0</td><td>0.0</td></tr><tr><td>2023-04-05</td><td>MOJIXTRACK</td><td>null</td><td>null</td><td>8.87227225565235E-5</td><td>8.87227225565235E-5</td></tr><tr><td>2023-04-22</td><td>CTVA</td><td>676842</td><td>6.271859707830716</td><td>0.4750770621851641</td><td>6.74693677001588</td></tr><tr><td>2023-04-16</td><td>MOJIXTRACK</td><td>null</td><td>null</td><td>9.20481171409553E-5</td><td>9.20481171409553E-5</td></tr><tr><td>2023-04-23</td><td>CTVA</td><td>678901</td><td>6.2909391372077685</td><td>0.48084250747419083</td><td>6.771781644681959</td></tr><tr><td>2023-04-05</td><td>FEDEX</td><td>3091266</td><td>28.644774809463694</td><td>10.875789060263198</td><td>39.52056386972689</td></tr><tr><td>2023-04-04</td><td>MOJIX</td><td>null</td><td>null</td><td>5.929397168901891E-5</td><td>5.929397168901891E-5</td></tr><tr><td>2023-04-20</td><td>MOJIX</td><td>null</td><td>null</td><td>6.0821978464435356E-5</td><td>6.0821978464435356E-5</td></tr><tr><td>2023-04-21</td><td>IKEA</td><td>207225</td><td>1.9202208609324185</td><td>0.9293310826383042</td><td>2.849551943570723</td></tr><tr><td>2023-04-01</td><td>ROOT</td><td>null</td><td>null</td><td>0.008146858590185097</td><td>0.008146858590185097</td></tr><tr><td>2023-04-18</td><td>MOJIX</td><td>null</td><td>null</td><td>6.10818536229464E-5</td><td>6.10818536229464E-5</td></tr><tr><td>2023-04-14</td><td>FEDEX</td><td>3226836</td><td>29.901014848631785</td><td>11.504398427761297</td><td>41.405413276393084</td></tr><tr><td>2023-04-22</td><td>MOJIXTRACK</td><td>null</td><td>null</td><td>9.081954926116692E-5</td><td>9.081954926116692E-5</td></tr><tr><td>2023-04-06</td><td>FALA</td><td>null</td><td>null</td><td>0.0</td><td>0.0</td></tr><tr><td>2023-04-27</td><td>CTVA</td><td>682119</td><td>6.320758274524601</td><td>0.47913855994590104</td><td>6.799896834470502</td></tr><tr><td>2023-04-14</td><td>LUERSA</td><td>31</td><td>2.872570717283386E-4</td><td>0.0015924720776945363</td><td>0.0018797291494228748</td></tr><tr><td>2023-04-28</td><td>MOJIX</td><td>null</td><td>null</td><td>5.9738488040457646E-5</td><td>5.9738488040457646E-5</td></tr><tr><td>2023-04-17</td><td>IKEA</td><td>199025</td><td>1.8442367322816968</td><td>0.9375686017846135</td><td>2.7818053340663105</td></tr><tr><td>2023-04-02</td><td>MOJIXTRACK</td><td>null</td><td>null</td><td>8.927988463209662E-5</td><td>8.927988463209662E-5</td></tr><tr><td>2023-04-19</td><td>CTVA</td><td>790863</td><td>7.328419016719002</td><td>0.4761373373723489</td><td>7.804556354091352</td></tr><tr><td>2023-04-26</td><td>HONDA</td><td>2850905</td><td>26.41750393792514</td><td>5.709183962877766</td><td>32.1266879008029</td></tr><tr><td>2023-04-18</td><td>LUERSA</td><td>31</td><td>2.872570717283386E-4</td><td>0.0015779478852594485</td><td>0.0018652049569877873</td></tr><tr><td>2023-04-23</td><td>ROOT</td><td>null</td><td>null</td><td>0.008454727697199679</td><td>0.008454727697199679</td></tr><tr><td>2023-04-24</td><td>MOJIX</td><td>null</td><td>null</td><td>6.025683513829618E-5</td><td>6.025683513829618E-5</td></tr><tr><td>2023-04-12</td><td>MOJIXTRACK</td><td>null</td><td>null</td><td>9.291072929811222E-5</td><td>9.291072929811222E-5</td></tr><tr><td>2023-05-01</td><td>HONDA</td><td>1631304</td><td>15.958819873051011</td><td>null</td><td>15.958819873051011</td></tr><tr><td>2023-04-15</td><td>MOJIX</td><td>null</td><td>null</td><td>6.150367014753063E-5</td><td>6.150367014753063E-5</td></tr><tr><td>2023-04-09</td><td>LUER</td><td>null</td><td>null</td><td>2.733987013285873E-4</td><td>2.733987013285873E-4</td></tr><tr><td>2023-04-20</td><td>FEDEX</td><td>3239455</td><td>30.017947009539526</td><td>11.460533347107393</td><td>41.47848035664692</td></tr><tr><td>2023-04-21</td><td>ROOT</td><td>null</td><td>null</td><td>0.008475219528462585</td><td>0.008475219528462585</td></tr><tr><td>2023-04-14</td><td>HONDA</td><td>3044412</td><td>28.210608911439195</td><td>5.59298796515811</td><td>33.803596876597304</td></tr><tr><td>2023-04-04</td><td>LUERSA</td><td>31</td><td>2.872570717283386E-4</td><td>0.001531760935299655</td><td>0.0018190180070279936</td></tr><tr><td>2023-04-17</td><td>MOJIX</td><td>null</td><td>null</td><td>6.121964120523328E-5</td><td>6.121964120523328E-5</td></tr><tr><td>2023-04-26</td><td>FEDEX</td><td>3223976</td><td>29.87451306717556</td><td>11.412018722062951</td><td>41.28653178923851</td></tr><tr><td>2023-04-15</td><td>LUERSA</td><td>31</td><td>2.872570717283386E-4</td><td>0.0015888448121445411</td><td>0.0018761018838728796</td></tr><tr><td>2023-04-10</td><td>CTVA</td><td>747528</td><td>6.9268614295142426</td><td>0.47223392086038535</td><td>7.399095350374628</td></tr><tr><td>2023-04-18</td><td>LUER</td><td>null</td><td>null</td><td>2.850486502404165E-4</td><td>2.850486502404165E-4</td></tr><tr><td>2023-04-05</td><td>ROOT</td><td>null</td><td>null</td><td>0.00812305815406393</td><td>0.00812305815406393</td></tr><tr><td>2023-04-24</td><td>LUER</td><td>null</td><td>null</td><td>2.8119856397871543E-4</td><td>2.8119856397871543E-4</td></tr><tr><td>2023-04-08</td><td>MOJIX</td><td>null</td><td>null</td><td>5.8721433710952395E-5</td><td>5.8721433710952395E-5</td></tr><tr><td>2023-04-22</td><td>ROOT</td><td>null</td><td>null</td><td>0.00846640020334656</td><td>0.00846640020334656</td></tr><tr><td>2023-04-30</td><td>MOJIX</td><td>null</td><td>null</td><td>5.9506264012875393E-5</td><td>5.9506264012875393E-5</td></tr><tr><td>2023-04-03</td><td>FALA</td><td>null</td><td>null</td><td>0.0</td><td>0.0</td></tr><tr><td>2023-04-30</td><td>FEDEX</td><td>3147710</td><td>29.16780507258093</td><td>11.391948606599549</td><td>40.559753679180474</td></tr><tr><td>2023-04-05</td><td>MOJIX</td><td>null</td><td>null</td><td>5.9148481704349007E-5</td><td>5.9148481704349007E-5</td></tr><tr><td>2023-04-16</td><td>IKEA</td><td>191705</td><td>1.7764069979251986</td><td>0.9398010484405827</td><td>2.7162080463657814</td></tr><tr><td>2023-04-06</td><td>MOJIX</td><td>null</td><td>null</td><td>5.89999700420937E-5</td><td>5.89999700420937E-5</td></tr><tr><td>2023-04-20</td><td>FALA</td><td>null</td><td>null</td><td>0.0</td><td>0.0</td></tr><tr><td>2023-04-15</td><td>IKEA</td><td>221256</td><td>2.050237118139526</td><td>0.9419184576977403</td><td>2.992155575837266</td></tr><tr><td>2023-04-21</td><td>FEDEX</td><td>3133595</td><td>29.03701044137301</td><td>11.452661239631869</td><td>40.48967168100488</td></tr><tr><td>2023-04-09</td><td>FALA</td><td>null</td><td>null</td><td>0.0</td><td>0.0</td></tr><tr><td>2023-04-05</td><td>LUERSA</td><td>31</td><td>2.872570717283386E-4</td><td>0.001528002444029016</td><td>0.0018152595157573544</td></tr><tr><td>2023-04-03</td><td>MOJIXTRACK</td><td>null</td><td>null</td><td>8.915743210962002E-5</td><td>8.915743210962002E-5</td></tr><tr><td>2023-04-26</td><td>LUERSA</td><td>31</td><td>2.872570717283386E-4</td><td>0.001549805625748356</td><td>0.0018370626974766944</td></tr><tr><td>2023-04-24</td><td>CTVA</td><td>712084</td><td>6.598424666600074</td><td>0.4803976181400662</td><td>7.0788222847401405</td></tr><tr><td>2023-04-24</td><td>FEDEX</td><td>3146029</td><td>29.15222832620753</td><td>11.42629274835212</td><td>40.57852107455965</td></tr><tr><td>2023-04-09</td><td>IKEA</td><td>3766</td><td>0.03489710103641688</td><td>0.8972261880850916</td><td>0.9321232891215084</td></tr><tr><td>2023-04-11</td><td>LUER</td><td>null</td><td>null</td><td>2.897544085387376E-4</td><td>2.897544085387376E-4</td></tr><tr><td>2023-04-10</td><td>FEDEX</td><td>3414861</td><td>31.643321652235684</td><td>11.363677143957393</td><td>43.00699879619307</td></tr><tr><td>2023-04-13</td><td>LUER</td><td>null</td><td>null</td><td>2.883487335669369E-4</td><td>2.883487335669369E-4</td></tr><tr><td>2023-04-30</td><td>ROOT</td><td>null</td><td>null</td><td>0.008380465515146616</td><td>0.008380465515146616</td></tr><tr><td>2023-04-19</td><td>MOJIXTRACK</td><td>null</td><td>null</td><td>9.142031907563128E-5</td><td>9.142031907563128E-5</td></tr><tr><td>2023-04-02</td><td>IKEA</td><td>240831</td><td>2.231626059400243</td><td>0.9115377021065254</td><td>3.1431637615067682</td></tr><tr><td>2023-04-07</td><td>FEDEX</td><td>3265765</td><td>30.26174486622251</td><td>10.856970923071204</td><td>41.11871578929372</td></tr><tr><td>2023-04-07</td><td>FALA</td><td>null</td><td>null</td><td>0.0</td><td>0.0</td></tr><tr><td>2023-04-01</td><td>MOJIXTRACK</td><td>null</td><td>null</td><td>8.941674062398275E-5</td><td>8.941674062398275E-5</td></tr><tr><td>2023-04-11</td><td>FALA</td><td>null</td><td>null</td><td>0.0</td><td>0.0</td></tr><tr><td>2023-04-16</td><td>LUER</td><td>null</td><td>null</td><td>2.863719199940832E-4</td><td>2.863719199940832E-4</td></tr><tr><td>2023-04-28</td><td>CTVA</td><td>686701</td><td>6.36321672299748</td><td>0.4787442431562275</td><td>6.8419609661537075</td></tr><tr><td>2023-04-11</td><td>CTVA</td><td>778924</td><td>7.217787978674982</td><td>0.4791192628905362</td><td>7.696907241565518</td></tr><tr><td>2023-04-28</td><td>IKEA</td><td>145665</td><td>1.3497839146228532</td><td>0.9148849879249354</td><td>2.264668902547789</td></tr><tr><td>2023-04-13</td><td>ROOT</td><td>null</td><td>null</td><td>0.00855777848550445</td><td>0.00855777848550445</td></tr><tr><td>2023-04-25</td><td>MOJIXTRACK</td><td>null</td><td>null</td><td>9.019046630140451E-5</td><td>9.019046630140451E-5</td></tr><tr><td>2023-04-27</td><td>LUERSA</td><td>31</td><td>2.872570717283386E-4</td><td>0.0015463806436433322</td><td>0.0018336377153716707</td></tr><tr><td>2023-04-21</td><td>CTVA</td><td>700975</td><td>6.495484704992651</td><td>0.4755528609162761</td><td>6.971037565908928</td></tr><tr><td>2023-04-28</td><td>LUERSA</td><td>31</td><td>2.872570717283386E-4</td><td>0.0015432442743784892</td><td>0.0018305013461068277</td></tr><tr><td>2023-04-06</td><td>LUERSA</td><td>31</td><td>2.872570717283386E-4</td><td>0.001524165892754087</td><td>0.0018114229644824258</td></tr><tr><td>2023-04-22</td><td>MOJIX</td><td>null</td><td>null</td><td>6.054636617411128E-5</td><td>6.054636617411128E-5</td></tr><tr><td>2023-04-26</td><td>ROOT</td><td>null</td><td>null</td><td>0.008428942854876543</td><td>0.008428942854876543</td></tr><tr><td>2023-04-04</td><td>LUER</td><td>null</td><td>null</td><td>2.767052012154215E-4</td><td>2.767052012154215E-4</td></tr><tr><td>2023-04-17</td><td>LUERSA</td><td>31</td><td>2.872570717283386E-4</td><td>0.0015815073978018596</td><td>0.0018687644695301983</td></tr><tr><td>2023-04-09</td><td>HONDA</td><td>2789184</td><td>25.845575108114016</td><td>5.198939940225083</td><td>31.0445150483391</td></tr><tr><td>2023-04-12</td><td>CTVA</td><td>778360</td><td>7.212561753240957</td><td>0.4787586646588059</td><td>7.691320417899763</td></tr><tr><td>2023-04-29</td><td>CTVA</td><td>689569</td><td>6.389792635310927</td><td>0.4784620660712841</td><td>6.868254701382211</td></tr><tr><td>2023-04-12</td><td>ROOT</td><td>null</td><td>null</td><td>0.008558110509792782</td><td>0.008558110509792782</td></tr><tr><td>2023-04-07</td><td>CTVA</td><td>730436</td><td>6.7684808530632505</td><td>0.4482586687236953</td><td>7.216739521786946</td></tr><tr><td>2023-04-12</td><td>IKEA</td><td>270950</td><td>2.510719470477205</td><td>0.9486082227193595</td><td>3.4593276931965646</td></tr><tr><td>2023-04-23</td><td>LUERSA</td><td>31</td><td>2.872570717283386E-4</td><td>0.0015600985631737505</td><td>0.001847355634902089</td></tr><tr><td>2023-04-17</td><td>FALA</td><td>null</td><td>null</td><td>0.0</td><td>0.0</td></tr><tr><td>2023-04-11</td><td>IKEA</td><td>392093</td><td>3.6332737750057897</td><td>0.9509015302220023</td><td>4.584175305227792</td></tr><tr><td>2023-04-27</td><td>LUER</td><td>null</td><td>null</td><td>2.7934618078718257E-4</td><td>2.7934618078718257E-4</td></tr><tr><td>2023-04-06</td><td>CTVA</td><td>759228</td><td>7.035277808198809</td><td>0.4486357722000805</td><td>7.483913580398889</td></tr><tr><td>2023-04-06</td><td>HONDA</td><td>3181161</td><td>29.477773985690114</td><td>5.168535042284173</td><td>34.64630902797428</td></tr><tr><td>2023-04-04</td><td>IKEA</td><td>260520</td><td>2.4140713653763477</td><td>0.9080772940887099</td><td>3.3221486594650576</td></tr><tr><td>2023-04-10</td><td>FALA</td><td>null</td><td>null</td><td>0.0</td><td>0.0</td></tr><tr><td>2023-04-23</td><td>MOJIXTRACK</td><td>null</td><td>null</td><td>9.058636818428227E-5</td><td>9.058636818428227E-5</td></tr><tr><td>2023-04-02</td><td>HONDA</td><td>505722</td><td>4.686200671890287</td><td>5.133563606384013</td><td>9.8197642782743</td></tr><tr><td>2023-04-10</td><td>LUERSA</td><td>31</td><td>2.872570717283386E-4</td><td>0.0015833407110982228</td><td>0.0018705977828265613</td></tr><tr><td>2023-04-30</td><td>IKEA</td><td>113602</td><td>1.0526767052413784</td><td>0.911328515646518</td><td>1.9640052208878962</td></tr><tr><td>2023-04-02</td><td>LUER</td><td>null</td><td>null</td><td>2.7775964107763394E-4</td><td>2.7775964107763394E-4</td></tr><tr><td>2023-04-07</td><td>MOJIX</td><td>null</td><td>null</td><td>5.885749326729193E-5</td><td>5.885749326729193E-5</td></tr><tr><td>2023-04-26</td><td>IKEA</td><td>198331</td><td>1.837805880417843</td><td>0.9187747686734883</td><td>2.7565806490913314</td></tr><tr><td>2023-04-20</td><td>ROOT</td><td>null</td><td>null</td><td>0.008494802992199471</td><td>0.008494802992199471</td></tr><tr><td>2023-04-29</td><td>MOJIX</td><td>null</td><td>null</td><td>5.962391784555339E-5</td><td>5.962391784555339E-5</td></tr><tr><td>2023-04-09</td><td>MOJIXTRACK</td><td>null</td><td>null</td><td>8.787815399847448E-5</td><td>8.787815399847448E-5</td></tr><tr><td>2023-04-18</td><td>HONDA</td><td>2874796</td><td>26.63888647665616</td><td>5.635218389383229</td><td>32.274104866039394</td></tr><tr><td>2023-04-03</td><td>LUERSA</td><td>31</td><td>2.872570717283386E-4</td><td>0.001535489108554567</td><td>0.0018227461802829054</td></tr><tr><td>2023-04-04</td><td>CTVA</td><td>721092</td><td>6.6818960118300375</td><td>0.44941865841691875</td><td>7.131314670246956</td></tr><tr><td>2023-04-26</td><td>LUER</td><td>null</td><td>null</td><td>2.7996488723196103E-4</td><td>2.7996488723196103E-4</td></tr><tr><td>2023-04-30</td><td>FALA</td><td>null</td><td>null</td><td>0.0</td><td>0.0</td></tr><tr><td>2023-04-10</td><td>LUER</td><td>null</td><td>null</td><td>2.8602283813387245E-4</td><td>2.8602283813387245E-4</td></tr><tr><td>2023-04-02</td><td>LUERSA</td><td>31</td><td>2.872570717283386E-4</td><td>0.0015375980131083307</td><td>0.0018248550848366692</td></tr><tr><td>2023-04-04</td><td>ROOT</td><td>null</td><td>null</td><td>0.008133156450010424</td><td>0.008133156450010424</td></tr><tr><td>2023-04-21</td><td>LUERSA</td><td>31</td><td>2.872570717283386E-4</td><td>0.0015676122039519108</td><td>0.0018548692756802493</td></tr><tr><td>2023-04-24</td><td>LUERSA</td><td>31</td><td>2.872570717283386E-4</td><td>0.0015566349077393178</td><td>0.0018438919794676566</td></tr><tr><td>2023-04-13</td><td>IKEA</td><td>267146</td><td>2.475470247868992</td><td>0.9462884563832953</td><td>3.4217587042522872</td></tr><tr><td>2023-04-05</td><td>HONDA</td><td>3153012</td><td>29.21693529820363</td><td>5.155835137044125</td><td>34.37277043524776</td></tr><tr><td>2023-04-29</td><td>LUER</td><td>null</td><td>null</td><td>2.782449499459158E-4</td><td>2.782449499459158E-4</td></tr><tr><td>2023-04-13</td><td>MOJIX</td><td>null</td><td>null</td><td>6.17890143357722E-5</td><td>6.17890143357722E-5</td></tr><tr><td>2023-04-09</td><td>CTVA</td><td>721035</td><td>6.681367829472344</td><td>0.44849104105088117</td><td>7.1298588705232255</td></tr><tr><td>2023-04-01</td><td>CTVA</td><td>1177825</td><td>10.914147113175176</td><td>0.4482361855546228</td><td>11.362383298729798</td></tr><tr><td>2023-04-08</td><td>IKEA</td><td>54623</td><td>0.5061562267424852</td><td>0.8993089703776175</td><td>1.4054651971201026</td></tr><tr><td>2023-04-13</td><td>LUERSA</td><td>31</td><td>2.872570717283386E-4</td><td>0.0015962162036741152</td><td>0.001883473275402454</td></tr><tr><td>2023-04-07</td><td>LUERSA</td><td>31</td><td>2.872570717283386E-4</td><td>0.001520485242738375</td><td>0.0018077423144667137</td></tr><tr><td>2023-04-15</td><td>HONDA</td><td>2893881</td><td>26.815734902912144</td><td>5.603394374907691</td><td>32.419129277819835</td></tr><tr><td>2023-04-23</td><td>HONDA</td><td>2987704</td><td>27.68513233003369</td><td>5.680338998819666</td><td>33.36547132885335</td></tr><tr><td>2023-04-27</td><td>FALA</td><td>null</td><td>null</td><td>0.0</td><td>0.0</td></tr><tr><td>2023-04-24</td><td>ROOT</td><td>null</td><td>null</td><td>0.008435956919361465</td><td>0.008435956919361465</td></tr><tr><td>2023-04-25</td><td>CTVA</td><td>721635</td><td>6.68692764376386</td><td>0.4799936616560748</td><td>7.166921305419935</td></tr><tr><td>2023-04-14</td><td>FALA</td><td>null</td><td>null</td><td>0.0</td><td>0.0</td></tr><tr><td>2023-04-25</td><td>HONDA</td><td>2912690</td><td>26.99002581459402</td><td>5.699195692563285</td><td>32.689221507157306</td></tr><tr><td>2023-04-27</td><td>IKEA</td><td>367988</td><td>3.4099082358441253</td><td>0.9167443287983364</td><td>4.326652564642462</td></tr><tr><td>2023-04-21</td><td>LUER</td><td>null</td><td>null</td><td>2.8318155942357097E-4</td><td>2.8318155942357097E-4</td></tr><tr><td>2023-04-08</td><td>FEDEX</td><td>3293512</td><td>30.51885847813368</td><td>10.849538469831078</td><td>41.368396947964754</td></tr><tr><td>2023-04-19</td><td>ROOT</td><td>null</td><td>null</td><td>0.008481774047572456</td><td>0.008481774047572456</td></tr><tr><td>2023-04-01</td><td>MOJIX</td><td>null</td><td>null</td><td>5.9611160415988506E-5</td><td>5.9611160415988506E-5</td></tr><tr><td>2023-04-26</td><td>CTVA</td><td>738431</td><td>6.842565378497705</td><td>0.47957985182834934</td><td>7.322145230326054</td></tr><tr><td>2023-04-01</td><td>IKEA</td><td>438956</td><td>4.067523070244665</td><td>0.9129349865774613</td><td>4.980458056822126</td></tr><tr><td>2023-04-03</td><td>HONDA</td><td>1806354</td><td>16.738321307895852</td><td>5.132258421958167</td><td>21.87057972985402</td></tr><tr><td>2023-04-22</td><td>LUERSA</td><td>31</td><td>2.872570717283386E-4</td><td>0.0015641144594978746</td><td>0.0018513715312262133</td></tr><tr><td>2023-04-27</td><td>MOJIXTRACK</td><td>null</td><td>null</td><td>8.978984382445153E-5</td><td>8.978984382445153E-5</td></tr><tr><td>2023-04-19</td><td>FEDEX</td><td>3259069</td><td>30.19969733872919</td><td>11.465357423111529</td><td>41.66505476184072</td></tr><tr><td>2023-04-21</td><td>HONDA</td><td>2929482</td><td>27.145626483899253</td><td>5.661932099114877</td><td>32.807558583014135</td></tr><tr><td>2023-04-15</td><td>FALA</td><td>null</td><td>null</td><td>0.0</td><td>0.0</td></tr><tr><td>2023-04-30</td><td>LUER</td><td>null</td><td>null</td><td>2.776958987267518E-4</td><td>2.776958987267518E-4</td></tr><tr><td>2023-04-27</td><td>HONDA</td><td>2718544</td><td>25.190999638859502</td><td>5.718525596842356</td><td>30.909525235701857</td></tr><tr><td>2023-04-25</td><td>LUER</td><td>null</td><td>null</td><td>2.8059256182659184E-4</td><td>2.8059256182659184E-4</td></tr><tr><td>2023-04-29</td><td>IKEA</td><td>125772</td><td>1.1654482717876324</td><td>0.9131303644850093</td><td>2.078578636272642</td></tr><tr><td>2023-04-12</td><td>FALA</td><td>null</td><td>null</td><td>0.0</td><td>0.0</td></tr><tr><td>2023-04-03</td><td>MOJIX</td><td>null</td><td>null</td><td>5.9438288073080014E-5</td><td>5.9438288073080014E-5</td></tr><tr><td>2023-04-10</td><td>MOJIXTRACK</td><td>null</td><td>null</td><td>9.193591225731615E-5</td><td>9.193591225731615E-5</td></tr><tr><td>2023-04-07</td><td>LUER</td><td>null</td><td>null</td><td>2.74668301914029E-4</td><td>2.74668301914029E-4</td></tr><tr><td>2023-04-20</td><td>CTVA</td><td>768115</td><td>7.117627924213317</td><td>0.4759117074913851</td><td>7.593539631704703</td></tr><tr><td>2023-04-29</td><td>MOJIXTRACK</td><td>null</td><td>null</td><td>8.943587676833007E-5</td><td>8.943587676833007E-5</td></tr><tr><td>2023-04-29</td><td>ROOT</td><td>null</td><td>null</td><td>0.008397035096582102</td><td>0.008397035096582102</td></tr><tr><td>2023-04-02</td><td>ROOT</td><td>null</td><td>null</td><td>0.00814430947588348</td><td>0.00814430947588348</td></tr><tr><td>2023-04-04</td><td>FALA</td><td>null</td><td>null</td><td>0.0</td><td>0.0</td></tr><tr><td>2023-04-02</td><td>MOJIX</td><td>null</td><td>null</td><td>5.951992308806442E-5</td><td>5.951992308806442E-5</td></tr><tr><td>2023-04-14</td><td>MOJIXTRACK</td><td>null</td><td>null</td><td>9.24661206403279E-5</td><td>9.24661206403279E-5</td></tr><tr><td>2023-04-06</td><td>MOJIXTRACK</td><td>null</td><td>null</td><td>8.849995506314053E-5</td><td>8.849995506314053E-5</td></tr><tr><td>2023-04-12</td><td>HONDA</td><td>3102255</td><td>28.746602808212813</td><td>5.569936280935629</td><td>34.31653908914844</td></tr><tr><td>2023-04-14</td><td>CTVA</td><td>741735</td><td>6.873181422529654</td><td>0.4779162815362371</td><td>7.351097704065891</td></tr><tr><td>2023-04-23</td><td>IKEA</td><td>231852</td><td>2.1484234385277023</td><td>0.9248767540095015</td><td>3.0733001925372037</td></tr><tr><td>2023-04-24</td><td>MOJIXTRACK</td><td>null</td><td>null</td><td>9.038525270744425E-5</td><td>9.038525270744425E-5</td></tr><tr><td>2023-04-16</td><td>HONDA</td><td>2948012</td><td>27.317332081935582</td><td>5.613585106546874</td><td>32.930917188482454</td></tr><tr><td>2023-04-06</td><td>LUER</td><td>null</td><td>null</td><td>2.7533319352977055E-4</td><td>2.7533319352977055E-4</td></tr><tr><td>2023-04-12</td><td>MOJIX</td><td>null</td><td>null</td><td>6.194048619874148E-5</td><td>6.194048619874148E-5</td></tr><tr><td>2023-04-01</td><td>LUERSA</td><td>31</td><td>2.872570717283386E-4</td><td>0.0015399549774130364</td><td>0.001827212049141375</td></tr><tr><td>2023-04-09</td><td>FEDEX</td><td>3290488</td><td>30.49083701410444</td><td>10.841947721083125</td><td>41.332784735187566</td></tr><tr><td>2023-04-03</td><td>CTVA</td><td>680116</td><td>6.302197761148089</td><td>0.4499478407132157</td><td>6.752145601861304</td></tr><tr><td>2023-04-02</td><td>CTVA</td><td>658136</td><td>6.098523230935545</td><td>0.44998053853294834</td><td>6.548503769468493</td></tr><tr><td>2023-04-07</td><td>IKEA</td><td>231709</td><td>2.147098349454891</td><td>0.9013926998063647</td><td>3.048491049261256</td></tr><tr><td>2023-04-23</td><td>LUER</td><td>null</td><td>null</td><td>2.8182425657332266E-4</td><td>2.8182425657332266E-4</td></tr><tr><td>2023-04-16</td><td>CTVA</td><td>745325</td><td>6.906447644707225</td><td>0.47719789439585475</td><td>7.38364553910308</td></tr><tr><td>2023-04-05</td><td>IKEA</td><td>612020</td><td>5.671195904489607</td><td>0.905849139221821</td><td>6.577045043711427</td></tr><tr><td>2023-04-30</td><td>HONDA</td><td>2442029</td><td>22.62871289082849</td><td>5.73822870960425</td><td>28.36694160043274</td></tr><tr><td>2023-04-23</td><td>FEDEX</td><td>3067184</td><td>28.421622396516536</td><td>11.433459111899394</td><td>39.85508150841593</td></tr><tr><td>2023-04-22</td><td>FEDEX</td><td>3089103</td><td>28.624731678942776</td><td>11.444988778342994</td><td>40.06972045728577</td></tr><tr><td>2023-04-14</td><td>LUER</td><td>null</td><td>null</td><td>2.8767237532546466E-4</td><td>2.8767237532546466E-4</td></tr><tr><td>2023-04-17</td><td>HONDA</td><td>2938390</td><td>27.228171193413967</td><td>5.625370797613543</td><td>32.85354199102751</td></tr><tr><td>2023-04-30</td><td>LUERSA</td><td>31</td><td>2.872570717283386E-4</td><td>0.0015372451536659478</td><td>0.0018245022253942865</td></tr><tr><td>2023-04-09</td><td>ROOT</td><td>null</td><td>null</td><td>0.008084790167859653</td><td>0.008084790167859653</td></tr><tr><td>2023-04-16</td><td>FEDEX</td><td>3176066</td><td>29.430561895997986</td><td>11.488822099851198</td><td>40.91938399584919</td></tr><tr><td>2023-04-18</td><td>ROOT</td><td>null</td><td>null</td><td>0.008500557962526705</td><td>0.008500557962526705</td></tr><tr><td>2023-04-17</td><td>FEDEX</td><td>3263964</td><td>30.24505615699081</td><td>11.479692850061125</td><td>41.72474900705193</td></tr><tr><td>2023-04-08</td><td>ROOT</td><td>null</td><td>null</td><td>0.008083984040874447</td><td>0.008083984040874447</td></tr><tr><td>2023-04-27</td><td>MOJIX</td><td>null</td><td>null</td><td>5.9859895882967696E-5</td><td>5.9859895882967696E-5</td></tr><tr><td>2023-04-11</td><td>MOJIX</td><td>null</td><td>null</td><td>6.209023040115807E-5</td><td>6.209023040115807E-5</td></tr><tr><td>2023-04-08</td><td>FALA</td><td>null</td><td>null</td><td>0.0</td><td>0.0</td></tr><tr><td>2023-04-14</td><td>MOJIX</td><td>null</td><td>null</td><td>6.164408042688528E-5</td><td>6.164408042688528E-5</td></tr><tr><td>2023-04-30</td><td>MOJIXTRACK</td><td>null</td><td>null</td><td>8.925939601931308E-5</td><td>8.925939601931308E-5</td></tr><tr><td>2023-04-15</td><td>LUER</td><td>null</td><td>null</td><td>2.8701712735514296E-4</td><td>2.8701712735514296E-4</td></tr><tr><td>2023-04-08</td><td>CTVA</td><td>715887</td><td>6.633664622851135</td><td>0.44789773563028934</td><td>7.081562358481424</td></tr><tr><td>2023-04-05</td><td>CTVA</td><td>763414</td><td>7.0740667792392875</td><td>0.4490947054205538</td><td>7.523161484659841</td></tr><tr><td>2023-04-13</td><td>FEDEX</td><td>3266766</td><td>30.27102048973219</td><td>11.5125703437173</td><td>41.783590833449495</td></tr><tr><td>2023-04-13</td><td>FALA</td><td>null</td><td>null</td><td>0.0</td><td>0.0</td></tr><tr><td>2023-04-17</td><td>CTVA</td><td>758992</td><td>7.0330909479108135</td><td>0.4767989722534251</td><td>7.509889920164238</td></tr><tr><td>2023-04-30</td><td>CTVA</td><td>679586</td><td>6.29728659185725</td><td>0.4781129959221161</td><td>6.775399587779366</td></tr><tr><td>2023-04-22</td><td>HONDA</td><td>2831709</td><td>26.23962694602523</td><td>5.672165222289268</td><td>31.911792168314495</td></tr><tr><td>2023-04-18</td><td>FALA</td><td>null</td><td>null</td><td>0.0</td><td>0.0</td></tr><tr><td>2023-04-22</td><td>LUER</td><td>null</td><td>null</td><td>2.825497088125193E-4</td><td>2.825497088125193E-4</td></tr><tr><td>2023-04-24</td><td>IKEA</td><td>375406</td><td>3.478646073201571</td><td>0.9228233873371497</td><td>4.401469460538721</td></tr><tr><td>2023-04-29</td><td>LUERSA</td><td>31</td><td>2.872570717283386E-4</td><td>0.0015402845443434625</td><td>0.001827541616071801</td></tr><tr><td>2023-04-05</td><td>LUER</td><td>null</td><td>null</td><td>2.760262479536287E-4</td><td>2.760262479536287E-4</td></tr><tr><td>2023-04-28</td><td>HONDA</td><td>2563133</td><td>23.750905807428122</td><td>5.725645342652337</td><td>29.476551150080457</td></tr><tr><td>2023-04-25</td><td>FALA</td><td>null</td><td>null</td><td>0.0</td><td>0.0</td></tr><tr><td>2023-04-25</td><td>ROOT</td><td>null</td><td>null</td><td>0.008427798017720133</td><td>0.008427798017720133</td></tr><tr><td>2023-04-01</td><td>HONDA</td><td>1062346</td><td>9.844077455558505</td><td>5.13456756165756</td><td>14.978645017216065</td></tr><tr><td>2023-04-11</td><td>MOJIXTRACK</td><td>null</td><td>null</td><td>9.313534560173708E-5</td><td>9.313534560173708E-5</td></tr><tr><td>2023-04-19</td><td>IKEA</td><td>224287</td><td>2.078323446668835</td><td>0.9333912999489647</td><td>3.0117147466177996</td></tr><tr><td>2023-04-21</td><td>MOJIXTRACK</td><td>10</td><td>9.266357152527053E-5</td><td>9.102264410043352E-5</td><td>1.8368621562570405E-4</td></tr><tr><td>2023-04-23</td><td>FALA</td><td>null</td><td>null</td><td>0.0</td><td>0.0</td></tr><tr><td>2023-04-04</td><td>FEDEX</td><td>3143494</td><td>29.128738110825875</td><td>10.885296028284854</td><td>40.01403413911073</td></tr><tr><td>2023-04-18</td><td>CTVA</td><td>786042</td><td>7.28374590888667</td><td>0.4764588188768562</td><td>7.760204727763526</td></tr><tr><td>2023-04-20</td><td>IKEA</td><td>151321</td><td>1.4021944306775462</td><td>0.9314784631864167</td><td>2.333672893863963</td></tr><tr><td>2023-04-10</td><td>HONDA</td><td>3042126</td><td>28.189426018988513</td><td>5.461401792139057</td><td>33.65082781112757</td></tr><tr><td>2023-04-29</td><td>FALA</td><td>null</td><td>null</td><td>0.0</td><td>0.0</td></tr><tr><td>2023-04-19</td><td>LUERSA</td><td>31</td><td>2.872570717283386E-4</td><td>0.0015744610507469829</td><td>0.0018617181224753216</td></tr><tr><td>2023-04-06</td><td>FEDEX</td><td>3184427</td><td>29.508037908150264</td><td>10.865817982757251</td><td>40.373855890907514</td></tr><tr><td>2023-04-20</td><td>HONDA</td><td>2531825</td><td>23.460794697696805</td><td>5.65152755393328</td><td>29.112322251630086</td></tr><tr><td>2023-04-03</td><td>ROOT</td><td>null</td><td>null</td><td>0.008143045466011961</td><td>0.008143045466011961</td></tr><tr><td>2023-04-08</td><td>LUERSA</td><td>31</td><td>2.872570717283386E-4</td><td>0.00151697037086627</td><td>0.0018042274425946088</td></tr><tr><td>2023-04-25</td><td>FEDEX</td><td>3151080</td><td>29.199032696184947</td><td>11.419526017729869</td><td>40.618558713914815</td></tr><tr><td>2023-04-28</td><td>FEDEX</td><td>3121233</td><td>28.922459734253472</td><td>11.400313842176818</td><td>40.32277357643029</td></tr><tr><td>2023-04-26</td><td>MOJIX</td><td>null</td><td>null</td><td>5.999247583542023E-5</td><td>5.999247583542023E-5</td></tr><tr><td>2023-04-11</td><td>LUERSA</td><td>31</td><td>2.872570717283386E-4</td><td>0.0016039976186965836</td><td>0.0018912546904249223</td></tr><tr><td>2023-04-08</td><td>LUER</td><td>null</td><td>null</td><td>2.740333573177778E-4</td><td>2.740333573177778E-4</td></tr><tr><td>2023-04-12</td><td>FEDEX</td><td>3297544</td><td>30.55622043017267</td><td>11.522055685131862</td><td>42.07827611530453</td></tr><tr><td>2023-04-07</td><td>HONDA</td><td>3053553</td><td>28.29531268217044</td><td>5.179959696214462</td><td>33.4752723783849</td></tr><tr><td>2023-04-25</td><td>MOJIX</td><td>null</td><td>null</td><td>6.012697753426968E-5</td><td>6.012697753426968E-5</td></tr><tr><td>2023-04-24</td><td>FALA</td><td>null</td><td>null</td><td>0.0</td><td>0.0</td></tr><tr><td>2023-04-14</td><td>ROOT</td><td>null</td><td>null</td><td>0.008558253165932573</td><td>0.008558253165932573</td></tr><tr><td>2023-04-19</td><td>MOJIX</td><td>null</td><td>null</td><td>6.0946879383754186E-5</td><td>6.0946879383754186E-5</td></tr><tr><td>2023-04-29</td><td>HONDA</td><td>2525240</td><td>23.399775735847417</td><td>5.731686971771611</td><td>29.131462707619026</td></tr><tr><td>2023-04-22</td><td>FALA</td><td>null</td><td>null</td><td>0.0</td><td>0.0</td></tr><tr><td>2023-04-07</td><td>ROOT</td><td>null</td><td>null</td><td>0.008102714906463854</td><td>0.008102714906463854</td></tr><tr><td>2023-04-16</td><td>ROOT</td><td>null</td><td>null</td><td>0.008529792188395191</td><td>0.008529792188395191</td></tr><tr><td>2023-04-15</td><td>CTVA</td><td>733446</td><td>6.796372588092357</td><td>0.477524745637119</td><td>7.273897333729476</td></tr><tr><td>2023-04-17</td><td>MOJIXTRACK</td><td>null</td><td>null</td><td>9.182946180784991E-5</td><td>9.182946180784991E-5</td></tr><tr><td>2023-04-27</td><td>FEDEX</td><td>3215569</td><td>29.796610802594262</td><td>11.405155845828403</td><td>41.20176664842266</td></tr><tr><td>2023-04-11</td><td>HONDA</td><td>3101428</td><td>28.738939530847674</td><td>5.558213941794334</td><td>34.29715347264201</td></tr><tr><td>2023-04-09</td><td>MOJIX</td><td>null</td><td>null</td><td>5.8585435998983E-5</td><td>5.8585435998983E-5</td></tr><tr><td>2023-05-01</td><td>CTVA</td><td>499443</td><td>4.885981321602973</td><td>null</td><td>4.885981321602973</td></tr><tr><td>2023-04-17</td><td>LUER</td><td>null</td><td>null</td><td>2.856916589577553E-4</td><td>2.856916589577553E-4</td></tr><tr><td>2023-04-13</td><td>MOJIXTRACK</td><td>null</td><td>null</td><td>9.268352150365828E-5</td><td>9.268352150365828E-5</td></tr><tr><td>2023-04-13</td><td>CTVA</td><td>746966</td><td>6.921653736794522</td><td>0.47827786546604467</td><td>7.399931602260567</td></tr><tr><td>2023-04-29</td><td>FEDEX</td><td>3093086</td><td>28.661639579481292</td><td>11.396306973286613</td><td>40.0579465527679</td></tr><tr><td>2023-05-01</td><td>IKEA</td><td>79958</td><td>0.7822179798550195</td><td>null</td><td>0.7822179798550195</td></tr><tr><td>2023-04-18</td><td>FEDEX</td><td>3261597</td><td>30.22312268961078</td><td>11.472302124681358</td><td>41.69542481429214</td></tr><tr><td>2023-04-01</td><td>FALA</td><td>null</td><td>null</td><td>0.0</td><td>0.0</td></tr><tr><td>2023-04-28</td><td>MOJIXTRACK</td><td>null</td><td>null</td><td>8.960773206068647E-5</td><td>8.960773206068647E-5</td></tr><tr><td>2023-04-22</td><td>IKEA</td><td>244383</td><td>2.264540160006019</td><td>0.9272575068954853</td><td>3.191797666901504</td></tr><tr><td>2023-05-01</td><td>FEDEX</td><td>2259689</td><td>22.106222825491</td><td>null</td><td>22.106222825491</td></tr><tr><td>2023-04-12</td><td>LUERSA</td><td>31</td><td>2.872570717283386E-4</td><td>0.0016001292268008217</td><td>0.0018873862985291602</td></tr><tr><td>2023-04-03</td><td>IKEA</td><td>141812</td><td>1.3140806405141665</td><td>0.9102874754578749</td><td>2.2243681159720414</td></tr><tr><td>2023-04-02</td><td>FEDEX</td><td>3177343</td><td>29.442395034081763</td><td>10.89143168603873</td><td>40.33382672012049</td></tr><tr><td>2023-04-13</td><td>HONDA</td><td>3069644</td><td>28.444417635111755</td><td>5.58222551847478</td><td>34.02664315358653</td></tr><tr><td>2023-04-16</td><td>MOJIX</td><td>null</td><td>null</td><td>6.136541142730354E-5</td><td>6.136541142730354E-5</td></tr><tr><td>2023-04-26</td><td>MOJIXTRACK</td><td>null</td><td>null</td><td>8.998871375313034E-5</td><td>8.998871375313034E-5</td></tr><tr><td>2023-04-06</td><td>IKEA</td><td>345815</td><td>3.2044452987011427</td><td>0.9035747078663248</td><td>4.108020006567467</td></tr><tr><td>2023-04-01</td><td>FEDEX</td><td>5341679</td><td>49.49790540815356</td><td>10.89077023932645</td><td>60.38867564748001</td></tr><tr><td>2023-04-21</td><td>FALA</td><td>null</td><td>null</td><td>0.0</td><td>0.0</td></tr><tr><td>2023-04-09</td><td>LUERSA</td><td>31</td><td>2.872570717283386E-4</td><td>0.001513457096640394</td><td>0.0018007141683687327</td></tr><tr><td>2023-04-12</td><td>LUER</td><td>null</td><td>null</td><td>2.890556022607935E-4</td><td>2.890556022607935E-4</td></tr><tr><td>2023-04-18</td><td>MOJIXTRACK</td><td>null</td><td>null</td><td>9.162278043441959E-5</td><td>9.162278043441959E-5</td></tr><tr><td>2023-04-20</td><td>MOJIXTRACK</td><td>null</td><td>null</td><td>9.123296769665303E-5</td><td>9.123296769665303E-5</td></tr><tr><td>2023-04-06</td><td>ROOT</td><td>null</td><td>null</td><td>0.008112495880787883</td><td>0.008112495880787883</td></tr><tr><td>2023-04-20</td><td>LUERSA</td><td>31</td><td>2.872570717283386E-4</td><td>0.00157123444366458</td><td>0.0018584915153929188</td></tr><tr><td>2023-04-11</td><td>FEDEX</td><td>3282116</td><td>30.413259072023482</td><td>11.531097487322803</td><td>41.94435655934629</td></tr><tr><td>2023-04-04</td><td>HONDA</td><td>3145860</td><td>29.15066231184876</td><td>5.143742161693775</td><td>34.29440447354253</td></tr><tr><td>2023-04-10</td><td>MOJIX</td><td>null</td><td>null</td><td>6.129060817154411E-5</td><td>6.129060817154411E-5</td></tr><tr><td>2023-04-19</td><td>HONDA</td><td>2853374</td><td>26.440382573734727</td><td>5.6445749184999325</td><td>32.084957492234665</td></tr><tr><td>2023-04-02</td><td>FALA</td><td>null</td><td>null</td><td>0.0</td><td>0.0</td></tr><tr><td>2023-04-20</td><td>LUER</td><td>null</td><td>null</td><td>2.838358995006983E-4</td><td>2.838358995006983E-4</td></tr></tbody></table></div>"
      ]
     },
     "metadata": {
      "application/vnd.databricks.v1+output": {
       "addedWidgets": {},
       "aggData": [],
       "aggError": "",
       "aggOverflow": false,
       "aggSchema": [],
       "aggSeriesLimitReached": false,
       "aggType": "",
       "arguments": {},
       "columnCustomDisplayInfos": {},
       "data": [
        [
         "2023-04-05",
         "FALA",
         null,
         null,
         0.0,
         0.0
        ],
        [
         "2023-04-10",
         "ROOT",
         null,
         null,
         0.008458103927673084,
         0.008458103927673084
        ],
        [
         "2023-04-25",
         "IKEA",
         353518,
         3.275824047847059,
         0.9208346397744178,
         4.196658687621476
        ],
        [
         "2023-04-01",
         "LUER",
         null,
         null,
         2.78185415274613E-4,
         2.78185415274613E-4
        ],
        [
         "2023-04-25",
         "LUERSA",
         31,
         2.872570717283386E-4,
         0.0015532802529686332,
         0.0018405373246969717
        ],
        [
         "2023-04-07",
         "MOJIXTRACK",
         null,
         null,
         8.828623990093789E-5,
         8.828623990093789E-5
        ],
        [
         "2023-04-16",
         "LUERSA",
         31,
         2.872570717283386E-4,
         0.0015852731285386748,
         0.0018725302002670133
        ],
        [
         "2023-04-21",
         "MOJIX",
         8,
         7.413085722021642E-5,
         6.068176273362235E-5,
         1.3481261995383878E-4
        ],
        [
         "2023-04-19",
         "LUER",
         null,
         null,
         2.844187704575195E-4,
         2.844187704575195E-4
        ],
        [
         "2023-04-08",
         "MOJIXTRACK",
         null,
         null,
         8.808215056642858E-5,
         8.808215056642858E-5
        ],
        [
         "2023-04-28",
         "FALA",
         null,
         null,
         0.0,
         0.0
        ],
        [
         "2023-04-16",
         "FALA",
         null,
         null,
         0.0,
         0.0
        ],
        [
         "2023-04-24",
         "HONDA",
         2780095,
         25.761353187954697,
         5.690022813691739,
         31.451376001646434
        ],
        [
         "2023-04-10",
         "IKEA",
         14558,
         0.13489962742648884,
         0.938655449045836,
         1.0735550764723247
        ],
        [
         "2023-04-14",
         "IKEA",
         367436,
         3.4047932066959303,
         0.9440688177243436,
         4.348862024420274
        ],
        [
         "2023-04-03",
         "LUER",
         null,
         null,
         2.773786776743734E-4,
         2.773786776743734E-4
        ],
        [
         "2023-04-28",
         "LUER",
         null,
         null,
         2.78779610855469E-4,
         2.78779610855469E-4
        ],
        [
         "2023-04-27",
         "ROOT",
         null,
         null,
         0.008420292020870789,
         0.008420292020870789
        ],
        [
         "2023-04-28",
         "ROOT",
         null,
         null,
         0.00840321398435771,
         0.00840321398435771
        ],
        [
         "2023-04-11",
         "ROOT",
         null,
         null,
         0.008578800167093337,
         0.008578800167093337
        ],
        [
         "2023-04-15",
         "ROOT",
         null,
         null,
         0.0085387595388155,
         0.0085387595388155
        ],
        [
         "2023-04-17",
         "ROOT",
         null,
         null,
         0.008509530127527426,
         0.008509530127527426
        ],
        [
         "2023-04-23",
         "MOJIX",
         null,
         null,
         6.0390912122854856E-5,
         6.0390912122854856E-5
        ],
        [
         "2023-04-18",
         "IKEA",
         347228,
         3.2175386613576635,
         0.9354584079264869,
         4.152997069284151
        ],
        [
         "2023-04-08",
         "HONDA",
         2861476,
         26.515458599384502,
         5.189859032807684,
         31.705317632192187
        ],
        [
         "2023-04-15",
         "MOJIXTRACK",
         null,
         null,
         9.225550522129594E-5,
         9.225550522129594E-5
        ],
        [
         "2023-04-19",
         "FALA",
         null,
         null,
         0.0,
         0.0
        ],
        [
         "2023-04-03",
         "FEDEX",
         3183583,
         29.500217102713535,
         10.894027752898324,
         40.39424485561186
        ],
        [
         "2023-04-04",
         "MOJIXTRACK",
         null,
         null,
         8.894095753352835E-5,
         8.894095753352835E-5
        ],
        [
         "2023-04-15",
         "FEDEX",
         3185378,
         29.516850213802318,
         11.49655304110378,
         41.013403254906095
        ],
        [
         "2023-04-26",
         "FALA",
         null,
         null,
         0.0,
         0.0
        ],
        [
         "2023-04-05",
         "MOJIXTRACK",
         null,
         null,
         8.87227225565235E-5,
         8.87227225565235E-5
        ],
        [
         "2023-04-22",
         "CTVA",
         676842,
         6.271859707830716,
         0.4750770621851641,
         6.74693677001588
        ],
        [
         "2023-04-16",
         "MOJIXTRACK",
         null,
         null,
         9.20481171409553E-5,
         9.20481171409553E-5
        ],
        [
         "2023-04-23",
         "CTVA",
         678901,
         6.2909391372077685,
         0.48084250747419083,
         6.771781644681959
        ],
        [
         "2023-04-05",
         "FEDEX",
         3091266,
         28.644774809463694,
         10.875789060263198,
         39.52056386972689
        ],
        [
         "2023-04-04",
         "MOJIX",
         null,
         null,
         5.929397168901891E-5,
         5.929397168901891E-5
        ],
        [
         "2023-04-20",
         "MOJIX",
         null,
         null,
         6.0821978464435356E-5,
         6.0821978464435356E-5
        ],
        [
         "2023-04-21",
         "IKEA",
         207225,
         1.9202208609324185,
         0.9293310826383042,
         2.849551943570723
        ],
        [
         "2023-04-01",
         "ROOT",
         null,
         null,
         0.008146858590185097,
         0.008146858590185097
        ],
        [
         "2023-04-18",
         "MOJIX",
         null,
         null,
         6.10818536229464E-5,
         6.10818536229464E-5
        ],
        [
         "2023-04-14",
         "FEDEX",
         3226836,
         29.901014848631785,
         11.504398427761297,
         41.405413276393084
        ],
        [
         "2023-04-22",
         "MOJIXTRACK",
         null,
         null,
         9.081954926116692E-5,
         9.081954926116692E-5
        ],
        [
         "2023-04-06",
         "FALA",
         null,
         null,
         0.0,
         0.0
        ],
        [
         "2023-04-27",
         "CTVA",
         682119,
         6.320758274524601,
         0.47913855994590104,
         6.799896834470502
        ],
        [
         "2023-04-14",
         "LUERSA",
         31,
         2.872570717283386E-4,
         0.0015924720776945363,
         0.0018797291494228748
        ],
        [
         "2023-04-28",
         "MOJIX",
         null,
         null,
         5.9738488040457646E-5,
         5.9738488040457646E-5
        ],
        [
         "2023-04-17",
         "IKEA",
         199025,
         1.8442367322816968,
         0.9375686017846135,
         2.7818053340663105
        ],
        [
         "2023-04-02",
         "MOJIXTRACK",
         null,
         null,
         8.927988463209662E-5,
         8.927988463209662E-5
        ],
        [
         "2023-04-19",
         "CTVA",
         790863,
         7.328419016719002,
         0.4761373373723489,
         7.804556354091352
        ],
        [
         "2023-04-26",
         "HONDA",
         2850905,
         26.41750393792514,
         5.709183962877766,
         32.1266879008029
        ],
        [
         "2023-04-18",
         "LUERSA",
         31,
         2.872570717283386E-4,
         0.0015779478852594485,
         0.0018652049569877873
        ],
        [
         "2023-04-23",
         "ROOT",
         null,
         null,
         0.008454727697199679,
         0.008454727697199679
        ],
        [
         "2023-04-24",
         "MOJIX",
         null,
         null,
         6.025683513829618E-5,
         6.025683513829618E-5
        ],
        [
         "2023-04-12",
         "MOJIXTRACK",
         null,
         null,
         9.291072929811222E-5,
         9.291072929811222E-5
        ],
        [
         "2023-05-01",
         "HONDA",
         1631304,
         15.958819873051011,
         null,
         15.958819873051011
        ],
        [
         "2023-04-15",
         "MOJIX",
         null,
         null,
         6.150367014753063E-5,
         6.150367014753063E-5
        ],
        [
         "2023-04-09",
         "LUER",
         null,
         null,
         2.733987013285873E-4,
         2.733987013285873E-4
        ],
        [
         "2023-04-20",
         "FEDEX",
         3239455,
         30.017947009539526,
         11.460533347107393,
         41.47848035664692
        ],
        [
         "2023-04-21",
         "ROOT",
         null,
         null,
         0.008475219528462585,
         0.008475219528462585
        ],
        [
         "2023-04-14",
         "HONDA",
         3044412,
         28.210608911439195,
         5.59298796515811,
         33.803596876597304
        ],
        [
         "2023-04-04",
         "LUERSA",
         31,
         2.872570717283386E-4,
         0.001531760935299655,
         0.0018190180070279936
        ],
        [
         "2023-04-17",
         "MOJIX",
         null,
         null,
         6.121964120523328E-5,
         6.121964120523328E-5
        ],
        [
         "2023-04-26",
         "FEDEX",
         3223976,
         29.87451306717556,
         11.412018722062951,
         41.28653178923851
        ],
        [
         "2023-04-15",
         "LUERSA",
         31,
         2.872570717283386E-4,
         0.0015888448121445411,
         0.0018761018838728796
        ],
        [
         "2023-04-10",
         "CTVA",
         747528,
         6.9268614295142426,
         0.47223392086038535,
         7.399095350374628
        ],
        [
         "2023-04-18",
         "LUER",
         null,
         null,
         2.850486502404165E-4,
         2.850486502404165E-4
        ],
        [
         "2023-04-05",
         "ROOT",
         null,
         null,
         0.00812305815406393,
         0.00812305815406393
        ],
        [
         "2023-04-24",
         "LUER",
         null,
         null,
         2.8119856397871543E-4,
         2.8119856397871543E-4
        ],
        [
         "2023-04-08",
         "MOJIX",
         null,
         null,
         5.8721433710952395E-5,
         5.8721433710952395E-5
        ],
        [
         "2023-04-22",
         "ROOT",
         null,
         null,
         0.00846640020334656,
         0.00846640020334656
        ],
        [
         "2023-04-30",
         "MOJIX",
         null,
         null,
         5.9506264012875393E-5,
         5.9506264012875393E-5
        ],
        [
         "2023-04-03",
         "FALA",
         null,
         null,
         0.0,
         0.0
        ],
        [
         "2023-04-30",
         "FEDEX",
         3147710,
         29.16780507258093,
         11.391948606599549,
         40.559753679180474
        ],
        [
         "2023-04-05",
         "MOJIX",
         null,
         null,
         5.9148481704349007E-5,
         5.9148481704349007E-5
        ],
        [
         "2023-04-16",
         "IKEA",
         191705,
         1.7764069979251986,
         0.9398010484405827,
         2.7162080463657814
        ],
        [
         "2023-04-06",
         "MOJIX",
         null,
         null,
         5.89999700420937E-5,
         5.89999700420937E-5
        ],
        [
         "2023-04-20",
         "FALA",
         null,
         null,
         0.0,
         0.0
        ],
        [
         "2023-04-15",
         "IKEA",
         221256,
         2.050237118139526,
         0.9419184576977403,
         2.992155575837266
        ],
        [
         "2023-04-21",
         "FEDEX",
         3133595,
         29.03701044137301,
         11.452661239631869,
         40.48967168100488
        ],
        [
         "2023-04-09",
         "FALA",
         null,
         null,
         0.0,
         0.0
        ],
        [
         "2023-04-05",
         "LUERSA",
         31,
         2.872570717283386E-4,
         0.001528002444029016,
         0.0018152595157573544
        ],
        [
         "2023-04-03",
         "MOJIXTRACK",
         null,
         null,
         8.915743210962002E-5,
         8.915743210962002E-5
        ],
        [
         "2023-04-26",
         "LUERSA",
         31,
         2.872570717283386E-4,
         0.001549805625748356,
         0.0018370626974766944
        ],
        [
         "2023-04-24",
         "CTVA",
         712084,
         6.598424666600074,
         0.4803976181400662,
         7.0788222847401405
        ],
        [
         "2023-04-24",
         "FEDEX",
         3146029,
         29.15222832620753,
         11.42629274835212,
         40.57852107455965
        ],
        [
         "2023-04-09",
         "IKEA",
         3766,
         0.03489710103641688,
         0.8972261880850916,
         0.9321232891215084
        ],
        [
         "2023-04-11",
         "LUER",
         null,
         null,
         2.897544085387376E-4,
         2.897544085387376E-4
        ],
        [
         "2023-04-10",
         "FEDEX",
         3414861,
         31.643321652235684,
         11.363677143957393,
         43.00699879619307
        ],
        [
         "2023-04-13",
         "LUER",
         null,
         null,
         2.883487335669369E-4,
         2.883487335669369E-4
        ],
        [
         "2023-04-30",
         "ROOT",
         null,
         null,
         0.008380465515146616,
         0.008380465515146616
        ],
        [
         "2023-04-19",
         "MOJIXTRACK",
         null,
         null,
         9.142031907563128E-5,
         9.142031907563128E-5
        ],
        [
         "2023-04-02",
         "IKEA",
         240831,
         2.231626059400243,
         0.9115377021065254,
         3.1431637615067682
        ],
        [
         "2023-04-07",
         "FEDEX",
         3265765,
         30.26174486622251,
         10.856970923071204,
         41.11871578929372
        ],
        [
         "2023-04-07",
         "FALA",
         null,
         null,
         0.0,
         0.0
        ],
        [
         "2023-04-01",
         "MOJIXTRACK",
         null,
         null,
         8.941674062398275E-5,
         8.941674062398275E-5
        ],
        [
         "2023-04-11",
         "FALA",
         null,
         null,
         0.0,
         0.0
        ],
        [
         "2023-04-16",
         "LUER",
         null,
         null,
         2.863719199940832E-4,
         2.863719199940832E-4
        ],
        [
         "2023-04-28",
         "CTVA",
         686701,
         6.36321672299748,
         0.4787442431562275,
         6.8419609661537075
        ],
        [
         "2023-04-11",
         "CTVA",
         778924,
         7.217787978674982,
         0.4791192628905362,
         7.696907241565518
        ],
        [
         "2023-04-28",
         "IKEA",
         145665,
         1.3497839146228532,
         0.9148849879249354,
         2.264668902547789
        ],
        [
         "2023-04-13",
         "ROOT",
         null,
         null,
         0.00855777848550445,
         0.00855777848550445
        ],
        [
         "2023-04-25",
         "MOJIXTRACK",
         null,
         null,
         9.019046630140451E-5,
         9.019046630140451E-5
        ],
        [
         "2023-04-27",
         "LUERSA",
         31,
         2.872570717283386E-4,
         0.0015463806436433322,
         0.0018336377153716707
        ],
        [
         "2023-04-21",
         "CTVA",
         700975,
         6.495484704992651,
         0.4755528609162761,
         6.971037565908928
        ],
        [
         "2023-04-28",
         "LUERSA",
         31,
         2.872570717283386E-4,
         0.0015432442743784892,
         0.0018305013461068277
        ],
        [
         "2023-04-06",
         "LUERSA",
         31,
         2.872570717283386E-4,
         0.001524165892754087,
         0.0018114229644824258
        ],
        [
         "2023-04-22",
         "MOJIX",
         null,
         null,
         6.054636617411128E-5,
         6.054636617411128E-5
        ],
        [
         "2023-04-26",
         "ROOT",
         null,
         null,
         0.008428942854876543,
         0.008428942854876543
        ],
        [
         "2023-04-04",
         "LUER",
         null,
         null,
         2.767052012154215E-4,
         2.767052012154215E-4
        ],
        [
         "2023-04-17",
         "LUERSA",
         31,
         2.872570717283386E-4,
         0.0015815073978018596,
         0.0018687644695301983
        ],
        [
         "2023-04-09",
         "HONDA",
         2789184,
         25.845575108114016,
         5.198939940225083,
         31.0445150483391
        ],
        [
         "2023-04-12",
         "CTVA",
         778360,
         7.212561753240957,
         0.4787586646588059,
         7.691320417899763
        ],
        [
         "2023-04-29",
         "CTVA",
         689569,
         6.389792635310927,
         0.4784620660712841,
         6.868254701382211
        ],
        [
         "2023-04-12",
         "ROOT",
         null,
         null,
         0.008558110509792782,
         0.008558110509792782
        ],
        [
         "2023-04-07",
         "CTVA",
         730436,
         6.7684808530632505,
         0.4482586687236953,
         7.216739521786946
        ],
        [
         "2023-04-12",
         "IKEA",
         270950,
         2.510719470477205,
         0.9486082227193595,
         3.4593276931965646
        ],
        [
         "2023-04-23",
         "LUERSA",
         31,
         2.872570717283386E-4,
         0.0015600985631737505,
         0.001847355634902089
        ],
        [
         "2023-04-17",
         "FALA",
         null,
         null,
         0.0,
         0.0
        ],
        [
         "2023-04-11",
         "IKEA",
         392093,
         3.6332737750057897,
         0.9509015302220023,
         4.584175305227792
        ],
        [
         "2023-04-27",
         "LUER",
         null,
         null,
         2.7934618078718257E-4,
         2.7934618078718257E-4
        ],
        [
         "2023-04-06",
         "CTVA",
         759228,
         7.035277808198809,
         0.4486357722000805,
         7.483913580398889
        ],
        [
         "2023-04-06",
         "HONDA",
         3181161,
         29.477773985690114,
         5.168535042284173,
         34.64630902797428
        ],
        [
         "2023-04-04",
         "IKEA",
         260520,
         2.4140713653763477,
         0.9080772940887099,
         3.3221486594650576
        ],
        [
         "2023-04-10",
         "FALA",
         null,
         null,
         0.0,
         0.0
        ],
        [
         "2023-04-23",
         "MOJIXTRACK",
         null,
         null,
         9.058636818428227E-5,
         9.058636818428227E-5
        ],
        [
         "2023-04-02",
         "HONDA",
         505722,
         4.686200671890287,
         5.133563606384013,
         9.8197642782743
        ],
        [
         "2023-04-10",
         "LUERSA",
         31,
         2.872570717283386E-4,
         0.0015833407110982228,
         0.0018705977828265613
        ],
        [
         "2023-04-30",
         "IKEA",
         113602,
         1.0526767052413784,
         0.911328515646518,
         1.9640052208878962
        ],
        [
         "2023-04-02",
         "LUER",
         null,
         null,
         2.7775964107763394E-4,
         2.7775964107763394E-4
        ],
        [
         "2023-04-07",
         "MOJIX",
         null,
         null,
         5.885749326729193E-5,
         5.885749326729193E-5
        ],
        [
         "2023-04-26",
         "IKEA",
         198331,
         1.837805880417843,
         0.9187747686734883,
         2.7565806490913314
        ],
        [
         "2023-04-20",
         "ROOT",
         null,
         null,
         0.008494802992199471,
         0.008494802992199471
        ],
        [
         "2023-04-29",
         "MOJIX",
         null,
         null,
         5.962391784555339E-5,
         5.962391784555339E-5
        ],
        [
         "2023-04-09",
         "MOJIXTRACK",
         null,
         null,
         8.787815399847448E-5,
         8.787815399847448E-5
        ],
        [
         "2023-04-18",
         "HONDA",
         2874796,
         26.63888647665616,
         5.635218389383229,
         32.274104866039394
        ],
        [
         "2023-04-03",
         "LUERSA",
         31,
         2.872570717283386E-4,
         0.001535489108554567,
         0.0018227461802829054
        ],
        [
         "2023-04-04",
         "CTVA",
         721092,
         6.6818960118300375,
         0.44941865841691875,
         7.131314670246956
        ],
        [
         "2023-04-26",
         "LUER",
         null,
         null,
         2.7996488723196103E-4,
         2.7996488723196103E-4
        ],
        [
         "2023-04-30",
         "FALA",
         null,
         null,
         0.0,
         0.0
        ],
        [
         "2023-04-10",
         "LUER",
         null,
         null,
         2.8602283813387245E-4,
         2.8602283813387245E-4
        ],
        [
         "2023-04-02",
         "LUERSA",
         31,
         2.872570717283386E-4,
         0.0015375980131083307,
         0.0018248550848366692
        ],
        [
         "2023-04-04",
         "ROOT",
         null,
         null,
         0.008133156450010424,
         0.008133156450010424
        ],
        [
         "2023-04-21",
         "LUERSA",
         31,
         2.872570717283386E-4,
         0.0015676122039519108,
         0.0018548692756802493
        ],
        [
         "2023-04-24",
         "LUERSA",
         31,
         2.872570717283386E-4,
         0.0015566349077393178,
         0.0018438919794676566
        ],
        [
         "2023-04-13",
         "IKEA",
         267146,
         2.475470247868992,
         0.9462884563832953,
         3.4217587042522872
        ],
        [
         "2023-04-05",
         "HONDA",
         3153012,
         29.21693529820363,
         5.155835137044125,
         34.37277043524776
        ],
        [
         "2023-04-29",
         "LUER",
         null,
         null,
         2.782449499459158E-4,
         2.782449499459158E-4
        ],
        [
         "2023-04-13",
         "MOJIX",
         null,
         null,
         6.17890143357722E-5,
         6.17890143357722E-5
        ],
        [
         "2023-04-09",
         "CTVA",
         721035,
         6.681367829472344,
         0.44849104105088117,
         7.1298588705232255
        ],
        [
         "2023-04-01",
         "CTVA",
         1177825,
         10.914147113175176,
         0.4482361855546228,
         11.362383298729798
        ],
        [
         "2023-04-08",
         "IKEA",
         54623,
         0.5061562267424852,
         0.8993089703776175,
         1.4054651971201026
        ],
        [
         "2023-04-13",
         "LUERSA",
         31,
         2.872570717283386E-4,
         0.0015962162036741152,
         0.001883473275402454
        ],
        [
         "2023-04-07",
         "LUERSA",
         31,
         2.872570717283386E-4,
         0.001520485242738375,
         0.0018077423144667137
        ],
        [
         "2023-04-15",
         "HONDA",
         2893881,
         26.815734902912144,
         5.603394374907691,
         32.419129277819835
        ],
        [
         "2023-04-23",
         "HONDA",
         2987704,
         27.68513233003369,
         5.680338998819666,
         33.36547132885335
        ],
        [
         "2023-04-27",
         "FALA",
         null,
         null,
         0.0,
         0.0
        ],
        [
         "2023-04-24",
         "ROOT",
         null,
         null,
         0.008435956919361465,
         0.008435956919361465
        ],
        [
         "2023-04-25",
         "CTVA",
         721635,
         6.68692764376386,
         0.4799936616560748,
         7.166921305419935
        ],
        [
         "2023-04-14",
         "FALA",
         null,
         null,
         0.0,
         0.0
        ],
        [
         "2023-04-25",
         "HONDA",
         2912690,
         26.99002581459402,
         5.699195692563285,
         32.689221507157306
        ],
        [
         "2023-04-27",
         "IKEA",
         367988,
         3.4099082358441253,
         0.9167443287983364,
         4.326652564642462
        ],
        [
         "2023-04-21",
         "LUER",
         null,
         null,
         2.8318155942357097E-4,
         2.8318155942357097E-4
        ],
        [
         "2023-04-08",
         "FEDEX",
         3293512,
         30.51885847813368,
         10.849538469831078,
         41.368396947964754
        ],
        [
         "2023-04-19",
         "ROOT",
         null,
         null,
         0.008481774047572456,
         0.008481774047572456
        ],
        [
         "2023-04-01",
         "MOJIX",
         null,
         null,
         5.9611160415988506E-5,
         5.9611160415988506E-5
        ],
        [
         "2023-04-26",
         "CTVA",
         738431,
         6.842565378497705,
         0.47957985182834934,
         7.322145230326054
        ],
        [
         "2023-04-01",
         "IKEA",
         438956,
         4.067523070244665,
         0.9129349865774613,
         4.980458056822126
        ],
        [
         "2023-04-03",
         "HONDA",
         1806354,
         16.738321307895852,
         5.132258421958167,
         21.87057972985402
        ],
        [
         "2023-04-22",
         "LUERSA",
         31,
         2.872570717283386E-4,
         0.0015641144594978746,
         0.0018513715312262133
        ],
        [
         "2023-04-27",
         "MOJIXTRACK",
         null,
         null,
         8.978984382445153E-5,
         8.978984382445153E-5
        ],
        [
         "2023-04-19",
         "FEDEX",
         3259069,
         30.19969733872919,
         11.465357423111529,
         41.66505476184072
        ],
        [
         "2023-04-21",
         "HONDA",
         2929482,
         27.145626483899253,
         5.661932099114877,
         32.807558583014135
        ],
        [
         "2023-04-15",
         "FALA",
         null,
         null,
         0.0,
         0.0
        ],
        [
         "2023-04-30",
         "LUER",
         null,
         null,
         2.776958987267518E-4,
         2.776958987267518E-4
        ],
        [
         "2023-04-27",
         "HONDA",
         2718544,
         25.190999638859502,
         5.718525596842356,
         30.909525235701857
        ],
        [
         "2023-04-25",
         "LUER",
         null,
         null,
         2.8059256182659184E-4,
         2.8059256182659184E-4
        ],
        [
         "2023-04-29",
         "IKEA",
         125772,
         1.1654482717876324,
         0.9131303644850093,
         2.078578636272642
        ],
        [
         "2023-04-12",
         "FALA",
         null,
         null,
         0.0,
         0.0
        ],
        [
         "2023-04-03",
         "MOJIX",
         null,
         null,
         5.9438288073080014E-5,
         5.9438288073080014E-5
        ],
        [
         "2023-04-10",
         "MOJIXTRACK",
         null,
         null,
         9.193591225731615E-5,
         9.193591225731615E-5
        ],
        [
         "2023-04-07",
         "LUER",
         null,
         null,
         2.74668301914029E-4,
         2.74668301914029E-4
        ],
        [
         "2023-04-20",
         "CTVA",
         768115,
         7.117627924213317,
         0.4759117074913851,
         7.593539631704703
        ],
        [
         "2023-04-29",
         "MOJIXTRACK",
         null,
         null,
         8.943587676833007E-5,
         8.943587676833007E-5
        ],
        [
         "2023-04-29",
         "ROOT",
         null,
         null,
         0.008397035096582102,
         0.008397035096582102
        ],
        [
         "2023-04-02",
         "ROOT",
         null,
         null,
         0.00814430947588348,
         0.00814430947588348
        ],
        [
         "2023-04-04",
         "FALA",
         null,
         null,
         0.0,
         0.0
        ],
        [
         "2023-04-02",
         "MOJIX",
         null,
         null,
         5.951992308806442E-5,
         5.951992308806442E-5
        ],
        [
         "2023-04-14",
         "MOJIXTRACK",
         null,
         null,
         9.24661206403279E-5,
         9.24661206403279E-5
        ],
        [
         "2023-04-06",
         "MOJIXTRACK",
         null,
         null,
         8.849995506314053E-5,
         8.849995506314053E-5
        ],
        [
         "2023-04-12",
         "HONDA",
         3102255,
         28.746602808212813,
         5.569936280935629,
         34.31653908914844
        ],
        [
         "2023-04-14",
         "CTVA",
         741735,
         6.873181422529654,
         0.4779162815362371,
         7.351097704065891
        ],
        [
         "2023-04-23",
         "IKEA",
         231852,
         2.1484234385277023,
         0.9248767540095015,
         3.0733001925372037
        ],
        [
         "2023-04-24",
         "MOJIXTRACK",
         null,
         null,
         9.038525270744425E-5,
         9.038525270744425E-5
        ],
        [
         "2023-04-16",
         "HONDA",
         2948012,
         27.317332081935582,
         5.613585106546874,
         32.930917188482454
        ],
        [
         "2023-04-06",
         "LUER",
         null,
         null,
         2.7533319352977055E-4,
         2.7533319352977055E-4
        ],
        [
         "2023-04-12",
         "MOJIX",
         null,
         null,
         6.194048619874148E-5,
         6.194048619874148E-5
        ],
        [
         "2023-04-01",
         "LUERSA",
         31,
         2.872570717283386E-4,
         0.0015399549774130364,
         0.001827212049141375
        ],
        [
         "2023-04-09",
         "FEDEX",
         3290488,
         30.49083701410444,
         10.841947721083125,
         41.332784735187566
        ],
        [
         "2023-04-03",
         "CTVA",
         680116,
         6.302197761148089,
         0.4499478407132157,
         6.752145601861304
        ],
        [
         "2023-04-02",
         "CTVA",
         658136,
         6.098523230935545,
         0.44998053853294834,
         6.548503769468493
        ],
        [
         "2023-04-07",
         "IKEA",
         231709,
         2.147098349454891,
         0.9013926998063647,
         3.048491049261256
        ],
        [
         "2023-04-23",
         "LUER",
         null,
         null,
         2.8182425657332266E-4,
         2.8182425657332266E-4
        ],
        [
         "2023-04-16",
         "CTVA",
         745325,
         6.906447644707225,
         0.47719789439585475,
         7.38364553910308
        ],
        [
         "2023-04-05",
         "IKEA",
         612020,
         5.671195904489607,
         0.905849139221821,
         6.577045043711427
        ],
        [
         "2023-04-30",
         "HONDA",
         2442029,
         22.62871289082849,
         5.73822870960425,
         28.36694160043274
        ],
        [
         "2023-04-23",
         "FEDEX",
         3067184,
         28.421622396516536,
         11.433459111899394,
         39.85508150841593
        ],
        [
         "2023-04-22",
         "FEDEX",
         3089103,
         28.624731678942776,
         11.444988778342994,
         40.06972045728577
        ],
        [
         "2023-04-14",
         "LUER",
         null,
         null,
         2.8767237532546466E-4,
         2.8767237532546466E-4
        ],
        [
         "2023-04-17",
         "HONDA",
         2938390,
         27.228171193413967,
         5.625370797613543,
         32.85354199102751
        ],
        [
         "2023-04-30",
         "LUERSA",
         31,
         2.872570717283386E-4,
         0.0015372451536659478,
         0.0018245022253942865
        ],
        [
         "2023-04-09",
         "ROOT",
         null,
         null,
         0.008084790167859653,
         0.008084790167859653
        ],
        [
         "2023-04-16",
         "FEDEX",
         3176066,
         29.430561895997986,
         11.488822099851198,
         40.91938399584919
        ],
        [
         "2023-04-18",
         "ROOT",
         null,
         null,
         0.008500557962526705,
         0.008500557962526705
        ],
        [
         "2023-04-17",
         "FEDEX",
         3263964,
         30.24505615699081,
         11.479692850061125,
         41.72474900705193
        ],
        [
         "2023-04-08",
         "ROOT",
         null,
         null,
         0.008083984040874447,
         0.008083984040874447
        ],
        [
         "2023-04-27",
         "MOJIX",
         null,
         null,
         5.9859895882967696E-5,
         5.9859895882967696E-5
        ],
        [
         "2023-04-11",
         "MOJIX",
         null,
         null,
         6.209023040115807E-5,
         6.209023040115807E-5
        ],
        [
         "2023-04-08",
         "FALA",
         null,
         null,
         0.0,
         0.0
        ],
        [
         "2023-04-14",
         "MOJIX",
         null,
         null,
         6.164408042688528E-5,
         6.164408042688528E-5
        ],
        [
         "2023-04-30",
         "MOJIXTRACK",
         null,
         null,
         8.925939601931308E-5,
         8.925939601931308E-5
        ],
        [
         "2023-04-15",
         "LUER",
         null,
         null,
         2.8701712735514296E-4,
         2.8701712735514296E-4
        ],
        [
         "2023-04-08",
         "CTVA",
         715887,
         6.633664622851135,
         0.44789773563028934,
         7.081562358481424
        ],
        [
         "2023-04-05",
         "CTVA",
         763414,
         7.0740667792392875,
         0.4490947054205538,
         7.523161484659841
        ],
        [
         "2023-04-13",
         "FEDEX",
         3266766,
         30.27102048973219,
         11.5125703437173,
         41.783590833449495
        ],
        [
         "2023-04-13",
         "FALA",
         null,
         null,
         0.0,
         0.0
        ],
        [
         "2023-04-17",
         "CTVA",
         758992,
         7.0330909479108135,
         0.4767989722534251,
         7.509889920164238
        ],
        [
         "2023-04-30",
         "CTVA",
         679586,
         6.29728659185725,
         0.4781129959221161,
         6.775399587779366
        ],
        [
         "2023-04-22",
         "HONDA",
         2831709,
         26.23962694602523,
         5.672165222289268,
         31.911792168314495
        ],
        [
         "2023-04-18",
         "FALA",
         null,
         null,
         0.0,
         0.0
        ],
        [
         "2023-04-22",
         "LUER",
         null,
         null,
         2.825497088125193E-4,
         2.825497088125193E-4
        ],
        [
         "2023-04-24",
         "IKEA",
         375406,
         3.478646073201571,
         0.9228233873371497,
         4.401469460538721
        ],
        [
         "2023-04-29",
         "LUERSA",
         31,
         2.872570717283386E-4,
         0.0015402845443434625,
         0.001827541616071801
        ],
        [
         "2023-04-05",
         "LUER",
         null,
         null,
         2.760262479536287E-4,
         2.760262479536287E-4
        ],
        [
         "2023-04-28",
         "HONDA",
         2563133,
         23.750905807428122,
         5.725645342652337,
         29.476551150080457
        ],
        [
         "2023-04-25",
         "FALA",
         null,
         null,
         0.0,
         0.0
        ],
        [
         "2023-04-25",
         "ROOT",
         null,
         null,
         0.008427798017720133,
         0.008427798017720133
        ],
        [
         "2023-04-01",
         "HONDA",
         1062346,
         9.844077455558505,
         5.13456756165756,
         14.978645017216065
        ],
        [
         "2023-04-11",
         "MOJIXTRACK",
         null,
         null,
         9.313534560173708E-5,
         9.313534560173708E-5
        ],
        [
         "2023-04-19",
         "IKEA",
         224287,
         2.078323446668835,
         0.9333912999489647,
         3.0117147466177996
        ],
        [
         "2023-04-21",
         "MOJIXTRACK",
         10,
         9.266357152527053E-5,
         9.102264410043352E-5,
         1.8368621562570405E-4
        ],
        [
         "2023-04-23",
         "FALA",
         null,
         null,
         0.0,
         0.0
        ],
        [
         "2023-04-04",
         "FEDEX",
         3143494,
         29.128738110825875,
         10.885296028284854,
         40.01403413911073
        ],
        [
         "2023-04-18",
         "CTVA",
         786042,
         7.28374590888667,
         0.4764588188768562,
         7.760204727763526
        ],
        [
         "2023-04-20",
         "IKEA",
         151321,
         1.4021944306775462,
         0.9314784631864167,
         2.333672893863963
        ],
        [
         "2023-04-10",
         "HONDA",
         3042126,
         28.189426018988513,
         5.461401792139057,
         33.65082781112757
        ],
        [
         "2023-04-29",
         "FALA",
         null,
         null,
         0.0,
         0.0
        ],
        [
         "2023-04-19",
         "LUERSA",
         31,
         2.872570717283386E-4,
         0.0015744610507469829,
         0.0018617181224753216
        ],
        [
         "2023-04-06",
         "FEDEX",
         3184427,
         29.508037908150264,
         10.865817982757251,
         40.373855890907514
        ],
        [
         "2023-04-20",
         "HONDA",
         2531825,
         23.460794697696805,
         5.65152755393328,
         29.112322251630086
        ],
        [
         "2023-04-03",
         "ROOT",
         null,
         null,
         0.008143045466011961,
         0.008143045466011961
        ],
        [
         "2023-04-08",
         "LUERSA",
         31,
         2.872570717283386E-4,
         0.00151697037086627,
         0.0018042274425946088
        ],
        [
         "2023-04-25",
         "FEDEX",
         3151080,
         29.199032696184947,
         11.419526017729869,
         40.618558713914815
        ],
        [
         "2023-04-28",
         "FEDEX",
         3121233,
         28.922459734253472,
         11.400313842176818,
         40.32277357643029
        ],
        [
         "2023-04-26",
         "MOJIX",
         null,
         null,
         5.999247583542023E-5,
         5.999247583542023E-5
        ],
        [
         "2023-04-11",
         "LUERSA",
         31,
         2.872570717283386E-4,
         0.0016039976186965836,
         0.0018912546904249223
        ],
        [
         "2023-04-08",
         "LUER",
         null,
         null,
         2.740333573177778E-4,
         2.740333573177778E-4
        ],
        [
         "2023-04-12",
         "FEDEX",
         3297544,
         30.55622043017267,
         11.522055685131862,
         42.07827611530453
        ],
        [
         "2023-04-07",
         "HONDA",
         3053553,
         28.29531268217044,
         5.179959696214462,
         33.4752723783849
        ],
        [
         "2023-04-25",
         "MOJIX",
         null,
         null,
         6.012697753426968E-5,
         6.012697753426968E-5
        ],
        [
         "2023-04-24",
         "FALA",
         null,
         null,
         0.0,
         0.0
        ],
        [
         "2023-04-14",
         "ROOT",
         null,
         null,
         0.008558253165932573,
         0.008558253165932573
        ],
        [
         "2023-04-19",
         "MOJIX",
         null,
         null,
         6.0946879383754186E-5,
         6.0946879383754186E-5
        ],
        [
         "2023-04-29",
         "HONDA",
         2525240,
         23.399775735847417,
         5.731686971771611,
         29.131462707619026
        ],
        [
         "2023-04-22",
         "FALA",
         null,
         null,
         0.0,
         0.0
        ],
        [
         "2023-04-07",
         "ROOT",
         null,
         null,
         0.008102714906463854,
         0.008102714906463854
        ],
        [
         "2023-04-16",
         "ROOT",
         null,
         null,
         0.008529792188395191,
         0.008529792188395191
        ],
        [
         "2023-04-15",
         "CTVA",
         733446,
         6.796372588092357,
         0.477524745637119,
         7.273897333729476
        ],
        [
         "2023-04-17",
         "MOJIXTRACK",
         null,
         null,
         9.182946180784991E-5,
         9.182946180784991E-5
        ],
        [
         "2023-04-27",
         "FEDEX",
         3215569,
         29.796610802594262,
         11.405155845828403,
         41.20176664842266
        ],
        [
         "2023-04-11",
         "HONDA",
         3101428,
         28.738939530847674,
         5.558213941794334,
         34.29715347264201
        ],
        [
         "2023-04-09",
         "MOJIX",
         null,
         null,
         5.8585435998983E-5,
         5.8585435998983E-5
        ],
        [
         "2023-05-01",
         "CTVA",
         499443,
         4.885981321602973,
         null,
         4.885981321602973
        ],
        [
         "2023-04-17",
         "LUER",
         null,
         null,
         2.856916589577553E-4,
         2.856916589577553E-4
        ],
        [
         "2023-04-13",
         "MOJIXTRACK",
         null,
         null,
         9.268352150365828E-5,
         9.268352150365828E-5
        ],
        [
         "2023-04-13",
         "CTVA",
         746966,
         6.921653736794522,
         0.47827786546604467,
         7.399931602260567
        ],
        [
         "2023-04-29",
         "FEDEX",
         3093086,
         28.661639579481292,
         11.396306973286613,
         40.0579465527679
        ],
        [
         "2023-05-01",
         "IKEA",
         79958,
         0.7822179798550195,
         null,
         0.7822179798550195
        ],
        [
         "2023-04-18",
         "FEDEX",
         3261597,
         30.22312268961078,
         11.472302124681358,
         41.69542481429214
        ],
        [
         "2023-04-01",
         "FALA",
         null,
         null,
         0.0,
         0.0
        ],
        [
         "2023-04-28",
         "MOJIXTRACK",
         null,
         null,
         8.960773206068647E-5,
         8.960773206068647E-5
        ],
        [
         "2023-04-22",
         "IKEA",
         244383,
         2.264540160006019,
         0.9272575068954853,
         3.191797666901504
        ],
        [
         "2023-05-01",
         "FEDEX",
         2259689,
         22.106222825491,
         null,
         22.106222825491
        ],
        [
         "2023-04-12",
         "LUERSA",
         31,
         2.872570717283386E-4,
         0.0016001292268008217,
         0.0018873862985291602
        ],
        [
         "2023-04-03",
         "IKEA",
         141812,
         1.3140806405141665,
         0.9102874754578749,
         2.2243681159720414
        ],
        [
         "2023-04-02",
         "FEDEX",
         3177343,
         29.442395034081763,
         10.89143168603873,
         40.33382672012049
        ],
        [
         "2023-04-13",
         "HONDA",
         3069644,
         28.444417635111755,
         5.58222551847478,
         34.02664315358653
        ],
        [
         "2023-04-16",
         "MOJIX",
         null,
         null,
         6.136541142730354E-5,
         6.136541142730354E-5
        ],
        [
         "2023-04-26",
         "MOJIXTRACK",
         null,
         null,
         8.998871375313034E-5,
         8.998871375313034E-5
        ],
        [
         "2023-04-06",
         "IKEA",
         345815,
         3.2044452987011427,
         0.9035747078663248,
         4.108020006567467
        ],
        [
         "2023-04-01",
         "FEDEX",
         5341679,
         49.49790540815356,
         10.89077023932645,
         60.38867564748001
        ],
        [
         "2023-04-21",
         "FALA",
         null,
         null,
         0.0,
         0.0
        ],
        [
         "2023-04-09",
         "LUERSA",
         31,
         2.872570717283386E-4,
         0.001513457096640394,
         0.0018007141683687327
        ],
        [
         "2023-04-12",
         "LUER",
         null,
         null,
         2.890556022607935E-4,
         2.890556022607935E-4
        ],
        [
         "2023-04-18",
         "MOJIXTRACK",
         null,
         null,
         9.162278043441959E-5,
         9.162278043441959E-5
        ],
        [
         "2023-04-20",
         "MOJIXTRACK",
         null,
         null,
         9.123296769665303E-5,
         9.123296769665303E-5
        ],
        [
         "2023-04-06",
         "ROOT",
         null,
         null,
         0.008112495880787883,
         0.008112495880787883
        ],
        [
         "2023-04-20",
         "LUERSA",
         31,
         2.872570717283386E-4,
         0.00157123444366458,
         0.0018584915153929188
        ],
        [
         "2023-04-11",
         "FEDEX",
         3282116,
         30.413259072023482,
         11.531097487322803,
         41.94435655934629
        ],
        [
         "2023-04-04",
         "HONDA",
         3145860,
         29.15066231184876,
         5.143742161693775,
         34.29440447354253
        ],
        [
         "2023-04-10",
         "MOJIX",
         null,
         null,
         6.129060817154411E-5,
         6.129060817154411E-5
        ],
        [
         "2023-04-19",
         "HONDA",
         2853374,
         26.440382573734727,
         5.6445749184999325,
         32.084957492234665
        ],
        [
         "2023-04-02",
         "FALA",
         null,
         null,
         0.0,
         0.0
        ],
        [
         "2023-04-20",
         "LUER",
         null,
         null,
         2.838358995006983E-4,
         2.838358995006983E-4
        ]
       ],
       "datasetInfos": [],
       "dbfsResultPath": null,
       "isJsonSchema": true,
       "metadata": {},
       "overflow": false,
       "plotOptions": {
        "customPlotOptions": {},
        "displayType": "table",
        "pivotAggregation": null,
        "pivotColumns": null,
        "xColumns": null,
        "yColumns": null
       },
       "removedWidgets": [],
       "schema": [
        {
         "metadata": "{}",
         "name": "date_LA",
         "type": "\"string\""
        },
        {
         "metadata": "{}",
         "name": "tenant_cmp",
         "type": "\"string\""
        },
        {
         "metadata": "{}",
         "name": "sum(events)",
         "type": "\"long\""
        },
        {
         "metadata": "{}",
         "name": "sum(compute_cost)",
         "type": "\"double\""
        },
        {
         "metadata": "{}",
         "name": "sum(storage_cost)",
         "type": "\"double\""
        },
        {
         "metadata": "{}",
         "name": "sum(total_cost)",
         "type": "\"double\""
        }
       ],
       "type": "table"
      }
     },
     "output_type": "display_data"
    }
   ],
   "source": [
    "display(df_agg_total)"
   ]
  },
  {
   "cell_type": "code",
   "execution_count": 0,
   "metadata": {
    "application/vnd.databricks.v1+cell": {
     "cellMetadata": {
      "byteLimit": 2048000,
      "rowLimit": 10000
     },
     "inputWidgets": {},
     "nuid": "357f0f1d-be23-4864-aa94-7e0d2be43eb3",
     "showTitle": false,
     "title": ""
    }
   },
   "outputs": [
    {
     "output_type": "display_data",
     "data": {
      "text/html": [
       "<style scoped>\n",
       "  .table-result-container {\n",
       "    max-height: 300px;\n",
       "    overflow: auto;\n",
       "  }\n",
       "  table, th, td {\n",
       "    border: 1px solid black;\n",
       "    border-collapse: collapse;\n",
       "  }\n",
       "  th, td {\n",
       "    padding: 5px;\n",
       "  }\n",
       "  th {\n",
       "    text-align: left;\n",
       "  }\n",
       "</style><div class='table-result-container'><table class='table-result'><thead style='background-color: white'><tr><th>archived</th><th>code</th><th>treeLevel</th><th>creationTime</th><th>createdBy</th><th>hierarchyCode</th><th>name</th><th>fqnBase</th><th>description</th><th>id</th><th>tenant_parent_code</th><th>creation_time</th><th>tenant_name</th><th>tenant_id</th><th>environment</th><th>timestamp</th><th>date</th></tr></thead><tbody><tr><td>false</td><td>MEM</td><td>3.0</td><td>1.6327459271E12</td><td>FEDEXroot</td><td>>FEDEX>MEM</td><td>Memphis</td><td>>FEDEX</td><td></td><td>62.0</td><td>FEDEX</td><td>2021-09-24T14:38:09.290+0000</td><td>FEDEX</td><td>53</td><td>vt1</td><td>2023-04-30T09:00:29.658+0000</td><td>2023-04-30</td></tr><tr><td>false</td><td>EWR</td><td>3.0</td><td>1.632745923922E12</td><td>FEDEXroot</td><td>>FEDEX>EWR</td><td>Newark</td><td>>FEDEX</td><td></td><td>54.0</td><td>FEDEX</td><td>2021-09-24T14:38:09.290+0000</td><td>FEDEX</td><td>53</td><td>vt1</td><td>2023-04-30T09:00:29.658+0000</td><td>2023-04-30</td></tr><tr><td>false</td><td>OAK</td><td>3.0</td><td>1.632745927912E12</td><td>FEDEXroot</td><td>>FEDEX>OAK</td><td>Oakland</td><td>>FEDEX</td><td></td><td>67.0</td><td>FEDEX</td><td>2021-09-24T14:38:09.290+0000</td><td>FEDEX</td><td>53</td><td>vt1</td><td>2023-04-30T09:00:29.658+0000</td><td>2023-04-30</td></tr><tr><td>false</td><td>TX</td><td>3.0</td><td>1.682544767293E12</td><td>FEDEXroot</td><td>>FEDEX>TX</td><td>Texas</td><td>>FEDEX</td><td>None</td><td>78.0</td><td>FEDEX</td><td>2021-09-24T14:38:09.290+0000</td><td>FEDEX</td><td>53</td><td>vt1</td><td>2023-04-30T09:00:29.658+0000</td><td>2023-04-30</td></tr><tr><td>false</td><td>ATL</td><td>3.0</td><td>1.679407601585E12</td><td>FEDEXroot</td><td>>FEDEX>ATL</td><td>Atlanta</td><td>>FEDEX</td><td>None</td><td>76.0</td><td>FEDEX</td><td>2021-09-24T14:38:09.290+0000</td><td>FEDEX</td><td>53</td><td>vt1</td><td>2023-04-30T09:00:29.658+0000</td><td>2023-04-30</td></tr><tr><td>false</td><td>IND</td><td>3.0</td><td>1.632745925509E12</td><td>FEDEXroot</td><td>>FEDEX>IND</td><td>Indianapolis</td><td>>FEDEX</td><td></td><td>56.0</td><td>FEDEX</td><td>2021-09-24T14:38:09.290+0000</td><td>FEDEX</td><td>53</td><td>vt1</td><td>2023-04-30T09:00:29.658+0000</td><td>2023-04-30</td></tr><tr><td>false</td><td>LAX</td><td>3.0</td><td>1.632745926279E12</td><td>FEDEXroot</td><td>>FEDEX>LAX</td><td>Los Angeles</td><td>>FEDEX</td><td></td><td>60.0</td><td>FEDEX</td><td>2021-09-24T14:38:09.290+0000</td><td>FEDEX</td><td>53</td><td>vt1</td><td>2023-04-30T09:00:29.658+0000</td><td>2023-04-30</td></tr></tbody></table></div>"
      ]
     },
     "metadata": {
      "application/vnd.databricks.v1+output": {
       "addedWidgets": {},
       "aggData": [],
       "aggError": "",
       "aggOverflow": false,
       "aggSchema": [],
       "aggSeriesLimitReached": false,
       "aggType": "",
       "arguments": {},
       "columnCustomDisplayInfos": {},
       "data": [
        [
         false,
         "MEM",
         3.0,
         1.6327459271E12,
         "FEDEXroot",
         ">FEDEX>MEM",
         "Memphis",
         ">FEDEX",
         "",
         62.0,
         "FEDEX",
         "2021-09-24T14:38:09.290+0000",
         "FEDEX",
         "53",
         "vt1",
         "2023-04-30T09:00:29.658+0000",
         "2023-04-30"
        ],
        [
         false,
         "EWR",
         3.0,
         1.632745923922E12,
         "FEDEXroot",
         ">FEDEX>EWR",
         "Newark",
         ">FEDEX",
         "",
         54.0,
         "FEDEX",
         "2021-09-24T14:38:09.290+0000",
         "FEDEX",
         "53",
         "vt1",
         "2023-04-30T09:00:29.658+0000",
         "2023-04-30"
        ],
        [
         false,
         "OAK",
         3.0,
         1.632745927912E12,
         "FEDEXroot",
         ">FEDEX>OAK",
         "Oakland",
         ">FEDEX",
         "",
         67.0,
         "FEDEX",
         "2021-09-24T14:38:09.290+0000",
         "FEDEX",
         "53",
         "vt1",
         "2023-04-30T09:00:29.658+0000",
         "2023-04-30"
        ],
        [
         false,
         "TX",
         3.0,
         1.682544767293E12,
         "FEDEXroot",
         ">FEDEX>TX",
         "Texas",
         ">FEDEX",
         "None",
         78.0,
         "FEDEX",
         "2021-09-24T14:38:09.290+0000",
         "FEDEX",
         "53",
         "vt1",
         "2023-04-30T09:00:29.658+0000",
         "2023-04-30"
        ],
        [
         false,
         "ATL",
         3.0,
         1.679407601585E12,
         "FEDEXroot",
         ">FEDEX>ATL",
         "Atlanta",
         ">FEDEX",
         "None",
         76.0,
         "FEDEX",
         "2021-09-24T14:38:09.290+0000",
         "FEDEX",
         "53",
         "vt1",
         "2023-04-30T09:00:29.658+0000",
         "2023-04-30"
        ],
        [
         false,
         "IND",
         3.0,
         1.632745925509E12,
         "FEDEXroot",
         ">FEDEX>IND",
         "Indianapolis",
         ">FEDEX",
         "",
         56.0,
         "FEDEX",
         "2021-09-24T14:38:09.290+0000",
         "FEDEX",
         "53",
         "vt1",
         "2023-04-30T09:00:29.658+0000",
         "2023-04-30"
        ],
        [
         false,
         "LAX",
         3.0,
         1.632745926279E12,
         "FEDEXroot",
         ">FEDEX>LAX",
         "Los Angeles",
         ">FEDEX",
         "",
         60.0,
         "FEDEX",
         "2021-09-24T14:38:09.290+0000",
         "FEDEX",
         "53",
         "vt1",
         "2023-04-30T09:00:29.658+0000",
         "2023-04-30"
        ]
       ],
       "datasetInfos": [],
       "dbfsResultPath": null,
       "isJsonSchema": true,
       "metadata": {},
       "overflow": false,
       "plotOptions": {
        "customPlotOptions": {},
        "displayType": "table",
        "pivotAggregation": null,
        "pivotColumns": null,
        "xColumns": null,
        "yColumns": null
       },
       "removedWidgets": [],
       "schema": [
        {
         "metadata": "{}",
         "name": "archived",
         "type": "\"boolean\""
        },
        {
         "metadata": "{}",
         "name": "code",
         "type": "\"string\""
        },
        {
         "metadata": "{}",
         "name": "treeLevel",
         "type": "\"double\""
        },
        {
         "metadata": "{}",
         "name": "creationTime",
         "type": "\"double\""
        },
        {
         "metadata": "{}",
         "name": "createdBy",
         "type": "\"string\""
        },
        {
         "metadata": "{}",
         "name": "hierarchyCode",
         "type": "\"string\""
        },
        {
         "metadata": "{}",
         "name": "name",
         "type": "\"string\""
        },
        {
         "metadata": "{}",
         "name": "fqnBase",
         "type": "\"string\""
        },
        {
         "metadata": "{}",
         "name": "description",
         "type": "\"string\""
        },
        {
         "metadata": "{}",
         "name": "id",
         "type": "\"double\""
        },
        {
         "metadata": "{}",
         "name": "tenant_parent_code",
         "type": "\"string\""
        },
        {
         "metadata": "{}",
         "name": "creation_time",
         "type": "\"timestamp\""
        },
        {
         "metadata": "{}",
         "name": "tenant_name",
         "type": "\"string\""
        },
        {
         "metadata": "{}",
         "name": "tenant_id",
         "type": "\"string\""
        },
        {
         "metadata": "{}",
         "name": "environment",
         "type": "\"string\""
        },
        {
         "metadata": "{}",
         "name": "timestamp",
         "type": "\"timestamp\""
        },
        {
         "metadata": "{}",
         "name": "date",
         "type": "\"string\""
        }
       ],
       "type": "table"
      }
     },
     "output_type": "display_data"
    }
   ],
   "source": [
    "display(df_sites[(df_sites['tenant_parent_code']=='FEDEX')&(df_sites['date']=='2023-04-30')])"
   ]
  },
  {
   "cell_type": "code",
   "execution_count": 0,
   "metadata": {
    "application/vnd.databricks.v1+cell": {
     "cellMetadata": {
      "byteLimit": 2048000,
      "rowLimit": 10000
     },
     "inputWidgets": {},
     "nuid": "6eaa01f2-d046-4740-b30d-e546d1891fc4",
     "showTitle": false,
     "title": ""
    }
   },
   "outputs": [
    {
     "output_type": "display_data",
     "data": {
      "text/html": [
       "<style scoped>\n",
       "  .ansiout {\n",
       "    display: block;\n",
       "    unicode-bidi: embed;\n",
       "    white-space: pre-wrap;\n",
       "    word-wrap: break-word;\n",
       "    word-break: break-all;\n",
       "    font-family: \"Source Code Pro\", \"Menlo\", monospace;;\n",
       "    font-size: 13px;\n",
       "    color: #555;\n",
       "    margin-left: 4px;\n",
       "    line-height: 19px;\n",
       "  }\n",
       "</style>\n",
       "<div class=\"ansiout\"></div>"
      ]
     },
     "metadata": {
      "application/vnd.databricks.v1+output": {
       "addedWidgets": {},
       "arguments": {},
       "data": "<div class=\"ansiout\"></div>",
       "datasetInfos": [],
       "metadata": {},
       "removedWidgets": [],
       "type": "html"
      }
     },
     "output_type": "display_data"
    }
   ],
   "source": [
    "#Filter IKEA and MOJIX in df_sites\n",
    "df_sites = df_sites[(df_sites['tenant_parent_code']!='MOJIX')&(df_sites['tenant_parent_code']!='NIKEA')]"
   ]
  },
  {
   "cell_type": "code",
   "execution_count": 0,
   "metadata": {
    "application/vnd.databricks.v1+cell": {
     "cellMetadata": {
      "byteLimit": 2048000,
      "rowLimit": 10000
     },
     "inputWidgets": {},
     "nuid": "7535e79e-8e80-4132-9c62-a370f2639f04",
     "showTitle": false,
     "title": ""
    }
   },
   "outputs": [
    {
     "output_type": "display_data",
     "data": {
      "text/html": [
       "<style scoped>\n",
       "  .ansiout {\n",
       "    display: block;\n",
       "    unicode-bidi: embed;\n",
       "    white-space: pre-wrap;\n",
       "    word-wrap: break-word;\n",
       "    word-break: break-all;\n",
       "    font-family: \"Source Code Pro\", \"Menlo\", monospace;;\n",
       "    font-size: 13px;\n",
       "    color: #555;\n",
       "    margin-left: 4px;\n",
       "    line-height: 19px;\n",
       "  }\n",
       "</style>\n",
       "<div class=\"ansiout\"></div>"
      ]
     },
     "metadata": {
      "application/vnd.databricks.v1+output": {
       "addedWidgets": {},
       "arguments": {},
       "data": "<div class=\"ansiout\"></div>",
       "datasetInfos": [],
       "metadata": {},
       "removedWidgets": [],
       "type": "html"
      }
     },
     "output_type": "display_data"
    }
   ],
   "source": [
    "df_sites = df_sites.withColumn('deployed_sites_count',when((df_sites[\"tenant_parent_code\"]!='MOJIX')&                                                                               (df_sites[\"tenant_parent_code\"]!='NIKEA'),df_sites['id']))\n",
    "df_sites = df_sites.withColumn('tenant_parent_code_v2',when((df_sites[\"tenant_parent_code\"]=='LUER'),'LUERSA')\n",
    "                              .otherwise(df_sites['tenant_parent_code']))"
   ]
  },
  {
   "cell_type": "code",
   "execution_count": 0,
   "metadata": {
    "application/vnd.databricks.v1+cell": {
     "cellMetadata": {
      "byteLimit": 2048000,
      "rowLimit": 10000
     },
     "inputWidgets": {},
     "nuid": "51139a8b-da6a-4967-a2ea-1517568c8957",
     "showTitle": false,
     "title": ""
    }
   },
   "outputs": [
    {
     "output_type": "display_data",
     "data": {
      "text/html": [
       "<style scoped>\n",
       "  .table-result-container {\n",
       "    max-height: 300px;\n",
       "    overflow: auto;\n",
       "  }\n",
       "  table, th, td {\n",
       "    border: 1px solid black;\n",
       "    border-collapse: collapse;\n",
       "  }\n",
       "  th, td {\n",
       "    padding: 5px;\n",
       "  }\n",
       "  th {\n",
       "    text-align: left;\n",
       "  }\n",
       "</style><div class='table-result-container'><table class='table-result'><thead style='background-color: white'><tr><th>archived</th><th>code</th><th>treeLevel</th><th>creationTime</th><th>createdBy</th><th>hierarchyCode</th><th>name</th><th>fqnBase</th><th>description</th><th>id</th><th>tenant_parent_code</th><th>creation_time</th><th>tenant_name</th><th>tenant_id</th><th>environment</th><th>timestamp</th><th>date</th><th>deployed_sites_count</th><th>tenant_parent_code_v2</th></tr></thead><tbody></tbody></table></div>"
      ]
     },
     "metadata": {
      "application/vnd.databricks.v1+output": {
       "addedWidgets": {},
       "aggData": [],
       "aggError": "",
       "aggOverflow": false,
       "aggSchema": [],
       "aggSeriesLimitReached": false,
       "aggType": "",
       "arguments": {},
       "columnCustomDisplayInfos": {},
       "data": [],
       "datasetInfos": [],
       "dbfsResultPath": null,
       "isJsonSchema": true,
       "metadata": {},
       "overflow": false,
       "plotOptions": {
        "customPlotOptions": {},
        "displayType": "table",
        "pivotAggregation": null,
        "pivotColumns": null,
        "xColumns": null,
        "yColumns": null
       },
       "removedWidgets": [],
       "schema": [
        {
         "metadata": "{}",
         "name": "archived",
         "type": "\"boolean\""
        },
        {
         "metadata": "{}",
         "name": "code",
         "type": "\"string\""
        },
        {
         "metadata": "{}",
         "name": "treeLevel",
         "type": "\"double\""
        },
        {
         "metadata": "{}",
         "name": "creationTime",
         "type": "\"double\""
        },
        {
         "metadata": "{}",
         "name": "createdBy",
         "type": "\"string\""
        },
        {
         "metadata": "{}",
         "name": "hierarchyCode",
         "type": "\"string\""
        },
        {
         "metadata": "{}",
         "name": "name",
         "type": "\"string\""
        },
        {
         "metadata": "{}",
         "name": "fqnBase",
         "type": "\"string\""
        },
        {
         "metadata": "{}",
         "name": "description",
         "type": "\"string\""
        },
        {
         "metadata": "{}",
         "name": "id",
         "type": "\"double\""
        },
        {
         "metadata": "{}",
         "name": "tenant_parent_code",
         "type": "\"string\""
        },
        {
         "metadata": "{}",
         "name": "creation_time",
         "type": "\"timestamp\""
        },
        {
         "metadata": "{}",
         "name": "tenant_name",
         "type": "\"string\""
        },
        {
         "metadata": "{}",
         "name": "tenant_id",
         "type": "\"string\""
        },
        {
         "metadata": "{}",
         "name": "environment",
         "type": "\"string\""
        },
        {
         "metadata": "{}",
         "name": "timestamp",
         "type": "\"timestamp\""
        },
        {
         "metadata": "{}",
         "name": "date",
         "type": "\"string\""
        },
        {
         "metadata": "{}",
         "name": "deployed_sites_count",
         "type": "\"double\""
        },
        {
         "metadata": "{}",
         "name": "tenant_parent_code_v2",
         "type": "\"string\""
        }
       ],
       "type": "table"
      }
     },
     "output_type": "display_data"
    }
   ],
   "source": [
    "display(df_sites[(df_sites['date'].startswith('2023-04-30'))&(df_sites['tenant_parent_code'].startswith('MOJIX'))])"
   ]
  },
  {
   "cell_type": "code",
   "execution_count": 0,
   "metadata": {
    "application/vnd.databricks.v1+cell": {
     "cellMetadata": {
      "byteLimit": 2048000,
      "rowLimit": 10000
     },
     "inputWidgets": {},
     "nuid": "f48ab8fe-6932-420c-9e87-0f61d95e97e1",
     "showTitle": false,
     "title": ""
    }
   },
   "outputs": [
    {
     "output_type": "display_data",
     "data": {
      "text/html": [
       "<style scoped>\n",
       "  .ansiout {\n",
       "    display: block;\n",
       "    unicode-bidi: embed;\n",
       "    white-space: pre-wrap;\n",
       "    word-wrap: break-word;\n",
       "    word-break: break-all;\n",
       "    font-family: \"Source Code Pro\", \"Menlo\", monospace;;\n",
       "    font-size: 13px;\n",
       "    color: #555;\n",
       "    margin-left: 4px;\n",
       "    line-height: 19px;\n",
       "  }\n",
       "</style>\n",
       "<div class=\"ansiout\"></div>"
      ]
     },
     "metadata": {
      "application/vnd.databricks.v1+output": {
       "addedWidgets": {},
       "arguments": {},
       "data": "<div class=\"ansiout\"></div>",
       "datasetInfos": [],
       "metadata": {},
       "removedWidgets": [],
       "type": "html"
      }
     },
     "output_type": "display_data"
    }
   ],
   "source": [
    "df_total_Sites_per_day = df_sites.groupby(['date','tenant_parent_code_v2']).agg(countDistinct('deployed_sites_count').alias('total_sites_vt1'))"
   ]
  },
  {
   "cell_type": "code",
   "execution_count": 0,
   "metadata": {
    "application/vnd.databricks.v1+cell": {
     "cellMetadata": {
      "byteLimit": 2048000,
      "rowLimit": 10000
     },
     "inputWidgets": {},
     "nuid": "e82cd334-f784-4578-8643-5e1bc52bea62",
     "showTitle": false,
     "title": ""
    }
   },
   "outputs": [
    {
     "output_type": "display_data",
     "data": {
      "text/html": [
       "<style scoped>\n",
       "  .table-result-container {\n",
       "    max-height: 300px;\n",
       "    overflow: auto;\n",
       "  }\n",
       "  table, th, td {\n",
       "    border: 1px solid black;\n",
       "    border-collapse: collapse;\n",
       "  }\n",
       "  th, td {\n",
       "    padding: 5px;\n",
       "  }\n",
       "  th {\n",
       "    text-align: left;\n",
       "  }\n",
       "</style><div class='table-result-container'><table class='table-result'><thead style='background-color: white'><tr><th>date</th><th>total_sites_vt1</th></tr></thead><tbody><tr><td>2023-04-28</td><td>16</td></tr><tr><td>2023-04-21</td><td>15</td></tr><tr><td>2023-04-17</td><td>15</td></tr><tr><td>2023-04-26</td><td>15</td></tr><tr><td>2023-04-18</td><td>15</td></tr><tr><td>2023-04-09</td><td>15</td></tr><tr><td>2023-04-07</td><td>15</td></tr><tr><td>2023-04-30</td><td>16</td></tr><tr><td>2023-04-05</td><td>15</td></tr><tr><td>2023-04-06</td><td>15</td></tr><tr><td>2023-04-19</td><td>15</td></tr><tr><td>2023-04-04</td><td>15</td></tr><tr><td>2023-04-22</td><td>15</td></tr><tr><td>2023-04-16</td><td>15</td></tr><tr><td>2023-04-24</td><td>15</td></tr><tr><td>2023-04-10</td><td>15</td></tr><tr><td>2023-04-08</td><td>15</td></tr><tr><td>2023-04-29</td><td>16</td></tr><tr><td>2023-04-23</td><td>15</td></tr><tr><td>2023-04-03</td><td>15</td></tr><tr><td>2023-04-27</td><td>16</td></tr><tr><td>2023-04-15</td><td>15</td></tr><tr><td>2023-04-11</td><td>15</td></tr><tr><td>2023-04-01</td><td>15</td></tr><tr><td>2023-04-25</td><td>15</td></tr><tr><td>2023-04-02</td><td>15</td></tr><tr><td>2023-04-14</td><td>15</td></tr><tr><td>2023-04-12</td><td>15</td></tr><tr><td>2023-04-20</td><td>15</td></tr><tr><td>2023-04-13</td><td>15</td></tr></tbody></table></div>"
      ]
     },
     "metadata": {
      "application/vnd.databricks.v1+output": {
       "addedWidgets": {},
       "aggData": [],
       "aggError": "",
       "aggOverflow": false,
       "aggSchema": [],
       "aggSeriesLimitReached": false,
       "aggType": "",
       "arguments": {},
       "columnCustomDisplayInfos": {},
       "data": [
        [
         "2023-04-28",
         16
        ],
        [
         "2023-04-21",
         15
        ],
        [
         "2023-04-17",
         15
        ],
        [
         "2023-04-26",
         15
        ],
        [
         "2023-04-18",
         15
        ],
        [
         "2023-04-09",
         15
        ],
        [
         "2023-04-07",
         15
        ],
        [
         "2023-04-30",
         16
        ],
        [
         "2023-04-05",
         15
        ],
        [
         "2023-04-06",
         15
        ],
        [
         "2023-04-19",
         15
        ],
        [
         "2023-04-04",
         15
        ],
        [
         "2023-04-22",
         15
        ],
        [
         "2023-04-16",
         15
        ],
        [
         "2023-04-24",
         15
        ],
        [
         "2023-04-10",
         15
        ],
        [
         "2023-04-08",
         15
        ],
        [
         "2023-04-29",
         16
        ],
        [
         "2023-04-23",
         15
        ],
        [
         "2023-04-03",
         15
        ],
        [
         "2023-04-27",
         16
        ],
        [
         "2023-04-15",
         15
        ],
        [
         "2023-04-11",
         15
        ],
        [
         "2023-04-01",
         15
        ],
        [
         "2023-04-25",
         15
        ],
        [
         "2023-04-02",
         15
        ],
        [
         "2023-04-14",
         15
        ],
        [
         "2023-04-12",
         15
        ],
        [
         "2023-04-20",
         15
        ],
        [
         "2023-04-13",
         15
        ]
       ],
       "datasetInfos": [],
       "dbfsResultPath": null,
       "isJsonSchema": true,
       "metadata": {},
       "overflow": false,
       "plotOptions": {
        "customPlotOptions": {},
        "displayType": "table",
        "pivotAggregation": null,
        "pivotColumns": null,
        "xColumns": null,
        "yColumns": null
       },
       "removedWidgets": [],
       "schema": [
        {
         "metadata": "{}",
         "name": "date",
         "type": "\"string\""
        },
        {
         "metadata": "{}",
         "name": "total_sites_vt1",
         "type": "\"long\""
        }
       ],
       "type": "table"
      }
     },
     "output_type": "display_data"
    }
   ],
   "source": [
    "df_total_Sites_per_day = df_total_Sites_per_day[['date','total_sites_vt1']]\n",
    "df_total_Sites_per_day = df_total_Sites_per_day.groupby(['date']).agg(sum('total_sites_vt1').alias('total_sites_vt1')) \n",
    "display(df_total_Sites_per_day)\n"
   ]
  },
  {
   "cell_type": "code",
   "execution_count": 0,
   "metadata": {
    "application/vnd.databricks.v1+cell": {
     "cellMetadata": {
      "byteLimit": 2048000,
      "rowLimit": 10000
     },
     "inputWidgets": {},
     "nuid": "f6c6a61f-149a-4cf3-8bbd-05699ad9cdc8",
     "showTitle": false,
     "title": ""
    }
   },
   "outputs": [
    {
     "output_type": "display_data",
     "data": {
      "text/html": [
       "<style scoped>\n",
       "  .ansiout {\n",
       "    display: block;\n",
       "    unicode-bidi: embed;\n",
       "    white-space: pre-wrap;\n",
       "    word-wrap: break-word;\n",
       "    word-break: break-all;\n",
       "    font-family: \"Source Code Pro\", \"Menlo\", monospace;;\n",
       "    font-size: 13px;\n",
       "    color: #555;\n",
       "    margin-left: 4px;\n",
       "    line-height: 19px;\n",
       "  }\n",
       "</style>\n",
       "<div class=\"ansiout\"></div>"
      ]
     },
     "metadata": {
      "application/vnd.databricks.v1+output": {
       "addedWidgets": {},
       "arguments": {},
       "data": "<div class=\"ansiout\"></div>",
       "datasetInfos": [],
       "metadata": {},
       "removedWidgets": [],
       "type": "html"
      }
     },
     "output_type": "display_data"
    }
   ],
   "source": [
    "df_agg_sites = df_sites.groupBy(['date','tenant_parent_code_v2']).agg(countDistinct('deployed_sites_count').alias('sum(deploy_sites)'))"
   ]
  },
  {
   "cell_type": "code",
   "execution_count": 0,
   "metadata": {
    "application/vnd.databricks.v1+cell": {
     "cellMetadata": {
      "byteLimit": 2048000,
      "rowLimit": 10000
     },
     "inputWidgets": {},
     "nuid": "637ac510-6186-4369-902c-63b0e099f785",
     "showTitle": false,
     "title": ""
    }
   },
   "outputs": [
    {
     "output_type": "display_data",
     "data": {
      "text/html": [
       "<style scoped>\n",
       "  .ansiout {\n",
       "    display: block;\n",
       "    unicode-bidi: embed;\n",
       "    white-space: pre-wrap;\n",
       "    word-wrap: break-word;\n",
       "    word-break: break-all;\n",
       "    font-family: \"Source Code Pro\", \"Menlo\", monospace;;\n",
       "    font-size: 13px;\n",
       "    color: #555;\n",
       "    margin-left: 4px;\n",
       "    line-height: 19px;\n",
       "  }\n",
       "</style>\n",
       "<div class=\"ansiout\"></div>"
      ]
     },
     "metadata": {
      "application/vnd.databricks.v1+output": {
       "addedWidgets": {},
       "arguments": {},
       "data": "<div class=\"ansiout\"></div>",
       "datasetInfos": [],
       "metadata": {},
       "removedWidgets": [],
       "type": "html"
      }
     },
     "output_type": "display_data"
    }
   ],
   "source": [
    "df_agg_sites = df_agg_sites.join(df_total_Sites_per_day,['date'], 'left')"
   ]
  },
  {
   "cell_type": "code",
   "execution_count": 0,
   "metadata": {
    "application/vnd.databricks.v1+cell": {
     "cellMetadata": {
      "byteLimit": 2048000,
      "rowLimit": 10000
     },
     "inputWidgets": {},
     "nuid": "b89e3446-6e90-435f-8067-1493f672786f",
     "showTitle": false,
     "title": ""
    }
   },
   "outputs": [
    {
     "output_type": "display_data",
     "data": {
      "text/html": [
       "<style scoped>\n",
       "  .table-result-container {\n",
       "    max-height: 300px;\n",
       "    overflow: auto;\n",
       "  }\n",
       "  table, th, td {\n",
       "    border: 1px solid black;\n",
       "    border-collapse: collapse;\n",
       "  }\n",
       "  th, td {\n",
       "    padding: 5px;\n",
       "  }\n",
       "  th {\n",
       "    text-align: left;\n",
       "  }\n",
       "</style><div class='table-result-container'><table class='table-result'><thead style='background-color: white'><tr><th>date</th><th>tenant_parent_code_v2</th><th>sum(deploy_sites)</th><th>total_sites_vt1</th></tr></thead><tbody><tr><td>2023-04-11</td><td>HONDA</td><td>2</td><td>15</td></tr><tr><td>2023-04-22</td><td>CTVA</td><td>1</td><td>15</td></tr><tr><td>2023-04-25</td><td>IKEA</td><td>2</td><td>15</td></tr><tr><td>2023-04-07</td><td>CTVA</td><td>1</td><td>15</td></tr><tr><td>2023-04-08</td><td>LUERSA</td><td>4</td><td>15</td></tr><tr><td>2023-04-09</td><td>HONDA</td><td>2</td><td>15</td></tr><tr><td>2023-04-06</td><td>HONDA</td><td>2</td><td>15</td></tr><tr><td>2023-04-20</td><td>HONDA</td><td>2</td><td>15</td></tr><tr><td>2023-04-23</td><td>LUERSA</td><td>4</td><td>15</td></tr><tr><td>2023-04-27</td><td>FEDEX</td><td>7</td><td>16</td></tr><tr><td>2023-04-02</td><td>FEDEX</td><td>6</td><td>15</td></tr><tr><td>2023-04-25</td><td>HONDA</td><td>2</td><td>15</td></tr><tr><td>2023-04-03</td><td>CTVA</td><td>1</td><td>15</td></tr><tr><td>2023-04-01</td><td>LUERSA</td><td>4</td><td>15</td></tr><tr><td>2023-04-28</td><td>HONDA</td><td>2</td><td>16</td></tr><tr><td>2023-04-10</td><td>HONDA</td><td>2</td><td>15</td></tr><tr><td>2023-04-25</td><td>CTVA</td><td>1</td><td>15</td></tr><tr><td>2023-04-10</td><td>CTVA</td><td>1</td><td>15</td></tr><tr><td>2023-04-09</td><td>FEDEX</td><td>6</td><td>15</td></tr><tr><td>2023-04-14</td><td>IKEA</td><td>2</td><td>15</td></tr><tr><td>2023-04-22</td><td>LUERSA</td><td>4</td><td>15</td></tr><tr><td>2023-04-30</td><td>LUERSA</td><td>4</td><td>16</td></tr><tr><td>2023-04-07</td><td>LUERSA</td><td>4</td><td>15</td></tr><tr><td>2023-04-13</td><td>FEDEX</td><td>6</td><td>15</td></tr><tr><td>2023-04-11</td><td>IKEA</td><td>2</td><td>15</td></tr><tr><td>2023-04-13</td><td>CTVA</td><td>1</td><td>15</td></tr><tr><td>2023-04-18</td><td>IKEA</td><td>2</td><td>15</td></tr><tr><td>2023-04-03</td><td>IKEA</td><td>2</td><td>15</td></tr><tr><td>2023-04-30</td><td>IKEA</td><td>2</td><td>16</td></tr><tr><td>2023-04-03</td><td>HONDA</td><td>2</td><td>15</td></tr><tr><td>2023-04-11</td><td>LUERSA</td><td>4</td><td>15</td></tr><tr><td>2023-04-19</td><td>FEDEX</td><td>6</td><td>15</td></tr><tr><td>2023-04-18</td><td>CTVA</td><td>1</td><td>15</td></tr><tr><td>2023-04-29</td><td>LUERSA</td><td>4</td><td>16</td></tr><tr><td>2023-04-01</td><td>FEDEX</td><td>6</td><td>15</td></tr><tr><td>2023-04-20</td><td>CTVA</td><td>1</td><td>15</td></tr><tr><td>2023-04-30</td><td>CTVA</td><td>1</td><td>16</td></tr><tr><td>2023-04-13</td><td>LUERSA</td><td>4</td><td>15</td></tr><tr><td>2023-04-05</td><td>IKEA</td><td>2</td><td>15</td></tr><tr><td>2023-04-01</td><td>IKEA</td><td>2</td><td>15</td></tr><tr><td>2023-04-22</td><td>IKEA</td><td>2</td><td>15</td></tr><tr><td>2023-04-24</td><td>HONDA</td><td>2</td><td>15</td></tr><tr><td>2023-04-01</td><td>HONDA</td><td>2</td><td>15</td></tr><tr><td>2023-04-07</td><td>IKEA</td><td>2</td><td>15</td></tr><tr><td>2023-04-19</td><td>IKEA</td><td>2</td><td>15</td></tr><tr><td>2023-04-06</td><td>CTVA</td><td>1</td><td>15</td></tr><tr><td>2023-04-26</td><td>HONDA</td><td>2</td><td>15</td></tr><tr><td>2023-04-18</td><td>FEDEX</td><td>6</td><td>15</td></tr><tr><td>2023-04-22</td><td>FEDEX</td><td>6</td><td>15</td></tr><tr><td>2023-04-08</td><td>FEDEX</td><td>6</td><td>15</td></tr><tr><td>2023-04-16</td><td>CTVA</td><td>1</td><td>15</td></tr><tr><td>2023-04-03</td><td>LUERSA</td><td>4</td><td>15</td></tr><tr><td>2023-04-16</td><td>HONDA</td><td>2</td><td>15</td></tr><tr><td>2023-04-19</td><td>CTVA</td><td>1</td><td>15</td></tr><tr><td>2023-04-04</td><td>IKEA</td><td>2</td><td>15</td></tr><tr><td>2023-04-24</td><td>CTVA</td><td>1</td><td>15</td></tr><tr><td>2023-04-16</td><td>LUERSA</td><td>4</td><td>15</td></tr><tr><td>2023-04-12</td><td>FEDEX</td><td>6</td><td>15</td></tr><tr><td>2023-04-09</td><td>LUERSA</td><td>4</td><td>15</td></tr><tr><td>2023-04-05</td><td>LUERSA</td><td>4</td><td>15</td></tr><tr><td>2023-04-20</td><td>IKEA</td><td>2</td><td>15</td></tr><tr><td>2023-04-29</td><td>CTVA</td><td>1</td><td>16</td></tr><tr><td>2023-04-03</td><td>FEDEX</td><td>6</td><td>15</td></tr><tr><td>2023-04-15</td><td>IKEA</td><td>2</td><td>15</td></tr><tr><td>2023-04-27</td><td>LUERSA</td><td>4</td><td>16</td></tr><tr><td>2023-04-07</td><td>FEDEX</td><td>6</td><td>15</td></tr><tr><td>2023-04-21</td><td>IKEA</td><td>2</td><td>15</td></tr><tr><td>2023-04-15</td><td>HONDA</td><td>2</td><td>15</td></tr><tr><td>2023-04-30</td><td>FEDEX</td><td>7</td><td>16</td></tr><tr><td>2023-04-04</td><td>HONDA</td><td>2</td><td>15</td></tr><tr><td>2023-04-28</td><td>CTVA</td><td>1</td><td>16</td></tr><tr><td>2023-04-10</td><td>IKEA</td><td>2</td><td>15</td></tr><tr><td>2023-04-19</td><td>HONDA</td><td>2</td><td>15</td></tr><tr><td>2023-04-04</td><td>LUERSA</td><td>4</td><td>15</td></tr><tr><td>2023-04-27</td><td>HONDA</td><td>2</td><td>16</td></tr><tr><td>2023-04-06</td><td>FEDEX</td><td>6</td><td>15</td></tr><tr><td>2023-04-02</td><td>HONDA</td><td>2</td><td>15</td></tr><tr><td>2023-04-05</td><td>CTVA</td><td>1</td><td>15</td></tr><tr><td>2023-04-11</td><td>CTVA</td><td>1</td><td>15</td></tr><tr><td>2023-04-30</td><td>HONDA</td><td>2</td><td>16</td></tr><tr><td>2023-04-15</td><td>CTVA</td><td>1</td><td>15</td></tr><tr><td>2023-04-23</td><td>IKEA</td><td>2</td><td>15</td></tr><tr><td>2023-04-19</td><td>LUERSA</td><td>4</td><td>15</td></tr><tr><td>2023-04-17</td><td>FEDEX</td><td>6</td><td>15</td></tr><tr><td>2023-04-07</td><td>HONDA</td><td>2</td><td>15</td></tr><tr><td>2023-04-13</td><td>HONDA</td><td>2</td><td>15</td></tr><tr><td>2023-04-16</td><td>FEDEX</td><td>6</td><td>15</td></tr><tr><td>2023-04-26</td><td>FEDEX</td><td>6</td><td>15</td></tr><tr><td>2023-04-17</td><td>CTVA</td><td>1</td><td>15</td></tr><tr><td>2023-04-17</td><td>LUERSA</td><td>4</td><td>15</td></tr><tr><td>2023-04-05</td><td>HONDA</td><td>2</td><td>15</td></tr><tr><td>2023-04-24</td><td>IKEA</td><td>2</td><td>15</td></tr><tr><td>2023-04-08</td><td>HONDA</td><td>2</td><td>15</td></tr><tr><td>2023-04-15</td><td>LUERSA</td><td>4</td><td>15</td></tr><tr><td>2023-04-23</td><td>CTVA</td><td>1</td><td>15</td></tr><tr><td>2023-04-12</td><td>HONDA</td><td>2</td><td>15</td></tr><tr><td>2023-04-06</td><td>LUERSA</td><td>4</td><td>15</td></tr><tr><td>2023-04-04</td><td>CTVA</td><td>1</td><td>15</td></tr><tr><td>2023-04-28</td><td>IKEA</td><td>2</td><td>16</td></tr><tr><td>2023-04-28</td><td>FEDEX</td><td>7</td><td>16</td></tr><tr><td>2023-04-09</td><td>CTVA</td><td>1</td><td>15</td></tr><tr><td>2023-04-27</td><td>IKEA</td><td>2</td><td>16</td></tr><tr><td>2023-04-12</td><td>IKEA</td><td>2</td><td>15</td></tr><tr><td>2023-04-14</td><td>LUERSA</td><td>4</td><td>15</td></tr><tr><td>2023-04-29</td><td>IKEA</td><td>2</td><td>16</td></tr><tr><td>2023-04-04</td><td>FEDEX</td><td>6</td><td>15</td></tr><tr><td>2023-04-17</td><td>HONDA</td><td>2</td><td>15</td></tr><tr><td>2023-04-16</td><td>IKEA</td><td>2</td><td>15</td></tr><tr><td>2023-04-12</td><td>CTVA</td><td>1</td><td>15</td></tr><tr><td>2023-04-05</td><td>FEDEX</td><td>6</td><td>15</td></tr><tr><td>2023-04-14</td><td>CTVA</td><td>1</td><td>15</td></tr><tr><td>2023-04-23</td><td>HONDA</td><td>2</td><td>15</td></tr><tr><td>2023-04-27</td><td>CTVA</td><td>1</td><td>16</td></tr><tr><td>2023-04-18</td><td>HONDA</td><td>2</td><td>15</td></tr><tr><td>2023-04-09</td><td>IKEA</td><td>2</td><td>15</td></tr><tr><td>2023-04-13</td><td>IKEA</td><td>2</td><td>15</td></tr><tr><td>2023-04-21</td><td>FEDEX</td><td>6</td><td>15</td></tr><tr><td>2023-04-29</td><td>HONDA</td><td>2</td><td>16</td></tr><tr><td>2023-04-28</td><td>LUERSA</td><td>4</td><td>16</td></tr><tr><td>2023-04-14</td><td>HONDA</td><td>2</td><td>15</td></tr><tr><td>2023-04-21</td><td>HONDA</td><td>2</td><td>15</td></tr><tr><td>2023-04-12</td><td>LUERSA</td><td>4</td><td>15</td></tr><tr><td>2023-04-18</td><td>LUERSA</td><td>4</td><td>15</td></tr><tr><td>2023-04-11</td><td>FEDEX</td><td>6</td><td>15</td></tr><tr><td>2023-04-23</td><td>FEDEX</td><td>6</td><td>15</td></tr><tr><td>2023-04-20</td><td>LUERSA</td><td>4</td><td>15</td></tr><tr><td>2023-04-10</td><td>LUERSA</td><td>4</td><td>15</td></tr><tr><td>2023-04-29</td><td>FEDEX</td><td>7</td><td>16</td></tr><tr><td>2023-04-14</td><td>FEDEX</td><td>6</td><td>15</td></tr><tr><td>2023-04-25</td><td>FEDEX</td><td>6</td><td>15</td></tr><tr><td>2023-04-02</td><td>CTVA</td><td>1</td><td>15</td></tr><tr><td>2023-04-02</td><td>LUERSA</td><td>4</td><td>15</td></tr><tr><td>2023-04-21</td><td>LUERSA</td><td>4</td><td>15</td></tr><tr><td>2023-04-02</td><td>IKEA</td><td>2</td><td>15</td></tr><tr><td>2023-04-22</td><td>HONDA</td><td>2</td><td>15</td></tr><tr><td>2023-04-08</td><td>IKEA</td><td>2</td><td>15</td></tr><tr><td>2023-04-01</td><td>CTVA</td><td>1</td><td>15</td></tr><tr><td>2023-04-06</td><td>IKEA</td><td>2</td><td>15</td></tr><tr><td>2023-04-21</td><td>CTVA</td><td>1</td><td>15</td></tr><tr><td>2023-04-25</td><td>LUERSA</td><td>4</td><td>15</td></tr><tr><td>2023-04-24</td><td>LUERSA</td><td>4</td><td>15</td></tr><tr><td>2023-04-24</td><td>FEDEX</td><td>6</td><td>15</td></tr><tr><td>2023-04-26</td><td>IKEA</td><td>2</td><td>15</td></tr><tr><td>2023-04-10</td><td>FEDEX</td><td>6</td><td>15</td></tr><tr><td>2023-04-26</td><td>CTVA</td><td>1</td><td>15</td></tr><tr><td>2023-04-17</td><td>IKEA</td><td>2</td><td>15</td></tr><tr><td>2023-04-15</td><td>FEDEX</td><td>6</td><td>15</td></tr><tr><td>2023-04-20</td><td>FEDEX</td><td>6</td><td>15</td></tr><tr><td>2023-04-08</td><td>CTVA</td><td>1</td><td>15</td></tr><tr><td>2023-04-26</td><td>LUERSA</td><td>4</td><td>15</td></tr></tbody></table></div>"
      ]
     },
     "metadata": {
      "application/vnd.databricks.v1+output": {
       "addedWidgets": {},
       "aggData": [],
       "aggError": "",
       "aggOverflow": false,
       "aggSchema": [],
       "aggSeriesLimitReached": false,
       "aggType": "",
       "arguments": {},
       "columnCustomDisplayInfos": {},
       "data": [
        [
         "2023-04-11",
         "HONDA",
         2,
         15
        ],
        [
         "2023-04-22",
         "CTVA",
         1,
         15
        ],
        [
         "2023-04-25",
         "IKEA",
         2,
         15
        ],
        [
         "2023-04-07",
         "CTVA",
         1,
         15
        ],
        [
         "2023-04-08",
         "LUERSA",
         4,
         15
        ],
        [
         "2023-04-09",
         "HONDA",
         2,
         15
        ],
        [
         "2023-04-06",
         "HONDA",
         2,
         15
        ],
        [
         "2023-04-20",
         "HONDA",
         2,
         15
        ],
        [
         "2023-04-23",
         "LUERSA",
         4,
         15
        ],
        [
         "2023-04-27",
         "FEDEX",
         7,
         16
        ],
        [
         "2023-04-02",
         "FEDEX",
         6,
         15
        ],
        [
         "2023-04-25",
         "HONDA",
         2,
         15
        ],
        [
         "2023-04-03",
         "CTVA",
         1,
         15
        ],
        [
         "2023-04-01",
         "LUERSA",
         4,
         15
        ],
        [
         "2023-04-28",
         "HONDA",
         2,
         16
        ],
        [
         "2023-04-10",
         "HONDA",
         2,
         15
        ],
        [
         "2023-04-25",
         "CTVA",
         1,
         15
        ],
        [
         "2023-04-10",
         "CTVA",
         1,
         15
        ],
        [
         "2023-04-09",
         "FEDEX",
         6,
         15
        ],
        [
         "2023-04-14",
         "IKEA",
         2,
         15
        ],
        [
         "2023-04-22",
         "LUERSA",
         4,
         15
        ],
        [
         "2023-04-30",
         "LUERSA",
         4,
         16
        ],
        [
         "2023-04-07",
         "LUERSA",
         4,
         15
        ],
        [
         "2023-04-13",
         "FEDEX",
         6,
         15
        ],
        [
         "2023-04-11",
         "IKEA",
         2,
         15
        ],
        [
         "2023-04-13",
         "CTVA",
         1,
         15
        ],
        [
         "2023-04-18",
         "IKEA",
         2,
         15
        ],
        [
         "2023-04-03",
         "IKEA",
         2,
         15
        ],
        [
         "2023-04-30",
         "IKEA",
         2,
         16
        ],
        [
         "2023-04-03",
         "HONDA",
         2,
         15
        ],
        [
         "2023-04-11",
         "LUERSA",
         4,
         15
        ],
        [
         "2023-04-19",
         "FEDEX",
         6,
         15
        ],
        [
         "2023-04-18",
         "CTVA",
         1,
         15
        ],
        [
         "2023-04-29",
         "LUERSA",
         4,
         16
        ],
        [
         "2023-04-01",
         "FEDEX",
         6,
         15
        ],
        [
         "2023-04-20",
         "CTVA",
         1,
         15
        ],
        [
         "2023-04-30",
         "CTVA",
         1,
         16
        ],
        [
         "2023-04-13",
         "LUERSA",
         4,
         15
        ],
        [
         "2023-04-05",
         "IKEA",
         2,
         15
        ],
        [
         "2023-04-01",
         "IKEA",
         2,
         15
        ],
        [
         "2023-04-22",
         "IKEA",
         2,
         15
        ],
        [
         "2023-04-24",
         "HONDA",
         2,
         15
        ],
        [
         "2023-04-01",
         "HONDA",
         2,
         15
        ],
        [
         "2023-04-07",
         "IKEA",
         2,
         15
        ],
        [
         "2023-04-19",
         "IKEA",
         2,
         15
        ],
        [
         "2023-04-06",
         "CTVA",
         1,
         15
        ],
        [
         "2023-04-26",
         "HONDA",
         2,
         15
        ],
        [
         "2023-04-18",
         "FEDEX",
         6,
         15
        ],
        [
         "2023-04-22",
         "FEDEX",
         6,
         15
        ],
        [
         "2023-04-08",
         "FEDEX",
         6,
         15
        ],
        [
         "2023-04-16",
         "CTVA",
         1,
         15
        ],
        [
         "2023-04-03",
         "LUERSA",
         4,
         15
        ],
        [
         "2023-04-16",
         "HONDA",
         2,
         15
        ],
        [
         "2023-04-19",
         "CTVA",
         1,
         15
        ],
        [
         "2023-04-04",
         "IKEA",
         2,
         15
        ],
        [
         "2023-04-24",
         "CTVA",
         1,
         15
        ],
        [
         "2023-04-16",
         "LUERSA",
         4,
         15
        ],
        [
         "2023-04-12",
         "FEDEX",
         6,
         15
        ],
        [
         "2023-04-09",
         "LUERSA",
         4,
         15
        ],
        [
         "2023-04-05",
         "LUERSA",
         4,
         15
        ],
        [
         "2023-04-20",
         "IKEA",
         2,
         15
        ],
        [
         "2023-04-29",
         "CTVA",
         1,
         16
        ],
        [
         "2023-04-03",
         "FEDEX",
         6,
         15
        ],
        [
         "2023-04-15",
         "IKEA",
         2,
         15
        ],
        [
         "2023-04-27",
         "LUERSA",
         4,
         16
        ],
        [
         "2023-04-07",
         "FEDEX",
         6,
         15
        ],
        [
         "2023-04-21",
         "IKEA",
         2,
         15
        ],
        [
         "2023-04-15",
         "HONDA",
         2,
         15
        ],
        [
         "2023-04-30",
         "FEDEX",
         7,
         16
        ],
        [
         "2023-04-04",
         "HONDA",
         2,
         15
        ],
        [
         "2023-04-28",
         "CTVA",
         1,
         16
        ],
        [
         "2023-04-10",
         "IKEA",
         2,
         15
        ],
        [
         "2023-04-19",
         "HONDA",
         2,
         15
        ],
        [
         "2023-04-04",
         "LUERSA",
         4,
         15
        ],
        [
         "2023-04-27",
         "HONDA",
         2,
         16
        ],
        [
         "2023-04-06",
         "FEDEX",
         6,
         15
        ],
        [
         "2023-04-02",
         "HONDA",
         2,
         15
        ],
        [
         "2023-04-05",
         "CTVA",
         1,
         15
        ],
        [
         "2023-04-11",
         "CTVA",
         1,
         15
        ],
        [
         "2023-04-30",
         "HONDA",
         2,
         16
        ],
        [
         "2023-04-15",
         "CTVA",
         1,
         15
        ],
        [
         "2023-04-23",
         "IKEA",
         2,
         15
        ],
        [
         "2023-04-19",
         "LUERSA",
         4,
         15
        ],
        [
         "2023-04-17",
         "FEDEX",
         6,
         15
        ],
        [
         "2023-04-07",
         "HONDA",
         2,
         15
        ],
        [
         "2023-04-13",
         "HONDA",
         2,
         15
        ],
        [
         "2023-04-16",
         "FEDEX",
         6,
         15
        ],
        [
         "2023-04-26",
         "FEDEX",
         6,
         15
        ],
        [
         "2023-04-17",
         "CTVA",
         1,
         15
        ],
        [
         "2023-04-17",
         "LUERSA",
         4,
         15
        ],
        [
         "2023-04-05",
         "HONDA",
         2,
         15
        ],
        [
         "2023-04-24",
         "IKEA",
         2,
         15
        ],
        [
         "2023-04-08",
         "HONDA",
         2,
         15
        ],
        [
         "2023-04-15",
         "LUERSA",
         4,
         15
        ],
        [
         "2023-04-23",
         "CTVA",
         1,
         15
        ],
        [
         "2023-04-12",
         "HONDA",
         2,
         15
        ],
        [
         "2023-04-06",
         "LUERSA",
         4,
         15
        ],
        [
         "2023-04-04",
         "CTVA",
         1,
         15
        ],
        [
         "2023-04-28",
         "IKEA",
         2,
         16
        ],
        [
         "2023-04-28",
         "FEDEX",
         7,
         16
        ],
        [
         "2023-04-09",
         "CTVA",
         1,
         15
        ],
        [
         "2023-04-27",
         "IKEA",
         2,
         16
        ],
        [
         "2023-04-12",
         "IKEA",
         2,
         15
        ],
        [
         "2023-04-14",
         "LUERSA",
         4,
         15
        ],
        [
         "2023-04-29",
         "IKEA",
         2,
         16
        ],
        [
         "2023-04-04",
         "FEDEX",
         6,
         15
        ],
        [
         "2023-04-17",
         "HONDA",
         2,
         15
        ],
        [
         "2023-04-16",
         "IKEA",
         2,
         15
        ],
        [
         "2023-04-12",
         "CTVA",
         1,
         15
        ],
        [
         "2023-04-05",
         "FEDEX",
         6,
         15
        ],
        [
         "2023-04-14",
         "CTVA",
         1,
         15
        ],
        [
         "2023-04-23",
         "HONDA",
         2,
         15
        ],
        [
         "2023-04-27",
         "CTVA",
         1,
         16
        ],
        [
         "2023-04-18",
         "HONDA",
         2,
         15
        ],
        [
         "2023-04-09",
         "IKEA",
         2,
         15
        ],
        [
         "2023-04-13",
         "IKEA",
         2,
         15
        ],
        [
         "2023-04-21",
         "FEDEX",
         6,
         15
        ],
        [
         "2023-04-29",
         "HONDA",
         2,
         16
        ],
        [
         "2023-04-28",
         "LUERSA",
         4,
         16
        ],
        [
         "2023-04-14",
         "HONDA",
         2,
         15
        ],
        [
         "2023-04-21",
         "HONDA",
         2,
         15
        ],
        [
         "2023-04-12",
         "LUERSA",
         4,
         15
        ],
        [
         "2023-04-18",
         "LUERSA",
         4,
         15
        ],
        [
         "2023-04-11",
         "FEDEX",
         6,
         15
        ],
        [
         "2023-04-23",
         "FEDEX",
         6,
         15
        ],
        [
         "2023-04-20",
         "LUERSA",
         4,
         15
        ],
        [
         "2023-04-10",
         "LUERSA",
         4,
         15
        ],
        [
         "2023-04-29",
         "FEDEX",
         7,
         16
        ],
        [
         "2023-04-14",
         "FEDEX",
         6,
         15
        ],
        [
         "2023-04-25",
         "FEDEX",
         6,
         15
        ],
        [
         "2023-04-02",
         "CTVA",
         1,
         15
        ],
        [
         "2023-04-02",
         "LUERSA",
         4,
         15
        ],
        [
         "2023-04-21",
         "LUERSA",
         4,
         15
        ],
        [
         "2023-04-02",
         "IKEA",
         2,
         15
        ],
        [
         "2023-04-22",
         "HONDA",
         2,
         15
        ],
        [
         "2023-04-08",
         "IKEA",
         2,
         15
        ],
        [
         "2023-04-01",
         "CTVA",
         1,
         15
        ],
        [
         "2023-04-06",
         "IKEA",
         2,
         15
        ],
        [
         "2023-04-21",
         "CTVA",
         1,
         15
        ],
        [
         "2023-04-25",
         "LUERSA",
         4,
         15
        ],
        [
         "2023-04-24",
         "LUERSA",
         4,
         15
        ],
        [
         "2023-04-24",
         "FEDEX",
         6,
         15
        ],
        [
         "2023-04-26",
         "IKEA",
         2,
         15
        ],
        [
         "2023-04-10",
         "FEDEX",
         6,
         15
        ],
        [
         "2023-04-26",
         "CTVA",
         1,
         15
        ],
        [
         "2023-04-17",
         "IKEA",
         2,
         15
        ],
        [
         "2023-04-15",
         "FEDEX",
         6,
         15
        ],
        [
         "2023-04-20",
         "FEDEX",
         6,
         15
        ],
        [
         "2023-04-08",
         "CTVA",
         1,
         15
        ],
        [
         "2023-04-26",
         "LUERSA",
         4,
         15
        ]
       ],
       "datasetInfos": [],
       "dbfsResultPath": null,
       "isJsonSchema": true,
       "metadata": {},
       "overflow": false,
       "plotOptions": {
        "customPlotOptions": {},
        "displayType": "table",
        "pivotAggregation": null,
        "pivotColumns": null,
        "xColumns": null,
        "yColumns": null
       },
       "removedWidgets": [],
       "schema": [
        {
         "metadata": "{}",
         "name": "date",
         "type": "\"string\""
        },
        {
         "metadata": "{}",
         "name": "tenant_parent_code_v2",
         "type": "\"string\""
        },
        {
         "metadata": "{}",
         "name": "sum(deploy_sites)",
         "type": "\"long\""
        },
        {
         "metadata": "{}",
         "name": "total_sites_vt1",
         "type": "\"long\""
        }
       ],
       "type": "table"
      }
     },
     "output_type": "display_data"
    }
   ],
   "source": [
    "display(df_agg_sites)"
   ]
  },
  {
   "cell_type": "code",
   "execution_count": 0,
   "metadata": {
    "application/vnd.databricks.v1+cell": {
     "cellMetadata": {
      "byteLimit": 2048000,
      "rowLimit": 10000
     },
     "inputWidgets": {},
     "nuid": "73307997-4a36-48d8-a55b-0058dee13d63",
     "showTitle": false,
     "title": ""
    }
   },
   "outputs": [
    {
     "output_type": "display_data",
     "data": {
      "text/html": [
       "<style scoped>\n",
       "  .ansiout {\n",
       "    display: block;\n",
       "    unicode-bidi: embed;\n",
       "    white-space: pre-wrap;\n",
       "    word-wrap: break-word;\n",
       "    word-break: break-all;\n",
       "    font-family: \"Source Code Pro\", \"Menlo\", monospace;;\n",
       "    font-size: 13px;\n",
       "    color: #555;\n",
       "    margin-left: 4px;\n",
       "    line-height: 19px;\n",
       "  }\n",
       "</style>\n",
       "<div class=\"ansiout\"></div>"
      ]
     },
     "metadata": {
      "application/vnd.databricks.v1+output": {
       "addedWidgets": {},
       "arguments": {},
       "data": "<div class=\"ansiout\"></div>",
       "datasetInfos": [],
       "metadata": {},
       "removedWidgets": [],
       "type": "html"
      }
     },
     "output_type": "display_data"
    }
   ],
   "source": [
    "df_agg_total = df_agg_total.withColumnRenamed(\"sum(storage_cost)\",\"storage_costs_ad\")\n",
    "df_agg_total = df_agg_total.withColumnRenamed(\"sum(compute_cost)\",\"compute_costs_ad\")\n",
    "df_agg_total_s = df_agg_total[['date_LA','tenant_cmp','compute_costs_ad','storage_costs_ad']]\n",
    "\n",
    "df_agg_sites = df_agg_sites.withColumnRenamed(\"sum(deploy_sites)\",\"deployed_sites\")\n",
    "df_agg_sites_s = df_agg_sites[['date','tenant_parent_code_v2','deployed_sites','total_sites_vt1']]\n",
    "\n",
    "df_agg_total_s = df_agg_total_s.na.fill({\"compute_costs_ad\": 0, \"storage_costs_ad\": 0})"
   ]
  },
  {
   "cell_type": "code",
   "execution_count": 0,
   "metadata": {
    "application/vnd.databricks.v1+cell": {
     "cellMetadata": {
      "byteLimit": 2048000,
      "rowLimit": 10000
     },
     "inputWidgets": {},
     "nuid": "4fe77d12-8400-43df-8e89-da3734c7b5b3",
     "showTitle": false,
     "title": ""
    }
   },
   "outputs": [
    {
     "output_type": "display_data",
     "data": {
      "text/html": [
       "<style scoped>\n",
       "  .table-result-container {\n",
       "    max-height: 300px;\n",
       "    overflow: auto;\n",
       "  }\n",
       "  table, th, td {\n",
       "    border: 1px solid black;\n",
       "    border-collapse: collapse;\n",
       "  }\n",
       "  th, td {\n",
       "    padding: 5px;\n",
       "  }\n",
       "  th {\n",
       "    text-align: left;\n",
       "  }\n",
       "</style><div class='table-result-container'><table class='table-result'><thead style='background-color: white'><tr><th>date_LA</th><th>tenant_cmp</th><th>compute_costs_ad</th><th>storage_costs_ad</th></tr></thead><tbody><tr><td>2023-04-05</td><td>FALA</td><td>0.0</td><td>0.0</td></tr><tr><td>2023-04-10</td><td>ROOT</td><td>0.0</td><td>0.008458103927673084</td></tr><tr><td>2023-04-25</td><td>IKEA</td><td>3.275824047847059</td><td>0.9208346397744178</td></tr><tr><td>2023-04-01</td><td>LUER</td><td>0.0</td><td>2.78185415274613E-4</td></tr><tr><td>2023-04-25</td><td>LUERSA</td><td>2.872570717283386E-4</td><td>0.0015532802529686332</td></tr><tr><td>2023-04-07</td><td>MOJIXTRACK</td><td>0.0</td><td>8.828623990093789E-5</td></tr><tr><td>2023-04-16</td><td>LUERSA</td><td>2.872570717283386E-4</td><td>0.0015852731285386748</td></tr><tr><td>2023-04-21</td><td>MOJIX</td><td>7.413085722021642E-5</td><td>6.068176273362235E-5</td></tr><tr><td>2023-04-19</td><td>LUER</td><td>0.0</td><td>2.844187704575195E-4</td></tr><tr><td>2023-04-08</td><td>MOJIXTRACK</td><td>0.0</td><td>8.808215056642858E-5</td></tr><tr><td>2023-04-28</td><td>FALA</td><td>0.0</td><td>0.0</td></tr><tr><td>2023-04-16</td><td>FALA</td><td>0.0</td><td>0.0</td></tr><tr><td>2023-04-24</td><td>HONDA</td><td>25.761353187954697</td><td>5.690022813691739</td></tr><tr><td>2023-04-10</td><td>IKEA</td><td>0.13489962742648884</td><td>0.938655449045836</td></tr><tr><td>2023-04-14</td><td>IKEA</td><td>3.4047932066959303</td><td>0.9440688177243436</td></tr><tr><td>2023-04-03</td><td>LUER</td><td>0.0</td><td>2.773786776743734E-4</td></tr><tr><td>2023-04-28</td><td>LUER</td><td>0.0</td><td>2.78779610855469E-4</td></tr><tr><td>2023-04-27</td><td>ROOT</td><td>0.0</td><td>0.008420292020870789</td></tr><tr><td>2023-04-28</td><td>ROOT</td><td>0.0</td><td>0.00840321398435771</td></tr><tr><td>2023-04-11</td><td>ROOT</td><td>0.0</td><td>0.008578800167093337</td></tr><tr><td>2023-04-15</td><td>ROOT</td><td>0.0</td><td>0.0085387595388155</td></tr><tr><td>2023-04-17</td><td>ROOT</td><td>0.0</td><td>0.008509530127527426</td></tr><tr><td>2023-04-23</td><td>MOJIX</td><td>0.0</td><td>6.0390912122854856E-5</td></tr><tr><td>2023-04-18</td><td>IKEA</td><td>3.2175386613576635</td><td>0.9354584079264869</td></tr><tr><td>2023-04-08</td><td>HONDA</td><td>26.515458599384502</td><td>5.189859032807684</td></tr><tr><td>2023-04-15</td><td>MOJIXTRACK</td><td>0.0</td><td>9.225550522129594E-5</td></tr><tr><td>2023-04-19</td><td>FALA</td><td>0.0</td><td>0.0</td></tr><tr><td>2023-04-03</td><td>FEDEX</td><td>29.500217102713535</td><td>10.894027752898324</td></tr><tr><td>2023-04-04</td><td>MOJIXTRACK</td><td>0.0</td><td>8.894095753352835E-5</td></tr><tr><td>2023-04-15</td><td>FEDEX</td><td>29.516850213802318</td><td>11.49655304110378</td></tr><tr><td>2023-04-26</td><td>FALA</td><td>0.0</td><td>0.0</td></tr><tr><td>2023-04-05</td><td>MOJIXTRACK</td><td>0.0</td><td>8.87227225565235E-5</td></tr><tr><td>2023-04-22</td><td>CTVA</td><td>6.271859707830716</td><td>0.4750770621851641</td></tr><tr><td>2023-04-16</td><td>MOJIXTRACK</td><td>0.0</td><td>9.20481171409553E-5</td></tr><tr><td>2023-04-23</td><td>CTVA</td><td>6.2909391372077685</td><td>0.48084250747419083</td></tr><tr><td>2023-04-05</td><td>FEDEX</td><td>28.644774809463694</td><td>10.875789060263198</td></tr><tr><td>2023-04-04</td><td>MOJIX</td><td>0.0</td><td>5.929397168901891E-5</td></tr><tr><td>2023-04-20</td><td>MOJIX</td><td>0.0</td><td>6.0821978464435356E-5</td></tr><tr><td>2023-04-21</td><td>IKEA</td><td>1.9202208609324185</td><td>0.9293310826383042</td></tr><tr><td>2023-04-01</td><td>ROOT</td><td>0.0</td><td>0.008146858590185097</td></tr><tr><td>2023-04-18</td><td>MOJIX</td><td>0.0</td><td>6.10818536229464E-5</td></tr><tr><td>2023-04-14</td><td>FEDEX</td><td>29.901014848631785</td><td>11.504398427761297</td></tr><tr><td>2023-04-22</td><td>MOJIXTRACK</td><td>0.0</td><td>9.081954926116692E-5</td></tr><tr><td>2023-04-06</td><td>FALA</td><td>0.0</td><td>0.0</td></tr><tr><td>2023-04-27</td><td>CTVA</td><td>6.320758274524601</td><td>0.47913855994590104</td></tr><tr><td>2023-04-14</td><td>LUERSA</td><td>2.872570717283386E-4</td><td>0.0015924720776945363</td></tr><tr><td>2023-04-28</td><td>MOJIX</td><td>0.0</td><td>5.9738488040457646E-5</td></tr><tr><td>2023-04-17</td><td>IKEA</td><td>1.8442367322816968</td><td>0.9375686017846135</td></tr><tr><td>2023-04-02</td><td>MOJIXTRACK</td><td>0.0</td><td>8.927988463209662E-5</td></tr><tr><td>2023-04-19</td><td>CTVA</td><td>7.328419016719002</td><td>0.4761373373723489</td></tr><tr><td>2023-04-26</td><td>HONDA</td><td>26.41750393792514</td><td>5.709183962877766</td></tr><tr><td>2023-04-18</td><td>LUERSA</td><td>2.872570717283386E-4</td><td>0.0015779478852594485</td></tr><tr><td>2023-04-23</td><td>ROOT</td><td>0.0</td><td>0.008454727697199679</td></tr><tr><td>2023-04-24</td><td>MOJIX</td><td>0.0</td><td>6.025683513829618E-5</td></tr><tr><td>2023-04-12</td><td>MOJIXTRACK</td><td>0.0</td><td>9.291072929811222E-5</td></tr><tr><td>2023-05-01</td><td>HONDA</td><td>15.958819873051011</td><td>0.0</td></tr><tr><td>2023-04-15</td><td>MOJIX</td><td>0.0</td><td>6.150367014753063E-5</td></tr><tr><td>2023-04-09</td><td>LUER</td><td>0.0</td><td>2.733987013285873E-4</td></tr><tr><td>2023-04-20</td><td>FEDEX</td><td>30.017947009539526</td><td>11.460533347107393</td></tr><tr><td>2023-04-21</td><td>ROOT</td><td>0.0</td><td>0.008475219528462585</td></tr><tr><td>2023-04-14</td><td>HONDA</td><td>28.210608911439195</td><td>5.59298796515811</td></tr><tr><td>2023-04-04</td><td>LUERSA</td><td>2.872570717283386E-4</td><td>0.001531760935299655</td></tr><tr><td>2023-04-17</td><td>MOJIX</td><td>0.0</td><td>6.121964120523328E-5</td></tr><tr><td>2023-04-26</td><td>FEDEX</td><td>29.87451306717556</td><td>11.412018722062951</td></tr><tr><td>2023-04-15</td><td>LUERSA</td><td>2.872570717283386E-4</td><td>0.0015888448121445411</td></tr><tr><td>2023-04-10</td><td>CTVA</td><td>6.9268614295142426</td><td>0.47223392086038535</td></tr><tr><td>2023-04-18</td><td>LUER</td><td>0.0</td><td>2.850486502404165E-4</td></tr><tr><td>2023-04-05</td><td>ROOT</td><td>0.0</td><td>0.00812305815406393</td></tr><tr><td>2023-04-24</td><td>LUER</td><td>0.0</td><td>2.8119856397871543E-4</td></tr><tr><td>2023-04-08</td><td>MOJIX</td><td>0.0</td><td>5.8721433710952395E-5</td></tr><tr><td>2023-04-22</td><td>ROOT</td><td>0.0</td><td>0.00846640020334656</td></tr><tr><td>2023-04-30</td><td>MOJIX</td><td>0.0</td><td>5.9506264012875393E-5</td></tr><tr><td>2023-04-03</td><td>FALA</td><td>0.0</td><td>0.0</td></tr><tr><td>2023-04-30</td><td>FEDEX</td><td>29.16780507258093</td><td>11.391948606599549</td></tr><tr><td>2023-04-05</td><td>MOJIX</td><td>0.0</td><td>5.9148481704349007E-5</td></tr><tr><td>2023-04-16</td><td>IKEA</td><td>1.7764069979251986</td><td>0.9398010484405827</td></tr><tr><td>2023-04-06</td><td>MOJIX</td><td>0.0</td><td>5.89999700420937E-5</td></tr><tr><td>2023-04-20</td><td>FALA</td><td>0.0</td><td>0.0</td></tr><tr><td>2023-04-15</td><td>IKEA</td><td>2.050237118139526</td><td>0.9419184576977403</td></tr><tr><td>2023-04-21</td><td>FEDEX</td><td>29.03701044137301</td><td>11.452661239631869</td></tr><tr><td>2023-04-09</td><td>FALA</td><td>0.0</td><td>0.0</td></tr><tr><td>2023-04-05</td><td>LUERSA</td><td>2.872570717283386E-4</td><td>0.001528002444029016</td></tr><tr><td>2023-04-03</td><td>MOJIXTRACK</td><td>0.0</td><td>8.915743210962002E-5</td></tr><tr><td>2023-04-26</td><td>LUERSA</td><td>2.872570717283386E-4</td><td>0.001549805625748356</td></tr><tr><td>2023-04-24</td><td>CTVA</td><td>6.598424666600074</td><td>0.4803976181400662</td></tr><tr><td>2023-04-24</td><td>FEDEX</td><td>29.15222832620753</td><td>11.42629274835212</td></tr><tr><td>2023-04-09</td><td>IKEA</td><td>0.03489710103641688</td><td>0.8972261880850916</td></tr><tr><td>2023-04-11</td><td>LUER</td><td>0.0</td><td>2.897544085387376E-4</td></tr><tr><td>2023-04-10</td><td>FEDEX</td><td>31.643321652235684</td><td>11.363677143957393</td></tr><tr><td>2023-04-13</td><td>LUER</td><td>0.0</td><td>2.883487335669369E-4</td></tr><tr><td>2023-04-30</td><td>ROOT</td><td>0.0</td><td>0.008380465515146616</td></tr><tr><td>2023-04-19</td><td>MOJIXTRACK</td><td>0.0</td><td>9.142031907563128E-5</td></tr><tr><td>2023-04-02</td><td>IKEA</td><td>2.231626059400243</td><td>0.9115377021065254</td></tr><tr><td>2023-04-07</td><td>FEDEX</td><td>30.26174486622251</td><td>10.856970923071204</td></tr><tr><td>2023-04-07</td><td>FALA</td><td>0.0</td><td>0.0</td></tr><tr><td>2023-04-01</td><td>MOJIXTRACK</td><td>0.0</td><td>8.941674062398275E-5</td></tr><tr><td>2023-04-11</td><td>FALA</td><td>0.0</td><td>0.0</td></tr><tr><td>2023-04-16</td><td>LUER</td><td>0.0</td><td>2.863719199940832E-4</td></tr><tr><td>2023-04-28</td><td>CTVA</td><td>6.36321672299748</td><td>0.4787442431562275</td></tr><tr><td>2023-04-11</td><td>CTVA</td><td>7.217787978674982</td><td>0.4791192628905362</td></tr><tr><td>2023-04-28</td><td>IKEA</td><td>1.3497839146228532</td><td>0.9148849879249354</td></tr><tr><td>2023-04-13</td><td>ROOT</td><td>0.0</td><td>0.00855777848550445</td></tr><tr><td>2023-04-25</td><td>MOJIXTRACK</td><td>0.0</td><td>9.019046630140451E-5</td></tr><tr><td>2023-04-27</td><td>LUERSA</td><td>2.872570717283386E-4</td><td>0.0015463806436433322</td></tr><tr><td>2023-04-21</td><td>CTVA</td><td>6.495484704992651</td><td>0.4755528609162761</td></tr><tr><td>2023-04-28</td><td>LUERSA</td><td>2.872570717283386E-4</td><td>0.0015432442743784892</td></tr><tr><td>2023-04-06</td><td>LUERSA</td><td>2.872570717283386E-4</td><td>0.001524165892754087</td></tr><tr><td>2023-04-22</td><td>MOJIX</td><td>0.0</td><td>6.054636617411128E-5</td></tr><tr><td>2023-04-26</td><td>ROOT</td><td>0.0</td><td>0.008428942854876543</td></tr><tr><td>2023-04-04</td><td>LUER</td><td>0.0</td><td>2.767052012154215E-4</td></tr><tr><td>2023-04-17</td><td>LUERSA</td><td>2.872570717283386E-4</td><td>0.0015815073978018596</td></tr><tr><td>2023-04-09</td><td>HONDA</td><td>25.845575108114016</td><td>5.198939940225083</td></tr><tr><td>2023-04-12</td><td>CTVA</td><td>7.212561753240957</td><td>0.4787586646588059</td></tr><tr><td>2023-04-29</td><td>CTVA</td><td>6.389792635310927</td><td>0.4784620660712841</td></tr><tr><td>2023-04-12</td><td>ROOT</td><td>0.0</td><td>0.008558110509792782</td></tr><tr><td>2023-04-07</td><td>CTVA</td><td>6.7684808530632505</td><td>0.4482586687236953</td></tr><tr><td>2023-04-12</td><td>IKEA</td><td>2.510719470477205</td><td>0.9486082227193595</td></tr><tr><td>2023-04-23</td><td>LUERSA</td><td>2.872570717283386E-4</td><td>0.0015600985631737505</td></tr><tr><td>2023-04-17</td><td>FALA</td><td>0.0</td><td>0.0</td></tr><tr><td>2023-04-11</td><td>IKEA</td><td>3.6332737750057897</td><td>0.9509015302220023</td></tr><tr><td>2023-04-27</td><td>LUER</td><td>0.0</td><td>2.7934618078718257E-4</td></tr><tr><td>2023-04-06</td><td>CTVA</td><td>7.035277808198809</td><td>0.4486357722000805</td></tr><tr><td>2023-04-06</td><td>HONDA</td><td>29.477773985690114</td><td>5.168535042284173</td></tr><tr><td>2023-04-04</td><td>IKEA</td><td>2.4140713653763477</td><td>0.9080772940887099</td></tr><tr><td>2023-04-10</td><td>FALA</td><td>0.0</td><td>0.0</td></tr><tr><td>2023-04-23</td><td>MOJIXTRACK</td><td>0.0</td><td>9.058636818428227E-5</td></tr><tr><td>2023-04-02</td><td>HONDA</td><td>4.686200671890287</td><td>5.133563606384013</td></tr><tr><td>2023-04-10</td><td>LUERSA</td><td>2.872570717283386E-4</td><td>0.0015833407110982228</td></tr><tr><td>2023-04-30</td><td>IKEA</td><td>1.0526767052413784</td><td>0.911328515646518</td></tr><tr><td>2023-04-02</td><td>LUER</td><td>0.0</td><td>2.7775964107763394E-4</td></tr><tr><td>2023-04-07</td><td>MOJIX</td><td>0.0</td><td>5.885749326729193E-5</td></tr><tr><td>2023-04-26</td><td>IKEA</td><td>1.837805880417843</td><td>0.9187747686734883</td></tr><tr><td>2023-04-20</td><td>ROOT</td><td>0.0</td><td>0.008494802992199471</td></tr><tr><td>2023-04-29</td><td>MOJIX</td><td>0.0</td><td>5.962391784555339E-5</td></tr><tr><td>2023-04-09</td><td>MOJIXTRACK</td><td>0.0</td><td>8.787815399847448E-5</td></tr><tr><td>2023-04-18</td><td>HONDA</td><td>26.63888647665616</td><td>5.635218389383229</td></tr><tr><td>2023-04-03</td><td>LUERSA</td><td>2.872570717283386E-4</td><td>0.001535489108554567</td></tr><tr><td>2023-04-04</td><td>CTVA</td><td>6.6818960118300375</td><td>0.44941865841691875</td></tr><tr><td>2023-04-26</td><td>LUER</td><td>0.0</td><td>2.7996488723196103E-4</td></tr><tr><td>2023-04-30</td><td>FALA</td><td>0.0</td><td>0.0</td></tr><tr><td>2023-04-10</td><td>LUER</td><td>0.0</td><td>2.8602283813387245E-4</td></tr><tr><td>2023-04-02</td><td>LUERSA</td><td>2.872570717283386E-4</td><td>0.0015375980131083307</td></tr><tr><td>2023-04-04</td><td>ROOT</td><td>0.0</td><td>0.008133156450010424</td></tr><tr><td>2023-04-21</td><td>LUERSA</td><td>2.872570717283386E-4</td><td>0.0015676122039519108</td></tr><tr><td>2023-04-24</td><td>LUERSA</td><td>2.872570717283386E-4</td><td>0.0015566349077393178</td></tr><tr><td>2023-04-13</td><td>IKEA</td><td>2.475470247868992</td><td>0.9462884563832953</td></tr><tr><td>2023-04-05</td><td>HONDA</td><td>29.21693529820363</td><td>5.155835137044125</td></tr><tr><td>2023-04-29</td><td>LUER</td><td>0.0</td><td>2.782449499459158E-4</td></tr><tr><td>2023-04-13</td><td>MOJIX</td><td>0.0</td><td>6.17890143357722E-5</td></tr><tr><td>2023-04-09</td><td>CTVA</td><td>6.681367829472344</td><td>0.44849104105088117</td></tr><tr><td>2023-04-01</td><td>CTVA</td><td>10.914147113175176</td><td>0.4482361855546228</td></tr><tr><td>2023-04-08</td><td>IKEA</td><td>0.5061562267424852</td><td>0.8993089703776175</td></tr><tr><td>2023-04-13</td><td>LUERSA</td><td>2.872570717283386E-4</td><td>0.0015962162036741152</td></tr><tr><td>2023-04-07</td><td>LUERSA</td><td>2.872570717283386E-4</td><td>0.001520485242738375</td></tr><tr><td>2023-04-15</td><td>HONDA</td><td>26.815734902912144</td><td>5.603394374907691</td></tr><tr><td>2023-04-23</td><td>HONDA</td><td>27.68513233003369</td><td>5.680338998819666</td></tr><tr><td>2023-04-27</td><td>FALA</td><td>0.0</td><td>0.0</td></tr><tr><td>2023-04-24</td><td>ROOT</td><td>0.0</td><td>0.008435956919361465</td></tr><tr><td>2023-04-25</td><td>CTVA</td><td>6.68692764376386</td><td>0.4799936616560748</td></tr><tr><td>2023-04-14</td><td>FALA</td><td>0.0</td><td>0.0</td></tr><tr><td>2023-04-25</td><td>HONDA</td><td>26.99002581459402</td><td>5.699195692563285</td></tr><tr><td>2023-04-27</td><td>IKEA</td><td>3.4099082358441253</td><td>0.9167443287983364</td></tr><tr><td>2023-04-21</td><td>LUER</td><td>0.0</td><td>2.8318155942357097E-4</td></tr><tr><td>2023-04-08</td><td>FEDEX</td><td>30.51885847813368</td><td>10.849538469831078</td></tr><tr><td>2023-04-19</td><td>ROOT</td><td>0.0</td><td>0.008481774047572456</td></tr><tr><td>2023-04-01</td><td>MOJIX</td><td>0.0</td><td>5.9611160415988506E-5</td></tr><tr><td>2023-04-26</td><td>CTVA</td><td>6.842565378497705</td><td>0.47957985182834934</td></tr><tr><td>2023-04-01</td><td>IKEA</td><td>4.067523070244665</td><td>0.9129349865774613</td></tr><tr><td>2023-04-03</td><td>HONDA</td><td>16.738321307895852</td><td>5.132258421958167</td></tr><tr><td>2023-04-22</td><td>LUERSA</td><td>2.872570717283386E-4</td><td>0.0015641144594978746</td></tr><tr><td>2023-04-27</td><td>MOJIXTRACK</td><td>0.0</td><td>8.978984382445153E-5</td></tr><tr><td>2023-04-19</td><td>FEDEX</td><td>30.19969733872919</td><td>11.465357423111529</td></tr><tr><td>2023-04-21</td><td>HONDA</td><td>27.145626483899253</td><td>5.661932099114877</td></tr><tr><td>2023-04-15</td><td>FALA</td><td>0.0</td><td>0.0</td></tr><tr><td>2023-04-30</td><td>LUER</td><td>0.0</td><td>2.776958987267518E-4</td></tr><tr><td>2023-04-27</td><td>HONDA</td><td>25.190999638859502</td><td>5.718525596842356</td></tr><tr><td>2023-04-25</td><td>LUER</td><td>0.0</td><td>2.8059256182659184E-4</td></tr><tr><td>2023-04-29</td><td>IKEA</td><td>1.1654482717876324</td><td>0.9131303644850093</td></tr><tr><td>2023-04-12</td><td>FALA</td><td>0.0</td><td>0.0</td></tr><tr><td>2023-04-03</td><td>MOJIX</td><td>0.0</td><td>5.9438288073080014E-5</td></tr><tr><td>2023-04-10</td><td>MOJIXTRACK</td><td>0.0</td><td>9.193591225731615E-5</td></tr><tr><td>2023-04-07</td><td>LUER</td><td>0.0</td><td>2.74668301914029E-4</td></tr><tr><td>2023-04-20</td><td>CTVA</td><td>7.117627924213317</td><td>0.4759117074913851</td></tr><tr><td>2023-04-29</td><td>MOJIXTRACK</td><td>0.0</td><td>8.943587676833007E-5</td></tr><tr><td>2023-04-29</td><td>ROOT</td><td>0.0</td><td>0.008397035096582102</td></tr><tr><td>2023-04-02</td><td>ROOT</td><td>0.0</td><td>0.00814430947588348</td></tr><tr><td>2023-04-04</td><td>FALA</td><td>0.0</td><td>0.0</td></tr><tr><td>2023-04-02</td><td>MOJIX</td><td>0.0</td><td>5.951992308806442E-5</td></tr><tr><td>2023-04-14</td><td>MOJIXTRACK</td><td>0.0</td><td>9.24661206403279E-5</td></tr><tr><td>2023-04-06</td><td>MOJIXTRACK</td><td>0.0</td><td>8.849995506314053E-5</td></tr><tr><td>2023-04-12</td><td>HONDA</td><td>28.746602808212813</td><td>5.569936280935629</td></tr><tr><td>2023-04-14</td><td>CTVA</td><td>6.873181422529654</td><td>0.4779162815362371</td></tr><tr><td>2023-04-23</td><td>IKEA</td><td>2.1484234385277023</td><td>0.9248767540095015</td></tr><tr><td>2023-04-24</td><td>MOJIXTRACK</td><td>0.0</td><td>9.038525270744425E-5</td></tr><tr><td>2023-04-16</td><td>HONDA</td><td>27.317332081935582</td><td>5.613585106546874</td></tr><tr><td>2023-04-06</td><td>LUER</td><td>0.0</td><td>2.7533319352977055E-4</td></tr><tr><td>2023-04-12</td><td>MOJIX</td><td>0.0</td><td>6.194048619874148E-5</td></tr><tr><td>2023-04-01</td><td>LUERSA</td><td>2.872570717283386E-4</td><td>0.0015399549774130364</td></tr><tr><td>2023-04-09</td><td>FEDEX</td><td>30.49083701410444</td><td>10.841947721083125</td></tr><tr><td>2023-04-03</td><td>CTVA</td><td>6.302197761148089</td><td>0.4499478407132157</td></tr><tr><td>2023-04-02</td><td>CTVA</td><td>6.098523230935545</td><td>0.44998053853294834</td></tr><tr><td>2023-04-07</td><td>IKEA</td><td>2.147098349454891</td><td>0.9013926998063647</td></tr><tr><td>2023-04-23</td><td>LUER</td><td>0.0</td><td>2.8182425657332266E-4</td></tr><tr><td>2023-04-16</td><td>CTVA</td><td>6.906447644707225</td><td>0.47719789439585475</td></tr><tr><td>2023-04-05</td><td>IKEA</td><td>5.671195904489607</td><td>0.905849139221821</td></tr><tr><td>2023-04-30</td><td>HONDA</td><td>22.62871289082849</td><td>5.73822870960425</td></tr><tr><td>2023-04-23</td><td>FEDEX</td><td>28.421622396516536</td><td>11.433459111899394</td></tr><tr><td>2023-04-22</td><td>FEDEX</td><td>28.624731678942776</td><td>11.444988778342994</td></tr><tr><td>2023-04-14</td><td>LUER</td><td>0.0</td><td>2.8767237532546466E-4</td></tr><tr><td>2023-04-17</td><td>HONDA</td><td>27.228171193413967</td><td>5.625370797613543</td></tr><tr><td>2023-04-30</td><td>LUERSA</td><td>2.872570717283386E-4</td><td>0.0015372451536659478</td></tr><tr><td>2023-04-09</td><td>ROOT</td><td>0.0</td><td>0.008084790167859653</td></tr><tr><td>2023-04-16</td><td>FEDEX</td><td>29.430561895997986</td><td>11.488822099851198</td></tr><tr><td>2023-04-18</td><td>ROOT</td><td>0.0</td><td>0.008500557962526705</td></tr><tr><td>2023-04-17</td><td>FEDEX</td><td>30.24505615699081</td><td>11.479692850061125</td></tr><tr><td>2023-04-08</td><td>ROOT</td><td>0.0</td><td>0.008083984040874447</td></tr><tr><td>2023-04-27</td><td>MOJIX</td><td>0.0</td><td>5.9859895882967696E-5</td></tr><tr><td>2023-04-11</td><td>MOJIX</td><td>0.0</td><td>6.209023040115807E-5</td></tr><tr><td>2023-04-08</td><td>FALA</td><td>0.0</td><td>0.0</td></tr><tr><td>2023-04-14</td><td>MOJIX</td><td>0.0</td><td>6.164408042688528E-5</td></tr><tr><td>2023-04-30</td><td>MOJIXTRACK</td><td>0.0</td><td>8.925939601931308E-5</td></tr><tr><td>2023-04-15</td><td>LUER</td><td>0.0</td><td>2.8701712735514296E-4</td></tr><tr><td>2023-04-08</td><td>CTVA</td><td>6.633664622851135</td><td>0.44789773563028934</td></tr><tr><td>2023-04-05</td><td>CTVA</td><td>7.0740667792392875</td><td>0.4490947054205538</td></tr><tr><td>2023-04-13</td><td>FEDEX</td><td>30.27102048973219</td><td>11.5125703437173</td></tr><tr><td>2023-04-13</td><td>FALA</td><td>0.0</td><td>0.0</td></tr><tr><td>2023-04-17</td><td>CTVA</td><td>7.0330909479108135</td><td>0.4767989722534251</td></tr><tr><td>2023-04-30</td><td>CTVA</td><td>6.29728659185725</td><td>0.4781129959221161</td></tr><tr><td>2023-04-22</td><td>HONDA</td><td>26.23962694602523</td><td>5.672165222289268</td></tr><tr><td>2023-04-18</td><td>FALA</td><td>0.0</td><td>0.0</td></tr><tr><td>2023-04-22</td><td>LUER</td><td>0.0</td><td>2.825497088125193E-4</td></tr><tr><td>2023-04-24</td><td>IKEA</td><td>3.478646073201571</td><td>0.9228233873371497</td></tr><tr><td>2023-04-29</td><td>LUERSA</td><td>2.872570717283386E-4</td><td>0.0015402845443434625</td></tr><tr><td>2023-04-05</td><td>LUER</td><td>0.0</td><td>2.760262479536287E-4</td></tr><tr><td>2023-04-28</td><td>HONDA</td><td>23.750905807428122</td><td>5.725645342652337</td></tr><tr><td>2023-04-25</td><td>FALA</td><td>0.0</td><td>0.0</td></tr><tr><td>2023-04-25</td><td>ROOT</td><td>0.0</td><td>0.008427798017720133</td></tr><tr><td>2023-04-01</td><td>HONDA</td><td>9.844077455558505</td><td>5.13456756165756</td></tr><tr><td>2023-04-11</td><td>MOJIXTRACK</td><td>0.0</td><td>9.313534560173708E-5</td></tr><tr><td>2023-04-19</td><td>IKEA</td><td>2.078323446668835</td><td>0.9333912999489647</td></tr><tr><td>2023-04-21</td><td>MOJIXTRACK</td><td>9.266357152527053E-5</td><td>9.102264410043352E-5</td></tr><tr><td>2023-04-23</td><td>FALA</td><td>0.0</td><td>0.0</td></tr><tr><td>2023-04-04</td><td>FEDEX</td><td>29.128738110825875</td><td>10.885296028284854</td></tr><tr><td>2023-04-18</td><td>CTVA</td><td>7.28374590888667</td><td>0.4764588188768562</td></tr><tr><td>2023-04-20</td><td>IKEA</td><td>1.4021944306775462</td><td>0.9314784631864167</td></tr><tr><td>2023-04-10</td><td>HONDA</td><td>28.189426018988513</td><td>5.461401792139057</td></tr><tr><td>2023-04-29</td><td>FALA</td><td>0.0</td><td>0.0</td></tr><tr><td>2023-04-19</td><td>LUERSA</td><td>2.872570717283386E-4</td><td>0.0015744610507469829</td></tr><tr><td>2023-04-06</td><td>FEDEX</td><td>29.508037908150264</td><td>10.865817982757251</td></tr><tr><td>2023-04-20</td><td>HONDA</td><td>23.460794697696805</td><td>5.65152755393328</td></tr><tr><td>2023-04-03</td><td>ROOT</td><td>0.0</td><td>0.008143045466011961</td></tr><tr><td>2023-04-08</td><td>LUERSA</td><td>2.872570717283386E-4</td><td>0.00151697037086627</td></tr><tr><td>2023-04-25</td><td>FEDEX</td><td>29.199032696184947</td><td>11.419526017729869</td></tr><tr><td>2023-04-28</td><td>FEDEX</td><td>28.922459734253472</td><td>11.400313842176818</td></tr><tr><td>2023-04-26</td><td>MOJIX</td><td>0.0</td><td>5.999247583542023E-5</td></tr><tr><td>2023-04-11</td><td>LUERSA</td><td>2.872570717283386E-4</td><td>0.0016039976186965836</td></tr><tr><td>2023-04-08</td><td>LUER</td><td>0.0</td><td>2.740333573177778E-4</td></tr><tr><td>2023-04-12</td><td>FEDEX</td><td>30.55622043017267</td><td>11.522055685131862</td></tr><tr><td>2023-04-07</td><td>HONDA</td><td>28.29531268217044</td><td>5.179959696214462</td></tr><tr><td>2023-04-25</td><td>MOJIX</td><td>0.0</td><td>6.012697753426968E-5</td></tr><tr><td>2023-04-24</td><td>FALA</td><td>0.0</td><td>0.0</td></tr><tr><td>2023-04-14</td><td>ROOT</td><td>0.0</td><td>0.008558253165932573</td></tr><tr><td>2023-04-19</td><td>MOJIX</td><td>0.0</td><td>6.0946879383754186E-5</td></tr><tr><td>2023-04-29</td><td>HONDA</td><td>23.399775735847417</td><td>5.731686971771611</td></tr><tr><td>2023-04-22</td><td>FALA</td><td>0.0</td><td>0.0</td></tr><tr><td>2023-04-07</td><td>ROOT</td><td>0.0</td><td>0.008102714906463854</td></tr><tr><td>2023-04-16</td><td>ROOT</td><td>0.0</td><td>0.008529792188395191</td></tr><tr><td>2023-04-15</td><td>CTVA</td><td>6.796372588092357</td><td>0.477524745637119</td></tr><tr><td>2023-04-17</td><td>MOJIXTRACK</td><td>0.0</td><td>9.182946180784991E-5</td></tr><tr><td>2023-04-27</td><td>FEDEX</td><td>29.796610802594262</td><td>11.405155845828403</td></tr><tr><td>2023-04-11</td><td>HONDA</td><td>28.738939530847674</td><td>5.558213941794334</td></tr><tr><td>2023-04-09</td><td>MOJIX</td><td>0.0</td><td>5.8585435998983E-5</td></tr><tr><td>2023-05-01</td><td>CTVA</td><td>4.885981321602973</td><td>0.0</td></tr><tr><td>2023-04-17</td><td>LUER</td><td>0.0</td><td>2.856916589577553E-4</td></tr><tr><td>2023-04-13</td><td>MOJIXTRACK</td><td>0.0</td><td>9.268352150365828E-5</td></tr><tr><td>2023-04-13</td><td>CTVA</td><td>6.921653736794522</td><td>0.47827786546604467</td></tr><tr><td>2023-04-29</td><td>FEDEX</td><td>28.661639579481292</td><td>11.396306973286613</td></tr><tr><td>2023-05-01</td><td>IKEA</td><td>0.7822179798550195</td><td>0.0</td></tr><tr><td>2023-04-18</td><td>FEDEX</td><td>30.22312268961078</td><td>11.472302124681358</td></tr><tr><td>2023-04-01</td><td>FALA</td><td>0.0</td><td>0.0</td></tr><tr><td>2023-04-28</td><td>MOJIXTRACK</td><td>0.0</td><td>8.960773206068647E-5</td></tr><tr><td>2023-04-22</td><td>IKEA</td><td>2.264540160006019</td><td>0.9272575068954853</td></tr><tr><td>2023-05-01</td><td>FEDEX</td><td>22.106222825491</td><td>0.0</td></tr><tr><td>2023-04-12</td><td>LUERSA</td><td>2.872570717283386E-4</td><td>0.0016001292268008217</td></tr><tr><td>2023-04-03</td><td>IKEA</td><td>1.3140806405141665</td><td>0.9102874754578749</td></tr><tr><td>2023-04-02</td><td>FEDEX</td><td>29.442395034081763</td><td>10.89143168603873</td></tr><tr><td>2023-04-13</td><td>HONDA</td><td>28.444417635111755</td><td>5.58222551847478</td></tr><tr><td>2023-04-16</td><td>MOJIX</td><td>0.0</td><td>6.136541142730354E-5</td></tr><tr><td>2023-04-26</td><td>MOJIXTRACK</td><td>0.0</td><td>8.998871375313034E-5</td></tr><tr><td>2023-04-06</td><td>IKEA</td><td>3.2044452987011427</td><td>0.9035747078663248</td></tr><tr><td>2023-04-01</td><td>FEDEX</td><td>49.49790540815356</td><td>10.89077023932645</td></tr><tr><td>2023-04-21</td><td>FALA</td><td>0.0</td><td>0.0</td></tr><tr><td>2023-04-09</td><td>LUERSA</td><td>2.872570717283386E-4</td><td>0.001513457096640394</td></tr><tr><td>2023-04-12</td><td>LUER</td><td>0.0</td><td>2.890556022607935E-4</td></tr><tr><td>2023-04-18</td><td>MOJIXTRACK</td><td>0.0</td><td>9.162278043441959E-5</td></tr><tr><td>2023-04-20</td><td>MOJIXTRACK</td><td>0.0</td><td>9.123296769665303E-5</td></tr><tr><td>2023-04-06</td><td>ROOT</td><td>0.0</td><td>0.008112495880787883</td></tr><tr><td>2023-04-20</td><td>LUERSA</td><td>2.872570717283386E-4</td><td>0.00157123444366458</td></tr><tr><td>2023-04-11</td><td>FEDEX</td><td>30.413259072023482</td><td>11.531097487322803</td></tr><tr><td>2023-04-04</td><td>HONDA</td><td>29.15066231184876</td><td>5.143742161693775</td></tr><tr><td>2023-04-10</td><td>MOJIX</td><td>0.0</td><td>6.129060817154411E-5</td></tr><tr><td>2023-04-19</td><td>HONDA</td><td>26.440382573734727</td><td>5.6445749184999325</td></tr><tr><td>2023-04-02</td><td>FALA</td><td>0.0</td><td>0.0</td></tr><tr><td>2023-04-20</td><td>LUER</td><td>0.0</td><td>2.838358995006983E-4</td></tr></tbody></table></div>"
      ]
     },
     "metadata": {
      "application/vnd.databricks.v1+output": {
       "addedWidgets": {},
       "aggData": [],
       "aggError": "",
       "aggOverflow": false,
       "aggSchema": [],
       "aggSeriesLimitReached": false,
       "aggType": "",
       "arguments": {},
       "columnCustomDisplayInfos": {},
       "data": [
        [
         "2023-04-05",
         "FALA",
         0.0,
         0.0
        ],
        [
         "2023-04-10",
         "ROOT",
         0.0,
         0.008458103927673084
        ],
        [
         "2023-04-25",
         "IKEA",
         3.275824047847059,
         0.9208346397744178
        ],
        [
         "2023-04-01",
         "LUER",
         0.0,
         2.78185415274613E-4
        ],
        [
         "2023-04-25",
         "LUERSA",
         2.872570717283386E-4,
         0.0015532802529686332
        ],
        [
         "2023-04-07",
         "MOJIXTRACK",
         0.0,
         8.828623990093789E-5
        ],
        [
         "2023-04-16",
         "LUERSA",
         2.872570717283386E-4,
         0.0015852731285386748
        ],
        [
         "2023-04-21",
         "MOJIX",
         7.413085722021642E-5,
         6.068176273362235E-5
        ],
        [
         "2023-04-19",
         "LUER",
         0.0,
         2.844187704575195E-4
        ],
        [
         "2023-04-08",
         "MOJIXTRACK",
         0.0,
         8.808215056642858E-5
        ],
        [
         "2023-04-28",
         "FALA",
         0.0,
         0.0
        ],
        [
         "2023-04-16",
         "FALA",
         0.0,
         0.0
        ],
        [
         "2023-04-24",
         "HONDA",
         25.761353187954697,
         5.690022813691739
        ],
        [
         "2023-04-10",
         "IKEA",
         0.13489962742648884,
         0.938655449045836
        ],
        [
         "2023-04-14",
         "IKEA",
         3.4047932066959303,
         0.9440688177243436
        ],
        [
         "2023-04-03",
         "LUER",
         0.0,
         2.773786776743734E-4
        ],
        [
         "2023-04-28",
         "LUER",
         0.0,
         2.78779610855469E-4
        ],
        [
         "2023-04-27",
         "ROOT",
         0.0,
         0.008420292020870789
        ],
        [
         "2023-04-28",
         "ROOT",
         0.0,
         0.00840321398435771
        ],
        [
         "2023-04-11",
         "ROOT",
         0.0,
         0.008578800167093337
        ],
        [
         "2023-04-15",
         "ROOT",
         0.0,
         0.0085387595388155
        ],
        [
         "2023-04-17",
         "ROOT",
         0.0,
         0.008509530127527426
        ],
        [
         "2023-04-23",
         "MOJIX",
         0.0,
         6.0390912122854856E-5
        ],
        [
         "2023-04-18",
         "IKEA",
         3.2175386613576635,
         0.9354584079264869
        ],
        [
         "2023-04-08",
         "HONDA",
         26.515458599384502,
         5.189859032807684
        ],
        [
         "2023-04-15",
         "MOJIXTRACK",
         0.0,
         9.225550522129594E-5
        ],
        [
         "2023-04-19",
         "FALA",
         0.0,
         0.0
        ],
        [
         "2023-04-03",
         "FEDEX",
         29.500217102713535,
         10.894027752898324
        ],
        [
         "2023-04-04",
         "MOJIXTRACK",
         0.0,
         8.894095753352835E-5
        ],
        [
         "2023-04-15",
         "FEDEX",
         29.516850213802318,
         11.49655304110378
        ],
        [
         "2023-04-26",
         "FALA",
         0.0,
         0.0
        ],
        [
         "2023-04-05",
         "MOJIXTRACK",
         0.0,
         8.87227225565235E-5
        ],
        [
         "2023-04-22",
         "CTVA",
         6.271859707830716,
         0.4750770621851641
        ],
        [
         "2023-04-16",
         "MOJIXTRACK",
         0.0,
         9.20481171409553E-5
        ],
        [
         "2023-04-23",
         "CTVA",
         6.2909391372077685,
         0.48084250747419083
        ],
        [
         "2023-04-05",
         "FEDEX",
         28.644774809463694,
         10.875789060263198
        ],
        [
         "2023-04-04",
         "MOJIX",
         0.0,
         5.929397168901891E-5
        ],
        [
         "2023-04-20",
         "MOJIX",
         0.0,
         6.0821978464435356E-5
        ],
        [
         "2023-04-21",
         "IKEA",
         1.9202208609324185,
         0.9293310826383042
        ],
        [
         "2023-04-01",
         "ROOT",
         0.0,
         0.008146858590185097
        ],
        [
         "2023-04-18",
         "MOJIX",
         0.0,
         6.10818536229464E-5
        ],
        [
         "2023-04-14",
         "FEDEX",
         29.901014848631785,
         11.504398427761297
        ],
        [
         "2023-04-22",
         "MOJIXTRACK",
         0.0,
         9.081954926116692E-5
        ],
        [
         "2023-04-06",
         "FALA",
         0.0,
         0.0
        ],
        [
         "2023-04-27",
         "CTVA",
         6.320758274524601,
         0.47913855994590104
        ],
        [
         "2023-04-14",
         "LUERSA",
         2.872570717283386E-4,
         0.0015924720776945363
        ],
        [
         "2023-04-28",
         "MOJIX",
         0.0,
         5.9738488040457646E-5
        ],
        [
         "2023-04-17",
         "IKEA",
         1.8442367322816968,
         0.9375686017846135
        ],
        [
         "2023-04-02",
         "MOJIXTRACK",
         0.0,
         8.927988463209662E-5
        ],
        [
         "2023-04-19",
         "CTVA",
         7.328419016719002,
         0.4761373373723489
        ],
        [
         "2023-04-26",
         "HONDA",
         26.41750393792514,
         5.709183962877766
        ],
        [
         "2023-04-18",
         "LUERSA",
         2.872570717283386E-4,
         0.0015779478852594485
        ],
        [
         "2023-04-23",
         "ROOT",
         0.0,
         0.008454727697199679
        ],
        [
         "2023-04-24",
         "MOJIX",
         0.0,
         6.025683513829618E-5
        ],
        [
         "2023-04-12",
         "MOJIXTRACK",
         0.0,
         9.291072929811222E-5
        ],
        [
         "2023-05-01",
         "HONDA",
         15.958819873051011,
         0.0
        ],
        [
         "2023-04-15",
         "MOJIX",
         0.0,
         6.150367014753063E-5
        ],
        [
         "2023-04-09",
         "LUER",
         0.0,
         2.733987013285873E-4
        ],
        [
         "2023-04-20",
         "FEDEX",
         30.017947009539526,
         11.460533347107393
        ],
        [
         "2023-04-21",
         "ROOT",
         0.0,
         0.008475219528462585
        ],
        [
         "2023-04-14",
         "HONDA",
         28.210608911439195,
         5.59298796515811
        ],
        [
         "2023-04-04",
         "LUERSA",
         2.872570717283386E-4,
         0.001531760935299655
        ],
        [
         "2023-04-17",
         "MOJIX",
         0.0,
         6.121964120523328E-5
        ],
        [
         "2023-04-26",
         "FEDEX",
         29.87451306717556,
         11.412018722062951
        ],
        [
         "2023-04-15",
         "LUERSA",
         2.872570717283386E-4,
         0.0015888448121445411
        ],
        [
         "2023-04-10",
         "CTVA",
         6.9268614295142426,
         0.47223392086038535
        ],
        [
         "2023-04-18",
         "LUER",
         0.0,
         2.850486502404165E-4
        ],
        [
         "2023-04-05",
         "ROOT",
         0.0,
         0.00812305815406393
        ],
        [
         "2023-04-24",
         "LUER",
         0.0,
         2.8119856397871543E-4
        ],
        [
         "2023-04-08",
         "MOJIX",
         0.0,
         5.8721433710952395E-5
        ],
        [
         "2023-04-22",
         "ROOT",
         0.0,
         0.00846640020334656
        ],
        [
         "2023-04-30",
         "MOJIX",
         0.0,
         5.9506264012875393E-5
        ],
        [
         "2023-04-03",
         "FALA",
         0.0,
         0.0
        ],
        [
         "2023-04-30",
         "FEDEX",
         29.16780507258093,
         11.391948606599549
        ],
        [
         "2023-04-05",
         "MOJIX",
         0.0,
         5.9148481704349007E-5
        ],
        [
         "2023-04-16",
         "IKEA",
         1.7764069979251986,
         0.9398010484405827
        ],
        [
         "2023-04-06",
         "MOJIX",
         0.0,
         5.89999700420937E-5
        ],
        [
         "2023-04-20",
         "FALA",
         0.0,
         0.0
        ],
        [
         "2023-04-15",
         "IKEA",
         2.050237118139526,
         0.9419184576977403
        ],
        [
         "2023-04-21",
         "FEDEX",
         29.03701044137301,
         11.452661239631869
        ],
        [
         "2023-04-09",
         "FALA",
         0.0,
         0.0
        ],
        [
         "2023-04-05",
         "LUERSA",
         2.872570717283386E-4,
         0.001528002444029016
        ],
        [
         "2023-04-03",
         "MOJIXTRACK",
         0.0,
         8.915743210962002E-5
        ],
        [
         "2023-04-26",
         "LUERSA",
         2.872570717283386E-4,
         0.001549805625748356
        ],
        [
         "2023-04-24",
         "CTVA",
         6.598424666600074,
         0.4803976181400662
        ],
        [
         "2023-04-24",
         "FEDEX",
         29.15222832620753,
         11.42629274835212
        ],
        [
         "2023-04-09",
         "IKEA",
         0.03489710103641688,
         0.8972261880850916
        ],
        [
         "2023-04-11",
         "LUER",
         0.0,
         2.897544085387376E-4
        ],
        [
         "2023-04-10",
         "FEDEX",
         31.643321652235684,
         11.363677143957393
        ],
        [
         "2023-04-13",
         "LUER",
         0.0,
         2.883487335669369E-4
        ],
        [
         "2023-04-30",
         "ROOT",
         0.0,
         0.008380465515146616
        ],
        [
         "2023-04-19",
         "MOJIXTRACK",
         0.0,
         9.142031907563128E-5
        ],
        [
         "2023-04-02",
         "IKEA",
         2.231626059400243,
         0.9115377021065254
        ],
        [
         "2023-04-07",
         "FEDEX",
         30.26174486622251,
         10.856970923071204
        ],
        [
         "2023-04-07",
         "FALA",
         0.0,
         0.0
        ],
        [
         "2023-04-01",
         "MOJIXTRACK",
         0.0,
         8.941674062398275E-5
        ],
        [
         "2023-04-11",
         "FALA",
         0.0,
         0.0
        ],
        [
         "2023-04-16",
         "LUER",
         0.0,
         2.863719199940832E-4
        ],
        [
         "2023-04-28",
         "CTVA",
         6.36321672299748,
         0.4787442431562275
        ],
        [
         "2023-04-11",
         "CTVA",
         7.217787978674982,
         0.4791192628905362
        ],
        [
         "2023-04-28",
         "IKEA",
         1.3497839146228532,
         0.9148849879249354
        ],
        [
         "2023-04-13",
         "ROOT",
         0.0,
         0.00855777848550445
        ],
        [
         "2023-04-25",
         "MOJIXTRACK",
         0.0,
         9.019046630140451E-5
        ],
        [
         "2023-04-27",
         "LUERSA",
         2.872570717283386E-4,
         0.0015463806436433322
        ],
        [
         "2023-04-21",
         "CTVA",
         6.495484704992651,
         0.4755528609162761
        ],
        [
         "2023-04-28",
         "LUERSA",
         2.872570717283386E-4,
         0.0015432442743784892
        ],
        [
         "2023-04-06",
         "LUERSA",
         2.872570717283386E-4,
         0.001524165892754087
        ],
        [
         "2023-04-22",
         "MOJIX",
         0.0,
         6.054636617411128E-5
        ],
        [
         "2023-04-26",
         "ROOT",
         0.0,
         0.008428942854876543
        ],
        [
         "2023-04-04",
         "LUER",
         0.0,
         2.767052012154215E-4
        ],
        [
         "2023-04-17",
         "LUERSA",
         2.872570717283386E-4,
         0.0015815073978018596
        ],
        [
         "2023-04-09",
         "HONDA",
         25.845575108114016,
         5.198939940225083
        ],
        [
         "2023-04-12",
         "CTVA",
         7.212561753240957,
         0.4787586646588059
        ],
        [
         "2023-04-29",
         "CTVA",
         6.389792635310927,
         0.4784620660712841
        ],
        [
         "2023-04-12",
         "ROOT",
         0.0,
         0.008558110509792782
        ],
        [
         "2023-04-07",
         "CTVA",
         6.7684808530632505,
         0.4482586687236953
        ],
        [
         "2023-04-12",
         "IKEA",
         2.510719470477205,
         0.9486082227193595
        ],
        [
         "2023-04-23",
         "LUERSA",
         2.872570717283386E-4,
         0.0015600985631737505
        ],
        [
         "2023-04-17",
         "FALA",
         0.0,
         0.0
        ],
        [
         "2023-04-11",
         "IKEA",
         3.6332737750057897,
         0.9509015302220023
        ],
        [
         "2023-04-27",
         "LUER",
         0.0,
         2.7934618078718257E-4
        ],
        [
         "2023-04-06",
         "CTVA",
         7.035277808198809,
         0.4486357722000805
        ],
        [
         "2023-04-06",
         "HONDA",
         29.477773985690114,
         5.168535042284173
        ],
        [
         "2023-04-04",
         "IKEA",
         2.4140713653763477,
         0.9080772940887099
        ],
        [
         "2023-04-10",
         "FALA",
         0.0,
         0.0
        ],
        [
         "2023-04-23",
         "MOJIXTRACK",
         0.0,
         9.058636818428227E-5
        ],
        [
         "2023-04-02",
         "HONDA",
         4.686200671890287,
         5.133563606384013
        ],
        [
         "2023-04-10",
         "LUERSA",
         2.872570717283386E-4,
         0.0015833407110982228
        ],
        [
         "2023-04-30",
         "IKEA",
         1.0526767052413784,
         0.911328515646518
        ],
        [
         "2023-04-02",
         "LUER",
         0.0,
         2.7775964107763394E-4
        ],
        [
         "2023-04-07",
         "MOJIX",
         0.0,
         5.885749326729193E-5
        ],
        [
         "2023-04-26",
         "IKEA",
         1.837805880417843,
         0.9187747686734883
        ],
        [
         "2023-04-20",
         "ROOT",
         0.0,
         0.008494802992199471
        ],
        [
         "2023-04-29",
         "MOJIX",
         0.0,
         5.962391784555339E-5
        ],
        [
         "2023-04-09",
         "MOJIXTRACK",
         0.0,
         8.787815399847448E-5
        ],
        [
         "2023-04-18",
         "HONDA",
         26.63888647665616,
         5.635218389383229
        ],
        [
         "2023-04-03",
         "LUERSA",
         2.872570717283386E-4,
         0.001535489108554567
        ],
        [
         "2023-04-04",
         "CTVA",
         6.6818960118300375,
         0.44941865841691875
        ],
        [
         "2023-04-26",
         "LUER",
         0.0,
         2.7996488723196103E-4
        ],
        [
         "2023-04-30",
         "FALA",
         0.0,
         0.0
        ],
        [
         "2023-04-10",
         "LUER",
         0.0,
         2.8602283813387245E-4
        ],
        [
         "2023-04-02",
         "LUERSA",
         2.872570717283386E-4,
         0.0015375980131083307
        ],
        [
         "2023-04-04",
         "ROOT",
         0.0,
         0.008133156450010424
        ],
        [
         "2023-04-21",
         "LUERSA",
         2.872570717283386E-4,
         0.0015676122039519108
        ],
        [
         "2023-04-24",
         "LUERSA",
         2.872570717283386E-4,
         0.0015566349077393178
        ],
        [
         "2023-04-13",
         "IKEA",
         2.475470247868992,
         0.9462884563832953
        ],
        [
         "2023-04-05",
         "HONDA",
         29.21693529820363,
         5.155835137044125
        ],
        [
         "2023-04-29",
         "LUER",
         0.0,
         2.782449499459158E-4
        ],
        [
         "2023-04-13",
         "MOJIX",
         0.0,
         6.17890143357722E-5
        ],
        [
         "2023-04-09",
         "CTVA",
         6.681367829472344,
         0.44849104105088117
        ],
        [
         "2023-04-01",
         "CTVA",
         10.914147113175176,
         0.4482361855546228
        ],
        [
         "2023-04-08",
         "IKEA",
         0.5061562267424852,
         0.8993089703776175
        ],
        [
         "2023-04-13",
         "LUERSA",
         2.872570717283386E-4,
         0.0015962162036741152
        ],
        [
         "2023-04-07",
         "LUERSA",
         2.872570717283386E-4,
         0.001520485242738375
        ],
        [
         "2023-04-15",
         "HONDA",
         26.815734902912144,
         5.603394374907691
        ],
        [
         "2023-04-23",
         "HONDA",
         27.68513233003369,
         5.680338998819666
        ],
        [
         "2023-04-27",
         "FALA",
         0.0,
         0.0
        ],
        [
         "2023-04-24",
         "ROOT",
         0.0,
         0.008435956919361465
        ],
        [
         "2023-04-25",
         "CTVA",
         6.68692764376386,
         0.4799936616560748
        ],
        [
         "2023-04-14",
         "FALA",
         0.0,
         0.0
        ],
        [
         "2023-04-25",
         "HONDA",
         26.99002581459402,
         5.699195692563285
        ],
        [
         "2023-04-27",
         "IKEA",
         3.4099082358441253,
         0.9167443287983364
        ],
        [
         "2023-04-21",
         "LUER",
         0.0,
         2.8318155942357097E-4
        ],
        [
         "2023-04-08",
         "FEDEX",
         30.51885847813368,
         10.849538469831078
        ],
        [
         "2023-04-19",
         "ROOT",
         0.0,
         0.008481774047572456
        ],
        [
         "2023-04-01",
         "MOJIX",
         0.0,
         5.9611160415988506E-5
        ],
        [
         "2023-04-26",
         "CTVA",
         6.842565378497705,
         0.47957985182834934
        ],
        [
         "2023-04-01",
         "IKEA",
         4.067523070244665,
         0.9129349865774613
        ],
        [
         "2023-04-03",
         "HONDA",
         16.738321307895852,
         5.132258421958167
        ],
        [
         "2023-04-22",
         "LUERSA",
         2.872570717283386E-4,
         0.0015641144594978746
        ],
        [
         "2023-04-27",
         "MOJIXTRACK",
         0.0,
         8.978984382445153E-5
        ],
        [
         "2023-04-19",
         "FEDEX",
         30.19969733872919,
         11.465357423111529
        ],
        [
         "2023-04-21",
         "HONDA",
         27.145626483899253,
         5.661932099114877
        ],
        [
         "2023-04-15",
         "FALA",
         0.0,
         0.0
        ],
        [
         "2023-04-30",
         "LUER",
         0.0,
         2.776958987267518E-4
        ],
        [
         "2023-04-27",
         "HONDA",
         25.190999638859502,
         5.718525596842356
        ],
        [
         "2023-04-25",
         "LUER",
         0.0,
         2.8059256182659184E-4
        ],
        [
         "2023-04-29",
         "IKEA",
         1.1654482717876324,
         0.9131303644850093
        ],
        [
         "2023-04-12",
         "FALA",
         0.0,
         0.0
        ],
        [
         "2023-04-03",
         "MOJIX",
         0.0,
         5.9438288073080014E-5
        ],
        [
         "2023-04-10",
         "MOJIXTRACK",
         0.0,
         9.193591225731615E-5
        ],
        [
         "2023-04-07",
         "LUER",
         0.0,
         2.74668301914029E-4
        ],
        [
         "2023-04-20",
         "CTVA",
         7.117627924213317,
         0.4759117074913851
        ],
        [
         "2023-04-29",
         "MOJIXTRACK",
         0.0,
         8.943587676833007E-5
        ],
        [
         "2023-04-29",
         "ROOT",
         0.0,
         0.008397035096582102
        ],
        [
         "2023-04-02",
         "ROOT",
         0.0,
         0.00814430947588348
        ],
        [
         "2023-04-04",
         "FALA",
         0.0,
         0.0
        ],
        [
         "2023-04-02",
         "MOJIX",
         0.0,
         5.951992308806442E-5
        ],
        [
         "2023-04-14",
         "MOJIXTRACK",
         0.0,
         9.24661206403279E-5
        ],
        [
         "2023-04-06",
         "MOJIXTRACK",
         0.0,
         8.849995506314053E-5
        ],
        [
         "2023-04-12",
         "HONDA",
         28.746602808212813,
         5.569936280935629
        ],
        [
         "2023-04-14",
         "CTVA",
         6.873181422529654,
         0.4779162815362371
        ],
        [
         "2023-04-23",
         "IKEA",
         2.1484234385277023,
         0.9248767540095015
        ],
        [
         "2023-04-24",
         "MOJIXTRACK",
         0.0,
         9.038525270744425E-5
        ],
        [
         "2023-04-16",
         "HONDA",
         27.317332081935582,
         5.613585106546874
        ],
        [
         "2023-04-06",
         "LUER",
         0.0,
         2.7533319352977055E-4
        ],
        [
         "2023-04-12",
         "MOJIX",
         0.0,
         6.194048619874148E-5
        ],
        [
         "2023-04-01",
         "LUERSA",
         2.872570717283386E-4,
         0.0015399549774130364
        ],
        [
         "2023-04-09",
         "FEDEX",
         30.49083701410444,
         10.841947721083125
        ],
        [
         "2023-04-03",
         "CTVA",
         6.302197761148089,
         0.4499478407132157
        ],
        [
         "2023-04-02",
         "CTVA",
         6.098523230935545,
         0.44998053853294834
        ],
        [
         "2023-04-07",
         "IKEA",
         2.147098349454891,
         0.9013926998063647
        ],
        [
         "2023-04-23",
         "LUER",
         0.0,
         2.8182425657332266E-4
        ],
        [
         "2023-04-16",
         "CTVA",
         6.906447644707225,
         0.47719789439585475
        ],
        [
         "2023-04-05",
         "IKEA",
         5.671195904489607,
         0.905849139221821
        ],
        [
         "2023-04-30",
         "HONDA",
         22.62871289082849,
         5.73822870960425
        ],
        [
         "2023-04-23",
         "FEDEX",
         28.421622396516536,
         11.433459111899394
        ],
        [
         "2023-04-22",
         "FEDEX",
         28.624731678942776,
         11.444988778342994
        ],
        [
         "2023-04-14",
         "LUER",
         0.0,
         2.8767237532546466E-4
        ],
        [
         "2023-04-17",
         "HONDA",
         27.228171193413967,
         5.625370797613543
        ],
        [
         "2023-04-30",
         "LUERSA",
         2.872570717283386E-4,
         0.0015372451536659478
        ],
        [
         "2023-04-09",
         "ROOT",
         0.0,
         0.008084790167859653
        ],
        [
         "2023-04-16",
         "FEDEX",
         29.430561895997986,
         11.488822099851198
        ],
        [
         "2023-04-18",
         "ROOT",
         0.0,
         0.008500557962526705
        ],
        [
         "2023-04-17",
         "FEDEX",
         30.24505615699081,
         11.479692850061125
        ],
        [
         "2023-04-08",
         "ROOT",
         0.0,
         0.008083984040874447
        ],
        [
         "2023-04-27",
         "MOJIX",
         0.0,
         5.9859895882967696E-5
        ],
        [
         "2023-04-11",
         "MOJIX",
         0.0,
         6.209023040115807E-5
        ],
        [
         "2023-04-08",
         "FALA",
         0.0,
         0.0
        ],
        [
         "2023-04-14",
         "MOJIX",
         0.0,
         6.164408042688528E-5
        ],
        [
         "2023-04-30",
         "MOJIXTRACK",
         0.0,
         8.925939601931308E-5
        ],
        [
         "2023-04-15",
         "LUER",
         0.0,
         2.8701712735514296E-4
        ],
        [
         "2023-04-08",
         "CTVA",
         6.633664622851135,
         0.44789773563028934
        ],
        [
         "2023-04-05",
         "CTVA",
         7.0740667792392875,
         0.4490947054205538
        ],
        [
         "2023-04-13",
         "FEDEX",
         30.27102048973219,
         11.5125703437173
        ],
        [
         "2023-04-13",
         "FALA",
         0.0,
         0.0
        ],
        [
         "2023-04-17",
         "CTVA",
         7.0330909479108135,
         0.4767989722534251
        ],
        [
         "2023-04-30",
         "CTVA",
         6.29728659185725,
         0.4781129959221161
        ],
        [
         "2023-04-22",
         "HONDA",
         26.23962694602523,
         5.672165222289268
        ],
        [
         "2023-04-18",
         "FALA",
         0.0,
         0.0
        ],
        [
         "2023-04-22",
         "LUER",
         0.0,
         2.825497088125193E-4
        ],
        [
         "2023-04-24",
         "IKEA",
         3.478646073201571,
         0.9228233873371497
        ],
        [
         "2023-04-29",
         "LUERSA",
         2.872570717283386E-4,
         0.0015402845443434625
        ],
        [
         "2023-04-05",
         "LUER",
         0.0,
         2.760262479536287E-4
        ],
        [
         "2023-04-28",
         "HONDA",
         23.750905807428122,
         5.725645342652337
        ],
        [
         "2023-04-25",
         "FALA",
         0.0,
         0.0
        ],
        [
         "2023-04-25",
         "ROOT",
         0.0,
         0.008427798017720133
        ],
        [
         "2023-04-01",
         "HONDA",
         9.844077455558505,
         5.13456756165756
        ],
        [
         "2023-04-11",
         "MOJIXTRACK",
         0.0,
         9.313534560173708E-5
        ],
        [
         "2023-04-19",
         "IKEA",
         2.078323446668835,
         0.9333912999489647
        ],
        [
         "2023-04-21",
         "MOJIXTRACK",
         9.266357152527053E-5,
         9.102264410043352E-5
        ],
        [
         "2023-04-23",
         "FALA",
         0.0,
         0.0
        ],
        [
         "2023-04-04",
         "FEDEX",
         29.128738110825875,
         10.885296028284854
        ],
        [
         "2023-04-18",
         "CTVA",
         7.28374590888667,
         0.4764588188768562
        ],
        [
         "2023-04-20",
         "IKEA",
         1.4021944306775462,
         0.9314784631864167
        ],
        [
         "2023-04-10",
         "HONDA",
         28.189426018988513,
         5.461401792139057
        ],
        [
         "2023-04-29",
         "FALA",
         0.0,
         0.0
        ],
        [
         "2023-04-19",
         "LUERSA",
         2.872570717283386E-4,
         0.0015744610507469829
        ],
        [
         "2023-04-06",
         "FEDEX",
         29.508037908150264,
         10.865817982757251
        ],
        [
         "2023-04-20",
         "HONDA",
         23.460794697696805,
         5.65152755393328
        ],
        [
         "2023-04-03",
         "ROOT",
         0.0,
         0.008143045466011961
        ],
        [
         "2023-04-08",
         "LUERSA",
         2.872570717283386E-4,
         0.00151697037086627
        ],
        [
         "2023-04-25",
         "FEDEX",
         29.199032696184947,
         11.419526017729869
        ],
        [
         "2023-04-28",
         "FEDEX",
         28.922459734253472,
         11.400313842176818
        ],
        [
         "2023-04-26",
         "MOJIX",
         0.0,
         5.999247583542023E-5
        ],
        [
         "2023-04-11",
         "LUERSA",
         2.872570717283386E-4,
         0.0016039976186965836
        ],
        [
         "2023-04-08",
         "LUER",
         0.0,
         2.740333573177778E-4
        ],
        [
         "2023-04-12",
         "FEDEX",
         30.55622043017267,
         11.522055685131862
        ],
        [
         "2023-04-07",
         "HONDA",
         28.29531268217044,
         5.179959696214462
        ],
        [
         "2023-04-25",
         "MOJIX",
         0.0,
         6.012697753426968E-5
        ],
        [
         "2023-04-24",
         "FALA",
         0.0,
         0.0
        ],
        [
         "2023-04-14",
         "ROOT",
         0.0,
         0.008558253165932573
        ],
        [
         "2023-04-19",
         "MOJIX",
         0.0,
         6.0946879383754186E-5
        ],
        [
         "2023-04-29",
         "HONDA",
         23.399775735847417,
         5.731686971771611
        ],
        [
         "2023-04-22",
         "FALA",
         0.0,
         0.0
        ],
        [
         "2023-04-07",
         "ROOT",
         0.0,
         0.008102714906463854
        ],
        [
         "2023-04-16",
         "ROOT",
         0.0,
         0.008529792188395191
        ],
        [
         "2023-04-15",
         "CTVA",
         6.796372588092357,
         0.477524745637119
        ],
        [
         "2023-04-17",
         "MOJIXTRACK",
         0.0,
         9.182946180784991E-5
        ],
        [
         "2023-04-27",
         "FEDEX",
         29.796610802594262,
         11.405155845828403
        ],
        [
         "2023-04-11",
         "HONDA",
         28.738939530847674,
         5.558213941794334
        ],
        [
         "2023-04-09",
         "MOJIX",
         0.0,
         5.8585435998983E-5
        ],
        [
         "2023-05-01",
         "CTVA",
         4.885981321602973,
         0.0
        ],
        [
         "2023-04-17",
         "LUER",
         0.0,
         2.856916589577553E-4
        ],
        [
         "2023-04-13",
         "MOJIXTRACK",
         0.0,
         9.268352150365828E-5
        ],
        [
         "2023-04-13",
         "CTVA",
         6.921653736794522,
         0.47827786546604467
        ],
        [
         "2023-04-29",
         "FEDEX",
         28.661639579481292,
         11.396306973286613
        ],
        [
         "2023-05-01",
         "IKEA",
         0.7822179798550195,
         0.0
        ],
        [
         "2023-04-18",
         "FEDEX",
         30.22312268961078,
         11.472302124681358
        ],
        [
         "2023-04-01",
         "FALA",
         0.0,
         0.0
        ],
        [
         "2023-04-28",
         "MOJIXTRACK",
         0.0,
         8.960773206068647E-5
        ],
        [
         "2023-04-22",
         "IKEA",
         2.264540160006019,
         0.9272575068954853
        ],
        [
         "2023-05-01",
         "FEDEX",
         22.106222825491,
         0.0
        ],
        [
         "2023-04-12",
         "LUERSA",
         2.872570717283386E-4,
         0.0016001292268008217
        ],
        [
         "2023-04-03",
         "IKEA",
         1.3140806405141665,
         0.9102874754578749
        ],
        [
         "2023-04-02",
         "FEDEX",
         29.442395034081763,
         10.89143168603873
        ],
        [
         "2023-04-13",
         "HONDA",
         28.444417635111755,
         5.58222551847478
        ],
        [
         "2023-04-16",
         "MOJIX",
         0.0,
         6.136541142730354E-5
        ],
        [
         "2023-04-26",
         "MOJIXTRACK",
         0.0,
         8.998871375313034E-5
        ],
        [
         "2023-04-06",
         "IKEA",
         3.2044452987011427,
         0.9035747078663248
        ],
        [
         "2023-04-01",
         "FEDEX",
         49.49790540815356,
         10.89077023932645
        ],
        [
         "2023-04-21",
         "FALA",
         0.0,
         0.0
        ],
        [
         "2023-04-09",
         "LUERSA",
         2.872570717283386E-4,
         0.001513457096640394
        ],
        [
         "2023-04-12",
         "LUER",
         0.0,
         2.890556022607935E-4
        ],
        [
         "2023-04-18",
         "MOJIXTRACK",
         0.0,
         9.162278043441959E-5
        ],
        [
         "2023-04-20",
         "MOJIXTRACK",
         0.0,
         9.123296769665303E-5
        ],
        [
         "2023-04-06",
         "ROOT",
         0.0,
         0.008112495880787883
        ],
        [
         "2023-04-20",
         "LUERSA",
         2.872570717283386E-4,
         0.00157123444366458
        ],
        [
         "2023-04-11",
         "FEDEX",
         30.413259072023482,
         11.531097487322803
        ],
        [
         "2023-04-04",
         "HONDA",
         29.15066231184876,
         5.143742161693775
        ],
        [
         "2023-04-10",
         "MOJIX",
         0.0,
         6.129060817154411E-5
        ],
        [
         "2023-04-19",
         "HONDA",
         26.440382573734727,
         5.6445749184999325
        ],
        [
         "2023-04-02",
         "FALA",
         0.0,
         0.0
        ],
        [
         "2023-04-20",
         "LUER",
         0.0,
         2.838358995006983E-4
        ]
       ],
       "datasetInfos": [],
       "dbfsResultPath": null,
       "isJsonSchema": true,
       "metadata": {},
       "overflow": false,
       "plotOptions": {
        "customPlotOptions": {},
        "displayType": "table",
        "pivotAggregation": null,
        "pivotColumns": null,
        "xColumns": null,
        "yColumns": null
       },
       "removedWidgets": [],
       "schema": [
        {
         "metadata": "{}",
         "name": "date_LA",
         "type": "\"string\""
        },
        {
         "metadata": "{}",
         "name": "tenant_cmp",
         "type": "\"string\""
        },
        {
         "metadata": "{}",
         "name": "compute_costs_ad",
         "type": "\"double\""
        },
        {
         "metadata": "{}",
         "name": "storage_costs_ad",
         "type": "\"double\""
        }
       ],
       "type": "table"
      }
     },
     "output_type": "display_data"
    }
   ],
   "source": [
    "display(df_agg_total_s)"
   ]
  },
  {
   "cell_type": "code",
   "execution_count": 0,
   "metadata": {
    "application/vnd.databricks.v1+cell": {
     "cellMetadata": {
      "byteLimit": 2048000,
      "rowLimit": 10000
     },
     "inputWidgets": {},
     "nuid": "b634afd1-f816-42a8-9fde-53ce866f684c",
     "showTitle": false,
     "title": ""
    }
   },
   "outputs": [
    {
     "output_type": "display_data",
     "data": {
      "text/html": [
       "<style scoped>\n",
       "  .table-result-container {\n",
       "    max-height: 300px;\n",
       "    overflow: auto;\n",
       "  }\n",
       "  table, th, td {\n",
       "    border: 1px solid black;\n",
       "    border-collapse: collapse;\n",
       "  }\n",
       "  th, td {\n",
       "    padding: 5px;\n",
       "  }\n",
       "  th {\n",
       "    text-align: left;\n",
       "  }\n",
       "</style><div class='table-result-container'><table class='table-result'><thead style='background-color: white'><tr><th>date</th><th>tenant_parent_code_v2</th><th>deployed_sites</th><th>total_sites_vt1</th></tr></thead><tbody><tr><td>2023-04-11</td><td>HONDA</td><td>2</td><td>15</td></tr><tr><td>2023-04-22</td><td>CTVA</td><td>1</td><td>15</td></tr><tr><td>2023-04-25</td><td>IKEA</td><td>2</td><td>15</td></tr><tr><td>2023-04-07</td><td>CTVA</td><td>1</td><td>15</td></tr><tr><td>2023-04-08</td><td>LUERSA</td><td>4</td><td>15</td></tr><tr><td>2023-04-09</td><td>HONDA</td><td>2</td><td>15</td></tr><tr><td>2023-04-06</td><td>HONDA</td><td>2</td><td>15</td></tr><tr><td>2023-04-20</td><td>HONDA</td><td>2</td><td>15</td></tr><tr><td>2023-04-23</td><td>LUERSA</td><td>4</td><td>15</td></tr><tr><td>2023-04-27</td><td>FEDEX</td><td>7</td><td>16</td></tr><tr><td>2023-04-02</td><td>FEDEX</td><td>6</td><td>15</td></tr><tr><td>2023-04-25</td><td>HONDA</td><td>2</td><td>15</td></tr><tr><td>2023-04-03</td><td>CTVA</td><td>1</td><td>15</td></tr><tr><td>2023-04-01</td><td>LUERSA</td><td>4</td><td>15</td></tr><tr><td>2023-04-28</td><td>HONDA</td><td>2</td><td>16</td></tr><tr><td>2023-04-10</td><td>HONDA</td><td>2</td><td>15</td></tr><tr><td>2023-04-25</td><td>CTVA</td><td>1</td><td>15</td></tr><tr><td>2023-04-10</td><td>CTVA</td><td>1</td><td>15</td></tr><tr><td>2023-04-09</td><td>FEDEX</td><td>6</td><td>15</td></tr><tr><td>2023-04-14</td><td>IKEA</td><td>2</td><td>15</td></tr><tr><td>2023-04-22</td><td>LUERSA</td><td>4</td><td>15</td></tr><tr><td>2023-04-30</td><td>LUERSA</td><td>4</td><td>16</td></tr><tr><td>2023-04-07</td><td>LUERSA</td><td>4</td><td>15</td></tr><tr><td>2023-04-13</td><td>FEDEX</td><td>6</td><td>15</td></tr><tr><td>2023-04-11</td><td>IKEA</td><td>2</td><td>15</td></tr><tr><td>2023-04-13</td><td>CTVA</td><td>1</td><td>15</td></tr><tr><td>2023-04-18</td><td>IKEA</td><td>2</td><td>15</td></tr><tr><td>2023-04-03</td><td>IKEA</td><td>2</td><td>15</td></tr><tr><td>2023-04-30</td><td>IKEA</td><td>2</td><td>16</td></tr><tr><td>2023-04-03</td><td>HONDA</td><td>2</td><td>15</td></tr><tr><td>2023-04-11</td><td>LUERSA</td><td>4</td><td>15</td></tr><tr><td>2023-04-19</td><td>FEDEX</td><td>6</td><td>15</td></tr><tr><td>2023-04-18</td><td>CTVA</td><td>1</td><td>15</td></tr><tr><td>2023-04-29</td><td>LUERSA</td><td>4</td><td>16</td></tr><tr><td>2023-04-01</td><td>FEDEX</td><td>6</td><td>15</td></tr><tr><td>2023-04-20</td><td>CTVA</td><td>1</td><td>15</td></tr><tr><td>2023-04-30</td><td>CTVA</td><td>1</td><td>16</td></tr><tr><td>2023-04-13</td><td>LUERSA</td><td>4</td><td>15</td></tr><tr><td>2023-04-05</td><td>IKEA</td><td>2</td><td>15</td></tr><tr><td>2023-04-01</td><td>IKEA</td><td>2</td><td>15</td></tr><tr><td>2023-04-22</td><td>IKEA</td><td>2</td><td>15</td></tr><tr><td>2023-04-24</td><td>HONDA</td><td>2</td><td>15</td></tr><tr><td>2023-04-01</td><td>HONDA</td><td>2</td><td>15</td></tr><tr><td>2023-04-07</td><td>IKEA</td><td>2</td><td>15</td></tr><tr><td>2023-04-19</td><td>IKEA</td><td>2</td><td>15</td></tr><tr><td>2023-04-06</td><td>CTVA</td><td>1</td><td>15</td></tr><tr><td>2023-04-26</td><td>HONDA</td><td>2</td><td>15</td></tr><tr><td>2023-04-18</td><td>FEDEX</td><td>6</td><td>15</td></tr><tr><td>2023-04-22</td><td>FEDEX</td><td>6</td><td>15</td></tr><tr><td>2023-04-08</td><td>FEDEX</td><td>6</td><td>15</td></tr><tr><td>2023-04-16</td><td>CTVA</td><td>1</td><td>15</td></tr><tr><td>2023-04-03</td><td>LUERSA</td><td>4</td><td>15</td></tr><tr><td>2023-04-16</td><td>HONDA</td><td>2</td><td>15</td></tr><tr><td>2023-04-19</td><td>CTVA</td><td>1</td><td>15</td></tr><tr><td>2023-04-04</td><td>IKEA</td><td>2</td><td>15</td></tr><tr><td>2023-04-24</td><td>CTVA</td><td>1</td><td>15</td></tr><tr><td>2023-04-16</td><td>LUERSA</td><td>4</td><td>15</td></tr><tr><td>2023-04-12</td><td>FEDEX</td><td>6</td><td>15</td></tr><tr><td>2023-04-09</td><td>LUERSA</td><td>4</td><td>15</td></tr><tr><td>2023-04-05</td><td>LUERSA</td><td>4</td><td>15</td></tr><tr><td>2023-04-20</td><td>IKEA</td><td>2</td><td>15</td></tr><tr><td>2023-04-29</td><td>CTVA</td><td>1</td><td>16</td></tr><tr><td>2023-04-03</td><td>FEDEX</td><td>6</td><td>15</td></tr><tr><td>2023-04-15</td><td>IKEA</td><td>2</td><td>15</td></tr><tr><td>2023-04-27</td><td>LUERSA</td><td>4</td><td>16</td></tr><tr><td>2023-04-07</td><td>FEDEX</td><td>6</td><td>15</td></tr><tr><td>2023-04-21</td><td>IKEA</td><td>2</td><td>15</td></tr><tr><td>2023-04-15</td><td>HONDA</td><td>2</td><td>15</td></tr><tr><td>2023-04-30</td><td>FEDEX</td><td>7</td><td>16</td></tr><tr><td>2023-04-04</td><td>HONDA</td><td>2</td><td>15</td></tr><tr><td>2023-04-28</td><td>CTVA</td><td>1</td><td>16</td></tr><tr><td>2023-04-10</td><td>IKEA</td><td>2</td><td>15</td></tr><tr><td>2023-04-19</td><td>HONDA</td><td>2</td><td>15</td></tr><tr><td>2023-04-04</td><td>LUERSA</td><td>4</td><td>15</td></tr><tr><td>2023-04-27</td><td>HONDA</td><td>2</td><td>16</td></tr><tr><td>2023-04-06</td><td>FEDEX</td><td>6</td><td>15</td></tr><tr><td>2023-04-02</td><td>HONDA</td><td>2</td><td>15</td></tr><tr><td>2023-04-05</td><td>CTVA</td><td>1</td><td>15</td></tr><tr><td>2023-04-11</td><td>CTVA</td><td>1</td><td>15</td></tr><tr><td>2023-04-30</td><td>HONDA</td><td>2</td><td>16</td></tr><tr><td>2023-04-15</td><td>CTVA</td><td>1</td><td>15</td></tr><tr><td>2023-04-23</td><td>IKEA</td><td>2</td><td>15</td></tr><tr><td>2023-04-19</td><td>LUERSA</td><td>4</td><td>15</td></tr><tr><td>2023-04-17</td><td>FEDEX</td><td>6</td><td>15</td></tr><tr><td>2023-04-07</td><td>HONDA</td><td>2</td><td>15</td></tr><tr><td>2023-04-13</td><td>HONDA</td><td>2</td><td>15</td></tr><tr><td>2023-04-16</td><td>FEDEX</td><td>6</td><td>15</td></tr><tr><td>2023-04-26</td><td>FEDEX</td><td>6</td><td>15</td></tr><tr><td>2023-04-17</td><td>CTVA</td><td>1</td><td>15</td></tr><tr><td>2023-04-17</td><td>LUERSA</td><td>4</td><td>15</td></tr><tr><td>2023-04-05</td><td>HONDA</td><td>2</td><td>15</td></tr><tr><td>2023-04-24</td><td>IKEA</td><td>2</td><td>15</td></tr><tr><td>2023-04-08</td><td>HONDA</td><td>2</td><td>15</td></tr><tr><td>2023-04-15</td><td>LUERSA</td><td>4</td><td>15</td></tr><tr><td>2023-04-23</td><td>CTVA</td><td>1</td><td>15</td></tr><tr><td>2023-04-12</td><td>HONDA</td><td>2</td><td>15</td></tr><tr><td>2023-04-06</td><td>LUERSA</td><td>4</td><td>15</td></tr><tr><td>2023-04-04</td><td>CTVA</td><td>1</td><td>15</td></tr><tr><td>2023-04-28</td><td>IKEA</td><td>2</td><td>16</td></tr><tr><td>2023-04-28</td><td>FEDEX</td><td>7</td><td>16</td></tr><tr><td>2023-04-09</td><td>CTVA</td><td>1</td><td>15</td></tr><tr><td>2023-04-27</td><td>IKEA</td><td>2</td><td>16</td></tr><tr><td>2023-04-12</td><td>IKEA</td><td>2</td><td>15</td></tr><tr><td>2023-04-14</td><td>LUERSA</td><td>4</td><td>15</td></tr><tr><td>2023-04-29</td><td>IKEA</td><td>2</td><td>16</td></tr><tr><td>2023-04-04</td><td>FEDEX</td><td>6</td><td>15</td></tr><tr><td>2023-04-17</td><td>HONDA</td><td>2</td><td>15</td></tr><tr><td>2023-04-16</td><td>IKEA</td><td>2</td><td>15</td></tr><tr><td>2023-04-12</td><td>CTVA</td><td>1</td><td>15</td></tr><tr><td>2023-04-05</td><td>FEDEX</td><td>6</td><td>15</td></tr><tr><td>2023-04-14</td><td>CTVA</td><td>1</td><td>15</td></tr><tr><td>2023-04-23</td><td>HONDA</td><td>2</td><td>15</td></tr><tr><td>2023-04-27</td><td>CTVA</td><td>1</td><td>16</td></tr><tr><td>2023-04-18</td><td>HONDA</td><td>2</td><td>15</td></tr><tr><td>2023-04-09</td><td>IKEA</td><td>2</td><td>15</td></tr><tr><td>2023-04-13</td><td>IKEA</td><td>2</td><td>15</td></tr><tr><td>2023-04-21</td><td>FEDEX</td><td>6</td><td>15</td></tr><tr><td>2023-04-29</td><td>HONDA</td><td>2</td><td>16</td></tr><tr><td>2023-04-28</td><td>LUERSA</td><td>4</td><td>16</td></tr><tr><td>2023-04-14</td><td>HONDA</td><td>2</td><td>15</td></tr><tr><td>2023-04-21</td><td>HONDA</td><td>2</td><td>15</td></tr><tr><td>2023-04-12</td><td>LUERSA</td><td>4</td><td>15</td></tr><tr><td>2023-04-18</td><td>LUERSA</td><td>4</td><td>15</td></tr><tr><td>2023-04-11</td><td>FEDEX</td><td>6</td><td>15</td></tr><tr><td>2023-04-23</td><td>FEDEX</td><td>6</td><td>15</td></tr><tr><td>2023-04-20</td><td>LUERSA</td><td>4</td><td>15</td></tr><tr><td>2023-04-10</td><td>LUERSA</td><td>4</td><td>15</td></tr><tr><td>2023-04-29</td><td>FEDEX</td><td>7</td><td>16</td></tr><tr><td>2023-04-14</td><td>FEDEX</td><td>6</td><td>15</td></tr><tr><td>2023-04-25</td><td>FEDEX</td><td>6</td><td>15</td></tr><tr><td>2023-04-02</td><td>CTVA</td><td>1</td><td>15</td></tr><tr><td>2023-04-02</td><td>LUERSA</td><td>4</td><td>15</td></tr><tr><td>2023-04-21</td><td>LUERSA</td><td>4</td><td>15</td></tr><tr><td>2023-04-02</td><td>IKEA</td><td>2</td><td>15</td></tr><tr><td>2023-04-22</td><td>HONDA</td><td>2</td><td>15</td></tr><tr><td>2023-04-08</td><td>IKEA</td><td>2</td><td>15</td></tr><tr><td>2023-04-01</td><td>CTVA</td><td>1</td><td>15</td></tr><tr><td>2023-04-06</td><td>IKEA</td><td>2</td><td>15</td></tr><tr><td>2023-04-21</td><td>CTVA</td><td>1</td><td>15</td></tr><tr><td>2023-04-25</td><td>LUERSA</td><td>4</td><td>15</td></tr><tr><td>2023-04-24</td><td>LUERSA</td><td>4</td><td>15</td></tr><tr><td>2023-04-24</td><td>FEDEX</td><td>6</td><td>15</td></tr><tr><td>2023-04-26</td><td>IKEA</td><td>2</td><td>15</td></tr><tr><td>2023-04-10</td><td>FEDEX</td><td>6</td><td>15</td></tr><tr><td>2023-04-26</td><td>CTVA</td><td>1</td><td>15</td></tr><tr><td>2023-04-17</td><td>IKEA</td><td>2</td><td>15</td></tr><tr><td>2023-04-15</td><td>FEDEX</td><td>6</td><td>15</td></tr><tr><td>2023-04-20</td><td>FEDEX</td><td>6</td><td>15</td></tr><tr><td>2023-04-08</td><td>CTVA</td><td>1</td><td>15</td></tr><tr><td>2023-04-26</td><td>LUERSA</td><td>4</td><td>15</td></tr></tbody></table></div>"
      ]
     },
     "metadata": {
      "application/vnd.databricks.v1+output": {
       "addedWidgets": {},
       "aggData": [],
       "aggError": "",
       "aggOverflow": false,
       "aggSchema": [],
       "aggSeriesLimitReached": false,
       "aggType": "",
       "arguments": {},
       "columnCustomDisplayInfos": {},
       "data": [
        [
         "2023-04-11",
         "HONDA",
         2,
         15
        ],
        [
         "2023-04-22",
         "CTVA",
         1,
         15
        ],
        [
         "2023-04-25",
         "IKEA",
         2,
         15
        ],
        [
         "2023-04-07",
         "CTVA",
         1,
         15
        ],
        [
         "2023-04-08",
         "LUERSA",
         4,
         15
        ],
        [
         "2023-04-09",
         "HONDA",
         2,
         15
        ],
        [
         "2023-04-06",
         "HONDA",
         2,
         15
        ],
        [
         "2023-04-20",
         "HONDA",
         2,
         15
        ],
        [
         "2023-04-23",
         "LUERSA",
         4,
         15
        ],
        [
         "2023-04-27",
         "FEDEX",
         7,
         16
        ],
        [
         "2023-04-02",
         "FEDEX",
         6,
         15
        ],
        [
         "2023-04-25",
         "HONDA",
         2,
         15
        ],
        [
         "2023-04-03",
         "CTVA",
         1,
         15
        ],
        [
         "2023-04-01",
         "LUERSA",
         4,
         15
        ],
        [
         "2023-04-28",
         "HONDA",
         2,
         16
        ],
        [
         "2023-04-10",
         "HONDA",
         2,
         15
        ],
        [
         "2023-04-25",
         "CTVA",
         1,
         15
        ],
        [
         "2023-04-10",
         "CTVA",
         1,
         15
        ],
        [
         "2023-04-09",
         "FEDEX",
         6,
         15
        ],
        [
         "2023-04-14",
         "IKEA",
         2,
         15
        ],
        [
         "2023-04-22",
         "LUERSA",
         4,
         15
        ],
        [
         "2023-04-30",
         "LUERSA",
         4,
         16
        ],
        [
         "2023-04-07",
         "LUERSA",
         4,
         15
        ],
        [
         "2023-04-13",
         "FEDEX",
         6,
         15
        ],
        [
         "2023-04-11",
         "IKEA",
         2,
         15
        ],
        [
         "2023-04-13",
         "CTVA",
         1,
         15
        ],
        [
         "2023-04-18",
         "IKEA",
         2,
         15
        ],
        [
         "2023-04-03",
         "IKEA",
         2,
         15
        ],
        [
         "2023-04-30",
         "IKEA",
         2,
         16
        ],
        [
         "2023-04-03",
         "HONDA",
         2,
         15
        ],
        [
         "2023-04-11",
         "LUERSA",
         4,
         15
        ],
        [
         "2023-04-19",
         "FEDEX",
         6,
         15
        ],
        [
         "2023-04-18",
         "CTVA",
         1,
         15
        ],
        [
         "2023-04-29",
         "LUERSA",
         4,
         16
        ],
        [
         "2023-04-01",
         "FEDEX",
         6,
         15
        ],
        [
         "2023-04-20",
         "CTVA",
         1,
         15
        ],
        [
         "2023-04-30",
         "CTVA",
         1,
         16
        ],
        [
         "2023-04-13",
         "LUERSA",
         4,
         15
        ],
        [
         "2023-04-05",
         "IKEA",
         2,
         15
        ],
        [
         "2023-04-01",
         "IKEA",
         2,
         15
        ],
        [
         "2023-04-22",
         "IKEA",
         2,
         15
        ],
        [
         "2023-04-24",
         "HONDA",
         2,
         15
        ],
        [
         "2023-04-01",
         "HONDA",
         2,
         15
        ],
        [
         "2023-04-07",
         "IKEA",
         2,
         15
        ],
        [
         "2023-04-19",
         "IKEA",
         2,
         15
        ],
        [
         "2023-04-06",
         "CTVA",
         1,
         15
        ],
        [
         "2023-04-26",
         "HONDA",
         2,
         15
        ],
        [
         "2023-04-18",
         "FEDEX",
         6,
         15
        ],
        [
         "2023-04-22",
         "FEDEX",
         6,
         15
        ],
        [
         "2023-04-08",
         "FEDEX",
         6,
         15
        ],
        [
         "2023-04-16",
         "CTVA",
         1,
         15
        ],
        [
         "2023-04-03",
         "LUERSA",
         4,
         15
        ],
        [
         "2023-04-16",
         "HONDA",
         2,
         15
        ],
        [
         "2023-04-19",
         "CTVA",
         1,
         15
        ],
        [
         "2023-04-04",
         "IKEA",
         2,
         15
        ],
        [
         "2023-04-24",
         "CTVA",
         1,
         15
        ],
        [
         "2023-04-16",
         "LUERSA",
         4,
         15
        ],
        [
         "2023-04-12",
         "FEDEX",
         6,
         15
        ],
        [
         "2023-04-09",
         "LUERSA",
         4,
         15
        ],
        [
         "2023-04-05",
         "LUERSA",
         4,
         15
        ],
        [
         "2023-04-20",
         "IKEA",
         2,
         15
        ],
        [
         "2023-04-29",
         "CTVA",
         1,
         16
        ],
        [
         "2023-04-03",
         "FEDEX",
         6,
         15
        ],
        [
         "2023-04-15",
         "IKEA",
         2,
         15
        ],
        [
         "2023-04-27",
         "LUERSA",
         4,
         16
        ],
        [
         "2023-04-07",
         "FEDEX",
         6,
         15
        ],
        [
         "2023-04-21",
         "IKEA",
         2,
         15
        ],
        [
         "2023-04-15",
         "HONDA",
         2,
         15
        ],
        [
         "2023-04-30",
         "FEDEX",
         7,
         16
        ],
        [
         "2023-04-04",
         "HONDA",
         2,
         15
        ],
        [
         "2023-04-28",
         "CTVA",
         1,
         16
        ],
        [
         "2023-04-10",
         "IKEA",
         2,
         15
        ],
        [
         "2023-04-19",
         "HONDA",
         2,
         15
        ],
        [
         "2023-04-04",
         "LUERSA",
         4,
         15
        ],
        [
         "2023-04-27",
         "HONDA",
         2,
         16
        ],
        [
         "2023-04-06",
         "FEDEX",
         6,
         15
        ],
        [
         "2023-04-02",
         "HONDA",
         2,
         15
        ],
        [
         "2023-04-05",
         "CTVA",
         1,
         15
        ],
        [
         "2023-04-11",
         "CTVA",
         1,
         15
        ],
        [
         "2023-04-30",
         "HONDA",
         2,
         16
        ],
        [
         "2023-04-15",
         "CTVA",
         1,
         15
        ],
        [
         "2023-04-23",
         "IKEA",
         2,
         15
        ],
        [
         "2023-04-19",
         "LUERSA",
         4,
         15
        ],
        [
         "2023-04-17",
         "FEDEX",
         6,
         15
        ],
        [
         "2023-04-07",
         "HONDA",
         2,
         15
        ],
        [
         "2023-04-13",
         "HONDA",
         2,
         15
        ],
        [
         "2023-04-16",
         "FEDEX",
         6,
         15
        ],
        [
         "2023-04-26",
         "FEDEX",
         6,
         15
        ],
        [
         "2023-04-17",
         "CTVA",
         1,
         15
        ],
        [
         "2023-04-17",
         "LUERSA",
         4,
         15
        ],
        [
         "2023-04-05",
         "HONDA",
         2,
         15
        ],
        [
         "2023-04-24",
         "IKEA",
         2,
         15
        ],
        [
         "2023-04-08",
         "HONDA",
         2,
         15
        ],
        [
         "2023-04-15",
         "LUERSA",
         4,
         15
        ],
        [
         "2023-04-23",
         "CTVA",
         1,
         15
        ],
        [
         "2023-04-12",
         "HONDA",
         2,
         15
        ],
        [
         "2023-04-06",
         "LUERSA",
         4,
         15
        ],
        [
         "2023-04-04",
         "CTVA",
         1,
         15
        ],
        [
         "2023-04-28",
         "IKEA",
         2,
         16
        ],
        [
         "2023-04-28",
         "FEDEX",
         7,
         16
        ],
        [
         "2023-04-09",
         "CTVA",
         1,
         15
        ],
        [
         "2023-04-27",
         "IKEA",
         2,
         16
        ],
        [
         "2023-04-12",
         "IKEA",
         2,
         15
        ],
        [
         "2023-04-14",
         "LUERSA",
         4,
         15
        ],
        [
         "2023-04-29",
         "IKEA",
         2,
         16
        ],
        [
         "2023-04-04",
         "FEDEX",
         6,
         15
        ],
        [
         "2023-04-17",
         "HONDA",
         2,
         15
        ],
        [
         "2023-04-16",
         "IKEA",
         2,
         15
        ],
        [
         "2023-04-12",
         "CTVA",
         1,
         15
        ],
        [
         "2023-04-05",
         "FEDEX",
         6,
         15
        ],
        [
         "2023-04-14",
         "CTVA",
         1,
         15
        ],
        [
         "2023-04-23",
         "HONDA",
         2,
         15
        ],
        [
         "2023-04-27",
         "CTVA",
         1,
         16
        ],
        [
         "2023-04-18",
         "HONDA",
         2,
         15
        ],
        [
         "2023-04-09",
         "IKEA",
         2,
         15
        ],
        [
         "2023-04-13",
         "IKEA",
         2,
         15
        ],
        [
         "2023-04-21",
         "FEDEX",
         6,
         15
        ],
        [
         "2023-04-29",
         "HONDA",
         2,
         16
        ],
        [
         "2023-04-28",
         "LUERSA",
         4,
         16
        ],
        [
         "2023-04-14",
         "HONDA",
         2,
         15
        ],
        [
         "2023-04-21",
         "HONDA",
         2,
         15
        ],
        [
         "2023-04-12",
         "LUERSA",
         4,
         15
        ],
        [
         "2023-04-18",
         "LUERSA",
         4,
         15
        ],
        [
         "2023-04-11",
         "FEDEX",
         6,
         15
        ],
        [
         "2023-04-23",
         "FEDEX",
         6,
         15
        ],
        [
         "2023-04-20",
         "LUERSA",
         4,
         15
        ],
        [
         "2023-04-10",
         "LUERSA",
         4,
         15
        ],
        [
         "2023-04-29",
         "FEDEX",
         7,
         16
        ],
        [
         "2023-04-14",
         "FEDEX",
         6,
         15
        ],
        [
         "2023-04-25",
         "FEDEX",
         6,
         15
        ],
        [
         "2023-04-02",
         "CTVA",
         1,
         15
        ],
        [
         "2023-04-02",
         "LUERSA",
         4,
         15
        ],
        [
         "2023-04-21",
         "LUERSA",
         4,
         15
        ],
        [
         "2023-04-02",
         "IKEA",
         2,
         15
        ],
        [
         "2023-04-22",
         "HONDA",
         2,
         15
        ],
        [
         "2023-04-08",
         "IKEA",
         2,
         15
        ],
        [
         "2023-04-01",
         "CTVA",
         1,
         15
        ],
        [
         "2023-04-06",
         "IKEA",
         2,
         15
        ],
        [
         "2023-04-21",
         "CTVA",
         1,
         15
        ],
        [
         "2023-04-25",
         "LUERSA",
         4,
         15
        ],
        [
         "2023-04-24",
         "LUERSA",
         4,
         15
        ],
        [
         "2023-04-24",
         "FEDEX",
         6,
         15
        ],
        [
         "2023-04-26",
         "IKEA",
         2,
         15
        ],
        [
         "2023-04-10",
         "FEDEX",
         6,
         15
        ],
        [
         "2023-04-26",
         "CTVA",
         1,
         15
        ],
        [
         "2023-04-17",
         "IKEA",
         2,
         15
        ],
        [
         "2023-04-15",
         "FEDEX",
         6,
         15
        ],
        [
         "2023-04-20",
         "FEDEX",
         6,
         15
        ],
        [
         "2023-04-08",
         "CTVA",
         1,
         15
        ],
        [
         "2023-04-26",
         "LUERSA",
         4,
         15
        ]
       ],
       "datasetInfos": [],
       "dbfsResultPath": null,
       "isJsonSchema": true,
       "metadata": {},
       "overflow": false,
       "plotOptions": {
        "customPlotOptions": {},
        "displayType": "table",
        "pivotAggregation": null,
        "pivotColumns": null,
        "xColumns": null,
        "yColumns": null
       },
       "removedWidgets": [],
       "schema": [
        {
         "metadata": "{}",
         "name": "date",
         "type": "\"string\""
        },
        {
         "metadata": "{}",
         "name": "tenant_parent_code_v2",
         "type": "\"string\""
        },
        {
         "metadata": "{}",
         "name": "deployed_sites",
         "type": "\"long\""
        },
        {
         "metadata": "{}",
         "name": "total_sites_vt1",
         "type": "\"long\""
        }
       ],
       "type": "table"
      }
     },
     "output_type": "display_data"
    }
   ],
   "source": [
    "display(df_agg_sites_s)"
   ]
  },
  {
   "cell_type": "code",
   "execution_count": 0,
   "metadata": {
    "application/vnd.databricks.v1+cell": {
     "cellMetadata": {
      "byteLimit": 2048000,
      "rowLimit": 10000
     },
     "inputWidgets": {},
     "nuid": "e756b86f-4407-4a9a-bccb-ebb52fb904aa",
     "showTitle": false,
     "title": ""
    }
   },
   "outputs": [
    {
     "output_type": "display_data",
     "data": {
      "text/html": [
       "<style scoped>\n",
       "  .ansiout {\n",
       "    display: block;\n",
       "    unicode-bidi: embed;\n",
       "    white-space: pre-wrap;\n",
       "    word-wrap: break-word;\n",
       "    word-break: break-all;\n",
       "    font-family: \"Source Code Pro\", \"Menlo\", monospace;;\n",
       "    font-size: 13px;\n",
       "    color: #555;\n",
       "    margin-left: 4px;\n",
       "    line-height: 19px;\n",
       "  }\n",
       "</style>\n",
       "<div class=\"ansiout\"></div>"
      ]
     },
     "metadata": {
      "application/vnd.databricks.v1+output": {
       "addedWidgets": {},
       "arguments": {},
       "data": "<div class=\"ansiout\"></div>",
       "datasetInfos": [],
       "metadata": {},
       "removedWidgets": [],
       "type": "html"
      }
     },
     "output_type": "display_data"
    }
   ],
   "source": [
    "df_full_1 = df_agg_total_s.join(df_agg_sites_s,(df_agg_total_s.date_LA == df_agg_sites_s.date)&(df_agg_total_s.tenant_cmp == df_agg_sites_s.tenant_parent_code_v2),\"full\")"
   ]
  },
  {
   "cell_type": "code",
   "execution_count": 0,
   "metadata": {
    "application/vnd.databricks.v1+cell": {
     "cellMetadata": {
      "byteLimit": 2048000,
      "rowLimit": 10000
     },
     "inputWidgets": {},
     "nuid": "4c49d4f5-3aea-4b14-9e72-7b73e75638c2",
     "showTitle": false,
     "title": ""
    }
   },
   "outputs": [
    {
     "output_type": "display_data",
     "data": {
      "text/html": [
       "<style scoped>\n",
       "  .table-result-container {\n",
       "    max-height: 300px;\n",
       "    overflow: auto;\n",
       "  }\n",
       "  table, th, td {\n",
       "    border: 1px solid black;\n",
       "    border-collapse: collapse;\n",
       "  }\n",
       "  th, td {\n",
       "    padding: 5px;\n",
       "  }\n",
       "  th {\n",
       "    text-align: left;\n",
       "  }\n",
       "</style><div class='table-result-container'><table class='table-result'><thead style='background-color: white'><tr><th>sum(storage_costs_ad)</th><th>sum(compute_costs_ad)</th></tr></thead><tbody><tr><td>545.4152710000001</td><td>1939.8763890000007</td></tr></tbody></table></div>"
      ]
     },
     "metadata": {
      "application/vnd.databricks.v1+output": {
       "addedWidgets": {},
       "aggData": [],
       "aggError": "",
       "aggOverflow": false,
       "aggSchema": [],
       "aggSeriesLimitReached": false,
       "aggType": "",
       "arguments": {},
       "columnCustomDisplayInfos": {},
       "data": [
        [
         545.4152710000001,
         1939.8763890000007
        ]
       ],
       "datasetInfos": [],
       "dbfsResultPath": null,
       "isJsonSchema": true,
       "metadata": {},
       "overflow": false,
       "plotOptions": {
        "customPlotOptions": {},
        "displayType": "table",
        "pivotAggregation": null,
        "pivotColumns": null,
        "xColumns": null,
        "yColumns": null
       },
       "removedWidgets": [],
       "schema": [
        {
         "metadata": "{}",
         "name": "sum(storage_costs_ad)",
         "type": "\"double\""
        },
        {
         "metadata": "{}",
         "name": "sum(compute_costs_ad)",
         "type": "\"double\""
        }
       ],
       "type": "table"
      }
     },
     "output_type": "display_data"
    }
   ],
   "source": [
    "display(df_agg_total_s[(df_agg_total_s['date_LA'].startswith('2023-04'))].agg(sum('storage_costs_ad'),sum('compute_costs_ad')))"
   ]
  },
  {
   "cell_type": "code",
   "execution_count": 0,
   "metadata": {
    "application/vnd.databricks.v1+cell": {
     "cellMetadata": {
      "byteLimit": 2048000,
      "rowLimit": 10000
     },
     "inputWidgets": {},
     "nuid": "ba692004-4ba6-4bbf-9eb1-ced0ab54d9d0",
     "showTitle": false,
     "title": ""
    }
   },
   "outputs": [
    {
     "output_type": "display_data",
     "data": {
      "text/html": [
       "<style scoped>\n",
       "  .ansiout {\n",
       "    display: block;\n",
       "    unicode-bidi: embed;\n",
       "    white-space: pre-wrap;\n",
       "    word-wrap: break-word;\n",
       "    word-break: break-all;\n",
       "    font-family: \"Source Code Pro\", \"Menlo\", monospace;;\n",
       "    font-size: 13px;\n",
       "    color: #555;\n",
       "    margin-left: 4px;\n",
       "    line-height: 19px;\n",
       "  }\n",
       "</style>\n",
       "<div class=\"ansiout\"></div>"
      ]
     },
     "metadata": {
      "application/vnd.databricks.v1+output": {
       "addedWidgets": {},
       "arguments": {},
       "data": "<div class=\"ansiout\"></div>",
       "datasetInfos": [],
       "metadata": {},
       "removedWidgets": [],
       "type": "html"
      }
     },
     "output_type": "display_data"
    }
   ],
   "source": [
    "df_full_1 = df_full_1.withColumn('total_costs_ad',df_full_1['compute_costs_ad']+df_full_1['storage_costs_ad'])"
   ]
  },
  {
   "cell_type": "code",
   "execution_count": 0,
   "metadata": {
    "application/vnd.databricks.v1+cell": {
     "cellMetadata": {
      "byteLimit": 2048000,
      "rowLimit": 10000
     },
     "inputWidgets": {},
     "nuid": "75da6e8c-2a67-405f-8538-559131e7dc24",
     "showTitle": false,
     "title": ""
    }
   },
   "outputs": [
    {
     "output_type": "display_data",
     "data": {
      "text/html": [
       "<style scoped>\n",
       "  .ansiout {\n",
       "    display: block;\n",
       "    unicode-bidi: embed;\n",
       "    white-space: pre-wrap;\n",
       "    word-wrap: break-word;\n",
       "    word-break: break-all;\n",
       "    font-family: \"Source Code Pro\", \"Menlo\", monospace;;\n",
       "    font-size: 13px;\n",
       "    color: #555;\n",
       "    margin-left: 4px;\n",
       "    line-height: 19px;\n",
       "  }\n",
       "</style>\n",
       "<div class=\"ansiout\"></div>"
      ]
     },
     "metadata": {
      "application/vnd.databricks.v1+output": {
       "addedWidgets": {},
       "arguments": {},
       "data": "<div class=\"ansiout\"></div>",
       "datasetInfos": [],
       "metadata": {},
       "removedWidgets": [],
       "type": "html"
      }
     },
     "output_type": "display_data"
    }
   ],
   "source": [
    "df_full_1 = df_full_1.withColumn('date_LA_2', df_full_1['date_LA'])"
   ]
  },
  {
   "cell_type": "code",
   "execution_count": 0,
   "metadata": {
    "application/vnd.databricks.v1+cell": {
     "cellMetadata": {
      "byteLimit": 2048000,
      "rowLimit": 10000
     },
     "inputWidgets": {},
     "nuid": "d65b0e17-45f5-46b8-8287-ae9a9c024f0f",
     "showTitle": false,
     "title": ""
    }
   },
   "outputs": [
    {
     "output_type": "display_data",
     "data": {
      "text/html": [
       "<style scoped>\n",
       "  .ansiout {\n",
       "    display: block;\n",
       "    unicode-bidi: embed;\n",
       "    white-space: pre-wrap;\n",
       "    word-wrap: break-word;\n",
       "    word-break: break-all;\n",
       "    font-family: \"Source Code Pro\", \"Menlo\", monospace;;\n",
       "    font-size: 13px;\n",
       "    color: #555;\n",
       "    margin-left: 4px;\n",
       "    line-height: 19px;\n",
       "  }\n",
       "</style>\n",
       "<div class=\"ansiout\"></div>"
      ]
     },
     "metadata": {
      "application/vnd.databricks.v1+output": {
       "addedWidgets": {},
       "arguments": {},
       "data": "<div class=\"ansiout\"></div>",
       "datasetInfos": [],
       "metadata": {},
       "removedWidgets": [],
       "type": "html"
      }
     },
     "output_type": "display_data"
    }
   ],
   "source": [
    "df_full_1 = df_full_1[df_full_1['date_LA_2'].startswith('2023-04')]"
   ]
  },
  {
   "cell_type": "code",
   "execution_count": 0,
   "metadata": {
    "application/vnd.databricks.v1+cell": {
     "cellMetadata": {
      "byteLimit": 2048000,
      "rowLimit": 10000
     },
     "inputWidgets": {},
     "nuid": "2b3d013e-cad4-4185-826a-3dec251e9b90",
     "showTitle": false,
     "title": ""
    }
   },
   "outputs": [
    {
     "output_type": "display_data",
     "data": {
      "text/html": [
       "<style scoped>\n",
       "  .table-result-container {\n",
       "    max-height: 300px;\n",
       "    overflow: auto;\n",
       "  }\n",
       "  table, th, td {\n",
       "    border: 1px solid black;\n",
       "    border-collapse: collapse;\n",
       "  }\n",
       "  th, td {\n",
       "    padding: 5px;\n",
       "  }\n",
       "  th {\n",
       "    text-align: left;\n",
       "  }\n",
       "</style><div class='table-result-container'><table class='table-result'><thead style='background-color: white'><tr><th>sum(total_costs_ad)</th><th>sum(storage_costs_ad)</th><th>sum(compute_costs_ad)</th></tr></thead><tbody><tr><td>2485.2916600000026</td><td>545.4152709999998</td><td>1939.8763890000007</td></tr></tbody></table></div>"
      ]
     },
     "metadata": {
      "application/vnd.databricks.v1+output": {
       "addedWidgets": {},
       "aggData": [],
       "aggError": "",
       "aggOverflow": false,
       "aggSchema": [],
       "aggSeriesLimitReached": false,
       "aggType": "",
       "arguments": {},
       "columnCustomDisplayInfos": {},
       "data": [
        [
         2485.2916600000026,
         545.4152709999998,
         1939.8763890000007
        ]
       ],
       "datasetInfos": [],
       "dbfsResultPath": null,
       "isJsonSchema": true,
       "metadata": {},
       "overflow": false,
       "plotOptions": {
        "customPlotOptions": {},
        "displayType": "table",
        "pivotAggregation": null,
        "pivotColumns": null,
        "xColumns": null,
        "yColumns": null
       },
       "removedWidgets": [],
       "schema": [
        {
         "metadata": "{}",
         "name": "sum(total_costs_ad)",
         "type": "\"double\""
        },
        {
         "metadata": "{}",
         "name": "sum(storage_costs_ad)",
         "type": "\"double\""
        },
        {
         "metadata": "{}",
         "name": "sum(compute_costs_ad)",
         "type": "\"double\""
        }
       ],
       "type": "table"
      }
     },
     "output_type": "display_data"
    }
   ],
   "source": [
    "display(df_full_1.agg(sum('total_costs_ad'),sum('storage_costs_ad'),sum('compute_costs_ad')))"
   ]
  },
  {
   "cell_type": "code",
   "execution_count": 0,
   "metadata": {
    "application/vnd.databricks.v1+cell": {
     "cellMetadata": {
      "byteLimit": 2048000,
      "rowLimit": 10000
     },
     "inputWidgets": {},
     "nuid": "45203a86-665c-4f2a-91de-01e5677bf1cb",
     "showTitle": false,
     "title": ""
    }
   },
   "outputs": [
    {
     "output_type": "display_data",
     "data": {
      "text/html": [
       "<style scoped>\n",
       "  .ansiout {\n",
       "    display: block;\n",
       "    unicode-bidi: embed;\n",
       "    white-space: pre-wrap;\n",
       "    word-wrap: break-word;\n",
       "    word-break: break-all;\n",
       "    font-family: \"Source Code Pro\", \"Menlo\", monospace;;\n",
       "    font-size: 13px;\n",
       "    color: #555;\n",
       "    margin-left: 4px;\n",
       "    line-height: 19px;\n",
       "  }\n",
       "</style>\n",
       "<div class=\"ansiout\"></div>"
      ]
     },
     "metadata": {
      "application/vnd.databricks.v1+output": {
       "addedWidgets": {},
       "arguments": {},
       "data": "<div class=\"ansiout\"></div>",
       "datasetInfos": [],
       "metadata": {},
       "removedWidgets": [],
       "type": "html"
      }
     },
     "output_type": "display_data"
    }
   ],
   "source": [
    "df_full_1 = df_full_1.toPandas()"
   ]
  },
  {
   "cell_type": "code",
   "execution_count": 0,
   "metadata": {
    "application/vnd.databricks.v1+cell": {
     "cellMetadata": {
      "byteLimit": 2048000,
      "rowLimit": 10000
     },
     "inputWidgets": {},
     "nuid": "f91ffed3-560b-4507-8413-c416821000ae",
     "showTitle": false,
     "title": ""
    }
   },
   "outputs": [
    {
     "output_type": "display_data",
     "data": {
      "text/html": [
       "<style scoped>\n",
       "  .ansiout {\n",
       "    display: block;\n",
       "    unicode-bidi: embed;\n",
       "    white-space: pre-wrap;\n",
       "    word-wrap: break-word;\n",
       "    word-break: break-all;\n",
       "    font-family: \"Source Code Pro\", \"Menlo\", monospace;;\n",
       "    font-size: 13px;\n",
       "    color: #555;\n",
       "    margin-left: 4px;\n",
       "    line-height: 19px;\n",
       "  }\n",
       "</style>\n",
       "<div class=\"ansiout\">Out[192]: </div>"
      ]
     },
     "metadata": {
      "application/vnd.databricks.v1+output": {
       "addedWidgets": {},
       "arguments": {},
       "data": "<div class=\"ansiout\">Out[192]: </div>",
       "datasetInfos": [],
       "metadata": {},
       "removedWidgets": [],
       "type": "html"
      }
     },
     "output_type": "display_data"
    },
    {
     "output_type": "display_data",
     "data": {
      "text/html": [
       "<div>\n",
       "<style scoped>\n",
       "    .dataframe tbody tr th:only-of-type {\n",
       "        vertical-align: middle;\n",
       "    }\n",
       "\n",
       "    .dataframe tbody tr th {\n",
       "        vertical-align: top;\n",
       "    }\n",
       "\n",
       "    .dataframe thead th {\n",
       "        text-align: right;\n",
       "    }\n",
       "</style>\n",
       "<table border=\"1\" class=\"dataframe\">\n",
       "  <thead>\n",
       "    <tr style=\"text-align: right;\">\n",
       "      <th></th>\n",
       "      <th>date_LA</th>\n",
       "      <th>tenant_cmp</th>\n",
       "      <th>compute_costs_ad</th>\n",
       "      <th>storage_costs_ad</th>\n",
       "      <th>date</th>\n",
       "      <th>tenant_parent_code_v2</th>\n",
       "      <th>deployed_sites</th>\n",
       "      <th>total_sites_vt1</th>\n",
       "      <th>total_costs_ad</th>\n",
       "      <th>date_LA_2</th>\n",
       "    </tr>\n",
       "  </thead>\n",
       "  <tbody>\n",
       "    <tr>\n",
       "      <th>0</th>\n",
       "      <td>2023-04-01</td>\n",
       "      <td>CTVA</td>\n",
       "      <td>10.914147</td>\n",
       "      <td>0.448236</td>\n",
       "      <td>2023-04-01</td>\n",
       "      <td>CTVA</td>\n",
       "      <td>1.0</td>\n",
       "      <td>15.0</td>\n",
       "      <td>11.362383</td>\n",
       "      <td>2023-04-01</td>\n",
       "    </tr>\n",
       "    <tr>\n",
       "      <th>1</th>\n",
       "      <td>2023-04-01</td>\n",
       "      <td>FALA</td>\n",
       "      <td>0.000000</td>\n",
       "      <td>0.000000</td>\n",
       "      <td>None</td>\n",
       "      <td>None</td>\n",
       "      <td>NaN</td>\n",
       "      <td>NaN</td>\n",
       "      <td>0.000000</td>\n",
       "      <td>2023-04-01</td>\n",
       "    </tr>\n",
       "    <tr>\n",
       "      <th>2</th>\n",
       "      <td>2023-04-01</td>\n",
       "      <td>FEDEX</td>\n",
       "      <td>49.497905</td>\n",
       "      <td>10.890770</td>\n",
       "      <td>2023-04-01</td>\n",
       "      <td>FEDEX</td>\n",
       "      <td>6.0</td>\n",
       "      <td>15.0</td>\n",
       "      <td>60.388676</td>\n",
       "      <td>2023-04-01</td>\n",
       "    </tr>\n",
       "    <tr>\n",
       "      <th>3</th>\n",
       "      <td>2023-04-01</td>\n",
       "      <td>HONDA</td>\n",
       "      <td>9.844077</td>\n",
       "      <td>5.134568</td>\n",
       "      <td>2023-04-01</td>\n",
       "      <td>HONDA</td>\n",
       "      <td>2.0</td>\n",
       "      <td>15.0</td>\n",
       "      <td>14.978645</td>\n",
       "      <td>2023-04-01</td>\n",
       "    </tr>\n",
       "    <tr>\n",
       "      <th>4</th>\n",
       "      <td>2023-04-01</td>\n",
       "      <td>IKEA</td>\n",
       "      <td>4.067523</td>\n",
       "      <td>0.912935</td>\n",
       "      <td>2023-04-01</td>\n",
       "      <td>IKEA</td>\n",
       "      <td>2.0</td>\n",
       "      <td>15.0</td>\n",
       "      <td>4.980458</td>\n",
       "      <td>2023-04-01</td>\n",
       "    </tr>\n",
       "  </tbody>\n",
       "</table>\n",
       "</div>"
      ]
     },
     "metadata": {
      "application/vnd.databricks.v1+output": {
       "addedWidgets": {},
       "arguments": {},
       "data": "<div>\n<style scoped>\n    .dataframe tbody tr th:only-of-type {\n        vertical-align: middle;\n    }\n\n    .dataframe tbody tr th {\n        vertical-align: top;\n    }\n\n    .dataframe thead th {\n        text-align: right;\n    }\n</style>\n<table border=\"1\" class=\"dataframe\">\n  <thead>\n    <tr style=\"text-align: right;\">\n      <th></th>\n      <th>date_LA</th>\n      <th>tenant_cmp</th>\n      <th>compute_costs_ad</th>\n      <th>storage_costs_ad</th>\n      <th>date</th>\n      <th>tenant_parent_code_v2</th>\n      <th>deployed_sites</th>\n      <th>total_sites_vt1</th>\n      <th>total_costs_ad</th>\n      <th>date_LA_2</th>\n    </tr>\n  </thead>\n  <tbody>\n    <tr>\n      <th>0</th>\n      <td>2023-04-01</td>\n      <td>CTVA</td>\n      <td>10.914147</td>\n      <td>0.448236</td>\n      <td>2023-04-01</td>\n      <td>CTVA</td>\n      <td>1.0</td>\n      <td>15.0</td>\n      <td>11.362383</td>\n      <td>2023-04-01</td>\n    </tr>\n    <tr>\n      <th>1</th>\n      <td>2023-04-01</td>\n      <td>FALA</td>\n      <td>0.000000</td>\n      <td>0.000000</td>\n      <td>None</td>\n      <td>None</td>\n      <td>NaN</td>\n      <td>NaN</td>\n      <td>0.000000</td>\n      <td>2023-04-01</td>\n    </tr>\n    <tr>\n      <th>2</th>\n      <td>2023-04-01</td>\n      <td>FEDEX</td>\n      <td>49.497905</td>\n      <td>10.890770</td>\n      <td>2023-04-01</td>\n      <td>FEDEX</td>\n      <td>6.0</td>\n      <td>15.0</td>\n      <td>60.388676</td>\n      <td>2023-04-01</td>\n    </tr>\n    <tr>\n      <th>3</th>\n      <td>2023-04-01</td>\n      <td>HONDA</td>\n      <td>9.844077</td>\n      <td>5.134568</td>\n      <td>2023-04-01</td>\n      <td>HONDA</td>\n      <td>2.0</td>\n      <td>15.0</td>\n      <td>14.978645</td>\n      <td>2023-04-01</td>\n    </tr>\n    <tr>\n      <th>4</th>\n      <td>2023-04-01</td>\n      <td>IKEA</td>\n      <td>4.067523</td>\n      <td>0.912935</td>\n      <td>2023-04-01</td>\n      <td>IKEA</td>\n      <td>2.0</td>\n      <td>15.0</td>\n      <td>4.980458</td>\n      <td>2023-04-01</td>\n    </tr>\n  </tbody>\n</table>\n</div>",
       "datasetInfos": [],
       "metadata": {},
       "removedWidgets": [],
       "textData": null,
       "type": "htmlSandbox"
      }
     },
     "output_type": "display_data"
    }
   ],
   "source": [
    "df_full_1.head()"
   ]
  },
  {
   "cell_type": "code",
   "execution_count": 0,
   "metadata": {
    "application/vnd.databricks.v1+cell": {
     "cellMetadata": {
      "byteLimit": 2048000,
      "rowLimit": 10000
     },
     "inputWidgets": {},
     "nuid": "c2e5e645-f94e-4c66-8550-12fceff9fba9",
     "showTitle": false,
     "title": ""
    }
   },
   "outputs": [
    {
     "output_type": "display_data",
     "data": {
      "text/html": [
       "<style scoped>\n",
       "  .ansiout {\n",
       "    display: block;\n",
       "    unicode-bidi: embed;\n",
       "    white-space: pre-wrap;\n",
       "    word-wrap: break-word;\n",
       "    word-break: break-all;\n",
       "    font-family: \"Source Code Pro\", \"Menlo\", monospace;;\n",
       "    font-size: 13px;\n",
       "    color: #555;\n",
       "    margin-left: 4px;\n",
       "    line-height: 19px;\n",
       "  }\n",
       "</style>\n",
       "<div class=\"ansiout\"></div>"
      ]
     },
     "metadata": {
      "application/vnd.databricks.v1+output": {
       "addedWidgets": {},
       "arguments": {},
       "data": "<div class=\"ansiout\"></div>",
       "datasetInfos": [],
       "metadata": {},
       "removedWidgets": [],
       "type": "html"
      }
     },
     "output_type": "display_data"
    }
   ],
   "source": [
    "table = \"saas-analytics-io.processed.vt1_cost_per_site\"\n",
    "df_full_1.to_gbq(table,  if_exists='append', table_schema = [\n",
    "{'name':'date_LA', 'type':'STRING'},\n",
    "{'name':'tenant_cmp', 'type':'STRING'},\n",
    "{'name':'storage_costs_ad', 'type':'FLOAT'},\n",
    "{'name':'compute_costs_ad', 'type':'FLOAT'},\n",
    "{'name':'date', 'type':'STRING'},\n",
    "{'name':'tenant_parent_code_v2', 'type':'STRING'},\n",
    "{'name':'deployed_sites', 'type':'FLOAT'},\n",
    "{'name':'total_sites_vt1', 'type':'FLOAT'},\n",
    "{'name':'total_costs_ad', 'type':'FLOAT'},\n",
    "{'name':'date_LA_2', 'type':'STRING'},\n",
    "])"
   ]
  },
  {
   "cell_type": "code",
   "execution_count": 0,
   "metadata": {
    "application/vnd.databricks.v1+cell": {
     "cellMetadata": {},
     "inputWidgets": {},
     "nuid": "5219effe-3b08-4920-8098-98e77495d317",
     "showTitle": false,
     "title": ""
    }
   },
   "outputs": [],
   "source": []
  },
  {
   "cell_type": "code",
   "execution_count": 0,
   "metadata": {
    "application/vnd.databricks.v1+cell": {
     "cellMetadata": {},
     "inputWidgets": {},
     "nuid": "45aeb9e4-935a-4c5b-be0a-62d674a6323c",
     "showTitle": false,
     "title": ""
    }
   },
   "outputs": [],
   "source": []
  },
  {
   "cell_type": "code",
   "execution_count": 0,
   "metadata": {
    "application/vnd.databricks.v1+cell": {
     "cellMetadata": {},
     "inputWidgets": {},
     "nuid": "6d81747e-0824-465d-92d2-b354afb8e329",
     "showTitle": false,
     "title": ""
    }
   },
   "outputs": [],
   "source": []
  }
 ],
 "metadata": {
  "application/vnd.databricks.v1+notebook": {
   "dashboards": [],
   "language": "python",
   "notebookMetadata": {
    "pythonIndentUnit": 2
   },
   "notebookName": "VT1_Cost_per_site",
   "widgets": {}
  }
 },
 "nbformat": 4,
 "nbformat_minor": 0
}
