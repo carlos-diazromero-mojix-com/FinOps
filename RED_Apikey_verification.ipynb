{
 "cells": [
  {
   "cell_type": "code",
   "execution_count": 0,
   "metadata": {
    "application/vnd.databricks.v1+cell": {
     "cellMetadata": {},
     "inputWidgets": {},
     "nuid": "9283532e-fefd-45fa-bc94-25eab3231d11",
     "showTitle": false,
     "title": ""
    }
   },
   "outputs": [
    {
     "output_type": "display_data",
     "data": {
      "text/html": [
       "<style scoped>\n",
       "  .ansiout {\n",
       "    display: block;\n",
       "    unicode-bidi: embed;\n",
       "    white-space: pre-wrap;\n",
       "    word-wrap: break-word;\n",
       "    word-break: break-all;\n",
       "    font-family: \"Source Code Pro\", \"Menlo\", monospace;;\n",
       "    font-size: 13px;\n",
       "    color: #555;\n",
       "    margin-left: 4px;\n",
       "    line-height: 19px;\n",
       "  }\n",
       "</style>\n",
       "<div class=\"ansiout\">Requirement already satisfied: pandas-gbq in /databricks/python3/lib/python3.8/site-packages (0.15.0)\r\n",
       "Requirement already satisfied: google-auth in /databricks/python3/lib/python3.8/site-packages (from pandas-gbq) (2.15.0)\r\n",
       "Requirement already satisfied: google-cloud-bigquery[bqstorage,pandas]!=2.4.*,&lt;3.0.0dev,&gt;=1.11.1 in /databricks/python3/lib/python3.8/site-packages (from pandas-gbq) (2.34.4)\r\n",
       "Requirement already satisfied: google-auth-oauthlib in /databricks/python3/lib/python3.8/site-packages (from pandas-gbq) (0.8.0)\r\n",
       "Requirement already satisfied: setuptools in /usr/local/lib/python3.8/dist-packages (from pandas-gbq) (52.0.0)\r\n",
       "Requirement already satisfied: pydata-google-auth in /databricks/python3/lib/python3.8/site-packages (from pandas-gbq) (1.4.0)\r\n",
       "Requirement already satisfied: pandas&gt;=0.23.2 in /databricks/python3/lib/python3.8/site-packages (from pandas-gbq) (1.2.4)\r\n",
       "Requirement already satisfied: packaging&lt;22.0dev,&gt;=14.3 in /databricks/python3/lib/python3.8/site-packages (from google-cloud-bigquery[bqstorage,pandas]!=2.4.*,&lt;3.0.0dev,&gt;=1.11.1-&gt;pandas-gbq) (20.9)\r\n",
       "Requirement already satisfied: requests&lt;3.0.0dev,&gt;=2.18.0 in /databricks/python3/lib/python3.8/site-packages (from google-cloud-bigquery[bqstorage,pandas]!=2.4.*,&lt;3.0.0dev,&gt;=1.11.1-&gt;pandas-gbq) (2.25.1)\r\n",
       "Requirement already satisfied: protobuf&lt;4.0.0dev,&gt;=3.12.0 in /databricks/python3/lib/python3.8/site-packages (from google-cloud-bigquery[bqstorage,pandas]!=2.4.*,&lt;3.0.0dev,&gt;=1.11.1-&gt;pandas-gbq) (3.20.3)\r\n",
       "Requirement already satisfied: google-cloud-core&lt;3.0.0dev,&gt;=1.4.1 in /databricks/python3/lib/python3.8/site-packages (from google-cloud-bigquery[bqstorage,pandas]!=2.4.*,&lt;3.0.0dev,&gt;=1.11.1-&gt;pandas-gbq) (2.3.2)\r\n",
       "Requirement already satisfied: grpcio&lt;2.0dev,&gt;=1.38.1 in /databricks/python3/lib/python3.8/site-packages (from google-cloud-bigquery[bqstorage,pandas]!=2.4.*,&lt;3.0.0dev,&gt;=1.11.1-&gt;pandas-gbq) (1.51.1)\r\n",
       "Requirement already satisfied: python-dateutil&lt;3.0dev,&gt;=2.7.2 in /databricks/python3/lib/python3.8/site-packages (from google-cloud-bigquery[bqstorage,pandas]!=2.4.*,&lt;3.0.0dev,&gt;=1.11.1-&gt;pandas-gbq) (2.8.1)\r\n",
       "Requirement already satisfied: proto-plus&lt;2.0.0dev,&gt;=1.15.0 in /databricks/python3/lib/python3.8/site-packages (from google-cloud-bigquery[bqstorage,pandas]!=2.4.*,&lt;3.0.0dev,&gt;=1.11.1-&gt;pandas-gbq) (1.22.1)\r\n",
       "Requirement already satisfied: google-resumable-media&lt;3.0dev,&gt;=0.6.0 in /databricks/python3/lib/python3.8/site-packages (from google-cloud-bigquery[bqstorage,pandas]!=2.4.*,&lt;3.0.0dev,&gt;=1.11.1-&gt;pandas-gbq) (2.4.0)\r\n",
       "Requirement already satisfied: google-api-core[grpc]!=2.0.*,!=2.1.*,!=2.2.*,!=2.3.0,&lt;3.0.0dev,&gt;=1.31.5 in /databricks/python3/lib/python3.8/site-packages (from google-cloud-bigquery[bqstorage,pandas]!=2.4.*,&lt;3.0.0dev,&gt;=1.11.1-&gt;pandas-gbq) (2.11.0)\r\n",
       "Requirement already satisfied: pyarrow&lt;8.0dev,&gt;=3.0.0 in /databricks/python3/lib/python3.8/site-packages (from google-cloud-bigquery[bqstorage,pandas]!=2.4.*,&lt;3.0.0dev,&gt;=1.11.1-&gt;pandas-gbq) (4.0.0)\r\n",
       "Requirement already satisfied: google-cloud-bigquery-storage&lt;3.0.0dev,&gt;=2.0.0 in /databricks/python3/lib/python3.8/site-packages (from google-cloud-bigquery[bqstorage,pandas]!=2.4.*,&lt;3.0.0dev,&gt;=1.11.1-&gt;pandas-gbq) (2.17.0)\r\n",
       "Requirement already satisfied: googleapis-common-protos&lt;2.0dev,&gt;=1.56.2 in /databricks/python3/lib/python3.8/site-packages (from google-api-core[grpc]!=2.0.*,!=2.1.*,!=2.2.*,!=2.3.0,&lt;3.0.0dev,&gt;=1.31.5-&gt;google-cloud-bigquery[bqstorage,pandas]!=2.4.*,&lt;3.0.0dev,&gt;=1.11.1-&gt;pandas-gbq) (1.57.0)\r\n",
       "Requirement already satisfied: grpcio-status&lt;2.0dev,&gt;=1.33.2 in /databricks/python3/lib/python3.8/site-packages (from google-api-core[grpc]!=2.0.*,!=2.1.*,!=2.2.*,!=2.3.0,&lt;3.0.0dev,&gt;=1.31.5-&gt;google-cloud-bigquery[bqstorage,pandas]!=2.4.*,&lt;3.0.0dev,&gt;=1.11.1-&gt;pandas-gbq) (1.48.2)\r\n",
       "Requirement already satisfied: six&gt;=1.9.0 in /databricks/python3/lib/python3.8/site-packages (from google-auth-&gt;pandas-gbq) (1.15.0)\r\n",
       "Requirement already satisfied: rsa&lt;5,&gt;=3.1.4 in /databricks/python3/lib/python3.8/site-packages (from google-auth-&gt;pandas-gbq) (4.9)\r\n",
       "Requirement already satisfied: cachetools&lt;6.0,&gt;=2.0.0 in /databricks/python3/lib/python3.8/site-packages (from google-auth-&gt;pandas-gbq) (5.2.0)\r\n",
       "Requirement already satisfied: pyasn1-modules&gt;=0.2.1 in /databricks/python3/lib/python3.8/site-packages (from google-auth-&gt;pandas-gbq) (0.2.8)\r\n",
       "Requirement already satisfied: google-crc32c&lt;2.0dev,&gt;=1.0 in /databricks/python3/lib/python3.8/site-packages (from google-resumable-media&lt;3.0dev,&gt;=0.6.0-&gt;google-cloud-bigquery[bqstorage,pandas]!=2.4.*,&lt;3.0.0dev,&gt;=1.11.1-&gt;pandas-gbq) (1.5.0)\r\n",
       "Requirement already satisfied: pyparsing&gt;=2.0.2 in /databricks/python3/lib/python3.8/site-packages (from packaging&lt;22.0dev,&gt;=14.3-&gt;google-cloud-bigquery[bqstorage,pandas]!=2.4.*,&lt;3.0.0dev,&gt;=1.11.1-&gt;pandas-gbq) (2.4.7)\r\n",
       "Requirement already satisfied: pytz&gt;=2017.3 in /databricks/python3/lib/python3.8/site-packages (from pandas&gt;=0.23.2-&gt;pandas-gbq) (2020.5)\r\n",
       "Requirement already satisfied: numpy&gt;=1.16.5 in /databricks/python3/lib/python3.8/site-packages (from pandas&gt;=0.23.2-&gt;pandas-gbq) (1.19.2)\r\n",
       "Requirement already satisfied: pyasn1&lt;0.5.0,&gt;=0.4.6 in /databricks/python3/lib/python3.8/site-packages (from pyasn1-modules&gt;=0.2.1-&gt;google-auth-&gt;pandas-gbq) (0.4.8)\r\n",
       "Requirement already satisfied: urllib3&lt;1.27,&gt;=1.21.1 in /databricks/python3/lib/python3.8/site-packages (from requests&lt;3.0.0dev,&gt;=2.18.0-&gt;google-cloud-bigquery[bqstorage,pandas]!=2.4.*,&lt;3.0.0dev,&gt;=1.11.1-&gt;pandas-gbq) (1.25.11)\r\n",
       "Requirement already satisfied: idna&lt;3,&gt;=2.5 in /databricks/python3/lib/python3.8/site-packages (from requests&lt;3.0.0dev,&gt;=2.18.0-&gt;google-cloud-bigquery[bqstorage,pandas]!=2.4.*,&lt;3.0.0dev,&gt;=1.11.1-&gt;pandas-gbq) (2.10)\r\n",
       "Requirement already satisfied: certifi&gt;=2017.4.17 in /databricks/python3/lib/python3.8/site-packages (from requests&lt;3.0.0dev,&gt;=2.18.0-&gt;google-cloud-bigquery[bqstorage,pandas]!=2.4.*,&lt;3.0.0dev,&gt;=1.11.1-&gt;pandas-gbq) (2020.12.5)\r\n",
       "Requirement already satisfied: chardet&lt;5,&gt;=3.0.2 in /databricks/python3/lib/python3.8/site-packages (from requests&lt;3.0.0dev,&gt;=2.18.0-&gt;google-cloud-bigquery[bqstorage,pandas]!=2.4.*,&lt;3.0.0dev,&gt;=1.11.1-&gt;pandas-gbq) (4.0.0)\r\n",
       "Requirement already satisfied: requests-oauthlib&gt;=0.7.0 in /databricks/python3/lib/python3.8/site-packages (from google-auth-oauthlib-&gt;pandas-gbq) (1.3.1)\r\n",
       "Requirement already satisfied: oauthlib&gt;=3.0.0 in /databricks/python3/lib/python3.8/site-packages (from requests-oauthlib&gt;=0.7.0-&gt;google-auth-oauthlib-&gt;pandas-gbq) (3.2.2)\r\n",
       "<span class=\"ansi-yellow-fg\">WARNING: You are using pip version 21.0.1; however, version 22.3.1 is available.\r\n",
       "You should consider upgrading via the &#39;/databricks/python3/bin/python -m pip install --upgrade pip&#39; command.</span>\r\n",
       "</div>"
      ]
     },
     "metadata": {
      "application/vnd.databricks.v1+output": {
       "addedWidgets": {},
       "arguments": {},
       "data": "<div class=\"ansiout\">Requirement already satisfied: pandas-gbq in /databricks/python3/lib/python3.8/site-packages (0.15.0)\r\nRequirement already satisfied: google-auth in /databricks/python3/lib/python3.8/site-packages (from pandas-gbq) (2.15.0)\r\nRequirement already satisfied: google-cloud-bigquery[bqstorage,pandas]!=2.4.*,&lt;3.0.0dev,&gt;=1.11.1 in /databricks/python3/lib/python3.8/site-packages (from pandas-gbq) (2.34.4)\r\nRequirement already satisfied: google-auth-oauthlib in /databricks/python3/lib/python3.8/site-packages (from pandas-gbq) (0.8.0)\r\nRequirement already satisfied: setuptools in /usr/local/lib/python3.8/dist-packages (from pandas-gbq) (52.0.0)\r\nRequirement already satisfied: pydata-google-auth in /databricks/python3/lib/python3.8/site-packages (from pandas-gbq) (1.4.0)\r\nRequirement already satisfied: pandas&gt;=0.23.2 in /databricks/python3/lib/python3.8/site-packages (from pandas-gbq) (1.2.4)\r\nRequirement already satisfied: packaging&lt;22.0dev,&gt;=14.3 in /databricks/python3/lib/python3.8/site-packages (from google-cloud-bigquery[bqstorage,pandas]!=2.4.*,&lt;3.0.0dev,&gt;=1.11.1-&gt;pandas-gbq) (20.9)\r\nRequirement already satisfied: requests&lt;3.0.0dev,&gt;=2.18.0 in /databricks/python3/lib/python3.8/site-packages (from google-cloud-bigquery[bqstorage,pandas]!=2.4.*,&lt;3.0.0dev,&gt;=1.11.1-&gt;pandas-gbq) (2.25.1)\r\nRequirement already satisfied: protobuf&lt;4.0.0dev,&gt;=3.12.0 in /databricks/python3/lib/python3.8/site-packages (from google-cloud-bigquery[bqstorage,pandas]!=2.4.*,&lt;3.0.0dev,&gt;=1.11.1-&gt;pandas-gbq) (3.20.3)\r\nRequirement already satisfied: google-cloud-core&lt;3.0.0dev,&gt;=1.4.1 in /databricks/python3/lib/python3.8/site-packages (from google-cloud-bigquery[bqstorage,pandas]!=2.4.*,&lt;3.0.0dev,&gt;=1.11.1-&gt;pandas-gbq) (2.3.2)\r\nRequirement already satisfied: grpcio&lt;2.0dev,&gt;=1.38.1 in /databricks/python3/lib/python3.8/site-packages (from google-cloud-bigquery[bqstorage,pandas]!=2.4.*,&lt;3.0.0dev,&gt;=1.11.1-&gt;pandas-gbq) (1.51.1)\r\nRequirement already satisfied: python-dateutil&lt;3.0dev,&gt;=2.7.2 in /databricks/python3/lib/python3.8/site-packages (from google-cloud-bigquery[bqstorage,pandas]!=2.4.*,&lt;3.0.0dev,&gt;=1.11.1-&gt;pandas-gbq) (2.8.1)\r\nRequirement already satisfied: proto-plus&lt;2.0.0dev,&gt;=1.15.0 in /databricks/python3/lib/python3.8/site-packages (from google-cloud-bigquery[bqstorage,pandas]!=2.4.*,&lt;3.0.0dev,&gt;=1.11.1-&gt;pandas-gbq) (1.22.1)\r\nRequirement already satisfied: google-resumable-media&lt;3.0dev,&gt;=0.6.0 in /databricks/python3/lib/python3.8/site-packages (from google-cloud-bigquery[bqstorage,pandas]!=2.4.*,&lt;3.0.0dev,&gt;=1.11.1-&gt;pandas-gbq) (2.4.0)\r\nRequirement already satisfied: google-api-core[grpc]!=2.0.*,!=2.1.*,!=2.2.*,!=2.3.0,&lt;3.0.0dev,&gt;=1.31.5 in /databricks/python3/lib/python3.8/site-packages (from google-cloud-bigquery[bqstorage,pandas]!=2.4.*,&lt;3.0.0dev,&gt;=1.11.1-&gt;pandas-gbq) (2.11.0)\r\nRequirement already satisfied: pyarrow&lt;8.0dev,&gt;=3.0.0 in /databricks/python3/lib/python3.8/site-packages (from google-cloud-bigquery[bqstorage,pandas]!=2.4.*,&lt;3.0.0dev,&gt;=1.11.1-&gt;pandas-gbq) (4.0.0)\r\nRequirement already satisfied: google-cloud-bigquery-storage&lt;3.0.0dev,&gt;=2.0.0 in /databricks/python3/lib/python3.8/site-packages (from google-cloud-bigquery[bqstorage,pandas]!=2.4.*,&lt;3.0.0dev,&gt;=1.11.1-&gt;pandas-gbq) (2.17.0)\r\nRequirement already satisfied: googleapis-common-protos&lt;2.0dev,&gt;=1.56.2 in /databricks/python3/lib/python3.8/site-packages (from google-api-core[grpc]!=2.0.*,!=2.1.*,!=2.2.*,!=2.3.0,&lt;3.0.0dev,&gt;=1.31.5-&gt;google-cloud-bigquery[bqstorage,pandas]!=2.4.*,&lt;3.0.0dev,&gt;=1.11.1-&gt;pandas-gbq) (1.57.0)\r\nRequirement already satisfied: grpcio-status&lt;2.0dev,&gt;=1.33.2 in /databricks/python3/lib/python3.8/site-packages (from google-api-core[grpc]!=2.0.*,!=2.1.*,!=2.2.*,!=2.3.0,&lt;3.0.0dev,&gt;=1.31.5-&gt;google-cloud-bigquery[bqstorage,pandas]!=2.4.*,&lt;3.0.0dev,&gt;=1.11.1-&gt;pandas-gbq) (1.48.2)\r\nRequirement already satisfied: six&gt;=1.9.0 in /databricks/python3/lib/python3.8/site-packages (from google-auth-&gt;pandas-gbq) (1.15.0)\r\nRequirement already satisfied: rsa&lt;5,&gt;=3.1.4 in /databricks/python3/lib/python3.8/site-packages (from google-auth-&gt;pandas-gbq) (4.9)\r\nRequirement already satisfied: cachetools&lt;6.0,&gt;=2.0.0 in /databricks/python3/lib/python3.8/site-packages (from google-auth-&gt;pandas-gbq) (5.2.0)\r\nRequirement already satisfied: pyasn1-modules&gt;=0.2.1 in /databricks/python3/lib/python3.8/site-packages (from google-auth-&gt;pandas-gbq) (0.2.8)\r\nRequirement already satisfied: google-crc32c&lt;2.0dev,&gt;=1.0 in /databricks/python3/lib/python3.8/site-packages (from google-resumable-media&lt;3.0dev,&gt;=0.6.0-&gt;google-cloud-bigquery[bqstorage,pandas]!=2.4.*,&lt;3.0.0dev,&gt;=1.11.1-&gt;pandas-gbq) (1.5.0)\r\nRequirement already satisfied: pyparsing&gt;=2.0.2 in /databricks/python3/lib/python3.8/site-packages (from packaging&lt;22.0dev,&gt;=14.3-&gt;google-cloud-bigquery[bqstorage,pandas]!=2.4.*,&lt;3.0.0dev,&gt;=1.11.1-&gt;pandas-gbq) (2.4.7)\r\nRequirement already satisfied: pytz&gt;=2017.3 in /databricks/python3/lib/python3.8/site-packages (from pandas&gt;=0.23.2-&gt;pandas-gbq) (2020.5)\r\nRequirement already satisfied: numpy&gt;=1.16.5 in /databricks/python3/lib/python3.8/site-packages (from pandas&gt;=0.23.2-&gt;pandas-gbq) (1.19.2)\r\nRequirement already satisfied: pyasn1&lt;0.5.0,&gt;=0.4.6 in /databricks/python3/lib/python3.8/site-packages (from pyasn1-modules&gt;=0.2.1-&gt;google-auth-&gt;pandas-gbq) (0.4.8)\r\nRequirement already satisfied: urllib3&lt;1.27,&gt;=1.21.1 in /databricks/python3/lib/python3.8/site-packages (from requests&lt;3.0.0dev,&gt;=2.18.0-&gt;google-cloud-bigquery[bqstorage,pandas]!=2.4.*,&lt;3.0.0dev,&gt;=1.11.1-&gt;pandas-gbq) (1.25.11)\r\nRequirement already satisfied: idna&lt;3,&gt;=2.5 in /databricks/python3/lib/python3.8/site-packages (from requests&lt;3.0.0dev,&gt;=2.18.0-&gt;google-cloud-bigquery[bqstorage,pandas]!=2.4.*,&lt;3.0.0dev,&gt;=1.11.1-&gt;pandas-gbq) (2.10)\r\nRequirement already satisfied: certifi&gt;=2017.4.17 in /databricks/python3/lib/python3.8/site-packages (from requests&lt;3.0.0dev,&gt;=2.18.0-&gt;google-cloud-bigquery[bqstorage,pandas]!=2.4.*,&lt;3.0.0dev,&gt;=1.11.1-&gt;pandas-gbq) (2020.12.5)\r\nRequirement already satisfied: chardet&lt;5,&gt;=3.0.2 in /databricks/python3/lib/python3.8/site-packages (from requests&lt;3.0.0dev,&gt;=2.18.0-&gt;google-cloud-bigquery[bqstorage,pandas]!=2.4.*,&lt;3.0.0dev,&gt;=1.11.1-&gt;pandas-gbq) (4.0.0)\r\nRequirement already satisfied: requests-oauthlib&gt;=0.7.0 in /databricks/python3/lib/python3.8/site-packages (from google-auth-oauthlib-&gt;pandas-gbq) (1.3.1)\r\nRequirement already satisfied: oauthlib&gt;=3.0.0 in /databricks/python3/lib/python3.8/site-packages (from requests-oauthlib&gt;=0.7.0-&gt;google-auth-oauthlib-&gt;pandas-gbq) (3.2.2)\r\n<span class=\"ansi-yellow-fg\">WARNING: You are using pip version 21.0.1; however, version 22.3.1 is available.\r\nYou should consider upgrading via the &#39;/databricks/python3/bin/python -m pip install --upgrade pip&#39; command.</span>\r\n</div>",
       "datasetInfos": [],
       "metadata": {},
       "removedWidgets": [],
       "type": "html"
      }
     },
     "output_type": "display_data"
    }
   ],
   "source": [
    "!pip install pandas-gbq"
   ]
  },
  {
   "cell_type": "code",
   "execution_count": 0,
   "metadata": {
    "application/vnd.databricks.v1+cell": {
     "cellMetadata": {},
     "inputWidgets": {},
     "nuid": "4e58a0df-3ad4-4016-be36-94f9c92edd5f",
     "showTitle": false,
     "title": ""
    }
   },
   "outputs": [
    {
     "output_type": "display_data",
     "data": {
      "text/html": [
       "<style scoped>\n",
       "  .ansiout {\n",
       "    display: block;\n",
       "    unicode-bidi: embed;\n",
       "    white-space: pre-wrap;\n",
       "    word-wrap: break-word;\n",
       "    word-break: break-all;\n",
       "    font-family: \"Source Code Pro\", \"Menlo\", monospace;;\n",
       "    font-size: 13px;\n",
       "    color: #555;\n",
       "    margin-left: 4px;\n",
       "    line-height: 19px;\n",
       "  }\n",
       "</style>\n",
       "<div class=\"ansiout\"></div>"
      ]
     },
     "metadata": {
      "application/vnd.databricks.v1+output": {
       "addedWidgets": {},
       "arguments": {},
       "data": "<div class=\"ansiout\"></div>",
       "datasetInfos": [],
       "metadata": {},
       "removedWidgets": [],
       "type": "html"
      }
     },
     "output_type": "display_data"
    }
   ],
   "source": [
    "import pandas_gbq\n",
    "import numpy as np\n",
    "import requests\n",
    "import datetime\n",
    "import pandas as pd\n",
    "import re\n",
    "import json\n",
    "import plotly.express as px\n",
    "from datetime import date, timedelta\n",
    "from datetime import datetime\n",
    "import pyspark as ps\n",
    "from pyspark.sql import SparkSession\n",
    "from pyspark.sql.functions import expr,first, last,when, split, col,lit, concat, date_format,to_utc_timestamp,to_timestamp, regexp_replace,concat_ws\n",
    "\n",
    "#client = bigquery.Client(location=\"us-central1\")\n",
    "#print(\"Client creating using default project: {}\".format(client.project))\n",
    "pd.set_option('display.width', 1000)\n",
    "pd.set_option(\"max_colwidth\",10000)\n",
    "pd.set_option(\"max_rows\",1000)\n",
    "pd.set_option(\"max_columns\",100)"
   ]
  },
  {
   "cell_type": "code",
   "execution_count": 0,
   "metadata": {
    "application/vnd.databricks.v1+cell": {
     "cellMetadata": {},
     "inputWidgets": {},
     "nuid": "ee5542e8-f218-4031-b8fb-435041d8c882",
     "showTitle": false,
     "title": ""
    }
   },
   "outputs": [
    {
     "output_type": "display_data",
     "data": {
      "text/html": [
       "<style scoped>\n",
       "  .ansiout {\n",
       "    display: block;\n",
       "    unicode-bidi: embed;\n",
       "    white-space: pre-wrap;\n",
       "    word-wrap: break-word;\n",
       "    word-break: break-all;\n",
       "    font-family: \"Source Code Pro\", \"Menlo\", monospace;;\n",
       "    font-size: 13px;\n",
       "    color: #555;\n",
       "    margin-left: 4px;\n",
       "    line-height: 19px;\n",
       "  }\n",
       "</style>\n",
       "<div class=\"ansiout\">2022-10-31 04:00:00 2022-10-31 15:59:59\n",
       "</div>"
      ]
     },
     "metadata": {
      "application/vnd.databricks.v1+output": {
       "addedWidgets": {},
       "arguments": {},
       "data": "<div class=\"ansiout\">2022-10-31 04:00:00 2022-10-31 15:59:59\n</div>",
       "datasetInfos": [],
       "metadata": {},
       "removedWidgets": [],
       "type": "html"
      }
     },
     "output_type": "display_data"
    }
   ],
   "source": [
    "current_date = datetime.today()\n",
    "last_hour_q =1\n",
    "str_datetime_ini = (current_date - timedelta(seconds = (last_hour_q+2225)*3600)).strftime(\"%Y-%m-%d %H:00:00\")\n",
    "str_datetime_fin = (current_date - timedelta(seconds =(last_hour_q+2214)*3600)).strftime(\"%Y-%m-%d %H:59:59\")\n",
    "print(str_datetime_ini,str_datetime_fin)"
   ]
  },
  {
   "cell_type": "markdown",
   "metadata": {
    "application/vnd.databricks.v1+cell": {
     "cellMetadata": {},
     "inputWidgets": {},
     "nuid": "af61230b-cf8e-40ba-8b37-bb7f2b29a0a4",
     "showTitle": true,
     "title": ""
    }
   },
   "source": [
    "### Read RED Ingress-Requests"
   ]
  },
  {
   "cell_type": "code",
   "execution_count": 0,
   "metadata": {
    "application/vnd.databricks.v1+cell": {
     "cellMetadata": {},
     "inputWidgets": {},
     "nuid": "38f13406-47a9-40bf-824a-cf369a528055",
     "showTitle": false,
     "title": ""
    }
   },
   "outputs": [
    {
     "output_type": "display_data",
     "data": {
      "text/html": [
       "<style scoped>\n",
       "  .ansiout {\n",
       "    display: block;\n",
       "    unicode-bidi: embed;\n",
       "    white-space: pre-wrap;\n",
       "    word-wrap: break-word;\n",
       "    word-break: break-all;\n",
       "    font-family: \"Source Code Pro\", \"Menlo\", monospace;;\n",
       "    font-size: 13px;\n",
       "    color: #555;\n",
       "    margin-left: 4px;\n",
       "    line-height: 19px;\n",
       "  }\n",
       "</style>\n",
       "<div class=\"ansiout\"></div>"
      ]
     },
     "metadata": {
      "application/vnd.databricks.v1+output": {
       "addedWidgets": {},
       "arguments": {},
       "data": "<div class=\"ansiout\"></div>",
       "datasetInfos": [],
       "metadata": {},
       "removedWidgets": [],
       "type": "html"
      }
     },
     "output_type": "display_data"
    }
   ],
   "source": [
    "df_red = spark.read.format('bigquery').option('project','saas-analytics-io').option('table','raw.red-ingress-requests').option(\"Schema\",\"\"\"time,host,source,user,method,uri,status,apikey\"\"\").option(\"filter\", \"\"\"time between '%s' and '%s'\"\"\"%(str_datetime_ini,str_datetime_fin)).load()"
   ]
  },
  {
   "cell_type": "code",
   "execution_count": 0,
   "metadata": {
    "application/vnd.databricks.v1+cell": {
     "cellMetadata": {},
     "inputWidgets": {},
     "nuid": "9e10f2c4-25cd-47ed-972f-c9638088f7b6",
     "showTitle": false,
     "title": ""
    }
   },
   "outputs": [
    {
     "output_type": "display_data",
     "data": {
      "text/html": [
       "<style scoped>\n",
       "  .ansiout {\n",
       "    display: block;\n",
       "    unicode-bidi: embed;\n",
       "    white-space: pre-wrap;\n",
       "    word-wrap: break-word;\n",
       "    word-break: break-all;\n",
       "    font-family: \"Source Code Pro\", \"Menlo\", monospace;;\n",
       "    font-size: 13px;\n",
       "    color: #555;\n",
       "    margin-left: 4px;\n",
       "    line-height: 19px;\n",
       "  }\n",
       "</style>\n",
       "<div class=\"ansiout\"></div>"
      ]
     },
     "metadata": {
      "application/vnd.databricks.v1+output": {
       "addedWidgets": {},
       "arguments": {},
       "data": "<div class=\"ansiout\"></div>",
       "datasetInfos": [],
       "metadata": {},
       "removedWidgets": [],
       "type": "html"
      }
     },
     "output_type": "display_data"
    }
   ],
   "source": [
    "df_red_selected = df_red['time','host','source','user','method','uri','status','apikey','auth','token']"
   ]
  },
  {
   "cell_type": "code",
   "execution_count": 0,
   "metadata": {
    "application/vnd.databricks.v1+cell": {
     "cellMetadata": {},
     "inputWidgets": {},
     "nuid": "f49d923f-3560-4352-b7d6-d560ebd46dc8",
     "showTitle": false,
     "title": ""
    }
   },
   "outputs": [
    {
     "output_type": "display_data",
     "data": {
      "text/html": [
       "<style scoped>\n",
       "  .ansiout {\n",
       "    display: block;\n",
       "    unicode-bidi: embed;\n",
       "    white-space: pre-wrap;\n",
       "    word-wrap: break-word;\n",
       "    word-break: break-all;\n",
       "    font-family: \"Source Code Pro\", \"Menlo\", monospace;;\n",
       "    font-size: 13px;\n",
       "    color: #555;\n",
       "    margin-left: 4px;\n",
       "    line-height: 19px;\n",
       "  }\n",
       "</style>\n",
       "<div class=\"ansiout\"></div>"
      ]
     },
     "metadata": {
      "application/vnd.databricks.v1+output": {
       "addedWidgets": {},
       "arguments": {},
       "data": "<div class=\"ansiout\"></div>",
       "datasetInfos": [],
       "metadata": {},
       "removedWidgets": [],
       "type": "html"
      }
     },
     "output_type": "display_data"
    }
   ],
   "source": [
    "try:\n",
    "  df_red_selected = df_red_selected.withColumn('endpoint',concat(split(df_red_selected[\"uri\"],\"/\").getItem(1),lit(\"/\"),split(df_red_selected[\"uri\"],\"/\").getItem(2),lit(\"/\"),split(df_red_selected[\"uri\"],\"/\").getItem(3),lit(\"/\"),split(df_red_selected[\"uri\"],\"/\").getItem(4)))\n",
    "except:\n",
    "  df_red_selected = df_red_selected.withColumn('endpoint','uri')\n",
    "\n",
    "df_red_selected = df_red_selected.withColumn('datetime_h', date_format(df_red_selected['time'], \"d/M/y H\"))\n",
    "df_red_selected = df_red_selected.withColumn('datetime_h', to_utc_timestamp(to_timestamp(df_red_selected['datetime_h'],'d/M/y H'), 'UTC'))"
   ]
  },
  {
   "cell_type": "code",
   "execution_count": 0,
   "metadata": {
    "application/vnd.databricks.v1+cell": {
     "cellMetadata": {},
     "inputWidgets": {},
     "nuid": "2a618705-3977-4b86-a94d-617c9d151160",
     "showTitle": false,
     "title": ""
    }
   },
   "outputs": [
    {
     "output_type": "display_data",
     "data": {
      "text/html": [
       "<style scoped>\n",
       "  .ansiout {\n",
       "    display: block;\n",
       "    unicode-bidi: embed;\n",
       "    white-space: pre-wrap;\n",
       "    word-wrap: break-word;\n",
       "    word-break: break-all;\n",
       "    font-family: \"Source Code Pro\", \"Menlo\", monospace;;\n",
       "    font-size: 13px;\n",
       "    color: #555;\n",
       "    margin-left: 4px;\n",
       "    line-height: 19px;\n",
       "  }\n",
       "</style>\n",
       "<div class=\"ansiout\"></div>"
      ]
     },
     "metadata": {
      "application/vnd.databricks.v1+output": {
       "addedWidgets": {},
       "arguments": {},
       "data": "<div class=\"ansiout\"></div>",
       "datasetInfos": [],
       "metadata": {},
       "removedWidgets": [],
       "type": "html"
      }
     },
     "output_type": "display_data"
    }
   ],
   "source": [
    "#display(df_red_selected)"
   ]
  },
  {
   "cell_type": "markdown",
   "metadata": {
    "application/vnd.databricks.v1+cell": {
     "cellMetadata": {},
     "inputWidgets": {},
     "nuid": "33eec8bb-c59f-4c01-abe6-257831ee2f61",
     "showTitle": false,
     "title": ""
    }
   },
   "source": [
    "### apiKeys list of known values"
   ]
  },
  {
   "cell_type": "code",
   "execution_count": 0,
   "metadata": {
    "application/vnd.databricks.v1+cell": {
     "cellMetadata": {},
     "inputWidgets": {},
     "nuid": "73d86860-0703-4903-94bb-5b31a16165d6",
     "showTitle": false,
     "title": ""
    }
   },
   "outputs": [
    {
     "output_type": "display_data",
     "data": {
      "text/html": [
       "<style scoped>\n",
       "  .ansiout {\n",
       "    display: block;\n",
       "    unicode-bidi: embed;\n",
       "    white-space: pre-wrap;\n",
       "    word-wrap: break-word;\n",
       "    word-break: break-all;\n",
       "    font-family: \"Source Code Pro\", \"Menlo\", monospace;;\n",
       "    font-size: 13px;\n",
       "    color: #555;\n",
       "    margin-left: 4px;\n",
       "    line-height: 19px;\n",
       "  }\n",
       "</style>\n",
       "<div class=\"ansiout\"></div>"
      ]
     },
     "metadata": {
      "application/vnd.databricks.v1+output": {
       "addedWidgets": {},
       "arguments": {},
       "data": "<div class=\"ansiout\"></div>",
       "datasetInfos": [],
       "metadata": {},
       "removedWidgets": [],
       "type": "html"
      }
     },
     "output_type": "display_data"
    }
   ],
   "source": [
    "#######List of apiKeys\n",
    "url_1 = 'https://docs.google.com/spreadsheets/d/1RkJw-DCSM4SO16vMaLB8buXR-phoAFc1OFNr8v8GWjc/edit#gid=0'\n",
    "url = url_1.replace('/edit#gid=', '/export?format=csv&gid=')\n",
    "df_apikey = pd.read_csv(url, dtype=str)\n",
    "DF_apikey = spark.createDataFrame(df_apikey) \n"
   ]
  },
  {
   "cell_type": "code",
   "execution_count": 0,
   "metadata": {
    "application/vnd.databricks.v1+cell": {
     "cellMetadata": {},
     "inputWidgets": {},
     "nuid": "0f439b11-947e-4a54-a64e-6ca6c8cfbddf",
     "showTitle": false,
     "title": ""
    }
   },
   "outputs": [
    {
     "output_type": "display_data",
     "data": {
      "text/html": [
       "<style scoped>\n",
       "  .table-result-container {\n",
       "    max-height: 300px;\n",
       "    overflow: auto;\n",
       "  }\n",
       "  table, th, td {\n",
       "    border: 1px solid black;\n",
       "    border-collapse: collapse;\n",
       "  }\n",
       "  th, td {\n",
       "    padding: 5px;\n",
       "  }\n",
       "  th {\n",
       "    text-align: left;\n",
       "  }\n",
       "</style><div class='table-result-container'><table class='table-result'><thead style='background-color: white'><tr><th>apiKey_l</th><th>Description</th></tr></thead><tbody><tr><td>AGXWZ91NEYQ5UBZN</td><td>known value</td></tr><tr><td>CBTP0IEXSMRDRSEE</td><td>known value</td></tr><tr><td>R7Y8U3AJ1GGEZRHD</td><td>known value</td></tr><tr><td>ERTSDODQMMATVXQ0</td><td>known value</td></tr><tr><td>WARQTT0MQ9QYAKMJ</td><td>known value</td></tr><tr><td>H717W46NDHMK3ATT</td><td>known value</td></tr><tr><td>LSL0KJJ2RXXQB16H</td><td>known value</td></tr><tr><td>XBQNQJRZLXQIHKXU</td><td>known value</td></tr><tr><td>DSUNQ24DESKFZWE2SXROVTYUIINZEMGMGULFTKCEMQWQUULIVIWOIUYYLTJT8RCEDZFQTO7ZVF5ME6YFDZ9IPCFNSTXVGTKYP0SSKNSVZW0XOZXJF0Y6DUPXLHV6V9UC</td><td>known value</td></tr><tr><td>FWC8C4YVCQYFOBO0</td><td>known value</td></tr><tr><td>OG4558D8G4TSWI3O</td><td>known value</td></tr><tr><td>G5VZPBFRWI4QLBDC</td><td>known value</td></tr><tr><td>FBJTHJWW2KGCWDKI</td><td>known value</td></tr><tr><td>RYQGQBLA48ZSEDQS</td><td>known value</td></tr><tr><td>OX2OZB5YQMQCAILW</td><td>known value</td></tr><tr><td>KGR21JDFZ2CBKDXP</td><td>known value</td></tr><tr><td>TNEPWQNWV5W0QFSH6LRVXCO7JRFKSQTMSS1XUCEG6ESSRT0P9WNUNKJZWM6GPEJZMSIU6VNYRYH9PDZPSMORNRYPUKSHXYHGYHSZILEPOTOKXNZKRYKD3JVOOIYQSHNY</td><td>known value</td></tr><tr><td>LW7OP0KUUO6Y9YSE78EUGLEH7FNLIWVZWKXYKUDG0O94KMEXDYM1G66MT2WUF1EVGQCPCCPHNUZUEMKQUDGXFHUDOTDEFV5LOXPDXGUZLWIZLG5DFHEEVPSYNR0QOOJU</td><td>known value</td></tr><tr><td>LGUKPLVPDQNEDSX1QYH6MSKMPQXWOOIYD1KJYEWSIQ1OYUM4ZI87EPMOPWHTQLMYJUYDHKQKEYSU6OGKIGGKCVIUGQGTPYW9RTZHQETJI3KUX2XPQTDJIK4TWPMLL6HO</td><td>known value</td></tr><tr><td>HGLLCL7NWDTTPTHUDOKZFYUE0G0DPL3CR3CDEGZZTRK5KCXS8YOMPEH40DWVZOPROVHMQGQSZLHEVEUUXP9NUC6MKWEZWXJUUNEOTQG2URCGRZJPCHZJPVXREUMIL5JK</td><td>known value</td></tr><tr><td>OTI4TTVPSJJUAOQBDZWWIFB8LKH359KFVGASPZLIIQPWM3PSWLAQYAQY9ZLLJ9W0B9LUGDKWT0KWUBPSFGPRBHA20TWCDSPOMTKWGWX6QECTIOCS0F9G9UWNNNIBT3AC</td><td>known value</td></tr><tr><td>VYNOEQYJUNDXMV02</td><td>known value</td></tr><tr><td>R7F9AHA87BM8RAQU</td><td>known value</td></tr><tr><td>VICTZBYUMYK6WZGW</td><td>known value</td></tr><tr><td>UKMP0QDRBPNWJ0X6</td><td>known value</td></tr><tr><td>2HIZSDYPMAYUMZDA</td><td>known value</td></tr><tr><td>VL47TSILRXPYQBLQ</td><td>known value</td></tr><tr><td>GEAIRZXSAV77P8QT</td><td>known value</td></tr><tr><td>FTPWMHYUGS8DUH3R</td><td>known value</td></tr><tr><td>GUJ4QIEXFUBTZWQE</td><td>known value</td></tr><tr><td>ZJQWXTD6GLR1BIZG</td><td>known value</td></tr><tr><td>DJDH9KBBJJYCO0SW</td><td>known value</td></tr><tr><td>KUEH6NJCFXCEPCFP</td><td>known value</td></tr><tr><td>THUCWROKKDQDY4PV</td><td>known value</td></tr><tr><td>PWONSMJCM1HKEBKL</td><td>known value</td></tr><tr><td>PD6QHHIY4RICUVDC</td><td>known value</td></tr><tr><td>PRMJ73NBYBN8BNJQ</td><td>known value</td></tr><tr><td>M2B5L1QYXZHZHJ0I</td><td>known value</td></tr><tr><td>H6ATZYHPTV8VUFKH</td><td>known value</td></tr><tr><td>O2UAAIJ1J4UNLQ1Y</td><td>known value</td></tr><tr><td>JFXQ7SYYKLLEN9GZ</td><td>known value</td></tr><tr><td>HP9NEVGVAE1SJUO3</td><td>known value</td></tr><tr><td>LEPZNBAX43BF3YMQ</td><td>known value</td></tr><tr><td>EWC8FHTD5U94TQFB</td><td>known value</td></tr><tr><td>SFL9LDE85CORFAP9</td><td>known value</td></tr><tr><td>KXJFSJXOFURYX6OR</td><td>known value</td></tr><tr><td>BOHC4JTAJNM7BVFY</td><td>known value</td></tr><tr><td>5MFCHUWKQRFJB0F4</td><td>known value</td></tr><tr><td>D8GPPOJ1AGHD4SDC</td><td>known value</td></tr><tr><td>PCAVUGDJXFOFN2KG</td><td>known value</td></tr><tr><td>ZUOKAQJ8BEYQUDWK</td><td>known value</td></tr><tr><td>IY18IKTDJIIKUX37</td><td>known value</td></tr><tr><td>U0GVWDUJYZF2XDDR</td><td>known value</td></tr><tr><td>7RCPYZHQWQJ15CSV</td><td>known value</td></tr><tr><td>I9A5VIA4KE7DZWIM</td><td>known value</td></tr></tbody></table></div>"
      ]
     },
     "metadata": {
      "application/vnd.databricks.v1+output": {
       "addedWidgets": {},
       "aggData": [],
       "aggError": "",
       "aggOverflow": false,
       "aggSchema": [],
       "aggSeriesLimitReached": false,
       "aggType": "",
       "arguments": {},
       "columnCustomDisplayInfos": {},
       "data": [
        [
         "AGXWZ91NEYQ5UBZN",
         "known value"
        ],
        [
         "CBTP0IEXSMRDRSEE",
         "known value"
        ],
        [
         "R7Y8U3AJ1GGEZRHD",
         "known value"
        ],
        [
         "ERTSDODQMMATVXQ0",
         "known value"
        ],
        [
         "WARQTT0MQ9QYAKMJ",
         "known value"
        ],
        [
         "H717W46NDHMK3ATT",
         "known value"
        ],
        [
         "LSL0KJJ2RXXQB16H",
         "known value"
        ],
        [
         "XBQNQJRZLXQIHKXU",
         "known value"
        ],
        [
         "DSUNQ24DESKFZWE2SXROVTYUIINZEMGMGULFTKCEMQWQUULIVIWOIUYYLTJT8RCEDZFQTO7ZVF5ME6YFDZ9IPCFNSTXVGTKYP0SSKNSVZW0XOZXJF0Y6DUPXLHV6V9UC",
         "known value"
        ],
        [
         "FWC8C4YVCQYFOBO0",
         "known value"
        ],
        [
         "OG4558D8G4TSWI3O",
         "known value"
        ],
        [
         "G5VZPBFRWI4QLBDC",
         "known value"
        ],
        [
         "FBJTHJWW2KGCWDKI",
         "known value"
        ],
        [
         "RYQGQBLA48ZSEDQS",
         "known value"
        ],
        [
         "OX2OZB5YQMQCAILW",
         "known value"
        ],
        [
         "KGR21JDFZ2CBKDXP",
         "known value"
        ],
        [
         "TNEPWQNWV5W0QFSH6LRVXCO7JRFKSQTMSS1XUCEG6ESSRT0P9WNUNKJZWM6GPEJZMSIU6VNYRYH9PDZPSMORNRYPUKSHXYHGYHSZILEPOTOKXNZKRYKD3JVOOIYQSHNY",
         "known value"
        ],
        [
         "LW7OP0KUUO6Y9YSE78EUGLEH7FNLIWVZWKXYKUDG0O94KMEXDYM1G66MT2WUF1EVGQCPCCPHNUZUEMKQUDGXFHUDOTDEFV5LOXPDXGUZLWIZLG5DFHEEVPSYNR0QOOJU",
         "known value"
        ],
        [
         "LGUKPLVPDQNEDSX1QYH6MSKMPQXWOOIYD1KJYEWSIQ1OYUM4ZI87EPMOPWHTQLMYJUYDHKQKEYSU6OGKIGGKCVIUGQGTPYW9RTZHQETJI3KUX2XPQTDJIK4TWPMLL6HO",
         "known value"
        ],
        [
         "HGLLCL7NWDTTPTHUDOKZFYUE0G0DPL3CR3CDEGZZTRK5KCXS8YOMPEH40DWVZOPROVHMQGQSZLHEVEUUXP9NUC6MKWEZWXJUUNEOTQG2URCGRZJPCHZJPVXREUMIL5JK",
         "known value"
        ],
        [
         "OTI4TTVPSJJUAOQBDZWWIFB8LKH359KFVGASPZLIIQPWM3PSWLAQYAQY9ZLLJ9W0B9LUGDKWT0KWUBPSFGPRBHA20TWCDSPOMTKWGWX6QECTIOCS0F9G9UWNNNIBT3AC",
         "known value"
        ],
        [
         "VYNOEQYJUNDXMV02",
         "known value"
        ],
        [
         "R7F9AHA87BM8RAQU",
         "known value"
        ],
        [
         "VICTZBYUMYK6WZGW",
         "known value"
        ],
        [
         "UKMP0QDRBPNWJ0X6",
         "known value"
        ],
        [
         "2HIZSDYPMAYUMZDA",
         "known value"
        ],
        [
         "VL47TSILRXPYQBLQ",
         "known value"
        ],
        [
         "GEAIRZXSAV77P8QT",
         "known value"
        ],
        [
         "FTPWMHYUGS8DUH3R",
         "known value"
        ],
        [
         "GUJ4QIEXFUBTZWQE",
         "known value"
        ],
        [
         "ZJQWXTD6GLR1BIZG",
         "known value"
        ],
        [
         "DJDH9KBBJJYCO0SW",
         "known value"
        ],
        [
         "KUEH6NJCFXCEPCFP",
         "known value"
        ],
        [
         "THUCWROKKDQDY4PV",
         "known value"
        ],
        [
         "PWONSMJCM1HKEBKL",
         "known value"
        ],
        [
         "PD6QHHIY4RICUVDC",
         "known value"
        ],
        [
         "PRMJ73NBYBN8BNJQ",
         "known value"
        ],
        [
         "M2B5L1QYXZHZHJ0I",
         "known value"
        ],
        [
         "H6ATZYHPTV8VUFKH",
         "known value"
        ],
        [
         "O2UAAIJ1J4UNLQ1Y",
         "known value"
        ],
        [
         "JFXQ7SYYKLLEN9GZ",
         "known value"
        ],
        [
         "HP9NEVGVAE1SJUO3",
         "known value"
        ],
        [
         "LEPZNBAX43BF3YMQ",
         "known value"
        ],
        [
         "EWC8FHTD5U94TQFB",
         "known value"
        ],
        [
         "SFL9LDE85CORFAP9",
         "known value"
        ],
        [
         "KXJFSJXOFURYX6OR",
         "known value"
        ],
        [
         "BOHC4JTAJNM7BVFY",
         "known value"
        ],
        [
         "5MFCHUWKQRFJB0F4",
         "known value"
        ],
        [
         "D8GPPOJ1AGHD4SDC",
         "known value"
        ],
        [
         "PCAVUGDJXFOFN2KG",
         "known value"
        ],
        [
         "ZUOKAQJ8BEYQUDWK",
         "known value"
        ],
        [
         "IY18IKTDJIIKUX37",
         "known value"
        ],
        [
         "U0GVWDUJYZF2XDDR",
         "known value"
        ],
        [
         "7RCPYZHQWQJ15CSV",
         "known value"
        ],
        [
         "I9A5VIA4KE7DZWIM",
         "known value"
        ]
       ],
       "datasetInfos": [],
       "dbfsResultPath": null,
       "isJsonSchema": true,
       "metadata": {},
       "overflow": false,
       "plotOptions": {
        "customPlotOptions": {},
        "displayType": "table",
        "pivotAggregation": null,
        "pivotColumns": null,
        "xColumns": null,
        "yColumns": null
       },
       "removedWidgets": [],
       "schema": [
        {
         "metadata": "{}",
         "name": "apiKey_l",
         "type": "\"string\""
        },
        {
         "metadata": "{}",
         "name": "Description",
         "type": "\"string\""
        }
       ],
       "type": "table"
      }
     },
     "output_type": "display_data"
    }
   ],
   "source": [
    "display(DF_apikey)"
   ]
  },
  {
   "cell_type": "markdown",
   "metadata": {
    "application/vnd.databricks.v1+cell": {
     "cellMetadata": {},
     "inputWidgets": {},
     "nuid": "b918e1c6-37a4-40a6-84f6-8f238d119262",
     "showTitle": false,
     "title": ""
    }
   },
   "source": [
    "### Classification of apiValues"
   ]
  },
  {
   "cell_type": "code",
   "execution_count": 0,
   "metadata": {
    "application/vnd.databricks.v1+cell": {
     "cellMetadata": {},
     "inputWidgets": {},
     "nuid": "1c325e42-d46b-4664-80e8-8036bbb0acc6",
     "showTitle": false,
     "title": ""
    }
   },
   "outputs": [
    {
     "output_type": "display_data",
     "data": {
      "text/html": [
       "<style scoped>\n",
       "  .ansiout {\n",
       "    display: block;\n",
       "    unicode-bidi: embed;\n",
       "    white-space: pre-wrap;\n",
       "    word-wrap: break-word;\n",
       "    word-break: break-all;\n",
       "    font-family: \"Source Code Pro\", \"Menlo\", monospace;;\n",
       "    font-size: 13px;\n",
       "    color: #555;\n",
       "    margin-left: 4px;\n",
       "    line-height: 19px;\n",
       "  }\n",
       "</style>\n",
       "<div class=\"ansiout\"></div>"
      ]
     },
     "metadata": {
      "application/vnd.databricks.v1+output": {
       "addedWidgets": {},
       "arguments": {},
       "data": "<div class=\"ansiout\"></div>",
       "datasetInfos": [],
       "metadata": {},
       "removedWidgets": [],
       "type": "html"
      }
     },
     "output_type": "display_data"
    }
   ],
   "source": [
    "df_red_selected_2 = df_red_selected.join(DF_apikey,df_red_selected.apikey == DF_apikey.apiKey_l,\"Left\")"
   ]
  },
  {
   "cell_type": "code",
   "execution_count": 0,
   "metadata": {
    "application/vnd.databricks.v1+cell": {
     "cellMetadata": {},
     "inputWidgets": {},
     "nuid": "bdafa698-e9e3-4115-bbcb-3906296cd519",
     "showTitle": false,
     "title": ""
    }
   },
   "outputs": [
    {
     "output_type": "display_data",
     "data": {
      "text/html": [
       "<style scoped>\n",
       "  .ansiout {\n",
       "    display: block;\n",
       "    unicode-bidi: embed;\n",
       "    white-space: pre-wrap;\n",
       "    word-wrap: break-word;\n",
       "    word-break: break-all;\n",
       "    font-family: \"Source Code Pro\", \"Menlo\", monospace;;\n",
       "    font-size: 13px;\n",
       "    color: #555;\n",
       "    margin-left: 4px;\n",
       "    line-height: 19px;\n",
       "  }\n",
       "</style>\n",
       "<div class=\"ansiout\"></div>"
      ]
     },
     "metadata": {
      "application/vnd.databricks.v1+output": {
       "addedWidgets": {},
       "arguments": {},
       "data": "<div class=\"ansiout\"></div>",
       "datasetInfos": [],
       "metadata": {},
       "removedWidgets": [],
       "type": "html"
      }
     },
     "output_type": "display_data"
    }
   ],
   "source": [
    "#display(df_red_selected_2)"
   ]
  },
  {
   "cell_type": "code",
   "execution_count": 0,
   "metadata": {
    "application/vnd.databricks.v1+cell": {
     "cellMetadata": {},
     "inputWidgets": {},
     "nuid": "d21013be-415d-4c46-b606-5b11846d7d08",
     "showTitle": false,
     "title": ""
    }
   },
   "outputs": [
    {
     "output_type": "display_data",
     "data": {
      "text/html": [
       "<style scoped>\n",
       "  .ansiout {\n",
       "    display: block;\n",
       "    unicode-bidi: embed;\n",
       "    white-space: pre-wrap;\n",
       "    word-wrap: break-word;\n",
       "    word-break: break-all;\n",
       "    font-family: \"Source Code Pro\", \"Menlo\", monospace;;\n",
       "    font-size: 13px;\n",
       "    color: #555;\n",
       "    margin-left: 4px;\n",
       "    line-height: 19px;\n",
       "  }\n",
       "</style>\n",
       "<div class=\"ansiout\"></div>"
      ]
     },
     "metadata": {
      "application/vnd.databricks.v1+output": {
       "addedWidgets": {},
       "arguments": {},
       "data": "<div class=\"ansiout\"></div>",
       "datasetInfos": [],
       "metadata": {},
       "removedWidgets": [],
       "type": "html"
      }
     },
     "output_type": "display_data"
    }
   ],
   "source": [
    "df_red_selected_2 = df_red_selected_2.withColumn('Description_apikey',when(df_red_selected_2[\"apikey\"]=='', \"empty\")\n",
    "                                               .when((df_red_selected_2[\"apikey\"]!='')&(df_red_selected_2[\"Description\"]=='known value'), \"known value\")\n",
    "                                                .otherwise('unknown'))"
   ]
  },
  {
   "cell_type": "code",
   "execution_count": 0,
   "metadata": {
    "application/vnd.databricks.v1+cell": {
     "cellMetadata": {},
     "inputWidgets": {},
     "nuid": "6f5bd69a-ad77-403d-bbd5-a8d59b820a15",
     "showTitle": false,
     "title": ""
    }
   },
   "outputs": [
    {
     "output_type": "display_data",
     "data": {
      "text/html": [
       "<style scoped>\n",
       "  .ansiout {\n",
       "    display: block;\n",
       "    unicode-bidi: embed;\n",
       "    white-space: pre-wrap;\n",
       "    word-wrap: break-word;\n",
       "    word-break: break-all;\n",
       "    font-family: \"Source Code Pro\", \"Menlo\", monospace;;\n",
       "    font-size: 13px;\n",
       "    color: #555;\n",
       "    margin-left: 4px;\n",
       "    line-height: 19px;\n",
       "  }\n",
       "</style>\n",
       "<div class=\"ansiout\"></div>"
      ]
     },
     "metadata": {
      "application/vnd.databricks.v1+output": {
       "addedWidgets": {},
       "arguments": {},
       "data": "<div class=\"ansiout\"></div>",
       "datasetInfos": [],
       "metadata": {},
       "removedWidgets": [],
       "type": "html"
      }
     },
     "output_type": "display_data"
    }
   ],
   "source": [
    "#display(df_red_selected_2.groupBy(['datetime_h','host','user','auth','token','source','method','uri','status','apikey','Description_apikey']).count())"
   ]
  },
  {
   "cell_type": "code",
   "execution_count": 0,
   "metadata": {
    "application/vnd.databricks.v1+cell": {
     "cellMetadata": {},
     "inputWidgets": {},
     "nuid": "7e1428aa-94c4-4dec-93ae-0ec124fb9fca",
     "showTitle": false,
     "title": ""
    }
   },
   "outputs": [
    {
     "output_type": "display_data",
     "data": {
      "text/html": [
       "<style scoped>\n",
       "  .ansiout {\n",
       "    display: block;\n",
       "    unicode-bidi: embed;\n",
       "    white-space: pre-wrap;\n",
       "    word-wrap: break-word;\n",
       "    word-break: break-all;\n",
       "    font-family: \"Source Code Pro\", \"Menlo\", monospace;;\n",
       "    font-size: 13px;\n",
       "    color: #555;\n",
       "    margin-left: 4px;\n",
       "    line-height: 19px;\n",
       "  }\n",
       "</style>\n",
       "<div class=\"ansiout\"></div>"
      ]
     },
     "metadata": {
      "application/vnd.databricks.v1+output": {
       "addedWidgets": {},
       "arguments": {},
       "data": "<div class=\"ansiout\"></div>",
       "datasetInfos": [],
       "metadata": {},
       "removedWidgets": [],
       "type": "html"
      }
     },
     "output_type": "display_data"
    }
   ],
   "source": [
    "df_agg =df_red_selected_2.groupBy(['datetime_h','host','user','auth','token','source','method','uri','status','apikey','Description_apikey']).count()"
   ]
  },
  {
   "cell_type": "code",
   "execution_count": 0,
   "metadata": {
    "application/vnd.databricks.v1+cell": {
     "cellMetadata": {},
     "inputWidgets": {},
     "nuid": "d2011521-64ba-48d0-8881-9b71ed73f3f6",
     "showTitle": false,
     "title": ""
    }
   },
   "outputs": [
    {
     "output_type": "display_data",
     "data": {
      "text/html": [
       "<style scoped>\n",
       "  .ansiout {\n",
       "    display: block;\n",
       "    unicode-bidi: embed;\n",
       "    white-space: pre-wrap;\n",
       "    word-wrap: break-word;\n",
       "    word-break: break-all;\n",
       "    font-family: \"Source Code Pro\", \"Menlo\", monospace;;\n",
       "    font-size: 13px;\n",
       "    color: #555;\n",
       "    margin-left: 4px;\n",
       "    line-height: 19px;\n",
       "  }\n",
       "</style>\n",
       "<div class=\"ansiout\"></div>"
      ]
     },
     "metadata": {
      "application/vnd.databricks.v1+output": {
       "addedWidgets": {},
       "arguments": {},
       "data": "<div class=\"ansiout\"></div>",
       "datasetInfos": [],
       "metadata": {},
       "removedWidgets": [],
       "type": "html"
      }
     },
     "output_type": "display_data"
    }
   ],
   "source": [
    "#display(df_red_selected_2[df_red_selected_2['Description_apikey']=='empty'])"
   ]
  },
  {
   "cell_type": "code",
   "execution_count": 0,
   "metadata": {
    "application/vnd.databricks.v1+cell": {
     "cellMetadata": {},
     "inputWidgets": {},
     "nuid": "9336c03f-2434-4066-8d33-c2b5c49973cd",
     "showTitle": false,
     "title": ""
    }
   },
   "outputs": [
    {
     "output_type": "display_data",
     "data": {
      "text/html": [
       "<style scoped>\n",
       "  .ansiout {\n",
       "    display: block;\n",
       "    unicode-bidi: embed;\n",
       "    white-space: pre-wrap;\n",
       "    word-wrap: break-word;\n",
       "    word-break: break-all;\n",
       "    font-family: \"Source Code Pro\", \"Menlo\", monospace;;\n",
       "    font-size: 13px;\n",
       "    color: #555;\n",
       "    margin-left: 4px;\n",
       "    line-height: 19px;\n",
       "  }\n",
       "</style>\n",
       "<div class=\"ansiout\"></div>"
      ]
     },
     "metadata": {
      "application/vnd.databricks.v1+output": {
       "addedWidgets": {},
       "arguments": {},
       "data": "<div class=\"ansiout\"></div>",
       "datasetInfos": [],
       "metadata": {},
       "removedWidgets": [],
       "type": "html"
      }
     },
     "output_type": "display_data"
    }
   ],
   "source": [
    "df_agg = df_agg.withColumnRenamed(\"count\",\"Call_count\")"
   ]
  },
  {
   "cell_type": "code",
   "execution_count": 0,
   "metadata": {
    "application/vnd.databricks.v1+cell": {
     "cellMetadata": {},
     "inputWidgets": {},
     "nuid": "5cf4682d-3fbe-4bd7-8a4f-0af3b1a9f2a3",
     "showTitle": false,
     "title": ""
    }
   },
   "outputs": [
    {
     "output_type": "display_data",
     "data": {
      "text/html": [
       "<style scoped>\n",
       "  .ansiout {\n",
       "    display: block;\n",
       "    unicode-bidi: embed;\n",
       "    white-space: pre-wrap;\n",
       "    word-wrap: break-word;\n",
       "    word-break: break-all;\n",
       "    font-family: \"Source Code Pro\", \"Menlo\", monospace;;\n",
       "    font-size: 13px;\n",
       "    color: #555;\n",
       "    margin-left: 4px;\n",
       "    line-height: 19px;\n",
       "  }\n",
       "</style>\n",
       "<div class=\"ansiout\"></div>"
      ]
     },
     "metadata": {
      "application/vnd.databricks.v1+output": {
       "addedWidgets": {},
       "arguments": {},
       "data": "<div class=\"ansiout\"></div>",
       "datasetInfos": [],
       "metadata": {},
       "removedWidgets": [],
       "type": "html"
      }
     },
     "output_type": "display_data"
    }
   ],
   "source": [
    "df_agg_pd = df_agg.toPandas()"
   ]
  },
  {
   "cell_type": "code",
   "execution_count": 0,
   "metadata": {
    "application/vnd.databricks.v1+cell": {
     "cellMetadata": {},
     "inputWidgets": {},
     "nuid": "1c8e3bb8-69ce-47c9-9fa8-acf4ddc5d7b2",
     "showTitle": false,
     "title": ""
    }
   },
   "outputs": [
    {
     "output_type": "display_data",
     "data": {
      "text/html": [
       "<style scoped>\n",
       "  .ansiout {\n",
       "    display: block;\n",
       "    unicode-bidi: embed;\n",
       "    white-space: pre-wrap;\n",
       "    word-wrap: break-word;\n",
       "    word-break: break-all;\n",
       "    font-family: \"Source Code Pro\", \"Menlo\", monospace;;\n",
       "    font-size: 13px;\n",
       "    color: #555;\n",
       "    margin-left: 4px;\n",
       "    line-height: 19px;\n",
       "  }\n",
       "</style>\n",
       "<div class=\"ansiout\"></div>"
      ]
     },
     "metadata": {
      "application/vnd.databricks.v1+output": {
       "addedWidgets": {},
       "arguments": {},
       "data": "<div class=\"ansiout\"></div>",
       "datasetInfos": [],
       "metadata": {},
       "removedWidgets": [],
       "type": "html"
      }
     },
     "output_type": "display_data"
    }
   ],
   "source": [
    "table = \"saas-analytics-io.processed.red_apikey_data\"\n",
    "df_agg_pd.to_gbq(table,  if_exists='append')"
   ]
  },
  {
   "cell_type": "code",
   "execution_count": 0,
   "metadata": {
    "application/vnd.databricks.v1+cell": {
     "cellMetadata": {},
     "inputWidgets": {},
     "nuid": "c061c010-0825-41fc-b17d-6d395cfac52e",
     "showTitle": false,
     "title": ""
    }
   },
   "outputs": [],
   "source": []
  }
 ],
 "metadata": {
  "application/vnd.databricks.v1+notebook": {
   "dashboards": [],
   "language": "python",
   "notebookMetadata": {
    "pythonIndentUnit": 2
   },
   "notebookName": "RED_Apikey_verification",
   "widgets": {}
  }
 },
 "nbformat": 4,
 "nbformat_minor": 0
}
